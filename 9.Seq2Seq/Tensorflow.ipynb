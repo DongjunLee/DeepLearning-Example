{
 "cells": [
  {
   "cell_type": "markdown",
   "metadata": {},
   "source": [
    "## Reference\n",
    "\n",
    "- [Simple dynamic seq2seq with TensorFlow](https://github.com/ematvey/tensorflow-seq2seq-tutorials/blob/master/1-seq2seq.ipynb)"
   ]
  },
  {
   "cell_type": "code",
   "execution_count": 1,
   "metadata": {
    "collapsed": true
   },
   "outputs": [],
   "source": [
    "import tensorflow as tf\n",
    "import numpy as np"
   ]
  },
  {
   "cell_type": "markdown",
   "metadata": {},
   "source": [
    "## Utils"
   ]
  },
  {
   "cell_type": "code",
   "execution_count": 2,
   "metadata": {
    "collapsed": true
   },
   "outputs": [],
   "source": [
    "def gen_batch(inputs, max_sequence_length=None):\n",
    "    sequence_lengths =[len(seq) for seq in inputs]\n",
    "    batch_size = len(inputs)\n",
    "    \n",
    "    if max_sequence_length is None:\n",
    "        max_sequence_length = max(sequence_lengths)\n",
    "        \n",
    "    # 0 == PAD\n",
    "    inputs_batch_major = np.zeros(shape=[batch_size, max_sequence_length], dtype=np.int32) \n",
    "    \n",
    "    for i, seq in enumerate(inputs):\n",
    "        for j, element in enumerate(seq):\n",
    "            inputs_batch_major[i, j] = element\n",
    "            \n",
    "    inputs_time_major = inputs_batch_major.swapaxes(0, 1)\n",
    "    return inputs_time_major, sequence_lengths"
   ]
  },
  {
   "cell_type": "markdown",
   "metadata": {},
   "source": [
    "## Vocabulary"
   ]
  },
  {
   "cell_type": "code",
   "execution_count": 3,
   "metadata": {
    "collapsed": false
   },
   "outputs": [
    {
     "data": {
      "text/plain": [
       "array([[5, 6, 3, 1],\n",
       "       [7, 3, 0, 0],\n",
       "       [8, 0, 0, 0]], dtype=int32)"
      ]
     },
     "execution_count": 3,
     "metadata": {},
     "output_type": "execute_result"
    }
   ],
   "source": [
    "x = [\n",
    "    [5, 7, 8],\n",
    "    [6, 3],\n",
    "    [3],\n",
    "    [1]\n",
    "]\n",
    "\n",
    "xt, xlen = gen_batch(x)\n",
    "xt"
   ]
  },
  {
   "cell_type": "code",
   "execution_count": 4,
   "metadata": {
    "collapsed": false
   },
   "outputs": [
    {
     "data": {
      "text/plain": [
       "[3, 2, 1, 1]"
      ]
     },
     "execution_count": 4,
     "metadata": {},
     "output_type": "execute_result"
    }
   ],
   "source": [
    "xlen"
   ]
  },
  {
   "cell_type": "markdown",
   "metadata": {},
   "source": [
    "## Building a model - Simple Seq2Seq"
   ]
  },
  {
   "cell_type": "code",
   "execution_count": 5,
   "metadata": {
    "collapsed": true
   },
   "outputs": [],
   "source": [
    "tf.reset_default_graph()\n",
    "sess = tf.InteractiveSession()"
   ]
  },
  {
   "cell_type": "code",
   "execution_count": 6,
   "metadata": {
    "collapsed": true
   },
   "outputs": [],
   "source": [
    "# Model inputs and outputs\n",
    "\n",
    "PAD = 0\n",
    "EOS = 1\n",
    "\n",
    "vocab_size = 10\n",
    "input_embedding_size = 20\n",
    "\n",
    "encoder_hidden_units = 20\n",
    "decoder_hidden_utits = encoder_hidden_units"
   ]
  },
  {
   "cell_type": "code",
   "execution_count": 7,
   "metadata": {
    "collapsed": true
   },
   "outputs": [],
   "source": [
    "encoder_inputs = tf.placeholder(shape=(None, None), dtype=tf.int32, name='encoder_inputs')\n",
    "decoder_targets = tf.placeholder(shape=(None, None), dtype=tf.int32, name='decoder_targets')\n",
    "decoder_inputs = tf.placeholder(shape=(None, None), dtype=tf.int32, name='decoder_inputs')"
   ]
  },
  {
   "cell_type": "code",
   "execution_count": 8,
   "metadata": {
    "collapsed": true
   },
   "outputs": [],
   "source": [
    "# Embeddings\n",
    "\n",
    "embeddings = tf.Variable(tf.random_uniform([vocab_size, input_embedding_size], -1.0, 1.0),\n",
    "                         dtype=tf.float32)\n",
    "\n",
    "encoder_inputs_embedded = tf.nn.embedding_lookup(embeddings, encoder_inputs)\n",
    "decoder_inputs_embedded = tf.nn.embedding_lookup(embeddings, decoder_inputs)"
   ]
  },
  {
   "cell_type": "code",
   "execution_count": 9,
   "metadata": {
    "collapsed": true
   },
   "outputs": [],
   "source": [
    "# Encoder\n",
    "\n",
    "encoder_cell = tf.contrib.rnn.LSTMCell(encoder_hidden_units)\n",
    "\n",
    "encoder_outputs, encoder_final_state = tf.nn.dynamic_rnn(\n",
    "    encoder_cell, encoder_inputs_embedded, dtype=tf.float32, time_major=True\n",
    ")\n",
    "\n",
    "del encoder_outputs  # seq2seq do not need this."
   ]
  },
  {
   "cell_type": "code",
   "execution_count": 10,
   "metadata": {
    "collapsed": false
   },
   "outputs": [
    {
     "data": {
      "text/plain": [
       "LSTMStateTuple(c=<tf.Tensor 'rnn/while/Exit_2:0' shape=(?, 20) dtype=float32>, h=<tf.Tensor 'rnn/while/Exit_3:0' shape=(?, 20) dtype=float32>)"
      ]
     },
     "execution_count": 10,
     "metadata": {},
     "output_type": "execute_result"
    }
   ],
   "source": [
    "encoder_final_state"
   ]
  },
  {
   "cell_type": "code",
   "execution_count": 11,
   "metadata": {
    "collapsed": false
   },
   "outputs": [
    {
     "data": {
      "text/plain": [
       "<tf.Tensor 'fully_connected/Reshape_1:0' shape=(?, ?, 10) dtype=float32>"
      ]
     },
     "execution_count": 11,
     "metadata": {},
     "output_type": "execute_result"
    }
   ],
   "source": [
    "# Decoder\n",
    "\n",
    "decoder_cell = tf.contrib.rnn.LSTMCell(decoder_hidden_utits)\n",
    "\n",
    "decoder_outputs, decoder_final_state = tf.nn.dynamic_rnn(\n",
    "    decoder_cell, decoder_inputs_embedded, initial_state=encoder_final_state,\n",
    "    dtype=tf.float32, time_major=True, scope=\"plain_decoder\"\n",
    ")\n",
    "\n",
    "decoder_logits = tf.contrib.layers.linear(decoder_outputs, vocab_size)\n",
    "decoder_prediction = tf.argmax(decoder_logits, 2)\n",
    "\n",
    "decoder_logits"
   ]
  },
  {
   "cell_type": "code",
   "execution_count": 12,
   "metadata": {
    "collapsed": true
   },
   "outputs": [],
   "source": [
    "# Optimizer\n",
    "\n",
    "stepwise_cross_entropy = tf.nn.softmax_cross_entropy_with_logits(\n",
    "    labels=tf.one_hot(decoder_targets, depth=vocab_size, dtype=tf.float32),\n",
    "    logits=decoder_logits\n",
    ")\n",
    "\n",
    "loss = tf.reduce_mean(stepwise_cross_entropy)\n",
    "train_op = tf.train.AdamOptimizer().minimize(loss)\n",
    "\n",
    "sess.run(tf.global_variables_initializer())"
   ]
  },
  {
   "cell_type": "code",
   "execution_count": 13,
   "metadata": {
    "collapsed": false
   },
   "outputs": [
    {
     "name": "stdout",
     "output_type": "stream",
     "text": [
      "batch_encoded:\n",
      "[[6 3 9]\n",
      " [0 4 8]\n",
      " [0 0 7]]\n",
      "decoder inputs:\n",
      "[[1 1 1]\n",
      " [0 0 0]\n",
      " [0 0 0]\n",
      " [0 0 0]]\n",
      "decoder predictions:\n",
      "[[1 9 5]\n",
      " [6 6 6]\n",
      " [6 6 6]\n",
      " [6 6 6]]\n"
     ]
    }
   ],
   "source": [
    "# Test forward pass\n",
    "\n",
    "batch_ = [[6], [3, 4], [9, 8, 7]]\n",
    "\n",
    "batch_, batch_length_ = gen_batch(batch_)\n",
    "print('batch_encoded:\\n' + str(batch_))\n",
    "\n",
    "din_, dlen_ = gen_batch(np.ones(shape=(3, 1), dtype=np.int32),max_sequence_length=4)\n",
    "print('decoder inputs:\\n' + str(din_))\n",
    "\n",
    "pred_ = sess.run(decoder_prediction,\n",
    "    feed_dict={\n",
    "        encoder_inputs: batch_,\n",
    "        decoder_inputs: din_,\n",
    "    })\n",
    "print('decoder predictions:\\n' + str(pred_))"
   ]
  },
  {
   "cell_type": "code",
   "execution_count": 14,
   "metadata": {
    "collapsed": false
   },
   "outputs": [
    {
     "name": "stdout",
     "output_type": "stream",
     "text": [
      "head of the batch:\n",
      "[6, 2, 5, 5, 6, 4, 9]\n",
      "[3, 4, 2, 6]\n",
      "[7, 3, 9, 4, 4, 3, 8, 7]\n",
      "[6, 4, 8, 4, 4, 6]\n",
      "[9, 4, 7, 3, 7, 2, 8, 2]\n",
      "[4, 9, 8, 4, 2, 4]\n",
      "[8, 5, 4, 9, 9, 3]\n",
      "[6, 4, 5]\n",
      "[5, 4, 8, 7, 9]\n",
      "[3, 2, 8, 4]\n"
     ]
    }
   ],
   "source": [
    "# Training on the toy task\n",
    "\n",
    "# We will teach our model to memorize and reproduce input sequence. \n",
    "# Sequences will be random, with varying length.\n",
    "\n",
    "batch_size = 100\n",
    "\n",
    "def random_sequences(length_from, length_to, vocab_lower, vocab_upper, batch_size):\n",
    "    if length_from > length_to:\n",
    "        raise ValueError('length_from > length_to')\n",
    "        \n",
    "    def random_length():\n",
    "        if length_from == length_to:\n",
    "            return length_from\n",
    "        return np.random.randint(length_from, length_to+1)\n",
    "\n",
    "    while True:\n",
    "        yield [\n",
    "            np.random.randint(low=vocab_lower, high=vocab_upper, size=random_length()).tolist()\n",
    "            for _ in range(batch_size)\n",
    "        ]\n",
    "        \n",
    "batches = random_sequences(3, 8, 2, 10, batch_size)\n",
    "\n",
    "print('head of the batch:')\n",
    "for seq in next(batches)[:10]:\n",
    "    print(seq)"
   ]
  },
  {
   "cell_type": "code",
   "execution_count": 15,
   "metadata": {
    "collapsed": true
   },
   "outputs": [],
   "source": [
    "def next_feed():\n",
    "    batch = next(batches)\n",
    "    encoder_inputs_, _ = gen_batch(batch)\n",
    "    decoder_targets_, _ = gen_batch([(sequence) + [EOS] for sequence in batch])\n",
    "    decoder_inputs_, _ = gen_batch([[EOS] + (sequence) for sequence in batch])\n",
    "    \n",
    "    return {\n",
    "        encoder_inputs: encoder_inputs_,\n",
    "        decoder_targets: decoder_targets_,\n",
    "        decoder_inputs: decoder_inputs_\n",
    "    }"
   ]
  },
  {
   "cell_type": "code",
   "execution_count": 16,
   "metadata": {
    "collapsed": false
   },
   "outputs": [
    {
     "name": "stdout",
     "output_type": "stream",
     "text": [
      "batch 0\n",
      "  minibatch loss: 2.2975735664367676\n",
      "  sample 1:\n",
      "    input     > [4 2 3 8 4 0 0 0]\n",
      "    predicted > [9 0 0 5 0 0 6 6 6]\n",
      "  sample 2:\n",
      "    input     > [9 9 4 0 0 0 0 0]\n",
      "    predicted > [4 0 3 7 6 6 6 6 6]\n",
      "  sample 3:\n",
      "    input     > [9 2 2 7 0 0 0 0]\n",
      "    predicted > [4 0 3 3 9 0 6 6 6]\n",
      "--------------------------\n",
      "batch 1000\n",
      "  minibatch loss: 0.30719828605651855\n",
      "  sample 1:\n",
      "    input     > [2 9 9 7 9 0 0 0]\n",
      "    predicted > [9 9 9 7 9 1 0 0 0]\n",
      "  sample 2:\n",
      "    input     > [7 8 4 0 0 0 0 0]\n",
      "    predicted > [7 8 4 1 0 0 0 0 0]\n",
      "  sample 3:\n",
      "    input     > [8 4 6 0 0 0 0 0]\n",
      "    predicted > [8 4 6 1 0 0 0 0 0]\n",
      "--------------------------\n",
      "batch 2000\n",
      "  minibatch loss: 0.13718031346797943\n",
      "  sample 1:\n",
      "    input     > [3 2 5 9 6 8 9 0]\n",
      "    predicted > [3 2 5 9 6 8 9 1 0]\n",
      "  sample 2:\n",
      "    input     > [4 5 2 6 3 4 0 0]\n",
      "    predicted > [4 5 2 6 3 4 1 0 0]\n",
      "  sample 3:\n",
      "    input     > [8 3 9 4 0 0 0 0]\n",
      "    predicted > [8 3 9 4 1 0 0 0 0]\n",
      "--------------------------\n",
      "batch 3000\n",
      "  minibatch loss: 0.08869092911481857\n",
      "  sample 1:\n",
      "    input     > [5 7 9 9 7 8 5 2]\n",
      "    predicted > [5 7 9 9 7 8 5 2 1]\n",
      "  sample 2:\n",
      "    input     > [2 6 2 2 2 7 2 5]\n",
      "    predicted > [2 2 2 2 2 7 5 5 1]\n",
      "  sample 3:\n",
      "    input     > [6 3 6 5 3 8 6 9]\n",
      "    predicted > [6 3 6 5 3 8 6 9 1]\n",
      "--------------------------\n"
     ]
    }
   ],
   "source": [
    "loss_track = []\n",
    "\n",
    "max_batches = 3001\n",
    "batches_in_epoch = 1000\n",
    "\n",
    "for batch in range(max_batches):\n",
    "    fd = next_feed()\n",
    "    _, l = sess.run([train_op, loss], fd)\n",
    "    loss_track.append(l)\n",
    "    \n",
    "    # Verbose\n",
    "    if batch == 0 or batch % batches_in_epoch == 0:\n",
    "        print('batch {}'.format(batch))\n",
    "        print('  minibatch loss: {}'.format(sess.run(loss, fd)))\n",
    "        predict_ = sess.run(decoder_prediction, fd)\n",
    "        for i, (inp, pred) in enumerate(zip(fd[encoder_inputs].T, predict_.T)):\n",
    "            print('  sample {}:'.format(i + 1))\n",
    "            print('    input     > {}'.format(inp))\n",
    "            print('    predicted > {}'.format(pred))\n",
    "            if i >= 2:\n",
    "                break\n",
    "        print('--------------------------')"
   ]
  },
  {
   "cell_type": "code",
   "execution_count": 17,
   "metadata": {
    "collapsed": false
   },
   "outputs": [
    {
     "name": "stdout",
     "output_type": "stream",
     "text": [
      "loss 0.0971 after 300100 examples (batch_size=100)\n"
     ]
    },
    {
     "data": {
      "image/png": "[encoded data removed]",
      "text/plain": [
       "<matplotlib.figure.Figure at 0x111a9a0b8>"
      ]
     },
     "metadata": {},
     "output_type": "display_data"
    }
   ],
   "source": [
    "import matplotlib.pyplot as plt\n",
    "%matplotlib inline\n",
    "import seaborn; seaborn.set()\n",
    "\n",
    "plt.plot(loss_track)\n",
    "print('loss {:.4f} after {} examples (batch_size={})'.format(loss_track[-1], len(loss_track)*batch_size, batch_size))"
   ]
  }
 ],
 "metadata": {
  "kernelspec": {
   "display_name": "Python 3.5",
   "language": "python",
   "name": "python3.5"
  },
  "language_info": {
   "codemirror_mode": {
    "name": "ipython",
    "version": 3
   },
   "file_extension": ".py",
   "mimetype": "text/x-python",
   "name": "python",
   "nbconvert_exporter": "python",
   "pygments_lexer": "ipython3",
   "version": "3.5.2"
  }
 },
 "nbformat": 4,
 "nbformat_minor": 0
}
