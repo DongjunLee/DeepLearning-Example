{
 "cells": [
  {
   "cell_type": "markdown",
   "metadata": {},
   "source": [
    "### Reference.\n",
    "Torch-Demos : [digit classifier](https://github.com/torch/demos/blob/master/train-a-digit-classifier/train-on-mnist.lua)"
   ]
  },
  {
   "cell_type": "code",
   "execution_count": 1,
   "metadata": {
    "collapsed": false
   },
   "outputs": [],
   "source": [
    "require 'torch'\n",
    "require 'nn'\n",
    "require 'optim'\n",
    "require 'image'\n",
    "require 'dataset-mnist'"
   ]
  },
  {
   "cell_type": "code",
   "execution_count": 2,
   "metadata": {
    "collapsed": false,
    "scrolled": true
   },
   "outputs": [
    {
     "data": {
      "text/plain": [
       "<torch> set nb of threads to 1\t\n"
      ]
     },
     "execution_count": 2,
     "metadata": {},
     "output_type": "execute_result"
    }
   ],
   "source": [
    "-- Setting Hyperparameters\n",
    "batchSize = 50\n",
    "learningRate = 0.05\n",
    "momentum = 0\n",
    "numIter = 20\n",
    "\n",
    "-- Fix Seed\n",
    "torch.manualSeed(1)\n",
    "\n",
    "-- Setting worker\n",
    "torch.setnumthreads(2)\n",
    "print('<torch> set nb of threads to ' .. torch.getnumthreads())\n",
    "\n",
    "-- Use Floats\n",
    "torch.setdefaulttensortype('torch.FloatTensor')"
   ]
  },
  {
   "cell_type": "code",
   "execution_count": 3,
   "metadata": {
    "collapsed": true
   },
   "outputs": [],
   "source": [
    "-- Define model to Train\n",
    "-- On the 10-class Classification Problem\n",
    "-- Geometry : width and height of input images\n",
    "\n",
    "classes = {'1', '2' ,'3' ,'4' ,'5' ,'6' ,'7' ,'8' ,'9', '10'}\n",
    "geometry = {32, 32}"
   ]
  },
  {
   "cell_type": "code",
   "execution_count": 4,
   "metadata": {
    "collapsed": false
   },
   "outputs": [
    {
     "data": {
      "text/plain": [
       "<mnist> done\t\n"
      ]
     },
     "execution_count": 4,
     "metadata": {},
     "output_type": "execute_result"
    },
    {
     "data": {
      "text/plain": [
       "<mnist> done\t\n"
      ]
     },
     "execution_count": 4,
     "metadata": {},
     "output_type": "execute_result"
    }
   ],
   "source": [
    "numTrain = 60000\n",
    "numTest = 10000\n",
    "\n",
    "-- Create training set and normalize\n",
    "trainData = mnist.loadTrainSet(numTrain, geometry)\n",
    "trainData:normalizeGlobal(mean, std)\n",
    "\n",
    "-- Create test set and normalize\n",
    "testData = mnist.loadTestSet(numTest, geometry)\n",
    "testData:normalizeGlobal(mean, std)"
   ]
  },
  {
   "cell_type": "code",
   "execution_count": 5,
   "metadata": {
    "collapsed": false
   },
   "outputs": [
    {
     "data": {
      "text/plain": [
       "{\n",
       "  data : FloatTensor - size: 60000x1x32x32\n",
       "  normalize : function: 0x0ce96930\n",
       "  labels : ByteTensor - size: 60000\n",
       "  normalizeGlobal : function: 0x0ce968f8\n",
       "  size : function: 0x0ce969d8\n",
       "}\n",
       "{\n",
       "  data : FloatTensor - size: 10000x1x32x32\n",
       "  normalize : function: 0x0ce977c0\n",
       "  labels : ByteTensor - size: 10000\n",
       "  normalizeGlobal : function: 0x0ce97788\n",
       "  size : function: 0x0ce97868\n",
       "}\n"
      ]
     },
     "execution_count": 5,
     "metadata": {},
     "output_type": "execute_result"
    }
   ],
   "source": [
    "print(trainData)\n",
    "print(testData)"
   ]
  },
  {
   "cell_type": "code",
   "execution_count": 6,
   "metadata": {
    "collapsed": true
   },
   "outputs": [],
   "source": [
    "-- 2 Layer Neural Network\n",
    "model = nn.Sequential()\n",
    "\n",
    "model:add(nn.Reshape(32*32))\n",
    "model:add(nn.Linear(32*32, 2048))\n",
    "model:add(nn.Tanh())\n",
    "model:add(nn.Linear(2048, #classes))\n",
    "model:add(nn.LogSoftMax())\n",
    "\n",
    "criterion = nn.ClassNLLCriterion()"
   ]
  },
  {
   "cell_type": "code",
   "execution_count": 7,
   "metadata": {
    "collapsed": false
   },
   "outputs": [],
   "source": [
    "-- Retrieve parameters and gradients\n",
    "parameters, gradParameters = model:getParameters()\n",
    "\n",
    "confusion = optim.ConfusionMatrix(classes)\n",
    "trainHistory = {}\n",
    "testHistory = {}"
   ]
  },
  {
   "cell_type": "code",
   "execution_count": 8,
   "metadata": {
    "collapsed": true
   },
   "outputs": [],
   "source": [
    "-- Train function\n",
    "function train(dataset)\n",
    "    -- epoch tracker\n",
    "    epoch = epoch or 1\n",
    "\n",
    "    -- local vars\n",
    "    local time = sys.clock()\n",
    "\n",
    "    -- do one epoch\n",
    "    print('<trainer> on training set:')\n",
    "    print(\"<trainer> online epoch # \" .. epoch .. ' [batchSize = ' .. batchSize .. ']')\n",
    "    for t = 1, numTrain, batchSize do\n",
    "        -- create mini batch\n",
    "        local inputs = torch.Tensor(batchSize,1,geometry[1],geometry[2])\n",
    "        local targets = torch.Tensor(batchSize)\n",
    "        local k = 1\n",
    "        for i = t, math.min(t+batchSize-1, numTrain) do\n",
    "            -- load new sample\n",
    "            local sample = dataset[i]\n",
    "            local input = sample[1]:clone()\n",
    "            local _,target = sample[2]:clone():max(1)\n",
    "            target = target:squeeze()\n",
    "            inputs[k] = input\n",
    "            targets[k] = target\n",
    "            k = k + 1\n",
    "        end\n",
    "\n",
    "        -- create closure to evaluate f(X) and df/dX\n",
    "        local feval = function(x)\n",
    "            -- just in case:\n",
    "            collectgarbage()\n",
    "\n",
    "            -- get new parameters\n",
    "            if x ~= parameters then\n",
    "                parameters:copy(x)\n",
    "            end\n",
    "\n",
    "            -- reset gradients\n",
    "            gradParameters:zero()\n",
    "\n",
    "            -- evaluate function for complete mini batch\n",
    "            local outputs = model:forward(inputs)\n",
    "            local f = criterion:forward(outputs, targets)\n",
    "\n",
    "            -- estimate df/dW\n",
    "            local df_do = criterion:backward(outputs, targets)\n",
    "            model:backward(inputs, df_do)\n",
    "\n",
    "            -- update confusion\n",
    "            for i = 1,batchSize do\n",
    "                confusion:add(outputs[i], targets[i])\n",
    "            end\n",
    "\n",
    "            -- return f and df/dX\n",
    "            return f,gradParameters\n",
    "        end\n",
    "\n",
    "        -- Perform SGD step:\n",
    "        sgdState = sgdState or {\n",
    "            learningRate = learningRate,\n",
    "            momentum = momentum,\n",
    "            learningRateDecay = 5e-7\n",
    "        }\n",
    "        optim.sgd(feval, parameters, sgdState)\n",
    "\n",
    "        -- disp progress\n",
    "        xlua.progress(t, numTrain)\n",
    "    end\n",
    "   \n",
    "    -- time taken\n",
    "    time = sys.clock() - time\n",
    "    time = time / numTrain\n",
    "    print(\"<trainer> time to learn 1 sample = \" .. (time*1000) .. 'ms')\n",
    "\n",
    "    -- print confusion matrix\n",
    "    print(confusion)\n",
    "    table.insert(trainHistory, confusion.totalValid * 100)\n",
    "    confusion:zero()\n",
    "\n",
    "    -- next epoch\n",
    "    epoch = epoch + 1\n",
    "end"
   ]
  },
  {
   "cell_type": "code",
   "execution_count": 9,
   "metadata": {
    "collapsed": true
   },
   "outputs": [],
   "source": [
    "-- test function\n",
    "function test(dataset)\n",
    "    -- local vars\n",
    "    local time = sys.clock()\n",
    "\n",
    "    -- test over given dataset\n",
    "    print('<trainer> on testing Set:')\n",
    "    for t = 1, dataset:size(), batchSize do\n",
    "        -- disp progress\n",
    "        xlua.progress(t, dataset:size())\n",
    "\n",
    "        -- create mini batch\n",
    "        local inputs = torch.Tensor(batchSize, 1, geometry[1], geometry[2])\n",
    "        local targets = torch.Tensor(batchSize)\n",
    "        local k = 1\n",
    "        for i = t,math.min(t+batchSize-1, dataset:size()) do\n",
    "            -- load new sample\n",
    "            local sample = dataset[i]\n",
    "            local input = sample[1]:clone()\n",
    "            local _,target = sample[2]:clone():max(1)\n",
    "            target = target:squeeze()\n",
    "            inputs[k] = input\n",
    "            targets[k] = target\n",
    "            k = k + 1\n",
    "        end\n",
    "\n",
    "        -- test samples\n",
    "        local preds = model:forward(inputs)\n",
    "\n",
    "        -- confusion:\n",
    "        for i = 1, batchSize do\n",
    "            confusion:add(preds[i], targets[i])\n",
    "        end\n",
    "    end\n",
    "\n",
    "    -- timing\n",
    "    time = sys.clock() - time\n",
    "    time = time / dataset:size()\n",
    "    print(\"<trainer> time to test 1 sample = \" .. (time*1000) .. 'ms')\n",
    "\n",
    "    -- print confusion matrix\n",
    "    print(confusion)\n",
    "    table.insert(testHistory, confusion.totalValid * 100)\n",
    "    confusion:zero()\n",
    "end"
   ]
  },
  {
   "cell_type": "code",
   "execution_count": null,
   "metadata": {
    "collapsed": false
   },
   "outputs": [
    {
     "data": {
      "text/plain": [
       "<trainer> on training set:\t\n",
       "<trainer> online epoch # 1 [batchSize = 50]\t\n"
      ]
     },
     "execution_count": 10,
     "metadata": {},
     "output_type": "execute_result"
    },
    {
     "data": {
      "text/plain": [
       "Progress: 23901 / 60000\t\n"
      ]
     },
     "execution_count": 10,
     "metadata": {},
     "output_type": "execute_result"
    },
    {
     "data": {
      "text/plain": [
       "Progress: 50451 / 60000\t\n"
      ]
     },
     "execution_count": 10,
     "metadata": {},
     "output_type": "execute_result"
    },
    {
     "data": {
      "text/plain": [
       "<trainer> time to learn 1 sample = 0.21535853147507ms\t\n",
       "ConfusionMatrix:\n",
       "[[    5679       1      38      25      13      60      44       4      49      10]   95.880% \t[class: 1]\n",
       " [       1    6508      39      32       7      33       7      15      85      15]   96.529% \t[class: 2]\n",
       " [      49      71    5291      98      90      35      90      87     121      26]   88.805% \t[class: 3]\n",
       " [      32      39     127    5408       6     219      39      72     124      65]   88.207% \t[class: 4]\n",
       " [      13      30      45       8    5375       7      63      18      33     250]   92.006% \t[class: 5]\n",
       " [      71      42      33     216      72    4650     108      29     137      63]   85.778% \t[class: 6]\n",
       " [      51      27      64       5      65      78    5584       3      39       2]   94.356% \t[class: 7]\n",
       " [      30      56      84      24      68      11       8    5780      13     191]   92.259% \t[class: 8]\n",
       " [      33     118      88     166      33     170      49      22    5073      99]   86.703% \t[class: 9]\n",
       " [      37      40      21      94     209      37      12     206      56    5237]]  88.032% \t[class: 10]\n",
       " + average row correct: 90.855533480644% \n",
       " + average rowUcol correct (VOC measure): 83.388709425926% \n",
       " + global correct: 90.975%\n",
       "{\n",
       "  valids : FloatTensor - size: 10\n",
       "  mat : LongTensor - size: 10x10\n",
       "  averageUnionValid : 0.83388709425926\n",
       "  _targ_idx : LongTensor - empty\n",
       "  averageValid : 0.90855533480644\n",
       "  classes : \n",
       "    {\n",
       "      1 : 1\n",
       "      2 : 2\n",
       "      3 : 3\n",
       "      4 : 4\n",
       "      5 : 5\n",
       "      6 : 6\n",
       "      7 : 7\n",
       "      8 : 8\n",
       "      9 : 9\n",
       "      10 : 10\n",
       "    }\n",
       "  _prediction : FloatTensor - size: 10\n",
       "  _pred_idx : LongTensor - size: 1\n",
       "  nclasses : 10\n",
       "  _max : FloatTensor - size: 1\n",
       "  _target : FloatTensor - empty\n",
       "  unionvalids : FloatTensor - size: 10\n",
       "  totalValid : 0.90975\n",
       "}\n",
       "<trainer> on testing Set:\t\n"
      ]
     },
     "execution_count": 10,
     "metadata": {},
     "output_type": "execute_result"
    },
    {
     "data": {
      "text/plain": [
       "<trainer> time to test 1 sample = 0.086409401893616ms\t\n",
       "ConfusionMatrix:\n",
       "[[     971       0       1       1       0       3       2       1       1       0]   99.082% \t[class: 1]\n",
       " [       0    1121       2       2       1       1       3       2       3       0]   98.767% \t[class: 2]\n",
       " [      11      25     901      40      11       3      10       6      18       7]   87.306% \t[class: 3]\n",
       " [       5       3      12     925       1      34       1      10       5      14]   91.584% \t[class: 4]\n",
       " [       2       2       3       1     928       0       8       0       4      34]   94.501% \t[class: 5]\n",
       " [      10       3       3      13       9     826       5       4      13       6]   92.601% \t[class: 6]\n",
       " [      17       3       5       2       9      27     892       1       2       0]   93.111% \t[class: 7]\n",
       " [       3      17      20       9      12       2       0     902       3      60]   87.743% \t[class: 8]\n",
       " [      10      20       3      36      12      31       6       4     836      16]   85.832% \t[class: 9]\n",
       " [      13       9       1       7      21       4       0       5       4     945]]  93.657% \t[class: 10]\n",
       " + average row correct: 92.418297529221% \n",
       " + average rowUcol correct (VOC measure): 85.955429077148% \n",
       " + global correct: 92.47%\n",
       "{\n",
       "  valids : FloatTensor - size: 10\n",
       "  mat : LongTensor - size: 10x10\n",
       "  averageUnionValid : 0.85955429077148\n",
       "  _targ_idx : LongTensor - empty\n",
       "  averageValid : 0.92418297529221\n",
       "  classes : \n",
       "    {\n",
       "      1 : 1\n",
       "      2 : 2\n",
       "      3 : 3\n",
       "      4 : 4\n",
       "      5 : 5\n",
       "      6 : 6\n",
       "      7 : 7\n",
       "      8 : 8\n",
       "      9 : 9\n",
       "      10 : 10\n",
       "    }\n",
       "  _prediction : FloatTensor - size: 10\n",
       "  _pred_idx : LongTensor - size: 1\n",
       "  nclasses : 10\n",
       "  _max : FloatTensor - size: 1\n",
       "  _target : FloatTensor - empty\n",
       "  unionvalids : FloatTensor - size: 10\n",
       "  totalValid : 0.9247\n",
       "}\n",
       "<trainer> on training set:\t\n",
       "<trainer> online epoch # 2 [batchSize = 50]\t\n"
      ]
     },
     "execution_count": 10,
     "metadata": {},
     "output_type": "execute_result"
    },
    {
     "data": {
      "text/plain": [
       "Progress: 13151 / 60000\t\n"
      ]
     },
     "execution_count": 10,
     "metadata": {},
     "output_type": "execute_result"
    },
    {
     "data": {
      "text/plain": [
       "Progress: 38901 / 60000\t\n"
      ]
     },
     "execution_count": 10,
     "metadata": {},
     "output_type": "execute_result"
    },
    {
     "data": {
      "text/plain": [
       "<trainer> time to learn 1 sample = 0.22026749849319ms\t\n",
       "ConfusionMatrix:\n",
       "[[    5768       1      11      13       9      30      35       5      35      16]   97.383% \t[class: 1]\n",
       " [       1    6598      31      22       9      15       3      10      40      13]   97.864% \t[class: 2]\n",
       " [      20      34    5583      64      53      15      46      59      70      14]   93.706% \t[class: 3]\n",
       " [       7      22      93    5666       5     127      21      53      96      41]   92.416% \t[class: 4]\n",
       " [      11      19      34       4    5513       8      48      13      20     172]   94.368% \t[class: 5]\n",
       " [      35      17      22     115      37    5020      66      12      57      40]   92.603% \t[class: 6]\n",
       " [      34      13      33       5      40      56    5711       2      24       0]   96.502% \t[class: 7]\n",
       " [      13      31      58      18      52      11       2    5965      11     104]   95.211% \t[class: 8]\n",
       " [      22      63      34     102      25      84      30      16    5426      49]   92.736% \t[class: 9]\n",
       " [      26      21      10      63     141      26       2     122      43    5495]]  92.368% \t[class: 10]\n",
       " + average row correct: 94.515840411186% \n",
       " + average rowUcol correct (VOC measure): 89.661086797714% \n",
       " + global correct: 94.575%\n",
       "{\n",
       "  valids : FloatTensor - size: 10\n",
       "  mat : LongTensor - size: 10x10\n",
       "  averageUnionValid : 0.89661086797714\n",
       "  _targ_idx : LongTensor - empty\n",
       "  averageValid : 0.94515840411186\n",
       "  classes : \n",
       "    {\n",
       "      1 : 1\n",
       "      2 : 2\n",
       "      3 : 3\n",
       "      4 : 4\n",
       "      5 : 5\n",
       "      6 : 6\n",
       "      7 : 7\n",
       "      8 : 8\n",
       "      9 : 9\n",
       "      10 : 10\n",
       "    }\n",
       "  _prediction : FloatTensor - size: 10\n",
       "  _pred_idx : LongTensor - size: 1\n",
       "  nclasses : 10\n",
       "  _max : FloatTensor - size: 1\n",
       "  _target : FloatTensor - empty\n",
       "  unionvalids : FloatTensor - size: 10\n",
       "  totalValid : 0.94575\n",
       "}\n",
       "<trainer> on testing Set:\t\n"
      ]
     },
     "execution_count": 10,
     "metadata": {},
     "output_type": "execute_result"
    },
    {
     "data": {
      "text/plain": [
       "<trainer> time to test 1 sample = 0.080104398727417ms\t\n"
      ]
     },
     "execution_count": 10,
     "metadata": {},
     "output_type": "execute_result"
    },
    {
     "data": {
      "text/plain": [
       "ConfusionMatrix:\n",
       "[[     970       0       1       1       0       4       2       1       1       0]   98.980% \t[class: 1]\n",
       " [       0    1123       2       1       1       1       3       1       3       0]   98.943% \t[class: 2]\n",
       " [       8      13     966      15       6       1       6       4      11       2]   93.605% \t[class: 3]\n",
       " [       3       2       8     954       1      22       0       7       4       9]   94.455% \t[class: 4]\n",
       " [       1       0       4       1     946       0       7       0       3      20]   96.334% \t[class: 5]\n",
       " [       8       2       2       7       3     851       6       0       8       5]   95.404% \t[class: 6]\n",
       " [      11       3       4       0       6      30     899       1       4       0]   93.841% \t[class: 7]\n",
       " [       2      14      19       7       9       2       0     931       4      40]   90.564% \t[class: 8]\n",
       " [       4       6       4      20      10      15       3       4     900       8]   92.402% \t[class: 9]\n",
       " [       9       8       1       7      20       4       0       5       3     952]]  94.351% \t[class: 10]\n",
       " + average row correct: 94.887887239456% \n",
       " + average rowUcol correct (VOC measure): 90.280535817146% \n",
       " + global correct: 94.92%\n",
       "{\n",
       "  valids : FloatTensor - size: 10\n",
       "  mat : LongTensor - size: 10x10\n",
       "  averageUnionValid : 0.90280535817146\n",
       "  _targ_idx : LongTensor - empty\n",
       "  averageValid : 0.94887887239456\n",
       "  classes : \n",
       "    {\n",
       "      1 : 1\n",
       "      2 : 2\n",
       "      3 : 3\n",
       "      4 : 4\n",
       "      5 : 5\n",
       "      6 : 6\n",
       "      7 : 7\n",
       "      8 : 8\n",
       "      9 : 9\n",
       "      10 : 10\n",
       "    }\n",
       "  _prediction : FloatTensor - size: 10\n",
       "  _pred_idx : LongTensor - size: 1\n",
       "  nclasses : 10\n",
       "  _max : FloatTensor - size: 1\n",
       "  _target : FloatTensor - empty\n",
       "  unionvalids : FloatTensor - size: 10\n",
       "  totalValid : 0.9492\n",
       "}\n",
       "<trainer> on training set:\t\n",
       "<trainer> online epoch # 3 [batchSize = 50]\t\n"
      ]
     },
     "execution_count": 10,
     "metadata": {},
     "output_type": "execute_result"
    },
    {
     "data": {
      "text/plain": [
       "Progress: 2151 / 60000\t\n"
      ]
     },
     "execution_count": 10,
     "metadata": {},
     "output_type": "execute_result"
    },
    {
     "data": {
      "text/plain": [
       "Progress: 28701 / 60000\t\n"
      ]
     },
     "execution_count": 10,
     "metadata": {},
     "output_type": "execute_result"
    },
    {
     "data": {
      "text/plain": [
       "Progress: 56301 / 60000\t\n"
      ]
     },
     "execution_count": 10,
     "metadata": {},
     "output_type": "execute_result"
    },
    {
     "data": {
      "text/plain": [
       "<trainer> time to learn 1 sample = 0.2150576988856ms\t\n",
       "ConfusionMatrix:\n",
       "[[    5804       1      11       5       7      19      29       5      25      17]   97.991% \t[class: 1]\n",
       " [       1    6632      30      15      12       5       2      11      26       8]   98.368% \t[class: 2]\n",
       " [      20      22    5728      29      35       9      20      48      42       5]   96.140% \t[class: 3]\n",
       " [       7      13      61    5826       5      80       9      32      65      33]   95.025% \t[class: 4]\n",
       " [       9      15      26       2    5607       5      35      13      15     115]   95.977% \t[class: 5]\n",
       " [      21      12      12      73      21    5161      47      11      39      24]   95.204% \t[class: 6]\n",
       " [      32       9      14       4      21      34    5781       3      20       0]   97.685% \t[class: 7]\n",
       " [       9      22      38      15      40       8       1    6055       8      69]   96.648% \t[class: 8]\n",
       " [      16      44      27      66      16      42      28      10    5569      33]   95.180% \t[class: 9]\n",
       " [      21      13       3      45      91      22       1      77      32    5644]]  94.873% \t[class: 10]\n",
       " + average row correct: 96.309195756912% \n",
       " + average rowUcol correct (VOC measure): 92.908356785774% \n",
       " + global correct: 96.345%\n",
       "{\n",
       "  valids : FloatTensor - size: 10\n",
       "  mat : LongTensor - size: 10x10\n",
       "  averageUnionValid : 0.92908356785774\n",
       "  _targ_idx : LongTensor - empty\n",
       "  averageValid : 0.96309195756912\n",
       "  classes : \n",
       "    {\n",
       "      1 : 1\n",
       "      2 : 2\n",
       "      3 : 3\n",
       "      4 : 4\n",
       "      5 : 5\n",
       "      6 : 6\n",
       "      7 : 7\n",
       "      8 : 8\n",
       "      9 : 9\n",
       "      10 : 10\n",
       "    }\n",
       "  _prediction : FloatTensor - size: 10\n",
       "  _pred_idx : LongTensor - size: 1\n",
       "  nclasses : 10\n",
       "  _max : FloatTensor - size: 1\n",
       "  _target : FloatTensor - empty\n",
       "  unionvalids : FloatTensor - size: 10\n",
       "  totalValid : 0.96345\n",
       "}\n",
       "<trainer> on testing Set:\t\n"
      ]
     },
     "execution_count": 10,
     "metadata": {},
     "output_type": "execute_result"
    },
    {
     "data": {
      "text/plain": [
       "<trainer> time to test 1 sample = 0.075965189933777ms\t\n"
      ]
     },
     "execution_count": 10,
     "metadata": {},
     "output_type": "execute_result"
    },
    {
     "data": {
      "text/plain": [
       "ConfusionMatrix:\n",
       "[[     969       0       1       1       0       5       2       1       1       0]   98.878% \t[class: 1]\n",
       " [       0    1126       2       1       0       1       2       1       2       0]   99.207% \t[class: 2]\n",
       " [       7       6     992       7       3       1       4       4       7       1]   96.124% \t[class: 3]\n",
       " [       0       1       5     974       0      18       0       4       3       5]   96.436% \t[class: 4]\n",
       " [       1       0       4       1     953       0       4       0       3      16]   97.047% \t[class: 5]\n",
       " [       6       1       0       5       1     868       4       0       4       3]   97.309% \t[class: 6]\n",
       " [      10       3       2       0       6      26     907       0       4       0]   94.676% \t[class: 7]\n",
       " [       2      14      17       5       9       1       0     945       2      33]   91.926% \t[class: 8]\n",
       " [       4       4       3      15       8      12       4       3     915       6]   93.943% \t[class: 9]\n",
       " [       5       7       1       9      16       5       0       4       0     962]]  95.342% \t[class: 10]\n",
       " + average row correct: 96.088743805885% \n",
       " + average rowUcol correct (VOC measure): 92.463020086288% \n",
       " + global correct: 96.11%\n",
       "{\n",
       "  valids : FloatTensor - size: 10\n",
       "  mat : LongTensor - size: 10x10\n",
       "  averageUnionValid : 0.92463020086288\n",
       "  _targ_idx : LongTensor - empty\n",
       "  averageValid : 0.96088743805885\n",
       "  classes : \n",
       "    {\n",
       "      1 : 1\n",
       "      2 : 2\n",
       "      3 : 3\n",
       "      4 : 4\n",
       "      5 : 5\n",
       "      6 : 6\n",
       "      7 : 7\n",
       "      8 : 8\n",
       "      9 : 9\n",
       "      10 : 10\n",
       "    }\n",
       "  _prediction : FloatTensor - size: 10\n",
       "  _pred_idx : LongTensor - size: 1\n",
       "  nclasses : 10\n",
       "  _max : FloatTensor - size: 1\n",
       "  _target : FloatTensor - empty\n",
       "  unionvalids : FloatTensor - size: 10\n",
       "  totalValid : 0.9611\n",
       "}\n",
       "<trainer> on training set:\t\n",
       "<trainer> online epoch # 4 [batchSize = 50]\t\n"
      ]
     },
     "execution_count": 10,
     "metadata": {},
     "output_type": "execute_result"
    },
    {
     "data": {
      "text/plain": [
       "Progress: 18701 / 60000\t\n"
      ]
     },
     "execution_count": 10,
     "metadata": {},
     "output_type": "execute_result"
    },
    {
     "data": {
      "text/plain": [
       "Progress: 45551 / 60000\t\n"
      ]
     },
     "execution_count": 10,
     "metadata": {},
     "output_type": "execute_result"
    },
    {
     "data": {
      "text/plain": [
       "<trainer> time to learn 1 sample = 0.22243924935659ms\t\n"
      ]
     },
     "execution_count": 10,
     "metadata": {},
     "output_type": "execute_result"
    },
    {
     "data": {
      "text/plain": [
       "ConfusionMatrix:\n",
       "[[    5831       2       8       4       5      15      23       5      17      13]   98.447% \t[class: 1]\n",
       " [       1    6656      27       8      13       1       4      10      16       6]   98.724% \t[class: 2]\n",
       " [      15      15    5800      23      18       6      12      39      26       4]   97.348% \t[class: 3]\n",
       " [       4      13      42    5906       4      53       7      29      50      23]   96.330% \t[class: 4]\n",
       " [       6      16      18       1    5672       4      24       9      15      77]   97.090% \t[class: 5]\n",
       " [      20       6      10      49      14    5235      36       8      25      18]   96.569% \t[class: 6]\n",
       " [      24       6      12       1      17      17    5819       1      21       0]   98.327% \t[class: 7]\n",
       " [       5      19      34       7      31       7       1    6104       4      53]   97.430% \t[class: 8]\n",
       " [      11      31      17      51      14      28      18       9    5651      21]   96.582% \t[class: 9]\n",
       " [      15      14       2      32      68      18       1      51      25    5723]]  96.201% \t[class: 10]\n",
       " + average row correct: 97.304844260216% \n",
       " + average rowUcol correct (VOC measure): 94.768337011337% \n",
       " + global correct: 97.328333333333%\n",
       "{\n",
       "  valids : FloatTensor - size: 10\n",
       "  mat : LongTensor - size: 10x10\n",
       "  averageUnionValid : 0.94768337011337\n",
       "  _targ_idx : LongTensor - empty\n",
       "  averageValid : 0.97304844260216\n",
       "  classes : \n",
       "    {\n",
       "      1 : 1\n",
       "      2 : 2\n",
       "      3 : 3\n",
       "      4 : 4\n",
       "      5 : 5\n",
       "      6 : 6\n",
       "      7 : 7\n",
       "      8 : 8\n",
       "      9 : 9\n",
       "      10 : 10\n",
       "    }\n",
       "  _prediction : FloatTensor - size: 10\n",
       "  _pred_idx : LongTensor - size: 1\n",
       "  nclasses : 10\n",
       "  _max : FloatTensor - size: 1\n",
       "  _target : FloatTensor - empty\n",
       "  unionvalids : FloatTensor - size: 10\n",
       "  totalValid : 0.97328333333333\n",
       "}\n",
       "<trainer> on testing Set:\t\n"
      ]
     },
     "execution_count": 10,
     "metadata": {},
     "output_type": "execute_result"
    },
    {
     "data": {
      "text/plain": [
       "<trainer> time to test 1 sample = 0.085174703598022ms\t\n",
       "ConfusionMatrix:\n",
       "[[     970       0       1       2       0       3       2       1       1       0]   98.980% \t[class: 1]\n",
       " [       0    1127       2       1       0       1       1       1       2       0]   99.295% \t[class: 2]\n",
       " [       7       3     997       4       4       0       5       4       8       0]   96.609% \t[class: 3]\n",
       " [       0       1       2     981       0      15       0       3       2       6]   97.129% \t[class: 4]\n",
       " [       1       0       4       1     958       0       4       0       2      12]   97.556% \t[class: 5]\n",
       " [       4       1       0       5       1     874       2       0       3       2]   97.982% \t[class: 6]\n",
       " [       8       3       1       0       5      26     912       0       3       0]   95.198% \t[class: 7]\n",
       " [       1      12      14       4       9       1       0     957       2      28]   93.093% \t[class: 8]\n",
       " [       4       4       3      12       7       9       2       3     925       5]   94.969% \t[class: 9]\n",
       " [       5       7       0       6      13       6       0       3       0     969]]  96.036% \t[class: 10]\n",
       " + average row correct: 96.684663891792% \n",
       " + average rowUcol correct (VOC measure): 93.566615581512% \n",
       " + global correct: 96.7%\n",
       "{\n",
       "  valids : FloatTensor - size: 10\n",
       "  mat : LongTensor - size: 10x10\n",
       "  averageUnionValid : 0.93566615581512\n",
       "  _targ_idx : LongTensor - empty\n",
       "  averageValid : 0.96684663891792\n",
       "  classes : \n",
       "    {\n",
       "      1 : 1\n",
       "      2 : 2\n",
       "      3 : 3\n",
       "      4 : 4\n",
       "      5 : 5\n",
       "      6 : 6\n",
       "      7 : 7\n",
       "      8 : 8\n",
       "      9 : 9\n",
       "      10 : 10\n",
       "    }\n",
       "  _prediction : FloatTensor - size: 10\n",
       "  _pred_idx : LongTensor - size: 1\n",
       "  nclasses : 10\n",
       "  _max : FloatTensor - size: 1\n",
       "  _target : FloatTensor - empty\n",
       "  unionvalids : FloatTensor - size: 10\n",
       "  totalValid : 0.967\n",
       "}\n",
       "<trainer> on training set:\t\n",
       "<trainer> online epoch # 5 [batchSize = 50]\t\n"
      ]
     },
     "execution_count": 10,
     "metadata": {},
     "output_type": "execute_result"
    },
    {
     "data": {
      "text/plain": [
       "Progress: 9051 / 60000\t\n"
      ]
     },
     "execution_count": 10,
     "metadata": {},
     "output_type": "execute_result"
    },
    {
     "data": {
      "text/plain": [
       "Progress: 35051 / 60000\t\n"
      ]
     },
     "execution_count": 10,
     "metadata": {},
     "output_type": "execute_result"
    },
    {
     "data": {
      "text/plain": [
       "<trainer> time to learn 1 sample = 0.21553116639455ms\t\n",
       "ConfusionMatrix:\n",
       "[[    5858       2       5       2       4      11      15       2      13      11]   98.903% \t[class: 1]\n",
       " [       1    6672      20       6      11       1       4      11      11       5]   98.962% \t[class: 2]\n",
       " [      13      11    5843      16      13       4       9      27      19       3]   98.070% \t[class: 3]\n",
       " [       4       5      30    5959       3      45       4      25      39      17]   97.195% \t[class: 4]\n",
       " [       4      11      10       0    5708       3      20       8       8      70]   97.706% \t[class: 5]\n",
       " [      15       4       8      31       7    5287      29       4      22      14]   97.528% \t[class: 6]\n",
       " [      20       6       9       0      11      10    5845       0      17       0]   98.766% \t[class: 7]\n",
       " [       4      18      30       2      26       6       1    6129       4      45]   97.829% \t[class: 8]\n",
       " [       9      29      12      28       9      15      12       8    5714      15]   97.659% \t[class: 9]\n",
       " [      12       8       1      27      56      16       2      41      17    5769]]  96.974% \t[class: 10]\n",
       " + average row correct: 97.959160804749% \n",
       " + average rowUcol correct (VOC measure): 96.008340120316% \n",
       " + global correct: 97.973333333333%\n",
       "{\n",
       "  valids : FloatTensor - size: 10\n",
       "  mat : LongTensor - size: 10x10\n",
       "  averageUnionValid : 0.96008340120316\n",
       "  _targ_idx : LongTensor - empty\n",
       "  averageValid : 0.97959160804749\n",
       "  classes : \n",
       "    {\n",
       "      1 : 1\n",
       "      2 : 2\n",
       "      3 : 3\n",
       "      4 : 4\n",
       "      5 : 5\n",
       "      6 : 6\n",
       "      7 : 7\n",
       "      8 : 8\n",
       "      9 : 9\n",
       "      10 : 10\n",
       "    }\n",
       "  _prediction : FloatTensor - size: 10\n",
       "  _pred_idx : LongTensor - size: 1\n",
       "  nclasses : 10\n",
       "  _max : FloatTensor - size: 1\n",
       "  _target : FloatTensor - empty\n",
       "  unionvalids : FloatTensor - size: 10\n",
       "  totalValid : 0.97973333333333\n",
       "}\n"
      ]
     },
     "execution_count": 10,
     "metadata": {},
     "output_type": "execute_result"
    },
    {
     "data": {
      "text/plain": [
       "<trainer> on testing Set:\t\n"
      ]
     },
     "execution_count": 10,
     "metadata": {},
     "output_type": "execute_result"
    },
    {
     "data": {
      "text/plain": [
       "Progress: 4401 / 10000\t\n"
      ]
     },
     "execution_count": 10,
     "metadata": {},
     "output_type": "execute_result"
    },
    {
     "data": {
      "text/plain": [
       "<trainer> time to test 1 sample = 0.080771398544312ms\t\n"
      ]
     },
     "execution_count": 10,
     "metadata": {},
     "output_type": "execute_result"
    },
    {
     "data": {
      "text/plain": [
       "ConfusionMatrix:\n",
       "[[     971       0       1       2       0       3       1       1       1       0]   99.082% \t[class: 1]\n",
       " [       0    1127       2       1       0       1       1       1       2       0]   99.295% \t[class: 2]\n",
       " [       7       1    1001       3       3       1       5       3       8       0]   96.996% \t[class: 3]\n",
       " [       0       1       3     987       0      12       0       2       3       2]   97.723% \t[class: 4]\n",
       " [       2       0       3       1     962       0       3       0       2       9]   97.963% \t[class: 5]\n",
       " [       4       1       0       5       1     875       2       0       2       2]   98.094% \t[class: 6]\n",
       " [       7       3       0       0       4      27     913       0       4       0]   95.303% \t[class: 7]\n",
       " [       2      10      14       4       8       0       0     962       1      27]   93.580% \t[class: 8]\n",
       " [       3       3       4       8       6       6       2       3     935       4]   95.996% \t[class: 9]\n",
       " [       5       4       0       5      11       4       0       1       0     979]]  97.027% \t[class: 10]\n",
       " + average row correct: 97.105832695961% \n",
       " + average rowUcol correct (VOC measure): 94.352582097054% \n",
       " + global correct: 97.12%\n",
       "{\n",
       "  valids : FloatTensor - size: 10\n",
       "  mat : LongTensor - size: 10x10\n",
       "  averageUnionValid : 0.94352582097054\n",
       "  _targ_idx : LongTensor - empty\n",
       "  averageValid : 0.97105832695961\n",
       "  classes : \n",
       "    {\n",
       "      1 : 1\n",
       "      2 : 2\n",
       "      3 : 3\n",
       "      4 : 4\n",
       "      5 : 5\n",
       "      6 : 6\n",
       "      7 : 7\n",
       "      8 : 8\n",
       "      9 : 9\n",
       "      10 : 10\n",
       "    }\n",
       "  _prediction : FloatTensor - size: 10\n",
       "  _pred_idx : LongTensor - size: 1\n",
       "  nclasses : 10\n",
       "  _max : FloatTensor - size: 1\n",
       "  _target : FloatTensor - empty\n",
       "  unionvalids : FloatTensor - size: 10\n",
       "  totalValid : 0.9712\n",
       "}\n",
       "<trainer> on training set:\t\n",
       "<trainer> online epoch # 6 [batchSize = 50]\t\n"
      ]
     },
     "execution_count": 10,
     "metadata": {},
     "output_type": "execute_result"
    },
    {
     "data": {
      "text/plain": [
       "Progress: 23651 / 60000\t\n"
      ]
     },
     "execution_count": 10,
     "metadata": {},
     "output_type": "execute_result"
    }
   ],
   "source": [
    "for i = 1, numIter do\n",
    "    train(trainData)\n",
    "    test(testData)\n",
    "end"
   ]
  },
  {
   "cell_type": "code",
   "execution_count": null,
   "metadata": {
    "collapsed": false
   },
   "outputs": [],
   "source": [
    "function table2Tensor(table)\n",
    "    tensor = torch.Tensor(#table)\n",
    "    for i = 1, tensor:size()[1] do\n",
    "        tensor[i] = table[i]\n",
    "    end\n",
    "    return tensor\n",
    "end"
   ]
  },
  {
   "cell_type": "code",
   "execution_count": null,
   "metadata": {
    "collapsed": false
   },
   "outputs": [],
   "source": [
    "Plot = require 'itorch.Plot'\n",
    "\n",
    "trainValid = table2Tensor(trainHistory)\n",
    "testValid = table2Tensor(testHistory)\n",
    "\n",
    "epochCount = torch.Tensor(numIter)\n",
    "i = 0\n",
    "\n",
    "epochCount:apply(function()\n",
    "    i = i + 1\n",
    "    return i\n",
    "end)\n",
    "\n",
    "\n",
    "-- line plots\n",
    "plot = Plot():line(epochCount, trainValid, 'green', 'Train')\n",
    "plot:line(epochCount, testValid, 'blue', 'Test')\n",
    "plot:legend(true)\n",
    "plot:title('Train/Test TotalValid'):draw()"
   ]
  },
  {
   "cell_type": "code",
   "execution_count": null,
   "metadata": {
    "collapsed": true
   },
   "outputs": [],
   "source": []
  }
 ],
 "metadata": {
  "kernelspec": {
   "display_name": "iTorch",
   "language": "lua",
   "name": "itorch"
  },
  "language_info": {
   "name": "lua",
   "version": "20100"
  }
 },
 "nbformat": 4,
 "nbformat_minor": 0
}
