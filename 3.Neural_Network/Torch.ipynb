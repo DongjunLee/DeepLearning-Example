{
 "cells": [
  {
   "cell_type": "markdown",
   "metadata": {},
   "source": [
    "### Reference.\n",
    "Torch-Demos : [digit classifier](https://github.com/torch/demos/blob/master/train-a-digit-classifier/train-on-mnist.lua)"
   ]
  },
  {
   "cell_type": "code",
   "execution_count": 1,
   "metadata": {
    "collapsed": false
   },
   "outputs": [],
   "source": [
    "require 'torch'\n",
    "require 'nn'\n",
    "require 'optim'\n",
    "require 'image'\n",
    "require 'dataset-mnist'"
   ]
  },
  {
   "cell_type": "code",
   "execution_count": 2,
   "metadata": {
    "collapsed": false
   },
   "outputs": [
    {
     "data": {
      "text/plain": [
       "<torch> set nb of threads to 1\t\n"
      ]
     },
     "execution_count": 2,
     "metadata": {},
     "output_type": "execute_result"
    }
   ],
   "source": [
    "-- Setting Hyperparameters\n",
    "batchSize = 50\n",
    "learningRate = 0.05\n",
    "momentum = 0\n",
    "numIter = 20\n",
    "\n",
    "-- Fix Seed\n",
    "torch.manualSeed(1)\n",
    "\n",
    "-- Setting worker\n",
    "torch.setnumthreads(2)\n",
    "print('<torch> set nb of threads to ' .. torch.getnumthreads())\n",
    "\n",
    "-- Use Floats\n",
    "torch.setdefaulttensortype('torch.FloatTensor')"
   ]
  },
  {
   "cell_type": "code",
   "execution_count": 3,
   "metadata": {
    "collapsed": true
   },
   "outputs": [],
   "source": [
    "-- Define model to Train\n",
    "-- On the 10-class Classification Problem\n",
    "-- Geometry : width and height of input images\n",
    "\n",
    "classes = {'1', '2' ,'3' ,'4' ,'5' ,'6' ,'7' ,'8' ,'9', '10'}\n",
    "geometry = {32, 32}"
   ]
  },
  {
   "cell_type": "code",
   "execution_count": 4,
   "metadata": {
    "collapsed": false
   },
   "outputs": [
    {
     "data": {
      "text/plain": [
       "<mnist> done\t\n"
      ]
     },
     "execution_count": 4,
     "metadata": {},
     "output_type": "execute_result"
    },
    {
     "data": {
      "text/plain": [
       "<mnist> done\t\n"
      ]
     },
     "execution_count": 4,
     "metadata": {},
     "output_type": "execute_result"
    }
   ],
   "source": [
    "numTrain = 60000\n",
    "numTest = 10000\n",
    "\n",
    "-- Create training set and normalize\n",
    "trainData = mnist.loadTrainSet(numTrain, geometry)\n",
    "trainData:normalizeGlobal(mean, std)\n",
    "\n",
    "-- Create test set and normalize\n",
    "testData = mnist.loadTestSet(numTest, geometry)\n",
    "testData:normalizeGlobal(mean, std)"
   ]
  },
  {
   "cell_type": "code",
   "execution_count": 5,
   "metadata": {
    "collapsed": false
   },
   "outputs": [
    {
     "data": {
      "text/plain": [
       "{\n",
       "  data : FloatTensor - size: 60000x1x32x32\n",
       "  normalize : function: 0x0c51c4e8\n",
       "  labels : ByteTensor - size: 60000\n",
       "  normalizeGlobal : function: 0x0c51c4b0\n",
       "  size : function: 0x0c51c590\n",
       "}\n",
       "{\n",
       "  data : FloatTensor - size: 10000x1x32x32\n",
       "  normalize : function: 0x0c51d378\n",
       "  labels : ByteTensor - size: 10000\n",
       "  normalizeGlobal : function: 0x0c51d340\n",
       "  size : function: 0x0c51d420\n",
       "}\n"
      ]
     },
     "execution_count": 5,
     "metadata": {},
     "output_type": "execute_result"
    }
   ],
   "source": [
    "print(trainData)\n",
    "print(testData)"
   ]
  },
  {
   "cell_type": "code",
   "execution_count": 6,
   "metadata": {
    "collapsed": true
   },
   "outputs": [],
   "source": [
    "-- 2 Layer Neural Network\n",
    "model = nn.Sequential()\n",
    "\n",
    "model:add(nn.Reshape(32*32))\n",
    "model:add(nn.Linear(32*32, 2048))\n",
    "model:add(nn.Tanh())\n",
    "model:add(nn.Linear(2048, #classes))\n",
    "model:add(nn.LogSoftMax())\n",
    "\n",
    "criterion = nn.ClassNLLCriterion()"
   ]
  },
  {
   "cell_type": "code",
   "execution_count": 7,
   "metadata": {
    "collapsed": false
   },
   "outputs": [],
   "source": [
    "-- Retrieve parameters and gradients\n",
    "parameters, gradParameters = model:getParameters()\n",
    "\n",
    "confusion = optim.ConfusionMatrix(classes)\n",
    "trainHistory = {}\n",
    "testHistory = {}"
   ]
  },
  {
   "cell_type": "code",
   "execution_count": 8,
   "metadata": {
    "collapsed": true
   },
   "outputs": [],
   "source": [
    "-- Train function\n",
    "function train(dataset)\n",
    "    -- epoch tracker\n",
    "    epoch = epoch or 1\n",
    "\n",
    "    -- local vars\n",
    "    local time = sys.clock()\n",
    "\n",
    "    -- do one epoch\n",
    "    print('<trainer> on training set:')\n",
    "    print(\"<trainer> online epoch # \" .. epoch .. ' [batchSize = ' .. batchSize .. ']')\n",
    "    for t = 1, numTrain, batchSize do\n",
    "        -- create mini batch\n",
    "        local inputs = torch.Tensor(batchSize,1,geometry[1],geometry[2])\n",
    "        local targets = torch.Tensor(batchSize)\n",
    "        local k = 1\n",
    "        for i = t, math.min(t+batchSize-1, numTrain) do\n",
    "            -- load new sample\n",
    "            local sample = dataset[i]\n",
    "            local input = sample[1]:clone()\n",
    "            local _,target = sample[2]:clone():max(1)\n",
    "            target = target:squeeze()\n",
    "            inputs[k] = input\n",
    "            targets[k] = target\n",
    "            k = k + 1\n",
    "        end\n",
    "\n",
    "        -- create closure to evaluate f(X) and df/dX\n",
    "        local feval = function(x)\n",
    "            -- just in case:\n",
    "            collectgarbage()\n",
    "\n",
    "            -- get new parameters\n",
    "            if x ~= parameters then\n",
    "                parameters:copy(x)\n",
    "            end\n",
    "\n",
    "            -- reset gradients\n",
    "            gradParameters:zero()\n",
    "\n",
    "            -- evaluate function for complete mini batch\n",
    "            local outputs = model:forward(inputs)\n",
    "            local f = criterion:forward(outputs, targets)\n",
    "\n",
    "            -- estimate df/dW\n",
    "            local df_do = criterion:backward(outputs, targets)\n",
    "            model:backward(inputs, df_do)\n",
    "\n",
    "            -- update confusion\n",
    "            for i = 1,batchSize do\n",
    "                confusion:add(outputs[i], targets[i])\n",
    "            end\n",
    "\n",
    "            -- return f and df/dX\n",
    "            return f,gradParameters\n",
    "        end\n",
    "\n",
    "        -- Perform SGD step:\n",
    "        sgdState = sgdState or {\n",
    "            learningRate = learningRate,\n",
    "            momentum = momentum,\n",
    "            learningRateDecay = 5e-7\n",
    "        }\n",
    "        optim.sgd(feval, parameters, sgdState)\n",
    "\n",
    "        -- disp progress\n",
    "        xlua.progress(t, numTrain)\n",
    "    end\n",
    "   \n",
    "    -- time taken\n",
    "    time = sys.clock() - time\n",
    "    time = time / numTrain\n",
    "    print(\"<trainer> time to learn 1 sample = \" .. (time*1000) .. 'ms')\n",
    "\n",
    "    -- print confusion matrix\n",
    "    print(confusion)\n",
    "    table.insert(trainHistory, confusion.totalValid * 100)\n",
    "    confusion:zero()\n",
    "\n",
    "    -- next epoch\n",
    "    epoch = epoch + 1\n",
    "end"
   ]
  },
  {
   "cell_type": "code",
   "execution_count": 9,
   "metadata": {
    "collapsed": true
   },
   "outputs": [],
   "source": [
    "-- test function\n",
    "function test(dataset)\n",
    "    -- local vars\n",
    "    local time = sys.clock()\n",
    "\n",
    "    -- test over given dataset\n",
    "    print('<trainer> on testing Set:')\n",
    "    for t = 1, dataset:size(), batchSize do\n",
    "        -- disp progress\n",
    "        xlua.progress(t, dataset:size())\n",
    "\n",
    "        -- create mini batch\n",
    "        local inputs = torch.Tensor(batchSize, 1, geometry[1], geometry[2])\n",
    "        local targets = torch.Tensor(batchSize)\n",
    "        local k = 1\n",
    "        for i = t,math.min(t+batchSize-1, dataset:size()) do\n",
    "            -- load new sample\n",
    "            local sample = dataset[i]\n",
    "            local input = sample[1]:clone()\n",
    "            local _,target = sample[2]:clone():max(1)\n",
    "            target = target:squeeze()\n",
    "            inputs[k] = input\n",
    "            targets[k] = target\n",
    "            k = k + 1\n",
    "        end\n",
    "\n",
    "        -- test samples\n",
    "        local preds = model:forward(inputs)\n",
    "\n",
    "        -- confusion:\n",
    "        for i = 1, batchSize do\n",
    "            confusion:add(preds[i], targets[i])\n",
    "        end\n",
    "    end\n",
    "\n",
    "    -- timing\n",
    "    time = sys.clock() - time\n",
    "    time = time / dataset:size()\n",
    "    print(\"<trainer> time to test 1 sample = \" .. (time*1000) .. 'ms')\n",
    "\n",
    "    -- print confusion matrix\n",
    "    print(confusion)\n",
    "    table.insert(testHistory, confusion.totalValid * 100)\n",
    "    confusion:zero()\n",
    "end"
   ]
  },
  {
   "cell_type": "code",
   "execution_count": null,
   "metadata": {
    "collapsed": false
   },
   "outputs": [],
   "source": [
    "for i = 1, numIter do\n",
    "    train(trainData)\n",
    "    test(testData)\n",
    "end"
   ]
  },
  {
   "cell_type": "code",
   "execution_count": 11,
   "metadata": {
    "collapsed": false
   },
   "outputs": [],
   "source": [
    "function table2Tensor(table)\n",
    "    tensor = torch.Tensor(#table)\n",
    "    for i = 1, tensor:size()[1] do\n",
    "        tensor[i] = table[i]\n",
    "    end\n",
    "    return tensor\n",
    "end"
   ]
  },
  {
   "cell_type": "code",
   "execution_count": 12,
   "metadata": {
    "collapsed": false
   },
   "outputs": [
    {
     "data": {
      "text/html": [
       "<script type=\"text/javascript\">\n",
       "$(function() {\n",
       "    if (typeof (window._bokeh_onload_callbacks) === \"undefined\"){\n",
       "  window._bokeh_onload_callbacks = [];\n",
       "    }\n",
       "    function load_lib(url, callback){\n",
       "  window._bokeh_onload_callbacks.push(callback);\n",
       "  if (window._bokeh_is_loading){\n",
       "      console.log(\"Bokeh: BokehJS is being loaded, scheduling callback at\", new Date());\n",
       "      return null;\n",
       "  }\n",
       "  console.log(\"Bokeh: BokehJS not loaded, scheduling load and callback at\", new Date());\n",
       "  window._bokeh_is_loading = true;\n",
       "  var s = document.createElement('script');\n",
       "  s.src = url;\n",
       "  s.async = true;\n",
       "  s.onreadystatechange = s.onload = function(){\n",
       "      Bokeh.embed.inject_css(\"http://cdn.pydata.org/bokeh-0.7.0.min.css\");\n",
       "      window._bokeh_onload_callbacks.forEach(function(callback){callback()});\n",
       "  };\n",
       "  s.onerror = function(){\n",
       "      console.warn(\"failed to load library \" + url);\n",
       "  };\n",
       "  document.getElementsByTagName(\"head\")[0].appendChild(s);\n",
       "    }\n",
       "\n",
       "    bokehjs_url = \"http://cdn.pydata.org/bokeh-0.7.0.min.js\"\n",
       "\n",
       "    var elt = document.getElementById(\"71c762a4-7339-4c46-cc34-a9cde1830045\");\n",
       "    if(elt==null) {\n",
       "  console.log(\"Bokeh: ERROR: autoload.js configured with elementid '71c762a4-7339-4c46-cc34-a9cde1830045'\"\n",
       "        + \"but no matching script tag was found. \")\n",
       "  return false;\n",
       "    }\n",
       "\n",
       "    if(typeof(Bokeh) !== \"undefined\") {\n",
       "  console.log(\"Bokeh: BokehJS loaded, going straight to plotting\");\n",
       "  var modelid = \"a49f8f88-172c-43fc-c36e-1e4be944b303\";\n",
       "  var modeltype = \"Plot\";\n",
       "  var all_models = [{\"id\":\"4c92973d-d7fe-41e5-c1dd-b80d028b6905\",\"type\":\"ColumnDataSource\",\"attributes\":{\"data\":{\"y\":[90.974998474121,94.574996948242,96.345001220703,97.328330993652,97.973335266113,98.421669006348,98.74666595459,99.059997558594,99.286666870117,99.464996337891,99.610000610352,99.723335266113,99.798332214355,99.860000610352,99.898330688477,99.919998168945,99.940002441406,99.955001831055,99.966667175293,99.974998474121],\"x\":[1,2,3,4,5,6,7,8,9,10,11,12,13,14,15,16,17,18,19,20]},\"column_names\":[\"y\",\"x\"],\"cont_ranges\":{},\"discrete_ranges\":{},\"selected\":[],\"id\":\"4c92973d-d7fe-41e5-c1dd-b80d028b6905\",\"doc\":null,\"tags\":[]}},{\"id\":\"c1b533d8-3c18-4cdd-cc47-403647fe1018\",\"type\":\"Line\",\"attributes\":{\"fill_alpha\":{\"units\":\"data\",\"value\":0.2},\"line_alpha\":{\"units\":\"data\",\"value\":1},\"doc\":null,\"size\":{\"units\":\"screen\",\"value\":10},\"fill_color\":{\"value\":\"green\"},\"line_color\":{\"value\":\"green\"},\"x\":{\"units\":\"data\",\"field\":\"x\"},\"id\":\"c1b533d8-3c18-4cdd-cc47-403647fe1018\",\"y\":{\"units\":\"data\",\"field\":\"y\"},\"tags\":[]}},{\"id\":\"f7004df0-ddf7-4d03-cdb8-4fa1de6e3bcf\",\"type\":\"Line\",\"attributes\":{\"fill_alpha\":{\"units\":\"data\",\"value\":0.2},\"line_alpha\":{\"units\":\"data\",\"value\":1},\"doc\":null,\"size\":{\"units\":\"screen\",\"value\":10},\"fill_color\":{\"value\":\"green\"},\"line_color\":{\"value\":\"green\"},\"x\":{\"units\":\"data\",\"field\":\"x\"},\"id\":\"f7004df0-ddf7-4d03-cdb8-4fa1de6e3bcf\",\"y\":{\"units\":\"data\",\"field\":\"y\"},\"tags\":[]}},{\"id\":\"fc73a7e6-7404-4f02-cf0e-21bbb4c021ef\",\"type\":\"GlyphRenderer\",\"attributes\":{\"name\":null,\"nonselection_glyph\":{\"type\":\"Line\",\"id\":\"f7004df0-ddf7-4d03-cdb8-4fa1de6e3bcf\"},\"doc\":null,\"server_data_source\":null,\"data_source\":{\"type\":\"ColumnDataSource\",\"id\":\"4c92973d-d7fe-41e5-c1dd-b80d028b6905\"},\"glyph\":{\"type\":\"Line\",\"id\":\"c1b533d8-3c18-4cdd-cc47-403647fe1018\"},\"selection_glyph\":null,\"id\":\"fc73a7e6-7404-4f02-cf0e-21bbb4c021ef\",\"tags\":[]}},{\"id\":\"3341b4ae-cbb7-4b06-cb09-af6b68284b67\",\"type\":\"ColumnDataSource\",\"attributes\":{\"data\":{\"y\":[92.470001220703,94.919998168945,96.110000610352,96.699996948242,97.120002746582,97.300003051758,97.51000213623,97.580001831055,97.680000305176,97.809997558594,97.849998474121,97.870002746582,97.870002746582,97.879997253418,97.910003662109,97.949996948242,97.98999786377,98.01000213623,98.040000915527,98.059997558594],\"x\":[1,2,3,4,5,6,7,8,9,10,11,12,13,14,15,16,17,18,19,20]},\"column_names\":[\"y\",\"x\"],\"cont_ranges\":{},\"discrete_ranges\":{},\"selected\":[],\"id\":\"3341b4ae-cbb7-4b06-cb09-af6b68284b67\",\"doc\":null,\"tags\":[]}},{\"id\":\"4790005a-184c-44cd-c430-d44d8e4487c9\",\"type\":\"Line\",\"attributes\":{\"fill_alpha\":{\"units\":\"data\",\"value\":0.2},\"line_alpha\":{\"units\":\"data\",\"value\":1},\"doc\":null,\"size\":{\"units\":\"screen\",\"value\":10},\"fill_color\":{\"value\":\"blue\"},\"line_color\":{\"value\":\"blue\"},\"x\":{\"units\":\"data\",\"field\":\"x\"},\"id\":\"4790005a-184c-44cd-c430-d44d8e4487c9\",\"y\":{\"units\":\"data\",\"field\":\"y\"},\"tags\":[]}},{\"id\":\"851d1b8b-11ef-4d4f-cd56-15c4c5291a50\",\"type\":\"Line\",\"attributes\":{\"fill_alpha\":{\"units\":\"data\",\"value\":0.2},\"line_alpha\":{\"units\":\"data\",\"value\":1},\"doc\":null,\"size\":{\"units\":\"screen\",\"value\":10},\"fill_color\":{\"value\":\"blue\"},\"line_color\":{\"value\":\"blue\"},\"x\":{\"units\":\"data\",\"field\":\"x\"},\"id\":\"851d1b8b-11ef-4d4f-cd56-15c4c5291a50\",\"y\":{\"units\":\"data\",\"field\":\"y\"},\"tags\":[]}},{\"id\":\"edb83bf6-05e3-44b6-c4a2-4de8e78dc2eb\",\"type\":\"GlyphRenderer\",\"attributes\":{\"name\":null,\"nonselection_glyph\":{\"type\":\"Line\",\"id\":\"851d1b8b-11ef-4d4f-cd56-15c4c5291a50\"},\"doc\":null,\"server_data_source\":null,\"data_source\":{\"type\":\"ColumnDataSource\",\"id\":\"3341b4ae-cbb7-4b06-cb09-af6b68284b67\"},\"glyph\":{\"type\":\"Line\",\"id\":\"4790005a-184c-44cd-c430-d44d8e4487c9\"},\"selection_glyph\":null,\"id\":\"edb83bf6-05e3-44b6-c4a2-4de8e78dc2eb\",\"tags\":[]}},{\"id\":\"9ad64c8d-0dc1-490d-c9da-0dd82bac1e91\",\"type\":\"DataRange1d\",\"attributes\":{\"sources\":[{\"columns\":[\"x\"],\"source\":{\"type\":\"ColumnDataSource\",\"id\":\"4c92973d-d7fe-41e5-c1dd-b80d028b6905\"}},{\"columns\":[\"x\"],\"source\":{\"type\":\"ColumnDataSource\",\"id\":\"3341b4ae-cbb7-4b06-cb09-af6b68284b67\"}}],\"id\":\"9ad64c8d-0dc1-490d-c9da-0dd82bac1e91\",\"tags\":[],\"doc\":null}},{\"id\":\"88fe02b4-c305-4443-c4bc-51a48e8ab53c\",\"type\":\"DataRange1d\",\"attributes\":{\"sources\":[{\"columns\":[\"y\"],\"source\":{\"type\":\"ColumnDataSource\",\"id\":\"4c92973d-d7fe-41e5-c1dd-b80d028b6905\"}},{\"columns\":[\"y\"],\"source\":{\"type\":\"ColumnDataSource\",\"id\":\"3341b4ae-cbb7-4b06-cb09-af6b68284b67\"}}],\"id\":\"88fe02b4-c305-4443-c4bc-51a48e8ab53c\",\"tags\":[],\"doc\":null}},{\"id\":\"3de3aa81-2bc2-4514-c55b-552a597be5ee\",\"type\":\"ToolEvents\",\"attributes\":{\"tags\":[],\"id\":\"3de3aa81-2bc2-4514-c55b-552a597be5ee\",\"geometries\":[],\"doc\":null}},{\"id\":\"30478146-1415-43bc-c354-2f11b7f63741\",\"type\":\"BasicTickFormatter\",\"attributes\":{\"id\":\"30478146-1415-43bc-c354-2f11b7f63741\",\"tags\":[],\"doc\":null}},{\"id\":\"67fedde7-77f3-4be4-cbee-f8d7e302e1f3\",\"type\":\"BasicTicker\",\"attributes\":{\"num_minor_ticks\":5,\"id\":\"67fedde7-77f3-4be4-cbee-f8d7e302e1f3\",\"tags\":[],\"doc\":null}},{\"id\":\"bf1c741c-5060-4927-c9b9-07391de6e8a4\",\"type\":\"LinearAxis\",\"attributes\":{\"formatter\":{\"type\":\"BasicTickFormatter\",\"id\":\"30478146-1415-43bc-c354-2f11b7f63741\"},\"ticker\":{\"type\":\"BasicTicker\",\"id\":\"67fedde7-77f3-4be4-cbee-f8d7e302e1f3\"},\"plot\":{\"id\":\"a49f8f88-172c-43fc-c36e-1e4be944b303\",\"type\":\"Plot\",\"subtype\":\"Figure\"},\"axis_label\":null,\"id\":\"bf1c741c-5060-4927-c9b9-07391de6e8a4\",\"doc\":null,\"tags\":[]}},{\"id\":\"e4375cef-c895-46d0-c6a9-fab205519e72\",\"type\":\"Grid\",\"attributes\":{\"dimension\":0,\"plot\":{\"id\":\"a49f8f88-172c-43fc-c36e-1e4be944b303\",\"type\":\"Plot\",\"subtype\":\"Figure\"},\"ticker\":{\"type\":\"BasicTicker\",\"id\":\"67fedde7-77f3-4be4-cbee-f8d7e302e1f3\"},\"id\":\"e4375cef-c895-46d0-c6a9-fab205519e72\",\"doc\":null,\"tags\":[]}},{\"id\":\"648b2e60-e405-4c40-cc5b-fff61141078a\",\"type\":\"BasicTickFormatter\",\"attributes\":{\"id\":\"648b2e60-e405-4c40-cc5b-fff61141078a\",\"tags\":[],\"doc\":null}},{\"id\":\"489e075e-014c-4ef5-ce93-ac111bcdfad3\",\"type\":\"BasicTicker\",\"attributes\":{\"num_minor_ticks\":5,\"id\":\"489e075e-014c-4ef5-ce93-ac111bcdfad3\",\"tags\":[],\"doc\":null}},{\"id\":\"4323d333-fe4b-47ae-c720-624cf01f3eae\",\"type\":\"LinearAxis\",\"attributes\":{\"formatter\":{\"type\":\"BasicTickFormatter\",\"id\":\"648b2e60-e405-4c40-cc5b-fff61141078a\"},\"ticker\":{\"type\":\"BasicTicker\",\"id\":\"489e075e-014c-4ef5-ce93-ac111bcdfad3\"},\"plot\":{\"id\":\"a49f8f88-172c-43fc-c36e-1e4be944b303\",\"type\":\"Plot\",\"subtype\":\"Figure\"},\"axis_label\":null,\"id\":\"4323d333-fe4b-47ae-c720-624cf01f3eae\",\"doc\":null,\"tags\":[]}},{\"id\":\"1aa638fb-0aeb-4e45-cebe-45eea8d8a6e4\",\"type\":\"Grid\",\"attributes\":{\"dimension\":1,\"plot\":{\"id\":\"a49f8f88-172c-43fc-c36e-1e4be944b303\",\"type\":\"Plot\",\"subtype\":\"Figure\"},\"ticker\":{\"type\":\"BasicTicker\",\"id\":\"489e075e-014c-4ef5-ce93-ac111bcdfad3\"},\"id\":\"1aa638fb-0aeb-4e45-cebe-45eea8d8a6e4\",\"doc\":null,\"tags\":[]}},{\"id\":\"a5b6de1d-d2b3-4e39-ce5e-d76a30234d47\",\"type\":\"PanTool\",\"attributes\":{\"plot\":{\"id\":\"a49f8f88-172c-43fc-c36e-1e4be944b303\",\"type\":\"Plot\",\"subtype\":\"Figure\"},\"dimensions\":[\"width\",\"height\"],\"id\":\"a5b6de1d-d2b3-4e39-ce5e-d76a30234d47\",\"doc\":null,\"tags\":[]}},{\"id\":\"d8769ff3-60c1-4be2-cbef-3376017c54e6\",\"type\":\"WheelZoomTool\",\"attributes\":{\"plot\":{\"id\":\"a49f8f88-172c-43fc-c36e-1e4be944b303\",\"type\":\"Plot\",\"subtype\":\"Figure\"},\"dimensions\":[\"width\",\"height\"],\"id\":\"d8769ff3-60c1-4be2-cbef-3376017c54e6\",\"doc\":null,\"tags\":[]}},{\"id\":\"5cff97a7-73c3-432a-c325-b8d3f3c8984a\",\"type\":\"BoxZoomTool\",\"attributes\":{\"plot\":{\"id\":\"a49f8f88-172c-43fc-c36e-1e4be944b303\",\"type\":\"Plot\",\"subtype\":\"Figure\"},\"id\":\"5cff97a7-73c3-432a-c325-b8d3f3c8984a\",\"tags\":[],\"doc\":null}},{\"id\":\"8fece7b3-34f4-4a7d-ca00-df339eec392a\",\"type\":\"PreviewSaveTool\",\"attributes\":{\"plot\":{\"id\":\"a49f8f88-172c-43fc-c36e-1e4be944b303\",\"type\":\"Plot\",\"subtype\":\"Figure\"},\"id\":\"8fece7b3-34f4-4a7d-ca00-df339eec392a\",\"tags\":[],\"doc\":null}},{\"id\":\"51b3bdeb-9054-46ac-c68b-ae4a6f851315\",\"type\":\"ResizeTool\",\"attributes\":{\"plot\":{\"id\":\"a49f8f88-172c-43fc-c36e-1e4be944b303\",\"type\":\"Plot\",\"subtype\":\"Figure\"},\"id\":\"51b3bdeb-9054-46ac-c68b-ae4a6f851315\",\"tags\":[],\"doc\":null}},{\"id\":\"4e5f4750-9a88-4fca-cf9f-cd4ce3b7a203\",\"type\":\"ResetTool\",\"attributes\":{\"plot\":{\"id\":\"a49f8f88-172c-43fc-c36e-1e4be944b303\",\"type\":\"Plot\",\"subtype\":\"Figure\"},\"id\":\"4e5f4750-9a88-4fca-cf9f-cd4ce3b7a203\",\"tags\":[],\"doc\":null}},{\"id\":\"49fd7e0a-99e4-42c9-c230-569e198fd904\",\"type\":\"Legend\",\"attributes\":{\"plot\":{\"id\":\"a49f8f88-172c-43fc-c36e-1e4be944b303\",\"type\":\"Plot\",\"subtype\":\"Figure\"},\"legends\":[[\"Train\",[{\"type\":\"GlyphRenderer\",\"id\":\"fc73a7e6-7404-4f02-cf0e-21bbb4c021ef\"}]],[\"Test\",[{\"type\":\"GlyphRenderer\",\"id\":\"edb83bf6-05e3-44b6-c4a2-4de8e78dc2eb\"}]]],\"id\":\"49fd7e0a-99e4-42c9-c230-569e198fd904\",\"doc\":null,\"tags\":[]}},{\"id\":\"a49f8f88-172c-43fc-c36e-1e4be944b303\",\"type\":\"Plot\",\"attributes\":{\"x_range\":{\"type\":\"DataRange1d\",\"id\":\"9ad64c8d-0dc1-490d-c9da-0dd82bac1e91\"},\"tool_events\":{\"type\":\"ToolEvents\",\"id\":\"3de3aa81-2bc2-4514-c55b-552a597be5ee\"},\"below\":[{\"type\":\"LinearAxis\",\"id\":\"bf1c741c-5060-4927-c9b9-07391de6e8a4\"}],\"renderers\":[{\"type\":\"GlyphRenderer\",\"id\":\"fc73a7e6-7404-4f02-cf0e-21bbb4c021ef\"},{\"type\":\"GlyphRenderer\",\"id\":\"edb83bf6-05e3-44b6-c4a2-4de8e78dc2eb\"},{\"type\":\"LinearAxis\",\"id\":\"bf1c741c-5060-4927-c9b9-07391de6e8a4\"},{\"type\":\"Grid\",\"id\":\"e4375cef-c895-46d0-c6a9-fab205519e72\"},{\"type\":\"LinearAxis\",\"id\":\"4323d333-fe4b-47ae-c720-624cf01f3eae\"},{\"type\":\"Grid\",\"id\":\"1aa638fb-0aeb-4e45-cebe-45eea8d8a6e4\"},{\"type\":\"Legend\",\"id\":\"49fd7e0a-99e4-42c9-c230-569e198fd904\"}],\"above\":[],\"tools\":[{\"type\":\"PanTool\",\"id\":\"a5b6de1d-d2b3-4e39-ce5e-d76a30234d47\"},{\"type\":\"WheelZoomTool\",\"id\":\"d8769ff3-60c1-4be2-cbef-3376017c54e6\"},{\"type\":\"BoxZoomTool\",\"id\":\"5cff97a7-73c3-432a-c325-b8d3f3c8984a\"},{\"type\":\"PreviewSaveTool\",\"id\":\"8fece7b3-34f4-4a7d-ca00-df339eec392a\"},{\"type\":\"ResizeTool\",\"id\":\"51b3bdeb-9054-46ac-c68b-ae4a6f851315\"},{\"type\":\"ResetTool\",\"id\":\"4e5f4750-9a88-4fca-cf9f-cd4ce3b7a203\"}],\"doc\":null,\"right\":[],\"title\":\"Train\\/Test TotalValid\",\"extra_x_ranges\":{},\"left\":[{\"type\":\"LinearAxis\",\"id\":\"4323d333-fe4b-47ae-c720-624cf01f3eae\"}],\"y_range\":{\"type\":\"DataRange1d\",\"id\":\"88fe02b4-c305-4443-c4bc-51a48e8ab53c\"},\"id\":\"a49f8f88-172c-43fc-c36e-1e4be944b303\",\"extra_y_ranges\":{},\"tags\":[]}}];\n",
       "  Bokeh.load_models(all_models);\n",
       "  var model = Bokeh.Collections(modeltype).get(modelid);\n",
       "  $(\"#71c762a4-7339-4c46-cc34-a9cde1830045\").html(''); // clear any previous plot in window_id\n",
       "  var view = new model.default_view({model: model, el: \"#71c762a4-7339-4c46-cc34-a9cde1830045\"});\n",
       "    } else {\n",
       "  load_lib(bokehjs_url, function() {\n",
       "      console.log(\"Bokeh: BokehJS plotting callback run at\", new Date())\n",
       "      var modelid = \"a49f8f88-172c-43fc-c36e-1e4be944b303\";\n",
       "      var modeltype = \"Plot\";\n",
       "      var all_models = [{\"id\":\"4c92973d-d7fe-41e5-c1dd-b80d028b6905\",\"type\":\"ColumnDataSource\",\"attributes\":{\"data\":{\"y\":[90.974998474121,94.574996948242,96.345001220703,97.328330993652,97.973335266113,98.421669006348,98.74666595459,99.059997558594,99.286666870117,99.464996337891,99.610000610352,99.723335266113,99.798332214355,99.860000610352,99.898330688477,99.919998168945,99.940002441406,99.955001831055,99.966667175293,99.974998474121],\"x\":[1,2,3,4,5,6,7,8,9,10,11,12,13,14,15,16,17,18,19,20]},\"column_names\":[\"y\",\"x\"],\"cont_ranges\":{},\"discrete_ranges\":{},\"selected\":[],\"id\":\"4c92973d-d7fe-41e5-c1dd-b80d028b6905\",\"doc\":null,\"tags\":[]}},{\"id\":\"c1b533d8-3c18-4cdd-cc47-403647fe1018\",\"type\":\"Line\",\"attributes\":{\"fill_alpha\":{\"units\":\"data\",\"value\":0.2},\"line_alpha\":{\"units\":\"data\",\"value\":1},\"doc\":null,\"size\":{\"units\":\"screen\",\"value\":10},\"fill_color\":{\"value\":\"green\"},\"line_color\":{\"value\":\"green\"},\"x\":{\"units\":\"data\",\"field\":\"x\"},\"id\":\"c1b533d8-3c18-4cdd-cc47-403647fe1018\",\"y\":{\"units\":\"data\",\"field\":\"y\"},\"tags\":[]}},{\"id\":\"f7004df0-ddf7-4d03-cdb8-4fa1de6e3bcf\",\"type\":\"Line\",\"attributes\":{\"fill_alpha\":{\"units\":\"data\",\"value\":0.2},\"line_alpha\":{\"units\":\"data\",\"value\":1},\"doc\":null,\"size\":{\"units\":\"screen\",\"value\":10},\"fill_color\":{\"value\":\"green\"},\"line_color\":{\"value\":\"green\"},\"x\":{\"units\":\"data\",\"field\":\"x\"},\"id\":\"f7004df0-ddf7-4d03-cdb8-4fa1de6e3bcf\",\"y\":{\"units\":\"data\",\"field\":\"y\"},\"tags\":[]}},{\"id\":\"fc73a7e6-7404-4f02-cf0e-21bbb4c021ef\",\"type\":\"GlyphRenderer\",\"attributes\":{\"name\":null,\"nonselection_glyph\":{\"type\":\"Line\",\"id\":\"f7004df0-ddf7-4d03-cdb8-4fa1de6e3bcf\"},\"doc\":null,\"server_data_source\":null,\"data_source\":{\"type\":\"ColumnDataSource\",\"id\":\"4c92973d-d7fe-41e5-c1dd-b80d028b6905\"},\"glyph\":{\"type\":\"Line\",\"id\":\"c1b533d8-3c18-4cdd-cc47-403647fe1018\"},\"selection_glyph\":null,\"id\":\"fc73a7e6-7404-4f02-cf0e-21bbb4c021ef\",\"tags\":[]}},{\"id\":\"3341b4ae-cbb7-4b06-cb09-af6b68284b67\",\"type\":\"ColumnDataSource\",\"attributes\":{\"data\":{\"y\":[92.470001220703,94.919998168945,96.110000610352,96.699996948242,97.120002746582,97.300003051758,97.51000213623,97.580001831055,97.680000305176,97.809997558594,97.849998474121,97.870002746582,97.870002746582,97.879997253418,97.910003662109,97.949996948242,97.98999786377,98.01000213623,98.040000915527,98.059997558594],\"x\":[1,2,3,4,5,6,7,8,9,10,11,12,13,14,15,16,17,18,19,20]},\"column_names\":[\"y\",\"x\"],\"cont_ranges\":{},\"discrete_ranges\":{},\"selected\":[],\"id\":\"3341b4ae-cbb7-4b06-cb09-af6b68284b67\",\"doc\":null,\"tags\":[]}},{\"id\":\"4790005a-184c-44cd-c430-d44d8e4487c9\",\"type\":\"Line\",\"attributes\":{\"fill_alpha\":{\"units\":\"data\",\"value\":0.2},\"line_alpha\":{\"units\":\"data\",\"value\":1},\"doc\":null,\"size\":{\"units\":\"screen\",\"value\":10},\"fill_color\":{\"value\":\"blue\"},\"line_color\":{\"value\":\"blue\"},\"x\":{\"units\":\"data\",\"field\":\"x\"},\"id\":\"4790005a-184c-44cd-c430-d44d8e4487c9\",\"y\":{\"units\":\"data\",\"field\":\"y\"},\"tags\":[]}},{\"id\":\"851d1b8b-11ef-4d4f-cd56-15c4c5291a50\",\"type\":\"Line\",\"attributes\":{\"fill_alpha\":{\"units\":\"data\",\"value\":0.2},\"line_alpha\":{\"units\":\"data\",\"value\":1},\"doc\":null,\"size\":{\"units\":\"screen\",\"value\":10},\"fill_color\":{\"value\":\"blue\"},\"line_color\":{\"value\":\"blue\"},\"x\":{\"units\":\"data\",\"field\":\"x\"},\"id\":\"851d1b8b-11ef-4d4f-cd56-15c4c5291a50\",\"y\":{\"units\":\"data\",\"field\":\"y\"},\"tags\":[]}},{\"id\":\"edb83bf6-05e3-44b6-c4a2-4de8e78dc2eb\",\"type\":\"GlyphRenderer\",\"attributes\":{\"name\":null,\"nonselection_glyph\":{\"type\":\"Line\",\"id\":\"851d1b8b-11ef-4d4f-cd56-15c4c5291a50\"},\"doc\":null,\"server_data_source\":null,\"data_source\":{\"type\":\"ColumnDataSource\",\"id\":\"3341b4ae-cbb7-4b06-cb09-af6b68284b67\"},\"glyph\":{\"type\":\"Line\",\"id\":\"4790005a-184c-44cd-c430-d44d8e4487c9\"},\"selection_glyph\":null,\"id\":\"edb83bf6-05e3-44b6-c4a2-4de8e78dc2eb\",\"tags\":[]}},{\"id\":\"9ad64c8d-0dc1-490d-c9da-0dd82bac1e91\",\"type\":\"DataRange1d\",\"attributes\":{\"sources\":[{\"columns\":[\"x\"],\"source\":{\"type\":\"ColumnDataSource\",\"id\":\"4c92973d-d7fe-41e5-c1dd-b80d028b6905\"}},{\"columns\":[\"x\"],\"source\":{\"type\":\"ColumnDataSource\",\"id\":\"3341b4ae-cbb7-4b06-cb09-af6b68284b67\"}}],\"id\":\"9ad64c8d-0dc1-490d-c9da-0dd82bac1e91\",\"tags\":[],\"doc\":null}},{\"id\":\"88fe02b4-c305-4443-c4bc-51a48e8ab53c\",\"type\":\"DataRange1d\",\"attributes\":{\"sources\":[{\"columns\":[\"y\"],\"source\":{\"type\":\"ColumnDataSource\",\"id\":\"4c92973d-d7fe-41e5-c1dd-b80d028b6905\"}},{\"columns\":[\"y\"],\"source\":{\"type\":\"ColumnDataSource\",\"id\":\"3341b4ae-cbb7-4b06-cb09-af6b68284b67\"}}],\"id\":\"88fe02b4-c305-4443-c4bc-51a48e8ab53c\",\"tags\":[],\"doc\":null}},{\"id\":\"3de3aa81-2bc2-4514-c55b-552a597be5ee\",\"type\":\"ToolEvents\",\"attributes\":{\"tags\":[],\"id\":\"3de3aa81-2bc2-4514-c55b-552a597be5ee\",\"geometries\":[],\"doc\":null}},{\"id\":\"30478146-1415-43bc-c354-2f11b7f63741\",\"type\":\"BasicTickFormatter\",\"attributes\":{\"id\":\"30478146-1415-43bc-c354-2f11b7f63741\",\"tags\":[],\"doc\":null}},{\"id\":\"67fedde7-77f3-4be4-cbee-f8d7e302e1f3\",\"type\":\"BasicTicker\",\"attributes\":{\"num_minor_ticks\":5,\"id\":\"67fedde7-77f3-4be4-cbee-f8d7e302e1f3\",\"tags\":[],\"doc\":null}},{\"id\":\"bf1c741c-5060-4927-c9b9-07391de6e8a4\",\"type\":\"LinearAxis\",\"attributes\":{\"formatter\":{\"type\":\"BasicTickFormatter\",\"id\":\"30478146-1415-43bc-c354-2f11b7f63741\"},\"ticker\":{\"type\":\"BasicTicker\",\"id\":\"67fedde7-77f3-4be4-cbee-f8d7e302e1f3\"},\"plot\":{\"id\":\"a49f8f88-172c-43fc-c36e-1e4be944b303\",\"type\":\"Plot\",\"subtype\":\"Figure\"},\"axis_label\":null,\"id\":\"bf1c741c-5060-4927-c9b9-07391de6e8a4\",\"doc\":null,\"tags\":[]}},{\"id\":\"e4375cef-c895-46d0-c6a9-fab205519e72\",\"type\":\"Grid\",\"attributes\":{\"dimension\":0,\"plot\":{\"id\":\"a49f8f88-172c-43fc-c36e-1e4be944b303\",\"type\":\"Plot\",\"subtype\":\"Figure\"},\"ticker\":{\"type\":\"BasicTicker\",\"id\":\"67fedde7-77f3-4be4-cbee-f8d7e302e1f3\"},\"id\":\"e4375cef-c895-46d0-c6a9-fab205519e72\",\"doc\":null,\"tags\":[]}},{\"id\":\"648b2e60-e405-4c40-cc5b-fff61141078a\",\"type\":\"BasicTickFormatter\",\"attributes\":{\"id\":\"648b2e60-e405-4c40-cc5b-fff61141078a\",\"tags\":[],\"doc\":null}},{\"id\":\"489e075e-014c-4ef5-ce93-ac111bcdfad3\",\"type\":\"BasicTicker\",\"attributes\":{\"num_minor_ticks\":5,\"id\":\"489e075e-014c-4ef5-ce93-ac111bcdfad3\",\"tags\":[],\"doc\":null}},{\"id\":\"4323d333-fe4b-47ae-c720-624cf01f3eae\",\"type\":\"LinearAxis\",\"attributes\":{\"formatter\":{\"type\":\"BasicTickFormatter\",\"id\":\"648b2e60-e405-4c40-cc5b-fff61141078a\"},\"ticker\":{\"type\":\"BasicTicker\",\"id\":\"489e075e-014c-4ef5-ce93-ac111bcdfad3\"},\"plot\":{\"id\":\"a49f8f88-172c-43fc-c36e-1e4be944b303\",\"type\":\"Plot\",\"subtype\":\"Figure\"},\"axis_label\":null,\"id\":\"4323d333-fe4b-47ae-c720-624cf01f3eae\",\"doc\":null,\"tags\":[]}},{\"id\":\"1aa638fb-0aeb-4e45-cebe-45eea8d8a6e4\",\"type\":\"Grid\",\"attributes\":{\"dimension\":1,\"plot\":{\"id\":\"a49f8f88-172c-43fc-c36e-1e4be944b303\",\"type\":\"Plot\",\"subtype\":\"Figure\"},\"ticker\":{\"type\":\"BasicTicker\",\"id\":\"489e075e-014c-4ef5-ce93-ac111bcdfad3\"},\"id\":\"1aa638fb-0aeb-4e45-cebe-45eea8d8a6e4\",\"doc\":null,\"tags\":[]}},{\"id\":\"a5b6de1d-d2b3-4e39-ce5e-d76a30234d47\",\"type\":\"PanTool\",\"attributes\":{\"plot\":{\"id\":\"a49f8f88-172c-43fc-c36e-1e4be944b303\",\"type\":\"Plot\",\"subtype\":\"Figure\"},\"dimensions\":[\"width\",\"height\"],\"id\":\"a5b6de1d-d2b3-4e39-ce5e-d76a30234d47\",\"doc\":null,\"tags\":[]}},{\"id\":\"d8769ff3-60c1-4be2-cbef-3376017c54e6\",\"type\":\"WheelZoomTool\",\"attributes\":{\"plot\":{\"id\":\"a49f8f88-172c-43fc-c36e-1e4be944b303\",\"type\":\"Plot\",\"subtype\":\"Figure\"},\"dimensions\":[\"width\",\"height\"],\"id\":\"d8769ff3-60c1-4be2-cbef-3376017c54e6\",\"doc\":null,\"tags\":[]}},{\"id\":\"5cff97a7-73c3-432a-c325-b8d3f3c8984a\",\"type\":\"BoxZoomTool\",\"attributes\":{\"plot\":{\"id\":\"a49f8f88-172c-43fc-c36e-1e4be944b303\",\"type\":\"Plot\",\"subtype\":\"Figure\"},\"id\":\"5cff97a7-73c3-432a-c325-b8d3f3c8984a\",\"tags\":[],\"doc\":null}},{\"id\":\"8fece7b3-34f4-4a7d-ca00-df339eec392a\",\"type\":\"PreviewSaveTool\",\"attributes\":{\"plot\":{\"id\":\"a49f8f88-172c-43fc-c36e-1e4be944b303\",\"type\":\"Plot\",\"subtype\":\"Figure\"},\"id\":\"8fece7b3-34f4-4a7d-ca00-df339eec392a\",\"tags\":[],\"doc\":null}},{\"id\":\"51b3bdeb-9054-46ac-c68b-ae4a6f851315\",\"type\":\"ResizeTool\",\"attributes\":{\"plot\":{\"id\":\"a49f8f88-172c-43fc-c36e-1e4be944b303\",\"type\":\"Plot\",\"subtype\":\"Figure\"},\"id\":\"51b3bdeb-9054-46ac-c68b-ae4a6f851315\",\"tags\":[],\"doc\":null}},{\"id\":\"4e5f4750-9a88-4fca-cf9f-cd4ce3b7a203\",\"type\":\"ResetTool\",\"attributes\":{\"plot\":{\"id\":\"a49f8f88-172c-43fc-c36e-1e4be944b303\",\"type\":\"Plot\",\"subtype\":\"Figure\"},\"id\":\"4e5f4750-9a88-4fca-cf9f-cd4ce3b7a203\",\"tags\":[],\"doc\":null}},{\"id\":\"49fd7e0a-99e4-42c9-c230-569e198fd904\",\"type\":\"Legend\",\"attributes\":{\"plot\":{\"id\":\"a49f8f88-172c-43fc-c36e-1e4be944b303\",\"type\":\"Plot\",\"subtype\":\"Figure\"},\"legends\":[[\"Train\",[{\"type\":\"GlyphRenderer\",\"id\":\"fc73a7e6-7404-4f02-cf0e-21bbb4c021ef\"}]],[\"Test\",[{\"type\":\"GlyphRenderer\",\"id\":\"edb83bf6-05e3-44b6-c4a2-4de8e78dc2eb\"}]]],\"id\":\"49fd7e0a-99e4-42c9-c230-569e198fd904\",\"doc\":null,\"tags\":[]}},{\"id\":\"a49f8f88-172c-43fc-c36e-1e4be944b303\",\"type\":\"Plot\",\"attributes\":{\"x_range\":{\"type\":\"DataRange1d\",\"id\":\"9ad64c8d-0dc1-490d-c9da-0dd82bac1e91\"},\"tool_events\":{\"type\":\"ToolEvents\",\"id\":\"3de3aa81-2bc2-4514-c55b-552a597be5ee\"},\"below\":[{\"type\":\"LinearAxis\",\"id\":\"bf1c741c-5060-4927-c9b9-07391de6e8a4\"}],\"renderers\":[{\"type\":\"GlyphRenderer\",\"id\":\"fc73a7e6-7404-4f02-cf0e-21bbb4c021ef\"},{\"type\":\"GlyphRenderer\",\"id\":\"edb83bf6-05e3-44b6-c4a2-4de8e78dc2eb\"},{\"type\":\"LinearAxis\",\"id\":\"bf1c741c-5060-4927-c9b9-07391de6e8a4\"},{\"type\":\"Grid\",\"id\":\"e4375cef-c895-46d0-c6a9-fab205519e72\"},{\"type\":\"LinearAxis\",\"id\":\"4323d333-fe4b-47ae-c720-624cf01f3eae\"},{\"type\":\"Grid\",\"id\":\"1aa638fb-0aeb-4e45-cebe-45eea8d8a6e4\"},{\"type\":\"Legend\",\"id\":\"49fd7e0a-99e4-42c9-c230-569e198fd904\"}],\"above\":[],\"tools\":[{\"type\":\"PanTool\",\"id\":\"a5b6de1d-d2b3-4e39-ce5e-d76a30234d47\"},{\"type\":\"WheelZoomTool\",\"id\":\"d8769ff3-60c1-4be2-cbef-3376017c54e6\"},{\"type\":\"BoxZoomTool\",\"id\":\"5cff97a7-73c3-432a-c325-b8d3f3c8984a\"},{\"type\":\"PreviewSaveTool\",\"id\":\"8fece7b3-34f4-4a7d-ca00-df339eec392a\"},{\"type\":\"ResizeTool\",\"id\":\"51b3bdeb-9054-46ac-c68b-ae4a6f851315\"},{\"type\":\"ResetTool\",\"id\":\"4e5f4750-9a88-4fca-cf9f-cd4ce3b7a203\"}],\"doc\":null,\"right\":[],\"title\":\"Train\\/Test TotalValid\",\"extra_x_ranges\":{},\"left\":[{\"type\":\"LinearAxis\",\"id\":\"4323d333-fe4b-47ae-c720-624cf01f3eae\"}],\"y_range\":{\"type\":\"DataRange1d\",\"id\":\"88fe02b4-c305-4443-c4bc-51a48e8ab53c\"},\"id\":\"a49f8f88-172c-43fc-c36e-1e4be944b303\",\"extra_y_ranges\":{},\"tags\":[]}}];\n",
       "      Bokeh.load_models(all_models);\n",
       "      var model = Bokeh.Collections(modeltype).get(modelid);\n",
       "      $(\"#71c762a4-7339-4c46-cc34-a9cde1830045\").html(''); // clear any previous plot in window_id\n",
       "      var view = new model.default_view({model: model, el: \"#71c762a4-7339-4c46-cc34-a9cde1830045\"});\n",
       "  });\n",
       "    }\n",
       "});\n",
       "</script>\n",
       "<div class=\"plotdiv\" id=\"71c762a4-7339-4c46-cc34-a9cde1830045\"></div>\n"
      ]
     },
     "metadata": {},
     "output_type": "display_data"
    }
   ],
   "source": [
    "Plot = require 'itorch.Plot'\n",
    "\n",
    "trainValid = table2Tensor(trainHistory)\n",
    "testValid = table2Tensor(testHistory)\n",
    "\n",
    "epochCount = torch.Tensor(numIter)\n",
    "i = 0\n",
    "\n",
    "epochCount:apply(function()\n",
    "    i = i + 1\n",
    "    return i\n",
    "end)\n",
    "\n",
    "\n",
    "-- line plots\n",
    "plot = Plot():line(epochCount, trainValid, 'green', 'Train')\n",
    "plot:line(epochCount, testValid, 'blue', 'Test')\n",
    "plot:legend(true)\n",
    "plot:title('Train/Test TotalValid'):draw()"
   ]
  },
  {
   "cell_type": "code",
   "execution_count": null,
   "metadata": {
    "collapsed": true
   },
   "outputs": [],
   "source": []
  }
 ],
 "metadata": {
  "kernelspec": {
   "display_name": "iTorch",
   "language": "lua",
   "name": "itorch"
  },
  "language_info": {
   "name": "lua",
   "version": "20100"
  }
 },
 "nbformat": 4,
 "nbformat_minor": 0
}
