{
 "cells": [
  {
   "cell_type": "markdown",
   "metadata": {},
   "source": [
    "### Reference.\n",
    "Torch-Demos : [digit classifier](https://github.com/torch/demos/blob/master/train-a-digit-classifier/train-on-mnist.lua)"
   ]
  },
  {
   "cell_type": "code",
   "execution_count": 1,
   "metadata": {
    "collapsed": false
   },
   "outputs": [],
   "source": [
    "require 'torch'\n",
    "require 'nn'\n",
    "require 'optim'\n",
    "require 'image'\n",
    "require 'dataset-mnist'"
   ]
  },
  {
   "cell_type": "code",
   "execution_count": 2,
   "metadata": {
    "collapsed": false,
    "scrolled": true
   },
   "outputs": [
    {
     "data": {
      "text/plain": [
       "<torch> set nb of threads to 1\t\n"
      ]
     },
     "execution_count": 2,
     "metadata": {},
     "output_type": "execute_result"
    }
   ],
   "source": [
    "-- Setting Hyperparameters\n",
    "batchSize = 50\n",
    "learningRate = 0.05\n",
    "momentum = 0\n",
    "numIter = 20\n",
    "\n",
    "-- Fix Seed\n",
    "torch.manualSeed(1)\n",
    "\n",
    "-- Setting worker\n",
    "torch.setnumthreads(2)\n",
    "print('<torch> set nb of threads to ' .. torch.getnumthreads())\n",
    "\n",
    "-- Use Floats\n",
    "torch.setdefaulttensortype('torch.FloatTensor')"
   ]
  },
  {
   "cell_type": "code",
   "execution_count": 3,
   "metadata": {
    "collapsed": true
   },
   "outputs": [],
   "source": [
    "-- Define model to Train\n",
    "-- On the 10-class Classification Problem\n",
    "-- Geometry : width and height of input images\n",
    "\n",
    "classes = {'1', '2' ,'3' ,'4' ,'5' ,'6' ,'7' ,'8' ,'9', '10'}\n",
    "geometry = {32, 32}"
   ]
  },
  {
   "cell_type": "code",
   "execution_count": 4,
   "metadata": {
    "collapsed": false
   },
   "outputs": [
    {
     "data": {
      "text/plain": [
       "<mnist> done\t\n"
      ]
     },
     "execution_count": 4,
     "metadata": {},
     "output_type": "execute_result"
    },
    {
     "data": {
      "text/plain": [
       "<mnist> done\t\n"
      ]
     },
     "execution_count": 4,
     "metadata": {},
     "output_type": "execute_result"
    }
   ],
   "source": [
    "numTrain = 60000\n",
    "numTest = 10000\n",
    "\n",
    "-- Create training set and normalize\n",
    "trainData = mnist.loadTrainSet(numTrain, geometry)\n",
    "trainData:normalizeGlobal(mean, std)\n",
    "\n",
    "-- Create test set and normalize\n",
    "testData = mnist.loadTestSet(numTest, geometry)\n",
    "testData:normalizeGlobal(mean, std)"
   ]
  },
  {
   "cell_type": "code",
   "execution_count": 5,
   "metadata": {
    "collapsed": false
   },
   "outputs": [
    {
     "data": {
      "text/plain": [
       "{\n",
       "  data : FloatTensor - size: 60000x1x32x32\n",
       "  normalize : function: 0x0ce96930\n",
       "  labels : ByteTensor - size: 60000\n",
       "  normalizeGlobal : function: 0x0ce968f8\n",
       "  size : function: 0x0ce969d8\n",
       "}\n",
       "{\n",
       "  data : FloatTensor - size: 10000x1x32x32\n",
       "  normalize : function: 0x0ce977c0\n",
       "  labels : ByteTensor - size: 10000\n",
       "  normalizeGlobal : function: 0x0ce97788\n",
       "  size : function: 0x0ce97868\n",
       "}\n"
      ]
     },
     "execution_count": 5,
     "metadata": {},
     "output_type": "execute_result"
    }
   ],
   "source": [
    "print(trainData)\n",
    "print(testData)"
   ]
  },
  {
   "cell_type": "code",
   "execution_count": 6,
   "metadata": {
    "collapsed": true
   },
   "outputs": [],
   "source": [
    "-- 2 Layer Neural Network\n",
    "model = nn.Sequential()\n",
    "\n",
    "model:add(nn.Reshape(32*32))\n",
    "model:add(nn.Linear(32*32, 2048))\n",
    "model:add(nn.Tanh())\n",
    "model:add(nn.Linear(2048, #classes))\n",
    "model:add(nn.LogSoftMax())\n",
    "\n",
    "criterion = nn.ClassNLLCriterion()"
   ]
  },
  {
   "cell_type": "code",
   "execution_count": 7,
   "metadata": {
    "collapsed": false
   },
   "outputs": [],
   "source": [
    "-- Retrieve parameters and gradients\n",
    "parameters, gradParameters = model:getParameters()\n",
    "\n",
    "confusion = optim.ConfusionMatrix(classes)\n",
    "trainHistory = {}\n",
    "testHistory = {}"
   ]
  },
  {
   "cell_type": "code",
   "execution_count": 8,
   "metadata": {
    "collapsed": true
   },
   "outputs": [],
   "source": [
    "-- Train function\n",
    "function train(dataset)\n",
    "    -- epoch tracker\n",
    "    epoch = epoch or 1\n",
    "\n",
    "    -- local vars\n",
    "    local time = sys.clock()\n",
    "\n",
    "    -- do one epoch\n",
    "    print('<trainer> on training set:')\n",
    "    print(\"<trainer> online epoch # \" .. epoch .. ' [batchSize = ' .. batchSize .. ']')\n",
    "    for t = 1, numTrain, batchSize do\n",
    "        -- create mini batch\n",
    "        local inputs = torch.Tensor(batchSize,1,geometry[1],geometry[2])\n",
    "        local targets = torch.Tensor(batchSize)\n",
    "        local k = 1\n",
    "        for i = t, math.min(t+batchSize-1, numTrain) do\n",
    "            -- load new sample\n",
    "            local sample = dataset[i]\n",
    "            local input = sample[1]:clone()\n",
    "            local _,target = sample[2]:clone():max(1)\n",
    "            target = target:squeeze()\n",
    "            inputs[k] = input\n",
    "            targets[k] = target\n",
    "            k = k + 1\n",
    "        end\n",
    "\n",
    "        -- create closure to evaluate f(X) and df/dX\n",
    "        local feval = function(x)\n",
    "            -- just in case:\n",
    "            collectgarbage()\n",
    "\n",
    "            -- get new parameters\n",
    "            if x ~= parameters then\n",
    "                parameters:copy(x)\n",
    "            end\n",
    "\n",
    "            -- reset gradients\n",
    "            gradParameters:zero()\n",
    "\n",
    "            -- evaluate function for complete mini batch\n",
    "            local outputs = model:forward(inputs)\n",
    "            local f = criterion:forward(outputs, targets)\n",
    "\n",
    "            -- estimate df/dW\n",
    "            local df_do = criterion:backward(outputs, targets)\n",
    "            model:backward(inputs, df_do)\n",
    "\n",
    "            -- update confusion\n",
    "            for i = 1,batchSize do\n",
    "                confusion:add(outputs[i], targets[i])\n",
    "            end\n",
    "\n",
    "            -- return f and df/dX\n",
    "            return f,gradParameters\n",
    "        end\n",
    "\n",
    "        -- Perform SGD step:\n",
    "        sgdState = sgdState or {\n",
    "            learningRate = learningRate,\n",
    "            momentum = momentum,\n",
    "            learningRateDecay = 5e-7\n",
    "        }\n",
    "        optim.sgd(feval, parameters, sgdState)\n",
    "\n",
    "        -- disp progress\n",
    "        xlua.progress(t, numTrain)\n",
    "    end\n",
    "   \n",
    "    -- time taken\n",
    "    time = sys.clock() - time\n",
    "    time = time / numTrain\n",
    "    print(\"<trainer> time to learn 1 sample = \" .. (time*1000) .. 'ms')\n",
    "\n",
    "    -- print confusion matrix\n",
    "    print(confusion)\n",
    "    table.insert(trainHistory, confusion.totalValid * 100)\n",
    "    confusion:zero()\n",
    "\n",
    "    -- next epoch\n",
    "    epoch = epoch + 1\n",
    "end"
   ]
  },
  {
   "cell_type": "code",
   "execution_count": 9,
   "metadata": {
    "collapsed": true
   },
   "outputs": [],
   "source": [
    "-- test function\n",
    "function test(dataset)\n",
    "    -- local vars\n",
    "    local time = sys.clock()\n",
    "\n",
    "    -- test over given dataset\n",
    "    print('<trainer> on testing Set:')\n",
    "    for t = 1, dataset:size(), batchSize do\n",
    "        -- disp progress\n",
    "        xlua.progress(t, dataset:size())\n",
    "\n",
    "        -- create mini batch\n",
    "        local inputs = torch.Tensor(batchSize, 1, geometry[1], geometry[2])\n",
    "        local targets = torch.Tensor(batchSize)\n",
    "        local k = 1\n",
    "        for i = t,math.min(t+batchSize-1, dataset:size()) do\n",
    "            -- load new sample\n",
    "            local sample = dataset[i]\n",
    "            local input = sample[1]:clone()\n",
    "            local _,target = sample[2]:clone():max(1)\n",
    "            target = target:squeeze()\n",
    "            inputs[k] = input\n",
    "            targets[k] = target\n",
    "            k = k + 1\n",
    "        end\n",
    "\n",
    "        -- test samples\n",
    "        local preds = model:forward(inputs)\n",
    "\n",
    "        -- confusion:\n",
    "        for i = 1, batchSize do\n",
    "            confusion:add(preds[i], targets[i])\n",
    "        end\n",
    "    end\n",
    "\n",
    "    -- timing\n",
    "    time = sys.clock() - time\n",
    "    time = time / dataset:size()\n",
    "    print(\"<trainer> time to test 1 sample = \" .. (time*1000) .. 'ms')\n",
    "\n",
    "    -- print confusion matrix\n",
    "    print(confusion)\n",
    "    table.insert(testHistory, confusion.totalValid * 100)\n",
    "    confusion:zero()\n",
    "end"
   ]
  },
  {
   "cell_type": "code",
   "execution_count": 10,
   "metadata": {
    "collapsed": false
   },
   "outputs": [
    {
     "data": {
      "text/plain": [
       "<trainer> on training set:\t\n",
       "<trainer> online epoch # 1 [batchSize = 50]\t\n"
      ]
     },
     "execution_count": 10,
     "metadata": {},
     "output_type": "execute_result"
    },
    {
     "data": {
      "text/plain": [
       "Progress: 23901 / 60000\t\n"
      ]
     },
     "execution_count": 10,
     "metadata": {},
     "output_type": "execute_result"
    },
    {
     "data": {
      "text/plain": [
       "Progress: 50451 / 60000\t\n"
      ]
     },
     "execution_count": 10,
     "metadata": {},
     "output_type": "execute_result"
    },
    {
     "data": {
      "text/plain": [
       "<trainer> time to learn 1 sample = 0.21535853147507ms\t\n",
       "ConfusionMatrix:\n",
       "[[    5679       1      38      25      13      60      44       4      49      10]   95.880% \t[class: 1]\n",
       " [       1    6508      39      32       7      33       7      15      85      15]   96.529% \t[class: 2]\n",
       " [      49      71    5291      98      90      35      90      87     121      26]   88.805% \t[class: 3]\n",
       " [      32      39     127    5408       6     219      39      72     124      65]   88.207% \t[class: 4]\n",
       " [      13      30      45       8    5375       7      63      18      33     250]   92.006% \t[class: 5]\n",
       " [      71      42      33     216      72    4650     108      29     137      63]   85.778% \t[class: 6]\n",
       " [      51      27      64       5      65      78    5584       3      39       2]   94.356% \t[class: 7]\n",
       " [      30      56      84      24      68      11       8    5780      13     191]   92.259% \t[class: 8]\n",
       " [      33     118      88     166      33     170      49      22    5073      99]   86.703% \t[class: 9]\n",
       " [      37      40      21      94     209      37      12     206      56    5237]]  88.032% \t[class: 10]\n",
       " + average row correct: 90.855533480644% \n",
       " + average rowUcol correct (VOC measure): 83.388709425926% \n",
       " + global correct: 90.975%\n",
       "{\n",
       "  valids : FloatTensor - size: 10\n",
       "  mat : LongTensor - size: 10x10\n",
       "  averageUnionValid : 0.83388709425926\n",
       "  _targ_idx : LongTensor - empty\n",
       "  averageValid : 0.90855533480644\n",
       "  classes : \n",
       "    {\n",
       "      1 : 1\n",
       "      2 : 2\n",
       "      3 : 3\n",
       "      4 : 4\n",
       "      5 : 5\n",
       "      6 : 6\n",
       "      7 : 7\n",
       "      8 : 8\n",
       "      9 : 9\n",
       "      10 : 10\n",
       "    }\n",
       "  _prediction : FloatTensor - size: 10\n",
       "  _pred_idx : LongTensor - size: 1\n",
       "  nclasses : 10\n",
       "  _max : FloatTensor - size: 1\n",
       "  _target : FloatTensor - empty\n",
       "  unionvalids : FloatTensor - size: 10\n",
       "  totalValid : 0.90975\n",
       "}\n",
       "<trainer> on testing Set:\t\n"
      ]
     },
     "execution_count": 10,
     "metadata": {},
     "output_type": "execute_result"
    },
    {
     "data": {
      "text/plain": [
       "<trainer> time to test 1 sample = 0.086409401893616ms\t\n",
       "ConfusionMatrix:\n",
       "[[     971       0       1       1       0       3       2       1       1       0]   99.082% \t[class: 1]\n",
       " [       0    1121       2       2       1       1       3       2       3       0]   98.767% \t[class: 2]\n",
       " [      11      25     901      40      11       3      10       6      18       7]   87.306% \t[class: 3]\n",
       " [       5       3      12     925       1      34       1      10       5      14]   91.584% \t[class: 4]\n",
       " [       2       2       3       1     928       0       8       0       4      34]   94.501% \t[class: 5]\n",
       " [      10       3       3      13       9     826       5       4      13       6]   92.601% \t[class: 6]\n",
       " [      17       3       5       2       9      27     892       1       2       0]   93.111% \t[class: 7]\n",
       " [       3      17      20       9      12       2       0     902       3      60]   87.743% \t[class: 8]\n",
       " [      10      20       3      36      12      31       6       4     836      16]   85.832% \t[class: 9]\n",
       " [      13       9       1       7      21       4       0       5       4     945]]  93.657% \t[class: 10]\n",
       " + average row correct: 92.418297529221% \n",
       " + average rowUcol correct (VOC measure): 85.955429077148% \n",
       " + global correct: 92.47%\n",
       "{\n",
       "  valids : FloatTensor - size: 10\n",
       "  mat : LongTensor - size: 10x10\n",
       "  averageUnionValid : 0.85955429077148\n",
       "  _targ_idx : LongTensor - empty\n",
       "  averageValid : 0.92418297529221\n",
       "  classes : \n",
       "    {\n",
       "      1 : 1\n",
       "      2 : 2\n",
       "      3 : 3\n",
       "      4 : 4\n",
       "      5 : 5\n",
       "      6 : 6\n",
       "      7 : 7\n",
       "      8 : 8\n",
       "      9 : 9\n",
       "      10 : 10\n",
       "    }\n",
       "  _prediction : FloatTensor - size: 10\n",
       "  _pred_idx : LongTensor - size: 1\n",
       "  nclasses : 10\n",
       "  _max : FloatTensor - size: 1\n",
       "  _target : FloatTensor - empty\n",
       "  unionvalids : FloatTensor - size: 10\n",
       "  totalValid : 0.9247\n",
       "}\n",
       "<trainer> on training set:\t\n",
       "<trainer> online epoch # 2 [batchSize = 50]\t\n"
      ]
     },
     "execution_count": 10,
     "metadata": {},
     "output_type": "execute_result"
    },
    {
     "data": {
      "text/plain": [
       "Progress: 13151 / 60000\t\n"
      ]
     },
     "execution_count": 10,
     "metadata": {},
     "output_type": "execute_result"
    },
    {
     "data": {
      "text/plain": [
       "Progress: 38901 / 60000\t\n"
      ]
     },
     "execution_count": 10,
     "metadata": {},
     "output_type": "execute_result"
    },
    {
     "data": {
      "text/plain": [
       "<trainer> time to learn 1 sample = 0.22026749849319ms\t\n",
       "ConfusionMatrix:\n",
       "[[    5768       1      11      13       9      30      35       5      35      16]   97.383% \t[class: 1]\n",
       " [       1    6598      31      22       9      15       3      10      40      13]   97.864% \t[class: 2]\n",
       " [      20      34    5583      64      53      15      46      59      70      14]   93.706% \t[class: 3]\n",
       " [       7      22      93    5666       5     127      21      53      96      41]   92.416% \t[class: 4]\n",
       " [      11      19      34       4    5513       8      48      13      20     172]   94.368% \t[class: 5]\n",
       " [      35      17      22     115      37    5020      66      12      57      40]   92.603% \t[class: 6]\n",
       " [      34      13      33       5      40      56    5711       2      24       0]   96.502% \t[class: 7]\n",
       " [      13      31      58      18      52      11       2    5965      11     104]   95.211% \t[class: 8]\n",
       " [      22      63      34     102      25      84      30      16    5426      49]   92.736% \t[class: 9]\n",
       " [      26      21      10      63     141      26       2     122      43    5495]]  92.368% \t[class: 10]\n",
       " + average row correct: 94.515840411186% \n",
       " + average rowUcol correct (VOC measure): 89.661086797714% \n",
       " + global correct: 94.575%\n",
       "{\n",
       "  valids : FloatTensor - size: 10\n",
       "  mat : LongTensor - size: 10x10\n",
       "  averageUnionValid : 0.89661086797714\n",
       "  _targ_idx : LongTensor - empty\n",
       "  averageValid : 0.94515840411186\n",
       "  classes : \n",
       "    {\n",
       "      1 : 1\n",
       "      2 : 2\n",
       "      3 : 3\n",
       "      4 : 4\n",
       "      5 : 5\n",
       "      6 : 6\n",
       "      7 : 7\n",
       "      8 : 8\n",
       "      9 : 9\n",
       "      10 : 10\n",
       "    }\n",
       "  _prediction : FloatTensor - size: 10\n",
       "  _pred_idx : LongTensor - size: 1\n",
       "  nclasses : 10\n",
       "  _max : FloatTensor - size: 1\n",
       "  _target : FloatTensor - empty\n",
       "  unionvalids : FloatTensor - size: 10\n",
       "  totalValid : 0.94575\n",
       "}\n",
       "<trainer> on testing Set:\t\n"
      ]
     },
     "execution_count": 10,
     "metadata": {},
     "output_type": "execute_result"
    },
    {
     "data": {
      "text/plain": [
       "<trainer> time to test 1 sample = 0.080104398727417ms\t\n"
      ]
     },
     "execution_count": 10,
     "metadata": {},
     "output_type": "execute_result"
    },
    {
     "data": {
      "text/plain": [
       "ConfusionMatrix:\n",
       "[[     970       0       1       1       0       4       2       1       1       0]   98.980% \t[class: 1]\n",
       " [       0    1123       2       1       1       1       3       1       3       0]   98.943% \t[class: 2]\n",
       " [       8      13     966      15       6       1       6       4      11       2]   93.605% \t[class: 3]\n",
       " [       3       2       8     954       1      22       0       7       4       9]   94.455% \t[class: 4]\n",
       " [       1       0       4       1     946       0       7       0       3      20]   96.334% \t[class: 5]\n",
       " [       8       2       2       7       3     851       6       0       8       5]   95.404% \t[class: 6]\n",
       " [      11       3       4       0       6      30     899       1       4       0]   93.841% \t[class: 7]\n",
       " [       2      14      19       7       9       2       0     931       4      40]   90.564% \t[class: 8]\n",
       " [       4       6       4      20      10      15       3       4     900       8]   92.402% \t[class: 9]\n",
       " [       9       8       1       7      20       4       0       5       3     952]]  94.351% \t[class: 10]\n",
       " + average row correct: 94.887887239456% \n",
       " + average rowUcol correct (VOC measure): 90.280535817146% \n",
       " + global correct: 94.92%\n",
       "{\n",
       "  valids : FloatTensor - size: 10\n",
       "  mat : LongTensor - size: 10x10\n",
       "  averageUnionValid : 0.90280535817146\n",
       "  _targ_idx : LongTensor - empty\n",
       "  averageValid : 0.94887887239456\n",
       "  classes : \n",
       "    {\n",
       "      1 : 1\n",
       "      2 : 2\n",
       "      3 : 3\n",
       "      4 : 4\n",
       "      5 : 5\n",
       "      6 : 6\n",
       "      7 : 7\n",
       "      8 : 8\n",
       "      9 : 9\n",
       "      10 : 10\n",
       "    }\n",
       "  _prediction : FloatTensor - size: 10\n",
       "  _pred_idx : LongTensor - size: 1\n",
       "  nclasses : 10\n",
       "  _max : FloatTensor - size: 1\n",
       "  _target : FloatTensor - empty\n",
       "  unionvalids : FloatTensor - size: 10\n",
       "  totalValid : 0.9492\n",
       "}\n",
       "<trainer> on training set:\t\n",
       "<trainer> online epoch # 3 [batchSize = 50]\t\n"
      ]
     },
     "execution_count": 10,
     "metadata": {},
     "output_type": "execute_result"
    },
    {
     "data": {
      "text/plain": [
       "Progress: 2151 / 60000\t\n"
      ]
     },
     "execution_count": 10,
     "metadata": {},
     "output_type": "execute_result"
    },
    {
     "data": {
      "text/plain": [
       "Progress: 28701 / 60000\t\n"
      ]
     },
     "execution_count": 10,
     "metadata": {},
     "output_type": "execute_result"
    },
    {
     "data": {
      "text/plain": [
       "Progress: 56301 / 60000\t\n"
      ]
     },
     "execution_count": 10,
     "metadata": {},
     "output_type": "execute_result"
    },
    {
     "data": {
      "text/plain": [
       "<trainer> time to learn 1 sample = 0.2150576988856ms\t\n",
       "ConfusionMatrix:\n",
       "[[    5804       1      11       5       7      19      29       5      25      17]   97.991% \t[class: 1]\n",
       " [       1    6632      30      15      12       5       2      11      26       8]   98.368% \t[class: 2]\n",
       " [      20      22    5728      29      35       9      20      48      42       5]   96.140% \t[class: 3]\n",
       " [       7      13      61    5826       5      80       9      32      65      33]   95.025% \t[class: 4]\n",
       " [       9      15      26       2    5607       5      35      13      15     115]   95.977% \t[class: 5]\n",
       " [      21      12      12      73      21    5161      47      11      39      24]   95.204% \t[class: 6]\n",
       " [      32       9      14       4      21      34    5781       3      20       0]   97.685% \t[class: 7]\n",
       " [       9      22      38      15      40       8       1    6055       8      69]   96.648% \t[class: 8]\n",
       " [      16      44      27      66      16      42      28      10    5569      33]   95.180% \t[class: 9]\n",
       " [      21      13       3      45      91      22       1      77      32    5644]]  94.873% \t[class: 10]\n",
       " + average row correct: 96.309195756912% \n",
       " + average rowUcol correct (VOC measure): 92.908356785774% \n",
       " + global correct: 96.345%\n",
       "{\n",
       "  valids : FloatTensor - size: 10\n",
       "  mat : LongTensor - size: 10x10\n",
       "  averageUnionValid : 0.92908356785774\n",
       "  _targ_idx : LongTensor - empty\n",
       "  averageValid : 0.96309195756912\n",
       "  classes : \n",
       "    {\n",
       "      1 : 1\n",
       "      2 : 2\n",
       "      3 : 3\n",
       "      4 : 4\n",
       "      5 : 5\n",
       "      6 : 6\n",
       "      7 : 7\n",
       "      8 : 8\n",
       "      9 : 9\n",
       "      10 : 10\n",
       "    }\n",
       "  _prediction : FloatTensor - size: 10\n",
       "  _pred_idx : LongTensor - size: 1\n",
       "  nclasses : 10\n",
       "  _max : FloatTensor - size: 1\n",
       "  _target : FloatTensor - empty\n",
       "  unionvalids : FloatTensor - size: 10\n",
       "  totalValid : 0.96345\n",
       "}\n",
       "<trainer> on testing Set:\t\n"
      ]
     },
     "execution_count": 10,
     "metadata": {},
     "output_type": "execute_result"
    },
    {
     "data": {
      "text/plain": [
       "<trainer> time to test 1 sample = 0.075965189933777ms\t\n"
      ]
     },
     "execution_count": 10,
     "metadata": {},
     "output_type": "execute_result"
    },
    {
     "data": {
      "text/plain": [
       "ConfusionMatrix:\n",
       "[[     969       0       1       1       0       5       2       1       1       0]   98.878% \t[class: 1]\n",
       " [       0    1126       2       1       0       1       2       1       2       0]   99.207% \t[class: 2]\n",
       " [       7       6     992       7       3       1       4       4       7       1]   96.124% \t[class: 3]\n",
       " [       0       1       5     974       0      18       0       4       3       5]   96.436% \t[class: 4]\n",
       " [       1       0       4       1     953       0       4       0       3      16]   97.047% \t[class: 5]\n",
       " [       6       1       0       5       1     868       4       0       4       3]   97.309% \t[class: 6]\n",
       " [      10       3       2       0       6      26     907       0       4       0]   94.676% \t[class: 7]\n",
       " [       2      14      17       5       9       1       0     945       2      33]   91.926% \t[class: 8]\n",
       " [       4       4       3      15       8      12       4       3     915       6]   93.943% \t[class: 9]\n",
       " [       5       7       1       9      16       5       0       4       0     962]]  95.342% \t[class: 10]\n",
       " + average row correct: 96.088743805885% \n",
       " + average rowUcol correct (VOC measure): 92.463020086288% \n",
       " + global correct: 96.11%\n",
       "{\n",
       "  valids : FloatTensor - size: 10\n",
       "  mat : LongTensor - size: 10x10\n",
       "  averageUnionValid : 0.92463020086288\n",
       "  _targ_idx : LongTensor - empty\n",
       "  averageValid : 0.96088743805885\n",
       "  classes : \n",
       "    {\n",
       "      1 : 1\n",
       "      2 : 2\n",
       "      3 : 3\n",
       "      4 : 4\n",
       "      5 : 5\n",
       "      6 : 6\n",
       "      7 : 7\n",
       "      8 : 8\n",
       "      9 : 9\n",
       "      10 : 10\n",
       "    }\n",
       "  _prediction : FloatTensor - size: 10\n",
       "  _pred_idx : LongTensor - size: 1\n",
       "  nclasses : 10\n",
       "  _max : FloatTensor - size: 1\n",
       "  _target : FloatTensor - empty\n",
       "  unionvalids : FloatTensor - size: 10\n",
       "  totalValid : 0.9611\n",
       "}\n",
       "<trainer> on training set:\t\n",
       "<trainer> online epoch # 4 [batchSize = 50]\t\n"
      ]
     },
     "execution_count": 10,
     "metadata": {},
     "output_type": "execute_result"
    },
    {
     "data": {
      "text/plain": [
       "Progress: 18701 / 60000\t\n"
      ]
     },
     "execution_count": 10,
     "metadata": {},
     "output_type": "execute_result"
    },
    {
     "data": {
      "text/plain": [
       "Progress: 45551 / 60000\t\n"
      ]
     },
     "execution_count": 10,
     "metadata": {},
     "output_type": "execute_result"
    },
    {
     "data": {
      "text/plain": [
       "<trainer> time to learn 1 sample = 0.22243924935659ms\t\n"
      ]
     },
     "execution_count": 10,
     "metadata": {},
     "output_type": "execute_result"
    },
    {
     "data": {
      "text/plain": [
       "ConfusionMatrix:\n",
       "[[    5831       2       8       4       5      15      23       5      17      13]   98.447% \t[class: 1]\n",
       " [       1    6656      27       8      13       1       4      10      16       6]   98.724% \t[class: 2]\n",
       " [      15      15    5800      23      18       6      12      39      26       4]   97.348% \t[class: 3]\n",
       " [       4      13      42    5906       4      53       7      29      50      23]   96.330% \t[class: 4]\n",
       " [       6      16      18       1    5672       4      24       9      15      77]   97.090% \t[class: 5]\n",
       " [      20       6      10      49      14    5235      36       8      25      18]   96.569% \t[class: 6]\n",
       " [      24       6      12       1      17      17    5819       1      21       0]   98.327% \t[class: 7]\n",
       " [       5      19      34       7      31       7       1    6104       4      53]   97.430% \t[class: 8]\n",
       " [      11      31      17      51      14      28      18       9    5651      21]   96.582% \t[class: 9]\n",
       " [      15      14       2      32      68      18       1      51      25    5723]]  96.201% \t[class: 10]\n",
       " + average row correct: 97.304844260216% \n",
       " + average rowUcol correct (VOC measure): 94.768337011337% \n",
       " + global correct: 97.328333333333%\n",
       "{\n",
       "  valids : FloatTensor - size: 10\n",
       "  mat : LongTensor - size: 10x10\n",
       "  averageUnionValid : 0.94768337011337\n",
       "  _targ_idx : LongTensor - empty\n",
       "  averageValid : 0.97304844260216\n",
       "  classes : \n",
       "    {\n",
       "      1 : 1\n",
       "      2 : 2\n",
       "      3 : 3\n",
       "      4 : 4\n",
       "      5 : 5\n",
       "      6 : 6\n",
       "      7 : 7\n",
       "      8 : 8\n",
       "      9 : 9\n",
       "      10 : 10\n",
       "    }\n",
       "  _prediction : FloatTensor - size: 10\n",
       "  _pred_idx : LongTensor - size: 1\n",
       "  nclasses : 10\n",
       "  _max : FloatTensor - size: 1\n",
       "  _target : FloatTensor - empty\n",
       "  unionvalids : FloatTensor - size: 10\n",
       "  totalValid : 0.97328333333333\n",
       "}\n",
       "<trainer> on testing Set:\t\n"
      ]
     },
     "execution_count": 10,
     "metadata": {},
     "output_type": "execute_result"
    },
    {
     "data": {
      "text/plain": [
       "<trainer> time to test 1 sample = 0.085174703598022ms\t\n",
       "ConfusionMatrix:\n",
       "[[     970       0       1       2       0       3       2       1       1       0]   98.980% \t[class: 1]\n",
       " [       0    1127       2       1       0       1       1       1       2       0]   99.295% \t[class: 2]\n",
       " [       7       3     997       4       4       0       5       4       8       0]   96.609% \t[class: 3]\n",
       " [       0       1       2     981       0      15       0       3       2       6]   97.129% \t[class: 4]\n",
       " [       1       0       4       1     958       0       4       0       2      12]   97.556% \t[class: 5]\n",
       " [       4       1       0       5       1     874       2       0       3       2]   97.982% \t[class: 6]\n",
       " [       8       3       1       0       5      26     912       0       3       0]   95.198% \t[class: 7]\n",
       " [       1      12      14       4       9       1       0     957       2      28]   93.093% \t[class: 8]\n",
       " [       4       4       3      12       7       9       2       3     925       5]   94.969% \t[class: 9]\n",
       " [       5       7       0       6      13       6       0       3       0     969]]  96.036% \t[class: 10]\n",
       " + average row correct: 96.684663891792% \n",
       " + average rowUcol correct (VOC measure): 93.566615581512% \n",
       " + global correct: 96.7%\n",
       "{\n",
       "  valids : FloatTensor - size: 10\n",
       "  mat : LongTensor - size: 10x10\n",
       "  averageUnionValid : 0.93566615581512\n",
       "  _targ_idx : LongTensor - empty\n",
       "  averageValid : 0.96684663891792\n",
       "  classes : \n",
       "    {\n",
       "      1 : 1\n",
       "      2 : 2\n",
       "      3 : 3\n",
       "      4 : 4\n",
       "      5 : 5\n",
       "      6 : 6\n",
       "      7 : 7\n",
       "      8 : 8\n",
       "      9 : 9\n",
       "      10 : 10\n",
       "    }\n",
       "  _prediction : FloatTensor - size: 10\n",
       "  _pred_idx : LongTensor - size: 1\n",
       "  nclasses : 10\n",
       "  _max : FloatTensor - size: 1\n",
       "  _target : FloatTensor - empty\n",
       "  unionvalids : FloatTensor - size: 10\n",
       "  totalValid : 0.967\n",
       "}\n",
       "<trainer> on training set:\t\n",
       "<trainer> online epoch # 5 [batchSize = 50]\t\n"
      ]
     },
     "execution_count": 10,
     "metadata": {},
     "output_type": "execute_result"
    },
    {
     "data": {
      "text/plain": [
       "Progress: 9051 / 60000\t\n"
      ]
     },
     "execution_count": 10,
     "metadata": {},
     "output_type": "execute_result"
    },
    {
     "data": {
      "text/plain": [
       "Progress: 35051 / 60000\t\n"
      ]
     },
     "execution_count": 10,
     "metadata": {},
     "output_type": "execute_result"
    },
    {
     "data": {
      "text/plain": [
       "<trainer> time to learn 1 sample = 0.21553116639455ms\t\n",
       "ConfusionMatrix:\n",
       "[[    5858       2       5       2       4      11      15       2      13      11]   98.903% \t[class: 1]\n",
       " [       1    6672      20       6      11       1       4      11      11       5]   98.962% \t[class: 2]\n",
       " [      13      11    5843      16      13       4       9      27      19       3]   98.070% \t[class: 3]\n",
       " [       4       5      30    5959       3      45       4      25      39      17]   97.195% \t[class: 4]\n",
       " [       4      11      10       0    5708       3      20       8       8      70]   97.706% \t[class: 5]\n",
       " [      15       4       8      31       7    5287      29       4      22      14]   97.528% \t[class: 6]\n",
       " [      20       6       9       0      11      10    5845       0      17       0]   98.766% \t[class: 7]\n",
       " [       4      18      30       2      26       6       1    6129       4      45]   97.829% \t[class: 8]\n",
       " [       9      29      12      28       9      15      12       8    5714      15]   97.659% \t[class: 9]\n",
       " [      12       8       1      27      56      16       2      41      17    5769]]  96.974% \t[class: 10]\n",
       " + average row correct: 97.959160804749% \n",
       " + average rowUcol correct (VOC measure): 96.008340120316% \n",
       " + global correct: 97.973333333333%\n",
       "{\n",
       "  valids : FloatTensor - size: 10\n",
       "  mat : LongTensor - size: 10x10\n",
       "  averageUnionValid : 0.96008340120316\n",
       "  _targ_idx : LongTensor - empty\n",
       "  averageValid : 0.97959160804749\n",
       "  classes : \n",
       "    {\n",
       "      1 : 1\n",
       "      2 : 2\n",
       "      3 : 3\n",
       "      4 : 4\n",
       "      5 : 5\n",
       "      6 : 6\n",
       "      7 : 7\n",
       "      8 : 8\n",
       "      9 : 9\n",
       "      10 : 10\n",
       "    }\n",
       "  _prediction : FloatTensor - size: 10\n",
       "  _pred_idx : LongTensor - size: 1\n",
       "  nclasses : 10\n",
       "  _max : FloatTensor - size: 1\n",
       "  _target : FloatTensor - empty\n",
       "  unionvalids : FloatTensor - size: 10\n",
       "  totalValid : 0.97973333333333\n",
       "}\n"
      ]
     },
     "execution_count": 10,
     "metadata": {},
     "output_type": "execute_result"
    },
    {
     "data": {
      "text/plain": [
       "<trainer> on testing Set:\t\n"
      ]
     },
     "execution_count": 10,
     "metadata": {},
     "output_type": "execute_result"
    },
    {
     "data": {
      "text/plain": [
       "Progress: 4401 / 10000\t\n"
      ]
     },
     "execution_count": 10,
     "metadata": {},
     "output_type": "execute_result"
    },
    {
     "data": {
      "text/plain": [
       "<trainer> time to test 1 sample = 0.080771398544312ms\t\n"
      ]
     },
     "execution_count": 10,
     "metadata": {},
     "output_type": "execute_result"
    },
    {
     "data": {
      "text/plain": [
       "ConfusionMatrix:\n",
       "[[     971       0       1       2       0       3       1       1       1       0]   99.082% \t[class: 1]\n",
       " [       0    1127       2       1       0       1       1       1       2       0]   99.295% \t[class: 2]\n",
       " [       7       1    1001       3       3       1       5       3       8       0]   96.996% \t[class: 3]\n",
       " [       0       1       3     987       0      12       0       2       3       2]   97.723% \t[class: 4]\n",
       " [       2       0       3       1     962       0       3       0       2       9]   97.963% \t[class: 5]\n",
       " [       4       1       0       5       1     875       2       0       2       2]   98.094% \t[class: 6]\n",
       " [       7       3       0       0       4      27     913       0       4       0]   95.303% \t[class: 7]\n",
       " [       2      10      14       4       8       0       0     962       1      27]   93.580% \t[class: 8]\n",
       " [       3       3       4       8       6       6       2       3     935       4]   95.996% \t[class: 9]\n",
       " [       5       4       0       5      11       4       0       1       0     979]]  97.027% \t[class: 10]\n",
       " + average row correct: 97.105832695961% \n",
       " + average rowUcol correct (VOC measure): 94.352582097054% \n",
       " + global correct: 97.12%\n",
       "{\n",
       "  valids : FloatTensor - size: 10\n",
       "  mat : LongTensor - size: 10x10\n",
       "  averageUnionValid : 0.94352582097054\n",
       "  _targ_idx : LongTensor - empty\n",
       "  averageValid : 0.97105832695961\n",
       "  classes : \n",
       "    {\n",
       "      1 : 1\n",
       "      2 : 2\n",
       "      3 : 3\n",
       "      4 : 4\n",
       "      5 : 5\n",
       "      6 : 6\n",
       "      7 : 7\n",
       "      8 : 8\n",
       "      9 : 9\n",
       "      10 : 10\n",
       "    }\n",
       "  _prediction : FloatTensor - size: 10\n",
       "  _pred_idx : LongTensor - size: 1\n",
       "  nclasses : 10\n",
       "  _max : FloatTensor - size: 1\n",
       "  _target : FloatTensor - empty\n",
       "  unionvalids : FloatTensor - size: 10\n",
       "  totalValid : 0.9712\n",
       "}\n",
       "<trainer> on training set:\t\n",
       "<trainer> online epoch # 6 [batchSize = 50]\t\n"
      ]
     },
     "execution_count": 10,
     "metadata": {},
     "output_type": "execute_result"
    },
    {
     "data": {
      "text/plain": [
       "Progress: 23651 / 60000\t\n"
      ]
     },
     "execution_count": 10,
     "metadata": {},
     "output_type": "execute_result"
    },
    {
     "data": {
      "text/plain": [
       "Progress: 50801 / 60000\t\n"
      ]
     },
     "execution_count": 10,
     "metadata": {},
     "output_type": "execute_result"
    },
    {
     "data": {
      "text/plain": [
       "<trainer> time to learn 1 sample = 0.22018346389135ms\t\n",
       "ConfusionMatrix:\n",
       "[[    5875       1       3       1       2       7      13       2      10       9]   99.190% \t[class: 1]\n",
       " [       1    6684      19       3       9       0       4      11       7       4]   99.140% \t[class: 2]\n",
       " [       9       9    5875      13      11       3       4      19      13       2]   98.607% \t[class: 3]\n",
       " [       3       3      23    5993       2      43       3      19      28      14]   97.749% \t[class: 4]\n",
       " [       2      10       6       0    5745       1      14       6       8      50]   98.340% \t[class: 5]\n",
       " [      12       5       8      23       3    5320      20       3      14      13]   98.137% \t[class: 6]\n",
       " [      17       7       3       0       7      10    5860       0      14       0]   99.020% \t[class: 7]\n",
       " [       3      18      25       1      22       5       1    6153       4      33]   98.212% \t[class: 8]\n",
       " [       9      20       8      24       6      14       9       5    5746      10]   98.205% \t[class: 9]\n",
       " [      10       6       0      18      48      15       2      34      14    5802]]  97.529% \t[class: 10]\n",
       " + average row correct: 98.412852287292% \n",
       " + average rowUcol correct (VOC measure): 96.877993345261% \n",
       " + global correct: 98.421666666667%\n",
       "{\n",
       "  valids : FloatTensor - size: 10\n",
       "  mat : LongTensor - size: 10x10\n",
       "  averageUnionValid : 0.96877993345261\n",
       "  _targ_idx : LongTensor - empty\n",
       "  averageValid : 0.98412852287292\n",
       "  classes : \n",
       "    {\n",
       "      1 : 1\n",
       "      2 : 2\n",
       "      3 : 3\n",
       "      4 : 4\n",
       "      5 : 5\n",
       "      6 : 6\n",
       "      7 : 7\n",
       "      8 : 8\n",
       "      9 : 9\n",
       "      10 : 10\n",
       "    }\n"
      ]
     },
     "execution_count": 10,
     "metadata": {},
     "output_type": "execute_result"
    },
    {
     "data": {
      "text/plain": [
       "  _prediction : FloatTensor - size: 10\n",
       "  _pred_idx : LongTensor - size: 1\n",
       "  nclasses : 10\n",
       "  _max : FloatTensor - size: 1\n",
       "  _target : FloatTensor - empty\n",
       "  unionvalids : FloatTensor - size: 10\n",
       "  totalValid : 0.98421666666667\n",
       "}\n",
       "<trainer> on testing Set:\t\n"
      ]
     },
     "execution_count": 10,
     "metadata": {},
     "output_type": "execute_result"
    },
    {
     "data": {
      "text/plain": [
       "<trainer> time to test 1 sample = 0.089466190338135ms\t\n"
      ]
     },
     "execution_count": 10,
     "metadata": {},
     "output_type": "execute_result"
    },
    {
     "data": {
      "text/plain": [
       "ConfusionMatrix:\n",
       "[[     973       0       1       2       0       2       0       1       1       0]   99.286% \t[class: 1]\n",
       " [       0    1127       2       1       0       1       1       1       2       0]   99.295% \t[class: 2]\n",
       " [       6       1    1005       2       3       1       5       3       6       0]   97.384% \t[class: 3]\n",
       " [       0       0       4     985       0      10       0       2       4       5]   97.525% \t[class: 4]\n",
       " [       2       0       3       1     963       0       2       0       2       9]   98.065% \t[class: 5]\n",
       " [       2       1       0       4       1     878       2       0       2       2]   98.430% \t[class: 6]\n",
       " [       8       3       0       0       4      26     913       0       4       0]   95.303% \t[class: 7]\n",
       " [       2      10      14       4       6       0       0     965       1      26]   93.872% \t[class: 8]\n",
       " [       3       3       4       6       4       6       1       3     941       3]   96.612% \t[class: 9]\n",
       " [       5       2       0       4      12       5       0       1       0     980]]  97.126% \t[class: 10]\n",
       " + average row correct: 97.289708852768% \n",
       " + average rowUcol correct (VOC measure): 94.699683785439% \n",
       " + global correct: 97.3%\n",
       "{\n",
       "  valids : FloatTensor - size: 10\n",
       "  mat : LongTensor - size: 10x10\n",
       "  averageUnionValid : 0.94699683785439\n",
       "  _targ_idx : LongTensor - empty\n",
       "  averageValid : 0.97289708852768\n",
       "  classes : \n",
       "    {\n",
       "      1 : 1\n",
       "      2 : 2\n",
       "      3 : 3\n",
       "      4 : 4\n",
       "      5 : 5\n",
       "      6 : 6\n",
       "      7 : 7\n",
       "      8 : 8\n",
       "      9 : 9\n",
       "      10 : 10\n",
       "    }\n",
       "  _prediction : FloatTensor - size: 10\n",
       "  _pred_idx : LongTensor - size: 1\n",
       "  nclasses : 10\n",
       "  _max : FloatTensor - size: 1\n",
       "  _target : FloatTensor - empty\n",
       "  unionvalids : FloatTensor - size: 10\n",
       "  totalValid : 0.973\n",
       "}\n",
       "<trainer> on training set:\t\n",
       "<trainer> online epoch # 7 [batchSize = 50]\t\n"
      ]
     },
     "execution_count": 10,
     "metadata": {},
     "output_type": "execute_result"
    },
    {
     "data": {
      "text/plain": [
       "Progress: 13751 / 60000\t\n"
      ]
     },
     "execution_count": 10,
     "metadata": {},
     "output_type": "execute_result"
    },
    {
     "data": {
      "text/plain": [
       "Progress: 39701 / 60000\t\n"
      ]
     },
     "execution_count": 10,
     "metadata": {},
     "output_type": "execute_result"
    },
    {
     "data": {
      "text/plain": [
       "<trainer> time to learn 1 sample = 0.21755961577098ms\t\n",
       "ConfusionMatrix:\n",
       "[[    5884       1       2       1       2       5      12       1       8       7]   99.342% \t[class: 1]\n",
       " [       1    6691      15       2       9       0       3      10       6       5]   99.244% \t[class: 2]\n",
       " [       9       6    5894      10       8       2       3      16       7       3]   98.926% \t[class: 3]\n",
       " [       2       5      19    6029       1      33       1      16      15      10]   98.336% \t[class: 4]\n",
       " [       2       9       3       1    5761       1      11       7       7      40]   98.613% \t[class: 5]\n",
       " [       6       4       4      16       3    5348      17       3       9      11]   98.653% \t[class: 6]\n",
       " [      15       6       2       0       7      10    5869       0       9       0]   99.172% \t[class: 7]\n",
       " [       2      15      23       2      18       2       1    6174       3      25]   98.547% \t[class: 8]\n",
       " [       6      15       6      18       5      10       9       4    5770       8]   98.616% \t[class: 9]\n",
       " [       8       6       1      16      38      12       2      27      11    5828]]  97.966% \t[class: 10]\n",
       " + average row correct: 98.741527199745% \n",
       " + average rowUcol correct (VOC measure): 97.516121268272% \n",
       " + global correct: 98.746666666667%\n",
       "{\n",
       "  valids : FloatTensor - size: 10\n",
       "  mat : LongTensor - size: 10x10\n",
       "  averageUnionValid : 0.97516121268272\n",
       "  _targ_idx : LongTensor - empty\n",
       "  averageValid : 0.98741527199745\n",
       "  classes : \n",
       "    {\n",
       "      1 : 1\n",
       "      2 : 2\n",
       "      3 : 3\n",
       "      4 : 4\n",
       "      5 : 5\n",
       "      6 : 6\n",
       "      7 : 7\n",
       "      8 : 8\n",
       "      9 : 9\n",
       "      10 : 10\n",
       "    }\n",
       "  _prediction : FloatTensor - size: 10\n",
       "  _pred_idx : LongTensor - size: 1\n",
       "  nclasses : 10\n",
       "  _max : FloatTensor - size: 1\n",
       "  _target : FloatTensor - empty\n",
       "  unionvalids : FloatTensor - size: 10\n",
       "  totalValid : 0.98746666666667\n",
       "}\n",
       "<trainer> on testing Set:\t\n"
      ]
     },
     "execution_count": 10,
     "metadata": {},
     "output_type": "execute_result"
    },
    {
     "data": {
      "text/plain": [
       "<trainer> time to test 1 sample = 0.07678530216217ms\t\n",
       "ConfusionMatrix:\n",
       "[[     973       0       1       2       0       2       0       1       1       0]   99.286% \t[class: 1]\n",
       " [       0    1127       2       1       0       1       1       1       2       0]   99.295% \t[class: 2]\n",
       " [       6       1    1006       1       3       1       4       4       6       0]   97.481% \t[class: 3]\n",
       " [       0       0       5     988       0       5       0       2       4       6]   97.822% \t[class: 4]\n",
       " [       2       0       3       1     965       0       2       0       1       8]   98.269% \t[class: 5]\n",
       " [       2       1       0       4       1     877       3       0       2       2]   98.318% \t[class: 6]\n",
       " [       8       3       0       0       4      22     918       0       3       0]   95.825% \t[class: 7]\n",
       " [       2      10      15       4       5       0       0     967       1      24]   94.066% \t[class: 8]\n",
       " [       3       2       4       4       4       4       1       2     947       3]   97.228% \t[class: 9]\n",
       " [       5       2       0       4      10       4       0       1       0     983]]  97.423% \t[class: 10]\n",
       " + average row correct: 97.501239180565% \n",
       " + average rowUcol correct (VOC measure): 95.110313892365% \n",
       " + global correct: 97.51%\n",
       "{\n",
       "  valids : FloatTensor - size: 10\n",
       "  mat : LongTensor - size: 10x10\n",
       "  averageUnionValid : 0.95110313892365\n",
       "  _targ_idx : LongTensor - empty\n",
       "  averageValid : 0.97501239180565\n",
       "  classes : \n",
       "    {\n",
       "      1 : 1\n",
       "      2 : 2\n",
       "      3 : 3\n",
       "      4 : 4\n",
       "      5 : 5\n",
       "      6 : 6\n",
       "      7 : 7\n",
       "      8 : 8\n",
       "      9 : 9\n",
       "      10 : 10\n",
       "    }\n",
       "  _prediction : FloatTensor - size: 10\n"
      ]
     },
     "execution_count": 10,
     "metadata": {},
     "output_type": "execute_result"
    },
    {
     "data": {
      "text/plain": [
       "  _pred_idx : LongTensor - size: 1\n",
       "  nclasses : 10\n",
       "  _max : FloatTensor - size: 1\n",
       "  _target : FloatTensor - empty\n",
       "  unionvalids : FloatTensor - size: 10\n",
       "  totalValid : 0.9751\n",
       "}\n",
       "<trainer> on training set:\t\n",
       "<trainer> online epoch # 8 [batchSize = 50]\t\n"
      ]
     },
     "execution_count": 10,
     "metadata": {},
     "output_type": "execute_result"
    },
    {
     "data": {
      "text/plain": [
       "Progress: 3001 / 60000\t\n"
      ]
     },
     "execution_count": 10,
     "metadata": {},
     "output_type": "execute_result"
    },
    {
     "data": {
      "text/plain": [
       "Progress: 29451 / 60000\t\n"
      ]
     },
     "execution_count": 10,
     "metadata": {},
     "output_type": "execute_result"
    },
    {
     "data": {
      "text/plain": [
       "Progress: 55851 / 60000\t\n"
      ]
     },
     "execution_count": 10,
     "metadata": {},
     "output_type": "execute_result"
    },
    {
     "data": {
      "text/plain": [
       "<trainer> time to learn 1 sample = 0.21407628456752ms\t\n",
       "ConfusionMatrix:\n",
       "[[    5893       1       1       0       2       3       7       1       8       7]   99.493% \t[class: 1]\n",
       " [       1    6698      12       2       5       0       3      10       5       6]   99.347% \t[class: 2]\n",
       " [       5       4    5915       6       5       1       1      14       5       2]   99.278% \t[class: 3]\n",
       " [       2       4      15    6058       1      23       0      10       9       9]   98.809% \t[class: 4]\n",
       " [       0       8       2       1    5782       0       8       6       5      30]   98.973% \t[class: 5]\n",
       " [       6       1       4      15       2    5360      17       1       6       9]   98.875% \t[class: 6]\n",
       " [      12       5       2       0       4       7    5881       0       7       0]   99.375% \t[class: 7]\n",
       " [       2      12      14       2      15       1       1    6196       3      19]   98.899% \t[class: 8]\n",
       " [       5       9       4      11       3       7       8       3    5795       6]   99.043% \t[class: 9]\n",
       " [       8       3       1       8      30      10       1      23       7    5858]]  98.470% \t[class: 10]\n",
       " + average row correct: 99.056285023689% \n",
       " + average rowUcol correct (VOC measure): 98.131530284882% \n",
       " + global correct: 99.06%\n",
       "{\n",
       "  valids : FloatTensor - size: 10\n",
       "  mat : LongTensor - size: 10x10\n",
       "  averageUnionValid : 0.98131530284882\n",
       "  _targ_idx : LongTensor - empty\n",
       "  averageValid : 0.99056285023689\n",
       "  classes : \n",
       "    {\n",
       "      1 : 1\n",
       "      2 : 2\n",
       "      3 : 3\n",
       "      4 : 4\n",
       "      5 : 5\n",
       "      6 : 6\n",
       "      7 : 7\n",
       "      8 : 8\n",
       "      9 : 9\n",
       "      10 : 10\n",
       "    }\n",
       "  _prediction : FloatTensor - size: 10\n",
       "  _pred_idx : LongTensor - size: 1\n",
       "  nclasses : 10\n",
       "  _max : FloatTensor - size: 1\n",
       "  _target : FloatTensor - empty\n",
       "  unionvalids : FloatTensor - size: 10\n",
       "  totalValid : 0.9906\n",
       "}\n",
       "<trainer> on testing Set:\t\n"
      ]
     },
     "execution_count": 10,
     "metadata": {},
     "output_type": "execute_result"
    },
    {
     "data": {
      "text/plain": [
       "<trainer> time to test 1 sample = 0.08493971824646ms\t\n",
       "ConfusionMatrix:\n",
       "[[     972       0       1       2       1       2       0       1       1       0]   99.184% \t[class: 1]\n",
       " [       0    1127       2       1       0       1       1       1       2       0]   99.295% \t[class: 2]\n",
       " [       6       1    1006       1       3       1       4       4       6       0]   97.481% \t[class: 3]\n",
       " [       0       0       5     989       0       4       0       2       3       7]   97.921% \t[class: 4]\n",
       " [       2       0       3       1     967       0       2       0       1       6]   98.473% \t[class: 5]\n",
       " [       2       0       0       5       2     876       3       0       2       2]   98.206% \t[class: 6]\n",
       " [       8       3       0       0       4      19     921       0       3       0]   96.138% \t[class: 7]\n",
       " [       2      10      14       3       5       0       0     969       3      22]   94.261% \t[class: 8]\n",
       " [       3       2       4       4       4       5       0       2     947       3]   97.228% \t[class: 9]\n",
       " [       4       2       0       4      10       4       0       1       0     984]]  97.522% \t[class: 10]\n",
       " + average row correct: 97.570772767067% \n",
       " + average rowUcol correct (VOC measure): 95.244314074516% \n",
       " + global correct: 97.58%\n",
       "{\n",
       "  valids : FloatTensor - size: 10\n",
       "  mat : LongTensor - size: 10x10\n",
       "  averageUnionValid : 0.95244314074516\n",
       "  _targ_idx : LongTensor - empty\n",
       "  averageValid : 0.97570772767067\n",
       "  classes : \n",
       "    {\n",
       "      1 : 1\n",
       "      2 : 2\n",
       "      3 : 3\n",
       "      4 : 4\n",
       "      5 : 5\n",
       "      6 : 6\n",
       "      7 : 7\n",
       "      8 : 8\n",
       "      9 : 9\n",
       "      10 : 10\n",
       "    }\n"
      ]
     },
     "execution_count": 10,
     "metadata": {},
     "output_type": "execute_result"
    },
    {
     "data": {
      "text/plain": [
       "  _prediction : FloatTensor - size: 10\n",
       "  _pred_idx : LongTensor - size: 1\n",
       "  nclasses : 10\n",
       "  _max : FloatTensor - size: 1\n",
       "  _target : FloatTensor - empty\n",
       "  unionvalids : FloatTensor - size: 10\n",
       "  totalValid : 0.9758\n",
       "}\n",
       "<trainer> on training set:\t\n",
       "<trainer> online epoch # 9 [batchSize = 50]\t\n"
      ]
     },
     "execution_count": 10,
     "metadata": {},
     "output_type": "execute_result"
    },
    {
     "data": {
      "text/plain": [
       "Progress: 18051 / 60000\t\n"
      ]
     },
     "execution_count": 10,
     "metadata": {},
     "output_type": "execute_result"
    },
    {
     "data": {
      "text/plain": [
       "Progress: 43801 / 60000\t\n"
      ]
     },
     "execution_count": 10,
     "metadata": {},
     "output_type": "execute_result"
    },
    {
     "data": {
      "text/plain": [
       "<trainer> time to learn 1 sample = 0.21480043331782ms\t\n",
       "ConfusionMatrix:\n",
       "[[    5908       0       0       0       0       1       4       1       5       4]   99.747% \t[class: 1]\n",
       " [       1    6703       9       2       4       0       3       9       5       6]   99.422% \t[class: 2]\n",
       " [       3       5    5927       2       3       1       1      10       4       2]   99.480% \t[class: 3]\n",
       " [       1       4      12    6075       2      17       0       6       7       7]   99.087% \t[class: 4]\n",
       " [       0       6       2       0    5794       0       6       5       3      26]   99.178% \t[class: 5]\n",
       " [       5       1       3      11       2    5376      12       0       4       7]   99.170% \t[class: 6]\n",
       " [       9       5       2       0       2       5    5889       0       6       0]   99.510% \t[class: 7]\n",
       " [       1      13      10       1      11       0       1    6208       3      17]   99.090% \t[class: 8]\n",
       " [       2       9       3       3       3       7       7       3    5808       6]   99.265% \t[class: 9]\n",
       " [       5       2       0       6      23       5       1      18       5    5884]]  98.907% \t[class: 10]\n",
       " + average row correct: 99.285545945168% \n",
       " + average rowUcol correct (VOC measure): 98.582584261894% \n",
       " + global correct: 99.286666666667%\n",
       "{\n",
       "  valids : FloatTensor - size: 10\n",
       "  mat : LongTensor - size: 10x10\n",
       "  averageUnionValid : 0.98582584261894\n",
       "  _targ_idx : LongTensor - empty\n",
       "  averageValid : 0.99285545945168\n",
       "  classes : \n",
       "    {\n",
       "      1 : 1\n",
       "      2 : 2\n",
       "      3 : 3\n",
       "      4 : 4\n",
       "      5 : 5\n",
       "      6 : 6\n",
       "      7 : 7\n",
       "      8 : 8\n",
       "      9 : 9\n",
       "      10 : 10\n",
       "    }\n",
       "  _prediction : FloatTensor - size: 10\n",
       "  _pred_idx : LongTensor - size: 1\n",
       "  nclasses : 10\n",
       "  _max : FloatTensor - size: 1\n",
       "  _target : FloatTensor - empty\n",
       "  unionvalids : FloatTensor - size: 10\n",
       "  totalValid : 0.99286666666667\n",
       "}\n",
       "<trainer> on testing Set:\t\n"
      ]
     },
     "execution_count": 10,
     "metadata": {},
     "output_type": "execute_result"
    },
    {
     "data": {
      "text/plain": [
       "<trainer> time to test 1 sample = 0.078780102729797ms\t\n",
       "ConfusionMatrix:\n",
       "[[     973       0       1       2       1       1       0       1       1       0]   99.286% \t[class: 1]\n",
       " [       0    1127       2       1       0       1       1       1       2       0]   99.295% \t[class: 2]\n",
       " [       6       1    1007       1       3       1       3       4       6       0]   97.578% \t[class: 3]\n",
       " [       0       0       6     988       0       4       0       2       3       7]   97.822% \t[class: 4]\n",
       " [       2       0       3       1     969       0       2       0       0       5]   98.676% \t[class: 5]\n",
       " [       2       0       0       4       2     877       3       0       2       2]   98.318% \t[class: 6]\n",
       " [       7       3       1       0       4      17     924       0       2       0]   96.451% \t[class: 7]\n",
       " [       2       9      14       3       6       0       0     970       3      21]   94.358% \t[class: 8]\n",
       " [       3       2       4       3       4       5       0       2     948       3]   97.331% \t[class: 9]\n",
       " [       3       2       0       4      10       4       0       1       0     985]]  97.621% \t[class: 10]\n",
       " + average row correct: 97.673563957214% \n",
       " + average rowUcol correct (VOC measure): 95.441387295723% \n",
       " + global correct: 97.68%\n",
       "{\n",
       "  valids : FloatTensor - size: 10\n",
       "  mat : LongTensor - size: 10x10\n",
       "  averageUnionValid : 0.95441387295723\n",
       "  _targ_idx : LongTensor - empty\n",
       "  averageValid : 0.97673563957214\n",
       "  classes : \n",
       "    {\n",
       "      1 : 1\n",
       "      2 : 2\n",
       "      3 : 3\n",
       "      4 : 4\n",
       "      5 : 5\n",
       "      6 : 6\n",
       "      7 : 7\n",
       "      8 : 8\n",
       "      9 : 9\n",
       "      10 : 10\n",
       "    }\n",
       "  _prediction : FloatTensor - size: 10\n",
       "  _pred_idx : LongTensor - size: 1\n",
       "  nclasses : 10\n",
       "  _max : FloatTensor - size: 1\n",
       "  _target : FloatTensor - empty\n",
       "  unionvalids : FloatTensor - size: 10\n",
       "  totalValid : 0.9768\n",
       "}\n",
       "<trainer> on training set:\t\n",
       "<trainer> online epoch # 10 [batchSize = 50]\t\n"
      ]
     },
     "execution_count": 10,
     "metadata": {},
     "output_type": "execute_result"
    },
    {
     "data": {
      "text/plain": [
       "Progress: 7151 / 60000\t\n"
      ]
     },
     "execution_count": 10,
     "metadata": {},
     "output_type": "execute_result"
    },
    {
     "data": {
      "text/plain": [
       "Progress: 33201 / 60000\t\n"
      ]
     },
     "execution_count": 10,
     "metadata": {},
     "output_type": "execute_result"
    },
    {
     "data": {
      "text/plain": [
       "<trainer> time to learn 1 sample = 0.21469389994939ms\t\n",
       "ConfusionMatrix:\n",
       "[[    5914       0       0       0       0       0       3       0       3       3]   99.848% \t[class: 1]\n",
       " [       1    6708       9       1       3       0       2       9       5       4]   99.496% \t[class: 2]\n",
       " [       3       4    5934       1       3       0       1       9       2       1]   99.597% \t[class: 3]\n",
       " [       1       2       9    6090       1      14       0       4       5       5]   99.331% \t[class: 4]\n",
       " [       0       6       0       0    5805       0       5       3       3      20]   99.367% \t[class: 5]\n",
       " [       3       1       2       7       2    5394       7       0       2       3]   99.502% \t[class: 6]\n",
       " [       6       5       1       0       2       4    5895       0       5       0]   99.611% \t[class: 7]\n",
       " [       1      12       8       1       8       0       0    6219       3      13]   99.266% \t[class: 8]\n",
       " [       1       8       3       2       2       5       6       2    5816       6]   99.402% \t[class: 9]\n",
       " [       4       2       0       3      15       3       1      13       4    5904]]  99.244% \t[class: 10]\n",
       " + average row correct: 99.466328024864% \n",
       " + average rowUcol correct (VOC measure): 98.938382267952% \n",
       " + global correct: 99.465%\n",
       "{\n",
       "  valids : FloatTensor - size: 10\n",
       "  mat : LongTensor - size: 10x10\n",
       "  averageUnionValid : 0.98938382267952\n",
       "  _targ_idx : LongTensor - empty\n",
       "  averageValid : 0.99466328024864\n",
       "  classes : \n",
       "    {\n",
       "      1 : 1\n",
       "      2 : 2\n",
       "      3 : 3\n",
       "      4 : 4\n",
       "      5 : 5\n",
       "      6 : 6\n",
       "      7 : 7\n",
       "      8 : 8\n",
       "      9 : 9\n",
       "      10 : 10\n",
       "    }\n",
       "  _prediction : FloatTensor - size: 10\n",
       "  _pred_idx : LongTensor - size: 1\n",
       "  nclasses : 10\n",
       "  _max : FloatTensor - size: 1\n",
       "  _target : FloatTensor - empty\n",
       "  unionvalids : FloatTensor - size: 10\n",
       "  totalValid : 0.99465\n",
       "}\n",
       "<trainer> on testing Set:\t\n"
      ]
     },
     "execution_count": 10,
     "metadata": {},
     "output_type": "execute_result"
    },
    {
     "data": {
      "text/plain": [
       "Progress: 51 / 10000\t\n"
      ]
     },
     "execution_count": 10,
     "metadata": {},
     "output_type": "execute_result"
    },
    {
     "data": {
      "text/plain": [
       "<trainer> time to test 1 sample = 0.07877881526947ms\t\n",
       "ConfusionMatrix:\n",
       "[[     974       0       0       1       1       1       0       1       2       0]   99.388% \t[class: 1]\n",
       " [       0    1126       2       1       0       1       2       1       2       0]   99.207% \t[class: 2]\n",
       " [       4       1    1013       1       2       0       3       4       4       0]   98.159% \t[class: 3]\n",
       " [       0       0       6     987       0       5       0       2       2       8]   97.723% \t[class: 4]\n",
       " [       1       0       2       1     970       0       3       0       0       5]   98.778% \t[class: 5]\n",
       " [       2       0       0       6       2     876       2       0       2       2]   98.206% \t[class: 6]\n",
       " [       7       3       1       0       4      17     925       0       1       0]   96.555% \t[class: 7]\n",
       " [       2       8      13       1       6       0       0     976       3      19]   94.942% \t[class: 8]\n",
       " [       3       2       4       3       4       5       0       2     948       3]   97.331% \t[class: 9]\n",
       " [       3       2       0       4      10       3       0       1       0     986]]  97.721% \t[class: 10]\n",
       " + average row correct: 97.80088365078% \n",
       " + average rowUcol correct (VOC measure): 95.687685012817% \n",
       " + global correct: 97.81%\n",
       "{\n",
       "  valids : FloatTensor - size: 10\n",
       "  mat : LongTensor - size: 10x10\n",
       "  averageUnionValid : 0.95687685012817\n",
       "  _targ_idx : LongTensor - empty\n",
       "  averageValid : 0.9780088365078\n",
       "  classes : \n",
       "    {\n",
       "      1 : 1\n",
       "      2 : 2\n",
       "      3 : 3\n",
       "      4 : 4\n",
       "      5 : 5\n",
       "      6 : 6\n",
       "      7 : 7\n",
       "      8 : 8\n",
       "      9 : 9\n",
       "      10 : 10\n",
       "    }\n",
       "  _prediction : FloatTensor - size: 10\n"
      ]
     },
     "execution_count": 10,
     "metadata": {},
     "output_type": "execute_result"
    },
    {
     "data": {
      "text/plain": [
       "  _pred_idx : LongTensor - size: 1\n",
       "  nclasses : 10\n",
       "  _max : FloatTensor - size: 1\n",
       "  _target : FloatTensor - empty\n",
       "  unionvalids : FloatTensor - size: 10\n",
       "  totalValid : 0.9781\n",
       "}\n",
       "<trainer> on training set:\t\n",
       "<trainer> online epoch # 11 [batchSize = 50]\t\n"
      ]
     },
     "execution_count": 10,
     "metadata": {},
     "output_type": "execute_result"
    },
    {
     "data": {
      "text/plain": [
       "Progress: 23701 / 60000\t\n"
      ]
     },
     "execution_count": 10,
     "metadata": {},
     "output_type": "execute_result"
    },
    {
     "data": {
      "text/plain": [
       "Progress: 50551 / 60000\t\n"
      ]
     },
     "execution_count": 10,
     "metadata": {},
     "output_type": "execute_result"
    },
    {
     "data": {
      "text/plain": [
       "<trainer> time to learn 1 sample = 0.22042889992396ms\t\n",
       "ConfusionMatrix:\n",
       "[[    5915       0       0       0       0       0       2       0       3       3]   99.865% \t[class: 1]\n",
       " [       0    6717       8       1       3       0       2       7       3       1]   99.629% \t[class: 2]\n",
       " [       2       3    5941       1       2       0       0       6       2       1]   99.715% \t[class: 3]\n",
       " [       1       2       6    6098       1      11       0       3       4       5]   99.462% \t[class: 4]\n",
       " [       0       4       0       0    5814       0       5       2       1      16]   99.521% \t[class: 5]\n",
       " [       0       1       1       2       1    5411       3       0       1       1]   99.816% \t[class: 6]\n",
       " [       2       4       1       0       2       4    5902       0       3       0]   99.730% \t[class: 7]\n",
       " [       1       9       6       0       5       0       0    6229       4      11]   99.425% \t[class: 8]\n",
       " [       0       5       3       1       1       2       6       2    5825       6]   99.556% \t[class: 9]\n",
       " [       4       2       0       2      12       1       1      12       1    5914]]  99.412% \t[class: 10]\n",
       " + average row correct: 99.612910151482% \n",
       " + average rowUcol correct (VOC measure): 99.227394461632% \n",
       " + global correct: 99.61%\n",
       "{\n",
       "  valids : FloatTensor - size: 10\n",
       "  mat : LongTensor - size: 10x10\n",
       "  averageUnionValid : 0.99227394461632\n",
       "  _targ_idx : LongTensor - empty\n",
       "  averageValid : 0.99612910151482\n",
       "  classes : \n",
       "    {\n",
       "      1 : 1\n",
       "      2 : 2\n",
       "      3 : 3\n",
       "      4 : 4\n",
       "      5 : 5\n",
       "      6 : 6\n",
       "      7 : 7\n",
       "      8 : 8\n",
       "      9 : 9\n",
       "      10 : 10\n",
       "    }\n",
       "  _prediction : FloatTensor - size: 10\n",
       "  _pred_idx : LongTensor - size: 1\n",
       "  nclasses : 10\n",
       "  _max : FloatTensor - size: 1\n",
       "  _target : FloatTensor - empty\n",
       "  unionvalids : FloatTensor - size: 10\n",
       "  totalValid : 0.9961\n",
       "}\n",
       "<trainer> on testing Set:\t\n"
      ]
     },
     "execution_count": 10,
     "metadata": {},
     "output_type": "execute_result"
    },
    {
     "data": {
      "text/plain": [
       "<trainer> time to test 1 sample = 0.08415892124176ms\t\n"
      ]
     },
     "execution_count": 10,
     "metadata": {},
     "output_type": "execute_result"
    },
    {
     "data": {
      "text/plain": [
       "ConfusionMatrix:\n",
       "[[     974       0       0       1       1       1       0       1       2       0]   99.388% \t[class: 1]\n",
       " [       0    1126       2       1       0       1       2       1       2       0]   99.207% \t[class: 2]\n",
       " [       4       1    1013       1       2       0       3       4       4       0]   98.159% \t[class: 3]\n",
       " [       0       0       5     989       0       4       0       2       2       8]   97.921% \t[class: 4]\n",
       " [       1       0       2       1     969       0       3       0       0       6]   98.676% \t[class: 5]\n",
       " [       2       0       0       6       2     875       2       0       2       3]   98.094% \t[class: 6]\n",
       " [       7       3       1       0       4      14     928       0       1       0]   96.868% \t[class: 7]\n",
       " [       2       7      12       0       7       0       0     978       4      18]   95.136% \t[class: 8]\n",
       " [       3       2       4       3       4       5       1       2     947       3]   97.228% \t[class: 9]\n",
       " [       3       2       0       4      10       3       0       1       0     986]]  97.721% \t[class: 10]\n",
       " + average row correct: 97.839795351028% \n",
       " + average rowUcol correct (VOC measure): 95.76565861702% \n",
       " + global correct: 97.85%\n",
       "{\n",
       "  valids : FloatTensor - size: 10\n",
       "  mat : LongTensor - size: 10x10\n",
       "  averageUnionValid : 0.9576565861702\n",
       "  _targ_idx : LongTensor - empty\n",
       "  averageValid : 0.97839795351028\n",
       "  classes : \n",
       "    {\n",
       "      1 : 1\n",
       "      2 : 2\n",
       "      3 : 3\n",
       "      4 : 4\n",
       "      5 : 5\n",
       "      6 : 6\n",
       "      7 : 7\n",
       "      8 : 8\n",
       "      9 : 9\n",
       "      10 : 10\n",
       "    }\n",
       "  _prediction : FloatTensor - size: 10\n",
       "  _pred_idx : LongTensor - size: 1\n",
       "  nclasses : 10\n",
       "  _max : FloatTensor - size: 1\n",
       "  _target : FloatTensor - empty\n",
       "  unionvalids : FloatTensor - size: 10\n",
       "  totalValid : 0.9785\n",
       "}\n",
       "<trainer> on training set:\t\n",
       "<trainer> online epoch # 12 [batchSize = 50]\t\n"
      ]
     },
     "execution_count": 10,
     "metadata": {},
     "output_type": "execute_result"
    },
    {
     "data": {
      "text/plain": [
       "Progress: 13701 / 60000\t\n"
      ]
     },
     "execution_count": 10,
     "metadata": {},
     "output_type": "execute_result"
    },
    {
     "data": {
      "text/plain": [
       "Progress: 40551 / 60000\t\n"
      ]
     },
     "execution_count": 10,
     "metadata": {},
     "output_type": "execute_result"
    },
    {
     "data": {
      "text/plain": [
       "<trainer> time to learn 1 sample = 0.21582996447881ms\t\n",
       "ConfusionMatrix:\n",
       "[[    5916       0       0       0       0       0       2       0       2       3]   99.882% \t[class: 1]\n",
       " [       0    6722       6       1       3       0       0       7       3       0]   99.703% \t[class: 2]\n",
       " [       2       3    5946       0       1       0       0       3       2       1]   99.799% \t[class: 3]\n",
       " [       0       2       4    6108       1       7       0       2       3       4]   99.625% \t[class: 4]\n",
       " [       0       4       0       0    5823       0       3       1       1      10]   99.675% \t[class: 5]\n",
       " [       0       1       1       1       0    5416       2       0       0       0]   99.908% \t[class: 6]\n",
       " [       1       2       0       0       2       2    5909       0       2       0]   99.848% \t[class: 7]\n",
       " [       1       9       3       0       3       0       0    6238       4       7]   99.569% \t[class: 8]\n",
       " [       0       4       2       1       0       1       4       2    5832       5]   99.675% \t[class: 9]\n",
       " [       1       2       0       2       8       1       1       9       1    5924]]  99.580% \t[class: 10]\n",
       " + average row correct: 99.726313352585% \n",
       " + average rowUcol correct (VOC measure): 99.453688263893% \n",
       " + global correct: 99.723333333333%\n",
       "{\n",
       "  valids : FloatTensor - size: 10\n",
       "  mat : LongTensor - size: 10x10\n",
       "  averageUnionValid : 0.99453688263893\n",
       "  _targ_idx : LongTensor - empty\n",
       "  averageValid : 0.99726313352585\n",
       "  classes : \n",
       "    {\n",
       "      1 : 1\n",
       "      2 : 2\n",
       "      3 : 3\n",
       "      4 : 4\n",
       "      5 : 5\n",
       "      6 : 6\n",
       "      7 : 7\n",
       "      8 : 8\n",
       "      9 : 9\n",
       "      10 : 10\n",
       "    }\n",
       "  _prediction : FloatTensor - size: 10\n",
       "  _pred_idx : LongTensor - size: 1\n",
       "  nclasses : 10\n",
       "  _max : FloatTensor - size: 1\n",
       "  _target : FloatTensor - empty\n",
       "  unionvalids : FloatTensor - size: 10\n",
       "  totalValid : 0.99723333333333\n",
       "}\n",
       "<trainer> on testing Set:\t\n"
      ]
     },
     "execution_count": 10,
     "metadata": {},
     "output_type": "execute_result"
    },
    {
     "data": {
      "text/plain": [
       "<trainer> time to test 1 sample = 0.08353910446167ms\t\n",
       "ConfusionMatrix:\n",
       "[[     974       0       1       1       1       1       0       1       1       0]   99.388% \t[class: 1]\n",
       " [       0    1124       3       1       0       1       2       1       2       1]   99.031% \t[class: 2]\n",
       " [       4       1    1012       1       2       0       3       5       4       0]   98.062% \t[class: 3]\n",
       " [       0       0       5     990       0       4       0       2       1       8]   98.020% \t[class: 4]\n",
       " [       1       0       2       1     969       0       3       0       0       6]   98.676% \t[class: 5]\n",
       " [       2       0       0       6       2     875       2       0       2       3]   98.094% \t[class: 6]\n",
       " [       7       3       1       0       5      12     929       0       1       0]   96.973% \t[class: 7]\n",
       " [       2       6      11       0       7       0       0     981       4      17]   95.428% \t[class: 8]\n",
       " [       3       2       4       3       4       5       1       2     947       3]   97.228% \t[class: 9]\n",
       " [       3       2       0       4      10       3       0       1       0     986]]  97.721% \t[class: 10]\n",
       " + average row correct: 97.862005829811% \n",
       " + average rowUcol correct (VOC measure): 95.808735489845% \n",
       " + global correct: 97.87%\n",
       "{\n",
       "  valids : FloatTensor - size: 10\n",
       "  mat : LongTensor - size: 10x10\n",
       "  averageUnionValid : 0.95808735489845\n",
       "  _targ_idx : LongTensor - empty\n",
       "  averageValid : 0.97862005829811\n",
       "  classes : \n",
       "    {\n",
       "      1 : 1\n",
       "      2 : 2\n",
       "      3 : 3\n",
       "      4 : 4\n",
       "      5 : 5\n",
       "      6 : 6\n",
       "      7 : 7\n",
       "      8 : 8\n",
       "      9 : 9\n",
       "      10 : 10\n",
       "    }\n",
       "  _prediction : FloatTensor - size: 10\n",
       "  _pred_idx : LongTensor - size: 1\n",
       "  nclasses : 10\n",
       "  _max : FloatTensor - size: 1\n",
       "  _target : FloatTensor - empty\n"
      ]
     },
     "execution_count": 10,
     "metadata": {},
     "output_type": "execute_result"
    },
    {
     "data": {
      "text/plain": [
       "  unionvalids : FloatTensor - size: 10\n",
       "  totalValid : 0.9787\n",
       "}\n",
       "<trainer> on training set:\t\n",
       "<trainer> online epoch # 13 [batchSize = 50]\t\n"
      ]
     },
     "execution_count": 10,
     "metadata": {},
     "output_type": "execute_result"
    },
    {
     "data": {
      "text/plain": [
       "Progress: 3601 / 60000\t\n"
      ]
     },
     "execution_count": 10,
     "metadata": {},
     "output_type": "execute_result"
    },
    {
     "data": {
      "text/plain": [
       "Progress: 29851 / 60000\t\n"
      ]
     },
     "execution_count": 10,
     "metadata": {},
     "output_type": "execute_result"
    },
    {
     "data": {
      "text/plain": [
       "Progress: 56051 / 60000\t\n"
      ]
     },
     "execution_count": 10,
     "metadata": {},
     "output_type": "execute_result"
    },
    {
     "data": {
      "text/plain": [
       "<trainer> time to learn 1 sample = 0.21978528499603ms\t\n",
       "ConfusionMatrix:\n",
       "[[    5919       0       0       0       0       0       2       0       1       1]   99.932% \t[class: 1]\n",
       " [       0    6727       5       0       3       0       0       6       1       0]   99.778% \t[class: 2]\n",
       " [       1       3    5947       0       1       0       0       3       2       1]   99.815% \t[class: 3]\n",
       " [       0       1       3    6117       1       3       0       1       2       3]   99.772% \t[class: 4]\n",
       " [       0       4       0       0    5828       0       1       1       1       7]   99.760% \t[class: 5]\n",
       " [       0       1       0       1       0    5417       2       0       0       0]   99.926% \t[class: 6]\n",
       " [       1       2       0       0       2       0    5911       0       2       0]   99.882% \t[class: 7]\n",
       " [       1       9       2       0       3       0       0    6244       1       5]   99.665% \t[class: 8]\n",
       " [       0       4       1       0       0       0       2       1    5840       3]   99.812% \t[class: 9]\n",
       " [       1       2       0       2       7       0       0       7       1    5929]]  99.664% \t[class: 10]\n",
       " + average row correct: 99.800590872765% \n",
       " + average rowUcol correct (VOC measure): 99.603711366653% \n",
       " + global correct: 99.798333333333%\n",
       "{\n",
       "  valids : FloatTensor - size: 10\n",
       "  mat : LongTensor - size: 10x10\n",
       "  averageUnionValid : 0.99603711366653\n",
       "  _targ_idx : LongTensor - empty\n",
       "  averageValid : 0.99800590872765\n",
       "  classes : \n",
       "    {\n",
       "      1 : 1\n",
       "      2 : 2\n",
       "      3 : 3\n",
       "      4 : 4\n",
       "      5 : 5\n",
       "      6 : 6\n",
       "      7 : 7\n",
       "      8 : 8\n",
       "      9 : 9\n",
       "      10 : 10\n",
       "    }\n",
       "  _prediction : FloatTensor - size: 10\n",
       "  _pred_idx : LongTensor - size: 1\n",
       "  nclasses : 10\n",
       "  _max : FloatTensor - size: 1\n",
       "  _target : FloatTensor - empty\n",
       "  unionvalids : FloatTensor - size: 10\n",
       "  totalValid : 0.99798333333333\n",
       "}\n",
       "<trainer> on testing Set:\t\n"
      ]
     },
     "execution_count": 10,
     "metadata": {},
     "output_type": "execute_result"
    },
    {
     "data": {
      "text/plain": [
       "<trainer> time to test 1 sample = 0.079618883132935ms\t\n",
       "ConfusionMatrix:\n",
       "[[     974       0       1       1       1       1       0       1       1       0]   99.388% \t[class: 1]\n",
       " [       0    1125       3       1       0       1       2       1       1       1]   99.119% \t[class: 2]\n",
       " [       4       1    1013       1       2       0       2       5       4       0]   98.159% \t[class: 3]\n",
       " [       0       0       5     990       0       4       0       2       1       8]   98.020% \t[class: 4]\n",
       " [       1       0       2       1     969       0       3       0       0       6]   98.676% \t[class: 5]\n",
       " [       2       0       0       8       2     873       2       0       2       3]   97.870% \t[class: 6]\n",
       " [       7       3       1       1       5      10     930       0       1       0]   97.077% \t[class: 7]\n",
       " [       2       6      10       0       7       0       0     982       4      17]   95.525% \t[class: 8]\n",
       " [       3       2       4       4       5       5       1       2     945       3]   97.023% \t[class: 9]\n",
       " [       3       2       0       4      10       3       0       1       0     986]]  97.721% \t[class: 10]\n",
       " + average row correct: 97.857717871666% \n",
       " + average rowUcol correct (VOC measure): 95.807365775108% \n",
       " + global correct: 97.87%\n",
       "{\n",
       "  valids : FloatTensor - size: 10\n",
       "  mat : LongTensor - size: 10x10\n",
       "  averageUnionValid : 0.95807365775108\n",
       "  _targ_idx : LongTensor - empty\n",
       "  averageValid : 0.97857717871666\n",
       "  classes : \n",
       "    {\n",
       "      1 : 1\n",
       "      2 : 2\n",
       "      3 : 3\n",
       "      4 : 4\n",
       "      5 : 5\n",
       "      6 : 6\n",
       "      7 : 7\n",
       "      8 : 8\n",
       "      9 : 9\n",
       "      10 : 10\n",
       "  "
      ]
     },
     "execution_count": 10,
     "metadata": {},
     "output_type": "execute_result"
    },
    {
     "data": {
      "text/plain": [
       "  }\n",
       "  _prediction : FloatTensor - size: 10\n",
       "  _pred_idx : LongTensor - size: 1\n",
       "  nclasses : 10\n",
       "  _max : FloatTensor - size: 1\n",
       "  _target : FloatTensor - empty\n",
       "  unionvalids : FloatTensor - size: 10\n",
       "  totalValid : 0.9787\n",
       "}\n",
       "<trainer> on training set:\t\n",
       "<trainer> online epoch # 14 [batchSize = 50]\t\n"
      ]
     },
     "execution_count": 10,
     "metadata": {},
     "output_type": "execute_result"
    },
    {
     "data": {
      "text/plain": [
       "Progress: 18551 / 60000\t\n"
      ]
     },
     "execution_count": 10,
     "metadata": {},
     "output_type": "execute_result"
    },
    {
     "data": {
      "text/plain": [
       "Progress: 46151 / 60000\t\n"
      ]
     },
     "execution_count": 10,
     "metadata": {},
     "output_type": "execute_result"
    },
    {
     "data": {
      "text/plain": [
       "<trainer> time to learn 1 sample = 0.21632163524628ms\t\n",
       "ConfusionMatrix:\n",
       "[[    5920       0       0       0       0       0       1       0       1       1]   99.949% \t[class: 1]\n",
       " [       0    6730       2       0       3       0       0       6       1       0]   99.822% \t[class: 2]\n",
       " [       1       3    5950       0       1       0       0       2       1       0]   99.866% \t[class: 3]\n",
       " [       0       1       1    6123       0       1       0       1       1       3]   99.870% \t[class: 4]\n",
       " [       0       3       0       0    5833       0       1       1       0       4]   99.846% \t[class: 5]\n",
       " [       0       1       0       1       0    5419       0       0       0       0]   99.963% \t[class: 6]\n",
       " [       1       2       0       0       1       0    5913       0       1       0]   99.916% \t[class: 7]\n",
       " [       1       8       1       0       0       0       0    6251       1       3]   99.777% \t[class: 8]\n",
       " [       0       4       0       0       0       0       2       0    5844       1]   99.880% \t[class: 9]\n",
       " [       0       1       0       1       6       0       0       7       1    5933]]  99.731% \t[class: 10]\n",
       " + average row correct: 99.86191034317% \n",
       " + average rowUcol correct (VOC measure): 99.726585745811% \n",
       " + global correct: 99.86%\n",
       "{\n",
       "  valids : FloatTensor - size: 10\n",
       "  mat : LongTensor - size: 10x10\n",
       "  averageUnionValid : 0.99726585745811\n",
       "  _targ_idx : LongTensor - empty\n",
       "  averageValid : 0.9986191034317\n",
       "  classes : \n",
       "    {\n",
       "      1 : 1\n",
       "      2 : 2\n",
       "      3 : 3\n",
       "      4 : 4\n",
       "      5 : 5\n",
       "      6 : 6\n",
       "      7 : 7\n",
       "      8 : 8\n",
       "      9 : 9\n",
       "      10 : 10\n",
       "    }\n",
       "  _prediction : FloatTensor - size: 10\n",
       "  _pred_idx : LongTensor - size: 1\n",
       "  nclasses : 10\n",
       "  _max : FloatTensor - size: 1\n",
       "  _target : FloatTensor - empty\n",
       "  unionvalids : FloatTensor - size: 10\n",
       "  totalValid : 0.9986\n",
       "}\n",
       "<trainer> on testing Set:\t\n"
      ]
     },
     "execution_count": 10,
     "metadata": {},
     "output_type": "execute_result"
    },
    {
     "data": {
      "text/plain": [
       "<trainer> time to test 1 sample = 0.07662239074707ms\t\n",
       "ConfusionMatrix:\n",
       "[[     974       0       1       1       1       1       0       1       1       0]   99.388% \t[class: 1]\n",
       " [       0    1125       3       1       0       1       2       1       1       1]   99.119% \t[class: 2]\n",
       " [       4       1    1014       1       2       0       2       5       3       0]   98.256% \t[class: 3]\n",
       " [       0       0       5     990       0       4       0       2       1       8]   98.020% \t[class: 4]\n",
       " [       1       0       2       1     969       0       3       0       0       6]   98.676% \t[class: 5]\n",
       " [       2       0       0       8       2     873       2       0       2       3]   97.870% \t[class: 6]\n",
       " [       7       3       1       1       5       9     931       0       1       0]   97.182% \t[class: 7]\n",
       " [       2       7       9       1       7       0       0     982       4      16]   95.525% \t[class: 8]\n",
       " [       3       2       4       4       6       5       1       2     944       3]   96.920% \t[class: 9]\n",
       " [       3       2       0       4      10       3       0       1       0     986]]  97.721% \t[class: 10]\n",
       " + average row correct: 97.867579460144% \n",
       " + average rowUcol correct (VOC measure): 95.827959775925% \n",
       " + global correct: 97.88%\n",
       "{\n",
       "  valids : FloatTensor - size: 10\n",
       "  mat : LongTensor - size: 10x10\n",
       "  averageUnionValid : 0.95827959775925\n",
       "  _targ_idx : LongTensor - empty\n",
       "  averageValid : 0.97867579460144\n",
       "  classes : \n",
       "    {\n",
       "      1 : 1\n",
       "      2 : 2\n",
       "      3 : 3\n",
       "      4 : 4\n",
       "      5 : 5\n",
       "      6 : 6\n",
       "      7 : 7\n",
       "      8 : 8\n",
       "      9 : 9\n",
       "      10 : 10\n",
       "    }\n",
       "  _prediction : FloatTensor - size: 10\n",
       "  _pred_idx : LongTensor - size: 1\n",
       "  nclasses : 10\n",
       "  _max : FloatTensor - size: 1\n",
       "  _target : FloatTensor - empty\n",
       "  unionvalids : FloatTensor - size: 10\n",
       "  totalValid : 0.9788\n",
       "}\n",
       "<trainer> on training set:\t\n",
       "<trainer> online epoch # 15 [batchSize = 50]\t\n"
      ]
     },
     "execution_count": 10,
     "metadata": {},
     "output_type": "execute_result"
    },
    {
     "data": {
      "text/plain": [
       "Progress: 8851 / 60000\t\n"
      ]
     },
     "execution_count": 10,
     "metadata": {},
     "output_type": "execute_result"
    },
    {
     "data": {
      "text/plain": [
       "Progress: 34501 / 60000\t\n"
      ]
     },
     "execution_count": 10,
     "metadata": {},
     "output_type": "execute_result"
    },
    {
     "data": {
      "text/plain": [
       "<trainer> time to learn 1 sample = 0.21503714720408ms\t\n",
       "ConfusionMatrix:\n",
       "[[    5921       0       0       0       0       0       1       0       0       1]   99.966% \t[class: 1]\n",
       " [       0    6733       0       0       3       0       0       5       1       0]   99.867% \t[class: 2]\n",
       " [       1       2    5953       0       0       0       0       2       0       0]   99.916% \t[class: 3]\n",
       " [       0       0       0    6128       0       0       0       1       1       1]   99.951% \t[class: 4]\n",
       " [       0       1       0       0    5836       0       1       1       0       3]   99.897% \t[class: 5]\n",
       " [       0       1       0       1       0    5419       0       0       0       0]   99.963% \t[class: 6]\n",
       " [       1       2       0       0       1       0    5914       0       0       0]   99.932% \t[class: 7]\n",
       " [       1       6       0       0       0       0       0    6255       1       2]   99.840% \t[class: 8]\n",
       " [       0       4       0       0       0       0       2       0    5844       1]   99.880% \t[class: 9]\n",
       " [       0       1       0       0       5       0       0       6       1    5936]]  99.781% \t[class: 10]\n",
       " + average row correct: 99.899492263794% \n",
       " + average rowUcol correct (VOC measure): 99.801496267319% \n",
       " + global correct: 99.898333333333%\n",
       "{\n",
       "  valids : FloatTensor - size: 10\n",
       "  mat : LongTensor - size: 10x10\n",
       "  averageUnionValid : 0.99801496267319\n",
       "  _targ_idx : LongTensor - empty\n"
      ]
     },
     "execution_count": 10,
     "metadata": {},
     "output_type": "execute_result"
    },
    {
     "data": {
      "text/plain": [
       "  averageValid : 0.99899492263794\n",
       "  classes : \n",
       "    {\n",
       "      1 : 1\n",
       "      2 : 2\n",
       "      3 : 3\n",
       "      4 : 4\n",
       "      5 : 5\n",
       "      6 : 6\n",
       "      7 : 7\n",
       "      8 : 8\n",
       "      9 : 9\n",
       "      10 : 10\n",
       "    }\n",
       "  _prediction : FloatTensor - size: 10\n",
       "  _pred_idx : LongTensor - size: 1\n",
       "  nclasses : 10\n",
       "  _max : FloatTensor - size: 1\n",
       "  _target : FloatTensor - empty\n",
       "  unionvalids : FloatTensor - size: 10\n",
       "  totalValid : 0.99898333333333\n",
       "}\n",
       "<trainer> on testing Set:\t\n"
      ]
     },
     "execution_count": 10,
     "metadata": {},
     "output_type": "execute_result"
    },
    {
     "data": {
      "text/plain": [
       "Progress: 1451 / 10000\t\n"
      ]
     },
     "execution_count": 10,
     "metadata": {},
     "output_type": "execute_result"
    },
    {
     "data": {
      "text/plain": [
       "<trainer> time to test 1 sample = 0.07702419757843ms\t\n"
      ]
     },
     "execution_count": 10,
     "metadata": {},
     "output_type": "execute_result"
    },
    {
     "data": {
      "text/plain": [
       "ConfusionMatrix:\n",
       "[[     974       0       1       1       1       0       0       1       2       0]   99.388% \t[class: 1]\n",
       " [       0    1125       3       1       0       1       2       1       1       1]   99.119% \t[class: 2]\n",
       " [       4       1    1014       1       2       0       2       5       3       0]   98.256% \t[class: 3]\n",
       " [       0       0       4     992       0       3       0       2       1       8]   98.218% \t[class: 4]\n",
       " [       1       0       2       1     969       0       3       0       0       6]   98.676% \t[class: 5]\n",
       " [       2       0       0       8       2     874       2       0       1       3]   97.982% \t[class: 6]\n",
       " [       7       3       1       1       5       9     931       0       1       0]   97.182% \t[class: 7]\n",
       " [       2       6       8       1       8       0       0     982       5      16]   95.525% \t[class: 8]\n",
       " [       3       2       4       4       6       5       1       2     944       3]   96.920% \t[class: 9]\n",
       " [       3       2       0       4      10       3       0       1       0     986]]  97.721% \t[class: 10]\n",
       " + average row correct: 97.898591756821% \n",
       " + average rowUcol correct (VOC measure): 95.886816382408% \n",
       " + global correct: 97.91%\n",
       "{\n",
       "  valids : FloatTensor - size: 10\n",
       "  mat : LongTensor - size: 10x10\n",
       "  averageUnionValid : 0.95886816382408\n",
       "  _targ_idx : LongTensor - empty\n",
       "  averageValid : 0.97898591756821\n",
       "  classes : \n",
       "    {\n",
       "      1 : 1\n",
       "      2 : 2\n",
       "      3 : 3\n",
       "      4 : 4\n",
       "      5 : 5\n",
       "      6 : 6\n",
       "      7 : 7\n",
       "      8 : 8\n",
       "      9 : 9\n",
       "      10 : 10\n",
       "    }\n",
       "  _prediction : FloatTensor - size: 10\n",
       "  _pred_idx : LongTensor - size: 1\n",
       "  nclasses : 10\n",
       "  _max : FloatTensor - size: 1\n",
       "  _target : FloatTensor - empty\n",
       "  unionvalids : FloatTensor - size: 10\n",
       "  totalValid : 0.9791\n",
       "}\n",
       "<trainer> on training set:\t\n",
       "<trainer> online epoch # 16 [batchSize = 50]\t\n"
      ]
     },
     "execution_count": 10,
     "metadata": {},
     "output_type": "execute_result"
    },
    {
     "data": {
      "text/plain": [
       "Progress: 22851 / 60000\t\n"
      ]
     },
     "execution_count": 10,
     "metadata": {},
     "output_type": "execute_result"
    },
    {
     "data": {
      "text/plain": [
       "Progress: 48251 / 60000\t\n"
      ]
     },
     "execution_count": 10,
     "metadata": {},
     "output_type": "execute_result"
    },
    {
     "data": {
      "text/plain": [
       "<trainer> time to learn 1 sample = 0.21673796971639ms\t\n",
       "ConfusionMatrix:\n",
       "[[    5922       0       0       0       0       0       1       0       0       0]   99.983% \t[class: 1]\n",
       " [       0    6734       0       0       3       0       0       5       0       0]   99.881% \t[class: 2]\n",
       " [       0       2    5954       0       0       0       0       2       0       0]   99.933% \t[class: 3]\n",
       " [       0       0       0    6129       0       0       0       1       0       1]   99.967% \t[class: 4]\n",
       " [       0       1       0       0    5837       0       0       1       0       3]   99.914% \t[class: 5]\n",
       " [       0       1       0       1       0    5419       0       0       0       0]   99.963% \t[class: 6]\n",
       " [       1       2       0       0       1       0    5914       0       0       0]   99.932% \t[class: 7]\n",
       " [       0       6       0       0       0       0       0    6258       0       1]   99.888% \t[class: 8]\n",
       " [       0       3       0       0       0       0       1       0    5847       0]   99.932% \t[class: 9]\n",
       " [       0       1       0       0       3       0       0       6       1    5938]]  99.815% \t[class: 10]\n",
       " + average row correct: 99.920961856842% \n",
       " + average rowUcol correct (VOC measure): 99.844713807106% \n",
       " + global correct: 99.92%\n",
       "{\n",
       "  valids : FloatTensor - size: 10\n",
       "  mat : LongTensor - size: 10x10\n",
       "  averageUnionValid : 0.99844713807106\n",
       "  _targ_idx : LongTensor - empty\n",
       "  averageValid : 0.99920961856842\n",
       "  classes : \n",
       "    {\n",
       "      1 : 1\n",
       "      2 : 2\n",
       "      3 : 3\n",
       "      4 : 4\n",
       "      5 : 5\n",
       "      6 : 6\n",
       "      7 : 7\n",
       "      8 : 8\n",
       "      9 : 9\n",
       "      10 : 10\n",
       "    }\n",
       "  _prediction : FloatTensor - size: 10\n",
       "  _pred_idx : LongTensor - size: 1\n",
       "  nclasses : 10\n",
       "  _max : FloatTensor - size: 1\n",
       "  _target : FloatTensor - empty\n",
       "  unionvalids : FloatTensor - size: 10\n",
       "  totalValid : 0.9992\n",
       "}\n",
       "<trainer> on testing Set:\t\n"
      ]
     },
     "execution_count": 10,
     "metadata": {},
     "output_type": "execute_result"
    },
    {
     "data": {
      "text/plain": [
       "<trainer> time to test 1 sample = 0.079041504859924ms\t\n",
       "ConfusionMatrix:\n",
       "[[     974       0       1       1       1       0       0       1       2       0]   99.388% \t[class: 1]\n",
       " [       0    1125       3       1       0       1       2       1       1       1]   99.119% \t[class: 2]\n",
       " [       4       1    1014       1       2       0       2       4       4       0]   98.256% \t[class: 3]\n",
       " [       0       0       4     992       0       3       0       2       1       8]   98.218% \t[class: 4]\n",
       " [       1       0       2       1     968       0       3       0       0       7]   98.574% \t[class: 5]\n",
       " [       2       0       0       8       2     874       2       0       1       3]   97.982% \t[class: 6]\n",
       " [       7       3       1       1       5       8     933       0       0       0]   97.390% \t[class: 7]\n",
       " [       2       6       8       1       9       0       0     985       5      12]   95.817% \t[class: 8]\n",
       " [       3       2       4       4       6       5       1       2     944       3]   96.920% \t[class: 9]\n",
       " [       3       2       0       4      10       3       0       1       0     986]]  97.721% \t[class: 10]\n",
       " + average row correct: 97.938467860222% \n",
       " + average rowUcol correct (VOC measure): 95.963837504387% \n",
       " + global correct: 97.95%\n",
       "{\n",
       "  valids : FloatTensor - size: 10\n",
       "  mat : LongTensor - size: 10x10\n",
       "  averageUnionValid : 0.95963837504387\n",
       "  _targ_idx : LongTensor - empty\n",
       "  averageValid : 0.97938467860222\n",
       "  classes : \n",
       "    {\n",
       "      1 : 1\n",
       "      2 : 2\n",
       "      3 : 3\n",
       "      4 : 4\n",
       "      5 : 5\n",
       "      6 : 6\n",
       "      7 : 7\n",
       "      8 : 8\n",
       "      9 : 9\n",
       "      10 : 10\n",
       "   "
      ]
     },
     "execution_count": 10,
     "metadata": {},
     "output_type": "execute_result"
    },
    {
     "data": {
      "text/plain": [
       " }\n",
       "  _prediction : FloatTensor - size: 10\n",
       "  _pred_idx : LongTensor - size: 1\n",
       "  nclasses : 10\n",
       "  _max : FloatTensor - size: 1\n",
       "  _target : FloatTensor - empty\n",
       "  unionvalids : FloatTensor - size: 10\n",
       "  totalValid : 0.9795\n",
       "}\n",
       "<trainer> on training set:\t\n",
       "<trainer> online epoch # 17 [batchSize = 50]\t\n"
      ]
     },
     "execution_count": 10,
     "metadata": {},
     "output_type": "execute_result"
    },
    {
     "data": {
      "text/plain": [
       "Progress: 10451 / 60000\t\n"
      ]
     },
     "execution_count": 10,
     "metadata": {},
     "output_type": "execute_result"
    },
    {
     "data": {
      "text/plain": [
       "Progress: 36651 / 60000\t\n"
      ]
     },
     "execution_count": 10,
     "metadata": {},
     "output_type": "execute_result"
    },
    {
     "data": {
      "text/plain": [
       "<trainer> time to learn 1 sample = 0.21464621623357ms\t\n",
       "ConfusionMatrix:\n",
       "[[    5922       0       0       0       0       0       1       0       0       0]   99.983% \t[class: 1]\n",
       " [       0    6736       0       0       2       0       0       4       0       0]   99.911% \t[class: 2]\n",
       " [       0       2    5954       0       0       0       0       2       0       0]   99.933% \t[class: 3]\n",
       " [       0       0       0    6129       0       0       0       1       0       1]   99.967% \t[class: 4]\n",
       " [       0       1       0       0    5838       0       0       1       0       2]   99.932% \t[class: 5]\n",
       " [       0       1       0       1       0    5419       0       0       0       0]   99.963% \t[class: 6]\n",
       " [       1       0       0       0       1       0    5916       0       0       0]   99.966% \t[class: 7]\n",
       " [       0       6       0       0       0       0       0    6258       0       1]   99.888% \t[class: 8]\n",
       " [       0       2       0       0       0       0       0       0    5849       0]   99.966% \t[class: 9]\n",
       " [       0       1       0       0       1       0       0       4       0    5943]]  99.899% \t[class: 10]\n",
       " + average row correct: 99.940842986107% \n",
       " + average rowUcol correct (VOC measure): 99.883962273598% \n",
       " + global correct: 99.94%\n",
       "{\n",
       "  valids : FloatTensor - size: 10\n",
       "  mat : LongTensor - size: 10x10\n",
       "  averageUnionValid : 0.99883962273598\n",
       "  _targ_idx : LongTensor - empty\n",
       "  averageValid : 0.99940842986107\n",
       "  classes : \n",
       "    {\n",
       "      1 : 1\n",
       "      2 : 2\n",
       "      3 : 3\n",
       "      4 : 4\n",
       "      5 : 5\n",
       "      6 : 6\n",
       "      7 : 7\n",
       "      8 : 8\n",
       "      9 : 9\n",
       "      10 : 10\n",
       "    }\n",
       "  _prediction : FloatTensor - size: 10\n",
       "  _pred_idx : LongTensor - size: 1\n",
       "  nclasses : 10\n",
       "  _max : FloatTensor - size: 1\n",
       "  _target : FloatTensor - empty\n",
       "  unionvalids : FloatTensor - size: 10\n",
       "  totalValid : 0.9994\n",
       "}\n",
       "<trainer> on testing Set:\t\n"
      ]
     },
     "execution_count": 10,
     "metadata": {},
     "output_type": "execute_result"
    },
    {
     "data": {
      "text/plain": [
       "Progress: 8851 / 10000\t\n"
      ]
     },
     "execution_count": 10,
     "metadata": {},
     "output_type": "execute_result"
    },
    {
     "data": {
      "text/plain": [
       "<trainer> time to test 1 sample = 0.079308104515076ms\t\n",
       "ConfusionMatrix:\n",
       "[[     974       0       1       1       1       0       0       1       2       0]   99.388% \t[class: 1]\n",
       " [       0    1126       2       1       0       1       2       1       1       1]   99.207% \t[class: 2]\n",
       " [       4       1    1014       1       2       0       2       4       4       0]   98.256% \t[class: 3]\n",
       " [       0       0       4     992       0       3       0       2       1       8]   98.218% \t[class: 4]\n",
       " [       1       0       2       1     968       0       3       0       0       7]   98.574% \t[class: 5]\n",
       " [       2       0       0       8       2     875       2       0       1       2]   98.094% \t[class: 6]\n",
       " [       7       3       1       1       4       8     934       0       0       0]   97.495% \t[class: 7]\n",
       " [       2       6       8       1       9       0       0     986       5      11]   95.914% \t[class: 8]\n",
       " [       3       2       4       4       6       4       2       2     944       3]   96.920% \t[class: 9]\n",
       " [       3       2       0       4      10       3       0       1       0     986]]  97.721% \t[class: 10]\n",
       " + average row correct: 97.978656291962% \n",
       " + average rowUcol correct (VOC measure): 96.040686368942% \n",
       " + global correct: 97.99%\n",
       "{\n"
      ]
     },
     "execution_count": 10,
     "metadata": {},
     "output_type": "execute_result"
    },
    {
     "data": {
      "text/plain": [
       "  valids : FloatTensor - size: 10\n",
       "  mat : LongTensor - size: 10x10\n",
       "  averageUnionValid : 0.96040686368942\n",
       "  _targ_idx : LongTensor - empty\n",
       "  averageValid : 0.97978656291962\n",
       "  classes : \n",
       "    {\n",
       "      1 : 1\n",
       "      2 : 2\n",
       "      3 : 3\n",
       "      4 : 4\n",
       "      5 : 5\n",
       "      6 : 6\n",
       "      7 : 7\n",
       "      8 : 8\n",
       "      9 : 9\n",
       "      10 : 10\n",
       "    }\n",
       "  _prediction : FloatTensor - size: 10\n",
       "  _pred_idx : LongTensor - size: 1\n",
       "  nclasses : 10\n",
       "  _max : FloatTensor - size: 1\n",
       "  _target : FloatTensor - empty\n",
       "  unionvalids : FloatTensor - size: 10\n",
       "  totalValid : 0.9799\n",
       "}\n",
       "<trainer> on training set:\t\n",
       "<trainer> online epoch # 18 [batchSize = 50]\t\n"
      ]
     },
     "execution_count": 10,
     "metadata": {},
     "output_type": "execute_result"
    },
    {
     "data": {
      "text/plain": [
       "Progress: 26051 / 60000\t\n"
      ]
     },
     "execution_count": 10,
     "metadata": {},
     "output_type": "execute_result"
    },
    {
     "data": {
      "text/plain": [
       "Progress: 53001 / 60000\t\n"
      ]
     },
     "execution_count": 10,
     "metadata": {},
     "output_type": "execute_result"
    },
    {
     "data": {
      "text/plain": [
       "<trainer> time to learn 1 sample = 0.22380093336105ms\t\n"
      ]
     },
     "execution_count": 10,
     "metadata": {},
     "output_type": "execute_result"
    },
    {
     "data": {
      "text/plain": [
       "ConfusionMatrix:\n",
       "[[    5922       0       0       0       0       0       1       0       0       0]   99.983% \t[class: 1]\n",
       " [       0    6737       0       0       2       0       0       3       0       0]   99.926% \t[class: 2]\n",
       " [       0       2    5955       0       0       0       0       1       0       0]   99.950% \t[class: 3]\n",
       " [       0       0       0    6130       0       0       0       0       0       1]   99.984% \t[class: 4]\n",
       " [       0       1       0       0    5839       0       0       1       0       1]   99.949% \t[class: 5]\n",
       " [       0       1       0       1       0    5419       0       0       0       0]   99.963% \t[class: 6]\n",
       " [       1       0       0       0       0       0    5917       0       0       0]   99.983% \t[class: 7]\n",
       " [       0       5       0       0       0       0       0    6260       0       0]   99.920% \t[class: 8]\n",
       " [       0       2       0       0       0       0       0       0    5849       0]   99.966% \t[class: 9]\n",
       " [       0       1       0       0       1       0       0       2       0    5945]]  99.933% \t[class: 10]\n",
       " + average row correct: 99.95559155941% \n",
       " + average rowUcol correct (VOC measure): 99.91319000721% \n",
       " + global correct: 99.955%\n",
       "{\n",
       "  valids : FloatTensor - size: 10\n",
       "  mat : LongTensor - size: 10x10\n",
       "  averageUnionValid : 0.9991319000721\n",
       "  _targ_idx : LongTensor - empty\n",
       "  averageValid : 0.9995559155941\n",
       "  classes : \n",
       "    {\n",
       "      1 : 1\n",
       "      2 : 2\n",
       "      3 : 3\n",
       "      4 : 4\n",
       "      5 : 5\n",
       "      6 : 6\n",
       "      7 : 7\n",
       "      8 : 8\n",
       "      9 : 9\n",
       "      10 : 10\n",
       "    }\n",
       "  _prediction : FloatTensor - size: 10\n",
       "  _pred_idx : LongTensor - size: 1\n",
       "  nclasses : 10\n",
       "  _max : FloatTensor - size: 1\n",
       "  _target : FloatTensor - empty\n",
       "  unionvalids : FloatTensor - size: 10\n",
       "  totalValid : 0.99955\n",
       "}\n",
       "<trainer> on testing Set:\t\n"
      ]
     },
     "execution_count": 10,
     "metadata": {},
     "output_type": "execute_result"
    },
    {
     "data": {
      "text/plain": [
       "<trainer> time to test 1 sample = 0.07979621887207ms\t\n"
      ]
     },
     "execution_count": 10,
     "metadata": {},
     "output_type": "execute_result"
    },
    {
     "data": {
      "text/plain": [
       "ConfusionMatrix:\n",
       "[[     974       0       1       1       1       0       0       1       2       0]   99.388% \t[class: 1]\n",
       " [       0    1126       2       1       0       1       2       1       1       1]   99.207% \t[class: 2]\n",
       " [       4       1    1013       1       2       0       2       4       5       0]   98.159% \t[class: 3]\n",
       " [       0       0       4     992       0       3       0       2       1       8]   98.218% \t[class: 4]\n",
       " [       1       0       2       1     968       0       3       0       0       7]   98.574% \t[class: 5]\n",
       " [       2       0       0       8       2     875       2       0       1       2]   98.094% \t[class: 6]\n",
       " [       6       3       0       1       4       9     935       0       0       0]   97.599% \t[class: 7]\n",
       " [       2       6       6       1       9       0       0     988       5      11]   96.109% \t[class: 8]\n",
       " [       3       2       4       4       6       4       2       2     944       3]   96.920% \t[class: 9]\n",
       " [       3       2       0       4      10       3       0       1       0     986]]  97.721% \t[class: 10]\n",
       " + average row correct: 97.998859882355% \n",
       " + average rowUcol correct (VOC measure): 96.077718734741% \n",
       " + global correct: 98.01%\n",
       "{\n",
       "  valids : FloatTensor - size: 10\n",
       "  mat : LongTensor - size: 10x10\n",
       "  averageUnionValid : 0.96077718734741\n",
       "  _targ_idx : LongTensor - empty\n",
       "  averageValid : 0.97998859882355\n",
       "  classes : \n",
       "    {\n",
       "      1 : 1\n",
       "      2 : 2\n",
       "      3 : 3\n",
       "      4 : 4\n",
       "      5 : 5\n",
       "      6 : 6\n",
       "      7 : 7\n",
       "      8 : 8\n",
       "      9 : 9\n",
       "      10 : 10\n",
       "    }\n",
       "  _prediction : FloatTensor - size: 10\n",
       "  _pred_idx : LongTensor - size: 1\n",
       "  nclasses : 10\n",
       "  _max : FloatTensor - size: 1\n",
       "  _target : FloatTensor - empty\n",
       "  unionvalids : FloatTensor - size: 10\n",
       "  totalValid : 0.9801\n",
       "}\n",
       "<trainer> on training set:\t\n",
       "<trainer> online epoch # 19 [batchSize = 50]\t\n"
      ]
     },
     "execution_count": 10,
     "metadata": {},
     "output_type": "execute_result"
    },
    {
     "data": {
      "text/plain": [
       "Progress: 15601 / 60000\t\n"
      ]
     },
     "execution_count": 10,
     "metadata": {},
     "output_type": "execute_result"
    },
    {
     "data": {
      "text/plain": [
       "Progress: 41601 / 60000\t\n"
      ]
     },
     "execution_count": 10,
     "metadata": {},
     "output_type": "execute_result"
    },
    {
     "data": {
      "text/plain": [
       "<trainer> time to learn 1 sample = 0.22383470137914ms\t\n",
       "ConfusionMatrix:\n",
       "[[    5923       0       0       0       0       0       0       0       0       0]   100.000% \t[class: 1]\n",
       " [       0    6737       0       0       2       0       0       3       0       0]   99.926% \t[class: 2]\n",
       " [       0       2    5956       0       0       0       0       0       0       0]   99.966% \t[class: 3]\n",
       " [       0       0       0    6130       0       0       0       0       0       1]   99.984% \t[class: 4]\n",
       " [       0       1       0       0    5839       0       0       1       0       1]   99.949% \t[class: 5]\n",
       " [       0       1       0       0       0    5420       0       0       0       0]   99.982% \t[class: 6]\n",
       " [       0       0       0       0       0       0    5918       0       0       0]   100.000% \t[class: 7]\n",
       " [       0       4       0       0       0       0       0    6261       0       0]   99.936% \t[class: 8]\n",
       " [       0       1       0       0       0       0       0       0    5850       0]   99.983% \t[class: 9]\n",
       " [       0       1       0       0       1       0       0       1       0    5946]]  99.950% \t[class: 10]\n",
       " + average row correct: 99.967479705811% \n",
       " + average rowUcol correct (VOC measure): 99.936221837997% \n",
       " + global correct: 99.966666666667%\n",
       "{\n",
       "  valids : FloatTensor - size: 10\n",
       "  mat : LongTensor - size: 10x10\n",
       "  averageUnionValid : 0.99936221837997\n",
       "  _targ_idx : LongTensor - empty\n",
       "  averageValid : 0.99967479705811\n",
       "  classes : \n",
       "    {\n",
       "      1 : 1\n",
       "      2 : 2\n",
       "      3 : 3\n",
       "      4 : 4\n",
       "      5 : 5\n",
       "      6 : 6\n",
       "      7 : 7\n",
       "      8 : 8\n",
       "      9 : 9\n",
       "      10 : 10\n",
       "    }\n",
       "  _prediction : FloatTensor - size: 10\n",
       "  _pred_idx : LongTensor - size: 1\n",
       "  nclasses : 10\n",
       "  _max : FloatTensor - size: 1\n",
       "  _target : FloatTensor - empty\n",
       "  unionvalids : FloatTensor - size: 10\n",
       "  totalValid : 0.99966666666667\n",
       "}\n",
       "<trainer> on testing Set:\t\n"
      ]
     },
     "execution_count": 10,
     "metadata": {},
     "output_type": "execute_result"
    },
    {
     "data": {
      "text/plain": [
       "<trainer> time to test 1 sample = 0.077850413322449ms\t\n",
       "ConfusionMatrix:\n",
       "[[     974       0       1       1       1       0       0       1       2       0]   99.388% \t[class: 1]\n",
       " [       0    1126       2       1       0       1       2       1       1       1]   99.207% \t[class: 2]\n",
       " [       4       1    1012       1       2       0       2       5       5       0]   98.062% \t[class: 3]\n",
       " [       0       0       4     992       0       3       0       3       1       7]   98.218% \t[class: 4]\n",
       " [       1       0       2       1     967       0       3       0       0       8]   98.473% \t[class: 5]\n",
       " [       2       0       0       8       2     874       2       0       2       2]   97.982% \t[class: 6]\n",
       " [       6       3       0       1       4       7     937       0       0       0]   97.808% \t[class: 7]\n",
       " [       2       5       6       1       9       0       0     991       5       9]   96.401% \t[class: 8]\n",
       " [       3       2       4       4       5       4       2       2     945       3]   97.023% \t[class: 9]\n",
       " [       3       2       0       4      10       3       0       1       0     986]]  97.721% \t[class: 10]\n",
       " + average row correct: 98.028101921082% \n",
       " + average rowUcol correct (VOC measure): 96.136252880096% \n",
       " + global correct: 98.04%\n"
      ]
     },
     "execution_count": 10,
     "metadata": {},
     "output_type": "execute_result"
    },
    {
     "data": {
      "text/plain": [
       "{\n",
       "  valids : FloatTensor - size: 10\n",
       "  mat : LongTensor - size: 10x10\n",
       "  averageUnionValid : 0.96136252880096\n",
       "  _targ_idx : LongTensor - empty\n",
       "  averageValid : 0.98028101921082\n",
       "  classes : \n",
       "    {\n",
       "      1 : 1\n",
       "      2 : 2\n",
       "      3 : 3\n",
       "      4 : 4\n",
       "      5 : 5\n",
       "      6 : 6\n",
       "      7 : 7\n",
       "      8 : 8\n",
       "      9 : 9\n",
       "      10 : 10\n",
       "    }\n",
       "  _prediction : FloatTensor - size: 10\n",
       "  _pred_idx : LongTensor - size: 1\n",
       "  nclasses : 10\n",
       "  _max : FloatTensor - size: 1\n",
       "  _target : FloatTensor - empty\n",
       "  unionvalids : FloatTensor - size: 10\n",
       "  totalValid : 0.9804\n",
       "}\n",
       "<trainer> on training set:\t\n",
       "<trainer> online epoch # 20 [batchSize = 50]\t\n"
      ]
     },
     "execution_count": 10,
     "metadata": {},
     "output_type": "execute_result"
    },
    {
     "data": {
      "text/plain": [
       "Progress: 4651 / 60000\t\n"
      ]
     },
     "execution_count": 10,
     "metadata": {},
     "output_type": "execute_result"
    },
    {
     "data": {
      "text/plain": [
       "Progress: 30651 / 60000\t\n"
      ]
     },
     "execution_count": 10,
     "metadata": {},
     "output_type": "execute_result"
    },
    {
     "data": {
      "text/plain": [
       "Progress: 56151 / 60000\t\n"
      ]
     },
     "execution_count": 10,
     "metadata": {},
     "output_type": "execute_result"
    },
    {
     "data": {
      "text/plain": [
       "<trainer> time to learn 1 sample = 0.2189066807429ms\t\n"
      ]
     },
     "execution_count": 10,
     "metadata": {},
     "output_type": "execute_result"
    },
    {
     "data": {
      "text/plain": [
       "ConfusionMatrix:\n",
       "[[    5923       0       0       0       0       0       0       0       0       0]   100.000% \t[class: 1]\n",
       " [       0    6737       0       0       2       0       0       3       0       0]   99.926% \t[class: 2]\n",
       " [       0       1    5957       0       0       0       0       0       0       0]   99.983% \t[class: 3]\n",
       " [       0       0       0    6130       0       0       0       0       0       1]   99.984% \t[class: 4]\n",
       " [       0       0       0       0    5840       0       0       1       0       1]   99.966% \t[class: 5]\n",
       " [       0       0       0       0       0    5421       0       0       0       0]   100.000% \t[class: 6]\n",
       " [       0       0       0       0       0       0    5918       0       0       0]   100.000% \t[class: 7]\n",
       " [       0       4       0       0       0       0       0    6261       0       0]   99.936% \t[class: 8]\n",
       " [       0       1       0       0       0       0       0       0    5850       0]   99.983% \t[class: 9]\n",
       " [       0       0       0       0       0       0       0       1       0    5948]]  99.983% \t[class: 10]\n",
       " + average row correct: 99.976076483727% \n",
       " + average rowUcol correct (VOC measure): 99.952440857887% \n",
       " + global correct: 99.975%\n",
       "{\n",
       "  valids : FloatTensor - size: 10\n",
       "  mat : LongTensor - size: 10x10\n",
       "  averageUnionValid : 0.99952440857887\n",
       "  _targ_idx : LongTensor - empty\n",
       "  averageValid : 0.99976076483727\n",
       "  classes : \n",
       "    {\n",
       "      1 : 1\n",
       "      2 : 2\n",
       "      3 : 3\n",
       "      4 : 4\n",
       "      5 : 5\n",
       "      6 : 6\n",
       "      7 : 7\n",
       "      8 : 8\n",
       "      9 : 9\n",
       "      10 : 10\n",
       "    }\n",
       "  _prediction : FloatTensor - size: 10\n",
       "  _pred_idx : LongTensor - size: 1\n",
       "  nclasses : 10\n",
       "  _max : FloatTensor - size: 1\n",
       "  _target : FloatTensor - empty\n",
       "  unionvalids : FloatTensor - size: 10\n",
       "  totalValid : 0.99975\n",
       "}\n",
       "<trainer> on testing Set:\t\n"
      ]
     },
     "execution_count": 10,
     "metadata": {},
     "output_type": "execute_result"
    },
    {
     "data": {
      "text/plain": [
       "<trainer> time to test 1 sample = 0.081539392471313ms\t\n"
      ]
     },
     "execution_count": 10,
     "metadata": {},
     "output_type": "execute_result"
    },
    {
     "data": {
      "text/plain": [
       "ConfusionMatrix:\n",
       "[[     973       0       1       1       1       0       1       1       2       0]   99.286% \t[class: 1]\n",
       " [       0    1127       2       1       0       1       2       1       1       0]   99.295% \t[class: 2]\n",
       " [       4       1    1012       1       2       0       2       5       5       0]   98.062% \t[class: 3]\n",
       " [       0       0       4     992       0       3       0       3       1       7]   98.218% \t[class: 4]\n",
       " [       1       0       2       1     967       0       3       0       0       8]   98.473% \t[class: 5]\n",
       " [       2       0       0       8       2     874       2       0       2       2]   97.982% \t[class: 6]\n",
       " [       6       3       0       1       4       7     937       0       0       0]   97.808% \t[class: 7]\n",
       " [       2       5       6       1       8       0       0     992       5       9]   96.498% \t[class: 8]\n",
       " [       3       2       4       4       5       4       1       2     946       3]   97.125% \t[class: 9]\n",
       " [       3       2       0       4      10       3       0       1       0     986]]  97.721% \t[class: 10]\n",
       " + average row correct: 98.046702742577% \n",
       " + average rowUcol correct (VOC measure): 96.17321908474% \n",
       " + global correct: 98.06%\n",
       "{\n",
       "  valids : FloatTensor - size: 10\n",
       "  mat : LongTensor - size: 10x10\n",
       "  averageUnionValid : 0.9617321908474\n",
       "  _targ_idx : LongTensor - empty\n",
       "  averageValid : 0.98046702742577\n",
       "  classes : \n",
       "    {\n",
       "      1 : 1\n",
       "      2 : 2\n",
       "      3 : 3\n",
       "      4 : 4\n",
       "      5 : 5\n",
       "      6 : 6\n",
       "      7 : 7\n",
       "      8 : 8\n",
       "      9 : 9\n",
       "      10 : 10\n",
       "    }\n",
       "  _prediction : FloatTensor - size: 10\n",
       "  _pred_idx : LongTensor - size: 1\n",
       "  nclasses : 10\n",
       "  _max : FloatTensor - size: 1\n",
       "  _target : FloatTensor - empty\n",
       "  unionvalids : FloatTensor - size: 10\n",
       "  totalValid : 0.9806\n",
       "}\n"
      ]
     },
     "execution_count": 10,
     "metadata": {},
     "output_type": "execute_result"
    }
   ],
   "source": [
    "for i = 1, numIter do\n",
    "    train(trainData)\n",
    "    test(testData)\n",
    "end"
   ]
  },
  {
   "cell_type": "code",
   "execution_count": 11,
   "metadata": {
    "collapsed": false
   },
   "outputs": [],
   "source": [
    "function table2Tensor(table)\n",
    "    tensor = torch.Tensor(#table)\n",
    "    for i = 1, tensor:size()[1] do\n",
    "        tensor[i] = table[i]\n",
    "    end\n",
    "    return tensor\n",
    "end"
   ]
  },
  {
   "cell_type": "code",
   "execution_count": 12,
   "metadata": {
    "collapsed": false
   },
   "outputs": [
    {
     "data": {
      "text/html": [
       "<script type=\"text/javascript\">\n",
       "$(function() {\n",
       "    if (typeof (window._bokeh_onload_callbacks) === \"undefined\"){\n",
       "  window._bokeh_onload_callbacks = [];\n",
       "    }\n",
       "    function load_lib(url, callback){\n",
       "  window._bokeh_onload_callbacks.push(callback);\n",
       "  if (window._bokeh_is_loading){\n",
       "      console.log(\"Bokeh: BokehJS is being loaded, scheduling callback at\", new Date());\n",
       "      return null;\n",
       "  }\n",
       "  console.log(\"Bokeh: BokehJS not loaded, scheduling load and callback at\", new Date());\n",
       "  window._bokeh_is_loading = true;\n",
       "  var s = document.createElement('script');\n",
       "  s.src = url;\n",
       "  s.async = true;\n",
       "  s.onreadystatechange = s.onload = function(){\n",
       "      Bokeh.embed.inject_css(\"http://cdn.pydata.org/bokeh-0.7.0.min.css\");\n",
       "      window._bokeh_onload_callbacks.forEach(function(callback){callback()});\n",
       "  };\n",
       "  s.onerror = function(){\n",
       "      console.warn(\"failed to load library \" + url);\n",
       "  };\n",
       "  document.getElementsByTagName(\"head\")[0].appendChild(s);\n",
       "    }\n",
       "\n",
       "    bokehjs_url = \"http://cdn.pydata.org/bokeh-0.7.0.min.js\"\n",
       "\n",
       "    var elt = document.getElementById(\"71c762a4-7339-4c46-cc34-a9cde1830045\");\n",
       "    if(elt==null) {\n",
       "  console.log(\"Bokeh: ERROR: autoload.js configured with elementid '71c762a4-7339-4c46-cc34-a9cde1830045'\"\n",
       "        + \"but no matching script tag was found. \")\n",
       "  return false;\n",
       "    }\n",
       "\n",
       "    if(typeof(Bokeh) !== \"undefined\") {\n",
       "  console.log(\"Bokeh: BokehJS loaded, going straight to plotting\");\n",
       "  var modelid = \"a49f8f88-172c-43fc-c36e-1e4be944b303\";\n",
       "  var modeltype = \"Plot\";\n",
       "  var all_models = [{\"id\":\"4c92973d-d7fe-41e5-c1dd-b80d028b6905\",\"type\":\"ColumnDataSource\",\"attributes\":{\"data\":{\"y\":[90.974998474121,94.574996948242,96.345001220703,97.328330993652,97.973335266113,98.421669006348,98.74666595459,99.059997558594,99.286666870117,99.464996337891,99.610000610352,99.723335266113,99.798332214355,99.860000610352,99.898330688477,99.919998168945,99.940002441406,99.955001831055,99.966667175293,99.974998474121],\"x\":[1,2,3,4,5,6,7,8,9,10,11,12,13,14,15,16,17,18,19,20]},\"column_names\":[\"y\",\"x\"],\"cont_ranges\":{},\"discrete_ranges\":{},\"selected\":[],\"id\":\"4c92973d-d7fe-41e5-c1dd-b80d028b6905\",\"doc\":null,\"tags\":[]}},{\"id\":\"c1b533d8-3c18-4cdd-cc47-403647fe1018\",\"type\":\"Line\",\"attributes\":{\"fill_alpha\":{\"units\":\"data\",\"value\":0.2},\"line_alpha\":{\"units\":\"data\",\"value\":1},\"doc\":null,\"size\":{\"units\":\"screen\",\"value\":10},\"fill_color\":{\"value\":\"green\"},\"line_color\":{\"value\":\"green\"},\"x\":{\"units\":\"data\",\"field\":\"x\"},\"id\":\"c1b533d8-3c18-4cdd-cc47-403647fe1018\",\"y\":{\"units\":\"data\",\"field\":\"y\"},\"tags\":[]}},{\"id\":\"f7004df0-ddf7-4d03-cdb8-4fa1de6e3bcf\",\"type\":\"Line\",\"attributes\":{\"fill_alpha\":{\"units\":\"data\",\"value\":0.2},\"line_alpha\":{\"units\":\"data\",\"value\":1},\"doc\":null,\"size\":{\"units\":\"screen\",\"value\":10},\"fill_color\":{\"value\":\"green\"},\"line_color\":{\"value\":\"green\"},\"x\":{\"units\":\"data\",\"field\":\"x\"},\"id\":\"f7004df0-ddf7-4d03-cdb8-4fa1de6e3bcf\",\"y\":{\"units\":\"data\",\"field\":\"y\"},\"tags\":[]}},{\"id\":\"fc73a7e6-7404-4f02-cf0e-21bbb4c021ef\",\"type\":\"GlyphRenderer\",\"attributes\":{\"name\":null,\"nonselection_glyph\":{\"type\":\"Line\",\"id\":\"f7004df0-ddf7-4d03-cdb8-4fa1de6e3bcf\"},\"doc\":null,\"server_data_source\":null,\"data_source\":{\"type\":\"ColumnDataSource\",\"id\":\"4c92973d-d7fe-41e5-c1dd-b80d028b6905\"},\"glyph\":{\"type\":\"Line\",\"id\":\"c1b533d8-3c18-4cdd-cc47-403647fe1018\"},\"selection_glyph\":null,\"id\":\"fc73a7e6-7404-4f02-cf0e-21bbb4c021ef\",\"tags\":[]}},{\"id\":\"3341b4ae-cbb7-4b06-cb09-af6b68284b67\",\"type\":\"ColumnDataSource\",\"attributes\":{\"data\":{\"y\":[92.470001220703,94.919998168945,96.110000610352,96.699996948242,97.120002746582,97.300003051758,97.51000213623,97.580001831055,97.680000305176,97.809997558594,97.849998474121,97.870002746582,97.870002746582,97.879997253418,97.910003662109,97.949996948242,97.98999786377,98.01000213623,98.040000915527,98.059997558594],\"x\":[1,2,3,4,5,6,7,8,9,10,11,12,13,14,15,16,17,18,19,20]},\"column_names\":[\"y\",\"x\"],\"cont_ranges\":{},\"discrete_ranges\":{},\"selected\":[],\"id\":\"3341b4ae-cbb7-4b06-cb09-af6b68284b67\",\"doc\":null,\"tags\":[]}},{\"id\":\"4790005a-184c-44cd-c430-d44d8e4487c9\",\"type\":\"Line\",\"attributes\":{\"fill_alpha\":{\"units\":\"data\",\"value\":0.2},\"line_alpha\":{\"units\":\"data\",\"value\":1},\"doc\":null,\"size\":{\"units\":\"screen\",\"value\":10},\"fill_color\":{\"value\":\"blue\"},\"line_color\":{\"value\":\"blue\"},\"x\":{\"units\":\"data\",\"field\":\"x\"},\"id\":\"4790005a-184c-44cd-c430-d44d8e4487c9\",\"y\":{\"units\":\"data\",\"field\":\"y\"},\"tags\":[]}},{\"id\":\"851d1b8b-11ef-4d4f-cd56-15c4c5291a50\",\"type\":\"Line\",\"attributes\":{\"fill_alpha\":{\"units\":\"data\",\"value\":0.2},\"line_alpha\":{\"units\":\"data\",\"value\":1},\"doc\":null,\"size\":{\"units\":\"screen\",\"value\":10},\"fill_color\":{\"value\":\"blue\"},\"line_color\":{\"value\":\"blue\"},\"x\":{\"units\":\"data\",\"field\":\"x\"},\"id\":\"851d1b8b-11ef-4d4f-cd56-15c4c5291a50\",\"y\":{\"units\":\"data\",\"field\":\"y\"},\"tags\":[]}},{\"id\":\"edb83bf6-05e3-44b6-c4a2-4de8e78dc2eb\",\"type\":\"GlyphRenderer\",\"attributes\":{\"name\":null,\"nonselection_glyph\":{\"type\":\"Line\",\"id\":\"851d1b8b-11ef-4d4f-cd56-15c4c5291a50\"},\"doc\":null,\"server_data_source\":null,\"data_source\":{\"type\":\"ColumnDataSource\",\"id\":\"3341b4ae-cbb7-4b06-cb09-af6b68284b67\"},\"glyph\":{\"type\":\"Line\",\"id\":\"4790005a-184c-44cd-c430-d44d8e4487c9\"},\"selection_glyph\":null,\"id\":\"edb83bf6-05e3-44b6-c4a2-4de8e78dc2eb\",\"tags\":[]}},{\"id\":\"9ad64c8d-0dc1-490d-c9da-0dd82bac1e91\",\"type\":\"DataRange1d\",\"attributes\":{\"sources\":[{\"columns\":[\"x\"],\"source\":{\"type\":\"ColumnDataSource\",\"id\":\"4c92973d-d7fe-41e5-c1dd-b80d028b6905\"}},{\"columns\":[\"x\"],\"source\":{\"type\":\"ColumnDataSource\",\"id\":\"3341b4ae-cbb7-4b06-cb09-af6b68284b67\"}}],\"id\":\"9ad64c8d-0dc1-490d-c9da-0dd82bac1e91\",\"tags\":[],\"doc\":null}},{\"id\":\"88fe02b4-c305-4443-c4bc-51a48e8ab53c\",\"type\":\"DataRange1d\",\"attributes\":{\"sources\":[{\"columns\":[\"y\"],\"source\":{\"type\":\"ColumnDataSource\",\"id\":\"4c92973d-d7fe-41e5-c1dd-b80d028b6905\"}},{\"columns\":[\"y\"],\"source\":{\"type\":\"ColumnDataSource\",\"id\":\"3341b4ae-cbb7-4b06-cb09-af6b68284b67\"}}],\"id\":\"88fe02b4-c305-4443-c4bc-51a48e8ab53c\",\"tags\":[],\"doc\":null}},{\"id\":\"3de3aa81-2bc2-4514-c55b-552a597be5ee\",\"type\":\"ToolEvents\",\"attributes\":{\"tags\":[],\"id\":\"3de3aa81-2bc2-4514-c55b-552a597be5ee\",\"geometries\":[],\"doc\":null}},{\"id\":\"30478146-1415-43bc-c354-2f11b7f63741\",\"type\":\"BasicTickFormatter\",\"attributes\":{\"id\":\"30478146-1415-43bc-c354-2f11b7f63741\",\"tags\":[],\"doc\":null}},{\"id\":\"67fedde7-77f3-4be4-cbee-f8d7e302e1f3\",\"type\":\"BasicTicker\",\"attributes\":{\"num_minor_ticks\":5,\"id\":\"67fedde7-77f3-4be4-cbee-f8d7e302e1f3\",\"tags\":[],\"doc\":null}},{\"id\":\"bf1c741c-5060-4927-c9b9-07391de6e8a4\",\"type\":\"LinearAxis\",\"attributes\":{\"formatter\":{\"type\":\"BasicTickFormatter\",\"id\":\"30478146-1415-43bc-c354-2f11b7f63741\"},\"ticker\":{\"type\":\"BasicTicker\",\"id\":\"67fedde7-77f3-4be4-cbee-f8d7e302e1f3\"},\"plot\":{\"id\":\"a49f8f88-172c-43fc-c36e-1e4be944b303\",\"type\":\"Plot\",\"subtype\":\"Figure\"},\"axis_label\":null,\"id\":\"bf1c741c-5060-4927-c9b9-07391de6e8a4\",\"doc\":null,\"tags\":[]}},{\"id\":\"e4375cef-c895-46d0-c6a9-fab205519e72\",\"type\":\"Grid\",\"attributes\":{\"dimension\":0,\"plot\":{\"id\":\"a49f8f88-172c-43fc-c36e-1e4be944b303\",\"type\":\"Plot\",\"subtype\":\"Figure\"},\"ticker\":{\"type\":\"BasicTicker\",\"id\":\"67fedde7-77f3-4be4-cbee-f8d7e302e1f3\"},\"id\":\"e4375cef-c895-46d0-c6a9-fab205519e72\",\"doc\":null,\"tags\":[]}},{\"id\":\"648b2e60-e405-4c40-cc5b-fff61141078a\",\"type\":\"BasicTickFormatter\",\"attributes\":{\"id\":\"648b2e60-e405-4c40-cc5b-fff61141078a\",\"tags\":[],\"doc\":null}},{\"id\":\"489e075e-014c-4ef5-ce93-ac111bcdfad3\",\"type\":\"BasicTicker\",\"attributes\":{\"num_minor_ticks\":5,\"id\":\"489e075e-014c-4ef5-ce93-ac111bcdfad3\",\"tags\":[],\"doc\":null}},{\"id\":\"4323d333-fe4b-47ae-c720-624cf01f3eae\",\"type\":\"LinearAxis\",\"attributes\":{\"formatter\":{\"type\":\"BasicTickFormatter\",\"id\":\"648b2e60-e405-4c40-cc5b-fff61141078a\"},\"ticker\":{\"type\":\"BasicTicker\",\"id\":\"489e075e-014c-4ef5-ce93-ac111bcdfad3\"},\"plot\":{\"id\":\"a49f8f88-172c-43fc-c36e-1e4be944b303\",\"type\":\"Plot\",\"subtype\":\"Figure\"},\"axis_label\":null,\"id\":\"4323d333-fe4b-47ae-c720-624cf01f3eae\",\"doc\":null,\"tags\":[]}},{\"id\":\"1aa638fb-0aeb-4e45-cebe-45eea8d8a6e4\",\"type\":\"Grid\",\"attributes\":{\"dimension\":1,\"plot\":{\"id\":\"a49f8f88-172c-43fc-c36e-1e4be944b303\",\"type\":\"Plot\",\"subtype\":\"Figure\"},\"ticker\":{\"type\":\"BasicTicker\",\"id\":\"489e075e-014c-4ef5-ce93-ac111bcdfad3\"},\"id\":\"1aa638fb-0aeb-4e45-cebe-45eea8d8a6e4\",\"doc\":null,\"tags\":[]}},{\"id\":\"a5b6de1d-d2b3-4e39-ce5e-d76a30234d47\",\"type\":\"PanTool\",\"attributes\":{\"plot\":{\"id\":\"a49f8f88-172c-43fc-c36e-1e4be944b303\",\"type\":\"Plot\",\"subtype\":\"Figure\"},\"dimensions\":[\"width\",\"height\"],\"id\":\"a5b6de1d-d2b3-4e39-ce5e-d76a30234d47\",\"doc\":null,\"tags\":[]}},{\"id\":\"d8769ff3-60c1-4be2-cbef-3376017c54e6\",\"type\":\"WheelZoomTool\",\"attributes\":{\"plot\":{\"id\":\"a49f8f88-172c-43fc-c36e-1e4be944b303\",\"type\":\"Plot\",\"subtype\":\"Figure\"},\"dimensions\":[\"width\",\"height\"],\"id\":\"d8769ff3-60c1-4be2-cbef-3376017c54e6\",\"doc\":null,\"tags\":[]}},{\"id\":\"5cff97a7-73c3-432a-c325-b8d3f3c8984a\",\"type\":\"BoxZoomTool\",\"attributes\":{\"plot\":{\"id\":\"a49f8f88-172c-43fc-c36e-1e4be944b303\",\"type\":\"Plot\",\"subtype\":\"Figure\"},\"id\":\"5cff97a7-73c3-432a-c325-b8d3f3c8984a\",\"tags\":[],\"doc\":null}},{\"id\":\"8fece7b3-34f4-4a7d-ca00-df339eec392a\",\"type\":\"PreviewSaveTool\",\"attributes\":{\"plot\":{\"id\":\"a49f8f88-172c-43fc-c36e-1e4be944b303\",\"type\":\"Plot\",\"subtype\":\"Figure\"},\"id\":\"8fece7b3-34f4-4a7d-ca00-df339eec392a\",\"tags\":[],\"doc\":null}},{\"id\":\"51b3bdeb-9054-46ac-c68b-ae4a6f851315\",\"type\":\"ResizeTool\",\"attributes\":{\"plot\":{\"id\":\"a49f8f88-172c-43fc-c36e-1e4be944b303\",\"type\":\"Plot\",\"subtype\":\"Figure\"},\"id\":\"51b3bdeb-9054-46ac-c68b-ae4a6f851315\",\"tags\":[],\"doc\":null}},{\"id\":\"4e5f4750-9a88-4fca-cf9f-cd4ce3b7a203\",\"type\":\"ResetTool\",\"attributes\":{\"plot\":{\"id\":\"a49f8f88-172c-43fc-c36e-1e4be944b303\",\"type\":\"Plot\",\"subtype\":\"Figure\"},\"id\":\"4e5f4750-9a88-4fca-cf9f-cd4ce3b7a203\",\"tags\":[],\"doc\":null}},{\"id\":\"49fd7e0a-99e4-42c9-c230-569e198fd904\",\"type\":\"Legend\",\"attributes\":{\"plot\":{\"id\":\"a49f8f88-172c-43fc-c36e-1e4be944b303\",\"type\":\"Plot\",\"subtype\":\"Figure\"},\"legends\":[[\"Train\",[{\"type\":\"GlyphRenderer\",\"id\":\"fc73a7e6-7404-4f02-cf0e-21bbb4c021ef\"}]],[\"Test\",[{\"type\":\"GlyphRenderer\",\"id\":\"edb83bf6-05e3-44b6-c4a2-4de8e78dc2eb\"}]]],\"id\":\"49fd7e0a-99e4-42c9-c230-569e198fd904\",\"doc\":null,\"tags\":[]}},{\"id\":\"a49f8f88-172c-43fc-c36e-1e4be944b303\",\"type\":\"Plot\",\"attributes\":{\"x_range\":{\"type\":\"DataRange1d\",\"id\":\"9ad64c8d-0dc1-490d-c9da-0dd82bac1e91\"},\"tool_events\":{\"type\":\"ToolEvents\",\"id\":\"3de3aa81-2bc2-4514-c55b-552a597be5ee\"},\"below\":[{\"type\":\"LinearAxis\",\"id\":\"bf1c741c-5060-4927-c9b9-07391de6e8a4\"}],\"renderers\":[{\"type\":\"GlyphRenderer\",\"id\":\"fc73a7e6-7404-4f02-cf0e-21bbb4c021ef\"},{\"type\":\"GlyphRenderer\",\"id\":\"edb83bf6-05e3-44b6-c4a2-4de8e78dc2eb\"},{\"type\":\"LinearAxis\",\"id\":\"bf1c741c-5060-4927-c9b9-07391de6e8a4\"},{\"type\":\"Grid\",\"id\":\"e4375cef-c895-46d0-c6a9-fab205519e72\"},{\"type\":\"LinearAxis\",\"id\":\"4323d333-fe4b-47ae-c720-624cf01f3eae\"},{\"type\":\"Grid\",\"id\":\"1aa638fb-0aeb-4e45-cebe-45eea8d8a6e4\"},{\"type\":\"Legend\",\"id\":\"49fd7e0a-99e4-42c9-c230-569e198fd904\"}],\"above\":[],\"tools\":[{\"type\":\"PanTool\",\"id\":\"a5b6de1d-d2b3-4e39-ce5e-d76a30234d47\"},{\"type\":\"WheelZoomTool\",\"id\":\"d8769ff3-60c1-4be2-cbef-3376017c54e6\"},{\"type\":\"BoxZoomTool\",\"id\":\"5cff97a7-73c3-432a-c325-b8d3f3c8984a\"},{\"type\":\"PreviewSaveTool\",\"id\":\"8fece7b3-34f4-4a7d-ca00-df339eec392a\"},{\"type\":\"ResizeTool\",\"id\":\"51b3bdeb-9054-46ac-c68b-ae4a6f851315\"},{\"type\":\"ResetTool\",\"id\":\"4e5f4750-9a88-4fca-cf9f-cd4ce3b7a203\"}],\"doc\":null,\"right\":[],\"title\":\"Train\\/Test TotalValid\",\"extra_x_ranges\":{},\"left\":[{\"type\":\"LinearAxis\",\"id\":\"4323d333-fe4b-47ae-c720-624cf01f3eae\"}],\"y_range\":{\"type\":\"DataRange1d\",\"id\":\"88fe02b4-c305-4443-c4bc-51a48e8ab53c\"},\"id\":\"a49f8f88-172c-43fc-c36e-1e4be944b303\",\"extra_y_ranges\":{},\"tags\":[]}}];\n",
       "  Bokeh.load_models(all_models);\n",
       "  var model = Bokeh.Collections(modeltype).get(modelid);\n",
       "  $(\"#71c762a4-7339-4c46-cc34-a9cde1830045\").html(''); // clear any previous plot in window_id\n",
       "  var view = new model.default_view({model: model, el: \"#71c762a4-7339-4c46-cc34-a9cde1830045\"});\n",
       "    } else {\n",
       "  load_lib(bokehjs_url, function() {\n",
       "      console.log(\"Bokeh: BokehJS plotting callback run at\", new Date())\n",
       "      var modelid = \"a49f8f88-172c-43fc-c36e-1e4be944b303\";\n",
       "      var modeltype = \"Plot\";\n",
       "      var all_models = [{\"id\":\"4c92973d-d7fe-41e5-c1dd-b80d028b6905\",\"type\":\"ColumnDataSource\",\"attributes\":{\"data\":{\"y\":[90.974998474121,94.574996948242,96.345001220703,97.328330993652,97.973335266113,98.421669006348,98.74666595459,99.059997558594,99.286666870117,99.464996337891,99.610000610352,99.723335266113,99.798332214355,99.860000610352,99.898330688477,99.919998168945,99.940002441406,99.955001831055,99.966667175293,99.974998474121],\"x\":[1,2,3,4,5,6,7,8,9,10,11,12,13,14,15,16,17,18,19,20]},\"column_names\":[\"y\",\"x\"],\"cont_ranges\":{},\"discrete_ranges\":{},\"selected\":[],\"id\":\"4c92973d-d7fe-41e5-c1dd-b80d028b6905\",\"doc\":null,\"tags\":[]}},{\"id\":\"c1b533d8-3c18-4cdd-cc47-403647fe1018\",\"type\":\"Line\",\"attributes\":{\"fill_alpha\":{\"units\":\"data\",\"value\":0.2},\"line_alpha\":{\"units\":\"data\",\"value\":1},\"doc\":null,\"size\":{\"units\":\"screen\",\"value\":10},\"fill_color\":{\"value\":\"green\"},\"line_color\":{\"value\":\"green\"},\"x\":{\"units\":\"data\",\"field\":\"x\"},\"id\":\"c1b533d8-3c18-4cdd-cc47-403647fe1018\",\"y\":{\"units\":\"data\",\"field\":\"y\"},\"tags\":[]}},{\"id\":\"f7004df0-ddf7-4d03-cdb8-4fa1de6e3bcf\",\"type\":\"Line\",\"attributes\":{\"fill_alpha\":{\"units\":\"data\",\"value\":0.2},\"line_alpha\":{\"units\":\"data\",\"value\":1},\"doc\":null,\"size\":{\"units\":\"screen\",\"value\":10},\"fill_color\":{\"value\":\"green\"},\"line_color\":{\"value\":\"green\"},\"x\":{\"units\":\"data\",\"field\":\"x\"},\"id\":\"f7004df0-ddf7-4d03-cdb8-4fa1de6e3bcf\",\"y\":{\"units\":\"data\",\"field\":\"y\"},\"tags\":[]}},{\"id\":\"fc73a7e6-7404-4f02-cf0e-21bbb4c021ef\",\"type\":\"GlyphRenderer\",\"attributes\":{\"name\":null,\"nonselection_glyph\":{\"type\":\"Line\",\"id\":\"f7004df0-ddf7-4d03-cdb8-4fa1de6e3bcf\"},\"doc\":null,\"server_data_source\":null,\"data_source\":{\"type\":\"ColumnDataSource\",\"id\":\"4c92973d-d7fe-41e5-c1dd-b80d028b6905\"},\"glyph\":{\"type\":\"Line\",\"id\":\"c1b533d8-3c18-4cdd-cc47-403647fe1018\"},\"selection_glyph\":null,\"id\":\"fc73a7e6-7404-4f02-cf0e-21bbb4c021ef\",\"tags\":[]}},{\"id\":\"3341b4ae-cbb7-4b06-cb09-af6b68284b67\",\"type\":\"ColumnDataSource\",\"attributes\":{\"data\":{\"y\":[92.470001220703,94.919998168945,96.110000610352,96.699996948242,97.120002746582,97.300003051758,97.51000213623,97.580001831055,97.680000305176,97.809997558594,97.849998474121,97.870002746582,97.870002746582,97.879997253418,97.910003662109,97.949996948242,97.98999786377,98.01000213623,98.040000915527,98.059997558594],\"x\":[1,2,3,4,5,6,7,8,9,10,11,12,13,14,15,16,17,18,19,20]},\"column_names\":[\"y\",\"x\"],\"cont_ranges\":{},\"discrete_ranges\":{},\"selected\":[],\"id\":\"3341b4ae-cbb7-4b06-cb09-af6b68284b67\",\"doc\":null,\"tags\":[]}},{\"id\":\"4790005a-184c-44cd-c430-d44d8e4487c9\",\"type\":\"Line\",\"attributes\":{\"fill_alpha\":{\"units\":\"data\",\"value\":0.2},\"line_alpha\":{\"units\":\"data\",\"value\":1},\"doc\":null,\"size\":{\"units\":\"screen\",\"value\":10},\"fill_color\":{\"value\":\"blue\"},\"line_color\":{\"value\":\"blue\"},\"x\":{\"units\":\"data\",\"field\":\"x\"},\"id\":\"4790005a-184c-44cd-c430-d44d8e4487c9\",\"y\":{\"units\":\"data\",\"field\":\"y\"},\"tags\":[]}},{\"id\":\"851d1b8b-11ef-4d4f-cd56-15c4c5291a50\",\"type\":\"Line\",\"attributes\":{\"fill_alpha\":{\"units\":\"data\",\"value\":0.2},\"line_alpha\":{\"units\":\"data\",\"value\":1},\"doc\":null,\"size\":{\"units\":\"screen\",\"value\":10},\"fill_color\":{\"value\":\"blue\"},\"line_color\":{\"value\":\"blue\"},\"x\":{\"units\":\"data\",\"field\":\"x\"},\"id\":\"851d1b8b-11ef-4d4f-cd56-15c4c5291a50\",\"y\":{\"units\":\"data\",\"field\":\"y\"},\"tags\":[]}},{\"id\":\"edb83bf6-05e3-44b6-c4a2-4de8e78dc2eb\",\"type\":\"GlyphRenderer\",\"attributes\":{\"name\":null,\"nonselection_glyph\":{\"type\":\"Line\",\"id\":\"851d1b8b-11ef-4d4f-cd56-15c4c5291a50\"},\"doc\":null,\"server_data_source\":null,\"data_source\":{\"type\":\"ColumnDataSource\",\"id\":\"3341b4ae-cbb7-4b06-cb09-af6b68284b67\"},\"glyph\":{\"type\":\"Line\",\"id\":\"4790005a-184c-44cd-c430-d44d8e4487c9\"},\"selection_glyph\":null,\"id\":\"edb83bf6-05e3-44b6-c4a2-4de8e78dc2eb\",\"tags\":[]}},{\"id\":\"9ad64c8d-0dc1-490d-c9da-0dd82bac1e91\",\"type\":\"DataRange1d\",\"attributes\":{\"sources\":[{\"columns\":[\"x\"],\"source\":{\"type\":\"ColumnDataSource\",\"id\":\"4c92973d-d7fe-41e5-c1dd-b80d028b6905\"}},{\"columns\":[\"x\"],\"source\":{\"type\":\"ColumnDataSource\",\"id\":\"3341b4ae-cbb7-4b06-cb09-af6b68284b67\"}}],\"id\":\"9ad64c8d-0dc1-490d-c9da-0dd82bac1e91\",\"tags\":[],\"doc\":null}},{\"id\":\"88fe02b4-c305-4443-c4bc-51a48e8ab53c\",\"type\":\"DataRange1d\",\"attributes\":{\"sources\":[{\"columns\":[\"y\"],\"source\":{\"type\":\"ColumnDataSource\",\"id\":\"4c92973d-d7fe-41e5-c1dd-b80d028b6905\"}},{\"columns\":[\"y\"],\"source\":{\"type\":\"ColumnDataSource\",\"id\":\"3341b4ae-cbb7-4b06-cb09-af6b68284b67\"}}],\"id\":\"88fe02b4-c305-4443-c4bc-51a48e8ab53c\",\"tags\":[],\"doc\":null}},{\"id\":\"3de3aa81-2bc2-4514-c55b-552a597be5ee\",\"type\":\"ToolEvents\",\"attributes\":{\"tags\":[],\"id\":\"3de3aa81-2bc2-4514-c55b-552a597be5ee\",\"geometries\":[],\"doc\":null}},{\"id\":\"30478146-1415-43bc-c354-2f11b7f63741\",\"type\":\"BasicTickFormatter\",\"attributes\":{\"id\":\"30478146-1415-43bc-c354-2f11b7f63741\",\"tags\":[],\"doc\":null}},{\"id\":\"67fedde7-77f3-4be4-cbee-f8d7e302e1f3\",\"type\":\"BasicTicker\",\"attributes\":{\"num_minor_ticks\":5,\"id\":\"67fedde7-77f3-4be4-cbee-f8d7e302e1f3\",\"tags\":[],\"doc\":null}},{\"id\":\"bf1c741c-5060-4927-c9b9-07391de6e8a4\",\"type\":\"LinearAxis\",\"attributes\":{\"formatter\":{\"type\":\"BasicTickFormatter\",\"id\":\"30478146-1415-43bc-c354-2f11b7f63741\"},\"ticker\":{\"type\":\"BasicTicker\",\"id\":\"67fedde7-77f3-4be4-cbee-f8d7e302e1f3\"},\"plot\":{\"id\":\"a49f8f88-172c-43fc-c36e-1e4be944b303\",\"type\":\"Plot\",\"subtype\":\"Figure\"},\"axis_label\":null,\"id\":\"bf1c741c-5060-4927-c9b9-07391de6e8a4\",\"doc\":null,\"tags\":[]}},{\"id\":\"e4375cef-c895-46d0-c6a9-fab205519e72\",\"type\":\"Grid\",\"attributes\":{\"dimension\":0,\"plot\":{\"id\":\"a49f8f88-172c-43fc-c36e-1e4be944b303\",\"type\":\"Plot\",\"subtype\":\"Figure\"},\"ticker\":{\"type\":\"BasicTicker\",\"id\":\"67fedde7-77f3-4be4-cbee-f8d7e302e1f3\"},\"id\":\"e4375cef-c895-46d0-c6a9-fab205519e72\",\"doc\":null,\"tags\":[]}},{\"id\":\"648b2e60-e405-4c40-cc5b-fff61141078a\",\"type\":\"BasicTickFormatter\",\"attributes\":{\"id\":\"648b2e60-e405-4c40-cc5b-fff61141078a\",\"tags\":[],\"doc\":null}},{\"id\":\"489e075e-014c-4ef5-ce93-ac111bcdfad3\",\"type\":\"BasicTicker\",\"attributes\":{\"num_minor_ticks\":5,\"id\":\"489e075e-014c-4ef5-ce93-ac111bcdfad3\",\"tags\":[],\"doc\":null}},{\"id\":\"4323d333-fe4b-47ae-c720-624cf01f3eae\",\"type\":\"LinearAxis\",\"attributes\":{\"formatter\":{\"type\":\"BasicTickFormatter\",\"id\":\"648b2e60-e405-4c40-cc5b-fff61141078a\"},\"ticker\":{\"type\":\"BasicTicker\",\"id\":\"489e075e-014c-4ef5-ce93-ac111bcdfad3\"},\"plot\":{\"id\":\"a49f8f88-172c-43fc-c36e-1e4be944b303\",\"type\":\"Plot\",\"subtype\":\"Figure\"},\"axis_label\":null,\"id\":\"4323d333-fe4b-47ae-c720-624cf01f3eae\",\"doc\":null,\"tags\":[]}},{\"id\":\"1aa638fb-0aeb-4e45-cebe-45eea8d8a6e4\",\"type\":\"Grid\",\"attributes\":{\"dimension\":1,\"plot\":{\"id\":\"a49f8f88-172c-43fc-c36e-1e4be944b303\",\"type\":\"Plot\",\"subtype\":\"Figure\"},\"ticker\":{\"type\":\"BasicTicker\",\"id\":\"489e075e-014c-4ef5-ce93-ac111bcdfad3\"},\"id\":\"1aa638fb-0aeb-4e45-cebe-45eea8d8a6e4\",\"doc\":null,\"tags\":[]}},{\"id\":\"a5b6de1d-d2b3-4e39-ce5e-d76a30234d47\",\"type\":\"PanTool\",\"attributes\":{\"plot\":{\"id\":\"a49f8f88-172c-43fc-c36e-1e4be944b303\",\"type\":\"Plot\",\"subtype\":\"Figure\"},\"dimensions\":[\"width\",\"height\"],\"id\":\"a5b6de1d-d2b3-4e39-ce5e-d76a30234d47\",\"doc\":null,\"tags\":[]}},{\"id\":\"d8769ff3-60c1-4be2-cbef-3376017c54e6\",\"type\":\"WheelZoomTool\",\"attributes\":{\"plot\":{\"id\":\"a49f8f88-172c-43fc-c36e-1e4be944b303\",\"type\":\"Plot\",\"subtype\":\"Figure\"},\"dimensions\":[\"width\",\"height\"],\"id\":\"d8769ff3-60c1-4be2-cbef-3376017c54e6\",\"doc\":null,\"tags\":[]}},{\"id\":\"5cff97a7-73c3-432a-c325-b8d3f3c8984a\",\"type\":\"BoxZoomTool\",\"attributes\":{\"plot\":{\"id\":\"a49f8f88-172c-43fc-c36e-1e4be944b303\",\"type\":\"Plot\",\"subtype\":\"Figure\"},\"id\":\"5cff97a7-73c3-432a-c325-b8d3f3c8984a\",\"tags\":[],\"doc\":null}},{\"id\":\"8fece7b3-34f4-4a7d-ca00-df339eec392a\",\"type\":\"PreviewSaveTool\",\"attributes\":{\"plot\":{\"id\":\"a49f8f88-172c-43fc-c36e-1e4be944b303\",\"type\":\"Plot\",\"subtype\":\"Figure\"},\"id\":\"8fece7b3-34f4-4a7d-ca00-df339eec392a\",\"tags\":[],\"doc\":null}},{\"id\":\"51b3bdeb-9054-46ac-c68b-ae4a6f851315\",\"type\":\"ResizeTool\",\"attributes\":{\"plot\":{\"id\":\"a49f8f88-172c-43fc-c36e-1e4be944b303\",\"type\":\"Plot\",\"subtype\":\"Figure\"},\"id\":\"51b3bdeb-9054-46ac-c68b-ae4a6f851315\",\"tags\":[],\"doc\":null}},{\"id\":\"4e5f4750-9a88-4fca-cf9f-cd4ce3b7a203\",\"type\":\"ResetTool\",\"attributes\":{\"plot\":{\"id\":\"a49f8f88-172c-43fc-c36e-1e4be944b303\",\"type\":\"Plot\",\"subtype\":\"Figure\"},\"id\":\"4e5f4750-9a88-4fca-cf9f-cd4ce3b7a203\",\"tags\":[],\"doc\":null}},{\"id\":\"49fd7e0a-99e4-42c9-c230-569e198fd904\",\"type\":\"Legend\",\"attributes\":{\"plot\":{\"id\":\"a49f8f88-172c-43fc-c36e-1e4be944b303\",\"type\":\"Plot\",\"subtype\":\"Figure\"},\"legends\":[[\"Train\",[{\"type\":\"GlyphRenderer\",\"id\":\"fc73a7e6-7404-4f02-cf0e-21bbb4c021ef\"}]],[\"Test\",[{\"type\":\"GlyphRenderer\",\"id\":\"edb83bf6-05e3-44b6-c4a2-4de8e78dc2eb\"}]]],\"id\":\"49fd7e0a-99e4-42c9-c230-569e198fd904\",\"doc\":null,\"tags\":[]}},{\"id\":\"a49f8f88-172c-43fc-c36e-1e4be944b303\",\"type\":\"Plot\",\"attributes\":{\"x_range\":{\"type\":\"DataRange1d\",\"id\":\"9ad64c8d-0dc1-490d-c9da-0dd82bac1e91\"},\"tool_events\":{\"type\":\"ToolEvents\",\"id\":\"3de3aa81-2bc2-4514-c55b-552a597be5ee\"},\"below\":[{\"type\":\"LinearAxis\",\"id\":\"bf1c741c-5060-4927-c9b9-07391de6e8a4\"}],\"renderers\":[{\"type\":\"GlyphRenderer\",\"id\":\"fc73a7e6-7404-4f02-cf0e-21bbb4c021ef\"},{\"type\":\"GlyphRenderer\",\"id\":\"edb83bf6-05e3-44b6-c4a2-4de8e78dc2eb\"},{\"type\":\"LinearAxis\",\"id\":\"bf1c741c-5060-4927-c9b9-07391de6e8a4\"},{\"type\":\"Grid\",\"id\":\"e4375cef-c895-46d0-c6a9-fab205519e72\"},{\"type\":\"LinearAxis\",\"id\":\"4323d333-fe4b-47ae-c720-624cf01f3eae\"},{\"type\":\"Grid\",\"id\":\"1aa638fb-0aeb-4e45-cebe-45eea8d8a6e4\"},{\"type\":\"Legend\",\"id\":\"49fd7e0a-99e4-42c9-c230-569e198fd904\"}],\"above\":[],\"tools\":[{\"type\":\"PanTool\",\"id\":\"a5b6de1d-d2b3-4e39-ce5e-d76a30234d47\"},{\"type\":\"WheelZoomTool\",\"id\":\"d8769ff3-60c1-4be2-cbef-3376017c54e6\"},{\"type\":\"BoxZoomTool\",\"id\":\"5cff97a7-73c3-432a-c325-b8d3f3c8984a\"},{\"type\":\"PreviewSaveTool\",\"id\":\"8fece7b3-34f4-4a7d-ca00-df339eec392a\"},{\"type\":\"ResizeTool\",\"id\":\"51b3bdeb-9054-46ac-c68b-ae4a6f851315\"},{\"type\":\"ResetTool\",\"id\":\"4e5f4750-9a88-4fca-cf9f-cd4ce3b7a203\"}],\"doc\":null,\"right\":[],\"title\":\"Train\\/Test TotalValid\",\"extra_x_ranges\":{},\"left\":[{\"type\":\"LinearAxis\",\"id\":\"4323d333-fe4b-47ae-c720-624cf01f3eae\"}],\"y_range\":{\"type\":\"DataRange1d\",\"id\":\"88fe02b4-c305-4443-c4bc-51a48e8ab53c\"},\"id\":\"a49f8f88-172c-43fc-c36e-1e4be944b303\",\"extra_y_ranges\":{},\"tags\":[]}}];\n",
       "      Bokeh.load_models(all_models);\n",
       "      var model = Bokeh.Collections(modeltype).get(modelid);\n",
       "      $(\"#71c762a4-7339-4c46-cc34-a9cde1830045\").html(''); // clear any previous plot in window_id\n",
       "      var view = new model.default_view({model: model, el: \"#71c762a4-7339-4c46-cc34-a9cde1830045\"});\n",
       "  });\n",
       "    }\n",
       "});\n",
       "</script>\n",
       "<div class=\"plotdiv\" id=\"71c762a4-7339-4c46-cc34-a9cde1830045\"></div>\n"
      ]
     },
     "metadata": {},
     "output_type": "display_data"
    }
   ],
   "source": [
    "Plot = require 'itorch.Plot'\n",
    "\n",
    "trainValid = table2Tensor(trainHistory)\n",
    "testValid = table2Tensor(testHistory)\n",
    "\n",
    "epochCount = torch.Tensor(numIter)\n",
    "i = 0\n",
    "\n",
    "epochCount:apply(function()\n",
    "    i = i + 1\n",
    "    return i\n",
    "end)\n",
    "\n",
    "\n",
    "-- line plots\n",
    "plot = Plot():line(epochCount, trainValid, 'green', 'Train')\n",
    "plot:line(epochCount, testValid, 'blue', 'Test')\n",
    "plot:legend(true)\n",
    "plot:title('Train/Test TotalValid'):draw()"
   ]
  },
  {
   "cell_type": "code",
   "execution_count": null,
   "metadata": {
    "collapsed": true
   },
   "outputs": [],
   "source": []
  }
 ],
 "metadata": {
  "kernelspec": {
   "display_name": "iTorch",
   "language": "lua",
   "name": "itorch"
  },
  "language_info": {
   "name": "lua",
   "version": "20100"
  }
 },
 "nbformat": 4,
 "nbformat_minor": 0
}
