{
 "cells": [
  {
   "cell_type": "markdown",
   "metadata": {},
   "source": [
    "## Neural Network\n",
    "\n",
    "- 2 Layer\n",
    "- ReLU Activation(1st layer)\n",
    "- SoftMax Activation(Output)"
   ]
  },
  {
   "cell_type": "code",
   "execution_count": 1,
   "metadata": {
    "collapsed": false
   },
   "outputs": [],
   "source": [
    "## import Matpolt with PyQt4 Backend\n",
    "import matplotlib\n",
    "matplotlib.use('Qt4Agg')\n",
    "import matplotlib.pyplot as plt\n",
    "\n",
    "# This is a bit of magic to make matplotlib figures appear inline in the notebook\n",
    "# rather than in a new window.\n",
    "%matplotlib inline\n",
    "plt.rcParams['figure.figsize'] = (10.0, 8.0) # set default size of plots\n",
    "plt.rcParams['image.interpolation'] = 'nearest'\n",
    "plt.rcParams['image.cmap'] = 'gray'"
   ]
  },
  {
   "cell_type": "code",
   "execution_count": 2,
   "metadata": {
    "collapsed": false
   },
   "outputs": [],
   "source": [
    "# Run some setup code for this notebook.\n",
    "import random\n",
    "import numpy as np\n",
    "import pandas as pd\n",
    "from mnist import MNIST\n",
    "\n",
    "import sys\n",
    "sys.path.append('./..')\n",
    "from py_model.neural_network import NeuralNetwork\n",
    "\n",
    "%load_ext autoreload\n",
    "%autoreload 2"
   ]
  },
  {
   "cell_type": "markdown",
   "metadata": {},
   "source": [
    "#### Download Mnist\n",
    "http://yann.lecun.com/exdb/mnist/\n",
    "- train-images-idx3-ubyte.gz:  training set images (9912422 bytes) \n",
    "- train-labels-idx1-ubyte.gz:  training set labels (28881 bytes) \n",
    "- t10k-images-idx3-ubyte.gz:   test set images (1648877 bytes) \n",
    "- t10k-labels-idx1-ubyte.gz:   test set labels (4542 bytes)"
   ]
  },
  {
   "cell_type": "code",
   "execution_count": 3,
   "metadata": {
    "collapsed": false
   },
   "outputs": [
    {
     "name": "stdout",
     "output_type": "stream",
     "text": [
      "(60000, 784) (60000,)\n",
      "(10000, 784) (10000,)\n"
     ]
    }
   ],
   "source": [
    "mndata = MNIST() # Current Path\n",
    "train_X, train_y = mndata.load_training()\n",
    "test_X, test_y = mndata.load_testing()\n",
    "\n",
    "train_X = np.array(train_X)\n",
    "train_y = np.array(train_y)\n",
    "test_X = np.array(test_X)\n",
    "test_y = np.array(test_y)\n",
    "\n",
    "print(train_X.shape, train_y.shape)\n",
    "print(test_X.shape, test_y.shape)"
   ]
  },
  {
   "cell_type": "code",
   "execution_count": 4,
   "metadata": {
    "collapsed": false
   },
   "outputs": [],
   "source": [
    "layer1 = {'layer': (28*28, 2048), 'activation': lambda x: np.maximum(0, x) }  # ReLu\n",
    "layer2 = {'layer': (2048, 10)} \n",
    "#output layer Softmax\n",
    "\n",
    "nn = NeuralNetwork(layer1, layer2)"
   ]
  },
  {
   "cell_type": "code",
   "execution_count": 5,
   "metadata": {
    "collapsed": false
   },
   "outputs": [
    {
     "name": "stdout",
     "output_type": "stream",
     "text": [
      "Epoch :  1  loss= 2.29884877209\n",
      "Epoch :  51  loss= 1.37990373207\n",
      "Epoch :  101  loss= 1.05176798283\n",
      "Epoch :  151  loss= 0.794148959264\n",
      "Epoch :  201  loss= 0.64742872707\n",
      "Epoch :  251  loss= 0.695958295887\n",
      "Epoch :  301  loss= 0.565640322665\n",
      "Epoch :  351  loss= 0.565767438905\n",
      "Epoch :  401  loss= 0.442821239494\n",
      "Epoch :  451  loss= 0.453024258281\n",
      "Epoch :  501  loss= 0.433725847713\n",
      "Epoch :  551  loss= 0.356058277456\n",
      "Epoch :  601  loss= 0.451493117118\n",
      "Epoch :  651  loss= 0.393549269298\n",
      "Epoch :  701  loss= 0.239008526204\n",
      "Epoch :  751  loss= 0.530327858545\n",
      "Epoch :  801  loss= 0.227423262816\n",
      "Epoch :  851  loss= 0.270901359809\n",
      "Epoch :  901  loss= 0.31529382297\n",
      "Epoch :  951  loss= 0.246056648586\n",
      "Epoch :  1001  loss= 0.249935090069\n",
      "Epoch :  1051  loss= 0.256949546949\n",
      "Epoch :  1101  loss= 0.37935012201\n",
      "Epoch :  1151  loss= 0.237820234653\n",
      "Epoch :  1201  loss= 0.376470335974\n",
      "Epoch :  1251  loss= 0.371324902082\n",
      "Epoch :  1301  loss= 0.255272851267\n",
      "Epoch :  1351  loss= 0.285904122799\n",
      "Epoch :  1401  loss= 0.165972461502\n",
      "Epoch :  1451  loss= 0.345677917982\n"
     ]
    }
   ],
   "source": [
    "nn.train(train_X, train_y, learning_rate=0.00001, reg=0.001, num_iters=1500, batch_size=50, verbose=True)"
   ]
  },
  {
   "cell_type": "code",
   "execution_count": 6,
   "metadata": {
    "collapsed": false
   },
   "outputs": [
    {
     "name": "stdout",
     "output_type": "stream",
     "text": [
      "Accuracy : 91.62%\n"
     ]
    }
   ],
   "source": [
    "# Accuracy\n",
    "val_acc = (nn.predict(test_X) == test_y).mean()\n",
    "print(\"Accuracy : \" + str(val_acc*100) + \"%\")"
   ]
  },
  {
   "cell_type": "code",
   "execution_count": 7,
   "metadata": {
    "collapsed": false
   },
   "outputs": [
    {
     "name": "stderr",
     "output_type": "stream",
     "text": [
      "/Library/Frameworks/Python.framework/Versions/3.5/lib/python3.5/site-packages/matplotlib/axes/_axes.py:519: UserWarning: No labelled objects found. Use label='...' kwarg on individual plots.\n",
      "  warnings.warn(\"No labelled objects found. \"\n"
     ]
    },
    {
     "data": {
      "image/png": "[encoded data removed]",
      "text/plain": [
       "<matplotlib.figure.Figure at 0x10ae99b00>"
      ]
     },
     "metadata": {},
     "output_type": "display_data"
    }
   ],
   "source": [
    "# Plot Loss History\n",
    "plt.plot(nn.loss_history)\n",
    "plt.title('Loss history')\n",
    "plt.xlabel('Iteration')\n",
    "plt.ylabel('Loss')\n",
    "plt.legend()\n",
    "plt.show()"
   ]
  },
  {
   "cell_type": "code",
   "execution_count": null,
   "metadata": {
    "collapsed": true
   },
   "outputs": [],
   "source": []
  }
 ],
 "metadata": {
  "kernelspec": {
   "display_name": "Python 3",
   "language": "python",
   "name": "python3"
  },
  "language_info": {
   "codemirror_mode": {
    "name": "ipython",
    "version": 3
   },
   "file_extension": ".py",
   "mimetype": "text/x-python",
   "name": "python",
   "nbconvert_exporter": "python",
   "pygments_lexer": "ipython3",
   "version": "3.5.1"
  }
 },
 "nbformat": 4,
 "nbformat_minor": 0
}
