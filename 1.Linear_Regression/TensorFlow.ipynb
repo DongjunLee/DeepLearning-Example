{
 "cells": [
  {
   "cell_type": "code",
   "execution_count": 1,
   "metadata": {
    "collapsed": false
   },
   "outputs": [],
   "source": [
    "## import Matpolt with PyQt4 Backend\n",
    "import matplotlib\n",
    "matplotlib.use('Qt4Agg')\n",
    "import matplotlib.pyplot as plt\n",
    "\n",
    "# This is a bit of magic to make matplotlib figures appear inline in the notebook\n",
    "# rather than in a new window.\n",
    "%matplotlib inline\n",
    "plt.rcParams['figure.figsize'] = (10.0, 8.0) # set default size of plots\n",
    "plt.rcParams['image.interpolation'] = 'nearest'\n",
    "plt.rcParams['image.cmap'] = 'gray'"
   ]
  },
  {
   "cell_type": "code",
   "execution_count": 2,
   "metadata": {
    "collapsed": false
   },
   "outputs": [],
   "source": [
    "'''\n",
    "A linear regression learning algorithm example using TensorFlow library.\n",
    "Author: Aymeric Damien\n",
    "Project: https://github.com/aymericdamien/TensorFlow-Examples/\n",
    "'''\n",
    "\n",
    "import tensorflow as tf\n",
    "import numpy as np"
   ]
  },
  {
   "cell_type": "code",
   "execution_count": 3,
   "metadata": {
    "collapsed": true
   },
   "outputs": [],
   "source": [
    "# Parameters\n",
    "learning_rate = 0.01\n",
    "training_epochs = 2000\n",
    "display_step = 50"
   ]
  },
  {
   "cell_type": "code",
   "execution_count": 4,
   "metadata": {
    "collapsed": false
   },
   "outputs": [
    {
     "name": "stdout",
     "output_type": "stream",
     "text": [
      "(20,)\n",
      "(20,)\n"
     ]
    }
   ],
   "source": [
    "# Training Data\n",
    "train_X = np.asarray([3.3, 4.4, 5.5, 6.71 ,6.93,\n",
    "                         4.168, 9.779, 6.182, 7.59, 2.167,\n",
    "                         7.042, 10.791, 5.313, 7.997, 5.654,\n",
    "                         9.27, 3.1, 12.21, 6.12, 8.24])\n",
    "train_Y = np.asarray([1.7, 2.76, 2.09, 3.19, 1.694,\n",
    "                         1.573, 3.366, 2.596, 2.53, 1.221,\n",
    "                         2.827, 3.465, 1.65, 2.904, 2.42,\n",
    "                         2.94, 1.3, 3.2, 1.6, 1.8])\n",
    "n_samples = train_X.shape[0]\n",
    "\n",
    "print(train_X.shape)\n",
    "print(train_Y.shape)"
   ]
  },
  {
   "cell_type": "code",
   "execution_count": 5,
   "metadata": {
    "collapsed": true
   },
   "outputs": [],
   "source": [
    "# tf Grapth Input\n",
    "X = tf.placeholder(\"float\")\n",
    "Y = tf.placeholder(\"float\")"
   ]
  },
  {
   "cell_type": "code",
   "execution_count": 6,
   "metadata": {
    "collapsed": true
   },
   "outputs": [],
   "source": [
    "# Create Model\n",
    "## Set Model Weights\n",
    "W = tf.Variable(np.random.randn(), name=\"weight\")\n",
    "b = tf.Variable(np.random.randn(), name=\"bias\")"
   ]
  },
  {
   "cell_type": "code",
   "execution_count": 7,
   "metadata": {
    "collapsed": true
   },
   "outputs": [],
   "source": [
    "# Construct a Linear model\n",
    "activation = tf.add(tf.mul(X, W), b)"
   ]
  },
  {
   "cell_type": "code",
   "execution_count": 8,
   "metadata": {
    "collapsed": false
   },
   "outputs": [],
   "source": [
    "# Minimize the squared errors\n",
    "cost = tf.reduce_sum(tf.pow(activation - Y, 2)) / (2*n_samples) #L2 Loss\n",
    "optimizer = tf.train.GradientDescentOptimizer(learning_rate).minimize(cost) #Gradient Descent"
   ]
  },
  {
   "cell_type": "code",
   "execution_count": 9,
   "metadata": {
    "collapsed": true
   },
   "outputs": [],
   "source": [
    "# Initializing the variables\n",
    "init = tf.initialize_all_variables()"
   ]
  },
  {
   "cell_type": "code",
   "execution_count": 10,
   "metadata": {
    "collapsed": false
   },
   "outputs": [
    {
     "name": "stdout",
     "output_type": "stream",
     "text": [
      "Epoch: 0001 cost= 3.562679291 W= 0.0111058 b= -0.310985\n",
      "Epoch: 0051 cost= 0.189549938 W= 0.351683 b= -0.188575\n",
      "Epoch: 0101 cost= 0.179542094 W= 0.342575 b= -0.117865\n",
      "Epoch: 0151 cost= 0.170743316 W= 0.334034 b= -0.0515453\n",
      "Epoch: 0201 cost= 0.163007915 W= 0.326022 b= 0.010657\n",
      "Epoch: 0251 cost= 0.156207606 W= 0.318508 b= 0.0689973\n",
      "Epoch: 0301 cost= 0.150229588 W= 0.311461 b= 0.123715\n",
      "Epoch: 0351 cost= 0.144974679 W= 0.304851 b= 0.175036\n",
      "Epoch: 0401 cost= 0.140355736 W= 0.298651 b= 0.22317\n",
      "Epoch: 0451 cost= 0.136295855 W= 0.292836 b= 0.268316\n",
      "Epoch: 0501 cost= 0.132727608 W= 0.287383 b= 0.310659\n",
      "Epoch: 0551 cost= 0.129591718 W= 0.282268 b= 0.350373\n",
      "Epoch: 0601 cost= 0.126835912 W= 0.27747 b= 0.387621\n",
      "Epoch: 0651 cost= 0.124414325 W= 0.272971 b= 0.422556\n",
      "Epoch: 0701 cost= 0.122286558 W= 0.268751 b= 0.455322\n",
      "Epoch: 0751 cost= 0.120417081 W= 0.264793 b= 0.486054\n",
      "Epoch: 0801 cost= 0.118774652 W= 0.26108 b= 0.514879\n",
      "Epoch: 0851 cost= 0.117331885 W= 0.257598 b= 0.541914\n",
      "Epoch: 0901 cost= 0.116064668 W= 0.254332 b= 0.567269\n",
      "Epoch: 0951 cost= 0.114951670 W= 0.251269 b= 0.59105\n",
      "Epoch: 1001 cost= 0.113974296 W= 0.248397 b= 0.613355\n",
      "Epoch: 1051 cost= 0.113116071 W= 0.245702 b= 0.634275\n",
      "Epoch: 1101 cost= 0.112362601 W= 0.243175 b= 0.653895\n",
      "Epoch: 1151 cost= 0.111701131 W= 0.240805 b= 0.672298\n",
      "Epoch: 1201 cost= 0.111120537 W= 0.238582 b= 0.689559\n",
      "Epoch: 1251 cost= 0.110611007 W= 0.236497 b= 0.705748\n",
      "Epoch: 1301 cost= 0.110163927 W= 0.234541 b= 0.720931\n",
      "Epoch: 1351 cost= 0.109771729 W= 0.232707 b= 0.735172\n",
      "Epoch: 1401 cost= 0.109427705 W= 0.230987 b= 0.748528\n",
      "Epoch: 1451 cost= 0.109126016 W= 0.229373 b= 0.761056\n",
      "Epoch: 1501 cost= 0.108861484 W= 0.22786 b= 0.772805\n",
      "Epoch: 1551 cost= 0.108629629 W= 0.226441 b= 0.783825\n",
      "Epoch: 1601 cost= 0.108426414 W= 0.225109 b= 0.794162\n",
      "Epoch: 1651 cost= 0.108248375 W= 0.223861 b= 0.803857\n",
      "Epoch: 1701 cost= 0.108092502 W= 0.22269 b= 0.812948\n",
      "Epoch: 1751 cost= 0.107955977 W= 0.221591 b= 0.821476\n",
      "Epoch: 1801 cost= 0.107836470 W= 0.220561 b= 0.829474\n",
      "Epoch: 1851 cost= 0.107731938 W= 0.219595 b= 0.836975\n",
      "Epoch: 1901 cost= 0.107640505 W= 0.218689 b= 0.84401\n",
      "Epoch: 1951 cost= 0.107560530 W= 0.217839 b= 0.85061\n",
      "Optimization Finished!\n",
      "cost= 0.107492 W= 0.217057 b= 0.85668\n"
     ]
    },
    {
     "data": {
      "image/png": "[encoded data removed]",
      "text/plain": [
       "<matplotlib.figure.Figure at 0x10cebda20>"
      ]
     },
     "metadata": {},
     "output_type": "display_data"
    }
   ],
   "source": [
    "# Launch the graph\n",
    "with tf.Session() as sess:\n",
    "    sess.run(init)\n",
    "\n",
    "    # Fit all training data\n",
    "    for epoch in range(training_epochs):\n",
    "        for (x, y) in zip(train_X, train_Y):\n",
    "            sess.run(optimizer, feed_dict={X: x, Y: y})\n",
    "            \n",
    "        #Display logs per epoch step\n",
    "        if epoch % display_step == 0:\n",
    "            print(\"Epoch:\", '%04d' % (epoch+1), \"cost=\", \\\n",
    "            \"{:.9f}\".format(sess.run(cost, feed_dict={X: train_X, Y:train_Y})), \\\n",
    "            \"W=\", sess.run(W), \"b=\", sess.run(b))\n",
    "\n",
    "    print(\"Optimization Finished!\")\n",
    "    print(\"cost=\", sess.run(cost, feed_dict={X: train_X, Y: train_Y}), \"W=\", sess.run(W), \"b=\", sess.run(b))\n",
    "\n",
    "    #Graphic display\n",
    "    pred_Y = sess.run(W) * train_X + sess.run(b)\n",
    "    plt.plot(train_X, train_Y, 'ro', label='Original data')\n",
    "    plt.plot(train_X, pred_Y, label='Fitted line')\n",
    "    plt.legend()\n",
    "    plt.show()"
   ]
  },
  {
   "cell_type": "code",
   "execution_count": null,
   "metadata": {
    "collapsed": true
   },
   "outputs": [],
   "source": []
  },
  {
   "cell_type": "code",
   "execution_count": null,
   "metadata": {
    "collapsed": true
   },
   "outputs": [],
   "source": []
  }
 ],
 "metadata": {
  "kernelspec": {
   "display_name": "Python 3",
   "language": "python",
   "name": "python3"
  },
  "language_info": {
   "codemirror_mode": {
    "name": "ipython",
    "version": 3
   },
   "file_extension": ".py",
   "mimetype": "text/x-python",
   "name": "python",
   "nbconvert_exporter": "python",
   "pygments_lexer": "ipython3",
   "version": "3.5.1"
  }
 },
 "nbformat": 4,
 "nbformat_minor": 0
}
