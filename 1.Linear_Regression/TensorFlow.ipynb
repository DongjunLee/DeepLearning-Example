{
 "cells": [
  {
   "cell_type": "code",
   "execution_count": 1,
   "metadata": {
    "collapsed": false
   },
   "outputs": [],
   "source": [
    "import matplotlib.pyplot as plt\n",
    "\n",
    "%matplotlib inline\n",
    "import seaborn; seaborn.set()"
   ]
  },
  {
   "cell_type": "code",
   "execution_count": 2,
   "metadata": {
    "collapsed": false
   },
   "outputs": [],
   "source": [
    "'''\n",
    "A linear regression learning algorithm example using TensorFlow library.\n",
    "Author: Aymeric Damien\n",
    "Project: https://github.com/aymericdamien/TensorFlow-Examples/\n",
    "'''\n",
    "\n",
    "import tensorflow as tf\n",
    "import numpy as np"
   ]
  },
  {
   "cell_type": "code",
   "execution_count": 3,
   "metadata": {
    "collapsed": true
   },
   "outputs": [],
   "source": [
    "# Parameters\n",
    "learning_rate = 0.01\n",
    "training_epochs = 2000\n",
    "display_step = 50"
   ]
  },
  {
   "cell_type": "code",
   "execution_count": 4,
   "metadata": {
    "collapsed": false
   },
   "outputs": [
    {
     "name": "stdout",
     "output_type": "stream",
     "text": [
      "(20,)\n",
      "(20,)\n"
     ]
    }
   ],
   "source": [
    "# Training Data\n",
    "train_X = np.asarray([3.3, 4.4, 5.5, 6.71 ,6.93,\n",
    "                         4.168, 9.779, 6.182, 7.59, 2.167,\n",
    "                         7.042, 10.791, 5.313, 7.997, 5.654,\n",
    "                         9.27, 3.1, 12.21, 6.12, 8.24])\n",
    "train_Y = np.asarray([1.7, 2.76, 2.09, 3.19, 1.694,\n",
    "                         1.573, 3.366, 2.596, 2.53, 1.221,\n",
    "                         2.827, 3.465, 1.65, 2.904, 2.42,\n",
    "                         2.94, 1.3, 3.2, 1.6, 1.8])\n",
    "n_samples = train_X.shape[0]\n",
    "\n",
    "print(train_X.shape)\n",
    "print(train_Y.shape)"
   ]
  },
  {
   "cell_type": "code",
   "execution_count": 5,
   "metadata": {
    "collapsed": true
   },
   "outputs": [],
   "source": [
    "# tf Grapth Input\n",
    "X = tf.placeholder(\"float\")\n",
    "Y = tf.placeholder(\"float\")"
   ]
  },
  {
   "cell_type": "code",
   "execution_count": 6,
   "metadata": {
    "collapsed": true
   },
   "outputs": [],
   "source": [
    "# Create Model\n",
    "## Set Model Weights\n",
    "W = tf.Variable(np.random.randn(), name=\"weight\")\n",
    "b = tf.Variable(np.random.randn(), name=\"bias\")"
   ]
  },
  {
   "cell_type": "code",
   "execution_count": 7,
   "metadata": {
    "collapsed": false
   },
   "outputs": [],
   "source": [
    "# Construct a Linear model\n",
    "activation = tf.add(tf.multiply(X, W), b)"
   ]
  },
  {
   "cell_type": "code",
   "execution_count": 8,
   "metadata": {
    "collapsed": false
   },
   "outputs": [],
   "source": [
    "# Minimize the squared errors\n",
    "cost = tf.reduce_sum(tf.pow(activation - Y, 2)) / (2*n_samples) #L2 Loss\n",
    "optimizer = tf.train.GradientDescentOptimizer(learning_rate).minimize(cost) #Gradient Descent"
   ]
  },
  {
   "cell_type": "code",
   "execution_count": 9,
   "metadata": {
    "collapsed": false
   },
   "outputs": [],
   "source": [
    "# Initializing the variables\n",
    "init = tf.global_variables_initializer()"
   ]
  },
  {
   "cell_type": "code",
   "execution_count": 10,
   "metadata": {
    "collapsed": false
   },
   "outputs": [
    {
     "name": "stdout",
     "output_type": "stream",
     "text": [
      "Epoch: 0001 cost = 26.560943604 W = -0.480893 b = -1.52975\n",
      "Epoch: 0051 cost = 0.417878926 W = 0.488565 b = -1.25135\n",
      "Epoch: 0101 cost = 0.380324006 W = 0.470959 b = -1.11466\n",
      "Epoch: 0151 cost = 0.347296774 W = 0.454446 b = -0.98645\n",
      "Epoch: 0201 cost = 0.318252712 W = 0.438959 b = -0.866201\n",
      "Epoch: 0251 cost = 0.292711347 W = 0.424433 b = -0.753417\n",
      "Epoch: 0301 cost = 0.270251423 W = 0.410808 b = -0.647637\n",
      "Epoch: 0351 cost = 0.250501096 W = 0.39803 b = -0.548424\n",
      "Epoch: 0401 cost = 0.233134270 W = 0.386045 b = -0.455372\n",
      "Epoch: 0451 cost = 0.217863530 W = 0.374804 b = -0.368097\n",
      "Epoch: 0501 cost = 0.204436392 W = 0.364262 b = -0.286241\n",
      "Epoch: 0551 cost = 0.192630500 W = 0.354373 b = -0.209467\n",
      "Epoch: 0601 cost = 0.182250589 W = 0.345099 b = -0.137459\n",
      "Epoch: 0651 cost = 0.173124582 W = 0.336401 b = -0.069923\n",
      "Epoch: 0701 cost = 0.165101320 W = 0.328242 b = -0.00657972\n",
      "Epoch: 0751 cost = 0.158047944 W = 0.32059 b = 0.0528307\n",
      "Epoch: 0801 cost = 0.151847333 W = 0.313414 b = 0.108553\n",
      "Epoch: 0851 cost = 0.146396726 W = 0.306682 b = 0.160815\n",
      "Epoch: 0901 cost = 0.141605660 W = 0.300369 b = 0.209832\n",
      "Epoch: 0951 cost = 0.137394443 W = 0.294448 b = 0.255806\n",
      "Epoch: 1001 cost = 0.133693174 W = 0.288894 b = 0.298926\n",
      "Epoch: 1051 cost = 0.130440235 W = 0.283685 b = 0.339368\n",
      "Epoch: 1101 cost = 0.127581567 W = 0.2788 b = 0.377299\n",
      "Epoch: 1151 cost = 0.125069574 W = 0.274218 b = 0.412875\n",
      "Epoch: 1201 cost = 0.122862265 W = 0.26992 b = 0.446242\n",
      "Epoch: 1251 cost = 0.120922901 W = 0.265889 b = 0.477538\n",
      "Epoch: 1301 cost = 0.119219087 W = 0.262109 b = 0.50689\n",
      "Epoch: 1351 cost = 0.117722295 W = 0.258563 b = 0.534421\n",
      "Epoch: 1401 cost = 0.116407558 W = 0.255238 b = 0.560241\n",
      "Epoch: 1451 cost = 0.115252838 W = 0.252118 b = 0.584459\n",
      "Epoch: 1501 cost = 0.114238679 W = 0.249193 b = 0.607174\n",
      "Epoch: 1551 cost = 0.113348268 W = 0.246449 b = 0.628477\n",
      "Epoch: 1601 cost = 0.112566374 W = 0.243875 b = 0.648459\n",
      "Epoch: 1651 cost = 0.111880027 W = 0.241462 b = 0.667199\n",
      "Epoch: 1701 cost = 0.111277536 W = 0.239198 b = 0.684776\n",
      "Epoch: 1751 cost = 0.110748805 W = 0.237075 b = 0.701262\n",
      "Epoch: 1801 cost = 0.110284828 W = 0.235083 b = 0.716724\n",
      "Epoch: 1851 cost = 0.109877788 W = 0.233215 b = 0.731226\n",
      "Epoch: 1901 cost = 0.109520696 W = 0.231463 b = 0.744828\n",
      "Epoch: 1951 cost = 0.109207585 W = 0.22982 b = 0.757584\n",
      "Optimization Finished!\n",
      "cost= 0.108938 W= 0.228309 b= 0.769318\n"
     ]
    },
    {
     "data": {
      "image/png": "[encoded data removed]",
      "text/plain": [
       "<matplotlib.figure.Figure at 0x10212bb00>"
      ]
     },
     "metadata": {},
     "output_type": "display_data"
    }
   ],
   "source": [
    "# Launch the graph\n",
    "with tf.Session() as sess:\n",
    "    sess.run(init)\n",
    "\n",
    "    # Fit all training data\n",
    "    for epoch in range(training_epochs):\n",
    "        for (x, y) in zip(train_X, train_Y):\n",
    "            sess.run(optimizer, feed_dict={X: x, Y: y})\n",
    "            \n",
    "        #Display logs per epoch step\n",
    "        if epoch % display_step == 0:\n",
    "            print(\"Epoch:\", '%04d' % (epoch+1), \"cost =\", \\\n",
    "            \"{:.9f}\".format(sess.run(cost, feed_dict={X: train_X, Y:train_Y})), \\\n",
    "            \"W =\", sess.run(W), \"b =\", sess.run(b))\n",
    "\n",
    "    print(\"Optimization Finished!\")\n",
    "    print(\"cost=\", sess.run(cost, feed_dict={X: train_X, Y: train_Y}), \"W=\", sess.run(W), \"b=\", sess.run(b))\n",
    "\n",
    "    #Graphic display\n",
    "    pred_Y = sess.run(W) * train_X + sess.run(b)\n",
    "    plt.plot(train_X, train_Y, 'ro', label='Original data')\n",
    "    plt.plot(train_X, pred_Y, label='Fitted line')\n",
    "    plt.legend()\n",
    "    plt.show()"
   ]
  },
  {
   "cell_type": "code",
   "execution_count": null,
   "metadata": {
    "collapsed": true
   },
   "outputs": [],
   "source": []
  },
  {
   "cell_type": "code",
   "execution_count": null,
   "metadata": {
    "collapsed": true
   },
   "outputs": [],
   "source": []
  }
 ],
 "metadata": {
  "kernelspec": {
   "display_name": "Python 3.5",
   "language": "python",
   "name": "python3.5"
  },
  "language_info": {
   "codemirror_mode": {
    "name": "ipython",
    "version": 3
   },
   "file_extension": ".py",
   "mimetype": "text/x-python",
   "name": "python",
   "nbconvert_exporter": "python",
   "pygments_lexer": "ipython3",
   "version": "3.5.2"
  }
 },
 "nbformat": 4,
 "nbformat_minor": 0
}
