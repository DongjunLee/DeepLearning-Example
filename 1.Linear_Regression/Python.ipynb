{
 "cells": [
  {
   "cell_type": "code",
   "execution_count": 1,
   "metadata": {
    "collapsed": false
   },
   "outputs": [],
   "source": [
    "import numpy as np\n",
    "import random\n",
    "\n",
    "## import Matpolt with PyQt4 Backend\n",
    "import matplotlib\n",
    "matplotlib.use('Qt4Agg')\n",
    "import matplotlib.pyplot as plt\n",
    "\n",
    "# This is a bit of magic to make matplotlib figures appear inline in the notebook\n",
    "# rather than in a new window.\n",
    "%matplotlib inline\n",
    "plt.rcParams['figure.figsize'] = (10.0, 8.0) # set default size of plots\n",
    "plt.rcParams['image.interpolation'] = 'nearest'\n",
    "plt.rcParams['image.cmap'] = 'gray'"
   ]
  },
  {
   "cell_type": "code",
   "execution_count": 2,
   "metadata": {
    "collapsed": true
   },
   "outputs": [],
   "source": [
    "# Parameters\n",
    "learning_rate = 0.001\n",
    "training_epochs = 2000\n",
    "display_step = 50"
   ]
  },
  {
   "cell_type": "code",
   "execution_count": 3,
   "metadata": {
    "collapsed": false
   },
   "outputs": [
    {
     "name": "stdout",
     "output_type": "stream",
     "text": [
      "(20,)\n",
      "(20,)\n"
     ]
    }
   ],
   "source": [
    "# Training Data\n",
    "train_X = np.asarray([3.3, 4.4, 5.5, 6.71 ,6.93,\n",
    "                         4.168, 9.779, 6.182, 7.59, 2.167,\n",
    "                         7.042, 10.791, 5.313, 7.997, 5.654,\n",
    "                         9.27, 3.1, 12.21, 6.12, 8.24])\n",
    "train_Y = np.asarray([1.7, 2.76, 2.09, 3.19, 1.694,\n",
    "                         1.573, 3.366, 2.596, 2.53, 1.221,\n",
    "                         2.827, 3.465, 1.65, 2.904, 2.42,\n",
    "                         2.94, 1.3, 3.2, 1.6, 1.8])\n",
    "n_samples = train_X.shape[0]\n",
    "\n",
    "print(train_X.shape)\n",
    "print(train_Y.shape)"
   ]
  },
  {
   "cell_type": "code",
   "execution_count": 4,
   "metadata": {
    "collapsed": true
   },
   "outputs": [],
   "source": [
    "W = np.random.randn()"
   ]
  },
  {
   "cell_type": "code",
   "execution_count": 5,
   "metadata": {
    "collapsed": false
   },
   "outputs": [
    {
     "name": "stdout",
     "output_type": "stream",
     "text": [
      "Epoch :  1 loss=  111.749043269\n",
      "Epoch :  51 loss=  25.1684448183\n",
      "Epoch :  101 loss=  10.8902544802\n",
      "Epoch :  151 loss=  6.06878003412\n",
      "Epoch :  201 loss=  3.87535544892\n",
      "Epoch :  251 loss=  2.69584980194\n",
      "Epoch :  301 loss=  1.98935966862\n",
      "Epoch :  351 loss=  1.53300613389\n",
      "Epoch :  401 loss=  1.22129012655\n",
      "Epoch :  451 loss=  0.999013154787\n",
      "Epoch :  501 loss=  0.835014361826\n",
      "Epoch :  551 loss=  0.710619607768\n",
      "Epoch :  601 loss=  0.614084411404\n",
      "Epoch :  651 loss=  0.537722347884\n",
      "Epoch :  701 loss=  0.476331846226\n",
      "Epoch :  751 loss=  0.426291276123\n",
      "Epoch :  801 loss=  0.385016498373\n",
      "Epoch :  851 loss=  0.350623960319\n",
      "Epoch :  901 loss=  0.321714910983\n",
      "Epoch :  951 loss=  0.29723341355\n",
      "Epoch :  1001 loss=  0.276370663637\n",
      "Epoch :  1051 loss=  0.258499130777\n",
      "Epoch :  1101 loss=  0.243126360368\n",
      "Epoch :  1151 loss=  0.229862011142\n",
      "Epoch :  1201 loss=  0.218393973836\n",
      "Epoch :  1251 loss=  0.208470829693\n",
      "Epoch :  1301 loss=  0.199888806229\n",
      "Epoch :  1351 loss=  0.192481970858\n",
      "Epoch :  1401 loss=  0.186114788489\n",
      "Epoch :  1451 loss=  0.180676428287\n",
      "Epoch :  1501 loss=  0.176076381851\n",
      "Epoch :  1551 loss=  0.172241077781\n",
      "Epoch :  1601 loss=  0.169111264038\n",
      "Epoch :  1651 loss=  0.16663999122\n",
      "Epoch :  1701 loss=  0.164791074717\n",
      "Epoch :  1751 loss=  0.163537946863\n",
      "Epoch :  1801 loss=  0.16286283529\n",
      "Epoch :  1851 loss=  0.162756223234\n",
      "Epoch :  1901 loss=  0.163216563403\n",
      "Epoch :  1951 loss=  0.164250230555\n",
      "Optimization Finished!!\n"
     ]
    }
   ],
   "source": [
    "loss_history = []\n",
    "for epoch in range(training_epochs):\n",
    "    # L2 Loss\n",
    "    loss = 0\n",
    "    for (x, y) in zip(train_X, train_Y):\n",
    "        pred_y = np.dot(x, W)\n",
    "        loss += (pred_y - y) ** 2\n",
    "    loss /= (2*n_samples)\n",
    "    loss_history.append(loss)\n",
    "    \n",
    "    # Gradient Descent\n",
    "    dW = -np.dot(x.transpose(), loss) / n_samples\n",
    "    W = W - learning_rate * dW\n",
    "        \n",
    "    if epoch % display_step == 0:\n",
    "        print(\"Epoch : \", epoch+1, \"loss= \", loss)\n",
    "        \n",
    "print(\"Optimization Finished!!\")"
   ]
  },
  {
   "cell_type": "code",
   "execution_count": 6,
   "metadata": {
    "collapsed": false
   },
   "outputs": [],
   "source": [
    "pred_Y = []\n",
    "for i in range(n_samples):\n",
    "    pred_Y.append(np.dot(train_X[i], W))"
   ]
  },
  {
   "cell_type": "code",
   "execution_count": 7,
   "metadata": {
    "collapsed": false
   },
   "outputs": [
    {
     "data": {
      "image/png": "[encoded data removed]",
      "text/plain": [
       "<matplotlib.figure.Figure at 0x1059c69e8>"
      ]
     },
     "metadata": {},
     "output_type": "display_data"
    }
   ],
   "source": [
    "plt.plot(train_X, train_Y, 'ro', label='Original data')\n",
    "plt.plot(train_X, pred_Y, label='Fitted line')\n",
    "plt.legend()\n",
    "plt.show()"
   ]
  },
  {
   "cell_type": "code",
   "execution_count": 8,
   "metadata": {
    "collapsed": false
   },
   "outputs": [
    {
     "data": {
      "image/png": "[encoded data removed]",
      "text/plain": [
       "<matplotlib.figure.Figure at 0x1059c6668>"
      ]
     },
     "metadata": {},
     "output_type": "display_data"
    }
   ],
   "source": [
    "plt.plot(loss_history)\n",
    "plt.xlabel(\"Iteration number\")\n",
    "plt.ylabel(\"loss\")\n",
    "plt.show()"
   ]
  },
  {
   "cell_type": "code",
   "execution_count": null,
   "metadata": {
    "collapsed": true
   },
   "outputs": [],
   "source": []
  }
 ],
 "metadata": {
  "kernelspec": {
   "display_name": "Python 3",
   "language": "python",
   "name": "python3"
  },
  "language_info": {
   "codemirror_mode": {
    "name": "ipython",
    "version": 3
   },
   "file_extension": ".py",
   "mimetype": "text/x-python",
   "name": "python",
   "nbconvert_exporter": "python",
   "pygments_lexer": "ipython3",
   "version": "3.5.1"
  }
 },
 "nbformat": 4,
 "nbformat_minor": 0
}
