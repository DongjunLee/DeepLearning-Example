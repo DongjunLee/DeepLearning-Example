{
 "cells": [
  {
   "cell_type": "code",
   "execution_count": 1,
   "metadata": {
    "collapsed": false
   },
   "outputs": [],
   "source": [
    "import numpy as np\n",
    "import random\n",
    "\n",
    "## import Matpolt with PyQt4 Backend\n",
    "import matplotlib\n",
    "matplotlib.use('Qt4Agg')\n",
    "import matplotlib.pyplot as plt\n",
    "\n",
    "# This is a bit of magic to make matplotlib figures appear inline in the notebook\n",
    "# rather than in a new window.\n",
    "%matplotlib inline\n",
    "plt.rcParams['figure.figsize'] = (10.0, 8.0) # set default size of plots\n",
    "plt.rcParams['image.interpolation'] = 'nearest'\n",
    "plt.rcParams['image.cmap'] = 'gray'"
   ]
  },
  {
   "cell_type": "code",
   "execution_count": 2,
   "metadata": {
    "collapsed": true
   },
   "outputs": [],
   "source": [
    "# Parameters\n",
    "learning_rate = 0.001\n",
    "training_epochs = 2500\n",
    "display_step = 50"
   ]
  },
  {
   "cell_type": "code",
   "execution_count": 3,
   "metadata": {
    "collapsed": false
   },
   "outputs": [
    {
     "name": "stdout",
     "output_type": "stream",
     "text": [
      "(20,)\n",
      "(20,)\n"
     ]
    }
   ],
   "source": [
    "# Training Data\n",
    "train_X = np.asarray([3.3, 4.4, 5.5, 6.71 ,6.93,\n",
    "                         4.168, 9.779, 6.182, 7.59, 2.167,\n",
    "                         7.042, 10.791, 5.313, 7.997, 5.654,\n",
    "                         9.27, 3.1, 12.21, 6.12, 8.24])\n",
    "train_Y = np.asarray([1.7, 2.76, 2.09, 3.19, 1.694,\n",
    "                         1.573, 3.366, 2.596, 2.53, 1.221,\n",
    "                         2.827, 3.465, 1.65, 2.904, 2.42,\n",
    "                         2.94, 1.3, 3.2, 1.6, 1.8])\n",
    "n_samples = train_X.shape[0]\n",
    "\n",
    "print(train_X.shape)\n",
    "print(train_Y.shape)"
   ]
  },
  {
   "cell_type": "code",
   "execution_count": 4,
   "metadata": {
    "collapsed": true
   },
   "outputs": [],
   "source": [
    "W = np.random.randn()"
   ]
  },
  {
   "cell_type": "code",
   "execution_count": 5,
   "metadata": {
    "collapsed": false
   },
   "outputs": [],
   "source": [
    "def construct_model(X, Y, W):\n",
    "    loss = L2_loss(predict_Y(X, W), Y)\n",
    "    return loss\n",
    "\n",
    "def predict_Y(X, W):\n",
    "    return np.dot(X, W)\n",
    "\n",
    "def L2_loss(pred, Y):\n",
    "    return (pred - Y)**2 / (2*n_samples)\n",
    "    \n",
    "def get_loss(X, Y, W):\n",
    "    loss = 0\n",
    "    for (x,y) in zip(X,Y):\n",
    "        loss += L2_loss(predict_Y(x, W), y)\n",
    "    return loss\n",
    "    \n",
    "def gradient_descent(X, W, loss, learning_rate):\n",
    "    gradient = - np.dot(X.transpose(), loss) / n_samples\n",
    "    W = W - (learning_rate * gradient)\n",
    "    return W"
   ]
  },
  {
   "cell_type": "code",
   "execution_count": 6,
   "metadata": {
    "collapsed": false
   },
   "outputs": [
    {
     "name": "stdout",
     "output_type": "stream",
     "text": [
      "Epoch :  1 loss=  11.8350037938\n",
      "Epoch :  51 loss=  6.55976448479\n",
      "Epoch :  101 loss=  4.19977878434\n",
      "Epoch :  151 loss=  2.94087814934\n",
      "Epoch :  201 loss=  2.18939601024\n",
      "Epoch :  251 loss=  1.70425479184\n",
      "Epoch :  301 loss=  1.37242628693\n",
      "Epoch :  351 loss=  1.13515270813\n",
      "Epoch :  401 loss=  0.95940863689\n",
      "Epoch :  451 loss=  0.825460021458\n",
      "Epoch :  501 loss=  0.720918442101\n",
      "Epoch :  551 loss=  0.637684111101\n",
      "Epoch :  601 loss=  0.570277555953\n",
      "Epoch :  651 loss=  0.514882829394\n",
      "Epoch :  701 loss=  0.46877524783\n",
      "Epoch :  751 loss=  0.429966563376\n",
      "Epoch :  801 loss=  0.396977969598\n",
      "Epoch :  851 loss=  0.368690855163\n",
      "Epoch :  901 loss=  0.344246273118\n",
      "Epoch :  951 loss=  0.322975750874\n",
      "Epoch :  1001 loss=  0.304352743328\n",
      "Epoch :  1051 loss=  0.28795797364\n",
      "Epoch :  1101 loss=  0.273454297206\n",
      "Epoch :  1151 loss=  0.260568210355\n",
      "Epoch :  1201 loss=  0.249076069456\n",
      "Epoch :  1251 loss=  0.238793698172\n",
      "Epoch :  1301 loss=  0.229568464753\n",
      "Epoch :  1351 loss=  0.221273182633\n",
      "Epoch :  1401 loss=  0.213801372741\n",
      "Epoch :  1451 loss=  0.207063554041\n",
      "Epoch :  1501 loss=  0.200984318676\n",
      "Epoch :  1551 loss=  0.195500011949\n",
      "Epoch :  1601 loss=  0.190556883259\n",
      "Epoch :  1651 loss=  0.18610960751\n",
      "Epoch :  1701 loss=  0.182120101073\n",
      "Epoch :  1751 loss=  0.17855657468\n",
      "Epoch :  1801 loss=  0.175392779372\n",
      "Epoch :  1851 loss=  0.172607412204\n",
      "Epoch :  1901 loss=  0.170183656518\n",
      "Epoch :  1951 loss=  0.16810883812\n",
      "Epoch :  2001 loss=  0.166374183922\n",
      "Epoch :  2051 loss=  0.164974674061\n",
      "Epoch :  2101 loss=  0.163908982351\n",
      "Epoch :  2151 loss=  0.163179503561\n",
      "Epoch :  2201 loss=  0.162792469477\n",
      "Epoch :  2251 loss=  0.162758159415\n",
      "Epoch :  2301 loss=  0.16309121488\n",
      "Epoch :  2351 loss=  0.163811072783\n",
      "Epoch :  2401 loss=  0.164942537318\n",
      "Epoch :  2451 loss=  0.166516517681\n",
      "Optimization Finished!!\n"
     ]
    }
   ],
   "source": [
    "for epoch in range(training_epochs):\n",
    "    for (x, y) in zip(train_X, train_Y):\n",
    "        loss = construct_model(x, y, W)\n",
    "        W = gradient_descent(x, W, loss, learning_rate)\n",
    "\n",
    "    if epoch % display_step == 0:\n",
    "        loss = get_loss(train_X, train_Y, W)\n",
    "        print(\"Epoch : \", epoch+1, \"loss= \", loss)\n",
    "        \n",
    "print(\"Optimization Finished!!\")"
   ]
  },
  {
   "cell_type": "code",
   "execution_count": 9,
   "metadata": {
    "collapsed": false
   },
   "outputs": [],
   "source": [
    "pred_Y = []\n",
    "for i in range(n_samples):\n",
    "    pred_Y.append(predict_Y(train_X[i], W))"
   ]
  },
  {
   "cell_type": "code",
   "execution_count": 10,
   "metadata": {
    "collapsed": false
   },
   "outputs": [
    {
     "data": {
      "image/png": "[encoded data removed]",
      "text/plain": [
       "<matplotlib.figure.Figure at 0x109aa15f8>"
      ]
     },
     "metadata": {},
     "output_type": "display_data"
    }
   ],
   "source": [
    "plt.plot(train_X, train_Y, 'ro', label='Original data')\n",
    "plt.plot(train_X, pred_Y, label='Fitted line')\n",
    "plt.legend()\n",
    "plt.show()"
   ]
  },
  {
   "cell_type": "code",
   "execution_count": null,
   "metadata": {
    "collapsed": false
   },
   "outputs": [],
   "source": []
  },
  {
   "cell_type": "code",
   "execution_count": null,
   "metadata": {
    "collapsed": true
   },
   "outputs": [],
   "source": []
  }
 ],
 "metadata": {
  "kernelspec": {
   "display_name": "Python 3",
   "language": "python",
   "name": "python3"
  },
  "language_info": {
   "codemirror_mode": {
    "name": "ipython",
    "version": 3
   },
   "file_extension": ".py",
   "mimetype": "text/x-python",
   "name": "python",
   "nbconvert_exporter": "python",
   "pygments_lexer": "ipython3",
   "version": "3.5.1"
  }
 },
 "nbformat": 4,
 "nbformat_minor": 0
}
