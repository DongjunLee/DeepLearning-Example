{
 "cells": [
  {
   "cell_type": "code",
   "execution_count": 1,
   "metadata": {
    "collapsed": true
   },
   "outputs": [],
   "source": [
    "----------------------------------------------------------------------\n",
    "-- example-linear-regression.lua\n",
    "-- \n",
    "-- This script provides a very simple step-by-step example of\n",
    "-- linear regression, using Torch7's neural network (nn) package,\n",
    "-- and the optimization package (optim).\n",
    "--\n",
    "\n",
    "-- note: to run this script, simply do:\n",
    "-- torch script.lua\n",
    "\n",
    "-- to run the script, and get an interactive shell once it terminates:\n",
    "-- torch -i script.lua\n",
    "\n",
    "-- we first require the necessary packages.\n",
    "-- note: optim is a 3rd-party package, and needs to be installed\n",
    "-- separately. This can be easily done using Torch7's package manager:\n",
    "-- torch-pkg install optim\n",
    "\n",
    "require 'torch'\n",
    "require 'optim'\n",
    "require 'nn'"
   ]
  },
  {
   "cell_type": "code",
   "execution_count": 8,
   "metadata": {
    "collapsed": true
   },
   "outputs": [],
   "source": [
    "----------------------------------------------------------------------\n",
    "-- 1. Create the training data\n",
    "\n",
    "-- In all regression problems, some training data needs to be \n",
    "-- provided. In a realistic scenarios, data comes from some database\n",
    "-- or file system, and needs to be loaded from disk. In that \n",
    "-- tutorial, we create the data source as a Lua table.\n",
    "\n",
    "-- In general, the data can be stored in arbitrary forms, and using\n",
    "-- Lua's flexible table data structure is usually a good idea. \n",
    "-- Here we store the data as a Torch Tensor (2D Array), where each\n",
    "-- row represents a training sample, and each column a variable. The\n",
    "-- first column is the target variable, and the others are the\n",
    "-- input variables.\n",
    "\n",
    "-- The data are from an example in Schaum's Outline:\n",
    "-- Dominick Salvator and Derrick Reagle\n",
    "-- Shaum's Outline of Theory and Problems of Statistics and Economics\n",
    "-- 2nd edition\n",
    "-- McGraw-Hill\n",
    "-- 2002\n",
    "\n",
    "-- The data relate the amount of corn produced, given certain amounts\n",
    "-- of fertilizer and insecticide. See p 157 of the text.\n",
    "\n",
    "-- In this example, we want to be able to predict the amount of\n",
    "-- corn produced, given the amount of fertilizer and insecticide used.\n",
    "-- In other words: fertilizer & insecticide are our two input variables,\n",
    "-- and corn is our target value.\n",
    "\n",
    "--  {corn, fertilizer, insecticide}\n",
    "\n",
    "data = torch.Tensor{\n",
    "   {40,  6,  4},\n",
    "   {44, 10,  4},\n",
    "   {46, 12,  5},\n",
    "   {48, 14,  7},\n",
    "   {52, 16,  9},\n",
    "   {58, 18, 12},\n",
    "   {60, 22, 14},\n",
    "   {68, 24, 20},\n",
    "   {74, 26, 21},\n",
    "   {80, 32, 24}\n",
    "}"
   ]
  },
  {
   "cell_type": "code",
   "execution_count": 11,
   "metadata": {
    "collapsed": false
   },
   "outputs": [],
   "source": [
    "data_size = (#data)[1]"
   ]
  },
  {
   "cell_type": "code",
   "execution_count": 3,
   "metadata": {
    "collapsed": true
   },
   "outputs": [],
   "source": [
    "----------------------------------------------------------------------\n",
    "-- 2. Define the model (predictor)\n",
    "\n",
    "-- The model will have one layer (called a module), which takes the \n",
    "-- 2 inputs (fertilizer and insecticide) and produces the 1 output \n",
    "-- (corn).\n",
    "\n",
    "-- Note that the Linear model specified below has 3 parameters:\n",
    "--   1 for the weight assigned to fertilizer\n",
    "--   1 for the weight assigned to insecticide\n",
    "--   1 for the weight assigned to the bias term\n",
    "\n",
    "-- In some other model specification schemes, one needs to augment the\n",
    "-- training data to include a constant value of 1, but this isn't done\n",
    "-- with the linear model.\n",
    "\n",
    "-- The linear model must be held in a container. A sequential container\n",
    "-- is appropriate since the outputs of each module become the inputs of \n",
    "-- the subsequent module in the model. In this case, there is only one\n",
    "-- module. In more complex cases, multiple modules can be stacked using\n",
    "-- the sequential container.\n",
    "\n",
    "-- The modules are all defined in the neural network package, which is\n",
    "-- named 'nn'.\n",
    "\n",
    "\n",
    "model = nn.Sequential()                  -- define the container\n",
    "ninputs = 2; noutputs = 1\n",
    "model:add(nn.Linear(ninputs, noutputs))  -- define the only module"
   ]
  },
  {
   "cell_type": "code",
   "execution_count": 4,
   "metadata": {
    "collapsed": true
   },
   "outputs": [],
   "source": [
    "----------------------------------------------------------------------\n",
    "-- 3. Define a loss function, to be minimized.\n",
    "\n",
    "-- In that example, we minimize the Mean Square Error (MSE) between\n",
    "-- the predictions of our linear model and the groundtruth available\n",
    "-- in the dataset.\n",
    "\n",
    "-- Torch provides many common criterions to train neural networks.\n",
    "\n",
    "\n",
    "criterion = nn.MSECriterion()"
   ]
  },
  {
   "cell_type": "code",
   "execution_count": 5,
   "metadata": {
    "collapsed": true
   },
   "outputs": [],
   "source": [
    "----------------------------------------------------------------------\n",
    "-- 4. Train the model\n",
    "\n",
    "-- To minimize the loss defined above, using the linear model defined\n",
    "-- in 'model', we follow a stochastic gradient descent procedure (SGD).\n",
    "\n",
    "-- SGD is a good optimization algorithm when the amount of training data\n",
    "-- is large, and estimating the gradient of the loss function over the \n",
    "-- entire training set is too costly.\n",
    "\n",
    "-- Given an arbitrarily complex model, we can retrieve its trainable\n",
    "-- parameters, and the gradients of our loss function wrt these \n",
    "-- parameters by doing so:\n",
    "\n",
    "\n",
    "x, dl_dx = model:getParameters()"
   ]
  },
  {
   "cell_type": "code",
   "execution_count": 6,
   "metadata": {
    "collapsed": true
   },
   "outputs": [],
   "source": [
    "-- In the following code, we define a closure, feval, which computes\n",
    "-- the value of the loss function at a given point x, and the gradient of\n",
    "-- that function with respect to x. x is the vector of trainable weights,\n",
    "-- which, in this example, are all the weights of the linear matrix of\n",
    "-- our model, plus one bias.\n",
    "\n",
    "feval = function(x_new)\n",
    "    -- set x to x_new, if different\n",
    "    -- (in this simplet example, x_new will typically always point to x,\n",
    "    -- so the copy is really useless)\n",
    "    if x ~= x_new then\n",
    "        x:copy(x_new)\n",
    "    end\n",
    "    \n",
    "    -- select a new training smaple\n",
    "    _nidx_ = (_nidx_ or 0) + 1\n",
    "    if _nidx_ > data_size then _nidx_ = 1 end\n",
    "    \n",
    "    local sample = data[_nidx_]\n",
    "    local target = sample[{ {1} }]      -- this funny looking syntax allows\n",
    "    local inputs = sample[{ {2,3} }]    -- slicing of arrays\n",
    "    \n",
    "    -- reset gradients (gradients are always accumulated, to accoomdate\n",
    "    -- vatch methods)\n",
    "    dl_dx:zero()\n",
    "    \n",
    "    -- evaluate the loss function and its derivative wrt x, for that sample\n",
    "    local loss_x = criterion:forward(model:forward(inputs), target)\n",
    "    model:backward(inputs, criterion:backward(model.output, target))\n",
    "    \n",
    "    -- return loss(x) and dloss/dx\n",
    "    return loss_x, dl_dx\n",
    "end"
   ]
  },
  {
   "cell_type": "code",
   "execution_count": 7,
   "metadata": {
    "collapsed": true
   },
   "outputs": [],
   "source": [
    "-- Given the function above, we can now easily train the model using SGD.\n",
    "-- For that, we need to define four key parameters:\n",
    "--   + a learning rate: the size of the step taken at each stochastic \n",
    "--     estimate of the gradient\n",
    "--   + a weight decay, to regularize the solution (L2 regularization)\n",
    "--   + a momentum term, to average steps over time\n",
    "--   + a learning rate decay, to let the algorithm converge more precisely\n",
    "\n",
    "sgd_params = {\n",
    "    learningRate = 1e-3,\n",
    "    learningRateDecay = 1e-4,\n",
    "    weightDecay = 0,\n",
    "    momentum = 0\n",
    "}"
   ]
  },
  {
   "cell_type": "code",
   "execution_count": 12,
   "metadata": {
    "collapsed": false
   },
   "outputs": [
    {
     "data": {
      "text/plain": [
       "current loss = 542.03680142219\t\n",
       "current loss = 164.53147826047\t\n"
      ]
     },
     "execution_count": 12,
     "metadata": {},
     "output_type": "execute_result"
    },
    {
     "data": {
      "text/plain": [
       "current loss = 152.94208762189\t\n",
       "current loss = 144.21452706218\t\n",
       "current loss = 136.96535415192\t\n",
       "current loss = 130.9270354036\t\n",
       "current loss = 125.88499011103\t\n",
       "current loss = 121.66376653355\t\n",
       "current loss = 118.11972604305\t\n",
       "current loss = 115.13513691163\t\n"
      ]
     },
     "execution_count": 12,
     "metadata": {},
     "output_type": "execute_result"
    },
    {
     "data": {
      "text/plain": [
       "current loss = 112.61338702015\t\n",
       "current loss = 110.47509961417\t\n",
       "current loss = 108.65497863538\t\n",
       "current loss = 107.0992440371\t\n",
       "current loss = 105.76354465135\t\n",
       "current loss = 104.61125796801\t\n",
       "current loss = 103.61210368817\t\n",
       "current loss = 102.74101198201\t\n"
      ]
     },
     "execution_count": 12,
     "metadata": {},
     "output_type": "execute_result"
    },
    {
     "data": {
      "text/plain": [
       "current loss = 101.9771987\t\n",
       "current loss = 101.30340890085\t\n",
       "current loss = 100.70529740535\t\n",
       "current loss = 100.17092101139\t\n",
       "current loss = 99.690321790002\t\n",
       "current loss = 99.25518474925\t\n",
       "current loss = 98.858556279987\t\n",
       "current loss = 98.494612329852\t\n",
       "current loss = 98.15846730335\t\n"
      ]
     },
     "execution_count": 12,
     "metadata": {},
     "output_type": "execute_result"
    },
    {
     "data": {
      "text/plain": [
       "current loss = 97.846016349875\t\n",
       "current loss = 97.553805052244\t\n",
       "current loss = 97.278921625702\t\n",
       "current loss = 97.018907629824\t\n",
       "current loss = 96.771683922052\t\n",
       "current loss = 96.535489173479\t\n",
       "current loss = 96.308828749938\t\n",
       "current loss = 96.090432155368\t\n"
      ]
     },
     "execution_count": 12,
     "metadata": {},
     "output_type": "execute_result"
    },
    {
     "data": {
      "text/plain": [
       "current loss = 95.879217556147\t\n",
       "current loss = 95.67426216815\t\n",
       "current loss = 95.474777503658\t\n",
       "current loss = 95.280088651591\t\n",
       "current loss = 95.089616909227\t\n",
       "current loss = 94.902865202286\t\n",
       "current loss = 94.719405827786\t\n",
       "current loss = 94.538870134331\t\n",
       "current loss = 94.360939820503\t\n"
      ]
     },
     "execution_count": 12,
     "metadata": {},
     "output_type": "execute_result"
    },
    {
     "data": {
      "text/plain": [
       "current loss = 94.185339586478\t\n",
       "current loss = 94.011830918843\t\n",
       "current loss = 93.840206825696\t\n",
       "current loss = 93.670287369711\t\n",
       "current loss = 93.501915872251\t\n",
       "current loss = 93.334955682556\t\n",
       "current loss = 93.169287423513\t\n",
       "current loss = 93.004806639907\t\n",
       "current loss = 92.84142178713\t\n"
      ]
     },
     "execution_count": 12,
     "metadata": {},
     "output_type": "execute_result"
    },
    {
     "data": {
      "text/plain": [
       "current loss = 92.679052508285\t\n",
       "current loss = 92.517628155947\t\n",
       "current loss = 92.357086521829\t\n",
       "current loss = 92.197372743362\t\n",
       "current loss = 92.038438361051\t\n",
       "current loss = 91.880240504559\t\n",
       "current loss = 91.722741188831\t\n",
       "current loss = 91.565906704457\t\n",
       "current loss = 91.409707088851\t\n"
      ]
     },
     "execution_count": 12,
     "metadata": {},
     "output_type": "execute_result"
    },
    {
     "data": {
      "text/plain": [
       "current loss = 91.254115666854\t\n",
       "current loss = 91.099108651062\t\n",
       "current loss = 90.944664793608\t\n",
       "current loss = 90.790765082365\t\n",
       "current loss = 90.637392475521\t\n",
       "current loss = 90.48453166938\t\n",
       "current loss = 90.332168894966\t\n"
      ]
     },
     "execution_count": 12,
     "metadata": {},
     "output_type": "execute_result"
    },
    {
     "data": {
      "text/plain": [
       "current loss = 90.180291739628\t\n",
       "current loss = 90.028888990381\t\n",
       "current loss = 89.877950496177\t\n",
       "current loss = 89.727467046677\t\n",
       "current loss = 89.577430265426\t\n",
       "current loss = 89.427832515625\t\n",
       "current loss = 89.278666816932\t\n",
       "current loss = 89.129926771923\t\n"
      ]
     },
     "execution_count": 12,
     "metadata": {},
     "output_type": "execute_result"
    },
    {
     "data": {
      "text/plain": [
       "current loss = 88.981606501029\t\n",
       "current loss = 88.833700584942\t\n",
       "current loss = 88.686204013551\t\n",
       "current loss = 88.539112140677\t\n",
       "current loss = 88.392420643878\t\n"
      ]
     },
     "execution_count": 12,
     "metadata": {},
     "output_type": "execute_result"
    },
    {
     "data": {
      "text/plain": [
       "current loss = 88.246125488757\t\n",
       "current loss = 88.100222897237\t\n",
       "current loss = 87.954709319347\t\n",
       "current loss = 87.809581408108\t\n",
       "current loss = 87.664835997185\t\n",
       "current loss = 87.520470080968\t\n",
       "current loss = 87.37648079683\t\n"
      ]
     },
     "execution_count": 12,
     "metadata": {},
     "output_type": "execute_result"
    },
    {
     "data": {
      "text/plain": [
       "current loss = 87.232865409298\t\n",
       "current loss = 87.089621295953\t\n",
       "current loss = 86.946745934831\t\n",
       "current loss = 86.804236893194\t\n",
       "current loss = 86.662091817505\t\n",
       "current loss = 86.520308424475\t\n",
       "current loss = 86.378884493072\t\n",
       "current loss = 86.237817857389\t\n"
      ]
     },
     "execution_count": 12,
     "metadata": {},
     "output_type": "execute_result"
    },
    {
     "data": {
      "text/plain": [
       "current loss = 86.097106400272\t\n",
       "current loss = 85.956748047632\t\n",
       "current loss = 85.816740763376\t\n",
       "current loss = 85.677082544866\t\n",
       "current loss = 85.537771418886\t\n",
       "current loss = 85.398805438034\t\n"
      ]
     },
     "execution_count": 12,
     "metadata": {},
     "output_type": "execute_result"
    },
    {
     "data": {
      "text/plain": [
       "current loss = 85.260182677507\t\n",
       "current loss = 85.121901232237\t\n",
       "current loss = 84.983959214346\t\n",
       "current loss = 84.846354750871\t\n"
      ]
     },
     "execution_count": 12,
     "metadata": {},
     "output_type": "execute_result"
    },
    {
     "data": {
      "text/plain": [
       "current loss = 84.709085981752\t\n",
       "current loss = 84.572151058037\t\n",
       "current loss = 84.435548140297\t\n",
       "current loss = 84.299275397219\t\n"
      ]
     },
     "execution_count": 12,
     "metadata": {},
     "output_type": "execute_result"
    },
    {
     "data": {
      "text/plain": [
       "current loss = 84.163331004356\t\n",
       "current loss = 84.027713143038\t\n",
       "current loss = 83.892419999397\t\n",
       "current loss = 83.757449763521\t\n"
      ]
     },
     "execution_count": 12,
     "metadata": {},
     "output_type": "execute_result"
    },
    {
     "data": {
      "text/plain": [
       "current loss = 83.622800628709\t\n",
       "current loss = 83.488470790821\t\n",
       "current loss = 83.354458447714\t\n",
       "current loss = 83.22076179875\t\n",
       "current loss = 83.087379044379\t\n",
       "current loss = 82.954308385778\t\n",
       "current loss = 82.821548024545\t\n"
      ]
     },
     "execution_count": 12,
     "metadata": {},
     "output_type": "execute_result"
    },
    {
     "data": {
      "text/plain": [
       "current loss = 82.689096162445\t\n",
       "current loss = 82.556951001198\t\n",
       "current loss = 82.425110742306\t\n",
       "current loss = 82.293573586918\t\n",
       "current loss = 82.162337735723\t\n",
       "current loss = 82.031401388874\t\n",
       "current loss = 81.900762745937\t\n",
       "current loss = 81.770420005861\t\n"
      ]
     },
     "execution_count": 12,
     "metadata": {},
     "output_type": "execute_result"
    },
    {
     "data": {
      "text/plain": [
       "current loss = 81.640371366969\t\n",
       "current loss = 81.51061502697\t\n",
       "current loss = 81.381149182979\t\n",
       "current loss = 81.251972031564\t\n",
       "current loss = 81.12308176879\t\n",
       "current loss = 80.994476590291\t\n",
       "current loss = 80.866154691337\t\n",
       "current loss = 80.738114266922\t\n",
       "current loss = 80.610353511848\t\n",
       "current loss = 80.482870620831\t\n"
      ]
     },
     "execution_count": 12,
     "metadata": {},
     "output_type": "execute_result"
    },
    {
     "data": {
      "text/plain": [
       "current loss = 80.355663788597\t\n",
       "current loss = 80.228731209997\t\n",
       "current loss = 80.102071080114\t\n",
       "current loss = 79.975681594387\t\n",
       "current loss = 79.84956094873\t\n",
       "current loss = 79.723707339657\t\n",
       "current loss = 79.598118964406\t\n",
       "current loss = 79.472794021074\t\n",
       "current loss = 79.347730708744\t\n"
      ]
     },
     "execution_count": 12,
     "metadata": {},
     "output_type": "execute_result"
    },
    {
     "data": {
      "text/plain": [
       "current loss = 79.222927227617\t\n",
       "current loss = 79.098381779153\t\n",
       "current loss = 78.974092566197\t\n",
       "current loss = 78.850057793123\t\n",
       "current loss = 78.726275665967\t\n",
       "current loss = 78.602744392563\t\n",
       "current loss = 78.479462182685\t\n",
       "current loss = 78.35642724818\t\n",
       "current loss = 78.23363780311\t\n",
       "current loss = 78.111092063886\t\n"
      ]
     },
     "execution_count": 12,
     "metadata": {},
     "output_type": "execute_result"
    },
    {
     "data": {
      "text/plain": [
       "current loss = 77.988788249406\t\n",
       "current loss = 77.866724581196\t\n",
       "current loss = 77.744899283542\t\n",
       "current loss = 77.623310583629\t\n",
       "current loss = 77.501956711676\t\n",
       "current loss = 77.380835901072\t\n",
       "current loss = 77.259946388509\t\n",
       "current loss = 77.139286414118\t\n",
       "current loss = 77.018854221601\t\n",
       "current loss = 76.898648058365\t\n"
      ]
     },
     "execution_count": 12,
     "metadata": {},
     "output_type": "execute_result"
    },
    {
     "data": {
      "text/plain": [
       "current loss = 76.778666175653\t\n",
       "current loss = 76.658906828672\t\n",
       "current loss = 76.539368276729\t\n",
       "current loss = 76.420048783355\t\n",
       "current loss = 76.300946616436\t\n",
       "current loss = 76.182060048339\t\n"
      ]
     },
     "execution_count": 12,
     "metadata": {},
     "output_type": "execute_result"
    },
    {
     "data": {
      "text/plain": [
       "current loss = 76.06338735604\t\n",
       "current loss = 75.944926821249\t\n",
       "current loss = 75.826676730534\t\n",
       "current loss = 75.708635375443\t\n",
       "current loss = 75.590801052631\t\n",
       "current loss = 75.473172063977\t\n",
       "current loss = 75.355746716707\t\n",
       "current loss = 75.238523323514\t\n"
      ]
     },
     "execution_count": 12,
     "metadata": {},
     "output_type": "execute_result"
    },
    {
     "data": {
      "text/plain": [
       "current loss = 75.121500202673\t\n",
       "current loss = 75.004675678164\t\n",
       "current loss = 74.888048079782\t\n",
       "current loss = 74.771615743256\t\n",
       "current loss = 74.655377010366\t\n",
       "current loss = 74.539330229047\t\n",
       "current loss = 74.423473753511\t\n",
       "current loss = 74.307805944352\t\n",
       "current loss = 74.192325168657\t\n",
       "current loss = 74.077029800116\t\n"
      ]
     },
     "execution_count": 12,
     "metadata": {},
     "output_type": "execute_result"
    },
    {
     "data": {
      "text/plain": [
       "current loss = 73.961918219128\t\n",
       "current loss = 73.846988812908\t\n",
       "current loss = 73.732239975592\t\n",
       "current loss = 73.617670108341\t\n",
       "current loss = 73.503277619446\t\n",
       "current loss = 73.389060924426\t\n",
       "current loss = 73.275018446132\t\n",
       "current loss = 73.161148614846\t\n",
       "current loss = 73.047449868376\t\n"
      ]
     },
     "execution_count": 12,
     "metadata": {},
     "output_type": "execute_result"
    },
    {
     "data": {
      "text/plain": [
       "current loss = 72.933920652158\t\n",
       "current loss = 72.82055941935\t\n",
       "current loss = 72.707364630923\t\n",
       "current loss = 72.594334755762\t\n",
       "current loss = 72.481468270751\t\n",
       "current loss = 72.368763660869\t\n",
       "current loss = 72.256219419277\t\n",
       "current loss = 72.14383404741\t\n",
       "current loss = 72.031606055061\t\n",
       "current loss = 71.919533960467\t\n"
      ]
     },
     "execution_count": 12,
     "metadata": {},
     "output_type": "execute_result"
    },
    {
     "data": {
      "text/plain": [
       "current loss = 71.807616290397\t\n",
       "current loss = 71.695851580235\t\n",
       "current loss = 71.58423837406\t\n",
       "current loss = 71.472775224731\t\n",
       "current loss = 71.361460693962\t\n",
       "current loss = 71.250293352406\t\n",
       "current loss = 71.139271779729\t\n",
       "current loss = 71.028394564688\t\n",
       "current loss = 70.917660305202\t\n"
      ]
     },
     "execution_count": 12,
     "metadata": {},
     "output_type": "execute_result"
    },
    {
     "data": {
      "text/plain": [
       "current loss = 70.807067608433\t\n",
       "current loss = 70.696615090851\t\n",
       "current loss = 70.58630137831\t\n",
       "current loss = 70.476125106113\t\n",
       "current loss = 70.366084919086\t\n",
       "current loss = 70.256179471641\t\n",
       "current loss = 70.146407427843\t\n"
      ]
     },
     "execution_count": 12,
     "metadata": {},
     "output_type": "execute_result"
    },
    {
     "data": {
      "text/plain": [
       "current loss = 70.036767461475\t\n",
       "current loss = 69.9272582561\t\n",
       "current loss = 69.817878505127\t\n",
       "current loss = 69.708626911864\t\n",
       "current loss = 69.599502189584\t\n",
       "current loss = 69.490503061582\t\n",
       "current loss = 69.381628261229\t\n"
      ]
     },
     "execution_count": 12,
     "metadata": {},
     "output_type": "execute_result"
    },
    {
     "data": {
      "text/plain": [
       "current loss = 69.272876532027\t\n",
       "current loss = 69.164246627668\t\n",
       "current loss = 69.055737312082\t\n",
       "current loss = 68.947347359489\t\n",
       "current loss = 68.839075554451\t\n",
       "current loss = 68.730920691919\t\n",
       "current loss = 68.622881577281\t\n"
      ]
     },
     "execution_count": 12,
     "metadata": {},
     "output_type": "execute_result"
    },
    {
     "data": {
      "text/plain": [
       "current loss = 68.514957026407\t\n",
       "current loss = 68.407145865698\t\n",
       "current loss = 68.299446932121\t\n"
      ]
     },
     "execution_count": 12,
     "metadata": {},
     "output_type": "execute_result"
    },
    {
     "data": {
      "text/plain": [
       "current loss = 68.191859073261\t\n",
       "current loss = 68.084381147354\t\n",
       "current loss = 67.97701202333\t\n",
       "current loss = 67.869750580852\t\n",
       "current loss = 67.762595710349\t\n"
      ]
     },
     "execution_count": 12,
     "metadata": {},
     "output_type": "execute_result"
    },
    {
     "data": {
      "text/plain": [
       "current loss = 67.655546313055\t\n",
       "current loss = 67.54860130104\t\n",
       "current loss = 67.441759597247\t\n",
       "current loss = 67.335020135519\t\n",
       "current loss = 67.228381860633\t\n",
       "current loss = 67.121843728325\t\n",
       "current loss = 67.015404705321\t\n",
       "current loss = 66.909063769362\t\n",
       "current loss = 66.802819909227\t\n"
      ]
     },
     "execution_count": 12,
     "metadata": {},
     "output_type": "execute_result"
    },
    {
     "data": {
      "text/plain": [
       "current loss = 66.696672124759\t\n",
       "current loss = 66.590619426888\t\n",
       "current loss = 66.484660837648\t\n",
       "current loss = 66.378795390202\t\n",
       "current loss = 66.273022128854\t\n",
       "current loss = 66.167340109074\t\n",
       "current loss = 66.061748397507\t\n",
       "current loss = 65.956246071991\t\n",
       "current loss = 65.850832221567\t\n"
      ]
     },
     "execution_count": 12,
     "metadata": {},
     "output_type": "execute_result"
    },
    {
     "data": {
      "text/plain": [
       "current loss = 65.745505946498\t\n",
       "current loss = 65.640266358272\t\n",
       "current loss = 65.535112579615\t\n",
       "current loss = 65.430043744499\t\n",
       "current loss = 65.325058998149\t\n",
       "current loss = 65.220157497049\t\n",
       "current loss = 65.115338408944\t\n",
       "current loss = 65.010600912848\t\n",
       "current loss = 64.905944199041\t\n"
      ]
     },
     "execution_count": 12,
     "metadata": {},
     "output_type": "execute_result"
    },
    {
     "data": {
      "text/plain": [
       "current loss = 64.801367469073\t\n",
       "current loss = 64.696869935763\t\n",
       "current loss = 64.592450823195\t\n",
       "current loss = 64.488109366719\t\n",
       "current loss = 64.383844812944\t\n",
       "current loss = 64.279656419734\t\n",
       "current loss = 64.175543456202\t\n",
       "current loss = 64.071505202701\t\n"
      ]
     },
     "execution_count": 12,
     "metadata": {},
     "output_type": "execute_result"
    },
    {
     "data": {
      "text/plain": [
       "current loss = 63.967540950816\t\n",
       "current loss = 63.863650003354\t\n",
       "current loss = 63.759831674333\t\n",
       "current loss = 63.656085288969\t\n",
       "current loss = 63.552410183665\t\n",
       "current loss = 63.448805705994\t\n",
       "current loss = 63.345271214683\t\n",
       "current loss = 63.241806079599\t\n"
      ]
     },
     "execution_count": 12,
     "metadata": {},
     "output_type": "execute_result"
    },
    {
     "data": {
      "text/plain": [
       "current loss = 63.138409681728\t\n",
       "current loss = 63.03508141316\t\n",
       "current loss = 62.931820677065\t\n",
       "current loss = 62.828626887672\t\n",
       "current loss = 62.725499470251\t\n",
       "current loss = 62.622437861086\t\n",
       "current loss = 62.51944150745\t\n",
       "current loss = 62.416509867585\t\n"
      ]
     },
     "execution_count": 12,
     "metadata": {},
     "output_type": "execute_result"
    },
    {
     "data": {
      "text/plain": [
       "current loss = 62.313642410667\t\n",
       "current loss = 62.210838616789\t\n",
       "current loss = 62.108097976922\t\n",
       "current loss = 62.005419992894\t\n",
       "current loss = 61.902804177356\t\n",
       "current loss = 61.800250053748\t\n",
       "current loss = 61.697757156272\t\n",
       "current loss = 61.595325029856\t\n"
      ]
     },
     "execution_count": 12,
     "metadata": {},
     "output_type": "execute_result"
    },
    {
     "data": {
      "text/plain": [
       "current loss = 61.492953230119\t\n",
       "current loss = 61.390641323336\t\n",
       "current loss = 61.288388886402\t\n",
       "current loss = 61.186195506797\t\n",
       "current loss = 61.084060782544\t\n",
       "current loss = 60.981984322173\t\n",
       "current loss = 60.87996574468\t\n",
       "current loss = 60.778004679486\t\n"
      ]
     },
     "execution_count": 12,
     "metadata": {},
     "output_type": "execute_result"
    },
    {
     "data": {
      "text/plain": [
       "current loss = 60.676100766398\t\n",
       "current loss = 60.574253655563\t\n",
       "current loss = 60.472463007424\t\n",
       "current loss = 60.370728492682\t\n",
       "current loss = 60.269049792245\t\n",
       "current loss = 60.167426597183\t\n",
       "current loss = 60.065858608685\t\n"
      ]
     },
     "execution_count": 12,
     "metadata": {},
     "output_type": "execute_result"
    },
    {
     "data": {
      "text/plain": [
       "current loss = 59.964345538007\t\n",
       "current loss = 59.862887106427\t\n",
       "current loss = 59.761483045196\t\n",
       "current loss = 59.660133095485\t\n",
       "current loss = 59.558837008339\t\n",
       "current loss = 59.457594544622\t\n",
       "current loss = 59.356405474968\t\n"
      ]
     },
     "execution_count": 12,
     "metadata": {},
     "output_type": "execute_result"
    },
    {
     "data": {
      "text/plain": [
       "current loss = 59.255269579726\t\n",
       "current loss = 59.154186648907\t\n",
       "current loss = 59.053156482133\t\n",
       "current loss = 58.952178888577\t\n",
       "current loss = 58.851253686913\t\n",
       "current loss = 58.750380705255\t\n",
       "current loss = 58.649559781105\t\n"
      ]
     },
     "execution_count": 12,
     "metadata": {},
     "output_type": "execute_result"
    },
    {
     "data": {
      "text/plain": [
       "current loss = 58.548790761291\t\n",
       "current loss = 58.448073501912\t\n",
       "current loss = 58.347407868279\t\n",
       "current loss = 58.246793734857\t\n",
       "current loss = 58.146230985201\t\n",
       "current loss = 58.0457195119\t\n",
       "current loss = 57.945259216514\t\n"
      ]
     },
     "execution_count": 12,
     "metadata": {},
     "output_type": "execute_result"
    },
    {
     "data": {
      "text/plain": [
       "current loss = 57.844850009513\t\n",
       "current loss = 57.744491810217\t\n",
       "current loss = 57.644184546727\t\n",
       "current loss = 57.54392815587\t\n",
       "current loss = 57.443722583132\t\n",
       "current loss = 57.343567782591\t\n",
       "current loss = 57.243463716857\t\n"
      ]
     },
     "execution_count": 12,
     "metadata": {},
     "output_type": "execute_result"
    },
    {
     "data": {
      "text/plain": [
       "current loss = 57.143410357005\t\n",
       "current loss = 57.04340768251\t\n",
       "current loss = 56.94345568118\t\n",
       "current loss = 56.843554349092\t\n"
      ]
     },
     "execution_count": 12,
     "metadata": {},
     "output_type": "execute_result"
    },
    {
     "data": {
      "text/plain": [
       "current loss = 56.74370369052\t\n",
       "current loss = 56.643903717875\t\n",
       "current loss = 56.544154451632\t\n",
       "current loss = 56.444455920265\t\n",
       "current loss = 56.344808160176\t\n",
       "current loss = 56.245211215629\t\n"
      ]
     },
     "execution_count": 12,
     "metadata": {},
     "output_type": "execute_result"
    },
    {
     "data": {
      "text/plain": [
       "current loss = 56.145665138678\t\n",
       "current loss = 56.0461699891\t\n"
      ]
     },
     "execution_count": 12,
     "metadata": {},
     "output_type": "execute_result"
    },
    {
     "data": {
      "text/plain": [
       "current loss = 55.946725834324\t\n",
       "current loss = 55.847332749362\t\n",
       "current loss = 55.747990816737\t\n",
       "current loss = 55.648700126413\t\n"
      ]
     },
     "execution_count": 12,
     "metadata": {},
     "output_type": "execute_result"
    },
    {
     "data": {
      "text/plain": [
       "current loss = 55.549460775724\t\n",
       "current loss = 55.450272869303\t\n",
       "current loss = 55.35113651901\t\n",
       "current loss = 55.25205184386\t\n",
       "current loss = 55.153018969954\t\n",
       "current loss = 55.054038030399\t\n"
      ]
     },
     "execution_count": 12,
     "metadata": {},
     "output_type": "execute_result"
    },
    {
     "data": {
      "text/plain": [
       "current loss = 54.955109165245\t\n",
       "current loss = 54.856232521406\t\n",
       "current loss = 54.757408252589\t\n",
       "current loss = 54.65863651922\t\n",
       "current loss = 54.559917488374\t\n",
       "current loss = 54.461251333695\t\n"
      ]
     },
     "execution_count": 12,
     "metadata": {},
     "output_type": "execute_result"
    },
    {
     "data": {
      "text/plain": [
       "current loss = 54.36263823533\t\n",
       "current loss = 54.264078379849\t\n",
       "current loss = 54.165571960176\t\n",
       "current loss = 54.067119175511\t\n",
       "current loss = 53.968720231258\t\n",
       "current loss = 53.87037533895\t\n",
       "current loss = 53.772084716174\t\n"
      ]
     },
     "execution_count": 12,
     "metadata": {},
     "output_type": "execute_result"
    },
    {
     "data": {
      "text/plain": [
       "current loss = 53.6738485865\t\n",
       "current loss = 53.575667179402\t\n",
       "current loss = 53.477540730184\t\n",
       "current loss = 53.37946947991\t\n",
       "current loss = 53.281453675322\t\n",
       "current loss = 53.183493568773\t\n",
       "current loss = 53.085589418146\t\n"
      ]
     },
     "execution_count": 12,
     "metadata": {},
     "output_type": "execute_result"
    },
    {
     "data": {
      "text/plain": [
       "current loss = 52.987741486781\t\n",
       "current loss = 52.889950043404\t\n",
       "current loss = 52.792215362046\t\n",
       "current loss = 52.694537721973\t\n",
       "current loss = 52.596917407608\t\n",
       "current loss = 52.49935470846\t\n"
      ]
     },
     "execution_count": 12,
     "metadata": {},
     "output_type": "execute_result"
    },
    {
     "data": {
      "text/plain": [
       "current loss = 52.401849919044\t\n",
       "current loss = 52.304403338812\t\n",
       "current loss = 52.207015272075\t\n",
       "current loss = 52.109686027929\t\n",
       "current loss = 52.012415920181\t\n",
       "current loss = 51.915205267275\t\n"
      ]
     },
     "execution_count": 12,
     "metadata": {},
     "output_type": "execute_result"
    },
    {
     "data": {
      "text/plain": [
       "current loss = 51.818054392215\t\n",
       "current loss = 51.720963622495\t\n",
       "current loss = 51.623933290023\t\n",
       "current loss = 51.526963731045\t\n",
       "current loss = 51.430055286076\t\n",
       "current loss = 51.333208299819\t\n"
      ]
     },
     "execution_count": 12,
     "metadata": {},
     "output_type": "execute_result"
    },
    {
     "data": {
      "text/plain": [
       "current loss = 51.2364231211\t\n",
       "current loss = 51.139700102788\t\n",
       "current loss = 51.043039601723\t\n",
       "current loss = 50.946441978647\t\n",
       "current loss = 50.849907598126\t\n",
       "current loss = 50.753436828478\t\n"
      ]
     },
     "execution_count": 12,
     "metadata": {},
     "output_type": "execute_result"
    },
    {
     "data": {
      "text/plain": [
       "current loss = 50.657030041704\t\n",
       "current loss = 50.560687613412\t\n",
       "current loss = 50.464409922745\t\n",
       "current loss = 50.368197352313\t\n",
       "current loss = 50.272050288114\t\n",
       "current loss = 50.175969119469\t\n"
      ]
     },
     "execution_count": 12,
     "metadata": {},
     "output_type": "execute_result"
    },
    {
     "data": {
      "text/plain": [
       "current loss = 50.07995423895\t\n",
       "current loss = 49.984006042303\t\n",
       "current loss = 49.888124928386\t\n",
       "current loss = 49.79231129909\t\n",
       "current loss = 49.696565559274\t\n",
       "current loss = 49.600888116694\t\n"
      ]
     },
     "execution_count": 12,
     "metadata": {},
     "output_type": "execute_result"
    },
    {
     "data": {
      "text/plain": [
       "current loss = 49.505279381931\t\n",
       "current loss = 49.409739768324\t\n",
       "current loss = 49.314269691899\t\n",
       "current loss = 49.218869571302\t\n",
       "current loss = 49.123539827727\t\n",
       "current loss = 49.028280884851\t\n"
      ]
     },
     "execution_count": 12,
     "metadata": {},
     "output_type": "execute_result"
    },
    {
     "data": {
      "text/plain": [
       "current loss = 48.933093168765\t\n",
       "current loss = 48.837977107904\t\n",
       "current loss = 48.742933132983\t\n",
       "current loss = 48.647961676926\t\n",
       "current loss = 48.553063174803\t\n",
       "current loss = 48.458238063761\t\n"
      ]
     },
     "execution_count": 12,
     "metadata": {},
     "output_type": "execute_result"
    },
    {
     "data": {
      "text/plain": [
       "current loss = 48.36348678296\t\n",
       "current loss = 48.268809773503\t\n",
       "current loss = 48.174207478375\t\n",
       "current loss = 48.079680342377\t\n",
       "current loss = 47.985228812059\t\n",
       "current loss = 47.890853335656\t\n"
      ]
     },
     "execution_count": 12,
     "metadata": {},
     "output_type": "execute_result"
    },
    {
     "data": {
      "text/plain": [
       "current loss = 47.796554363028\t\n",
       "current loss = 47.702332345589\t\n",
       "current loss = 47.608187736253\t\n",
       "current loss = 47.514120989361\t\n",
       "current loss = 47.420132560625\t\n",
       "current loss = 47.326222907067\t\n"
      ]
     },
     "execution_count": 12,
     "metadata": {},
     "output_type": "execute_result"
    },
    {
     "data": {
      "text/plain": [
       "current loss = 47.23239248695\t\n",
       "current loss = 47.138641759724\t\n",
       "current loss = 47.04497118596\t\n",
       "current loss = 46.951381227294\t\n",
       "current loss = 46.857872346361\t\n",
       "current loss = 46.764445006741\t\n",
       "current loss = 46.671099672896\t\n"
      ]
     },
     "execution_count": 12,
     "metadata": {},
     "output_type": "execute_result"
    },
    {
     "data": {
      "text/plain": [
       "current loss = 46.577836810112\t\n",
       "current loss = 46.48465688444\t\n",
       "current loss = 46.39156036264\t\n",
       "current loss = 46.298547712121\t\n",
       "current loss = 46.205619400883\t\n"
      ]
     },
     "execution_count": 12,
     "metadata": {},
     "output_type": "execute_result"
    },
    {
     "data": {
      "text/plain": [
       "current loss = 46.112775897463\t\n",
       "current loss = 46.020017670876\t\n",
       "current loss = 45.927345190563\t\n",
       "current loss = 45.834758926329\t\n",
       "current loss = 45.742259348294\t\n"
      ]
     },
     "execution_count": 12,
     "metadata": {},
     "output_type": "execute_result"
    },
    {
     "data": {
      "text/plain": [
       "current loss = 45.649846926834\t\n",
       "current loss = 45.55752213253\t\n",
       "current loss = 45.465285436111\t\n",
       "current loss = 45.373137308406\t\n",
       "current loss = 45.281078220284\t\n"
      ]
     },
     "execution_count": 12,
     "metadata": {},
     "output_type": "execute_result"
    },
    {
     "data": {
      "text/plain": [
       "current loss = 45.189108642607\t\n",
       "current loss = 45.097229046175\t\n",
       "current loss = 45.005439901678\t\n",
       "current loss = 44.91374167964\t\n",
       "current loss = 44.822134850372\t\n"
      ]
     },
     "execution_count": 12,
     "metadata": {},
     "output_type": "execute_result"
    },
    {
     "data": {
      "text/plain": [
       "current loss = 44.730619883923\t\n",
       "current loss = 44.639197250025\t\n",
       "current loss = 44.547867418049\t\n",
       "current loss = 44.456630856954\t\n",
       "current loss = 44.365488035239\t\n",
       "current loss = 44.274439420894\t\n"
      ]
     },
     "execution_count": 12,
     "metadata": {},
     "output_type": "execute_result"
    },
    {
     "data": {
      "text/plain": [
       "current loss = 44.183485481356\t\n",
       "current loss = 44.092626683459\t\n",
       "current loss = 44.001863493388\t\n",
       "current loss = 43.911196376635\t\n",
       "current loss = 43.820625797952\t\n",
       "current loss = 43.730152221306\t\n"
      ]
     },
     "execution_count": 12,
     "metadata": {},
     "output_type": "execute_result"
    },
    {
     "data": {
      "text/plain": [
       "current loss = 43.639776109834\t\n",
       "current loss = 43.5494979258\t\n",
       "current loss = 43.459318130554\t\n",
       "current loss = 43.369237184482\t\n",
       "current loss = 43.27925554697\t\n",
       "current loss = 43.189373676359\t\n",
       "current loss = 43.099592029904\t\n"
      ]
     },
     "execution_count": 12,
     "metadata": {},
     "output_type": "execute_result"
    },
    {
     "data": {
      "text/plain": [
       "current loss = 43.009911063731\t\n",
       "current loss = 42.920331232801\t\n",
       "current loss = 42.830852990863\t\n",
       "current loss = 42.741476790421\t\n",
       "current loss = 42.652203082689\t\n",
       "current loss = 42.563032317559\t\n"
      ]
     },
     "execution_count": 12,
     "metadata": {},
     "output_type": "execute_result"
    },
    {
     "data": {
      "text/plain": [
       "current loss = 42.473964943554\t\n",
       "current loss = 42.385001407798\t\n",
       "current loss = 42.296142155973\t\n",
       "current loss = 42.207387632287\t\n",
       "current loss = 42.118738279434\t\n",
       "current loss = 42.030194538559\t\n"
      ]
     },
     "execution_count": 12,
     "metadata": {},
     "output_type": "execute_result"
    },
    {
     "data": {
      "text/plain": [
       "current loss = 41.941756849222\t\n",
       "current loss = 41.853425649366\t\n",
       "current loss = 41.765201375278\t\n",
       "current loss = 41.67708446156\t\n",
       "current loss = 41.589075341089\t\n"
      ]
     },
     "execution_count": 12,
     "metadata": {},
     "output_type": "execute_result"
    },
    {
     "data": {
      "text/plain": [
       "current loss = 41.50117444499\t\n",
       "current loss = 41.413382202601\t\n",
       "current loss = 41.32569904144\t\n",
       "current loss = 41.238125387174\t\n",
       "current loss = 41.150661663589\t\n",
       "current loss = 41.063308292557\t\n",
       "current loss = 40.976065694006\t\n"
      ]
     },
     "execution_count": 12,
     "metadata": {},
     "output_type": "execute_result"
    },
    {
     "data": {
      "text/plain": [
       "current loss = 40.888934285894\t\n",
       "current loss = 40.801914484173\t\n",
       "current loss = 40.715006702767\t\n",
       "current loss = 40.628211353538\t\n",
       "current loss = 40.54152884626\t\n",
       "current loss = 40.454959588595\t\n"
      ]
     },
     "execution_count": 12,
     "metadata": {},
     "output_type": "execute_result"
    },
    {
     "data": {
      "text/plain": [
       "current loss = 40.368503986058\t\n",
       "current loss = 40.282162441998\t\n",
       "current loss = 40.195935357568\t\n",
       "current loss = 40.109823131701\t\n",
       "current loss = 40.023826161082\t\n",
       "current loss = 39.937944840126\t\n"
      ]
     },
     "execution_count": 12,
     "metadata": {},
     "output_type": "execute_result"
    },
    {
     "data": {
      "text/plain": [
       "current loss = 39.852179560953\t\n",
       "current loss = 39.766530713363\t\n",
       "current loss = 39.680998684812\t\n",
       "current loss = 39.595583860393\t\n",
       "current loss = 39.510286622807\t\n",
       "current loss = 39.425107352346\t\n"
      ]
     },
     "execution_count": 12,
     "metadata": {},
     "output_type": "execute_result"
    },
    {
     "data": {
      "text/plain": [
       "current loss = 39.340046426871\t\n",
       "current loss = 39.255104221785\t\n",
       "current loss = 39.170281110019\t\n",
       "current loss = 39.085577462009\t\n",
       "current loss = 39.000993645674\t\n"
      ]
     },
     "execution_count": 12,
     "metadata": {},
     "output_type": "execute_result"
    },
    {
     "data": {
      "text/plain": [
       "current loss = 38.916530026398\t\n",
       "current loss = 38.832186967014\t\n",
       "current loss = 38.747964827777\t\n"
      ]
     },
     "execution_count": 12,
     "metadata": {},
     "output_type": "execute_result"
    },
    {
     "data": {
      "text/plain": [
       "current loss = 38.663863966354\t\n",
       "current loss = 38.579884737802\t\n",
       "current loss = 38.496027494551\t\n"
      ]
     },
     "execution_count": 12,
     "metadata": {},
     "output_type": "execute_result"
    },
    {
     "data": {
      "text/plain": [
       "current loss = 38.412292586387\t\n",
       "current loss = 38.328680360434\t\n"
      ]
     },
     "execution_count": 12,
     "metadata": {},
     "output_type": "execute_result"
    },
    {
     "data": {
      "text/plain": [
       "current loss = 38.245191161141\t\n"
      ]
     },
     "execution_count": 12,
     "metadata": {},
     "output_type": "execute_result"
    },
    {
     "data": {
      "text/plain": [
       "current loss = 38.161825330261\t\n"
      ]
     },
     "execution_count": 12,
     "metadata": {},
     "output_type": "execute_result"
    },
    {
     "data": {
      "text/plain": [
       "current loss = 38.078583206843\t\n"
      ]
     },
     "execution_count": 12,
     "metadata": {},
     "output_type": "execute_result"
    },
    {
     "data": {
      "text/plain": [
       "current loss = 37.995465127207\t\n",
       "current loss = 37.912471424938\t\n"
      ]
     },
     "execution_count": 12,
     "metadata": {},
     "output_type": "execute_result"
    },
    {
     "data": {
      "text/plain": [
       "current loss = 37.829602430868\t\n"
      ]
     },
     "execution_count": 12,
     "metadata": {},
     "output_type": "execute_result"
    },
    {
     "data": {
      "text/plain": [
       "current loss = 37.746858473059\t\n",
       "current loss = 37.664239876797\t\n",
       "current loss = 37.581746964572\t\n",
       "current loss = 37.499380056068\t\n",
       "current loss = 37.417139468149\t\n"
      ]
     },
     "execution_count": 12,
     "metadata": {},
     "output_type": "execute_result"
    },
    {
     "data": {
      "text/plain": [
       "current loss = 37.335025514852\t\n",
       "current loss = 37.253038507366\t\n",
       "current loss = 37.17117875403\t\n",
       "current loss = 37.089446560318\t\n",
       "current loss = 37.007842228827\t\n",
       "current loss = 36.926366059269\t\n",
       "current loss = 36.845018348461\t\n",
       "current loss = 36.763799390316\t\n"
      ]
     },
     "execution_count": 12,
     "metadata": {},
     "output_type": "execute_result"
    },
    {
     "data": {
      "text/plain": [
       "current loss = 36.682709475831\t\n",
       "current loss = 36.60174889308\t\n",
       "current loss = 36.520917927208\t\n",
       "current loss = 36.440216860419\t\n",
       "current loss = 36.359645971969\t\n",
       "current loss = 36.279205538163\t\n",
       "current loss = 36.19889583234\t\n"
      ]
     },
     "execution_count": 12,
     "metadata": {},
     "output_type": "execute_result"
    },
    {
     "data": {
      "text/plain": [
       "current loss = 36.118717124874\t\n",
       "current loss = 36.038669683161\t\n",
       "current loss = 35.958753771621\t\n",
       "current loss = 35.878969651682\t\n",
       "current loss = 35.799317581784\t\n",
       "current loss = 35.719797817368\t\n",
       "current loss = 35.640410610873\t\n",
       "current loss = 35.561156211734\t\n"
      ]
     },
     "execution_count": 12,
     "metadata": {},
     "output_type": "execute_result"
    },
    {
     "data": {
      "text/plain": [
       "current loss = 35.482034866373\t\n",
       "current loss = 35.403046818198\t\n",
       "current loss = 35.3241923076\t\n",
       "current loss = 35.245471571948\t\n",
       "current loss = 35.166884845588\t\n",
       "current loss = 35.088432359838\t\n"
      ]
     },
     "execution_count": 12,
     "metadata": {},
     "output_type": "execute_result"
    },
    {
     "data": {
      "text/plain": [
       "current loss = 35.010114342989\t\n",
       "current loss = 34.931931020299\t\n",
       "current loss = 34.853882613993\t\n",
       "current loss = 34.775969343263\t\n",
       "current loss = 34.698191424265\t\n",
       "current loss = 34.620549070119\t\n"
      ]
     },
     "execution_count": 12,
     "metadata": {},
     "output_type": "execute_result"
    },
    {
     "data": {
      "text/plain": [
       "current loss = 34.543042490906\t\n",
       "current loss = 34.465671893672\t\n",
       "current loss = 34.388437482424\t\n",
       "current loss = 34.311339458132\t\n",
       "current loss = 34.234378018729\t\n",
       "current loss = 34.157553359113\t\n"
      ]
     },
     "execution_count": 12,
     "metadata": {},
     "output_type": "execute_result"
    },
    {
     "data": {
      "text/plain": [
       "current loss = 34.080865671145\t\n",
       "current loss = 34.004315143652\t\n",
       "current loss = 33.92790196243\t\n",
       "current loss = 33.851626310243\t\n",
       "current loss = 33.775488366826\t\n",
       "current loss = 33.699488308889\t\n"
      ]
     },
     "execution_count": 12,
     "metadata": {},
     "output_type": "execute_result"
    },
    {
     "data": {
      "text/plain": [
       "current loss = 33.623626310116\t\n",
       "current loss = 33.547902541169\t\n",
       "current loss = 33.472317169695\t\n",
       "current loss = 33.396870360321\t\n",
       "current loss = 33.321562274666\t\n",
       "current loss = 33.246393071338\t\n"
      ]
     },
     "execution_count": 12,
     "metadata": {},
     "output_type": "execute_result"
    },
    {
     "data": {
      "text/plain": [
       "current loss = 33.171362905942\t\n",
       "current loss = 33.096471931082\t\n",
       "current loss = 33.021720296365\t\n",
       "current loss = 32.947108148409\t\n",
       "current loss = 32.872635630843\t\n",
       "current loss = 32.798302884314\t\n",
       "current loss = 32.724110046493\t\n"
      ]
     },
     "execution_count": 12,
     "metadata": {},
     "output_type": "execute_result"
    },
    {
     "data": {
      "text/plain": [
       "current loss = 32.65005725208\t\n",
       "current loss = 32.576144632807\t\n",
       "current loss = 32.502372317449\t\n",
       "current loss = 32.428740431824\t\n",
       "current loss = 32.355249098804\t\n",
       "current loss = 32.281898438316\t\n"
      ]
     },
     "execution_count": 12,
     "metadata": {},
     "output_type": "execute_result"
    },
    {
     "data": {
      "text/plain": [
       "current loss = 32.208688567357\t\n",
       "current loss = 32.135619599991\t\n",
       "current loss = 32.062691647363\t\n",
       "current loss = 31.989904817701\t\n",
       "current loss = 31.917259216329\t\n",
       "current loss = 31.844754945668\t\n"
      ]
     },
     "execution_count": 12,
     "metadata": {},
     "output_type": "execute_result"
    },
    {
     "data": {
      "text/plain": [
       "current loss = 31.772392105249\t\n",
       "current loss = 31.700170791717\t\n",
       "current loss = 31.628091098841\t\n",
       "current loss = 31.556153117522\t\n",
       "current loss = 31.484356935801\t\n",
       "current loss = 31.412702638865\t\n"
      ]
     },
     "execution_count": 12,
     "metadata": {},
     "output_type": "execute_result"
    },
    {
     "data": {
      "text/plain": [
       "current loss = 31.34119030906\t\n",
       "current loss = 31.269820025898\t\n",
       "current loss = 31.198591866063\t\n",
       "current loss = 31.127505903424\t\n",
       "current loss = 31.056562209043\t\n",
       "current loss = 30.985760851182\t\n",
       "current loss = 30.915101895317\t\n"
      ]
     },
     "execution_count": 12,
     "metadata": {},
     "output_type": "execute_result"
    },
    {
     "data": {
      "text/plain": [
       "current loss = 30.844585404143\t\n",
       "current loss = 30.774211437586\t\n",
       "current loss = 30.703980052814\t\n",
       "current loss = 30.633891304244\t\n",
       "current loss = 30.563945243554\t\n",
       "current loss = 30.494141919693\t\n",
       "current loss = 30.424481378892\t\n",
       "current loss = 30.354963664674\t\n",
       "current loss = 30.285588817863\t\n"
      ]
     },
     "execution_count": 12,
     "metadata": {},
     "output_type": "execute_result"
    },
    {
     "data": {
      "text/plain": [
       "current loss = 30.216356876599\t\n",
       "current loss = 30.147267876342\t\n",
       "current loss = 30.078321849891\t\n",
       "current loss = 30.009518827388\t\n",
       "current loss = 29.940858836336\t\n",
       "current loss = 29.872341901602\t\n",
       "current loss = 29.803968045437\t\n",
       "current loss = 29.735737287482\t\n"
      ]
     },
     "execution_count": 12,
     "metadata": {},
     "output_type": "execute_result"
    },
    {
     "data": {
      "text/plain": [
       "current loss = 29.66764964478\t\n",
       "current loss = 29.59970513179\t\n",
       "current loss = 29.531903760398\t\n",
       "current loss = 29.464245539927\t\n",
       "current loss = 29.396730477152\t\n",
       "current loss = 29.329358576308\t\n"
      ]
     },
     "execution_count": 12,
     "metadata": {},
     "output_type": "execute_result"
    },
    {
     "data": {
      "text/plain": [
       "current loss = 29.262129839108\t\n",
       "current loss = 29.19504426475\t\n",
       "current loss = 29.12810184993\t\n",
       "current loss = 29.061302588857\t\n",
       "current loss = 28.994646473265\t\n",
       "current loss = 28.928133492422\t\n"
      ]
     },
     "execution_count": 12,
     "metadata": {},
     "output_type": "execute_result"
    },
    {
     "data": {
      "text/plain": [
       "current loss = 28.861763633146\t\n",
       "current loss = 28.795536879818\t\n",
       "current loss = 28.729453214392\t\n",
       "current loss = 28.66351261641\t\n",
       "current loss = 28.597715063016\t\n",
       "current loss = 28.532060528963\t\n",
       "current loss = 28.466548986635\t\n",
       "current loss = 28.401180406051\t\n"
      ]
     },
     "execution_count": 12,
     "metadata": {},
     "output_type": "execute_result"
    },
    {
     "data": {
      "text/plain": [
       "current loss = 28.335954754886\t\n",
       "current loss = 28.270871998479\t\n",
       "current loss = 28.205932099847\t\n",
       "current loss = 28.141135019701\t\n",
       "current loss = 28.076480716455\t\n",
       "current loss = 28.011969146245\t\n",
       "current loss = 27.947600262936\t\n"
      ]
     },
     "execution_count": 12,
     "metadata": {},
     "output_type": "execute_result"
    },
    {
     "data": {
      "text/plain": [
       "current loss = 27.883374018142\t\n",
       "current loss = 27.819290361233\t\n",
       "current loss = 27.755349239355\t\n",
       "current loss = 27.691550597438\t\n",
       "current loss = 27.627894378213\t\n",
       "current loss = 27.564380522226\t\n",
       "current loss = 27.501008967848\t\n"
      ]
     },
     "execution_count": 12,
     "metadata": {},
     "output_type": "execute_result"
    },
    {
     "data": {
      "text/plain": [
       "current loss = 27.437779651293\t\n",
       "current loss = 27.374692506629\t\n",
       "current loss = 27.311747465795\t\n",
       "current loss = 27.248944458609\t\n",
       "current loss = 27.186283412789\t\n",
       "current loss = 27.123764253961\t\n",
       "current loss = 27.061386905677\t\n"
      ]
     },
     "execution_count": 12,
     "metadata": {},
     "output_type": "execute_result"
    },
    {
     "data": {
      "text/plain": [
       "current loss = 26.999151289427\t\n",
       "current loss = 26.937057324651\t\n",
       "current loss = 26.875104928758\t\n",
       "current loss = 26.813294017137\t\n",
       "current loss = 26.751624503169\t\n",
       "current loss = 26.690096298245\t\n",
       "current loss = 26.628709311777\t\n",
       "current loss = 26.567463451215\t\n"
      ]
     },
     "execution_count": 12,
     "metadata": {},
     "output_type": "execute_result"
    },
    {
     "data": {
      "text/plain": [
       "current loss = 26.506358622058\t\n",
       "current loss = 26.44539472787\t\n",
       "current loss = 26.384571670293\t\n",
       "current loss = 26.323889349061\t\n",
       "current loss = 26.263347662018\t\n",
       "current loss = 26.202946505123\t\n",
       "current loss = 26.142685772476\t\n"
      ]
     },
     "execution_count": 12,
     "metadata": {},
     "output_type": "execute_result"
    },
    {
     "data": {
      "text/plain": [
       "current loss = 26.082565356322\t\n",
       "current loss = 26.022585147069\t\n",
       "current loss = 25.962745033304\t\n",
       "current loss = 25.903044901805\t\n",
       "current loss = 25.843484637554\t\n",
       "current loss = 25.784064123754\t\n",
       "current loss = 25.724783241839\t\n",
       "current loss = 25.665641871494\t\n"
      ]
     },
     "execution_count": 12,
     "metadata": {},
     "output_type": "execute_result"
    },
    {
     "data": {
      "text/plain": [
       "current loss = 25.606639890662\t\n",
       "current loss = 25.547777175564\t\n",
       "current loss = 25.48905360071\t\n",
       "current loss = 25.430469038914\t\n",
       "current loss = 25.372023361308\t\n",
       "current loss = 25.313716437354\t\n",
       "current loss = 25.255548134862\t\n",
       "current loss = 25.19751832\t\n"
      ]
     },
     "execution_count": 12,
     "metadata": {},
     "output_type": "execute_result"
    },
    {
     "data": {
      "text/plain": [
       "current loss = 25.13962685731\t\n",
       "current loss = 25.081873609723\t\n",
       "current loss = 25.02425843857\t\n",
       "current loss = 24.966781203598\t\n",
       "current loss = 24.909441762982\t\n",
       "current loss = 24.852239973343\t\n",
       "current loss = 24.795175689756\t\n"
      ]
     },
     "execution_count": 12,
     "metadata": {},
     "output_type": "execute_result"
    },
    {
     "data": {
      "text/plain": [
       "current loss = 24.738248765768\t\n",
       "current loss = 24.681459053412\t\n",
       "current loss = 24.624806403217\t\n",
       "current loss = 24.568290664225\t\n",
       "current loss = 24.511911684004\t\n",
       "current loss = 24.455669308661\t\n",
       "current loss = 24.399563382857\t\n",
       "current loss = 24.343593749818\t\n"
      ]
     },
     "execution_count": 12,
     "metadata": {},
     "output_type": "execute_result"
    },
    {
     "data": {
      "text/plain": [
       "current loss = 24.287760251353\t\n",
       "current loss = 24.232062727862\t\n",
       "current loss = 24.176501018354\t\n",
       "current loss = 24.121074960459\t\n",
       "current loss = 24.06578439044\t\n",
       "current loss = 24.01062914321\t\n",
       "current loss = 23.955609052342\t\n",
       "current loss = 23.900723950082\t\n"
      ]
     },
     "execution_count": 12,
     "metadata": {},
     "output_type": "execute_result"
    },
    {
     "data": {
      "text/plain": [
       "current loss = 23.845973667367\t\n",
       "current loss = 23.791358033832\t\n",
       "current loss = 23.736876877828\t\n",
       "current loss = 23.682530026435\t\n",
       "current loss = 23.62831730547\t\n",
       "current loss = 23.574238539507\t\n",
       "current loss = 23.520293551886\t\n"
      ]
     },
     "execution_count": 12,
     "metadata": {},
     "output_type": "execute_result"
    },
    {
     "data": {
      "text/plain": [
       "current loss = 23.466482164726\t\n",
       "current loss = 23.412804198942\t\n",
       "current loss = 23.359259474251\t\n",
       "current loss = 23.305847809192\t\n",
       "current loss = 23.252569021134\t\n",
       "current loss = 23.199422926292\t\n",
       "current loss = 23.146409339737\t\n",
       "current loss = 23.09352807541\t\n"
      ]
     },
     "execution_count": 12,
     "metadata": {},
     "output_type": "execute_result"
    },
    {
     "data": {
      "text/plain": [
       "current loss = 23.040778946137\t\n",
       "current loss = 22.988161763637\t\n",
       "current loss = 22.935676338539\t\n",
       "current loss = 22.883322480391\t\n",
       "current loss = 22.831099997675\t\n",
       "current loss = 22.779008697819\t\n",
       "current loss = 22.727048387208\t\n",
       "current loss = 22.675218871198\t\n"
      ]
     },
     "execution_count": 12,
     "metadata": {},
     "output_type": "execute_result"
    },
    {
     "data": {
      "text/plain": [
       "current loss = 22.623519954128\t\n",
       "current loss = 22.571951439332\t\n",
       "current loss = 22.52051312915\t\n",
       "current loss = 22.469204824943\t\n",
       "current loss = 22.418026327101\t\n",
       "current loss = 22.366977435062\t\n",
       "current loss = 22.316057947315\t\n",
       "current loss = 22.265267661418\t\n"
      ]
     },
     "execution_count": 12,
     "metadata": {},
     "output_type": "execute_result"
    },
    {
     "data": {
      "text/plain": [
       "current loss = 22.21460637401\t\n",
       "current loss = 22.164073880819\t\n",
       "current loss = 22.113669976678\t\n",
       "current loss = 22.063394455533\t\n",
       "current loss = 22.013247110458\t\n",
       "current loss = 21.963227733665\t\n",
       "current loss = 21.913336116515\t\n"
      ]
     },
     "execution_count": 12,
     "metadata": {},
     "output_type": "execute_result"
    },
    {
     "data": {
      "text/plain": [
       "current loss = 21.86357204953\t\n",
       "current loss = 21.813935322407\t\n",
       "current loss = 21.764425724026\t\n",
       "current loss = 21.71504304246\t\n",
       "current loss = 21.665787064994\t\n",
       "current loss = 21.616657578126\t\n",
       "current loss = 21.567654367587\t\n",
       "current loss = 21.518777218347\t\n"
      ]
     },
     "execution_count": 12,
     "metadata": {},
     "output_type": "execute_result"
    },
    {
     "data": {
      "text/plain": [
       "current loss = 21.470025914628\t\n",
       "current loss = 21.421400239914\t\n",
       "current loss = 21.372899976964\t\n",
       "current loss = 21.324524907819\t\n",
       "current loss = 21.276274813818\t\n",
       "current loss = 21.228149475605\t\n",
       "current loss = 21.180148673141\t\n"
      ]
     },
     "execution_count": 12,
     "metadata": {},
     "output_type": "execute_result"
    },
    {
     "data": {
      "text/plain": [
       "current loss = 21.132272185715\t\n",
       "current loss = 21.084519791954\t\n",
       "current loss = 21.036891269833\t\n",
       "current loss = 20.989386396688\t\n",
       "current loss = 20.942004949224\t\n"
      ]
     },
     "execution_count": 12,
     "metadata": {},
     "output_type": "execute_result"
    },
    {
     "data": {
      "text/plain": [
       "current loss = 20.894746703526\t\n",
       "current loss = 20.847611435069\t\n",
       "current loss = 20.800598918731\t\n",
       "current loss = 20.753708928798\t\n",
       "current loss = 20.706941238981\t\n",
       "current loss = 20.660295622418\t\n",
       "current loss = 20.613771851692\t\n"
      ]
     },
     "execution_count": 12,
     "metadata": {},
     "output_type": "execute_result"
    },
    {
     "data": {
      "text/plain": [
       "current loss = 20.567369698836\t\n",
       "current loss = 20.521088935344\t\n",
       "current loss = 20.474929332181\t\n",
       "current loss = 20.428890659794\t\n",
       "current loss = 20.38297268812\t\n",
       "current loss = 20.337175186596\t\n",
       "current loss = 20.291497924171\t\n",
       "current loss = 20.245940669312\t\n",
       "current loss = 20.200503190015\t\n"
      ]
     },
     "execution_count": 12,
     "metadata": {},
     "output_type": "execute_result"
    },
    {
     "data": {
      "text/plain": [
       "current loss = 20.155185253815\t\n",
       "current loss = 20.109986627795\t\n",
       "current loss = 20.064907078596\t\n",
       "current loss = 20.019946372425\t\n",
       "current loss = 19.975104275065\t\n",
       "current loss = 19.930380551883\t\n",
       "current loss = 19.885774967843\t\n"
      ]
     },
     "execution_count": 12,
     "metadata": {},
     "output_type": "execute_result"
    },
    {
     "data": {
      "text/plain": [
       "current loss = 19.841287287508\t\n",
       "current loss = 19.796917275057\t\n",
       "current loss = 19.752664694287\t\n",
       "current loss = 19.708529308627\t\n",
       "current loss = 19.664510881144\t\n",
       "current loss = 19.620609174552\t\n",
       "current loss = 19.576823951223\t\n"
      ]
     },
     "execution_count": 12,
     "metadata": {},
     "output_type": "execute_result"
    },
    {
     "data": {
      "text/plain": [
       "current loss = 19.53315497319\t\n",
       "current loss = 19.489602002164\t\n",
       "current loss = 19.446164799533\t\n",
       "current loss = 19.402843126381\t\n",
       "current loss = 19.359636743485\t\n",
       "current loss = 19.316545411332\t\n"
      ]
     },
     "execution_count": 12,
     "metadata": {},
     "output_type": "execute_result"
    },
    {
     "data": {
      "text/plain": [
       "current loss = 19.273568890124\t\n",
       "current loss = 19.230706939787\t\n",
       "current loss = 19.187959319978\t\n",
       "current loss = 19.145325790093\t\n",
       "current loss = 19.102806109276\t\n",
       "current loss = 19.060400036429\t\n",
       "current loss = 19.018107330214\t\n",
       "current loss = 18.975927749069\t\n"
      ]
     },
     "execution_count": 12,
     "metadata": {},
     "output_type": "execute_result"
    },
    {
     "data": {
      "text/plain": [
       "current loss = 18.933861051207\t\n",
       "current loss = 18.89190699463\t\n",
       "current loss = 18.850065337137\t\n",
       "current loss = 18.808335836325\t\n",
       "current loss = 18.766718249605\t\n",
       "current loss = 18.725212334203\t\n",
       "current loss = 18.683817847171\t\n",
       "current loss = 18.642534545394\t\n"
      ]
     },
     "execution_count": 12,
     "metadata": {},
     "output_type": "execute_result"
    },
    {
     "data": {
      "text/plain": [
       "current loss = 18.601362185596\t\n",
       "current loss = 18.560300524347\t\n",
       "current loss = 18.519349318074\t\n",
       "current loss = 18.478508323064\t\n",
       "current loss = 18.437777295471\t\n",
       "current loss = 18.397155991327\t\n",
       "current loss = 18.356644166545\t\n"
      ]
     },
     "execution_count": 12,
     "metadata": {},
     "output_type": "execute_result"
    },
    {
     "data": {
      "text/plain": [
       "current loss = 18.316241576931\t\n",
       "current loss = 18.275947978182\t\n",
       "current loss = 18.235763125904\t\n",
       "current loss = 18.195686775608\t\n",
       "current loss = 18.155718682727\t\n",
       "current loss = 18.115858602613\t\n",
       "current loss = 18.07610629055\t\n",
       "current loss = 18.036461501761\t\n"
      ]
     },
     "execution_count": 12,
     "metadata": {},
     "output_type": "execute_result"
    },
    {
     "data": {
      "text/plain": [
       "current loss = 17.996923991409\t\n",
       "current loss = 17.957493514607\t\n",
       "current loss = 17.918169826427\t\n",
       "current loss = 17.878952681901\t\n",
       "current loss = 17.839841836029\t\n",
       "current loss = 17.800837043789\t\n",
       "current loss = 17.761938060139\t\n",
       "current loss = 17.723144640022\t\n"
      ]
     },
     "execution_count": 12,
     "metadata": {},
     "output_type": "execute_result"
    },
    {
     "data": {
      "text/plain": [
       "current loss = 17.684456538378\t\n",
       "current loss = 17.645873510145\t\n",
       "current loss = 17.607395310266\t\n",
       "current loss = 17.569021693696\t\n",
       "current loss = 17.530752415406\t\n",
       "current loss = 17.492587230393\t\n",
       "current loss = 17.454525893681\t\n",
       "current loss = 17.416568160327\t\n"
      ]
     },
     "execution_count": 12,
     "metadata": {},
     "output_type": "execute_result"
    },
    {
     "data": {
      "text/plain": [
       "current loss = 17.378713785431\t\n",
       "current loss = 17.340962524138\t\n",
       "current loss = 17.303314131643\t\n",
       "current loss = 17.265768363201\t\n",
       "current loss = 17.228324974127\t\n",
       "current loss = 17.190983719804\t\n",
       "current loss = 17.153744355688\t\n"
      ]
     },
     "execution_count": 12,
     "metadata": {},
     "output_type": "execute_result"
    },
    {
     "data": {
      "text/plain": [
       "current loss = 17.116606637316\t\n",
       "current loss = 17.079570320306\t\n",
       "current loss = 17.042635160366\t\n",
       "current loss = 17.005800913299\t\n",
       "current loss = 16.969067335006\t\n",
       "current loss = 16.932434181492\t\n",
       "current loss = 16.895901208873\t\n",
       "current loss = 16.85946817338\t\n"
      ]
     },
     "execution_count": 12,
     "metadata": {},
     "output_type": "execute_result"
    },
    {
     "data": {
      "text/plain": [
       "current loss = 16.823134831359\t\n",
       "current loss = 16.786900939286\t\n",
       "current loss = 16.750766253762\t\n",
       "current loss = 16.714730531522\t\n",
       "current loss = 16.678793529442\t\n",
       "current loss = 16.642955004538\t\n",
       "current loss = 16.607214713977\t\n"
      ]
     },
     "execution_count": 12,
     "metadata": {},
     "output_type": "execute_result"
    },
    {
     "data": {
      "text/plain": [
       "current loss = 16.571572415077\t\n",
       "current loss = 16.536027865311\t\n",
       "current loss = 16.500580822318\t\n",
       "current loss = 16.465231043898\t\n",
       "current loss = 16.429978288026\t\n",
       "current loss = 16.394822312849\t\n",
       "current loss = 16.359762876692\t\n",
       "current loss = 16.324799738067\t\n"
      ]
     },
     "execution_count": 12,
     "metadata": {},
     "output_type": "execute_result"
    },
    {
     "data": {
      "text/plain": [
       "current loss = 16.289932655671\t\n",
       "current loss = 16.255161388394\t\n",
       "current loss = 16.220485695319\t\n",
       "current loss = 16.185905335734\t\n",
       "current loss = 16.151420069126\t\n",
       "current loss = 16.117029655195\t\n",
       "current loss = 16.082733853849\t\n"
      ]
     },
     "execution_count": 12,
     "metadata": {},
     "output_type": "execute_result"
    },
    {
     "data": {
      "text/plain": [
       "current loss = 16.048532425213\t\n",
       "current loss = 16.014425129634\t\n",
       "current loss = 15.98041172768\t\n",
       "current loss = 15.946491980149\t\n",
       "current loss = 15.912665648067\t\n",
       "current loss = 15.878932492699\t\n",
       "current loss = 15.845292275545\t\n"
      ]
     },
     "execution_count": 12,
     "metadata": {},
     "output_type": "execute_result"
    },
    {
     "data": {
      "text/plain": [
       "current loss = 15.811744758351\t\n",
       "current loss = 15.778289703105\t\n",
       "current loss = 15.744926872048\t\n",
       "current loss = 15.711656027671\t\n",
       "current loss = 15.678476932724\t\n",
       "current loss = 15.645389350215\t\n",
       "current loss = 15.612393043416\t\n",
       "current loss = 15.579487775867\t\n"
      ]
     },
     "execution_count": 12,
     "metadata": {},
     "output_type": "execute_result"
    },
    {
     "data": {
      "text/plain": [
       "current loss = 15.546673311375\t\n",
       "current loss = 15.513949414024\t\n",
       "current loss = 15.48131584817\t\n",
       "current loss = 15.448772378453\t\n",
       "current loss = 15.416318769792\t\n",
       "current loss = 15.383954787396\t\n"
      ]
     },
     "execution_count": 12,
     "metadata": {},
     "output_type": "execute_result"
    },
    {
     "data": {
      "text/plain": [
       "current loss = 15.35168019676\t\n"
      ]
     },
     "execution_count": 12,
     "metadata": {},
     "output_type": "execute_result"
    },
    {
     "data": {
      "text/plain": [
       "current loss = 15.319494763672\t\n",
       "current loss = 15.287398254214\t\n",
       "current loss = 15.25539043477\t"
      ]
     },
     "execution_count": 12,
     "metadata": {},
     "output_type": "execute_result"
    },
    {
     "data": {
      "text/plain": [
       "\n",
       "current loss = 15.22347107202\t\n",
       "current loss = 15.19163993295\t\n",
       "current loss = 15.159896784855\t\n",
       "current loss = 15.128241395335\t\n",
       "current loss = 15.096673532307\t\n",
       "current loss = 15.065192964001\t\n"
      ]
     },
     "execution_count": 12,
     "metadata": {},
     "output_type": "execute_result"
    },
    {
     "data": {
      "text/plain": [
       "current loss = 15.033799458964\t\n",
       "current loss = 15.002492786064\t\n",
       "current loss = 14.971272714495\t\n",
       "current loss = 14.940139013773\t\n"
      ]
     },
     "execution_count": 12,
     "metadata": {},
     "output_type": "execute_result"
    },
    {
     "data": {
      "text/plain": [
       "current loss = 14.909091453744\t\n",
       "current loss = 14.878129804586\t\n",
       "current loss = 14.847253836808\t\n",
       "current loss = 14.816463321258\t\n",
       "current loss = 14.78575802912\t\n",
       "current loss = 14.755137731919\t\n"
      ]
     },
     "execution_count": 12,
     "metadata": {},
     "output_type": "execute_result"
    },
    {
     "data": {
      "text/plain": [
       "current loss = 14.724602201526\t\n",
       "current loss = 14.694151210153\t\n",
       "current loss = 14.663784530364\t\n",
       "current loss = 14.63350193507\t\n",
       "current loss = 14.603303197537\t\n",
       "current loss = 14.573188091383\t\n"
      ]
     },
     "execution_count": 12,
     "metadata": {},
     "output_type": "execute_result"
    },
    {
     "data": {
      "text/plain": [
       "current loss = 14.543156390585\t\n",
       "current loss = 14.513207869479\t\n",
       "current loss = 14.483342302759\t\n",
       "current loss = 14.453559465486\t\n",
       "current loss = 14.423859133085\t\n",
       "current loss = 14.394241081346\t\n",
       "current loss = 14.364705086432\t\n"
      ]
     },
     "execution_count": 12,
     "metadata": {},
     "output_type": "execute_result"
    },
    {
     "data": {
      "text/plain": [
       "current loss = 14.335250924874\t\n",
       "current loss = 14.305878373577\t\n",
       "current loss = 14.276587209823\t\n",
       "current loss = 14.24737721127\t\n",
       "current loss = 14.218248155952\t\n",
       "current loss = 14.189199822288\t\n"
      ]
     },
     "execution_count": 12,
     "metadata": {},
     "output_type": "execute_result"
    },
    {
     "data": {
      "text/plain": [
       "current loss = 14.160231989076\t\n",
       "current loss = 14.131344435501\t\n",
       "current loss = 14.102536941132\t\n",
       "current loss = 14.073809285925\t\n",
       "current loss = 14.045161250228\t\n",
       "current loss = 14.016592614779\t"
      ]
     },
     "execution_count": 12,
     "metadata": {},
     "output_type": "execute_result"
    },
    {
     "data": {
      "text/plain": [
       "\n",
       "current loss = 13.988103160706\t\n",
       "current loss = 13.959692669535\t\n",
       "current loss = 13.931360923185\t\n",
       "current loss = 13.903107703975\t\n",
       "current loss = 13.87493279462\t\n"
      ]
     },
     "execution_count": 12,
     "metadata": {},
     "output_type": "execute_result"
    },
    {
     "data": {
      "text/plain": [
       "current loss = 13.846835978236\t\n",
       "current loss = 13.818817038343\t\n",
       "current loss = 13.790875758862\t\n",
       "current loss = 13.763011924118\t\n",
       "current loss = 13.735225318846\t\n",
       "current loss = 13.707515728183\t\n"
      ]
     },
     "execution_count": 12,
     "metadata": {},
     "output_type": "execute_result"
    },
    {
     "data": {
      "text/plain": [
       "current loss = 13.679882937679\t\n",
       "current loss = 13.652326733292\t\n",
       "current loss = 13.624846901393\t\n",
       "current loss = 13.597443228762\t\n",
       "current loss = 13.570115502598\t\n",
       "current loss = 13.542863510511\t\n"
      ]
     },
     "execution_count": 12,
     "metadata": {},
     "output_type": "execute_result"
    },
    {
     "data": {
      "text/plain": [
       "current loss = 13.515687040529\t\n",
       "current loss = 13.488585881096\t\n",
       "current loss = 13.461559821077\t\n",
       "current loss = 13.434608649755\t\n",
       "current loss = 13.407732156834\t\n",
       "current loss = 13.380930132439\t\n"
      ]
     },
     "execution_count": 12,
     "metadata": {},
     "output_type": "execute_result"
    },
    {
     "data": {
      "text/plain": [
       "current loss = 13.35420236712\t\n",
       "current loss = 13.32754865185\t\n",
       "current loss = 13.300968778025\t\n",
       "current loss = 13.27446253747\t\n",
       "current loss = 13.248029722435\t\n",
       "current loss = 13.221670125598\t\n"
      ]
     },
     "execution_count": 12,
     "metadata": {},
     "output_type": "execute_result"
    },
    {
     "data": {
      "text/plain": [
       "current loss = 13.195383540066\t\n",
       "current loss = 13.169169759377\t\n",
       "current loss = 13.143028577496\t\n",
       "current loss = 13.116959788823\t\n",
       "current loss = 13.090963188188\t\n",
       "current loss = 13.065038570856\t\n"
      ]
     },
     "execution_count": 12,
     "metadata": {},
     "output_type": "execute_result"
    },
    {
     "data": {
      "text/plain": [
       "current loss = 13.039185732523\t\n",
       "current loss = 13.013404469321\t\n",
       "current loss = 12.987694577819\t\n",
       "current loss = 12.962055855019\t\n",
       "current loss = 12.936488098362\t\n",
       "current loss = 12.910991105725\t\n"
      ]
     },
     "execution_count": 12,
     "metadata": {},
     "output_type": "execute_result"
    },
    {
     "data": {
      "text/plain": [
       "current loss = 12.885564675423\t\n",
       "current loss = 12.860208606213\t\n",
       "current loss = 12.834922697287\t\n",
       "current loss = 12.80970674828\t\n",
       "current loss = 12.784560559265\t\n",
       "current loss = 12.75948393076\t\n"
      ]
     },
     "execution_count": 12,
     "metadata": {},
     "output_type": "execute_result"
    },
    {
     "data": {
      "text/plain": [
       "current loss = 12.73447666372\t\n",
       "current loss = 12.709538559548\t\n",
       "current loss = 12.684669420083\t\n",
       "current loss = 12.659869047614\t\n",
       "current loss = 12.635137244869\t\n",
       "current loss = 12.610473815023\t\n"
      ]
     },
     "execution_count": 12,
     "metadata": {},
     "output_type": "execute_result"
    },
    {
     "data": {
      "text/plain": [
       "current loss = 12.585878561694\t\n",
       "current loss = 12.561351288946\t\n",
       "current loss = 12.536891801289\t\n",
       "current loss = 12.512499903678\t\n",
       "current loss = 12.488175401515\t\n",
       "current loss = 12.463918100648\t\n",
       "current loss = 12.439727807373\t\n"
      ]
     },
     "execution_count": 12,
     "metadata": {},
     "output_type": "execute_result"
    },
    {
     "data": {
      "text/plain": [
       "current loss = 12.415604328433\t\n",
       "current loss = 12.391547471019\t\n",
       "current loss = 12.367557042769\t\n",
       "current loss = 12.34363285177\t\n",
       "current loss = 12.319774706558\t\n",
       "current loss = 12.295982416118\t\n"
      ]
     },
     "execution_count": 12,
     "metadata": {},
     "output_type": "execute_result"
    },
    {
     "data": {
      "text/plain": [
       "current loss = 12.272255789883\t\n",
       "current loss = 12.248594637735\t\n",
       "current loss = 12.224998770007\t\n",
       "current loss = 12.201467997481\t\n",
       "current loss = 12.178002131388\t\n",
       "current loss = 12.154600983411\t\n"
      ]
     },
     "execution_count": 12,
     "metadata": {},
     "output_type": "execute_result"
    },
    {
     "data": {
      "text/plain": [
       "current loss = 12.131264365682\t\n",
       "current loss = 12.107992090782\t\n",
       "current loss = 12.084783971745\t\n",
       "current loss = 12.061639822054\t\n",
       "current loss = 12.038559455643\t"
      ]
     },
     "execution_count": 12,
     "metadata": {},
     "output_type": "execute_result"
    },
    {
     "data": {
      "text/plain": [
       "\n",
       "current loss = 12.015542686897\t\n",
       "current loss = 11.99258933065\t\n",
       "current loss = 11.96969920219\t\n",
       "current loss = 11.946872117253\t\n",
       "current loss = 11.924107892028\t\n"
      ]
     },
     "execution_count": 12,
     "metadata": {},
     "output_type": "execute_result"
    },
    {
     "data": {
      "text/plain": [
       "current loss = 11.901406343152\t\n",
       "current loss = 11.878767287717\t\n",
       "current loss = 11.856190543263\t\n",
       "current loss = 11.83367592778\t\n",
       "current loss = 11.811223259713\t\n",
       "current loss = 11.788832357953\t\n"
      ]
     },
     "execution_count": 12,
     "metadata": {},
     "output_type": "execute_result"
    },
    {
     "data": {
      "text/plain": [
       "current loss = 11.766503041845\t\n",
       "current loss = 11.744235131183\t\n",
       "current loss = 11.722028446212\t\n",
       "current loss = 11.699882807627\t\n",
       "current loss = 11.677798036575\t\n",
       "current loss = 11.655773954651\t\n",
       "current loss = 11.6338103839\t\n"
      ]
     },
     "execution_count": 12,
     "metadata": {},
     "output_type": "execute_result"
    },
    {
     "data": {
      "text/plain": [
       "current loss = 11.61190714682\t\n",
       "current loss = 11.590064066356\t\n",
       "current loss = 11.568280965902\t\n",
       "current loss = 11.546557669305\t\n",
       "current loss = 11.524894000857\t\n",
       "current loss = 11.503289785301\t\n"
      ]
     },
     "execution_count": 12,
     "metadata": {},
     "output_type": "execute_result"
    },
    {
     "data": {
      "text/plain": [
       "current loss = 11.481744847829\t\n",
       "current loss = 11.460259014082\t\n",
       "current loss = 11.438832110148\t\n",
       "current loss = 11.417463962564\t\n",
       "current loss = 11.396154398314\t\n",
       "current loss = 11.374903244831\t\n"
      ]
     },
     "execution_count": 12,
     "metadata": {},
     "output_type": "execute_result"
    },
    {
     "data": {
      "text/plain": [
       "current loss = 11.353710329994\t\n",
       "current loss = 11.332575482129\t\n",
       "current loss = 11.31149853001\t\n",
       "current loss = 11.290479302856\t\n",
       "current loss = 11.269517630334\t\n",
       "current loss = 11.248613342555\t\n"
      ]
     },
     "execution_count": 12,
     "metadata": {},
     "output_type": "execute_result"
    },
    {
     "data": {
      "text/plain": [
       "current loss = 11.227766270075\t\n",
       "current loss = 11.206976243897\t\n",
       "current loss = 11.186243095468\t\n",
       "current loss = 11.165566656679\t\n",
       "current loss = 11.144946759866\t\n",
       "current loss = 11.124383237807\t\n"
      ]
     },
     "execution_count": 12,
     "metadata": {},
     "output_type": "execute_result"
    },
    {
     "data": {
      "text/plain": [
       "current loss = 11.103875923725\t\n",
       "current loss = 11.083424651285\t\n",
       "current loss = 11.063029254595\t\n",
       "current loss = 11.042689568204\t\n",
       "current loss = 11.022405427105\t\n",
       "current loss = 11.002176666729\t\n"
      ]
     },
     "execution_count": 12,
     "metadata": {},
     "output_type": "execute_result"
    },
    {
     "data": {
      "text/plain": [
       "current loss = 10.98200312295\t\n",
       "current loss = 10.961884632082\t\n",
       "current loss = 10.941821030878\t\n",
       "current loss = 10.921812156533\t\n",
       "current loss = 10.901857846677\t\n",
       "current loss = 10.881957939381\t\n",
       "current loss = 10.862112273155\t\n"
      ]
     },
     "execution_count": 12,
     "metadata": {},
     "output_type": "execute_result"
    },
    {
     "data": {
      "text/plain": [
       "current loss = 10.842320686944\t\n",
       "current loss = 10.822583020132\t\n",
       "current loss = 10.802899112538\t\n",
       "current loss = 10.783268804418\t\n",
       "current loss = 10.763691936464\t\n"
      ]
     },
     "execution_count": 12,
     "metadata": {},
     "output_type": "execute_result"
    },
    {
     "data": {
      "text/plain": [
       "current loss = 10.744168349801\t\n",
       "current loss = 10.724697885991\t\n",
       "current loss = 10.705280387029\t\n",
       "current loss = 10.685915695341\t\n",
       "current loss = 10.66660365379\t\n"
      ]
     },
     "execution_count": 12,
     "metadata": {},
     "output_type": "execute_result"
    },
    {
     "data": {
      "text/plain": [
       "current loss = 10.647344105668\t\n",
       "current loss = 10.6281368947\t\n",
       "current loss = 10.608981865043\t\n",
       "current loss = 10.589878861282\t\n",
       "current loss = 10.570827728435\t\n"
      ]
     },
     "execution_count": 12,
     "metadata": {},
     "output_type": "execute_result"
    },
    {
     "data": {
      "text/plain": [
       "current loss = 10.551828311946\t\n",
       "current loss = 10.532880457692\t\n",
       "current loss = 10.513984011975\t\n",
       "current loss = 10.495138821526\t\n",
       "current loss = 10.476344733501\t\n"
      ]
     },
     "execution_count": 12,
     "metadata": {},
     "output_type": "execute_result"
    },
    {
     "data": {
      "text/plain": [
       "current loss = 10.457601595485\t\n",
       "current loss = 10.438909255489\t\n",
       "current loss = 10.420267561945\t\n",
       "current loss = 10.401676363714\t\n",
       "current loss = 10.383135510079\t\n",
       "current loss = 10.364644850746\t\n"
      ]
     },
     "execution_count": 12,
     "metadata": {},
     "output_type": "execute_result"
    },
    {
     "data": {
      "text/plain": [
       "current loss = 10.346204235845\t\n",
       "current loss = 10.327813515925\t\n",
       "current loss = 10.309472541959\t\n",
       "current loss = 10.291181165339\t\n",
       "current loss = 10.272939237879\t\n",
       "current loss = 10.254746611809\t\n"
      ]
     },
     "execution_count": 12,
     "metadata": {},
     "output_type": "execute_result"
    },
    {
     "data": {
      "text/plain": [
       "current loss = 10.236603139781\t\n",
       "current loss = 10.218508674863\t\n",
       "current loss = 10.200463070539\t\n",
       "current loss = 10.182466180713\t\n",
       "current loss = 10.164517859701\t\n",
       "current loss = 10.146617962237\t\n"
      ]
     },
     "execution_count": 12,
     "metadata": {},
     "output_type": "execute_result"
    },
    {
     "data": {
      "text/plain": [
       "current loss = 10.128766343469\t\n",
       "current loss = 10.110962858956\t\n",
       "current loss = 10.093207364674\t\n",
       "current loss = 10.075499717008\t\n",
       "current loss = 10.057839772756\t\n",
       "current loss = 10.040227389128\t\n"
      ]
     },
     "execution_count": 12,
     "metadata": {},
     "output_type": "execute_result"
    },
    {
     "data": {
      "text/plain": [
       "current loss = 10.022662423741\t\n",
       "current loss = 10.005144734625\t\n",
       "current loss = 9.9876741802152\t\n",
       "current loss = 9.9702506193573\t\n"
      ]
     },
     "execution_count": 12,
     "metadata": {},
     "output_type": "execute_result"
    },
    {
     "data": {
      "text/plain": [
       "current loss = 9.952873911303\t\n",
       "current loss = 9.9355439157105\t\n"
      ]
     },
     "execution_count": 12,
     "metadata": {},
     "output_type": "execute_result"
    },
    {
     "data": {
      "text/plain": [
       "current loss = 9.918260492644\t\n"
      ]
     },
     "execution_count": 12,
     "metadata": {},
     "output_type": "execute_result"
    },
    {
     "data": {
      "text/plain": [
       "current loss = 9.9010235025721\t\n"
      ]
     },
     "execution_count": 12,
     "metadata": {},
     "output_type": "execute_result"
    },
    {
     "data": {
      "text/plain": [
       "current loss = 9.8838328063681\t\n",
       "current loss = 9.8666882653082\t\n"
      ]
     },
     "execution_count": 12,
     "metadata": {},
     "output_type": "execute_result"
    },
    {
     "data": {
      "text/plain": [
       "current loss = 9.8495897410717\t\n"
      ]
     },
     "execution_count": 12,
     "metadata": {},
     "output_type": "execute_result"
    },
    {
     "data": {
      "text/plain": [
       "current loss = 9.8325370957394\t\n"
      ]
     },
     "execution_count": 12,
     "metadata": {},
     "output_type": "execute_result"
    },
    {
     "data": {
      "text/plain": [
       "current loss = 9.8155301917935\t\n"
      ]
     },
     "execution_count": 12,
     "metadata": {},
     "output_type": "execute_result"
    },
    {
     "data": {
      "text/plain": [
       "current loss = 9.7985688921162\t\n",
       "current loss = 9.7816530599895\t\n"
      ]
     },
     "execution_count": 12,
     "metadata": {},
     "output_type": "execute_result"
    },
    {
     "data": {
      "text/plain": [
       "current loss = 9.7647825590941\t\n",
       "current loss = 9.7479572535087\t\n",
       "current loss = 9.7311770077092\t\n",
       "current loss = 9.714441686568\t\n",
       "current loss = 9.697751155353\t\n"
      ]
     },
     "execution_count": 12,
     "metadata": {},
     "output_type": "execute_result"
    },
    {
     "data": {
      "text/plain": [
       "current loss = 9.6811052797271\t\n"
      ]
     },
     "execution_count": 12,
     "metadata": {},
     "output_type": "execute_result"
    },
    {
     "data": {
      "text/plain": [
       "current loss = 9.6645039257471\t\n",
       "current loss = 9.6479469598632\t\n",
       "current loss = 9.6314342489179\t\n",
       "current loss = 9.6149656601455\t\n",
       "current loss = 9.5985410611711\t\n"
      ]
     },
     "execution_count": 12,
     "metadata": {},
     "output_type": "execute_result"
    },
    {
     "data": {
      "text/plain": [
       "current loss = 9.5821603200098\t\n",
       "current loss = 9.565823305066\t\n",
       "current loss = 9.5495298851325\t\n",
       "current loss = 9.5332799293896\t\n",
       "current loss = 9.5170733074047\t\n",
       "current loss = 9.5009098891309\t\n",
       "current loss = 9.4847895449066\t\n",
       "current loss = 9.4687121454544\t\n"
      ]
     },
     "execution_count": 12,
     "metadata": {},
     "output_type": "execute_result"
    },
    {
     "data": {
      "text/plain": [
       "current loss = 9.4526775618807\t\n",
       "current loss = 9.4366856656742\t\n",
       "current loss = 9.4207363287058\t\n",
       "current loss = 9.4048294232272\t\n",
       "current loss = 9.3889648218706\t\n",
       "current loss = 9.3731423976473\t\n",
       "current loss = 9.3573620239472\t\n",
       "current loss = 9.341623574538\t\n"
      ]
     },
     "execution_count": 12,
     "metadata": {},
     "output_type": "execute_result"
    },
    {
     "data": {
      "text/plain": [
       "current loss = 9.3259269235643\t\n",
       "current loss = 9.3102719455465\t\n",
       "current loss = 9.2946585153805\t\n",
       "current loss = 9.2790865083364\t\n",
       "current loss = 9.2635558000577\t\n",
       "current loss = 9.2480662665607\t\n",
       "current loss = 9.2326177842336\t\n",
       "current loss = 9.2172102298354\t\n"
      ]
     },
     "execution_count": 12,
     "metadata": {},
     "output_type": "execute_result"
    },
    {
     "data": {
      "text/plain": [
       "current loss = 9.2018434804953\t\n",
       "current loss = 9.1865174137119\t\n",
       "current loss = 9.171231907352\t\n",
       "current loss = 9.1559868396501\t\n",
       "current loss = 9.1407820892074\t\n",
       "current loss = 9.125617534991\t\n"
      ]
     },
     "execution_count": 12,
     "metadata": {},
     "output_type": "execute_result"
    },
    {
     "data": {
      "text/plain": [
       "current loss = 9.1104930563331\t\n",
       "current loss = 9.0954085329299\t\n",
       "current loss = 9.080363844841\t\n",
       "current loss = 9.0653588724883\t\n",
       "current loss = 9.0503934966556\t\n",
       "current loss = 9.0354675984872\t\n",
       "current loss = 9.0205810594873\t\n"
      ]
     },
     "execution_count": 12,
     "metadata": {},
     "output_type": "execute_result"
    },
    {
     "data": {
      "text/plain": [
       "current loss = 9.0057337615192\t\n",
       "current loss = 8.9909255868042\t\n",
       "current loss = 8.9761564179211\t\n",
       "current loss = 8.961426137805\t\n",
       "current loss = 8.9467346297466\t\n",
       "current loss = 8.9320817773913\t\n",
       "current loss = 8.9174674647383\t\n"
      ]
     },
     "execution_count": 12,
     "metadata": {},
     "output_type": "execute_result"
    },
    {
     "data": {
      "text/plain": [
       "current loss = 8.9028915761399\t\n",
       "current loss = 8.8883539963003\t\n",
       "current loss = 8.8738546102753\t\n",
       "current loss = 8.8593933034707\t\n",
       "current loss = 8.844969961642\t\n",
       "current loss = 8.8305844708934\t\n",
       "current loss = 8.8162367176767\t\n",
       "current loss = 8.8019265887909\t\n"
      ]
     },
     "execution_count": 12,
     "metadata": {},
     "output_type": "execute_result"
    },
    {
     "data": {
      "text/plain": [
       "current loss = 8.7876539713808\t\n",
       "current loss = 8.7734187529365\t\n",
       "current loss = 8.7592208212924\t\n",
       "current loss = 8.7450600646263\t\n",
       "current loss = 8.7309363714587\t\n",
       "current loss = 8.7168496306517\t\n",
       "current loss = 8.7027997314082\t\n",
       "current loss = 8.6887865632713\t\n"
      ]
     },
     "execution_count": 12,
     "metadata": {},
     "output_type": "execute_result"
    },
    {
     "data": {
      "text/plain": [
       "current loss = 8.674810016123\t\n",
       "current loss = 8.6608699801837\t\n",
       "current loss = 8.6469663460109\t\n",
       "current loss = 8.633099004499\t\n",
       "current loss = 8.6192678468778\t\n",
       "current loss = 8.6054727647119\t\n",
       "current loss = 8.5917136498998\t\n",
       "current loss = 8.5779903946731\t\n"
      ]
     },
     "execution_count": 12,
     "metadata": {},
     "output_type": "execute_result"
    },
    {
     "data": {
      "text/plain": [
       "current loss = 8.5643028915955\t\n",
       "current loss = 8.550651033562\t\n",
       "current loss = 8.5370347137982\t\n",
       "current loss = 8.523453825859\t\n",
       "current loss = 8.5099082636282\t\n",
       "current loss = 8.4963979213175\t\n",
       "current loss = 8.4829226934654\t\n",
       "current loss = 8.4694824749366\t\n"
      ]
     },
     "execution_count": 12,
     "metadata": {},
     "output_type": "execute_result"
    },
    {
     "data": {
      "text/plain": [
       "current loss = 8.456077160921\t\n",
       "current loss = 8.4427066469329\t\n",
       "current loss = 8.4293708288102\t\n",
       "current loss = 8.4160696027133\t\n",
       "current loss = 8.4028028651246\t\n",
       "current loss = 8.3895705128472\t\n",
       "current loss = 8.3763724430044\t\n"
      ]
     },
     "execution_count": 12,
     "metadata": {},
     "output_type": "execute_result"
    },
    {
     "data": {
      "text/plain": [
       "current loss = 8.3632085530388\t\n",
       "current loss = 8.3500787407111\t\n",
       "current loss = 8.3369829040997\t\n",
       "current loss = 8.3239209415995\t\n",
       "current loss = 8.3108927519213\t\n",
       "current loss = 8.2978982340907\t\n",
       "current loss = 8.2849372874474\t\n",
       "current loss = 8.2720098116443\t\n"
      ]
     },
     "execution_count": 12,
     "metadata": {},
     "output_type": "execute_result"
    },
    {
     "data": {
      "text/plain": [
       "current loss = 8.2591157066466\t\n",
       "current loss = 8.2462548727309\t\n",
       "current loss = 8.2334272104848\t\n",
       "current loss = 8.2206326208053\t\n",
       "current loss = 8.2078710048984\t\n",
       "current loss = 8.1951422642783\t\n",
       "current loss = 8.1824463007662\t\n",
       "current loss = 8.16978301649\t\n",
       "current loss = 8.1571523138829\t\n"
      ]
     },
     "execution_count": 12,
     "metadata": {},
     "output_type": "execute_result"
    },
    {
     "data": {
      "text/plain": [
       "current loss = 8.1445540956827\t\n",
       "current loss = 8.1319882649312\t\n",
       "current loss = 8.1194547249731\t\n",
       "current loss = 8.1069533794552\t\n",
       "current loss = 8.0944841323257\t\n",
       "current loss = 8.082046887833\t\n",
       "current loss = 8.0696415505254\t\n",
       "current loss = 8.0572680252499\t\n"
      ]
     },
     "execution_count": 12,
     "metadata": {},
     "output_type": "execute_result"
    },
    {
     "data": {
      "text/plain": [
       "current loss = 8.044926217151\t\n",
       "current loss = 8.0326160316709\t\n",
       "current loss = 8.0203373745476\t\n",
       "current loss = 8.0080901518147\t\n",
       "current loss = 7.9958742698001\t\n",
       "current loss = 7.9836896351258\t\n",
       "current loss = 7.9715361547063\t\n",
       "current loss = 7.9594137357485\t\n"
      ]
     },
     "execution_count": 12,
     "metadata": {},
     "output_type": "execute_result"
    },
    {
     "data": {
      "text/plain": [
       "current loss = 7.9473222857503\t\n",
       "current loss = 7.9352617125001\t\n",
       "current loss = 7.9232319240757\t\n",
       "current loss = 7.9112328288437\t\n",
       "current loss = 7.8992643354587\t\n",
       "current loss = 7.8873263528623\t\n",
       "current loss = 7.8754187902823\t\n",
       "current loss = 7.8635415572319\t\n"
      ]
     },
     "execution_count": 12,
     "metadata": {},
     "output_type": "execute_result"
    },
    {
     "data": {
      "text/plain": [
       "current loss = 7.851694563509\t\n",
       "current loss = 7.8398777191952\t\n",
       "current loss = 7.8280909346551\t\n",
       "current loss = 7.8163341205354\t\n",
       "current loss = 7.804607187764\t\n",
       "current loss = 7.7929100475496\t\n",
       "current loss = 7.7812426113802\t\n",
       "current loss = 7.769604791023\t\n"
      ]
     },
     "execution_count": 12,
     "metadata": {},
     "output_type": "execute_result"
    },
    {
     "data": {
      "text/plain": [
       "current loss = 7.7579964985229\t\n",
       "current loss = 7.7464176462024\t\n",
       "current loss = 7.7348681466602\t\n",
       "current loss = 7.7233479127706\t\n",
       "current loss = 7.7118568576829\t\n",
       "current loss = 7.7003948948202\t\n",
       "current loss = 7.6889619378788\t\n",
       "current loss = 7.6775579008277\t\n"
      ]
     },
     "execution_count": 12,
     "metadata": {},
     "output_type": "execute_result"
    },
    {
     "data": {
      "text/plain": [
       "current loss = 7.6661826979069\t\n",
       "current loss = 7.6548362436278\t\n",
       "current loss = 7.6435184527714\t\n",
       "current loss = 7.632229240388\t\n",
       "current loss = 7.6209685217963\t\n",
       "current loss = 7.6097362125826\t\n"
      ]
     },
     "execution_count": 12,
     "metadata": {},
     "output_type": "execute_result"
    },
    {
     "data": {
      "text/plain": [
       "current loss = 7.5985322285998\t\n",
       "current loss = 7.5873564859672\t\n",
       "current loss = 7.576208901069\t\n",
       "current loss = 7.5650893905539\t\n",
       "current loss = 7.5539978713342\t\n",
       "current loss = 7.5429342605851\t\n",
       "current loss = 7.5318984757438\t\n"
      ]
     },
     "execution_count": 12,
     "metadata": {},
     "output_type": "execute_result"
    },
    {
     "data": {
      "text/plain": [
       "current loss = 7.5208904345088\t\n",
       "current loss = 7.5099100548393\t\n",
       "current loss = 7.4989572549537\t\n",
       "current loss = 7.4880319533299\t\n",
       "current loss = 7.4771340687036\t\n",
       "current loss = 7.4662635200679\t\n",
       "current loss = 7.4554202266726\t\n"
      ]
     },
     "execution_count": 12,
     "metadata": {},
     "output_type": "execute_result"
    },
    {
     "data": {
      "text/plain": [
       "current loss = 7.4446041080232\t\n",
       "current loss = 7.4338150838805\t\n",
       "current loss = 7.4230530742594\t\n",
       "current loss = 7.4123179994281\t\n",
       "current loss = 7.401609779908\t\n",
       "current loss = 7.3909283364721\t\n",
       "current loss = 7.3802735901449\t\n",
       "current loss = 7.369645462201\t\n"
      ]
     },
     "execution_count": 12,
     "metadata": {},
     "output_type": "execute_result"
    },
    {
     "data": {
      "text/plain": [
       "current loss = 7.3590438741651\t\n",
       "current loss = 7.3484687478104\t\n",
       "current loss = 7.3379200051587\t\n",
       "current loss = 7.3273975684788\t\n",
       "current loss = 7.3169013602864\t\n",
       "current loss = 7.3064313033431\t\n",
       "current loss = 7.2959873206556\t\n",
       "current loss = 7.285569335475\t\n"
      ]
     },
     "execution_count": 12,
     "metadata": {},
     "output_type": "execute_result"
    },
    {
     "data": {
      "text/plain": [
       "current loss = 7.275177271296\t\n",
       "current loss = 7.2648110518563\t\n",
       "current loss = 7.2544706011357\t\n",
       "current loss = 7.2441558433553\t\n",
       "current loss = 7.2338667029772\t\n",
       "current loss = 7.2236031047032\t\n",
       "current loss = 7.2133649734741\t\n",
       "current loss = 7.2031522344696\t\n"
      ]
     },
     "execution_count": 12,
     "metadata": {},
     "output_type": "execute_result"
    },
    {
     "data": {
      "text/plain": [
       "current loss = 7.1929648131068\t\n",
       "current loss = 7.1828026350399\t\n",
       "current loss = 7.1726656261593\t\n",
       "current loss = 7.1625537125909\t\n",
       "current loss = 7.1524668206954\t\n",
       "current loss = 7.1424048770678\t\n",
       "current loss = 7.132367808536\t\n",
       "current loss = 7.1223555421609\t\n"
      ]
     },
     "execution_count": 12,
     "metadata": {},
     "output_type": "execute_result"
    },
    {
     "data": {
      "text/plain": [
       "current loss = 7.1123680052351\t\n",
       "current loss = 7.1024051252824\t\n",
       "current loss = 7.092466830057\t\n",
       "current loss = 7.082553047543\t\n",
       "current loss = 7.0726637059532\t\n",
       "current loss = 7.0627987337292\t\n",
       "current loss = 7.0529580595397\t\n",
       "current loss = 7.0431416122805\t\n"
      ]
     },
     "execution_count": 12,
     "metadata": {},
     "output_type": "execute_result"
    },
    {
     "data": {
      "text/plain": [
       "current loss = 7.0333493210736\t\n",
       "current loss = 7.0235811152663\t\n",
       "current loss = 7.0138369244309\t\n",
       "current loss = 7.0041166783636\t\n",
       "current loss = 6.9944203070839\t\n",
       "current loss = 6.9847477408341\t\n",
       "current loss = 6.9750989100782\t\n",
       "current loss = 6.9654737455019\t\n"
      ]
     },
     "execution_count": 12,
     "metadata": {},
     "output_type": "execute_result"
    },
    {
     "data": {
      "text/plain": [
       "current loss = 6.9558721780109\t\n",
       "current loss = 6.9462941387312\t\n",
       "current loss = 6.9367395590079\t\n",
       "current loss = 6.9272083704042\t\n",
       "current loss = 6.9177005047017\t\n",
       "current loss = 6.9082158938987\t\n",
       "current loss = 6.8987544702099\t\n",
       "current loss = 6.889316166066\t\n"
      ]
     },
     "execution_count": 12,
     "metadata": {},
     "output_type": "execute_result"
    },
    {
     "data": {
      "text/plain": [
       "current loss = 6.8799009141126\t\n",
       "current loss = 6.8705086472095\t\n",
       "current loss = 6.8611392984306\t\n",
       "current loss = 6.8517928010626\t\n",
       "current loss = 6.8424690886043\t\n",
       "current loss = 6.8331680947667\t\n",
       "current loss = 6.8238897534713\t\n",
       "current loss = 6.8146339988503\t\n"
      ]
     },
     "execution_count": 12,
     "metadata": {},
     "output_type": "execute_result"
    },
    {
     "data": {
      "text/plain": [
       "current loss = 6.8054007652453\t\n",
       "current loss = 6.7961899872071\t\n",
       "current loss = 6.7870015994946\t\n",
       "current loss = 6.7778355370747\t\n",
       "current loss = 6.768691735121\t\n",
       "current loss = 6.7595701290134\t\n",
       "current loss = 6.7504706543379\t\n",
       "current loss = 6.7413932468852\t\n"
      ]
     },
     "execution_count": 12,
     "metadata": {},
     "output_type": "execute_result"
    },
    {
     "data": {
      "text/plain": [
       "current loss = 6.7323378426503\t\n",
       "current loss = 6.7233043778323\t\n",
       "current loss = 6.7142927888331\t\n",
       "current loss = 6.705303012257\t\n",
       "current loss = 6.6963349849102\t\n",
       "current loss = 6.6873886438001\t\n",
       "current loss = 6.6784639261344\t\n",
       "current loss = 6.6695607693207\t\n"
      ]
     },
     "execution_count": 12,
     "metadata": {},
     "output_type": "execute_result"
    },
    {
     "data": {
      "text/plain": [
       "current loss = 6.6606791109658\t\n",
       "current loss = 6.6518188888753\t\n",
       "current loss = 6.6429800410524\t\n",
       "current loss = 6.6341625056978\t\n",
       "current loss = 6.6253662212087\t\n"
      ]
     },
     "execution_count": 12,
     "metadata": {},
     "output_type": "execute_result"
    },
    {
     "data": {
      "text/plain": [
       "current loss = 6.6165911261784\t\n",
       "current loss = 6.6078371593958\t\n",
       "current loss = 6.5991042598443\t\n",
       "current loss = 6.5903923667015\t\n",
       "current loss = 6.5817014193386\t\n",
       "current loss = 6.5730313573197\t\n",
       "current loss = 6.564382120401\t\n"
      ]
     },
     "execution_count": 12,
     "metadata": {},
     "output_type": "execute_result"
    },
    {
     "data": {
      "text/plain": [
       "current loss = 6.5557536485306\t\n",
       "current loss = 6.5471458818474\t\n",
       "current loss = 6.538558760681\t\n",
       "current loss = 6.5299922255504\t\n",
       "current loss = 6.5214462171643\t\n",
       "current loss = 6.5129206764195\t\n",
       "current loss = 6.5044155444011\t\n"
      ]
     },
     "execution_count": 12,
     "metadata": {},
     "output_type": "execute_result"
    },
    {
     "data": {
      "text/plain": [
       "current loss = 6.4959307623814\t\n",
       "current loss = 6.4874662718195\t\n",
       "current loss = 6.4790220143607\t\n",
       "current loss = 6.4705979318357\t\n",
       "current loss = 6.4621939662603\t\n",
       "current loss = 6.4538100598346\t\n",
       "current loss = 6.4454461549424\t\n"
      ]
     },
     "execution_count": 12,
     "metadata": {},
     "output_type": "execute_result"
    },
    {
     "data": {
      "text/plain": [
       "current loss = 6.4371021941508\t\n",
       "current loss = 6.4287781202092\t\n",
       "current loss = 6.4204738760493\t\n",
       "current loss = 6.4121894047839\t\n",
       "current loss = 6.4039246497067\t\n",
       "current loss = 6.3956795542915\t\n",
       "current loss = 6.387454062192\t\n",
       "current loss = 6.3792481172405\t\n"
      ]
     },
     "execution_count": 12,
     "metadata": {},
     "output_type": "execute_result"
    },
    {
     "data": {
      "text/plain": [
       "current loss = 6.3710616634482\t\n",
       "current loss = 6.3628946450037\t\n",
       "current loss = 6.3547470062733\t\n",
       "current loss = 6.3466186917998\t\n",
       "current loss = 6.3385096463021\t\n",
       "current loss = 6.3304198146748\t\n",
       "current loss = 6.3223491419873\t\n",
       "current loss = 6.3142975734837\t\n"
      ]
     },
     "execution_count": 12,
     "metadata": {},
     "output_type": "execute_result"
    },
    {
     "data": {
      "text/plain": [
       "current loss = 6.3062650545816\t\n",
       "current loss = 6.2982515308721\t\n",
       "current loss = 6.290256948119\t\n",
       "current loss = 6.2822812522581\t\n",
       "current loss = 6.274324389397\t\n",
       "current loss = 6.2663863058142\t\n",
       "current loss = 6.2584669479587\t\n",
       "current loss = 6.2505662624493\t\n"
      ]
     },
     "execution_count": 12,
     "metadata": {},
     "output_type": "execute_result"
    },
    {
     "data": {
      "text/plain": [
       "current loss = 6.2426841960742\t\n",
       "current loss = 6.2348206957907\t\n",
       "current loss = 6.2269757087238\t\n",
       "current loss = 6.2191491821665\t\n",
       "current loss = 6.2113410635791\t\n",
       "current loss = 6.2035513005882\t\n",
       "current loss = 6.1957798409866\t\n",
       "current loss = 6.1880266327325\t\n"
      ]
     },
     "execution_count": 12,
     "metadata": {},
     "output_type": "execute_result"
    },
    {
     "data": {
      "text/plain": [
       "current loss = 6.1802916239492\t\n",
       "current loss = 6.1725747629243\t\n",
       "current loss = 6.1648759981094\t\n",
       "current loss = 6.1571952781193\t\n",
       "current loss = 6.1495325517318\t\n",
       "current loss = 6.1418877678867\t\n",
       "current loss = 6.1342608756858\t\n"
      ]
     },
     "execution_count": 12,
     "metadata": {},
     "output_type": "execute_result"
    },
    {
     "data": {
      "text/plain": [
       "current loss = 6.126651824392\t\n",
       "current loss = 6.1190605634288\t\n",
       "current loss = 6.1114870423801\t\n",
       "current loss = 6.103931210989\t\n",
       "current loss = 6.0963930191582\t\n",
       "current loss = 6.0888724169487\t\n",
       "current loss = 6.0813693545793\t\n",
       "current loss = 6.073883782427\t\n"
      ]
     },
     "execution_count": 12,
     "metadata": {},
     "output_type": "execute_result"
    },
    {
     "data": {
      "text/plain": [
       "current loss = 6.0664156510251\t\n",
       "current loss = 6.0589649110639\t\n",
       "current loss = 6.0515315133894\t\n",
       "current loss = 6.0441154090031\t\n",
       "current loss = 6.0367165490617\t\n",
       "current loss = 6.029334884876\t\n",
       "current loss = 6.021970367911\t\n"
      ]
     },
     "execution_count": 12,
     "metadata": {},
     "output_type": "execute_result"
    },
    {
     "data": {
      "text/plain": [
       "current loss = 6.0146229497849\t\n",
       "current loss = 6.007292582269\t\n",
       "current loss = 5.9999792172869\t\n",
       "current loss = 5.9926828069142\t\n",
       "current loss = 5.9854033033778\t\n",
       "current loss = 5.9781406590557\t\n",
       "current loss = 5.970894826476\t\n",
       "current loss = 5.963665758317\t\n"
      ]
     },
     "execution_count": 12,
     "metadata": {},
     "output_type": "execute_result"
    },
    {
     "data": {
      "text/plain": [
       "current loss = 5.9564534074063\t\n",
       "current loss = 5.9492577267205\t\n",
       "current loss = 5.9420786693845\t\n",
       "current loss = 5.9349161886712\t\n",
       "current loss = 5.9277702380011\t\n",
       "current loss = 5.9206407709413\t\n",
       "current loss = 5.9135277412058\t\n"
      ]
     },
     "execution_count": 12,
     "metadata": {},
     "output_type": "execute_result"
    },
    {
     "data": {
      "text/plain": [
       "current loss = 5.9064311026543\t\n",
       "current loss = 5.8993508092922\t\n",
       "current loss = 5.8922868152698\t\n",
       "current loss = 5.885239074882\t\n",
       "current loss = 5.8782075425677\t\n",
       "current loss = 5.8711921729095\t\n",
       "current loss = 5.8641929206331\t\n"
      ]
     },
     "execution_count": 12,
     "metadata": {},
     "output_type": "execute_result"
    },
    {
     "data": {
      "text/plain": [
       "current loss = 5.8572097406068\t\n",
       "current loss = 5.8502425878411\t\n",
       "current loss = 5.8432914174881\t\n",
       "current loss = 5.8363561848413\t\n",
       "current loss = 5.8294368453348\t\n",
       "current loss = 5.8225333545432\t\n",
       "current loss = 5.8156456681807\t\n",
       "current loss = 5.8087737421009\t\n"
      ]
     },
     "execution_count": 12,
     "metadata": {},
     "output_type": "execute_result"
    },
    {
     "data": {
      "text/plain": [
       "current loss = 5.8019175322965\t\n",
       "current loss = 5.7950769948985\t\n",
       "current loss = 5.7882520861759\t\n",
       "current loss = 5.7814427625351\t\n",
       "current loss = 5.7746489805199\t\n",
       "current loss = 5.7678706968103\t\n",
       "current loss = 5.7611078682227\t\n",
       "current loss = 5.7543604517093\t\n"
      ]
     },
     "execution_count": 12,
     "metadata": {},
     "output_type": "execute_result"
    },
    {
     "data": {
      "text/plain": [
       "current loss = 5.7476284043574\t\n",
       "current loss = 5.7409116833891\t\n",
       "current loss = 5.7342102461608\t\n",
       "current loss = 5.7275240501631\t\n",
       "current loss = 5.7208530530199\t\n",
       "current loss = 5.7141972124879\t\n",
       "current loss = 5.7075564864569\t\n"
      ]
     },
     "execution_count": 12,
     "metadata": {},
     "output_type": "execute_result"
    },
    {
     "data": {
      "text/plain": [
       "current loss = 5.7009308329482\t\n",
       "current loss = 5.6943202101154\t\n",
       "current loss = 5.6877245762431\t\n",
       "current loss = 5.6811438897466\t\n",
       "current loss = 5.6745781091719\t\n",
       "current loss = 5.6680271931947\t\n",
       "current loss = 5.6614911006204\t\n",
       "current loss = 5.6549697903833\t\n"
      ]
     },
     "execution_count": 12,
     "metadata": {},
     "output_type": "execute_result"
    },
    {
     "data": {
      "text/plain": [
       "current loss = 5.6484632215467\t\n",
       "current loss = 5.6419713533018\t\n",
       "current loss = 5.6354941449678\t\n",
       "current loss = 5.6290315559913\t\n",
       "current loss = 5.6225835459458\t\n",
       "current loss = 5.6161500745312\t\n",
       "current loss = 5.6097311015739\t\n"
      ]
     },
     "execution_count": 12,
     "metadata": {},
     "output_type": "execute_result"
    },
    {
     "data": {
      "text/plain": [
       "current loss = 5.6033265870257\t\n",
       "current loss = 5.5969364909638\t\n",
       "current loss = 5.5905607735901\t\n",
       "current loss = 5.5841993952312\t\n",
       "current loss = 5.5778523163377\t\n",
       "current loss = 5.5715194974836\t\n",
       "current loss = 5.5652008993663\t\n",
       "current loss = 5.5588964828061\t\n"
      ]
     },
     "execution_count": 12,
     "metadata": {},
     "output_type": "execute_result"
    },
    {
     "data": {
      "text/plain": [
       "current loss = 5.5526062087454\t\n",
       "current loss = 5.5463300382488\t\n",
       "current loss = 5.5400679325024\t\n",
       "current loss = 5.5338198528135\t\n",
       "current loss = 5.5275857606103\t\n",
       "current loss = 5.5213656174411\t\n",
       "current loss = 5.5151593849743\t\n"
      ]
     },
     "execution_count": 12,
     "metadata": {},
     "output_type": "execute_result"
    },
    {
     "data": {
      "text/plain": [
       "current loss = 5.508967024998\t\n",
       "current loss = 5.5027884994193\t\n",
       "current loss = 5.4966237702641\t\n",
       "current loss = 5.4904727996767\t\n",
       "current loss = 5.4843355499194\t\n",
       "current loss = 5.478211983372\t\n",
       "current loss = 5.4721020625318\t\n",
       "current loss = 5.4660057500124\t\n"
      ]
     },
     "execution_count": 12,
     "metadata": {},
     "output_type": "execute_result"
    },
    {
     "data": {
      "text/plain": [
       "current loss = 5.4599230085443\t\n",
       "current loss = 5.4538538009737\t\n",
       "current loss = 5.4477980902627\t\n",
       "current loss = 5.4417558394884\t\n",
       "current loss = 5.435727011843\t\n",
       "current loss = 5.4297115706331\t\n",
       "current loss = 5.4237094792794\t\n",
       "current loss = 5.4177207013164\t\n"
      ]
     },
     "execution_count": 12,
     "metadata": {},
     "output_type": "execute_result"
    },
    {
     "data": {
      "text/plain": [
       "current loss = 5.4117452003918\t\n",
       "current loss = 5.4057829402664\t\n",
       "current loss = 5.3998338848135\t\n",
       "current loss = 5.3938979980188\t\n",
       "current loss = 5.3879752439797\t\n",
       "current loss = 5.382065586905\t\n",
       "current loss = 5.3761689911149\t\n"
      ]
     },
     "execution_count": 12,
     "metadata": {},
     "output_type": "execute_result"
    },
    {
     "data": {
      "text/plain": [
       "current loss = 5.37028542104\t\n",
       "current loss = 5.3644148412214\t\n",
       "current loss = 5.3585572163103\t\n",
       "current loss = 5.3527125110674\t\n"
      ]
     },
     "execution_count": 12,
     "metadata": {},
     "output_type": "execute_result"
    },
    {
     "data": {
      "text/plain": [
       "current loss = 5.3468806903627\t\n",
       "current loss = 5.341061719175\t\n",
       "current loss = 5.3352555625918\t\n"
      ]
     },
     "execution_count": 12,
     "metadata": {},
     "output_type": "execute_result"
    },
    {
     "data": {
      "text/plain": [
       "current loss = 5.3294621858088\t\n",
       "current loss = 5.3236815541293\t\n",
       "current loss = 5.3179136329642\t\n",
       "current loss = 5.3121583878314\t\n",
       "current loss = 5.3064157843558\t\n"
      ]
     },
     "execution_count": 12,
     "metadata": {},
     "output_type": "execute_result"
    },
    {
     "data": {
      "text/plain": [
       "current loss = 5.3006857882683\t\n",
       "current loss = 5.2949683654061\t\n",
       "current loss = 5.2892634817121\t\n",
       "current loss = 5.2835711032343\t\n",
       "current loss = 5.2778911961259\t\n",
       "current loss = 5.2722237266445\t\n"
      ]
     },
     "execution_count": 12,
     "metadata": {},
     "output_type": "execute_result"
    },
    {
     "data": {
      "text/plain": [
       "current loss = 5.2665686611522\t\n",
       "current loss = 5.2609259661148\t\n",
       "current loss = 5.255295608102\t\n",
       "current loss = 5.2496775537864\t\n",
       "current loss = 5.2440717699436\t\n"
      ]
     },
     "execution_count": 12,
     "metadata": {},
     "output_type": "execute_result"
    },
    {
     "data": {
      "text/plain": [
       "current loss = 5.2384782234519\t\n",
       "current loss = 5.2328968812916\t\n",
       "current loss = 5.2273277105449\t\n",
       "current loss = 5.2217706783957\t\n",
       "current loss = 5.2162257521289\t\n",
       "current loss = 5.2106928991304\t\n"
      ]
     },
     "execution_count": 12,
     "metadata": {},
     "output_type": "execute_result"
    },
    {
     "data": {
      "text/plain": [
       "current loss = 5.2051720868864\t\n",
       "current loss = 5.1996632829836\t\n",
       "current loss = 5.1941664551081\t\n",
       "current loss = 5.188681571046\t\n",
       "current loss = 5.1832085986823\t\n",
       "current loss = 5.1777475060008\t\n"
      ]
     },
     "execution_count": 12,
     "metadata": {},
     "output_type": "execute_result"
    },
    {
     "data": {
      "text/plain": [
       "current loss = 5.1722982610841\t\n",
       "current loss = 5.1668608321127\t\n",
       "current loss = 5.1614351873652\t\n",
       "current loss = 5.1560212952176\t\n",
       "current loss = 5.1506191241432\t\n"
      ]
     },
     "execution_count": 12,
     "metadata": {},
     "output_type": "execute_result"
    },
    {
     "data": {
      "text/plain": [
       "current loss = 5.145228642712\t\n",
       "current loss = 5.1398498195908\t\n",
       "current loss = 5.1344826235426\t\n",
       "current loss = 5.1291270234263\t\n",
       "current loss = 5.1237829881964\t\n",
       "current loss = 5.1184504869027\t\n"
      ]
     },
     "execution_count": 12,
     "metadata": {},
     "output_type": "execute_result"
    },
    {
     "data": {
      "text/plain": [
       "current loss = 5.11312948869\t\n",
       "current loss = 5.1078199627976\t\n",
       "current loss = 5.1025218785595\t\n",
       "current loss = 5.0972352054033\t\n",
       "current loss = 5.0919599128505\t\n",
       "current loss = 5.0866959705162\t\n",
       "current loss = 5.0814433481084\t\n"
      ]
     },
     "execution_count": 12,
     "metadata": {},
     "output_type": "execute_result"
    },
    {
     "data": {
      "text/plain": [
       "current loss = 5.0762020154277\t\n",
       "current loss = 5.0709719423676\t\n",
       "current loss = 5.0657530989134\t\n",
       "current loss = 5.0605454551425\t\n",
       "current loss = 5.0553489812236\t\n",
       "current loss = 5.050163647417\t\n"
      ]
     },
     "execution_count": 12,
     "metadata": {},
     "output_type": "execute_result"
    },
    {
     "data": {
      "text/plain": [
       "current loss = 5.0449894240737\t\n",
       "current loss = 5.0398262816353\t\n",
       "current loss = 5.0346741906339\t\n",
       "current loss = 5.0295331216916\t\n",
       "current loss = 5.0244030455203\t\n",
       "current loss = 5.0192839329212\t\n"
      ]
     },
     "execution_count": 12,
     "metadata": {},
     "output_type": "execute_result"
    },
    {
     "data": {
      "text/plain": [
       "current loss = 5.0141757547847\t\n",
       "current loss = 5.00907848209\t\n",
       "current loss = 5.0039920859051\t\n",
       "current loss = 4.998916537386\t\n",
       "current loss = 4.9938518077768\t\n",
       "current loss = 4.9887978684093\t\n"
      ]
     },
     "execution_count": 12,
     "metadata": {},
     "output_type": "execute_result"
    },
    {
     "data": {
      "text/plain": [
       "current loss = 4.9837546907024\t\n",
       "current loss = 4.9787222461625\t\n",
       "current loss = 4.9737005063826\t\n",
       "current loss = 4.9686894430421\t\n",
       "current loss = 4.963689027907\t\n"
      ]
     },
     "execution_count": 12,
     "metadata": {},
     "output_type": "execute_result"
    },
    {
     "data": {
      "text/plain": [
       "current loss = 4.9586992328289\t\n",
       "current loss = 4.9537200297451\t\n",
       "current loss = 4.9487513906784\t\n",
       "current loss = 4.9437932877367\t\n",
       "current loss = 4.9388456931125\t\n",
       "current loss = 4.9339085790831\t\n",
       "current loss = 4.9289819180099\t\n"
      ]
     },
     "execution_count": 12,
     "metadata": {},
     "output_type": "execute_result"
    },
    {
     "data": {
      "text/plain": [
       "current loss = 4.9240656823381\t\n",
       "current loss = 4.919159844597\t\n",
       "current loss = 4.914264377399\t\n",
       "current loss = 4.9093792534397\t\n",
       "current loss = 4.9045044454975\t\n",
       "current loss = 4.8996399264336\t\n"
      ]
     },
     "execution_count": 12,
     "metadata": {},
     "output_type": "execute_result"
    },
    {
     "data": {
      "text/plain": [
       "current loss = 4.8947856691912\t\n",
       "current loss = 4.8899416467958\t\n",
       "current loss = 4.8851078323545\t\n",
       "current loss = 4.880284199056\t\n",
       "current loss = 4.8754707201701\t\n",
       "current loss = 4.8706673690477\t\n"
      ]
     },
     "execution_count": 12,
     "metadata": {},
     "output_type": "execute_result"
    },
    {
     "data": {
      "text/plain": [
       "current loss = 4.8658741191203\t\n",
       "current loss = 4.8610909438998\t\n",
       "current loss = 4.8563178169784\t\n",
       "current loss = 4.8515547120279\t\n",
       "current loss = 4.8468016027999\t\n",
       "current loss = 4.8420584631255\t\n"
      ]
     },
     "execution_count": 12,
     "metadata": {},
     "output_type": "execute_result"
    },
    {
     "data": {
      "text/plain": [
       "current loss = 4.8373252669146\t\n",
       "current loss = 4.8326019881562\t\n",
       "current loss = 4.8278886009176\t\n",
       "current loss = 4.8231850793446\t\n",
       "current loss = 4.8184913976611\t\n",
       "current loss = 4.8138075301687\t\n",
       "current loss = 4.8091334512464\t\n"
      ]
     },
     "execution_count": 12,
     "metadata": {},
     "output_type": "execute_result"
    },
    {
     "data": {
      "text/plain": [
       "current loss = 4.8044691353507\t\n",
       "current loss = 4.7998145570151\t\n",
       "current loss = 4.7951696908498\t\n",
       "current loss = 4.7905345115415\t\n",
       "current loss = 4.7859089938531\t\n",
       "current loss = 4.7812931126238\t\n"
      ]
     },
     "execution_count": 12,
     "metadata": {},
     "output_type": "execute_result"
    },
    {
     "data": {
      "text/plain": [
       "current loss = 4.7766868427683\t\n",
       "current loss = 4.7720901592768\t\n",
       "current loss = 4.7675030372149\t\n",
       "current loss = 4.7629254517232\t\n",
       "current loss = 4.7583573780169\t\n",
       "current loss = 4.7537987913858\t\n",
       "current loss = 4.7492496671941\t\n"
      ]
     },
     "execution_count": 12,
     "metadata": {},
     "output_type": "execute_result"
    },
    {
     "data": {
      "text/plain": [
       "current loss = 4.7447099808799\t\n",
       "current loss = 4.7401797079551\t\n",
       "current loss = 4.7356588240051\t\n",
       "current loss = 4.7311473046887\t\n",
       "current loss = 4.7266451257376\t\n",
       "current loss = 4.7221522629564\t\n"
      ]
     },
     "execution_count": 12,
     "metadata": {},
     "output_type": "execute_result"
    },
    {
     "data": {
      "text/plain": [
       "current loss = 4.7176686922223\t\n",
       "current loss = 4.7131943894848\t\n",
       "current loss = 4.7087293307654\t\n",
       "current loss = 4.7042734921577\t\n",
       "current loss = 4.6998268498266\t\n",
       "current loss = 4.6953893800087\t\n"
      ]
     },
     "execution_count": 12,
     "metadata": {},
     "output_type": "execute_result"
    },
    {
     "data": {
      "text/plain": [
       "current loss = 4.6909610590114\t\n",
       "current loss = 4.6865418632134\t\n",
       "current loss = 4.6821317690637\t\n",
       "current loss = 4.677730753082\t\n",
       "current loss = 4.6733387918582\t\n",
       "current loss = 4.668955862052\t\n",
       "current loss = 4.664581940393\t\n"
      ]
     },
     "execution_count": 12,
     "metadata": {},
     "output_type": "execute_result"
    },
    {
     "data": {
      "text/plain": [
       "current loss = 4.6602170036804\t\n",
       "current loss = 4.6558610287825\t\n",
       "current loss = 4.6515139926367\t\n",
       "current loss = 4.6471758722493\t\n",
       "current loss = 4.6428466446953\t\n",
       "current loss = 4.6385262871178\t\n"
      ]
     },
     "execution_count": 12,
     "metadata": {},
     "output_type": "execute_result"
    },
    {
     "data": {
      "text/plain": [
       "current loss = 4.6342147767284\t\n",
       "current loss = 4.6299120908065\t\n",
       "current loss = 4.625618206699\t\n",
       "current loss = 4.6213331018206\t\n",
       "current loss = 4.6170567536532\t\n",
       "current loss = 4.6127891397456\t\n"
      ]
     },
     "execution_count": 12,
     "metadata": {},
     "output_type": "execute_result"
    },
    {
     "data": {
      "text/plain": [
       "current loss = 4.6085302377136\t\n",
       "current loss = 4.6042800252394\t\n",
       "current loss = 4.6000384800719\t\n",
       "current loss = 4.5958055800257\t\n",
       "current loss = 4.591581302982\t\n",
       "current loss = 4.5873656268871\t\n"
      ]
     },
     "execution_count": 12,
     "metadata": {},
     "output_type": "execute_result"
    },
    {
     "data": {
      "text/plain": [
       "current loss = 4.5831585297532\t\n",
       "current loss = 4.5789599896576\t\n",
       "current loss = 4.5747699847429\t\n",
       "current loss = 4.5705884932165\t\n",
       "current loss = 4.5664154933503\t\n",
       "current loss = 4.5622509634809\t\n"
      ]
     },
     "execution_count": 12,
     "metadata": {},
     "output_type": "execute_result"
    },
    {
     "data": {
      "text/plain": [
       "current loss = 4.5580948820089\t\n",
       "current loss = 4.5539472273991\t\n",
       "current loss = 4.5498079781802\t\n",
       "current loss = 4.5456771129442\t\n",
       "current loss = 4.5415546103468\t\n",
       "current loss = 4.5374404491067\t\n"
      ]
     },
     "execution_count": 12,
     "metadata": {},
     "output_type": "execute_result"
    },
    {
     "data": {
      "text/plain": [
       "current loss = 4.5333346080057\t\n",
       "current loss = 4.5292370658884\t\n",
       "current loss = 4.5251478016619\t\n",
       "current loss = 4.5210667942957\t\n",
       "current loss = 4.5169940228215\t\n",
       "current loss = 4.5129294663328\t\n",
       "current loss = 4.5088731039851\t\n"
      ]
     },
     "execution_count": 12,
     "metadata": {},
     "output_type": "execute_result"
    },
    {
     "data": {
      "text/plain": [
       "current loss = 4.5048249149953\t\n",
       "current loss = 4.5007848786417\t\n",
       "current loss = 4.4967529742639\t\n",
       "current loss = 4.4927291812621\t\n",
       "current loss = 4.4887134790976\t\n",
       "current loss = 4.4847058472921\t\n"
      ]
     },
     "execution_count": 12,
     "metadata": {},
     "output_type": "execute_result"
    },
    {
     "data": {
      "text/plain": [
       "current loss = 4.4807062654277\t\n",
       "current loss = 4.4767147131466\t\n",
       "current loss = 4.4727311701512\t\n",
       "current loss = 4.4687556162033\t\n",
       "current loss = 4.4647880311245\t\n",
       "current loss = 4.4608283947958\t\n"
      ]
     },
     "execution_count": 12,
     "metadata": {},
     "output_type": "execute_result"
    },
    {
     "data": {
      "text/plain": [
       "current loss = 4.4568766871574\t\n",
       "current loss = 4.4529328882083\t\n",
       "current loss = 4.4489969780066\t\n",
       "current loss = 4.4450689366687\t\n",
       "current loss = 4.4411487443696\t\n",
       "current loss = 4.4372363813425\t\n"
      ]
     },
     "execution_count": 12,
     "metadata": {},
     "output_type": "execute_result"
    },
    {
     "data": {
      "text/plain": [
       "current loss = 4.4333318278787\t\n",
       "current loss = 4.4294350643271\t\n",
       "current loss = 4.4255460710946\t\n",
       "current loss = 4.4216648286454\t\n",
       "current loss = 4.4177913175009\t\n"
      ]
     },
     "execution_count": 12,
     "metadata": {},
     "output_type": "execute_result"
    },
    {
     "data": {
      "text/plain": [
       "current loss = 4.4139255182399\t\n",
       "current loss = 4.4100674114977\t\n",
       "current loss = 4.4062169779666\t\n",
       "current loss = 4.4023741983954\t\n"
      ]
     },
     "execution_count": 12,
     "metadata": {},
     "output_type": "execute_result"
    },
    {
     "data": {
      "text/plain": [
       "current loss = 4.3985390535893\t\n",
       "current loss = 4.3947115244095\t\n",
       "current loss = 4.3908915917734\t\n",
       "current loss = 4.3870792366541\t\n",
       "current loss = 4.3832744400804\t\n",
       "current loss = 4.3794771831364\t\n"
      ]
     },
     "execution_count": 12,
     "metadata": {},
     "output_type": "execute_result"
    },
    {
     "data": {
      "text/plain": [
       "current loss = 4.3756874469616\t\n",
       "current loss = 4.3719052127505\t\n",
       "current loss = 4.3681304617528\t\n",
       "current loss = 4.3643631752724\t\n",
       "current loss = 4.3606033346682\t\n",
       "current loss = 4.3568509213534\t\n"
      ]
     },
     "execution_count": 12,
     "metadata": {},
     "output_type": "execute_result"
    },
    {
     "data": {
      "text/plain": [
       "current loss = 4.3531059167952\t\n",
       "current loss = 4.349368302515\t\n",
       "current loss = 4.345638060088\t\n",
       "current loss = 4.3419151711431\t\n",
       "current loss = 4.3381996173626\t\n",
       "current loss = 4.3344913804823\t\n"
      ]
     },
     "execution_count": 12,
     "metadata": {},
     "output_type": "execute_result"
    },
    {
     "data": {
      "text/plain": [
       "current loss = 4.330790442291\t\n",
       "current loss = 4.3270967846305\t\n",
       "current loss = 4.3234103893956\t\n",
       "current loss = 4.3197312385334\t\n",
       "current loss = 4.3160593140438\t\n"
      ]
     },
     "execution_count": 12,
     "metadata": {},
     "output_type": "execute_result"
    },
    {
     "data": {
      "text/plain": [
       "current loss = 4.3123945979788\t\n",
       "current loss = 4.3087370724425\t\n",
       "current loss = 4.3050867195912\t\n",
       "current loss = 4.3014435216327\t\n",
       "current loss = 4.2978074608266\t\n",
       "current loss = 4.294178519484\t\n"
      ]
     },
     "execution_count": 12,
     "metadata": {},
     "output_type": "execute_result"
    },
    {
     "data": {
      "text/plain": [
       "current loss = 4.2905566799671\t\n",
       "current loss = 4.2869419246894\t\n",
       "current loss = 4.2833342361152\t\n",
       "current loss = 4.2797335967598\t\n",
       "current loss = 4.2761399891889\t\n",
       "current loss = 4.2725533960189\t\n"
      ]
     },
     "execution_count": 12,
     "metadata": {},
     "output_type": "execute_result"
    },
    {
     "data": {
      "text/plain": [
       "current loss = 4.2689737999163\t\n",
       "current loss = 4.265401183598\t\n",
       "current loss = 4.2618355298305\t\n",
       "current loss = 4.2582768214304\t\n",
       "current loss = 4.254725041264\t\n",
       "current loss = 4.2511801722468\t\n"
      ]
     },
     "execution_count": 12,
     "metadata": {},
     "output_type": "execute_result"
    },
    {
     "data": {
      "text/plain": [
       "current loss = 4.247642197344\t\n",
       "current loss = 4.2441110995698\t\n",
       "current loss = 4.2405868619873\t\n",
       "current loss = 4.2370694677086\t\n",
       "current loss = 4.2335588998946\t\n",
       "current loss = 4.2300551417547\t\n"
      ]
     },
     "execution_count": 12,
     "metadata": {},
     "output_type": "execute_result"
    },
    {
     "data": {
      "text/plain": [
       "current loss = 4.2265581765464\t\n",
       "current loss = 4.2230679875759\t\n",
       "current loss = 4.2195845581971\t\n",
       "current loss = 4.216107871812\t\n",
       "current loss = 4.2126379118704\t\n"
      ]
     },
     "execution_count": 12,
     "metadata": {},
     "output_type": "execute_result"
    },
    {
     "data": {
      "text/plain": [
       "current loss = 4.2091746618697\t\n",
       "current loss = 4.2057181053547\t\n",
       "current loss = 4.2022682259176\t\n",
       "current loss = 4.1988250071975\t\n"
      ]
     },
     "execution_count": 12,
     "metadata": {},
     "output_type": "execute_result"
    },
    {
     "data": {
      "text/plain": [
       "current loss = 4.1953884328809\t\n"
      ]
     },
     "execution_count": 12,
     "metadata": {},
     "output_type": "execute_result"
    },
    {
     "data": {
      "text/plain": [
       "current loss = 4.191958486701\t\n"
      ]
     },
     "execution_count": 12,
     "metadata": {},
     "output_type": "execute_result"
    },
    {
     "data": {
      "text/plain": [
       "current loss = 4.1885351524376\t\n"
      ]
     },
     "execution_count": 12,
     "metadata": {},
     "output_type": "execute_result"
    },
    {
     "data": {
      "text/plain": [
       "current loss = 4.1851184139172\t\n"
      ]
     },
     "execution_count": 12,
     "metadata": {},
     "output_type": "execute_result"
    },
    {
     "data": {
      "text/plain": [
       "current loss = 4.1817082550126\t\n",
       "current loss = 4.1783046596428\t\n"
      ]
     },
     "execution_count": 12,
     "metadata": {},
     "output_type": "execute_result"
    },
    {
     "data": {
      "text/plain": [
       "current loss = 4.1749076117732\t\n"
      ]
     },
     "execution_count": 12,
     "metadata": {},
     "output_type": "execute_result"
    },
    {
     "data": {
      "text/plain": [
       "current loss = 4.171517095415\t\n"
      ]
     },
     "execution_count": 12,
     "metadata": {},
     "output_type": "execute_result"
    },
    {
     "data": {
      "text/plain": [
       "current loss = 4.168133094625\t\n"
      ]
     },
     "execution_count": 12,
     "metadata": {},
     "output_type": "execute_result"
    },
    {
     "data": {
      "text/plain": [
       "current loss = 4.1647555935059\t\n",
       "current loss = 4.161384576206\t\n"
      ]
     },
     "execution_count": 12,
     "metadata": {},
     "output_type": "execute_result"
    },
    {
     "data": {
      "text/plain": [
       "current loss = 4.1580200269189\t\n",
       "current loss = 4.1546619298831\t\n",
       "current loss = 4.1513102693828\t\n",
       "current loss = 4.1479650297467\t\n"
      ]
     },
     "execution_count": 12,
     "metadata": {},
     "output_type": "execute_result"
    },
    {
     "data": {
      "text/plain": [
       "current loss = 4.1446261953483\t\n",
       "current loss = 4.141293750606\t\n"
      ]
     },
     "execution_count": 12,
     "metadata": {},
     "output_type": "execute_result"
    },
    {
     "data": {
      "text/plain": [
       "current loss = 4.1379676799825\t\n",
       "current loss = 4.134647967985\t\n"
      ]
     },
     "execution_count": 12,
     "metadata": {},
     "output_type": "execute_result"
    },
    {
     "data": {
      "text/plain": [
       "current loss = 4.1313345991649\t\n",
       "current loss = 4.1280275581176\t\n",
       "current loss = 4.1247268294824\t\n",
       "current loss = 4.1214323979427\t\n",
       "current loss = 4.1181442482253\t\n",
       "current loss = 4.1148623651005\t\n",
       "current loss = 4.1115867333821\t\n",
       "current loss = 4.1083173379272\t\n"
      ]
     },
     "execution_count": 12,
     "metadata": {},
     "output_type": "execute_result"
    },
    {
     "data": {
      "text/plain": [
       "current loss = 4.1050541636359\t\n",
       "current loss = 4.1017971954514\t\n",
       "current loss = 4.0985464183594\t\n",
       "current loss = 4.0953018173887\t\n",
       "current loss = 4.0920633776104\t\n",
       "current loss = 4.0888310841382\t\n",
       "current loss = 4.085604922128\t\n",
       "current loss = 4.0823848767778\t\n"
      ]
     },
     "execution_count": 12,
     "metadata": {},
     "output_type": "execute_result"
    },
    {
     "data": {
      "text/plain": [
       "current loss = 4.0791709333278\t\n",
       "current loss = 4.0759630770598\t\n",
       "current loss = 4.0727612932976\t\n",
       "current loss = 4.0695655674066\t\n",
       "current loss = 4.0663758847936\t\n",
       "current loss = 4.0631922309067\t\n",
       "current loss = 4.0600145912354\t\n",
       "current loss = 4.0568429513102\t\n"
      ]
     },
     "execution_count": 12,
     "metadata": {},
     "output_type": "execute_result"
    },
    {
     "data": {
      "text/plain": [
       "current loss = 4.0536772967025\t\n",
       "current loss = 4.0505176130247\t\n",
       "current loss = 4.0473638859297\t\n",
       "current loss = 4.0442161011111\t\n",
       "current loss = 4.041074244303\t\n",
       "current loss = 4.0379383012796\t\n",
       "current loss = 4.0348082578556\t\n",
       "current loss = 4.0316840998854\t\n"
      ]
     },
     "execution_count": 12,
     "metadata": {},
     "output_type": "execute_result"
    },
    {
     "data": {
      "text/plain": [
       "current loss = 4.0285658132636\t\n",
       "current loss = 4.0254533839246\t\n",
       "current loss = 4.0223467978422\t\n",
       "current loss = 4.0192460410302\t\n",
       "current loss = 4.0161510995414\t\n",
       "current loss = 4.0130619594681\t\n",
       "current loss = 4.0099786069418\t\n",
       "current loss = 4.0069010281331\t\n"
      ]
     },
     "execution_count": 12,
     "metadata": {},
     "output_type": "execute_result"
    },
    {
     "data": {
      "text/plain": [
       "current loss = 4.0038292092514\t\n",
       "current loss = 4.000763136545\t\n",
       "current loss = 3.9977027963008\t\n",
       "current loss = 3.9946481748443\t\n",
       "current loss = 3.9915992585396\t\n",
       "current loss = 3.9885560337887\t\n",
       "current loss = 3.9855184870323\t\n",
       "current loss = 3.9824866047489\t\n"
      ]
     },
     "execution_count": 12,
     "metadata": {},
     "output_type": "execute_result"
    },
    {
     "data": {
      "text/plain": [
       "current loss = 3.979460373455\t\n",
       "current loss = 3.976439779705\t\n",
       "current loss = 3.9734248100908\t\n",
       "current loss = 3.9704154512422\t\n",
       "current loss = 3.9674116898263\t\n",
       "current loss = 3.9644135125477\t\n",
       "current loss = 3.961420906148\t\n",
       "current loss = 3.9584338574062\t\n"
      ]
     },
     "execution_count": 12,
     "metadata": {},
     "output_type": "execute_result"
    },
    {
     "data": {
      "text/plain": [
       "current loss = 3.9554523531381\t\n",
       "current loss = 3.9524763801965\t\n",
       "current loss = 3.949505925471\t\n",
       "current loss = 3.9465409758878\t\n",
       "current loss = 3.9435815184096\t\n",
       "current loss = 3.9406275400357\t\n",
       "current loss = 3.9376790278015\t\n",
       "current loss = 3.9347359687788\t\n",
       "current loss = 3.9317983500753\t\n"
      ]
     },
     "execution_count": 12,
     "metadata": {},
     "output_type": "execute_result"
    },
    {
     "data": {
      "text/plain": [
       "current loss = 3.9288661588349\t\n",
       "current loss = 3.9259393822371\t\n",
       "current loss = 3.9230180074973\t\n",
       "current loss = 3.9201020218667\t\n",
       "current loss = 3.9171914126315\t\n",
       "current loss = 3.914286167114\t\n",
       "current loss = 3.9113862726712\t\n",
       "current loss = 3.9084917166956\t\n"
      ]
     },
     "execution_count": 12,
     "metadata": {},
     "output_type": "execute_result"
    },
    {
     "data": {
      "text/plain": [
       "current loss = 3.9056024866148\t\n",
       "current loss = 3.9027185698913\t\n",
       "current loss = 3.8998399540223\t\n",
       "current loss = 3.89696662654\t\n",
       "current loss = 3.8940985750111\t\n",
       "current loss = 3.891235787037\t\n",
       "current loss = 3.8883782502533\t\n",
       "current loss = 3.88552595233\t\n"
      ]
     },
     "execution_count": 12,
     "metadata": {},
     "output_type": "execute_result"
    },
    {
     "data": {
      "text/plain": [
       "current loss = 3.8826788809713\t\n",
       "current loss = 3.8798370239157\t\n",
       "current loss = 3.8770003689353\t\n",
       "current loss = 3.8741689038365\t\n",
       "current loss = 3.8713426164591\t\n",
       "current loss = 3.868521494677\t\n",
       "current loss = 3.8657055263973\t\n"
      ]
     },
     "execution_count": 12,
     "metadata": {},
     "output_type": "execute_result"
    },
    {
     "data": {
      "text/plain": [
       "current loss = 3.8628946995607\t\n",
       "current loss = 3.8600890021413\t\n",
       "current loss = 3.8572884221465\t\n",
       "current loss = 3.8544929476168\t\n",
       "current loss = 3.8517025666256\t\n",
       "current loss = 3.8489172672795\t\n"
      ]
     },
     "execution_count": 12,
     "metadata": {},
     "output_type": "execute_result"
    },
    {
     "data": {
      "text/plain": [
       "current loss = 3.8461370377178\t\n",
       "current loss = 3.8433618661126\t\n",
       "current loss = 3.8405917406686\t\n",
       "current loss = 3.837826649623\t\n",
       "current loss = 3.8350665812456\t\n",
       "current loss = 3.8323115238384\t\n",
       "current loss = 3.8295614657356\t\n",
       "current loss = 3.8268163953036\t\n"
      ]
     },
     "execution_count": 12,
     "metadata": {},
     "output_type": "execute_result"
    },
    {
     "data": {
      "text/plain": [
       "current loss = 3.8240763009409\t\n",
       "current loss = 3.8213411710779\t\n",
       "current loss = 3.8186109941767\t\n",
       "current loss = 3.8158857587312\t\n",
       "current loss = 3.8131654532672\t\n",
       "current loss = 3.8104500663416\t\n",
       "current loss = 3.8077395865432\t\n",
       "current loss = 3.8050340024916\t\n"
      ]
     },
     "execution_count": 12,
     "metadata": {},
     "output_type": "execute_result"
    },
    {
     "data": {
      "text/plain": [
       "current loss = 3.8023333028382\t\n",
       "current loss = 3.7996374762652\t\n",
       "current loss = 3.796946511486\t\n",
       "current loss = 3.7942603972449\t\n",
       "current loss = 3.791579122317\t\n",
       "current loss = 3.7889026755083\t\n",
       "current loss = 3.7862310456555\t\n",
       "current loss = 3.7835642216256\t\n"
      ]
     },
     "execution_count": 12,
     "metadata": {},
     "output_type": "execute_result"
    },
    {
     "data": {
      "text/plain": [
       "current loss = 3.7809021923164\t\n",
       "current loss = 3.7782449466559\t\n",
       "current loss = 3.7755924736025\t\n",
       "current loss = 3.7729447621446\t\n",
       "current loss = 3.770301801301\t\n",
       "current loss = 3.7676635801202\t\n",
       "current loss = 3.7650300876809\t\n",
       "current loss = 3.7624013130914\t\n"
      ]
     },
     "execution_count": 12,
     "metadata": {},
     "output_type": "execute_result"
    },
    {
     "data": {
      "text/plain": [
       "current loss = 3.7597772454899\t\n",
       "current loss = 3.7571578740441\t\n",
       "current loss = 3.7545431879514\t\n",
       "current loss = 3.7519331764385\t\n",
       "current loss = 3.7493278287615\t\n",
       "current loss = 3.746727134206\t\n",
       "current loss = 3.7441310820864\t\n",
       "current loss = 3.7415396617466\t\n"
      ]
     },
     "execution_count": 12,
     "metadata": {},
     "output_type": "execute_result"
    },
    {
     "data": {
      "text/plain": [
       "current loss = 3.7389528625591\t\n",
       "current loss = 3.7363706739258\t\n",
       "current loss = 3.7337930852768\t\n",
       "current loss = 3.7312200860716\t\n",
       "current loss = 3.7286516657979\t\n",
       "current loss = 3.7260878139722\t\n",
       "current loss = 3.7235285201392\t\n",
       "current loss = 3.7209737738723\t\n"
      ]
     },
     "execution_count": 12,
     "metadata": {},
     "output_type": "execute_result"
    },
    {
     "data": {
      "text/plain": [
       "current loss = 3.7184235647731\t\n",
       "current loss = 3.7158778824713\t\n",
       "current loss = 3.7133367166248\t\n",
       "current loss = 3.7108000569196\t\n",
       "current loss = 3.7082678930695\t\n",
       "current loss = 3.7057402148164\t\n",
       "current loss = 3.7032170119297\t\n",
       "current loss = 3.7006982742068\t\n"
      ]
     },
     "execution_count": 12,
     "metadata": {},
     "output_type": "execute_result"
    },
    {
     "data": {
      "text/plain": [
       "current loss = 3.6981839914724\t\n",
       "current loss = 3.6956741535789\t\n",
       "current loss = 3.6931687504061\t\n",
       "current loss = 3.6906677718613\t\n",
       "current loss = 3.6881712078789\t\n",
       "current loss = 3.6856790484204\t\n",
       "current loss = 3.6831912834747\t\n",
       "current loss = 3.6807079030575\t\n"
      ]
     },
     "execution_count": 12,
     "metadata": {},
     "output_type": "execute_result"
    },
    {
     "data": {
      "text/plain": [
       "current loss = 3.6782288972115\t\n",
       "current loss = 3.6757542560063\t\n",
       "current loss = 3.6732839695383\t\n",
       "current loss = 3.6708180279304\t\n",
       "current loss = 3.6683564213323\t\n",
       "current loss = 3.6658991399202\t\n",
       "current loss = 3.6634461738968\t\n",
       "current loss = 3.6609975134909\t\n"
      ]
     },
     "execution_count": 12,
     "metadata": {},
     "output_type": "execute_result"
    },
    {
     "data": {
      "text/plain": [
       "current loss = 3.658553148958\t\n",
       "current loss = 3.6561130705794\t\n",
       "current loss = 3.6536772686629\t\n",
       "current loss = 3.6512457335421\t\n",
       "current loss = 3.6488184555767\t\n",
       "current loss = 3.646395425152\t\n",
       "current loss = 3.6439766326796\t\n",
       "current loss = 3.6415620685965\t\n"
      ]
     },
     "execution_count": 12,
     "metadata": {},
     "output_type": "execute_result"
    },
    {
     "data": {
      "text/plain": [
       "current loss = 3.6391517233654\t\n",
       "current loss = 3.6367455874745\t\n",
       "current loss = 3.6343436514378\t\n",
       "current loss = 3.6319459057944\t\n",
       "current loss = 3.6295523411088\t\n",
       "current loss = 3.627162947971\t\n",
       "current loss = 3.6247777169958\t\n",
       "current loss = 3.6223966388235\t\n"
      ]
     },
     "execution_count": 12,
     "metadata": {},
     "output_type": "execute_result"
    },
    {
     "data": {
      "text/plain": [
       "current loss = 3.6200197041192\t\n",
       "current loss = 3.617646903573\t\n",
       "current loss = 3.6152782279\t\n",
       "current loss = 3.6129136678398\t\n",
       "current loss = 3.6105532141571\t\n",
       "current loss = 3.6081968576411\t\n",
       "current loss = 3.6058445891055\t\n",
       "current loss = 3.6034963993887\t\n"
      ]
     },
     "execution_count": 12,
     "metadata": {},
     "output_type": "execute_result"
    },
    {
     "data": {
      "text/plain": [
       "current loss = 3.6011522793533\t\n",
       "current loss = 3.5988122198865\t\n",
       "current loss = 3.5964762118995\t\n",
       "current loss = 3.5941442463281\t\n",
       "current loss = 3.5918163141318\t\n",
       "current loss = 3.5894924062945\t\n",
       "current loss = 3.587172513824\t\n"
      ]
     },
     "execution_count": 12,
     "metadata": {},
     "output_type": "execute_result"
    },
    {
     "data": {
      "text/plain": [
       "current loss = 3.5848566277519\t\n",
       "current loss = 3.5825447391338\t\n",
       "current loss = 3.5802368390491\t\n",
       "current loss = 3.5779329186006\t\n",
       "current loss = 3.5756329689151\t\n",
       "current loss = 3.5733369811429\t\n",
       "current loss = 3.5710449464575\t\n",
       "current loss = 3.5687568560561\t\n"
      ]
     },
     "execution_count": 12,
     "metadata": {},
     "output_type": "execute_result"
    },
    {
     "data": {
      "text/plain": [
       "current loss = 3.5664727011592\t\n",
       "current loss = 3.5641924730106\t\n",
       "current loss = 3.5619161628771\t\n",
       "current loss = 3.5596437620489\t\n",
       "current loss = 3.5573752618391\t\n",
       "current loss = 3.5551106535838\t\n",
       "current loss = 3.5528499286422\t\n",
       "current loss = 3.5505930783962\t\n"
      ]
     },
     "execution_count": 12,
     "metadata": {},
     "output_type": "execute_result"
    },
    {
     "data": {
      "text/plain": [
       "current loss = 3.5483400942504\t\n",
       "current loss = 3.5460909676325\t\n",
       "current loss = 3.5438456899923\t\n",
       "current loss = 3.5416042528028\t\n",
       "current loss = 3.5393666475589\t\n",
       "current loss = 3.5371328657785\t\n",
       "current loss = 3.5349028990015\t\n",
       "current loss = 3.5326767387902\t\n"
      ]
     },
     "execution_count": 12,
     "metadata": {},
     "output_type": "execute_result"
    },
    {
     "data": {
      "text/plain": [
       "current loss = 3.5304543767294\t\n",
       "current loss = 3.5282358044257\t\n",
       "current loss = 3.526021013508\t\n",
       "current loss = 3.5238099956273\t\n",
       "current loss = 3.5216027424565\t\n",
       "current loss = 3.5193992456904\t\n"
      ]
     },
     "execution_count": 12,
     "metadata": {},
     "output_type": "execute_result"
    },
    {
     "data": {
      "text/plain": [
       "current loss = 3.5171994970457\t\n",
       "current loss = 3.5150034882608\t\n",
       "current loss = 3.512811211096\t\n",
       "current loss = 3.5106226573331\t\n",
       "current loss = 3.5084378187756\t\n",
       "current loss = 3.5062566872483\t\n",
       "current loss = 3.5040792545976\t\n",
       "current loss = 3.5019055126915\t\n"
      ]
     },
     "execution_count": 12,
     "metadata": {},
     "output_type": "execute_result"
    },
    {
     "data": {
      "text/plain": [
       "current loss = 3.4997354534189\t\n",
       "current loss = 3.4975690686904\t\n",
       "current loss = 3.4954063504376\t\n",
       "current loss = 3.4932472906131\t\n",
       "current loss = 3.4910918811908\t\n",
       "current loss = 3.4889401141656\t\n",
       "current loss = 3.4867919815532\t\n",
       "current loss = 3.4846474753903\t\n"
      ]
     },
     "execution_count": 12,
     "metadata": {},
     "output_type": "execute_result"
    },
    {
     "data": {
      "text/plain": [
       "current loss = 3.4825065877344\t\n",
       "current loss = 3.4803693106639\t\n",
       "current loss = 3.4782356362776\t\n",
       "current loss = 3.4761055566952\t\n",
       "current loss = 3.4739790640569\t\n",
       "current loss = 3.4718561505234\t\n",
       "current loss = 3.4697368082759\t\n",
       "current loss = 3.4676210295159\t\n"
      ]
     },
     "execution_count": 12,
     "metadata": {},
     "output_type": "execute_result"
    },
    {
     "data": {
      "text/plain": [
       "current loss = 3.4655088064654\t\n",
       "current loss = 3.4634001313664\t\n",
       "current loss = 3.4612949964815\t\n",
       "current loss = 3.4591933940931\t\n",
       "current loss = 3.4570953165039\t\n",
       "current loss = 3.4550007560366\t\n",
       "current loss = 3.4529097050338\t\n",
       "current loss = 3.450822155858\t\n"
      ]
     },
     "execution_count": 12,
     "metadata": {},
     "output_type": "execute_result"
    },
    {
     "data": {
      "text/plain": [
       "current loss = 3.4487381008918\t\n",
       "current loss = 3.4466575325372\t\n",
       "current loss = 3.4445804432164\t\n",
       "current loss = 3.4425068253708\t\n",
       "current loss = 3.4404366714619\t\n",
       "current loss = 3.4383699739703\t\n",
       "current loss = 3.4363067253964\t\n",
       "current loss = 3.4342469182601\t\n"
      ]
     },
     "execution_count": 12,
     "metadata": {},
     "output_type": "execute_result"
    },
    {
     "data": {
      "text/plain": [
       "current loss = 3.4321905451004\t\n",
       "current loss = 3.4301375984759\t\n",
       "current loss = 3.4280880709643\t\n",
       "current loss = 3.4260419551627\t\n",
       "current loss = 3.4239992436872\t\n",
       "current loss = 3.421959929173\t\n",
       "current loss = 3.4199240042745\t\n",
       "current loss = 3.417891461665\t\n"
      ]
     },
     "execution_count": 12,
     "metadata": {},
     "output_type": "execute_result"
    },
    {
     "data": {
      "text/plain": [
       "current loss = 3.4158622940367\t\n",
       "current loss = 3.4138364941007\t\n",
       "current loss = 3.411814054587\t\n",
       "current loss = 3.4097949682443\t\n",
       "current loss = 3.40777922784\t\n",
       "current loss = 3.4057668261602\t\n",
       "current loss = 3.4037577560095\t\n",
       "current loss = 3.4017520102114\t\n"
      ]
     },
     "execution_count": 12,
     "metadata": {},
     "output_type": "execute_result"
    },
    {
     "data": {
      "text/plain": [
       "current loss = 3.3997495816073\t\n",
       "current loss = 3.3977504630576\t\n",
       "current loss = 3.3957546474407\t\n",
       "current loss = 3.3937621276537\t\n",
       "current loss = 3.3917728966115\t\n",
       "current loss = 3.3897869472476\t\n",
       "current loss = 3.3878042725136\t\n",
       "current loss = 3.3858248653792\t\n"
      ]
     },
     "execution_count": 12,
     "metadata": {},
     "output_type": "execute_result"
    },
    {
     "data": {
      "text/plain": [
       "current loss = 3.383848718832\t\n",
       "current loss = 3.3818758258778\t\n",
       "current loss = 3.3799061795403\t\n",
       "current loss = 3.3779397728612\t\n",
       "current loss = 3.3759765988998\t\n",
       "current loss = 3.3740166507334\t\n",
       "current loss = 3.3720599214571\t\n",
       "current loss = 3.3701064041834\t\n"
      ]
     },
     "execution_count": 12,
     "metadata": {},
     "output_type": "execute_result"
    },
    {
     "data": {
      "text/plain": [
       "current loss = 3.3681560920429\t\n",
       "current loss = 3.3662089781833\t\n",
       "current loss = 3.3642650557702\t\n",
       "current loss = 3.3623243179864\t\n",
       "current loss = 3.3603867580326\t\n",
       "current loss = 3.3584523691263\t\n",
       "current loss = 3.3565211445027\t\n",
       "current loss = 3.3545930774142\t\n"
      ]
     },
     "execution_count": 12,
     "metadata": {},
     "output_type": "execute_result"
    },
    {
     "data": {
      "text/plain": [
       "current loss = 3.3526681611304\t\n",
       "current loss = 3.3507463889383\t\n",
       "current loss = 3.3488277541416\t\n",
       "current loss = 3.3469122500615\t\n",
       "current loss = 3.344999870036\t\n",
       "current loss = 3.3430906074201\t\n",
       "current loss = 3.3411844555859\t\n"
      ]
     },
     "execution_count": 12,
     "metadata": {},
     "output_type": "execute_result"
    },
    {
     "data": {
      "text/plain": [
       "current loss = 3.3392814079223\t\n",
       "current loss = 3.3373814578348\t\n",
       "current loss = 3.3354845987461\t\n",
       "current loss = 3.3335908240953\t\n",
       "current loss = 3.3317001273384\t\n",
       "current loss = 3.3298125019478\t\n",
       "current loss = 3.3279279414129\t\n",
       "current loss = 3.3260464392391\t\n"
      ]
     },
     "execution_count": 12,
     "metadata": {},
     "output_type": "execute_result"
    },
    {
     "data": {
      "text/plain": [
       "current loss = 3.3241679889489\t\n",
       "current loss = 3.3222925840806\t\n",
       "current loss = 3.3204202181895\t\n",
       "current loss = 3.3185508848469\t\n",
       "current loss = 3.3166845776404\t\n",
       "current loss = 3.314821290174\t\n",
       "current loss = 3.3129610160679\t\n",
       "current loss = 3.3111037489583\t\n"
      ]
     },
     "execution_count": 12,
     "metadata": {},
     "output_type": "execute_result"
    },
    {
     "data": {
      "text/plain": [
       "current loss = 3.3092494824978\t\n",
       "current loss = 3.3073982103547\t\n",
       "current loss = 3.3055499262137\t\n",
       "current loss = 3.3037046237751\t\n",
       "current loss = 3.3018622967555\t\n",
       "current loss = 3.3000229388871\t\n",
       "current loss = 3.2981865439181\t\n"
      ]
     },
     "execution_count": 12,
     "metadata": {},
     "output_type": "execute_result"
    },
    {
     "data": {
      "text/plain": [
       "current loss = 3.2963531056125\t\n",
       "current loss = 3.2945226177498\t\n",
       "current loss = 3.2926950741254\t\n",
       "current loss = 3.2908704685505\t\n",
       "current loss = 3.2890487948516\t\n",
       "current loss = 3.287230046871\t\n",
       "current loss = 3.2854142184663\t\n",
       "current loss = 3.2836013035108\t\n"
      ]
     },
     "execution_count": 12,
     "metadata": {},
     "output_type": "execute_result"
    },
    {
     "data": {
      "text/plain": [
       "current loss = 3.281791295893\t\n",
       "current loss = 3.2799841895171\t\n",
       "current loss = 3.2781799783023\t\n",
       "current loss = 3.2763786561833\t\n",
       "current loss = 3.27458021711\t\n",
       "current loss = 3.2727846550475\t\n",
       "current loss = 3.2709919639761\t\n",
       "current loss = 3.2692021378911\t\n"
      ]
     },
     "execution_count": 12,
     "metadata": {},
     "output_type": "execute_result"
    },
    {
     "data": {
      "text/plain": [
       "current loss = 3.2674151708031\t\n",
       "current loss = 3.2656310567375\t\n",
       "current loss = 3.2638497897348\t\n",
       "current loss = 3.2620713638504\t\n",
       "current loss = 3.2602957731548\t\n",
       "current loss = 3.258523011733\t\n",
       "current loss = 3.2567530736852\t\n",
       "current loss = 3.254985953126\t\n"
      ]
     },
     "execution_count": 12,
     "metadata": {},
     "output_type": "execute_result"
    },
    {
     "data": {
      "text/plain": [
       "current loss = 3.2532216441851\t\n",
       "current loss = 3.2514601410066\t\n",
       "current loss = 3.2497014377495\t\n",
       "current loss = 3.2479455285871\t\n",
       "current loss = 3.2461924077076\t\n",
       "current loss = 3.2444420693134\t\n",
       "current loss = 3.2426945076216\t\n",
       "current loss = 3.2409497168638\t\n"
      ]
     },
     "execution_count": 12,
     "metadata": {},
     "output_type": "execute_result"
    },
    {
     "data": {
      "text/plain": [
       "current loss = 3.2392076912857\t\n",
       "current loss = 3.2374684251477\t\n",
       "current loss = 3.2357319127242\t\n",
       "current loss = 3.233998148304\t\n",
       "current loss = 3.2322671261904\t\n",
       "current loss = 3.2305388407004\t\n",
       "current loss = 3.2288132861655\t\n"
      ]
     },
     "execution_count": 12,
     "metadata": {},
     "output_type": "execute_result"
    },
    {
     "data": {
      "text/plain": [
       "current loss = 3.2270904569313\t\n",
       "current loss = 3.2253703473572\t\n",
       "current loss = 3.223652951817\t\n",
       "current loss = 3.2219382646982\t\n",
       "current loss = 3.2202262804024\t\n",
       "current loss = 3.218516993345\t\n"
      ]
     },
     "execution_count": 12,
     "metadata": {},
     "output_type": "execute_result"
    },
    {
     "data": {
      "text/plain": [
       "current loss = 3.2168103979555\t\n",
       "current loss = 3.2151064886769\t\n",
       "current loss = 3.2134052599663\t\n",
       "current loss = 3.2117067062944\t\n"
      ]
     },
     "execution_count": 12,
     "metadata": {},
     "output_type": "execute_result"
    },
    {
     "data": {
      "text/plain": [
       "current loss = 3.2100108221455\t\n",
       "current loss = 3.2083176020179\t\n",
       "current loss = 3.2066270404232\t\n",
       "current loss = 3.2049391318869\t\n",
       "current loss = 3.2032538709478\t\n",
       "current loss = 3.2015712521583\t\n",
       "current loss = 3.1998912700843\t\n",
       "current loss = 3.1982139193052\t\n"
      ]
     },
     "execution_count": 12,
     "metadata": {},
     "output_type": "execute_result"
    },
    {
     "data": {
      "text/plain": [
       "current loss = 3.1965391944138\t\n",
       "current loss = 3.1948670900161\t\n",
       "current loss = 3.1931976007316\t\n",
       "current loss = 3.1915307211931\t\n",
       "current loss = 3.1898664460465\t\n",
       "current loss = 3.188204769951\t\n",
       "current loss = 3.186545687579\t\n",
       "current loss = 3.1848891936162\t\n"
      ]
     },
     "execution_count": 12,
     "metadata": {},
     "output_type": "execute_result"
    },
    {
     "data": {
      "text/plain": [
       "current loss = 3.1832352827609\t\n",
       "current loss = 3.1815839497251\t\n",
       "current loss = 3.1799351892333\t\n",
       "current loss = 3.1782889960234\t\n",
       "current loss = 3.1766453648459\t\n",
       "current loss = 3.1750042904645\t\n"
      ]
     },
     "execution_count": 12,
     "metadata": {},
     "output_type": "execute_result"
    },
    {
     "data": {
      "text/plain": [
       "current loss = 3.1733657676556\t\n",
       "current loss = 3.1717297912086\t\n",
       "current loss = 3.1700963559256\t\n",
       "current loss = 3.1684654566215\t\n",
       "current loss = 3.1668370881239\t\n",
       "current loss = 3.1652112452732\t\n"
      ]
     },
     "execution_count": 12,
     "metadata": {},
     "output_type": "execute_result"
    },
    {
     "data": {
      "text/plain": [
       "current loss = 3.1635879229223\t\n",
       "current loss = 3.1619671159369\t\n",
       "current loss = 3.1603488191953\t\n",
       "current loss = 3.1587330275881\t\n",
       "current loss = 3.1571197360188\t\n",
       "current loss = 3.1555089394031\t\n",
       "current loss = 3.1539006326693\t\n",
       "current loss = 3.152294810758\t\n"
      ]
     },
     "execution_count": 12,
     "metadata": {},
     "output_type": "execute_result"
    },
    {
     "data": {
      "text/plain": [
       "current loss = 3.1506914686222\t\n",
       "current loss = 3.1490906012275\t\n",
       "current loss = 3.1474922035513\t\n",
       "current loss = 3.1458962705839\t\n",
       "current loss = 3.1443027973273\t\n"
      ]
     },
     "execution_count": 12,
     "metadata": {},
     "output_type": "execute_result"
    },
    {
     "data": {
      "text/plain": [
       "current loss = 3.142711778796\t\n",
       "current loss = 3.1411232100167\t\n",
       "current loss = 3.139537086028\t\n",
       "current loss = 3.1379534018809\t\n",
       "current loss = 3.1363721526383\t\n",
       "current loss = 3.134793333375\t\n"
      ]
     },
     "execution_count": 12,
     "metadata": {},
     "output_type": "execute_result"
    },
    {
     "data": {
      "text/plain": [
       "current loss = 3.1332169391782\t\n",
       "current loss = 3.1316429651467\t\n",
       "current loss = 3.1300714063914\t\n",
       "current loss = 3.1285022580351\t\n",
       "current loss = 3.1269355152125\t\n",
       "current loss = 3.12537117307\t\n",
       "current loss = 3.123809226766\t\n"
      ]
     },
     "execution_count": 12,
     "metadata": {},
     "output_type": "execute_result"
    },
    {
     "data": {
      "text/plain": [
       "current loss = 3.1222496714704\t\n",
       "current loss = 3.1206925023652\t\n",
       "current loss = 3.1191377146438\t\n",
       "current loss = 3.1175853035113\t\n",
       "current loss = 3.1160352641847\t\n",
       "current loss = 3.1144875918923\t\n"
      ]
     },
     "execution_count": 12,
     "metadata": {},
     "output_type": "execute_result"
    },
    {
     "data": {
      "text/plain": [
       "current loss = 3.1129422818742\t\n",
       "current loss = 3.1113993293818\t\n",
       "current loss = 3.1098587296783\t\n",
       "current loss = 3.1083204780381\t\n",
       "current loss = 3.1067845697473\t\n",
       "current loss = 3.1052510001032\t\n"
      ]
     },
     "execution_count": 12,
     "metadata": {},
     "output_type": "execute_result"
    },
    {
     "data": {
      "text/plain": [
       "current loss = 3.1037197644146\t\n",
       "current loss = 3.1021908580016\t\n",
       "current loss = 3.1006642761957\t\n",
       "current loss = 3.0991400143395\t\n",
       "current loss = 3.0976180677871\t\n",
       "current loss = 3.0960984319038\t\n",
       "current loss = 3.0945811020657\t\n"
      ]
     },
     "execution_count": 12,
     "metadata": {},
     "output_type": "execute_result"
    },
    {
     "data": {
      "text/plain": [
       "current loss = 3.0930660736607\t\n",
       "current loss = 3.0915533420872\t\n",
       "current loss = 3.0900429027552\t\n",
       "current loss = 3.0885347510855\t\n",
       "current loss = 3.0870288825099\t\n",
       "current loss = 3.0855252924714\t\n",
       "current loss = 3.084023976424\t\n"
      ]
     },
     "execution_count": 12,
     "metadata": {},
     "output_type": "execute_result"
    },
    {
     "data": {
      "text/plain": [
       "current loss = 3.0825249298323\t\n",
       "current loss = 3.0810281481722\t\n",
       "current loss = 3.0795336269302\t\n",
       "current loss = 3.0780413616039\t\n",
       "current loss = 3.0765513477016\t\n",
       "current loss = 3.0750635807424\t\n"
      ]
     },
     "execution_count": 12,
     "metadata": {},
     "output_type": "execute_result"
    },
    {
     "data": {
      "text/plain": [
       "current loss = 3.0735780562562\t\n",
       "current loss = 3.0720947697835\t\n",
       "current loss = 3.0706137168757\t\n",
       "current loss = 3.0691348930948\t\n",
       "current loss = 3.0676582940134\t\n"
      ]
     },
     "execution_count": 12,
     "metadata": {},
     "output_type": "execute_result"
    },
    {
     "data": {
      "text/plain": [
       "current loss = 3.0661839152147\t\n",
       "current loss = 3.0647117522927\t\n",
       "current loss = 3.0632418008517\t\n",
       "current loss = 3.0617740565066\t\n",
       "current loss = 3.0603085148829\t\n",
       "current loss = 3.0588451716164\t\n"
      ]
     },
     "execution_count": 12,
     "metadata": {},
     "output_type": "execute_result"
    },
    {
     "data": {
      "text/plain": [
       "current loss = 3.0573840223536\t\n",
       "current loss = 3.0559250627511\t\n",
       "current loss = 3.0544682884762\t\n",
       "current loss = 3.0530136952063\t\n",
       "current loss = 3.0515612786292\t\n",
       "current loss = 3.0501110344431\t\n"
      ]
     },
     "execution_count": 12,
     "metadata": {},
     "output_type": "execute_result"
    },
    {
     "data": {
      "text/plain": [
       "current loss = 3.0486629583563\t\n",
       "current loss = 3.0472170460875\t\n",
       "current loss = 3.0457732933656\t\n",
       "current loss = 3.0443316959296\t\n",
       "current loss = 3.0428922495286\t\n",
       "current loss = 3.0414549499221\t\n",
       "current loss = 3.0400197928794\t\n"
      ]
     },
     "execution_count": 12,
     "metadata": {},
     "output_type": "execute_result"
    },
    {
     "data": {
      "text/plain": [
       "current loss = 3.03858677418\t\n",
       "current loss = 3.0371558896136\t\n",
       "current loss = 3.0357271349796\t\n",
       "current loss = 3.0343005060876\t\n",
       "current loss = 3.0328759987571\t\n",
       "current loss = 3.0314536088177\t\n"
      ]
     },
     "execution_count": 12,
     "metadata": {},
     "output_type": "execute_result"
    },
    {
     "data": {
      "text/plain": [
       "current loss = 3.0300333321086\t\n",
       "current loss = 3.0286151644792\t\n",
       "current loss = 3.0271991017884\t\n",
       "current loss = 3.0257851399054\t\n",
       "current loss = 3.0243732747088\t\n",
       "current loss = 3.022963502087\t\n"
      ]
     },
     "execution_count": 12,
     "metadata": {},
     "output_type": "execute_result"
    },
    {
     "data": {
      "text/plain": [
       "current loss = 3.0215558179385\t\n",
       "current loss = 3.0201502181711\t\n",
       "current loss = 3.0187466987025\t\n",
       "current loss = 3.0173452554602\t\n",
       "current loss = 3.015945884381\t\n",
       "current loss = 3.0145485814115\t\n"
      ]
     },
     "execution_count": 12,
     "metadata": {},
     "output_type": "execute_result"
    },
    {
     "data": {
      "text/plain": [
       "current loss = 3.013153342508\t\n",
       "current loss = 3.0117601636362\t\n",
       "current loss = 3.0103690407713\t\n",
       "current loss = 3.0089799698982\t\n",
       "current loss = 3.0075929470112\t\n",
       "current loss = 3.006207968114\t\n",
       "current loss = 3.0048250292197\t\n"
      ]
     },
     "execution_count": 12,
     "metadata": {},
     "output_type": "execute_result"
    },
    {
     "data": {
      "text/plain": [
       "current loss = 3.003444126351\t\n",
       "current loss = 3.0020652555398\t\n",
       "current loss = 3.0006884128275\t\n",
       "current loss = 2.9993135942645\t\n",
       "current loss = 2.997940795911\t\n",
       "current loss = 2.9965700138362\t\n"
      ]
     },
     "execution_count": 12,
     "metadata": {},
     "output_type": "execute_result"
    },
    {
     "data": {
      "text/plain": [
       "current loss = 2.9952012441185\t\n",
       "current loss = 2.9938344828456\t\n",
       "current loss = 2.9924697261145\t\n",
       "current loss = 2.9911069700313\t\n",
       "current loss = 2.9897462107111\t\n",
       "current loss = 2.9883874442785\t\n"
      ]
     },
     "execution_count": 12,
     "metadata": {},
     "output_type": "execute_result"
    },
    {
     "data": {
      "text/plain": [
       "current loss = 2.9870306668668\t\n",
       "current loss = 2.9856758746187\t\n",
       "current loss = 2.9843230636857\t\n",
       "current loss = 2.9829722302286\t\n",
       "current loss = 2.9816233704169\t\n",
       "current loss = 2.9802764804293\t\n",
       "current loss = 2.9789315564533\t\n"
      ]
     },
     "execution_count": 12,
     "metadata": {},
     "output_type": "execute_result"
    },
    {
     "data": {
      "text/plain": [
       "current loss = 2.9775885946856\t\n",
       "current loss = 2.9762475913316\t\n",
       "current loss = 2.9749085426055\t\n",
       "current loss = 2.9735714447305\t\n",
       "current loss = 2.9722362939387\t\n",
       "current loss = 2.9709030864709\t\n"
      ]
     },
     "execution_count": 12,
     "metadata": {},
     "output_type": "execute_result"
    },
    {
     "data": {
      "text/plain": [
       "current loss = 2.9695718185767\t\n",
       "current loss = 2.9682424865145\t\n",
       "current loss = 2.9669150865514\t\n",
       "current loss = 2.9655896149632\t\n",
       "current loss = 2.9642660680346\t\n",
       "current loss = 2.9629444420586\t\n"
      ]
     },
     "execution_count": 12,
     "metadata": {},
     "output_type": "execute_result"
    },
    {
     "data": {
      "text/plain": [
       "current loss = 2.9616247333372\t\n",
       "current loss = 2.9603069381807\t\n",
       "current loss = 2.9589910529084\t\n",
       "current loss = 2.9576770738478\t\n",
       "current loss = 2.9563649973352\t\n",
       "current loss = 2.9550548197153\t\n",
       "current loss = 2.9537465373414\t\n"
      ]
     },
     "execution_count": 12,
     "metadata": {},
     "output_type": "execute_result"
    },
    {
     "data": {
      "text/plain": [
       "current loss = 2.9524401465751\t\n",
       "current loss = 2.9511356437866\t\n",
       "current loss = 2.9498330253547\t\n",
       "current loss = 2.9485322876664\t\n"
      ]
     },
     "execution_count": 12,
     "metadata": {},
     "output_type": "execute_result"
    },
    {
     "data": {
      "text/plain": [
       "current loss = 2.947233427117\t\n",
       "current loss = 2.9459364401105\t\n",
       "current loss = 2.944641323059\t\n",
       "current loss = 2.9433480723829\t\n",
       "current loss = 2.9420566845112\t\n",
       "current loss = 2.9407671558808\t\n"
      ]
     },
     "execution_count": 12,
     "metadata": {},
     "output_type": "execute_result"
    },
    {
     "data": {
      "text/plain": [
       "current loss = 2.9394794829371\t\n",
       "current loss = 2.9381936621337\t\n",
       "current loss = 2.9369096899324\t\n",
       "current loss = 2.9356275628031\t\n",
       "current loss = 2.9343472772241\t\n",
       "current loss = 2.9330688296816\t\n"
      ]
     },
     "execution_count": 12,
     "metadata": {},
     "output_type": "execute_result"
    },
    {
     "data": {
      "text/plain": [
       "current loss = 2.9317922166701\t\n",
       "current loss = 2.9305174346921\t\n",
       "current loss = 2.9292444802583\t\n",
       "current loss = 2.9279733498873\t\n",
       "current loss = 2.9267040401058\t\n",
       "current loss = 2.9254365474487\t\n",
       "current loss = 2.9241708684586\t\n"
      ]
     },
     "execution_count": 12,
     "metadata": {},
     "output_type": "execute_result"
    },
    {
     "data": {
      "text/plain": [
       "current loss = 2.9229069996863\t\n",
       "current loss = 2.9216449376906\t\n",
       "current loss = 2.9203846790379\t\n",
       "current loss = 2.9191262203028\t\n",
       "current loss = 2.9178695580678\t\n",
       "current loss = 2.9166146889231\t\n"
      ]
     },
     "execution_count": 12,
     "metadata": {},
     "output_type": "execute_result"
    },
    {
     "data": {
      "text/plain": [
       "current loss = 2.9153616094669\t\n",
       "current loss = 2.9141103163052\t\n",
       "current loss = 2.9128608060517\t\n",
       "current loss = 2.911613075328\t\n",
       "current loss = 2.9103671207635\t\n",
       "current loss = 2.9091229389952\t\n"
      ]
     },
     "execution_count": 12,
     "metadata": {},
     "output_type": "execute_result"
    },
    {
     "data": {
      "text/plain": [
       "current loss = 2.9078805266679\t\n",
       "current loss = 2.9066398804341\t\n",
       "current loss = 2.9054009969541\t\n",
       "current loss = 2.9041638728956\t\n",
       "current loss = 2.9029285049343\t\n",
       "current loss = 2.9016948897531\t\n",
       "current loss = 2.9004630240429\t\n"
      ]
     },
     "execution_count": 12,
     "metadata": {},
     "output_type": "execute_result"
    },
    {
     "data": {
      "text/plain": [
       "current loss = 2.899232904502\t\n",
       "current loss = 2.8980045278362\t\n",
       "current loss = 2.896777890759\t\n",
       "current loss = 2.8955529899912\t\n",
       "current loss = 2.8943298222613\t\n",
       "current loss = 2.8931083843054\t\n"
      ]
     },
     "execution_count": 12,
     "metadata": {},
     "output_type": "execute_result"
    },
    {
     "data": {
      "text/plain": [
       "current loss = 2.8918886728666\t\n",
       "current loss = 2.8906706846959\t\n",
       "current loss = 2.8894544165515\t\n",
       "current loss = 2.8882398651991\t\n",
       "current loss = 2.8870270274118\t\n",
       "current loss = 2.8858158999698\t\n"
      ]
     },
     "execution_count": 12,
     "metadata": {},
     "output_type": "execute_result"
    },
    {
     "data": {
      "text/plain": [
       "current loss = 2.884606479661\t\n",
       "current loss = 2.8833987632805\t\n",
       "current loss = 2.8821927476306\t\n",
       "current loss = 2.880988429521\t\n",
       "current loss = 2.8797858057686\t\n",
       "current loss = 2.8785848731976\t\n"
      ]
     },
     "execution_count": 12,
     "metadata": {},
     "output_type": "execute_result"
    },
    {
     "data": {
      "text/plain": [
       "current loss = 2.8773856286395\t\n",
       "current loss = 2.8761880689328\t\n",
       "current loss = 2.8749921909235\t\n",
       "current loss = 2.8737979914644\t\n",
       "current loss = 2.8726054674156\t\n",
       "current loss = 2.8714146156446\t\n",
       "current loss = 2.8702254330257\t\n"
      ]
     },
     "execution_count": 12,
     "metadata": {},
     "output_type": "execute_result"
    },
    {
     "data": {
      "text/plain": [
       "current loss = 2.8690379164403\t\n",
       "current loss = 2.867852062777\t\n",
       "current loss = 2.8666678689315\t\n",
       "current loss = 2.8654853318065\t\n",
       "current loss = 2.8643044483115\t\n",
       "current loss = 2.8631252153634\t\n"
      ]
     },
     "execution_count": 12,
     "metadata": {},
     "output_type": "execute_result"
    },
    {
     "data": {
      "text/plain": [
       "current loss = 2.8619476298857\t\n",
       "current loss = 2.8607716888092\t\n",
       "current loss = 2.8595973890714\t\n",
       "current loss = 2.8584247276169\t\n",
       "current loss = 2.8572537013971\t\n",
       "current loss = 2.8560843073703\t\n"
      ]
     },
     "execution_count": 12,
     "metadata": {},
     "output_type": "execute_result"
    },
    {
     "data": {
      "text/plain": [
       "current loss = 2.8549165425018\t\n",
       "current loss = 2.8537504037636\t\n",
       "current loss = 2.8525858881346\t\n",
       "current loss = 2.8514229926006\t\n",
       "current loss = 2.8502617141541\t\n",
       "current loss = 2.8491020497943\t\n"
      ]
     },
     "execution_count": 12,
     "metadata": {},
     "output_type": "execute_result"
    },
    {
     "data": {
      "text/plain": [
       "current loss = 2.8479439965275\t\n",
       "current loss = 2.8467875513665\t\n",
       "current loss = 2.8456327113308\t\n",
       "current loss = 2.8444794734467\t\n",
       "current loss = 2.8433278347472\t\n",
       "current loss = 2.842177792272\t\n"
      ]
     },
     "execution_count": 12,
     "metadata": {},
     "output_type": "execute_result"
    },
    {
     "data": {
      "text/plain": [
       "current loss = 2.8410293430674\t\n",
       "current loss = 2.8398824841864\t\n",
       "current loss = 2.8387372126887\t\n",
       "current loss = 2.8375935256403\t\n",
       "current loss = 2.8364514201142\t\n",
       "current loss = 2.8353108931898\t\n",
       "current loss = 2.8341719419529\t\n"
      ]
     },
     "execution_count": 12,
     "metadata": {},
     "output_type": "execute_result"
    },
    {
     "data": {
      "text/plain": [
       "current loss = 2.8330345634961\t\n",
       "current loss = 2.8318987549185\t\n",
       "current loss = 2.8307645133254\t\n",
       "current loss = 2.829631835829\t\n",
       "current loss = 2.8285007195478\t\n",
       "current loss = 2.8273711616067\t\n"
      ]
     },
     "execution_count": 12,
     "metadata": {},
     "output_type": "execute_result"
    },
    {
     "data": {
      "text/plain": [
       "current loss = 2.826243159137\t\n",
       "current loss = 2.8251167092767\t\n",
       "current loss = 2.8239918091699\t\n",
       "current loss = 2.8228684559673\t\n",
       "current loss = 2.8217466468257\t\n",
       "current loss = 2.8206263789087\t\n"
      ]
     },
     "execution_count": 12,
     "metadata": {},
     "output_type": "execute_result"
    },
    {
     "data": {
      "text/plain": [
       "current loss = 2.8195076493859\t\n",
       "current loss = 2.8183904554333\t\n",
       "current loss = 2.8172747942332\t\n",
       "current loss = 2.8161606629742\t\n",
       "current loss = 2.8150480588513\t\n"
      ]
     },
     "execution_count": 12,
     "metadata": {},
     "output_type": "execute_result"
    },
    {
     "data": {
      "text/plain": [
       "current loss = 2.8139369790655\t\n",
       "current loss = 2.8128274208243\t\n"
      ]
     },
     "execution_count": 12,
     "metadata": {},
     "output_type": "execute_result"
    },
    {
     "data": {
      "text/plain": [
       "current loss = 2.8117193813414\t\n",
       "current loss = 2.8106128578364\t\n",
       "current loss = 2.8095078475354\t\n"
      ]
     },
     "execution_count": 12,
     "metadata": {},
     "output_type": "execute_result"
    },
    {
     "data": {
      "text/plain": [
       "current loss = 2.8084043476707\t\n",
       "current loss = 2.8073023554807\t\n"
      ]
     },
     "execution_count": 12,
     "metadata": {},
     "output_type": "execute_result"
    },
    {
     "data": {
      "text/plain": [
       "current loss = 2.8062018682097\t\n"
      ]
     },
     "execution_count": 12,
     "metadata": {},
     "output_type": "execute_result"
    },
    {
     "data": {
      "text/plain": [
       "current loss = 2.8051028831086\t\n"
      ]
     },
     "execution_count": 12,
     "metadata": {},
     "output_type": "execute_result"
    },
    {
     "data": {
      "text/plain": [
       "current loss = 2.804005397434\t\n"
      ]
     },
     "execution_count": 12,
     "metadata": {},
     "output_type": "execute_result"
    },
    {
     "data": {
      "text/plain": [
       "current loss = 2.8029094084488\t\n"
      ]
     },
     "execution_count": 12,
     "metadata": {},
     "output_type": "execute_result"
    },
    {
     "data": {
      "text/plain": [
       "current loss = 2.8018149134219\t\n"
      ]
     },
     "execution_count": 12,
     "metadata": {},
     "output_type": "execute_result"
    },
    {
     "data": {
      "text/plain": [
       "current loss = 2.8007219096284\t\n"
      ]
     },
     "execution_count": 12,
     "metadata": {},
     "output_type": "execute_result"
    },
    {
     "data": {
      "text/plain": [
       "current loss = 2.7996303943493\t\n",
       "current loss = 2.7985403648717\t\n"
      ]
     },
     "execution_count": 12,
     "metadata": {},
     "output_type": "execute_result"
    },
    {
     "data": {
      "text/plain": [
       "current loss = 2.7974518184887\t\n",
       "current loss = 2.7963647524995\t\n",
       "current loss = 2.7952791642092\t\n",
       "current loss = 2.7941950509289\t\n"
      ]
     },
     "execution_count": 12,
     "metadata": {},
     "output_type": "execute_result"
    },
    {
     "data": {
      "text/plain": [
       "current loss = 2.7931124099756\t\n"
      ]
     },
     "execution_count": 12,
     "metadata": {},
     "output_type": "execute_result"
    },
    {
     "data": {
      "text/plain": [
       "current loss = 2.7920312386723\t\n",
       "current loss = 2.790951534348\t\n",
       "current loss = 2.7898732943374\t\n",
       "current loss = 2.7887965159813\t\n"
      ]
     },
     "execution_count": 12,
     "metadata": {},
     "output_type": "execute_result"
    },
    {
     "data": {
      "text/plain": [
       "current loss = 2.7877211966264\t\n",
       "current loss = 2.786647333625\t\n",
       "current loss = 2.7855749243356\t\n",
       "current loss = 2.7845039661223\t\n",
       "current loss = 2.7834344563552\t\n",
       "current loss = 2.7823663924099\t\n",
       "current loss = 2.7812997716682\t\n",
       "current loss = 2.7802345915174\t\n"
      ]
     },
     "execution_count": 12,
     "metadata": {},
     "output_type": "execute_result"
    },
    {
     "data": {
      "text/plain": [
       "current loss = 2.7791708493506\t\n",
       "current loss = 2.7781085425667\t\n",
       "current loss = 2.7770476685704\t\n",
       "current loss = 2.7759882247719\t\n",
       "current loss = 2.7749302085874\t\n",
       "current loss = 2.7738736174384\t\n",
       "current loss = 2.7728184487526\t\n"
      ]
     },
     "execution_count": 12,
     "metadata": {},
     "output_type": "execute_result"
    },
    {
     "data": {
      "text/plain": [
       "current loss = 2.7717646999629\t\n",
       "current loss = 2.7707123685081\t\n",
       "current loss = 2.7696614518324\t\n",
       "current loss = 2.7686119473859\t\n",
       "current loss = 2.7675638526241\t\n",
       "current loss = 2.7665171650082\t\n",
       "current loss = 2.7654718820048\t\n",
       "current loss = 2.7644280010864\t\n"
      ]
     },
     "execution_count": 12,
     "metadata": {},
     "output_type": "execute_result"
    },
    {
     "data": {
      "text/plain": [
       "current loss = 2.7633855197307\t\n",
       "current loss = 2.7623444354211\t\n",
       "current loss = 2.7613047456465\t\n",
       "current loss = 2.7602664479012\t\n",
       "current loss = 2.7592295396852\t\n",
       "current loss = 2.7581940185037\t\n",
       "current loss = 2.7571598818677\t\n",
       "current loss = 2.7561271272933\t\n"
      ]
     },
     "execution_count": 12,
     "metadata": {},
     "output_type": "execute_result"
    },
    {
     "data": {
      "text/plain": [
       "current loss = 2.7550957523023\t\n",
       "current loss = 2.7540657544218\t\n",
       "current loss = 2.7530371311842\t\n",
       "current loss = 2.7520098801276\t\n",
       "current loss = 2.7509839987952\t\n",
       "current loss = 2.7499594847356\t\n",
       "current loss = 2.7489363355029\t\n"
      ]
     },
     "execution_count": 12,
     "metadata": {},
     "output_type": "execute_result"
    },
    {
     "data": {
      "text/plain": [
       "current loss = 2.7479145486564\t\n",
       "current loss = 2.7468941217608\t\n",
       "current loss = 2.745875052386\t\n",
       "current loss = 2.7448573381074\t\n",
       "current loss = 2.7438409765055\t\n",
       "current loss = 2.7428259651662\t\n",
       "current loss = 2.7418123016804\t\n",
       "current loss = 2.7407999836446\t\n"
      ]
     },
     "execution_count": 12,
     "metadata": {},
     "output_type": "execute_result"
    },
    {
     "data": {
      "text/plain": [
       "current loss = 2.7397890086603\t\n",
       "current loss = 2.7387793743344\t\n",
       "current loss = 2.7377710782787\t\n",
       "current loss = 2.7367641181104\t\n",
       "current loss = 2.735758491452\t\n",
       "current loss = 2.7347541959309\t\n",
       "current loss = 2.7337512291798\t\n",
       "current loss = 2.7327495888365\t\n"
      ]
     },
     "execution_count": 12,
     "metadata": {},
     "output_type": "execute_result"
    },
    {
     "data": {
      "text/plain": [
       "current loss = 2.731749272544\t\n",
       "current loss = 2.7307502779502\t\n",
       "current loss = 2.7297526027084\t\n",
       "current loss = 2.7287562444766\t\n",
       "current loss = 2.7277612009184\t\n",
       "current loss = 2.726767469702\t\n",
       "current loss = 2.7257750485009\t\n",
       "current loss = 2.7247839349934\t\n"
      ]
     },
     "execution_count": 12,
     "metadata": {},
     "output_type": "execute_result"
    },
    {
     "data": {
      "text/plain": [
       "current loss = 2.7237941268631\t\n",
       "current loss = 2.7228056217985\t\n",
       "current loss = 2.721818417493\t\n",
       "current loss = 2.7208325116451\t\n",
       "current loss = 2.7198479019582\t\n",
       "current loss = 2.7188645861407\t\n"
      ]
     },
     "execution_count": 12,
     "metadata": {},
     "output_type": "execute_result"
    },
    {
     "data": {
      "text/plain": [
       "current loss = 2.7178825619061\t\n",
       "current loss = 2.7169018269725\t\n",
       "current loss = 2.7159223790632\t\n",
       "current loss = 2.7149442159062\t\n",
       "current loss = 2.7139673352347\t\n",
       "current loss = 2.7129917347865\t\n",
       "current loss = 2.7120174123043\t\n",
       "current loss = 2.7110443655358\t\n"
      ]
     },
     "execution_count": 12,
     "metadata": {},
     "output_type": "execute_result"
    },
    {
     "data": {
      "text/plain": [
       "current loss = 2.7100725922335\t\n",
       "current loss = 2.7091020901547\t\n",
       "current loss = 2.7081328570616\t\n",
       "current loss = 2.707164890721\t\n",
       "current loss = 2.7061981889048\t\n",
       "current loss = 2.7052327493895\t\n",
       "current loss = 2.7042685699564\t\n",
       "current loss = 2.7033056483917\t\n"
      ]
     },
     "execution_count": 12,
     "metadata": {},
     "output_type": "execute_result"
    },
    {
     "data": {
      "text/plain": [
       "current loss = 2.7023439824861\t\n",
       "current loss = 2.7013835700352\t\n",
       "current loss = 2.7004244088394\t\n",
       "current loss = 2.6994664967036\t\n",
       "current loss = 2.6985098314376\t\n",
       "current loss = 2.6975544108558\t\n",
       "current loss = 2.6966002327774\t\n",
       "current loss = 2.6956472950261\t\n"
      ]
     },
     "execution_count": 12,
     "metadata": {},
     "output_type": "execute_result"
    },
    {
     "data": {
      "text/plain": [
       "current loss = 2.6946955954303\t\n",
       "current loss = 2.6937451318231\t\n",
       "current loss = 2.6927959020423\t\n",
       "current loss = 2.6918479039301\t\n",
       "current loss = 2.6909011353336\t\n",
       "current loss = 2.6899555941043\t\n",
       "current loss = 2.6890112780983\t\n",
       "current loss = 2.6880681851763\t\n"
      ]
     },
     "execution_count": 12,
     "metadata": {},
     "output_type": "execute_result"
    },
    {
     "data": {
      "text/plain": [
       "current loss = 2.6871263132037\t\n",
       "current loss = 2.6861856600503\t\n",
       "current loss = 2.6852462235905\t\n",
       "current loss = 2.6843080017031\t\n",
       "current loss = 2.6833709922717\t\n",
       "current loss = 2.6824351931842\t\n",
       "current loss = 2.681500602333\t\n",
       "current loss = 2.6805672176151\t\n"
      ]
     },
     "execution_count": 12,
     "metadata": {},
     "output_type": "execute_result"
    },
    {
     "data": {
      "text/plain": [
       "current loss = 2.6796350369318\t\n",
       "current loss = 2.6787040581891\t\n",
       "current loss = 2.6777742792973\t\n",
       "current loss = 2.6768456981712\t\n",
       "current loss = 2.67591831273\t\n"
      ]
     },
     "execution_count": 12,
     "metadata": {},
     "output_type": "execute_result"
    },
    {
     "data": {
      "text/plain": [
       "current loss = 2.6749921208972\t\n",
       "current loss = 2.6740671206011\t\n",
       "current loss = 2.6731433097739\t\n",
       "current loss = 2.6722206863525\t\n",
       "current loss = 2.6712992482781\t\n",
       "current loss = 2.6703789934964\t\n",
       "current loss = 2.6694599199571\t\n"
      ]
     },
     "execution_count": 12,
     "metadata": {},
     "output_type": "execute_result"
    },
    {
     "data": {
      "text/plain": [
       "current loss = 2.6685420256147\t\n",
       "current loss = 2.6676253084277\t\n",
       "current loss = 2.666709766359\t\n",
       "current loss = 2.6657953973759\t\n",
       "current loss = 2.6648821994499\t\n",
       "current loss = 2.6639701705568\t\n",
       "current loss = 2.6630593086769\t\n",
       "current loss = 2.6621496117944\t\n"
      ]
     },
     "execution_count": 12,
     "metadata": {},
     "output_type": "execute_result"
    },
    {
     "data": {
      "text/plain": [
       "current loss = 2.6612410778981\t\n",
       "current loss = 2.6603337049808\t\n",
       "current loss = 2.6594274910396\t\n",
       "current loss = 2.658522434076\t\n",
       "current loss = 2.6576185320956\t\n",
       "current loss = 2.656715783108\t\n",
       "current loss = 2.6558141851273\t\n",
       "current loss = 2.6549137361717\t\n"
      ]
     },
     "execution_count": 12,
     "metadata": {},
     "output_type": "execute_result"
    },
    {
     "data": {
      "text/plain": [
       "current loss = 2.6540144342636\t\n",
       "current loss = 2.6531162774294\t\n",
       "current loss = 2.6522192636999\t\n",
       "current loss = 2.6513233911099\t\n",
       "current loss = 2.6504286576982\t\n",
       "current loss = 2.6495350615081\t\n",
       "current loss = 2.6486426005868\t\n",
       "current loss = 2.6477512729854\t\n"
      ]
     },
     "execution_count": 12,
     "metadata": {},
     "output_type": "execute_result"
    },
    {
     "data": {
      "text/plain": [
       "current loss = 2.6468610767595\t\n",
       "current loss = 2.6459720099685\t\n",
       "current loss = 2.645084070676\t\n",
       "current loss = 2.6441972569496\t\n",
       "current loss = 2.643311566861\t\n",
       "current loss = 2.6424269984859\t\n",
       "current loss = 2.6415435499041\t\n"
      ]
     },
     "execution_count": 12,
     "metadata": {},
     "output_type": "execute_result"
    },
    {
     "data": {
      "text/plain": [
       "current loss = 2.6406612191995\t\n",
       "current loss = 2.6397800044597\t\n",
       "current loss = 2.6388999037766\t\n",
       "current loss = 2.6380209152461\t\n",
       "current loss = 2.6371430369679\t\n"
      ]
     },
     "execution_count": 12,
     "metadata": {},
     "output_type": "execute_result"
    },
    {
     "data": {
      "text/plain": [
       "current loss = 2.6362662670458\t\n",
       "current loss = 2.6353906035876\t\n",
       "current loss = 2.6345160447048\t\n",
       "current loss = 2.6336425885133\t\n",
       "current loss = 2.6327702331325\t\n",
       "current loss = 2.631898976686\t\n",
       "current loss = 2.6310288173013\t\n",
       "current loss = 2.6301597531096\t\n"
      ]
     },
     "execution_count": 12,
     "metadata": {},
     "output_type": "execute_result"
    },
    {
     "data": {
      "text/plain": [
       "current loss = 2.6292917822462\t\n",
       "current loss = 2.6284249028502\t\n",
       "current loss = 2.6275591130647\t\n",
       "current loss = 2.6266944110365\t\n",
       "current loss = 2.6258307949163\t\n",
       "current loss = 2.6249682628589\t\n",
       "current loss = 2.6241068130226\t\n",
       "current loss = 2.6232464435696\t\n"
      ]
     },
     "execution_count": 12,
     "metadata": {},
     "output_type": "execute_result"
    },
    {
     "data": {
      "text/plain": [
       "current loss = 2.6223871526661\t\n",
       "current loss = 2.6215289384821\t\n",
       "current loss = 2.6206717991912\t\n",
       "current loss = 2.6198157329709\t\n",
       "current loss = 2.6189607380026\t\n",
       "current loss = 2.6181068124713\t\n",
       "current loss = 2.6172539545659\t\n",
       "current loss = 2.616402162479\t\n"
      ]
     },
     "execution_count": 12,
     "metadata": {},
     "output_type": "execute_result"
    },
    {
     "data": {
      "text/plain": [
       "current loss = 2.615551434407\t\n",
       "current loss = 2.6147017685499\t\n",
       "current loss = 2.6138531631117\t\n",
       "current loss = 2.6130056162998\t\n",
       "current loss = 2.6121591263256\t\n",
       "current loss = 2.611313691404\t\n",
       "current loss = 2.6104693097537\t\n",
       "current loss = 2.6096259795971\t\n"
      ]
     },
     "execution_count": 12,
     "metadata": {},
     "output_type": "execute_result"
    },
    {
     "data": {
      "text/plain": [
       "current loss = 2.6087836991602\t\n",
       "current loss = 2.6079424666728\t\n",
       "current loss = 2.6071022803682\t\n",
       "current loss = 2.6062631384834\t\n"
      ]
     },
     "execution_count": 12,
     "metadata": {},
     "output_type": "execute_result"
    },
    {
     "data": {
      "text/plain": [
       "current loss = 2.6054250392591\t\n",
       "current loss = 2.6045879809397\t\n",
       "current loss = 2.603751961773\t\n",
       "current loss = 2.6029169800107\t\n",
       "current loss = 2.6020830339078\t\n",
       "current loss = 2.6012501217232\t\n",
       "current loss = 2.6004182417191\t\n",
       "current loss = 2.5995873921615\t\n"
      ]
     },
     "execution_count": 12,
     "metadata": {},
     "output_type": "execute_result"
    },
    {
     "data": {
      "text/plain": [
       "current loss = 2.59875757132\t\n",
       "current loss = 2.5979287774675\t\n",
       "current loss = 2.5971010088807\t\n",
       "current loss = 2.5962742638399\t\n",
       "current loss = 2.5954485406286\t\n",
       "current loss = 2.5946238375342\t\n",
       "current loss = 2.5938001528473\t\n"
      ]
     },
     "execution_count": 12,
     "metadata": {},
     "output_type": "execute_result"
    },
    {
     "data": {
      "text/plain": [
       "current loss = 2.5929774848624\t\n",
       "current loss = 2.5921558318772\t\n",
       "current loss = 2.5913351921929\t\n",
       "current loss = 2.5905155641144\t\n",
       "current loss = 2.5896969459499\t\n",
       "current loss = 2.588879336011\t\n",
       "current loss = 2.5880627326131\t\n",
       "current loss = 2.5872471340748\t\n"
      ]
     },
     "execution_count": 12,
     "metadata": {},
     "output_type": "execute_result"
    },
    {
     "data": {
      "text/plain": [
       "current loss = 2.586432538718\t\n",
       "current loss = 2.5856189448685\t\n",
       "current loss = 2.5848063508551\t\n",
       "current loss = 2.5839947550102\t\n",
       "current loss = 2.5831841556696\t\n",
       "current loss = 2.5823745511726\t\n",
       "current loss = 2.5815659398616\t\n",
       "current loss = 2.5807583200828\t\n"
      ]
     },
     "execution_count": 12,
     "metadata": {},
     "output_type": "execute_result"
    },
    {
     "data": {
      "text/plain": [
       "current loss = 2.5799516901854\t\n",
       "current loss = 2.5791460485223\t\n",
       "current loss = 2.5783413934495\t\n",
       "current loss = 2.5775377233265\t\n",
       "current loss = 2.5767350365161\t\n",
       "current loss = 2.5759333313845\t\n",
       "current loss = 2.5751326063012\t\n",
       "current loss = 2.5743328596389\t\n",
       "current loss = 2.5735340897739\t\n"
      ]
     },
     "execution_count": 12,
     "metadata": {},
     "output_type": "execute_result"
    },
    {
     "data": {
      "text/plain": [
       "current loss = 2.5727362950856\t\n",
       "current loss = 2.5719394739567\t\n",
       "current loss = 2.5711436247732\t\n",
       "current loss = 2.5703487459246\t\n",
       "current loss = 2.5695548358033\t\n",
       "current loss = 2.5687618928052\t\n",
       "current loss = 2.5679699153296\t\n"
      ]
     },
     "execution_count": 12,
     "metadata": {},
     "output_type": "execute_result"
    },
    {
     "data": {
      "text/plain": [
       "current loss = 2.5671789017788\t\n",
       "current loss = 2.5663888505584\t\n",
       "current loss = 2.5655997600773\t\n",
       "current loss = 2.5648116287477\t\n",
       "current loss = 2.5640244549848\t\n",
       "current loss = 2.5632382372072\t\n"
      ]
     },
     "execution_count": 12,
     "metadata": {},
     "output_type": "execute_result"
    },
    {
     "data": {
      "text/plain": [
       "current loss = 2.5624529738367\t\n",
       "current loss = 2.5616686632982\t\n",
       "current loss = 2.5608853040199\t\n",
       "current loss = 2.5601028944331\t\n",
       "current loss = 2.5593214329724\t\n",
       "current loss = 2.5585409180754\t\n",
       "current loss = 2.557761348183\t\n",
       "current loss = 2.5569827217391\t\n"
      ]
     },
     "execution_count": 12,
     "metadata": {},
     "output_type": "execute_result"
    },
    {
     "data": {
      "text/plain": [
       "current loss = 2.556205037191\t\n",
       "current loss = 2.555428292989\t\n",
       "current loss = 2.5546524875865\t\n",
       "current loss = 2.5538776194399\t\n",
       "current loss = 2.5531036870091\t\n",
       "current loss = 2.5523306887568\t\n",
       "current loss = 2.5515586231489\t\n",
       "current loss = 2.5507874886543\t\n"
      ]
     },
     "execution_count": 12,
     "metadata": {},
     "output_type": "execute_result"
    },
    {
     "data": {
      "text/plain": [
       "current loss = 2.5500172837453\t\n",
       "current loss = 2.5492480068968\t\n",
       "current loss = 2.5484796565871\t\n",
       "current loss = 2.5477122312976\t\n",
       "current loss = 2.5469457295127\t\n",
       "current loss = 2.5461801497196\t\n",
       "current loss = 2.5454154904089\t\n",
       "current loss = 2.5446517500741\t\n"
      ]
     },
     "execution_count": 12,
     "metadata": {},
     "output_type": "execute_result"
    },
    {
     "data": {
      "text/plain": [
       "current loss = 2.5438889272117\t\n",
       "current loss = 2.5431270203212\t\n",
       "current loss = 2.5423660279053\t\n",
       "current loss = 2.5416059484695\t\n",
       "current loss = 2.5408467805225\t\n",
       "current loss = 2.5400885225756\t\n",
       "current loss = 2.5393311731437\t\n",
       "current loss = 2.5385747307441\t\n"
      ]
     },
     "execution_count": 12,
     "metadata": {},
     "output_type": "execute_result"
    },
    {
     "data": {
      "text/plain": [
       "current loss = 2.5378191938974\t\n",
       "current loss = 2.5370645611272\t\n",
       "current loss = 2.5363108309598\t\n",
       "current loss = 2.5355580019248\t\n",
       "current loss = 2.5348060725543\t\n",
       "current loss = 2.5340550413838\t\n"
      ]
     },
     "execution_count": 12,
     "metadata": {},
     "output_type": "execute_result"
    },
    {
     "data": {
      "text/plain": [
       "current loss = 2.5333049069515\t\n",
       "current loss = 2.5325556677984\t\n",
       "current loss = 2.5318073224688\t\n",
       "current loss = 2.5310598695095\t\n",
       "current loss = 2.5303133074705\t\n",
       "current loss = 2.5295676349046\t\n",
       "current loss = 2.5288228503674\t\n",
       "current loss = 2.5280789524176\t\n"
      ]
     },
     "execution_count": 12,
     "metadata": {},
     "output_type": "execute_result"
    },
    {
     "data": {
      "text/plain": [
       "current loss = 2.5273359396165\t\n",
       "current loss = 2.5265938105285\t\n",
       "current loss = 2.5258525637207\t\n",
       "current loss = 2.5251121977633\t\n",
       "current loss = 2.5243727112291\t\n",
       "current loss = 2.5236341026938\t\n"
      ]
     },
     "execution_count": 12,
     "metadata": {},
     "output_type": "execute_result"
    },
    {
     "data": {
      "text/plain": [
       "current loss = 2.522896370736\t\n",
       "current loss = 2.5221595139372\t\n",
       "current loss = 2.5214235308816\t\n",
       "current loss = 2.5206884201562\t\n",
       "current loss = 2.5199541803509\t\n",
       "current loss = 2.5192208100584\t\n",
       "current loss = 2.5184883078742\t\n"
      ]
     },
     "execution_count": 12,
     "metadata": {},
     "output_type": "execute_result"
    },
    {
     "data": {
      "text/plain": [
       "current loss = 2.5177566723964\t\n",
       "current loss = 2.5170259022262\t\n",
       "current loss = 2.5162959959674\t\n",
       "current loss = 2.5155669522266\t\n",
       "current loss = 2.5148387696132\t\n",
       "current loss = 2.5141114467392\t\n",
       "current loss = 2.5133849822197\t\n",
       "current loss = 2.5126593746721\t\n"
      ]
     },
     "execution_count": 12,
     "metadata": {},
     "output_type": "execute_result"
    },
    {
     "data": {
      "text/plain": [
       "current loss = 2.5119346227169\t\n",
       "current loss = 2.5112107249773\t\n",
       "current loss = 2.5104876800789\t\n",
       "current loss = 2.5097654866504\t\n",
       "current loss = 2.5090441433231\t\n",
       "current loss = 2.508323648731\t\n",
       "current loss = 2.5076040015106\t\n"
      ]
     },
     "execution_count": 12,
     "metadata": {},
     "output_type": "execute_result"
    },
    {
     "data": {
      "text/plain": [
       "current loss = 2.5068852003015\t\n",
       "current loss = 2.5061672437456\t\n",
       "current loss = 2.5054501304877\t\n",
       "current loss = 2.5047338591754\t\n",
       "current loss = 2.5040184284585\t\n",
       "current loss = 2.5033038369901\t\n",
       "current loss = 2.5025900834254\t\n"
      ]
     },
     "execution_count": 12,
     "metadata": {},
     "output_type": "execute_result"
    },
    {
     "data": {
      "text/plain": [
       "current loss = 2.5018771664226\t\n",
       "current loss = 2.5011650846424\t\n",
       "current loss = 2.5004538367481\t\n",
       "current loss = 2.4997434214058\t\n",
       "current loss = 2.4990338372842\t\n",
       "current loss = 2.4983250830544\t\n",
       "current loss = 2.4976171573903\t\n"
      ]
     },
     "execution_count": 12,
     "metadata": {},
     "output_type": "execute_result"
    },
    {
     "data": {
      "text/plain": [
       "current loss = 2.4969100589685\t\n",
       "current loss = 2.496203786468\t\n",
       "current loss = 2.4954983385705\t\n",
       "current loss = 2.4947937139604\t\n",
       "current loss = 2.4940899113243\t\n",
       "current loss = 2.493386929352\t\n",
       "current loss = 2.4926847667353\t\n",
       "current loss = 2.4919834221688\t\n"
      ]
     },
     "execution_count": 12,
     "metadata": {},
     "output_type": "execute_result"
    },
    {
     "data": {
      "text/plain": [
       "current loss = 2.4912828943496\t\n",
       "current loss = 2.4905831819777\t\n",
       "current loss = 2.4898842837551\t\n",
       "current loss = 2.4891861983867\t\n",
       "current loss = 2.4884889245798\t\n",
       "current loss = 2.4877924610443\t\n",
       "current loss = 2.4870968064927\t\n"
      ]
     },
     "execution_count": 12,
     "metadata": {},
     "output_type": "execute_result"
    },
    {
     "data": {
      "text/plain": [
       "current loss = 2.4864019596398\t\n",
       "current loss = 2.4857079192032\t\n",
       "current loss = 2.4850146839028\t\n",
       "current loss = 2.4843222524609\t\n",
       "current loss = 2.4836306236027\t\n",
       "current loss = 2.4829397960556\t\n",
       "current loss = 2.4822497685495\t\n",
       "current loss = 2.4815605398168\t\n"
      ]
     },
     "execution_count": 12,
     "metadata": {},
     "output_type": "execute_result"
    },
    {
     "data": {
      "text/plain": [
       "current loss = 2.4808721085924\t\n",
       "current loss = 2.4801844736137\t\n",
       "current loss = 2.4794976336206\t\n",
       "current loss = 2.4788115873553\t\n",
       "current loss = 2.4781263335626\t\n",
       "current loss = 2.4774418709897\t\n",
       "current loss = 2.4767581983863\t\n",
       "current loss = 2.4760753145043\t\n"
      ]
     },
     "execution_count": 12,
     "metadata": {},
     "output_type": "execute_result"
    },
    {
     "data": {
      "text/plain": [
       "current loss = 2.4753932180983\t\n",
       "current loss = 2.4747119079253\t\n",
       "current loss = 2.4740313827446\t\n",
       "current loss = 2.473351641318\t\n",
       "current loss = 2.4726726824096\t\n",
       "current loss = 2.471994504786\t\n"
      ]
     },
     "execution_count": 12,
     "metadata": {},
     "output_type": "execute_result"
    },
    {
     "data": {
      "text/plain": [
       "current loss = 2.4713171072162\t\n",
       "current loss = 2.4706404884716\t\n",
       "current loss = 2.4699646473259\t\n",
       "current loss = 2.4692895825553\t\n",
       "current loss = 2.4686152929382\t\n",
       "current loss = 2.4679417772557\t\n",
       "current loss = 2.4672690342908\t\n",
       "current loss = 2.4665970628293\t\n"
      ]
     },
     "execution_count": 12,
     "metadata": {},
     "output_type": "execute_result"
    },
    {
     "data": {
      "text/plain": [
       "current loss = 2.4659258616591\t\n",
       "current loss = 2.4652554295704\t\n",
       "current loss = 2.4645857653561\t\n",
       "current loss = 2.463916867811\t\n",
       "current loss = 2.4632487357325\t\n",
       "current loss = 2.4625813679203\t\n",
       "current loss = 2.4619147631763\t\n",
       "current loss = 2.4612489203048\t\n",
       "current loss = 2.4605838381125\t\n"
      ]
     },
     "execution_count": 12,
     "metadata": {},
     "output_type": "execute_result"
    },
    {
     "data": {
      "text/plain": [
       "current loss = 2.4599195154083\t\n",
       "current loss = 2.4592559510033\t\n",
       "current loss = 2.4585931437111\t\n",
       "current loss = 2.4579310923476\t\n",
       "current loss = 2.4572697957307\t\n",
       "current loss = 2.4566092526809\t\n"
      ]
     },
     "execution_count": 12,
     "metadata": {},
     "output_type": "execute_result"
    },
    {
     "data": {
      "text/plain": [
       "current loss = 2.4559494620209\t\n",
       "current loss = 2.4552904225754\t\n",
       "current loss = 2.4546321331718\t\n",
       "current loss = 2.4539745926395\t\n",
       "current loss = 2.4533177998102\t\n",
       "current loss = 2.4526617535178\t\n",
       "current loss = 2.4520064525985\t\n",
       "current loss = 2.4513518958907\t\n"
      ]
     },
     "execution_count": 12,
     "metadata": {},
     "output_type": "execute_result"
    },
    {
     "data": {
      "text/plain": [
       "current loss = 2.4506980822352\t\n",
       "current loss = 2.4500450104748\t\n",
       "current loss = 2.4493926794547\t\n",
       "current loss = 2.4487410880222\t\n",
       "current loss = 2.4480902350268\t\n",
       "current loss = 2.4474401193204\t\n"
      ]
     },
     "execution_count": 12,
     "metadata": {},
     "output_type": "execute_result"
    },
    {
     "data": {
      "text/plain": [
       "current loss = 2.4467907397569\t\n",
       "current loss = 2.4461420951924\t\n",
       "current loss = 2.4454941844854\t\n",
       "current loss = 2.4448470064964\t\n",
       "current loss = 2.4442005600881\t\n",
       "current loss = 2.4435548441255\t\n",
       "current loss = 2.4429098574757\t\n"
      ]
     },
     "execution_count": 12,
     "metadata": {},
     "output_type": "execute_result"
    },
    {
     "data": {
      "text/plain": [
       "current loss = 2.4422655990079\t\n",
       "current loss = 2.4416220675936\t\n",
       "current loss = 2.4409792621063\t\n",
       "current loss = 2.4403371814219\t\n",
       "current loss = 2.4396958244181\t\n",
       "current loss = 2.4390551899752\t\n",
       "current loss = 2.4384152769752\t\n"
      ]
     },
     "execution_count": 12,
     "metadata": {},
     "output_type": "execute_result"
    },
    {
     "data": {
      "text/plain": [
       "current loss = 2.4377760843024\t\n"
      ]
     },
     "execution_count": 12,
     "metadata": {},
     "output_type": "execute_result"
    },
    {
     "data": {
      "text/plain": [
       "current loss = 2.4371376108434\t\n",
       "current loss = 2.4364998554867\t\n",
       "current loss = 2.435862817123\t\n",
       "current loss = 2.4352264946452\t\n",
       "current loss = 2.4345908869481\t\n",
       "current loss = 2.4339559929289\t\n",
       "current loss = 2.4333218114866\t\n"
      ]
     },
     "execution_count": 12,
     "metadata": {},
     "output_type": "execute_result"
    },
    {
     "data": {
      "text/plain": [
       "current loss = 2.4326883415225\t\n",
       "current loss = 2.4320555819399\t\n",
       "current loss = 2.4314235316443\t\n",
       "current loss = 2.4307921895432\t\n",
       "current loss = 2.4301615545461\t\n",
       "current loss = 2.4295316255648\t\n",
       "current loss = 2.4289024015129\t\n"
      ]
     },
     "execution_count": 12,
     "metadata": {},
     "output_type": "execute_result"
    },
    {
     "data": {
      "text/plain": [
       "current loss = 2.4282738813063\t\n",
       "current loss = 2.4276460638628\t\n",
       "current loss = 2.4270189481023\t\n",
       "current loss = 2.4263925329469\t\n",
       "current loss = 2.4257668173204\t\n",
       "current loss = 2.4251418001491\t\n"
      ]
     },
     "execution_count": 12,
     "metadata": {},
     "output_type": "execute_result"
    },
    {
     "data": {
      "text/plain": [
       "current loss = 2.4245174803609\t\n",
       "current loss = 2.423893856886\t\n",
       "current loss = 2.4232709286566\t\n",
       "current loss = 2.4226486946069\t\n",
       "current loss = 2.422027153673\t\n",
       "current loss = 2.4214063047932\t\n",
       "current loss = 2.4207861469077\t\n"
      ]
     },
     "execution_count": 12,
     "metadata": {},
     "output_type": "execute_result"
    },
    {
     "data": {
      "text/plain": [
       "current loss = 2.4201666789587\t\n",
       "current loss = 2.4195478998905\t\n",
       "current loss = 2.4189298086493\t\n",
       "current loss = 2.4183124041834\t\n",
       "current loss = 2.417695685443\t\n",
       "current loss = 2.4170796513803\t\n"
      ]
     },
     "execution_count": 12,
     "metadata": {},
     "output_type": "execute_result"
    },
    {
     "data": {
      "text/plain": [
       "current loss = 2.4164643009493\t\n",
       "current loss = 2.4158496331064\t\n",
       "current loss = 2.4152356468097\t\n",
       "current loss = 2.4146223410192\t\n",
       "current loss = 2.414009714697\t\n",
       "current loss = 2.4133977668071\t\n",
       "current loss = 2.4127864963155\t\n"
      ]
     },
     "execution_count": 12,
     "metadata": {},
     "output_type": "execute_result"
    },
    {
     "data": {
      "text/plain": [
       "current loss = 2.4121759021901\t\n",
       "current loss = 2.4115659834008\t\n",
       "current loss = 2.4109567389194\t\n",
       "current loss = 2.4103481677196\t\n",
       "current loss = 2.4097402687771\t\n",
       "current loss = 2.4091330410695\t\n"
      ]
     },
     "execution_count": 12,
     "metadata": {},
     "output_type": "execute_result"
    },
    {
     "data": {
      "text/plain": [
       "current loss = 2.4085264835763\t\n",
       "current loss = 2.407920595279\t\n",
       "current loss = 2.4073153751609\t\n",
       "current loss = 2.4067108222073\t\n",
       "current loss = 2.4061069354054\t\n",
       "current loss = 2.4055037137443\t\n"
      ]
     },
     "execution_count": 12,
     "metadata": {},
     "output_type": "execute_result"
    },
    {
     "data": {
      "text/plain": [
       "current loss = 2.4049011562149\t\n",
       "current loss = 2.4042992618101\t\n",
       "current loss = 2.4036980295247\t\n",
       "current loss = 2.4030974583553\t\n",
       "current loss = 2.4024975473005\t\n",
       "current loss = 2.4018982953606\t\n"
      ]
     },
     "execution_count": 12,
     "metadata": {},
     "output_type": "execute_result"
    },
    {
     "data": {
      "text/plain": [
       "current loss = 2.401299701538\t\n",
       "current loss = 2.4007017648368\t\n",
       "current loss = 2.400104484263\t\n",
       "current loss = 2.3995078588245\t\n",
       "current loss = 2.3989118875309\t\n"
      ]
     },
     "execution_count": 12,
     "metadata": {},
     "output_type": "execute_result"
    },
    {
     "data": {
      "text/plain": [
       "current loss = 2.398316569394\t\n",
       "current loss = 2.3977219034272\t\n",
       "current loss = 2.3971278886456\t\n",
       "current loss = 2.3965345240665\t\n",
       "current loss = 2.3959418087087\t\n",
       "current loss = 2.3953497415931\t\n"
      ]
     },
     "execution_count": 12,
     "metadata": {},
     "output_type": "execute_result"
    },
    {
     "data": {
      "text/plain": [
       "current loss = 2.3947583217424\t\n",
       "current loss = 2.3941675481808\t\n",
       "current loss = 2.3935774199348\t\n",
       "current loss = 2.3929879360323\t\n",
       "current loss = 2.3923990955033\t\n",
       "current loss = 2.3918108973795\t\n",
       "current loss = 2.3912233406943\t\n"
      ]
     },
     "execution_count": 12,
     "metadata": {},
     "output_type": "execute_result"
    },
    {
     "data": {
      "text/plain": [
       "current loss = 2.3906364244831\t\n",
       "current loss = 2.3900501477829\t\n",
       "current loss = 2.3894645096327\t\n",
       "current loss = 2.3888795090732\t\n",
       "current loss = 2.3882951451467\t\n",
       "current loss = 2.3877114168977\t\n",
       "current loss = 2.3871283233719\t\n"
      ]
     },
     "execution_count": 12,
     "metadata": {},
     "output_type": "execute_result"
    },
    {
     "data": {
      "text/plain": [
       "current loss = 2.3865458636174\t\n",
       "current loss = 2.3859640366836\t\n",
       "current loss = 2.3853828416219\t\n",
       "current loss = 2.3848022774853\t\n",
       "current loss = 2.3842223433288\t\n",
       "current loss = 2.3836430382089\t\n"
      ]
     },
     "execution_count": 12,
     "metadata": {},
     "output_type": "execute_result"
    },
    {
     "data": {
      "text/plain": [
       "current loss = 2.383064361184\t\n",
       "current loss = 2.3824863113141\t\n",
       "current loss = 2.3819088876611\t\n",
       "current loss = 2.3813320892887\t\n",
       "current loss = 2.3807559152621\t\n"
      ]
     },
     "execution_count": 12,
     "metadata": {},
     "output_type": "execute_result"
    },
    {
     "data": {
      "text/plain": [
       "current loss = 2.3801803646483\t\n",
       "current loss = 2.3796054365162\t\n",
       "current loss = 2.3790311299362\t\n",
       "current loss = 2.3784574439806\t\n",
       "current loss = 2.3778843777233\t\n",
       "current loss = 2.3773119302399\t\n"
      ]
     },
     "execution_count": 12,
     "metadata": {},
     "output_type": "execute_result"
    },
    {
     "data": {
      "text/plain": [
       "current loss = 2.3767401006078\t\n",
       "current loss = 2.376168887906\t\n",
       "current loss = 2.3755982912154\t\n",
       "current loss = 2.3750283096183\t\n",
       "current loss = 2.3744589421989\t\n",
       "current loss = 2.3738901880432\t\n",
       "current loss = 2.3733220462384\t\n"
      ]
     },
     "execution_count": 12,
     "metadata": {},
     "output_type": "execute_result"
    },
    {
     "data": {
      "text/plain": [
       "current loss = 2.372754515874\t\n",
       "current loss = 2.3721875960408\t\n",
       "current loss = 2.3716212858313\t\n",
       "current loss = 2.3710555843398\t\n",
       "current loss = 2.3704904906622\t\n",
       "current loss = 2.3699260038961\t\n"
      ]
     },
     "execution_count": 12,
     "metadata": {},
     "output_type": "execute_result"
    },
    {
     "data": {
      "text/plain": [
       "current loss = 2.3693621231406\t\n",
       "current loss = 2.3687988474967\t\n",
       "current loss = 2.368236176067\t\n",
       "current loss = 2.3676741079555\t\n",
       "current loss = 2.3671126422682\t\n"
      ]
     },
     "execution_count": 12,
     "metadata": {},
     "output_type": "execute_result"
    },
    {
     "data": {
      "text/plain": [
       "current loss = 2.3665517781126\t\n",
       "current loss = 2.3659915145976\t\n",
       "current loss = 2.3654318508342\t\n",
       "current loss = 2.3648727859347\t\n",
       "current loss = 2.3643143190131\t\n",
       "current loss = 2.363756449185\t\n",
       "current loss = 2.3631991755677\t\n"
      ]
     },
     "execution_count": 12,
     "metadata": {},
     "output_type": "execute_result"
    },
    {
     "data": {
      "text/plain": [
       "current loss = 2.3626424972802\t\n",
       "current loss = 2.3620864134428\t\n",
       "current loss = 2.3615309231777\t\n",
       "current loss = 2.3609760256087\t\n"
      ]
     },
     "execution_count": 12,
     "metadata": {},
     "output_type": "execute_result"
    },
    {
     "data": {
      "text/plain": [
       "current loss = 2.360421719861\t\n",
       "current loss = 2.3598680050615\t\n",
       "current loss = 2.3593148803388\t\n",
       "current loss = 2.358762344823\t\n",
       "current loss = 2.3582103976458\t\n",
       "current loss = 2.3576590379405\t\n"
      ]
     },
     "execution_count": 12,
     "metadata": {},
     "output_type": "execute_result"
    },
    {
     "data": {
      "text/plain": [
       "current loss = 2.357108264842\t\n",
       "current loss = 2.3565580774866\t\n",
       "current loss = 2.3560084750125\t\n",
       "current loss = 2.3554594565593\t\n",
       "current loss = 2.3549110212681\t\n",
       "current loss = 2.3543631682816\t\n",
       "current loss = 2.3538158967442\t\n"
      ]
     },
     "execution_count": 12,
     "metadata": {},
     "output_type": "execute_result"
    },
    {
     "data": {
      "text/plain": [
       "current loss = 2.3532692058018\t\n",
       "current loss = 2.3527230946017\t\n",
       "current loss = 2.3521775622929\t\n",
       "current loss = 2.3516326080261\t\n",
       "current loss = 2.3510882309531\t\n",
       "current loss = 2.3505444302277\t\n"
      ]
     },
     "execution_count": 12,
     "metadata": {},
     "output_type": "execute_result"
    },
    {
     "data": {
      "text/plain": [
       "current loss = 2.350001205005\t\n",
       "current loss = 2.3494585544417\t\n",
       "current loss = 2.348916477696\t\n",
       "current loss = 2.3483749739277\t\n",
       "current loss = 2.347834042298\t\n",
       "current loss = 2.3472936819699\t\n"
      ]
     },
     "execution_count": 12,
     "metadata": {},
     "output_type": "execute_result"
    },
    {
     "data": {
      "text/plain": [
       "current loss = 2.3467538921075\t\n",
       "current loss = 2.3462146718768\t\n",
       "current loss = 2.345676020445\t\n",
       "current loss = 2.3451379369811\t\n",
       "current loss = 2.3446004206555\t\n",
       "current loss = 2.34406347064\t\n",
       "current loss = 2.343527086108\t\n"
      ]
     },
     "execution_count": 12,
     "metadata": {},
     "output_type": "execute_result"
    },
    {
     "data": {
      "text/plain": [
       "current loss = 2.3429912662343\t\n",
       "current loss = 2.3424560101955\t\n",
       "current loss = 2.3419213171692\t\n",
       "current loss = 2.3413871863349\t\n",
       "current loss = 2.3408536168735\t\n"
      ]
     },
     "execution_count": 12,
     "metadata": {},
     "output_type": "execute_result"
    },
    {
     "data": {
      "text/plain": [
       "current loss = 2.3403206079672\t\n",
       "current loss = 2.3397881587998\t\n",
       "current loss = 2.3392562685566\t\n",
       "current loss = 2.3387249364243\t\n",
       "current loss = 2.3381941615913\t\n",
       "current loss = 2.337663943247\t\n"
      ]
     },
     "execution_count": 12,
     "metadata": {},
     "output_type": "execute_result"
    },
    {
     "data": {
      "text/plain": [
       "current loss = 2.3371342805828\t\n",
       "current loss = 2.3366051727912\t\n",
       "current loss = 2.3360766190662\t\n",
       "current loss = 2.3355486186035\t\n",
       "current loss = 2.3350211705998\t\n"
      ]
     },
     "execution_count": 12,
     "metadata": {},
     "output_type": "execute_result"
    },
    {
     "data": {
      "text/plain": [
       "current loss = 2.3344942742537\t\n",
       "current loss = 2.3339679287651\t\n",
       "current loss = 2.3334421333351\t\n",
       "current loss = 2.3329168871667\t\n",
       "current loss = 2.3323921894638\t\n",
       "current loss = 2.3318680394322\t\n",
       "current loss = 2.3313444362788\t\n"
      ]
     },
     "execution_count": 12,
     "metadata": {},
     "output_type": "execute_result"
    },
    {
     "data": {
      "text/plain": [
       "current loss = 2.3308213792122\t\n",
       "current loss = 2.3302988674421\t\n",
       "current loss = 2.32977690018\t\n",
       "current loss = 2.3292554766386\t\n",
       "current loss = 2.3287345960319\t\n"
      ]
     },
     "execution_count": 12,
     "metadata": {},
     "output_type": "execute_result"
    },
    {
     "data": {
      "text/plain": [
       "current loss = 2.3282142575755\t\n",
       "current loss = 2.3276944604864\t\n",
       "current loss = 2.327175203983\t\n",
       "current loss = 2.3266564872849\t\n",
       "current loss = 2.3261383096134\t\n",
       "current loss = 2.325620670191\t\n"
      ]
     },
     "execution_count": 12,
     "metadata": {},
     "output_type": "execute_result"
    },
    {
     "data": {
      "text/plain": [
       "current loss = 2.3251035682417\t\n",
       "current loss = 2.3245870029908\t\n",
       "current loss = 2.324070973665\t\n",
       "current loss = 2.3235554794924\t\n",
       "current loss = 2.3230405197026\t\n"
      ]
     },
     "execution_count": 12,
     "metadata": {},
     "output_type": "execute_result"
    },
    {
     "data": {
      "text/plain": [
       "current loss = 2.3225260935264\t\n",
       "current loss = 2.3220122001961\t\n",
       "current loss = 2.3214988389453\t\n",
       "current loss = 2.3209860090089\t\n",
       "current loss = 2.3204737096234\t\n",
       "current loss = 2.3199619400264\t\n"
      ]
     },
     "execution_count": 12,
     "metadata": {},
     "output_type": "execute_result"
    },
    {
     "data": {
      "text/plain": [
       "current loss = 2.3194506994571\t\n",
       "current loss = 2.3189399871559\t\n",
       "current loss = 2.3184298023645\t\n",
       "current loss = 2.3179201443262\t\n",
       "current loss = 2.3174110122854\t\n",
       "current loss = 2.316902405488\t\n",
       "current loss = 2.3163943231812\t\n"
      ]
     },
     "execution_count": 12,
     "metadata": {},
     "output_type": "execute_result"
    },
    {
     "data": {
      "text/plain": [
       "current loss = 2.3158867646135\t\n",
       "current loss = 2.3153797290348\t\n",
       "current loss = 2.3148732156962\t\n",
       "current loss = 2.3143672238504\t\n",
       "current loss = 2.3138617527512\t\n",
       "current loss = 2.3133568016537\t\n"
      ]
     },
     "execution_count": 12,
     "metadata": {},
     "output_type": "execute_result"
    },
    {
     "data": {
      "text/plain": [
       "current loss = 2.3128523698146\t\n",
       "current loss = 2.3123484564917\t\n",
       "current loss = 2.3118450609441\t\n",
       "current loss = 2.3113421824323\t\n",
       "current loss = 2.3108398202181\t\n",
       "current loss = 2.3103379735646\t\n"
      ]
     },
     "execution_count": 12,
     "metadata": {},
     "output_type": "execute_result"
    },
    {
     "data": {
      "text/plain": [
       "current loss = 2.3098366417362\t\n",
       "current loss = 2.3093358239987\t\n",
       "current loss = 2.308835519619\t\n",
       "current loss = 2.3083357278655\t\n",
       "current loss = 2.3078364480077\t\n",
       "current loss = 2.3073376793167\t\n"
      ]
     },
     "execution_count": 12,
     "metadata": {},
     "output_type": "execute_result"
    },
    {
     "data": {
      "text/plain": [
       "current loss = 2.3068394210646\t\n",
       "current loss = 2.3063416725248\t\n",
       "current loss = 2.3058444329723\t\n",
       "current loss = 2.305347701683\t\n",
       "current loss = 2.3048514779342\t\n",
       "current loss = 2.3043557610047\t\n"
      ]
     },
     "execution_count": 12,
     "metadata": {},
     "output_type": "execute_result"
    },
    {
     "data": {
      "text/plain": [
       "current loss = 2.3038605501742\t\n",
       "current loss = 2.303365844724\t\n",
       "current loss = 2.3028716439365\t\n",
       "current loss = 2.3023779470954\t\n",
       "current loss = 2.3018847534857\t\n",
       "current loss = 2.3013920623936\t\n"
      ]
     },
     "execution_count": 12,
     "metadata": {},
     "output_type": "execute_result"
    },
    {
     "data": {
      "text/plain": [
       "current loss = 2.3008998731066\t\n",
       "current loss = 2.3004081849134\t\n",
       "current loss = 2.2999169971041\t\n",
       "current loss = 2.29942630897\t\n",
       "current loss = 2.2989361198034\t\n",
       "current loss = 2.2984464288983\t\n"
      ]
     },
     "execution_count": 12,
     "metadata": {},
     "output_type": "execute_result"
    },
    {
     "data": {
      "text/plain": [
       "current loss = 2.2979572355495\t\n",
       "current loss = 2.2974685390533\t\n",
       "current loss = 2.2969803387072\t\n",
       "current loss = 2.2964926338099\t\n"
      ]
     },
     "execution_count": 12,
     "metadata": {},
     "output_type": "execute_result"
    },
    {
     "data": {
      "text/plain": [
       "current loss = 2.2960054236614\t\n",
       "current loss = 2.2955187075628\t\n"
      ]
     },
     "execution_count": 12,
     "metadata": {},
     "output_type": "execute_result"
    },
    {
     "data": {
      "text/plain": [
       "current loss = 2.2950324848165\t\n"
      ]
     },
     "execution_count": 12,
     "metadata": {},
     "output_type": "execute_result"
    },
    {
     "data": {
      "text/plain": [
       "current loss = 2.2945467547262\t\n",
       "current loss = 2.2940615165968\t\n"
      ]
     },
     "execution_count": 12,
     "metadata": {},
     "output_type": "execute_result"
    },
    {
     "data": {
      "text/plain": [
       "current loss = 2.2935767697342\t\n"
      ]
     },
     "execution_count": 12,
     "metadata": {},
     "output_type": "execute_result"
    },
    {
     "data": {
      "text/plain": [
       "current loss = 2.2930925134458\t\n"
      ]
     },
     "execution_count": 12,
     "metadata": {},
     "output_type": "execute_result"
    },
    {
     "data": {
      "text/plain": [
       "current loss = 2.2926087470401\t\n"
      ]
     },
     "execution_count": 12,
     "metadata": {},
     "output_type": "execute_result"
    },
    {
     "data": {
      "text/plain": [
       "current loss = 2.2921254698269\t\n",
       "current loss = 2.2916426811171\t\n"
      ]
     },
     "execution_count": 12,
     "metadata": {},
     "output_type": "execute_result"
    },
    {
     "data": {
      "text/plain": [
       "current loss = 2.2911603802227\t\n"
      ]
     },
     "execution_count": 12,
     "metadata": {},
     "output_type": "execute_result"
    },
    {
     "data": {
      "text/plain": [
       "current loss = 2.2906785664572\t\n",
       "current loss = 2.2901972391352\t\n",
       "current loss = 2.2897163975723\t\n",
       "current loss = 2.2892360410855\t\n",
       "current loss = 2.288756168993\t\n"
      ]
     },
     "execution_count": 12,
     "metadata": {},
     "output_type": "execute_result"
    },
    {
     "data": {
      "text/plain": [
       "current loss = 2.2882767806141\t\n"
      ]
     },
     "execution_count": 12,
     "metadata": {},
     "output_type": "execute_result"
    },
    {
     "data": {
      "text/plain": [
       "current loss = 2.2877978752694\t\n",
       "current loss = 2.2873194522805\t\n"
      ]
     },
     "execution_count": 12,
     "metadata": {},
     "output_type": "execute_result"
    },
    {
     "data": {
      "text/plain": [
       "current loss = 2.2868415109704\t\n",
       "current loss = 2.2863640506632\t\n",
       "current loss = 2.2858870706842\t\n",
       "current loss = 2.2854105703597\t\n",
       "current loss = 2.2849345490175\t\n",
       "current loss = 2.2844590059862\t\n",
       "current loss = 2.283983940596\t\n"
      ]
     },
     "execution_count": 12,
     "metadata": {},
     "output_type": "execute_result"
    },
    {
     "data": {
      "text/plain": [
       "current loss = 2.2835093521779\t\n",
       "current loss = 2.2830352400643\t\n",
       "current loss = 2.2825616035885\t\n",
       "current loss = 2.2820884420854\t\n",
       "current loss = 2.2816157548905\t\n",
       "current loss = 2.281143541341\t\n",
       "current loss = 2.2806718007749\t\n",
       "current loss = 2.2802005325315\t\n"
      ]
     },
     "execution_count": 12,
     "metadata": {},
     "output_type": "execute_result"
    },
    {
     "data": {
      "text/plain": [
       "current loss = 2.2797297359511\t\n",
       "current loss = 2.2792594103753\t\n",
       "current loss = 2.2787895551469\t\n",
       "current loss = 2.2783201696097\t\n",
       "current loss = 2.2778512531086\t\n",
       "current loss = 2.2773828049898\t\n",
       "current loss = 2.2769148246005\t\n",
       "current loss = 2.2764473112892\t\n"
      ]
     },
     "execution_count": 12,
     "metadata": {},
     "output_type": "execute_result"
    },
    {
     "data": {
      "text/plain": [
       "current loss = 2.2759802644053\t\n",
       "current loss = 2.2755136832995\t\n",
       "current loss = 2.2750475673236\t\n",
       "current loss = 2.2745819158305\t\n",
       "current loss = 2.2741167281742\t\n",
       "current loss = 2.2736520037098\t\n",
       "current loss = 2.2731877417937\t\n",
       "current loss = 2.2727239417831\t\n"
      ]
     },
     "execution_count": 12,
     "metadata": {},
     "output_type": "execute_result"
    },
    {
     "data": {
      "text/plain": [
       "current loss = 2.2722606030367\t\n",
       "current loss = 2.2717977249139\t\n",
       "current loss = 2.2713353067755\t\n",
       "current loss = 2.2708733479833\t\n",
       "current loss = 2.2704118479002\t\n",
       "current loss = 2.2699508058903\t\n",
       "current loss = 2.2694902213186\t\n",
       "current loss = 2.2690300935514\t\n"
      ]
     },
     "execution_count": 12,
     "metadata": {},
     "output_type": "execute_result"
    },
    {
     "data": {
      "text/plain": [
       "current loss = 2.268570421956\t\n",
       "current loss = 2.2681112059008\t\n",
       "current loss = 2.2676524447552\t\n",
       "current loss = 2.26719413789\t\n",
       "current loss = 2.2667362846766\t\n",
       "current loss = 2.2662788844879\t\n",
       "current loss = 2.2658219366977\t\n",
       "current loss = 2.2653654406809\t\n"
      ]
     },
     "execution_count": 12,
     "metadata": {},
     "output_type": "execute_result"
    },
    {
     "data": {
      "text/plain": [
       "current loss = 2.2649093958136\t\n",
       "current loss = 2.2644538014727\t\n",
       "current loss = 2.2639986570364\t\n",
       "current loss = 2.2635439618839\t\n",
       "current loss = 2.2630897153955\t\n",
       "current loss = 2.2626359169526\t\n",
       "current loss = 2.2621825659374\t\n",
       "current loss = 2.2617296617335\t\n",
       "current loss = 2.2612772037255\t\n"
      ]
     },
     "execution_count": 12,
     "metadata": {},
     "output_type": "execute_result"
    },
    {
     "data": {
      "text/plain": [
       "current loss = 2.2608251912989\t\n",
       "current loss = 2.2603736238403\t\n",
       "current loss = 2.2599225007374\t\n",
       "current loss = 2.259471821379\t\n",
       "current loss = 2.2590215851548\t\n",
       "current loss = 2.2585717914557\t\n",
       "current loss = 2.2581224396737\t\n",
       "current loss = 2.2576735292015\t\n"
      ]
     },
     "execution_count": 12,
     "metadata": {},
     "output_type": "execute_result"
    },
    {
     "data": {
      "text/plain": [
       "current loss = 2.2572250594332\t\n",
       "current loss = 2.2567770297637\t\n",
       "current loss = 2.2563294395892\t\n",
       "current loss = 2.2558822883067\t\n",
       "current loss = 2.2554355753142\t\n",
       "current loss = 2.254989300011\t\n",
       "current loss = 2.2545434617971\t\n",
       "current loss = 2.2540980600739\t\n"
      ]
     },
     "execution_count": 12,
     "metadata": {},
     "output_type": "execute_result"
    },
    {
     "data": {
      "text/plain": [
       "current loss = 2.2536530942434\t\n",
       "current loss = 2.2532085637089\t\n",
       "current loss = 2.2527644678747\t\n",
       "current loss = 2.2523208061461\t\n",
       "current loss = 2.2518775779293\t\n",
       "current loss = 2.2514347826316\t\n",
       "current loss = 2.2509924196614\t\n",
       "current loss = 2.2505504884279\t\n"
      ]
     },
     "execution_count": 12,
     "metadata": {},
     "output_type": "execute_result"
    },
    {
     "data": {
      "text/plain": [
       "current loss = 2.2501089883416\t\n",
       "current loss = 2.2496679188136\t\n",
       "current loss = 2.2492272792565\t\n",
       "current loss = 2.2487870690834\t\n",
       "current loss = 2.2483472877087\t\n",
       "current loss = 2.2479079345479\t\n",
       "current loss = 2.2474690090171\t\n",
       "current loss = 2.2470305105337\t\n"
      ]
     },
     "execution_count": 12,
     "metadata": {},
     "output_type": "execute_result"
    },
    {
     "data": {
      "text/plain": [
       "current loss = 2.2465924385161\t\n",
       "current loss = 2.2461547923835\t\n",
       "current loss = 2.2457175715563\t\n",
       "current loss = 2.2452807754556\t\n",
       "current loss = 2.2448444035038\t\n",
       "current loss = 2.244408455124\t\n",
       "current loss = 2.2439729297406\t\n",
       "current loss = 2.2435378267787\t\n"
      ]
     },
     "execution_count": 12,
     "metadata": {},
     "output_type": "execute_result"
    },
    {
     "data": {
      "text/plain": [
       "current loss = 2.2431031456645\t\n",
       "current loss = 2.2426688858251\t\n",
       "current loss = 2.2422350466886\t\n",
       "current loss = 2.2418016276842\t\n",
       "current loss = 2.2413686282418\t\n",
       "current loss = 2.2409360477925\t\n",
       "current loss = 2.2405038857683\t\n",
       "current loss = 2.2400721416021\t\n"
      ]
     },
     "execution_count": 12,
     "metadata": {},
     "output_type": "execute_result"
    },
    {
     "data": {
      "text/plain": [
       "current loss = 2.2396408147279\t\n",
       "current loss = 2.2392099045804\t\n",
       "current loss = 2.2387794105955\t\n",
       "current loss = 2.2383493322099\t\n",
       "current loss = 2.2379196688615\t\n",
       "current loss = 2.2374904199888\t\n",
       "current loss = 2.2370615850315\t\n"
      ]
     },
     "execution_count": 12,
     "metadata": {},
     "output_type": "execute_result"
    },
    {
     "data": {
      "text/plain": [
       "current loss = 2.2366331634301\t\n",
       "current loss = 2.2362051546262\t\n",
       "current loss = 2.2357775580623\t\n",
       "current loss = 2.2353503731816\t\n",
       "current loss = 2.2349235994286\t\n",
       "current loss = 2.2344972362485\t\n",
       "current loss = 2.2340712830875\t\n"
      ]
     },
     "execution_count": 12,
     "metadata": {},
     "output_type": "execute_result"
    },
    {
     "data": {
      "text/plain": [
       "current loss = 2.2336457393928\t\n",
       "current loss = 2.2332206046124\t\n",
       "current loss = 2.2327958781954\t\n",
       "current loss = 2.2323715595916\t\n",
       "current loss = 2.231947648252\t\n"
      ]
     },
     "execution_count": 12,
     "metadata": {},
     "output_type": "execute_result"
    },
    {
     "data": {
      "text/plain": [
       "current loss = 2.2315241436282\t\n",
       "current loss = 2.231101045173\t\n",
       "current loss = 2.2306783523401\t\n",
       "current loss = 2.2302560645839\t\n",
       "current loss = 2.2298341813599\t\n"
      ]
     },
     "execution_count": 12,
     "metadata": {},
     "output_type": "execute_result"
    },
    {
     "data": {
      "text/plain": [
       "current loss = 2.2294127021245\t\n",
       "current loss = 2.228991626335\t\n",
       "current loss = 2.2285709534496\t\n",
       "current loss = 2.2281506829273\t\n",
       "current loss = 2.2277308142282\t\n",
       "current loss = 2.2273113468131\t\n"
      ]
     },
     "execution_count": 12,
     "metadata": {},
     "output_type": "execute_result"
    },
    {
     "data": {
      "text/plain": [
       "current loss = 2.226892280144\t\n",
       "current loss = 2.2264736136836\t\n",
       "current loss = 2.2260553468954\t\n",
       "current loss = 2.225637479244\t\n",
       "current loss = 2.2252200101948\t\n",
       "current loss = 2.2248029392141\t\n",
       "current loss = 2.2243862657692\t\n",
       "current loss = 2.2239699893281\t\n"
      ]
     },
     "execution_count": 12,
     "metadata": {},
     "output_type": "execute_result"
    },
    {
     "data": {
      "text/plain": [
       "current loss = 2.2235541093598\t\n",
       "current loss = 2.2231386253342\t\n",
       "current loss = 2.222723536722\t\n",
       "current loss = 2.222308842995\t\n",
       "current loss = 2.2218945436256\t\n",
       "current loss = 2.2214806380873\t\n",
       "current loss = 2.2210671258543\t\n",
       "current loss = 2.2206540064018\t\n"
      ]
     },
     "execution_count": 12,
     "metadata": {},
     "output_type": "execute_result"
    },
    {
     "data": {
      "text/plain": [
       "current loss = 2.2202412792059\t\n",
       "current loss = 2.2198289437434\t\n",
       "current loss = 2.2194169994923\t\n",
       "current loss = 2.219005445931\t\n",
       "current loss = 2.2185942825392\t\n",
       "current loss = 2.2181835087972\t\n",
       "current loss = 2.2177731241864\t\n",
       "current loss = 2.2173631281888\t\n"
      ]
     },
     "execution_count": 12,
     "metadata": {},
     "output_type": "execute_result"
    },
    {
     "data": {
      "text/plain": [
       "current loss = 2.2169535202874\t\n",
       "current loss = 2.2165442999661\t\n",
       "current loss = 2.2161354667096\t\n",
       "current loss = 2.2157270200035\t\n",
       "current loss = 2.2153189593341\t\n",
       "current loss = 2.2149112841887\t\n",
       "current loss = 2.2145039940556\t\n",
       "current loss = 2.2140970884235\t\n"
      ]
     },
     "execution_count": 12,
     "metadata": {},
     "output_type": "execute_result"
    },
    {
     "data": {
      "text/plain": [
       "current loss = 2.2136905667825\t\n",
       "current loss = 2.213284428623\t\n",
       "current loss = 2.2128786734368\t\n",
       "current loss = 2.212473300716\t\n",
       "current loss = 2.2120683099539\t\n",
       "current loss = 2.2116637006446\t\n",
       "current loss = 2.211259472283\t\n",
       "current loss = 2.2108556243647\t\n"
      ]
     },
     "execution_count": 12,
     "metadata": {},
     "output_type": "execute_result"
    },
    {
     "data": {
      "text/plain": [
       "current loss = 2.2104521563863\t\n",
       "current loss = 2.2100490678452\t\n",
       "current loss = 2.2096463582396\t\n",
       "current loss = 2.2092440270685\t\n",
       "current loss = 2.2088420738319\t\n",
       "current loss = 2.2084404980304\t\n",
       "current loss = 2.2080392991656\t\n"
      ]
     },
     "execution_count": 12,
     "metadata": {},
     "output_type": "execute_result"
    },
    {
     "data": {
      "text/plain": [
       "current loss = 2.2076384767398\t\n",
       "current loss = 2.2072380302563\t\n",
       "current loss = 2.2068379592189\t\n",
       "current loss = 2.2064382631325\t\n",
       "current loss = 2.2060389415028\t\n",
       "current loss = 2.2056399938362\t\n",
       "current loss = 2.2052414196399\t\n",
       "current loss = 2.2048432184221\t\n"
      ]
     },
     "execution_count": 12,
     "metadata": {},
     "output_type": "execute_result"
    },
    {
     "data": {
      "text/plain": [
       "current loss = 2.2044453896915\t\n",
       "current loss = 2.204047932958\t\n",
       "current loss = 2.2036508477321\t\n",
       "current loss = 2.2032541335249\t\n",
       "current loss = 2.2028577898487\t\n",
       "current loss = 2.2024618162164\t\n",
       "current loss = 2.2020662121417\t\n"
      ]
     },
     "execution_count": 12,
     "metadata": {},
     "output_type": "execute_result"
    },
    {
     "data": {
      "text/plain": [
       "current loss = 2.2016709771391\t\n",
       "current loss = 2.2012761107239\t\n",
       "current loss = 2.2008816124122\t\n",
       "current loss = 2.2004874817211\t\n",
       "current loss = 2.200093718168\t\n",
       "current loss = 2.1997003212717\t\n",
       "current loss = 2.1993072905513\t\n",
       "current loss = 2.1989146255269\t\n",
       "current loss = 2.1985223257195\t\n"
      ]
     },
     "execution_count": 12,
     "metadata": {},
     "output_type": "execute_result"
    },
    {
     "data": {
      "text/plain": [
       "current loss = 2.1981303906505\t\n",
       "current loss = 2.1977388198426\t\n",
       "current loss = 2.1973476128188\t\n",
       "current loss = 2.1969567691033\t\n",
       "current loss = 2.1965662882208\t\n",
       "current loss = 2.1961761696967\t\n",
       "current loss = 2.1957864130576\t\n",
       "current loss = 2.1953970178305\t\n"
      ]
     },
     "execution_count": 12,
     "metadata": {},
     "output_type": "execute_result"
    },
    {
     "data": {
      "text/plain": [
       "current loss = 2.1950079835433\t\n",
       "current loss = 2.1946193097246\t\n",
       "current loss = 2.1942309959038\t\n",
       "current loss = 2.1938430416113\t\n",
       "current loss = 2.1934554463779\t\n",
       "current loss = 2.1930682097353\t\n",
       "current loss = 2.1926813312161\t\n",
       "current loss = 2.1922948103536\t\n"
      ]
     },
     "execution_count": 12,
     "metadata": {},
     "output_type": "execute_result"
    },
    {
     "data": {
      "text/plain": [
       "current loss = 2.1919086466817\t\n",
       "current loss = 2.1915228397353\t\n",
       "current loss = 2.1911373890498\t\n",
       "current loss = 2.1907522941617\t\n",
       "current loss = 2.1903675546079\t\n",
       "current loss = 2.1899831699262\t\n",
       "current loss = 2.1895991396554\t\n",
       "current loss = 2.1892154633345\t\n"
      ]
     },
     "execution_count": 12,
     "metadata": {},
     "output_type": "execute_result"
    },
    {
     "data": {
      "text/plain": [
       "current loss = 2.1888321405038\t\n",
       "current loss = 2.188449170704\t\n",
       "current loss = 2.1880665534767\t\n",
       "current loss = 2.1876842883643\t\n",
       "current loss = 2.1873023749097\t\n",
       "current loss = 2.1869208126568\t\n",
       "current loss = 2.1865396011501\t\n",
       "current loss = 2.1861587399349\t\n"
      ]
     },
     "execution_count": 12,
     "metadata": {},
     "output_type": "execute_result"
    },
    {
     "data": {
      "text/plain": [
       "current loss = 2.1857782285572\t\n",
       "current loss = 2.1853980665638\t\n",
       "current loss = 2.1850182535021\t\n",
       "current loss = 2.1846387889205\t\n",
       "current loss = 2.1842596723678\t\n",
       "current loss = 2.1838809033938\t\n",
       "current loss = 2.1835024815488\t\n",
       "current loss = 2.1831244063841\t\n"
      ]
     },
     "execution_count": 12,
     "metadata": {},
     "output_type": "execute_result"
    },
    {
     "data": {
      "text/plain": [
       "current loss = 2.1827466774515\t\n",
       "current loss = 2.1823692943036\t\n",
       "current loss = 2.1819922564938\t\n",
       "current loss = 2.1816155635761\t\n",
       "current loss = 2.1812392151052\t\n",
       "current loss = 2.1808632106368\t\n",
       "current loss = 2.1804875497269\t\n",
       "current loss = 2.1801122319326\t\n"
      ]
     },
     "execution_count": 12,
     "metadata": {},
     "output_type": "execute_result"
    },
    {
     "data": {
      "text/plain": [
       "current loss = 2.1797372568114\t\n",
       "current loss = 2.1793626239218\t\n",
       "current loss = 2.1789883328228\t\n",
       "current loss = 2.1786143830743\t\n",
       "current loss = 2.1782407742367\t\n",
       "current loss = 2.1778675058713\t\n",
       "current loss = 2.1774945775398\t\n",
       "current loss = 2.1771219888052\t\n"
      ]
     },
     "execution_count": 12,
     "metadata": {},
     "output_type": "execute_result"
    },
    {
     "data": {
      "text/plain": [
       "current loss = 2.1767497392305\t\n",
       "current loss = 2.1763778283799\t\n",
       "current loss = 2.1760062558181\t\n",
       "current loss = 2.1756350211105\t\n",
       "current loss = 2.1752641238234\t\n",
       "current loss = 2.1748935635235\t\n"
      ]
     },
     "execution_count": 12,
     "metadata": {},
     "output_type": "execute_result"
    },
    {
     "data": {
      "text/plain": [
       "current loss = 2.1745233397783\t\n",
       "current loss = 2.1741534521562\t\n",
       "current loss = 2.173783900226\t\n",
       "current loss = 2.1734146835574\t\n",
       "current loss = 2.1730458017207\t\n",
       "current loss = 2.1726772542869\t\n",
       "current loss = 2.1723090408276\t\n",
       "current loss = 2.1719411609154\t\n",
       "current loss = 2.1715736141231\t\n"
      ]
     },
     "execution_count": 12,
     "metadata": {},
     "output_type": "execute_result"
    },
    {
     "data": {
      "text/plain": [
       "current loss = 2.1712064000247\t\n",
       "current loss = 2.1708395181945\t\n",
       "current loss = 2.1704729682078\t\n",
       "current loss = 2.1701067496401\t\n",
       "current loss = 2.1697408620682\t\n",
       "current loss = 2.1693753050691\t\n",
       "current loss = 2.1690100782206\t\n",
       "current loss = 2.1686451811014\t\n"
      ]
     },
     "execution_count": 12,
     "metadata": {},
     "output_type": "execute_result"
    },
    {
     "data": {
      "text/plain": [
       "current loss = 2.1682806132905\t\n",
       "current loss = 2.167916374368\t\n",
       "current loss = 2.1675524639142\t\n",
       "current loss = 2.1671888815104\t\n",
       "current loss = 2.1668256267386\t\n",
       "current loss = 2.1664626991812\t\n",
       "current loss = 2.1661000984215\t\n",
       "current loss = 2.1657378240434\t\n"
      ]
     },
     "execution_count": 12,
     "metadata": {},
     "output_type": "execute_result"
    },
    {
     "data": {
      "text/plain": [
       "current loss = 2.1653758756314\t\n",
       "current loss = 2.1650142527707\t\n",
       "current loss = 2.1646529550473\t\n",
       "current loss = 2.1642919820476\t\n",
       "current loss = 2.1639313333589\t\n",
       "current loss = 2.1635710085689\t\n",
       "current loss = 2.1632110072664\t\n",
       "current loss = 2.1628513290403\t\n"
      ]
     },
     "execution_count": 12,
     "metadata": {},
     "output_type": "execute_result"
    },
    {
     "data": {
      "text/plain": [
       "current loss = 2.1624919734805\t\n",
       "current loss = 2.1621329401776\t\n",
       "current loss = 2.1617742287227\t\n",
       "current loss = 2.1614158387074\t\n",
       "current loss = 2.1610577697244\t\n",
       "current loss = 2.1607000213666\t\n",
       "current loss = 2.1603425932277\t\n",
       "current loss = 2.1599854849023\t\n"
      ]
     },
     "execution_count": 12,
     "metadata": {},
     "output_type": "execute_result"
    },
    {
     "data": {
      "text/plain": [
       "current loss = 2.1596286959852\t\n",
       "current loss = 2.1592722260722\t\n",
       "current loss = 2.1589160747596\t\n",
       "current loss = 2.1585602416443\t\n",
       "current loss = 2.158204726324\t\n",
       "current loss = 2.1578495283967\t\n",
       "current loss = 2.1574946474615\t\n"
      ]
     },
     "execution_count": 12,
     "metadata": {},
     "output_type": "execute_result"
    },
    {
     "data": {
      "text/plain": [
       "current loss = 2.1571400831178\t\n",
       "current loss = 2.1567858349658\t\n",
       "current loss = 2.1564319026063\t\n",
       "current loss = 2.1560782856405\t\n",
       "current loss = 2.1557249836707\t\n",
       "current loss = 2.1553719962995\t\n",
       "current loss = 2.1550193231301\t\n",
       "current loss = 2.1546669637665\t\n"
      ]
     },
     "execution_count": 12,
     "metadata": {},
     "output_type": "execute_result"
    },
    {
     "data": {
      "text/plain": [
       "current loss = 2.1543149178133\t\n",
       "current loss = 2.1539631848756\t\n",
       "current loss = 2.1536117645593\t\n",
       "current loss = 2.1532606564708\t\n",
       "current loss = 2.1529098602171\t\n",
       "current loss = 2.1525593754059\t\n",
       "current loss = 2.1522092016456\t\n",
       "current loss = 2.1518593385449\t"
      ]
     },
     "execution_count": 12,
     "metadata": {},
     "output_type": "execute_result"
    },
    {
     "data": {
      "text/plain": [
       "\n",
       "current loss = 2.1515097857136\t\n",
       "current loss = 2.1511605427616\t\n",
       "current loss = 2.1508116092998\t\n",
       "current loss = 2.1504629849396\t\n",
       "current loss = 2.1501146692929\t\n",
       "current loss = 2.1497666619724\t\n",
       "current loss = 2.1494189625912\t\n"
      ]
     },
     "execution_count": 12,
     "metadata": {},
     "output_type": "execute_result"
    },
    {
     "data": {
      "text/plain": [
       "current loss = 2.1490715707633\t\n",
       "current loss = 2.1487244861029\t\n",
       "current loss = 2.1483777082253\t\n",
       "current loss = 2.148031236746\t\n",
       "current loss = 2.1476850712812\t\n",
       "current loss = 2.1473392114479\t\n",
       "current loss = 2.1469936568635\t\n",
       "current loss = 2.146648407146\t\n"
      ]
     },
     "execution_count": 12,
     "metadata": {},
     "output_type": "execute_result"
    },
    {
     "data": {
      "text/plain": [
       "current loss = 2.1463034619142\t\n",
       "current loss = 2.1459588207872\t\n",
       "current loss = 2.145614483385\t\n",
       "current loss = 2.145270449328\t\n",
       "current loss = 2.1449267182373\t\n",
       "current loss = 2.1445832897344\t\n",
       "current loss = 2.1442401634417\t\n",
       "current loss = 2.1438973389821\t\n"
      ]
     },
     "execution_count": 12,
     "metadata": {},
     "output_type": "execute_result"
    },
    {
     "data": {
      "text/plain": [
       "current loss = 2.1435548159788\t\n",
       "current loss = 2.143212594056\t\n",
       "current loss = 2.1428706728382\t\n",
       "current loss = 2.1425290519507\t\n",
       "current loss = 2.1421877310192\t\n",
       "current loss = 2.1418467096701\t\n",
       "current loss = 2.1415059875304\t\n",
       "current loss = 2.1411655642276\t\n"
      ]
     },
     "execution_count": 12,
     "metadata": {},
     "output_type": "execute_result"
    },
    {
     "data": {
      "text/plain": [
       "current loss = 2.1408254393898\t\n",
       "current loss = 2.1404856126458\t\n",
       "current loss = 2.1401460836247\t\n",
       "current loss = 2.1398068519566\t\n",
       "current loss = 2.1394679172718\t\n",
       "current loss = 2.1391292792014\t\n",
       "current loss = 2.1387909373769\t\n"
      ]
     },
     "execution_count": 12,
     "metadata": {},
     "output_type": "execute_result"
    },
    {
     "data": {
      "text/plain": [
       "current loss = 2.1384528914305\t\n",
       "current loss = 2.1381151409951\t\n",
       "current loss = 2.1377776857038\t\n",
       "current loss = 2.1374405251906\t\n",
       "current loss = 2.13710365909\t\n",
       "current loss = 2.136767087037\t\n",
       "current loss = 2.1364308086672\t\n",
       "current loss = 2.1360948236169\t\n"
      ]
     },
     "execution_count": 12,
     "metadata": {},
     "output_type": "execute_result"
    },
    {
     "data": {
      "text/plain": [
       "current loss = 2.1357591315226\t\n",
       "current loss = 2.1354237320218\t\n",
       "current loss = 2.1350886247522\t\n",
       "current loss = 2.1347538093524\t\n",
       "current loss = 2.1344192854614\t\n",
       "current loss = 2.1340850527186\t\n",
       "current loss = 2.1337511107643\t\n",
       "current loss = 2.1334174592391\t\n"
      ]
     },
     "execution_count": 12,
     "metadata": {},
     "output_type": "execute_result"
    },
    {
     "data": {
      "text/plain": [
       "current loss = 2.1330840977842\t\n",
       "current loss = 2.1327510260415\t\n",
       "current loss = 2.1324182436533\t\n",
       "current loss = 2.1320857502625\t\n",
       "current loss = 2.1317535455125\t\n",
       "current loss = 2.1314216290474\t\n",
       "current loss = 2.1310900005118\t\n",
       "current loss = 2.1307586595508\t\n"
      ]
     },
     "execution_count": 12,
     "metadata": {},
     "output_type": "execute_result"
    },
    {
     "data": {
      "text/plain": [
       "current loss = 2.13042760581\t\n",
       "current loss = 2.1300968389357\t\n",
       "current loss = 2.1297663585747\t\n",
       "current loss = 2.1294361643742\t\n",
       "current loss = 2.1291062559821\t\n",
       "current loss = 2.1287766330469\t\n",
       "current loss = 2.1284472952175\t\n"
      ]
     },
     "execution_count": 12,
     "metadata": {},
     "output_type": "execute_result"
    },
    {
     "data": {
      "text/plain": [
       "current loss = 2.1281182421433\t\n",
       "current loss = 2.1277894734745\t\n",
       "current loss = 2.1274609888616\t\n",
       "current loss = 2.1271327879557\t\n",
       "current loss = 2.1268048704085\t\n",
       "current loss = 2.1264772358723\t\n",
       "current loss = 2.1261498839996\t\n",
       "current loss = 2.1258228144439\t\n"
      ]
     },
     "execution_count": 12,
     "metadata": {},
     "output_type": "execute_result"
    },
    {
     "data": {
      "text/plain": [
       "current loss = 2.1254960268588\t\n",
       "current loss = 2.1251695208989\t\n",
       "current loss = 2.1248432962188\t\n",
       "current loss = 2.1245173524741\t\n",
       "current loss = 2.1241916893208\t\n",
       "current loss = 2.1238663064151\t\n",
       "current loss = 2.1235412034142\t\n"
      ]
     },
     "execution_count": 12,
     "metadata": {},
     "output_type": "execute_result"
    },
    {
     "data": {
      "text/plain": [
       "current loss = 2.1232163799756\t\n",
       "current loss = 2.1228918357574\t\n",
       "current loss = 2.1225675704181\t\n",
       "current loss = 2.1222435836168\t\n",
       "current loss = 2.1219198750132\t\n",
       "current loss = 2.1215964442675\t\n",
       "current loss = 2.1212732910403\t\n",
       "current loss = 2.1209504149928\t\n"
      ]
     },
     "execution_count": 12,
     "metadata": {},
     "output_type": "execute_result"
    },
    {
     "data": {
      "text/plain": [
       "current loss = 2.1206278157867\t\n",
       "current loss = 2.1203054930844\t\n",
       "current loss = 2.1199834465485\t\n",
       "current loss = 2.1196616758423\t\n"
      ]
     },
     "execution_count": 12,
     "metadata": {},
     "output_type": "execute_result"
    },
    {
     "data": {
      "text/plain": [
       "current loss = 2.1193401806297\t\n",
       "current loss = 2.119018960575\t\n",
       "current loss = 2.1186980153429\t\n",
       "current loss = 2.1183773445989\t\n",
       "current loss = 2.1180569480087\t\n",
       "current loss = 2.1177368252388\t\n"
      ]
     },
     "execution_count": 12,
     "metadata": {},
     "output_type": "execute_result"
    },
    {
     "data": {
      "text/plain": [
       "current loss = 2.1174169759561\t\n",
       "current loss = 2.1170973998279\t\n",
       "current loss = 2.1167780965221\t\n",
       "current loss = 2.1164590657072\t\n",
       "current loss = 2.116140307052\t\n",
       "current loss = 2.1158218202261\t\n"
      ]
     },
     "execution_count": 12,
     "metadata": {},
     "output_type": "execute_result"
    },
    {
     "data": {
      "text/plain": [
       "current loss = 2.1155036048992\t\n",
       "current loss = 2.115185660742\t\n",
       "current loss = 2.1148679874252\t\n",
       "current loss = 2.1145505846204\t\n",
       "current loss = 2.1142334519995\t\n",
       "current loss = 2.1139165892349\t\n",
       "current loss = 2.1135999959996\t\n"
      ]
     },
     "execution_count": 12,
     "metadata": {},
     "output_type": "execute_result"
    },
    {
     "data": {
      "text/plain": [
       "current loss = 2.1132836719671\t\n",
       "current loss = 2.1129676168112\t\n",
       "current loss = 2.1126518302065\t\n",
       "current loss = 2.1123363118279\t\n",
       "current loss = 2.1120210613507\t\n"
      ]
     },
     "execution_count": 12,
     "metadata": {},
     "output_type": "execute_result"
    },
    {
     "data": {
      "text/plain": [
       "current loss = 2.111706078451\t\n",
       "current loss = 2.1113913628052\t\n",
       "current loss = 2.1110769140902\t\n",
       "current loss = 2.1107627319833\t\n",
       "current loss = 2.1104488161626\t\n",
       "current loss = 2.1101351663063\t\n"
      ]
     },
     "execution_count": 12,
     "metadata": {},
     "output_type": "execute_result"
    },
    {
     "data": {
      "text/plain": [
       "current loss = 2.1098217820935\t\n",
       "current loss = 2.1095086632034\t\n",
       "current loss = 2.1091958093159\t\n",
       "current loss = 2.1088832201114\t\n",
       "current loss = 2.1085708952706\t\n",
       "current loss = 2.108258834475\t\n",
       "current loss = 2.1079470374063\t\n"
      ]
     },
     "execution_count": 12,
     "metadata": {},
     "output_type": "execute_result"
    },
    {
     "data": {
      "text/plain": [
       "current loss = 2.1076355037468\t\n",
       "current loss = 2.1073242331792\t\n",
       "current loss = 2.1070132253869\t\n",
       "current loss = 2.1067024800535\t\n",
       "current loss = 2.1063919968633\t\n",
       "current loss = 2.106081775501\t\n"
      ]
     },
     "execution_count": 12,
     "metadata": {},
     "output_type": "execute_result"
    },
    {
     "data": {
      "text/plain": [
       "current loss = 2.1057718156517\t\n",
       "current loss = 2.105462117001\t\n",
       "current loss = 2.1051526792352\t\n",
       "current loss = 2.1048435020407\t\n",
       "current loss = 2.1045345851047\t\n"
      ]
     },
     "execution_count": 12,
     "metadata": {},
     "output_type": "execute_result"
    },
    {
     "data": {
      "text/plain": [
       "current loss = 2.1042259281147\t\n",
       "current loss = 2.1039175307588\t\n",
       "current loss = 2.1036093927253\t\n",
       "current loss = 2.1033015137034\t\n",
       "current loss = 2.1029938933824\t\n"
      ]
     },
     "execution_count": 12,
     "metadata": {},
     "output_type": "execute_result"
    },
    {
     "data": {
      "text/plain": [
       "current loss = 2.1026865314522\t\n",
       "current loss = 2.1023794276033\t\n",
       "current loss = 2.1020725815264\t\n",
       "current loss = 2.1017659929128\t\n",
       "current loss = 2.1014596614544\t\n"
      ]
     },
     "execution_count": 12,
     "metadata": {},
     "output_type": "execute_result"
    },
    {
     "data": {
      "text/plain": [
       "current loss = 2.1011535868433\t\n",
       "current loss = 2.1008477687723\t\n",
       "current loss = 2.1005422069346\t\n",
       "current loss = 2.1002369010237\t\n",
       "current loss = 2.0999318507338\t\n",
       "current loss = 2.0996270557595\t\n"
      ]
     },
     "execution_count": 12,
     "metadata": {},
     "output_type": "execute_result"
    },
    {
     "data": {
      "text/plain": [
       "current loss = 2.0993225157957\t\n",
       "current loss = 2.0990182305379\t\n",
       "current loss = 2.098714199682\t\n",
       "current loss = 2.0984104229245\t\n",
       "current loss = 2.0981068999622\t\n",
       "current loss = 2.0978036304924\t\n",
       "current loss = 2.0975006142129\t\n"
      ]
     },
     "execution_count": 12,
     "metadata": {},
     "output_type": "execute_result"
    },
    {
     "data": {
      "text/plain": [
       "current loss = 2.0971978508218\t\n",
       "current loss = 2.0968953400179\t\n",
       "current loss = 2.0965930815003\t\n",
       "current loss = 2.0962910749686\t\n",
       "current loss = 2.0959893201227\t\n",
       "current loss = 2.0956878166632\t\n"
      ]
     },
     "execution_count": 12,
     "metadata": {},
     "output_type": "execute_result"
    },
    {
     "data": {
      "text/plain": [
       "current loss = 2.0953865642909\t\n",
       "current loss = 2.0950855627073\t\n",
       "current loss = 2.0947848116143\t\n",
       "current loss = 2.0944843107139\t\n",
       "current loss = 2.0941840597091\t\n",
       "current loss = 2.0938840583029\t\n"
      ]
     },
     "execution_count": 12,
     "metadata": {},
     "output_type": "execute_result"
    },
    {
     "data": {
      "text/plain": [
       "current loss = 2.093584306199\t\n",
       "current loss = 2.0932848031014\t\n",
       "current loss = 2.0929855487146\t\n",
       "current loss = 2.0926865427435\t\n",
       "current loss = 2.0923877848936\t\n",
       "current loss = 2.0920892748707\t\n",
       "current loss = 2.091791012381\t\n"
      ]
     },
     "execution_count": 12,
     "metadata": {},
     "output_type": "execute_result"
    },
    {
     "data": {
      "text/plain": [
       "current loss = 2.0914929971312\t\n",
       "current loss = 2.0911952288285\t\n",
       "current loss = 2.0908977071804\t\n",
       "current loss = 2.090600431895\t\n",
       "current loss = 2.0903034026808\t\n"
      ]
     },
     "execution_count": 12,
     "metadata": {},
     "output_type": "execute_result"
    },
    {
     "data": {
      "text/plain": [
       "current loss = 2.0900066192466\t\n",
       "current loss = 2.0897100813017\t\n",
       "current loss = 2.0894137885559\t\n",
       "current loss = 2.0891177407194\t\n",
       "current loss = 2.0888219375028\t\n",
       "current loss = 2.0885263786172\t\n"
      ]
     },
     "execution_count": 12,
     "metadata": {},
     "output_type": "execute_result"
    },
    {
     "data": {
      "text/plain": [
       "current loss = 2.0882310637741\t\n",
       "current loss = 2.0879359926854\t\n",
       "current loss = 2.0876411650634\t\n",
       "current loss = 2.0873465806209\t\n",
       "current loss = 2.0870522390711\t\n",
       "current loss = 2.0867581401277\t\n"
      ]
     },
     "execution_count": 12,
     "metadata": {},
     "output_type": "execute_result"
    },
    {
     "data": {
      "text/plain": [
       "current loss = 2.0864642835047\t\n",
       "current loss = 2.0861706689166\t\n",
       "current loss = 2.0858772960783\t\n",
       "current loss = 2.0855841647051\t\n",
       "current loss = 2.0852912745128\t\n",
       "current loss = 2.0849986252175\t\n"
      ]
     },
     "execution_count": 12,
     "metadata": {},
     "output_type": "execute_result"
    },
    {
     "data": {
      "text/plain": [
       "current loss = 2.084706216536\t\n",
       "current loss = 2.0844140481851\t\n",
       "current loss = 2.0841221198824\t\n",
       "current loss = 2.0838304313456\t\n",
       "current loss = 2.0835389822932\t\n",
       "current loss = 2.0832477724437\t\n",
       "current loss = 2.0829568015163\t\n"
      ]
     },
     "execution_count": 12,
     "metadata": {},
     "output_type": "execute_result"
    },
    {
     "data": {
      "text/plain": [
       "current loss = 2.0826660692305\t\n",
       "current loss = 2.0823755753064\t\n",
       "current loss = 2.0820853194642\t\n",
       "current loss = 2.0817953014247\t\n",
       "current loss = 2.0815055209091\t\n",
       "current loss = 2.0812159776391\t\n"
      ]
     },
     "execution_count": 12,
     "metadata": {},
     "output_type": "execute_result"
    },
    {
     "data": {
      "text/plain": [
       "current loss = 2.0809266713366\t\n",
       "current loss = 2.0806376017241\t\n",
       "current loss = 2.0803487685244\t\n",
       "current loss = 2.0800601714607\t\n"
      ]
     },
     "execution_count": 12,
     "metadata": {},
     "output_type": "execute_result"
    },
    {
     "data": {
      "text/plain": [
       "current loss = 2.0797718102569\t\n",
       "current loss = 2.0794836846368\t\n",
       "current loss = 2.079195794325\t\n",
       "current loss = 2.0789081390463\t\n",
       "current loss = 2.0786207185262\t\n",
       "current loss = 2.0783335324902\t\n"
      ]
     },
     "execution_count": 12,
     "metadata": {},
     "output_type": "execute_result"
    },
    {
     "data": {
      "text/plain": [
       "current loss = 2.0780465806644\t\n",
       "current loss = 2.0777598627754\t\n",
       "current loss = 2.0774733785501\t\n",
       "current loss = 2.0771871277158\t\n",
       "current loss = 2.0769011100002\t\n",
       "current loss = 2.0766153251314\t\n",
       "current loss = 2.0763297728379\t\n"
      ]
     },
     "execution_count": 12,
     "metadata": {},
     "output_type": "execute_result"
    },
    {
     "data": {
      "text/plain": [
       "current loss = 2.0760444528488\t\n",
       "current loss = 2.0757593648932\t\n",
       "current loss = 2.0754745087009\t\n",
       "current loss = 2.075189884002\t\n",
       "current loss = 2.0749054905271\t\n",
       "current loss = 2.074621328007\t\n"
      ]
     },
     "execution_count": 12,
     "metadata": {},
     "output_type": "execute_result"
    },
    {
     "data": {
      "text/plain": [
       "current loss = 2.074337396173\t\n",
       "current loss = 2.0740536947569\t\n",
       "current loss = 2.0737702234907\t\n",
       "current loss = 2.073486982107\t\n",
       "current loss = 2.0732039703386\t\n",
       "current loss = 2.0729211879187\t\n"
      ]
     },
     "execution_count": 12,
     "metadata": {},
     "output_type": "execute_result"
    },
    {
     "data": {
      "text/plain": [
       "current loss = 2.0726386345811\t\n",
       "current loss = 2.0723563100599\t\n",
       "current loss = 2.0720742140893\t\n",
       "current loss = 2.0717923464044\t\n",
       "current loss = 2.0715107067403\t\n",
       "current loss = 2.0712292948326\t\n"
      ]
     },
     "execution_count": 12,
     "metadata": {},
     "output_type": "execute_result"
    },
    {
     "data": {
      "text/plain": [
       "current loss = 2.0709481104174\t\n",
       "current loss = 2.070667153231\t\n",
       "current loss = 2.0703864230103\t\n",
       "current loss = 2.0701059194923\t\n",
       "current loss = 2.0698256424146\t\n"
      ]
     },
     "execution_count": 12,
     "metadata": {},
     "output_type": "execute_result"
    },
    {
     "data": {
      "text/plain": [
       "current loss = 2.0695455915151\t\n",
       "current loss = 2.0692657665323\t\n",
       "current loss = 2.0689861672047\t\n",
       "current loss = 2.0687067932715\t\n",
       "current loss = 2.068427644472\t\n",
       "current loss = 2.0681487205463\t\n"
      ]
     },
     "execution_count": 12,
     "metadata": {},
     "output_type": "execute_result"
    },
    {
     "data": {
      "text/plain": [
       "current loss = 2.0678700212344\t\n",
       "current loss = 2.0675915462769\t\n",
       "current loss = 2.067313295415\t\n",
       "current loss = 2.0670352683899\t\n",
       "current loss = 2.0667574649433\t\n"
      ]
     },
     "execution_count": 12,
     "metadata": {},
     "output_type": "execute_result"
    },
    {
     "data": {
      "text/plain": [
       "current loss = 2.0664798848174\t\n",
       "current loss = 2.0662025277547\t\n",
       "current loss = 2.065925393498\t\n",
       "current loss = 2.0656484817907\t\n",
       "current loss = 2.0653717923762\t\n",
       "current loss = 2.0650953249986\t\n"
      ]
     },
     "execution_count": 12,
     "metadata": {},
     "output_type": "execute_result"
    },
    {
     "data": {
      "text/plain": [
       "current loss = 2.0648190794023\t\n",
       "current loss = 2.0645430553319\t\n",
       "current loss = 2.0642672525327\t\n",
       "current loss = 2.06399167075\t\n",
       "current loss = 2.0637163097298\t\n",
       "current loss = 2.0634411692183\t\n"
      ]
     },
     "execution_count": 12,
     "metadata": {},
     "output_type": "execute_result"
    },
    {
     "data": {
      "text/plain": [
       "current loss = 2.0631662489619\t\n",
       "current loss = 2.0628915487078\t\n",
       "current loss = 2.0626170682032\t\n",
       "current loss = 2.0623428071958\t\n",
       "current loss = 2.0620687654338\t\n",
       "current loss = 2.0617949426654\t\n"
      ]
     },
     "execution_count": 12,
     "metadata": {},
     "output_type": "execute_result"
    },
    {
     "data": {
      "text/plain": [
       "current loss = 2.0615213386395\t\n",
       "current loss = 2.0612479531053\t\n",
       "current loss = 2.0609747858122\t\n",
       "current loss = 2.0607018365102\t\n",
       "current loss = 2.0604291049495\t\n",
       "current loss = 2.0601565908808\t\n"
      ]
     },
     "execution_count": 12,
     "metadata": {},
     "output_type": "execute_result"
    },
    {
     "data": {
      "text/plain": [
       "current loss = 2.0598842940549\t\n",
       "current loss = 2.0596122142232\t\n",
       "current loss = 2.0593403511375\t\n",
       "current loss = 2.0590687045497\t\n",
       "current loss = 2.0587972742123\t\n",
       "current loss = 2.058526059878\t\n"
      ]
     },
     "execution_count": 12,
     "metadata": {},
     "output_type": "execute_result"
    },
    {
     "data": {
      "text/plain": [
       "current loss = 2.0582550613001\t\n",
       "current loss = 2.0579842782318\t\n",
       "current loss = 2.0577137104272\t\n",
       "current loss = 2.0574433576404\t\n",
       "current loss = 2.0571732196259\t\n",
       "current loss = 2.0569032961387\t\n"
      ]
     },
     "execution_count": 12,
     "metadata": {},
     "output_type": "execute_result"
    },
    {
     "data": {
      "text/plain": [
       "current loss = 2.0566335869341\t\n",
       "current loss = 2.0563640917675\t\n",
       "current loss = 2.0560948103951\t\n",
       "current loss = 2.0558257425731\t\n",
       "current loss = 2.0555568880582\t\n",
       "current loss = 2.0552882466074\t\n"
      ]
     },
     "execution_count": 12,
     "metadata": {},
     "output_type": "execute_result"
    },
    {
     "data": {
      "text/plain": [
       "current loss = 2.0550198179782\t\n",
       "current loss = 2.0547516019281\t\n",
       "current loss = 2.0544835982154\t\n",
       "current loss = 2.0542158065984\t\n",
       "current loss = 2.0539482268359\t\n",
       "current loss = 2.053680858687\t\n"
      ]
     },
     "execution_count": 12,
     "metadata": {},
     "output_type": "execute_result"
    },
    {
     "data": {
      "text/plain": [
       "current loss = 2.0534137019112\t\n",
       "current loss = 2.0531467562682\t\n",
       "current loss = 2.0528800215184\t\n",
       "current loss = 2.0526134974221\t\n",
       "current loss = 2.0523471837401\t\n"
      ]
     },
     "execution_count": 12,
     "metadata": {},
     "output_type": "execute_result"
    },
    {
     "data": {
      "text/plain": [
       "current loss = 2.0520810802338\t\n",
       "current loss = 2.0518151866647\t\n",
       "current loss = 2.0515495027945\t\n",
       "current loss = 2.0512840283855\t\n",
       "current loss = 2.0510187632004\t\n",
       "current loss = 2.0507537070019\t\n"
      ]
     },
     "execution_count": 12,
     "metadata": {},
     "output_type": "execute_result"
    },
    {
     "data": {
      "text/plain": [
       "current loss = 2.0504888595534\t\n",
       "current loss = 2.0502242206184\t\n",
       "current loss = 2.0499597899608\t\n",
       "current loss = 2.049695567345\t\n",
       "current loss = 2.0494315525354\t\n",
       "current loss = 2.0491677452971\t\n"
      ]
     },
     "execution_count": 12,
     "metadata": {},
     "output_type": "execute_result"
    },
    {
     "data": {
      "text/plain": [
       "current loss = 2.0489041453953\t\n",
       "current loss = 2.0486407525956\t\n",
       "current loss = 2.048377566664\t\n",
       "current loss = 2.0481145873668\t\n",
       "current loss = 2.0478518144705\t\n"
      ]
     },
     "execution_count": 12,
     "metadata": {},
     "output_type": "execute_result"
    },
    {
     "data": {
      "text/plain": [
       "current loss = 2.0475892477421\t\n",
       "current loss = 2.047326886949\t\n",
       "current loss = 2.0470647318586\t\n",
       "current loss = 2.0468027822391\t\n"
      ]
     },
     "execution_count": 12,
     "metadata": {},
     "output_type": "execute_result"
    },
    {
     "data": {
      "text/plain": [
       "current loss = 2.0465410378586\t\n"
      ]
     },
     "execution_count": 12,
     "metadata": {},
     "output_type": "execute_result"
    },
    {
     "data": {
      "text/plain": [
       "current loss = 2.0462794984857\t\n"
      ]
     },
     "execution_count": 12,
     "metadata": {},
     "output_type": "execute_result"
    },
    {
     "data": {
      "text/plain": [
       "current loss = 2.0460181638895\t\n"
      ]
     },
     "execution_count": 12,
     "metadata": {},
     "output_type": "execute_result"
    },
    {
     "data": {
      "text/plain": [
       "current loss = 2.0457570338391\t\n"
      ]
     },
     "execution_count": 12,
     "metadata": {},
     "output_type": "execute_result"
    },
    {
     "data": {
      "text/plain": [
       "current loss = 2.0454961081042\t\n"
      ]
     },
     "execution_count": 12,
     "metadata": {},
     "output_type": "execute_result"
    },
    {
     "data": {
      "text/plain": [
       "current loss = 2.0452353864548\t\n",
       "current loss = 2.044974868661\t\n"
      ]
     },
     "execution_count": 12,
     "metadata": {},
     "output_type": "execute_result"
    },
    {
     "data": {
      "text/plain": [
       "current loss = 2.0447145544935\t\n"
      ]
     },
     "execution_count": 12,
     "metadata": {},
     "output_type": "execute_result"
    },
    {
     "data": {
      "text/plain": [
       "current loss = 2.0444544437231\t\n"
      ]
     },
     "execution_count": 12,
     "metadata": {},
     "output_type": "execute_result"
    },
    {
     "data": {
      "text/plain": [
       "current loss = 2.0441945361212\t\n"
      ]
     },
     "execution_count": 12,
     "metadata": {},
     "output_type": "execute_result"
    },
    {
     "data": {
      "text/plain": [
       "current loss = 2.0439348314593\t\n"
      ]
     },
     "execution_count": 12,
     "metadata": {},
     "output_type": "execute_result"
    },
    {
     "data": {
      "text/plain": [
       "current loss = 2.0436753295093\t\n",
       "current loss = 2.0434160300433\t\n",
       "current loss = 2.043156932834\t\n",
       "current loss = 2.0428980376543\t\n"
      ]
     },
     "execution_count": 12,
     "metadata": {},
     "output_type": "execute_result"
    },
    {
     "data": {
      "text/plain": [
       "current loss = 2.0426393442772\t\n"
      ]
     },
     "execution_count": 12,
     "metadata": {},
     "output_type": "execute_result"
    },
    {
     "data": {
      "text/plain": [
       "current loss = 2.0423808524764\t\n"
      ]
     },
     "execution_count": 12,
     "metadata": {},
     "output_type": "execute_result"
    },
    {
     "data": {
      "text/plain": [
       "current loss = 2.0421225620256\t\n",
       "current loss = 2.0418644726991\t\n",
       "current loss = 2.0416065842712\t\n",
       "current loss = 2.0413488965168\t\n"
      ]
     },
     "execution_count": 12,
     "metadata": {},
     "output_type": "execute_result"
    },
    {
     "data": {
      "text/plain": [
       "current loss = 2.0410914092111\t\n",
       "current loss = 2.0408341221294\t\n",
       "current loss = 2.0405770350476\t\n",
       "current loss = 2.0403201477416\t\n",
       "current loss = 2.0400634599879\t\n",
       "current loss = 2.0398069715633\t\n",
       "current loss = 2.0395506822446\t\n",
       "current loss = 2.0392945918094\t\n"
      ]
     },
     "execution_count": 12,
     "metadata": {},
     "output_type": "execute_result"
    },
    {
     "data": {
      "text/plain": [
       "current loss = 2.0390387000352\t\n",
       "current loss = 2.0387830067\t\n",
       "current loss = 2.0385275115822\t\n",
       "current loss = 2.0382722144603\t\n",
       "current loss = 2.0380171151132\t\n",
       "current loss = 2.0377622133202\t\n",
       "current loss = 2.0375075088608\t\n",
       "current loss = 2.0372530015149\t\n"
      ]
     },
     "execution_count": 12,
     "metadata": {},
     "output_type": "execute_result"
    },
    {
     "data": {
      "text/plain": [
       "current loss = 2.0369986910627\t\n",
       "current loss = 2.0367445772845\t\n",
       "current loss = 2.0364906599614\t\n",
       "current loss = 2.0362369388742\t\n",
       "current loss = 2.0359834138045\t\n",
       "current loss = 2.035730084534\t\n",
       "current loss = 2.0354769508447\t\n",
       "current loss = 2.0352240125188\t\n"
      ]
     },
     "execution_count": 12,
     "metadata": {},
     "output_type": "execute_result"
    },
    {
     "data": {
      "text/plain": [
       "current loss = 2.0349712693392\t\n",
       "current loss = 2.0347187210887\t\n",
       "current loss = 2.0344663675506\t\n",
       "current loss = 2.0342142085084\t\n",
       "current loss = 2.033962243746\t\n",
       "current loss = 2.0337104730476\t\n",
       "current loss = 2.0334588961976\t\n",
       "current loss = 2.033207512981\t\n"
      ]
     },
     "execution_count": 12,
     "metadata": {},
     "output_type": "execute_result"
    },
    {
     "data": {
      "text/plain": [
       "current loss = 2.0329563231826\t\n",
       "current loss = 2.032705326588\t\n",
       "current loss = 2.0324545229828\t\n",
       "current loss = 2.032203912153\t\n",
       "current loss = 2.0319534938848\t\n",
       "current loss = 2.031703267965\t\n"
      ]
     },
     "execution_count": 12,
     "metadata": {},
     "output_type": "execute_result"
    },
    {
     "data": {
      "text/plain": [
       "current loss = 2.0314532341803\t\n",
       "current loss = 2.0312033923181\t\n",
       "current loss = 2.0309537421656\t\n",
       "current loss = 2.0307042835109\t\n",
       "current loss = 2.0304550161419\t\n",
       "current loss = 2.0302059398471\t\n"
      ]
     },
     "execution_count": 12,
     "metadata": {},
     "output_type": "execute_result"
    },
    {
     "data": {
      "text/plain": [
       "current loss = 2.029957054415\t\n",
       "current loss = 2.0297083596348\t\n",
       "current loss = 2.0294598552957\t\n",
       "current loss = 2.0292115411872\t\n",
       "current loss = 2.0289634170992\t\n",
       "current loss = 2.028715482822\t\n",
       "current loss = 2.0284677381458\t\n",
       "current loss = 2.0282201828616\t\n"
      ]
     },
     "execution_count": 12,
     "metadata": {},
     "output_type": "execute_result"
    },
    {
     "data": {
      "text/plain": [
       "current loss = 2.0279728167604\t\n",
       "current loss = 2.0277256396334\t\n",
       "current loss = 2.0274786512723\t\n",
       "current loss = 2.0272318514691\t\n",
       "current loss = 2.0269852400159\t\n",
       "current loss = 2.0267388167053\t\n",
       "current loss = 2.02649258133\t\n",
       "current loss = 2.0262465336831\t\n"
      ]
     },
     "execution_count": 12,
     "metadata": {},
     "output_type": "execute_result"
    },
    {
     "data": {
      "text/plain": [
       "current loss = 2.026000673558\t\n",
       "current loss = 2.0257550007485\t\n",
       "current loss = 2.0255095150483\t\n",
       "current loss = 2.0252642162518\t\n",
       "current loss = 2.0250191041534\t\n",
       "current loss = 2.0247741785481\t\n",
       "current loss = 2.0245294392309\t\n",
       "current loss = 2.0242848859971\t\n"
      ]
     },
     "execution_count": 12,
     "metadata": {},
     "output_type": "execute_result"
    },
    {
     "data": {
      "text/plain": [
       "current loss = 2.0240405186425\t\n",
       "current loss = 2.023796336963\t\n",
       "current loss = 2.0235523407548\t\n",
       "current loss = 2.0233085298145\t\n",
       "current loss = 2.0230649039389\t\n",
       "current loss = 2.0228214629251\t\n",
       "current loss = 2.0225782065705\t\n",
       "current loss = 2.0223351346726\t\n"
      ]
     },
     "execution_count": 12,
     "metadata": {},
     "output_type": "execute_result"
    },
    {
     "data": {
      "text/plain": [
       "current loss = 2.0220922470295\t\n",
       "current loss = 2.0218495434393\t\n",
       "current loss = 2.0216070237006\t\n",
       "current loss = 2.0213646876121\t\n",
       "current loss = 2.021122534973\t\n",
       "current loss = 2.0208805655825\t\n",
       "current loss = 2.0206387792402\t\n"
      ]
     },
     "execution_count": 12,
     "metadata": {},
     "output_type": "execute_result"
    },
    {
     "data": {
      "text/plain": [
       "current loss = 2.0203971757461\t\n",
       "current loss = 2.0201557549004\t\n",
       "current loss = 2.0199145165034\t\n",
       "current loss = 2.0196734603559\t\n",
       "current loss = 2.019432586259\t\n",
       "current loss = 2.0191918940139\t\n"
      ]
     },
     "execution_count": 12,
     "metadata": {},
     "output_type": "execute_result"
    },
    {
     "data": {
      "text/plain": [
       "current loss = 2.0189513834221\t\n",
       "current loss = 2.0187110542856\t\n",
       "current loss = 2.0184709064063\t\n",
       "current loss = 2.0182309395868\t\n",
       "current loss = 2.0179911536295\t\n",
       "current loss = 2.0177515483376\t\n",
       "current loss = 2.0175121235141\t\n",
       "current loss = 2.0172728789627\t\n",
       "current loss = 2.0170338144868\t\n"
      ]
     },
     "execution_count": 12,
     "metadata": {},
     "output_type": "execute_result"
    },
    {
     "data": {
      "text/plain": [
       "current loss = 2.0167949298908\t\n",
       "current loss = 2.0165562249787\t\n",
       "current loss = 2.0163176995552\t\n",
       "current loss = 2.0160793534251\t\n",
       "current loss = 2.0158411863936\t\n",
       "current loss = 2.0156031982659\t\n",
       "current loss = 2.0153653888477\t\n",
       "current loss = 2.0151277579449\t\n"
      ]
     },
     "execution_count": 12,
     "metadata": {},
     "output_type": "execute_result"
    },
    {
     "data": {
      "text/plain": [
       "current loss = 2.0148903053638\t\n",
       "current loss = 2.0146530309107\t\n",
       "current loss = 2.0144159343923\t\n",
       "current loss = 2.0141790156157\t\n",
       "current loss = 2.013942274388\t\n",
       "current loss = 2.0137057105169\t\n",
       "current loss = 2.01346932381\t\n",
       "current loss = 2.0132331140754\t\n"
      ]
     },
     "execution_count": 12,
     "metadata": {},
     "output_type": "execute_result"
    },
    {
     "data": {
      "text/plain": [
       "current loss = 2.0129970811214\t\n",
       "current loss = 2.0127612247566\t\n",
       "current loss = 2.0125255447898\t\n",
       "current loss = 2.0122900410301\t\n",
       "current loss = 2.0120547132869\t\n",
       "current loss = 2.0118195613698\t\n",
       "current loss = 2.0115845850886\t\n"
      ]
     },
     "execution_count": 12,
     "metadata": {},
     "output_type": "execute_result"
    },
    {
     "data": {
      "text/plain": [
       "current loss = 2.0113497842535\t\n",
       "current loss = 2.011115158675\t\n",
       "current loss = 2.0108807081636\t\n",
       "current loss = 2.0106464325303\t\n",
       "current loss = 2.0104123315864\t\n",
       "current loss = 2.0101784051431\t\n",
       "current loss = 2.0099446530123\t\n"
      ]
     },
     "execution_count": 12,
     "metadata": {},
     "output_type": "execute_result"
    },
    {
     "data": {
      "text/plain": [
       "current loss = 2.009711075006\t\n"
      ]
     },
     "execution_count": 12,
     "metadata": {},
     "output_type": "execute_result"
    },
    {
     "data": {
      "text/plain": [
       "current loss = 2.0094776709362\t\n",
       "current loss = 2.0092444406156\t\n",
       "current loss = 2.0090113838568\t\n",
       "current loss = 2.0087785004728\t\n",
       "current loss = 2.0085457902769\t\n",
       "current loss = 2.0083132530826\t\n",
       "current loss = 2.0080808887036\t\n"
      ]
     },
     "execution_count": 12,
     "metadata": {},
     "output_type": "execute_result"
    },
    {
     "data": {
      "text/plain": [
       "current loss = 2.007848696954\t\n",
       "current loss = 2.0076166776481\t\n",
       "current loss = 2.0073848306003\t\n",
       "current loss = 2.0071531556254\t\n",
       "current loss = 2.0069216525385\t\n",
       "current loss = 2.0066903211549\t\n",
       "current loss = 2.00645916129\t\n",
       "current loss = 2.0062281727597\t\n"
      ]
     },
     "execution_count": 12,
     "metadata": {},
     "output_type": "execute_result"
    },
    {
     "data": {
      "text/plain": [
       "current loss = 2.0059973553801\t\n",
       "current loss = 2.0057667089673\t\n",
       "current loss = 2.005536233338\t\n",
       "current loss = 2.005305928309\t\n",
       "current loss = 2.0050757936973\t\n",
       "current loss = 2.0048458293201\t\n",
       "current loss = 2.0046160349951\t\n",
       "current loss = 2.00438641054\t\n"
      ]
     },
     "execution_count": 12,
     "metadata": {},
     "output_type": "execute_result"
    },
    {
     "data": {
      "text/plain": [
       "current loss = 2.0041569557729\t\n",
       "current loss = 2.0039276705121\t\n",
       "current loss = 2.003698554576\t\n",
       "current loss = 2.0034696077835\t\n",
       "current loss = 2.0032408299537\t\n",
       "current loss = 2.0030122209057\t\n",
       "current loss = 2.0027837804591\t\n",
       "current loss = 2.0025555084337\t\n"
      ]
     },
     "execution_count": 12,
     "metadata": {},
     "output_type": "execute_result"
    },
    {
     "data": {
      "text/plain": [
       "current loss = 2.0023274046495\t\n",
       "current loss = 2.0020994689268\t\n",
       "current loss = 2.001871701086\t\n",
       "current loss = 2.0016441009479\t\n",
       "current loss = 2.0014166683335\t\n",
       "current loss = 2.0011894030641\t\n",
       "current loss = 2.0009623049611\t\n",
       "current loss = 2.0007353738462\t\n",
       "current loss = 2.0005086095414\t\n"
      ]
     },
     "execution_count": 12,
     "metadata": {},
     "output_type": "execute_result"
    },
    {
     "data": {
      "text/plain": [
       "current loss = 2.0002820118689\t\n",
       "current loss = 2.0000555806512\t\n",
       "current loss = 1.9998293157109\t\n",
       "current loss = 1.9996032168709\t\n",
       "current loss = 1.9993772839545\t\n",
       "current loss = 1.999151516785\t\n",
       "current loss = 1.9989259151862\t\n"
      ]
     },
     "execution_count": 12,
     "metadata": {},
     "output_type": "execute_result"
    },
    {
     "data": {
      "text/plain": [
       "current loss = 1.9987004789817\t\n",
       "current loss = 1.9984752079959\t\n",
       "current loss = 1.998250102053\t\n",
       "current loss = 1.9980251609777\t\n",
       "current loss = 1.9978003845948\t\n"
      ]
     },
     "execution_count": 12,
     "metadata": {},
     "output_type": "execute_result"
    },
    {
     "data": {
      "text/plain": [
       "current loss = 1.9975757727294\t\n",
       "current loss = 1.9973513252067\t\n",
       "current loss = 1.9971270418524\t\n",
       "current loss = 1.9969029224922\t\n",
       "current loss = 1.9966789669521\t\n",
       "current loss = 1.9964551750584\t\n",
       "current loss = 1.9962315466376\t\n",
       "current loss = 1.9960080815163\t\n",
       "current loss = 1.9957847795217\t\n"
      ]
     },
     "execution_count": 12,
     "metadata": {},
     "output_type": "execute_result"
    },
    {
     "data": {
      "text/plain": [
       "current loss = 1.9955616404808\t\n",
       "current loss = 1.995338664221\t\n",
       "current loss = 1.9951158505701\t\n",
       "current loss = 1.994893199356\t\n",
       "current loss = 1.9946707104066\t\n",
       "current loss = 1.9944483835505\t\n",
       "current loss = 1.9942262186161\t\n",
       "current loss = 1.9940042154324\t\n"
      ]
     },
     "execution_count": 12,
     "metadata": {},
     "output_type": "execute_result"
    },
    {
     "data": {
      "text/plain": [
       "current loss = 1.9937823738283\t\n",
       "current loss = 1.9935606936331\t\n",
       "current loss = 1.9933391746764\t\n",
       "current loss = 1.9931178167878\t\n",
       "current loss = 1.9928966197973\t\n",
       "current loss = 1.9926755835352\t\n",
       "current loss = 1.9924547078318\t\n",
       "current loss = 1.9922339925178\t\n"
      ]
     },
     "execution_count": 12,
     "metadata": {},
     "output_type": "execute_result"
    },
    {
     "data": {
      "text/plain": [
       "current loss = 1.9920134374242\t\n",
       "current loss = 1.9917930423819\t\n",
       "current loss = 1.9915728072223\t\n",
       "current loss = 1.991352731777\t\n",
       "current loss = 1.9911328158777\t\n",
       "current loss = 1.9909130593565\t\n",
       "current loss = 1.9906934620457\t\n",
       "current loss = 1.9904740237776\t\n"
      ]
     },
     "execution_count": 12,
     "metadata": {},
     "output_type": "execute_result"
    },
    {
     "data": {
      "text/plain": [
       "current loss = 1.990254744385\t\n",
       "current loss = 1.9900356237007\t\n",
       "current loss = 1.989816661558\t\n",
       "current loss = 1.9895978577901\t\n",
       "current loss = 1.9893792122307\t\n",
       "current loss = 1.9891607247135\t\n",
       "current loss = 1.9889423950726\t\n"
      ]
     },
     "execution_count": 12,
     "metadata": {},
     "output_type": "execute_result"
    },
    {
     "data": {
      "text/plain": [
       "current loss = 1.9887242231423\t\n",
       "current loss = 1.9885062087569\t\n",
       "current loss = 1.9882883517513\t\n",
       "current loss = 1.9880706519603\t\n",
       "current loss = 1.987853109219\t\n",
       "current loss = 1.9876357233628\t\n",
       "current loss = 1.9874184942273\t\n",
       "current loss = 1.9872014216482\t\n"
      ]
     },
     "execution_count": 12,
     "metadata": {},
     "output_type": "execute_result"
    },
    {
     "data": {
      "text/plain": [
       "current loss = 1.9869845054617\t\n",
       "current loss = 1.9867677455039\t\n",
       "current loss = 1.9865511416112\t\n",
       "current loss = 1.9863346936204\t\n",
       "current loss = 1.9861184013684\t\n",
       "current loss = 1.9859022646922\t\n",
       "current loss = 1.9856862834292\t\n",
       "current loss = 1.9854704574168\t\n"
      ]
     },
     "execution_count": 12,
     "metadata": {},
     "output_type": "execute_result"
    },
    {
     "data": {
      "text/plain": [
       "current loss = 1.985254786493\t\n",
       "current loss = 1.9850392704956\t\n",
       "current loss = 1.9848239092628\t\n",
       "current loss = 1.9846087026331\t\n",
       "current loss = 1.984393650445\t\n",
       "current loss = 1.9841787525374\t\n",
       "current loss = 1.9839640087494\t\n",
       "current loss = 1.9837494189201\t\n"
      ]
     },
     "execution_count": 12,
     "metadata": {},
     "output_type": "execute_result"
    },
    {
     "data": {
      "text/plain": [
       "current loss = 1.9835349828892\t\n",
       "current loss = 1.9833207004963\t\n",
       "current loss = 1.9831065715812\t\n",
       "current loss = 1.9828925959842\t\n",
       "current loss = 1.9826787735455\t\n",
       "current loss = 1.9824651041056\t\n",
       "current loss = 1.9822515875054\t\n",
       "current loss = 1.9820382235858\t\n"
      ]
     },
     "execution_count": 12,
     "metadata": {},
     "output_type": "execute_result"
    },
    {
     "data": {
      "text/plain": [
       "current loss = 1.981825012188\t\n",
       "current loss = 1.9816119531533\t\n",
       "current loss = 1.9813990463234\t\n",
       "current loss = 1.9811862915401\t\n",
       "current loss = 1.9809736886453\t\n",
       "current loss = 1.9807612374814\t\n",
       "current loss = 1.9805489378907\t\n",
       "current loss = 1.9803367897159\t\n",
       "current loss = 1.9801247927999\t\n"
      ]
     },
     "execution_count": 12,
     "metadata": {},
     "output_type": "execute_result"
    },
    {
     "data": {
      "text/plain": [
       "current loss = 1.9799129469857\t\n",
       "current loss = 1.9797012521166\t\n",
       "current loss = 1.9794897080361\t\n",
       "current loss = 1.9792783145878\t\n",
       "current loss = 1.9790670716156\t\n",
       "current loss = 1.9788559789637\t\n",
       "current loss = 1.9786450364764\t\n"
      ]
     },
     "execution_count": 12,
     "metadata": {},
     "output_type": "execute_result"
    },
    {
     "data": {
      "text/plain": [
       "current loss = 1.9784342439981\t\n",
       "current loss = 1.9782236013735\t\n",
       "current loss = 1.9780131084477\t\n",
       "current loss = 1.9778027650656\t\n",
       "current loss = 1.9775925710728\t\n",
       "current loss = 1.9773825263146\t\n"
      ]
     },
     "execution_count": 12,
     "metadata": {},
     "output_type": "execute_result"
    },
    {
     "data": {
      "text/plain": [
       "current loss = 1.9771726306368\t\n",
       "current loss = 1.9769628838854\t\n",
       "current loss = 1.9767532859065\t\n",
       "current loss = 1.9765438365465\t\n",
       "current loss = 1.9763345356518\t\n",
       "current loss = 1.9761253830694\t\n",
       "current loss = 1.975916378646\t\n",
       "current loss = 1.975707522229\t\n"
      ]
     },
     "execution_count": 12,
     "metadata": {},
     "output_type": "execute_result"
    },
    {
     "data": {
      "text/plain": [
       "current loss = 1.9754988136655\t\n",
       "current loss = 1.9752902528033\t\n",
       "current loss = 1.97508183949\t\n",
       "current loss = 1.9748735735736\t\n",
       "current loss = 1.9746654549023\t\n",
       "current loss = 1.9744574833245\t\n",
       "current loss = 1.9742496586886\t\n",
       "current loss = 1.9740419808435\t\n"
      ]
     },
     "execution_count": 12,
     "metadata": {},
     "output_type": "execute_result"
    },
    {
     "data": {
      "text/plain": [
       "current loss = 1.9738344496381\t\n",
       "current loss = 1.9736270649215\t\n",
       "current loss = 1.9734198265432\t\n",
       "current loss = 1.9732127343526\t\n",
       "current loss = 1.9730057881996\t\n",
       "current loss = 1.9727989879341\t\n",
       "current loss = 1.9725923334061\t\n",
       "current loss = 1.9723858244661\t\n"
      ]
     },
     "execution_count": 12,
     "metadata": {},
     "output_type": "execute_result"
    },
    {
     "data": {
      "text/plain": [
       "current loss = 1.9721794609646\t\n",
       "current loss = 1.9719732427524\t\n",
       "current loss = 1.9717671696802\t\n",
       "current loss = 1.9715612415994\t\n",
       "current loss = 1.9713554583611\t\n",
       "current loss = 1.971149819817\t\n",
       "current loss = 1.9709443258187\t\n"
      ]
     },
     "execution_count": 12,
     "metadata": {},
     "output_type": "execute_result"
    },
    {
     "data": {
      "text/plain": [
       "current loss = 1.9707389762181\t\n",
       "current loss = 1.9705337708673\t\n",
       "current loss = 1.9703287096186\t\n",
       "current loss = 1.9701237923245\t\n",
       "current loss = 1.9699190188377\t\n",
       "current loss = 1.969714389011\t\n",
       "current loss = 1.9695099026975\t\n"
      ]
     },
     "execution_count": 12,
     "metadata": {},
     "output_type": "execute_result"
    },
    {
     "data": {
      "text/plain": [
       "current loss = 1.9693055597504\t\n",
       "current loss = 1.9691013600233\t\n",
       "current loss = 1.9688973033696\t\n",
       "current loss = 1.9686933896434\t\n",
       "current loss = 1.9684896186984\t\n",
       "current loss = 1.9682859903891\t\n",
       "current loss = 1.9680825045698\t\n"
      ]
     },
     "execution_count": 12,
     "metadata": {},
     "output_type": "execute_result"
    },
    {
     "data": {
      "text/plain": [
       "current loss = 1.967879161095\t\n",
       "current loss = 1.9676759598196\t\n",
       "current loss = 1.9674729005985\t\n",
       "current loss = 1.9672699832869\t\n",
       "current loss = 1.9670672077401\t\n",
       "current loss = 1.9668645738137\t\n",
       "current loss = 1.9666620813633\t\n",
       "current loss = 1.966459730245\t\n"
      ]
     },
     "execution_count": 12,
     "metadata": {},
     "output_type": "execute_result"
    },
    {
     "data": {
      "text/plain": [
       "current loss = 1.9662575203146\t\n",
       "current loss = 1.9660554514287\t\n",
       "current loss = 1.9658535234437\t\n",
       "current loss = 1.9656517362161\t\n",
       "current loss = 1.9654500896029\t\n",
       "current loss = 1.965248583461\t\n",
       "current loss = 1.9650472176478\t\n",
       "current loss = 1.9648459920206\t\n"
      ]
     },
     "execution_count": 12,
     "metadata": {},
     "output_type": "execute_result"
    },
    {
     "data": {
      "text/plain": [
       "current loss = 1.9646449064369\t\n",
       "current loss = 1.9644439607546\t\n",
       "current loss = 1.9642431548316\t\n",
       "current loss = 1.9640424885261\t\n",
       "current loss = 1.9638419616964\t\n",
       "current loss = 1.9636415742009\t\n",
       "current loss = 1.9634413258985\t\n"
      ]
     },
     "execution_count": 12,
     "metadata": {},
     "output_type": "execute_result"
    },
    {
     "data": {
      "text/plain": [
       "current loss = 1.9632412166479\t\n",
       "current loss = 1.9630412463083\t\n",
       "current loss = 1.9628414147388\t\n",
       "current loss = 1.9626417217989\t\n",
       "current loss = 1.9624421673482\t\n",
       "current loss = 1.9622427512466\t\n",
       "current loss = 1.9620434733538\t\n",
       "current loss = 1.9618443335302\t\n"
      ]
     },
     "execution_count": 12,
     "metadata": {},
     "output_type": "execute_result"
    },
    {
     "data": {
      "text/plain": [
       "current loss = 1.961645331636\t\n",
       "current loss = 1.9614464675318\t\n",
       "current loss = 1.9612477410782\t\n",
       "current loss = 1.9610491521362\t\n",
       "current loss = 1.9608507005668\t\n",
       "current loss = 1.9606523862311\t\n",
       "current loss = 1.9604542089907\t\n"
      ]
     },
     "execution_count": 12,
     "metadata": {},
     "output_type": "execute_result"
    },
    {
     "data": {
      "text/plain": [
       "current loss = 1.9602561687071\t\n",
       "current loss = 1.9600582652421\t\n",
       "current loss = 1.9598604984576\t\n",
       "current loss = 1.9596628682158\t\n",
       "current loss = 1.9594653743789\t\n",
       "current loss = 1.9592680168095\t\n",
       "current loss = 1.9590707953702\t\n",
       "current loss = 1.9588737099239\t\n"
      ]
     },
     "execution_count": 12,
     "metadata": {},
     "output_type": "execute_result"
    },
    {
     "data": {
      "text/plain": [
       "current loss = 1.9586767603335\t\n",
       "current loss = 1.9584799464622\t\n",
       "current loss = 1.9582832681735\t\n",
       "current loss = 1.9580867253309\t\n",
       "current loss = 1.957890317798\t\n"
      ]
     },
     "execution_count": 12,
     "metadata": {},
     "output_type": "execute_result"
    },
    {
     "data": {
      "text/plain": [
       "current loss = 1.9576940454388\t\n",
       "current loss = 1.9574979081173\t\n",
       "current loss = 1.9573019056978\t\n",
       "current loss = 1.9571060380447\t\n",
       "current loss = 1.9569103050226\t\n",
       "current loss = 1.9567147064963\t\n",
       "current loss = 1.9565192423307\t\n"
      ]
     },
     "execution_count": 12,
     "metadata": {},
     "output_type": "execute_result"
    },
    {
     "data": {
      "text/plain": [
       "current loss = 1.9563239123909\t\n",
       "current loss = 1.9561287165422\t\n",
       "current loss = 1.95593365465\t\n",
       "current loss = 1.9557387265801\t\n",
       "current loss = 1.9555439321982\t\n",
       "current loss = 1.9553492713702\t\n",
       "current loss = 1.9551547439624\t\n",
       "current loss = 1.954960349841\t\n"
      ]
     },
     "execution_count": 12,
     "metadata": {},
     "output_type": "execute_result"
    },
    {
     "data": {
      "text/plain": [
       "current loss = 1.9547660888726\t\n",
       "current loss = 1.9545719609238\t\n",
       "current loss = 1.9543779658614\t\n",
       "current loss = 1.9541841035525\t\n",
       "current loss = 1.9539903738643\t\n",
       "current loss = 1.953796776664\t\n"
      ]
     },
     "execution_count": 12,
     "metadata": {},
     "output_type": "execute_result"
    },
    {
     "data": {
      "text/plain": [
       "current loss = 1.9536033118191\t\n",
       "current loss = 1.9534099791975\t\n",
       "current loss = 1.9532167786669\t\n",
       "current loss = 1.9530237100954\t\n",
       "current loss = 1.9528307733511\t\n",
       "current loss = 1.9526379683024\t\n",
       "current loss = 1.9524452948179\t\n"
      ]
     },
     "execution_count": 12,
     "metadata": {},
     "output_type": "execute_result"
    },
    {
     "data": {
      "text/plain": [
       "current loss = 1.9522527527662\t\n",
       "current loss = 1.9520603420162\t\n",
       "current loss = 1.9518680624369\t\n",
       "current loss = 1.9516759138976\t\n",
       "current loss = 1.9514838962676\t\n",
       "current loss = 1.9512920094164\t\n",
       "current loss = 1.9511002532138\t\n"
      ]
     },
     "execution_count": 12,
     "metadata": {},
     "output_type": "execute_result"
    },
    {
     "data": {
      "text/plain": [
       "current loss = 1.9509086275295\t\n",
       "current loss = 1.9507171322337\t\n",
       "current loss = 1.9505257671966\t\n",
       "current loss = 1.9503345322885\t\n",
       "current loss = 1.9501434273798\t\n",
       "current loss = 1.9499524523415\t\n",
       "current loss = 1.9497616070442\t\n"
      ]
     },
     "execution_count": 12,
     "metadata": {},
     "output_type": "execute_result"
    },
    {
     "data": {
      "text/plain": [
       "current loss = 1.949570891359\t\n",
       "current loss = 1.9493803051571\t\n",
       "current loss = 1.9491898483098\t\n",
       "current loss = 1.9489995206888\t\n",
       "current loss = 1.9488093221656\t\n",
       "current loss = 1.948619252612\t\n",
       "current loss = 1.9484293119002\t\n"
      ]
     },
     "execution_count": 12,
     "metadata": {},
     "output_type": "execute_result"
    },
    {
     "data": {
      "text/plain": [
       "current loss = 1.9482394999022\t\n"
      ]
     },
     "execution_count": 12,
     "metadata": {},
     "output_type": "execute_result"
    },
    {
     "data": {
      "text/plain": [
       "current loss = 1.9480498164904\t\n",
       "current loss = 1.9478602615372\t\n",
       "current loss = 1.9476708349154\t\n",
       "current loss = 1.9474815364978\t\n",
       "current loss = 1.9472923661573\t\n",
       "current loss = 1.947103323767\t\n"
      ]
     },
     "execution_count": 12,
     "metadata": {},
     "output_type": "execute_result"
    },
    {
     "data": {
      "text/plain": [
       "current loss = 1.9469144092004\t\n",
       "current loss = 1.9467256223307\t\n",
       "current loss = 1.9465369630317\t\n",
       "current loss = 1.9463484311772\t\n",
       "current loss = 1.946160026641\t\n",
       "current loss = 1.9459717492972\t\n",
       "current loss = 1.9457835990203\t\n"
      ]
     },
     "execution_count": 12,
     "metadata": {},
     "output_type": "execute_result"
    },
    {
     "data": {
      "text/plain": [
       "current loss = 1.9455955756844\t\n",
       "current loss = 1.9454076791643\t\n",
       "current loss = 1.9452199093347\t\n",
       "current loss = 1.9450322660704\t\n",
       "current loss = 1.9448447492466\t\n",
       "current loss = 1.9446573587383\t\n",
       "current loss = 1.9444700944211\t\n"
      ]
     },
     "execution_count": 12,
     "metadata": {},
     "output_type": "execute_result"
    },
    {
     "data": {
      "text/plain": [
       "current loss = 1.9442829561705\t\n",
       "current loss = 1.944095943862\t\n",
       "current loss = 1.9439090573716\t\n",
       "current loss = 1.9437222965752\t\n",
       "current loss = 1.9435356613491\t\n",
       "current loss = 1.9433491515695\t\n"
      ]
     },
     "execution_count": 12,
     "metadata": {},
     "output_type": "execute_result"
    },
    {
     "data": {
      "text/plain": [
       "current loss = 1.9431627671129\t\n",
       "current loss = 1.9429765078559\t\n",
       "current loss = 1.9427903736753\t\n",
       "current loss = 1.9426043644481\t\n",
       "current loss = 1.9424184800512\t\n",
       "current loss = 1.9422327203621\t\n"
      ]
     },
     "execution_count": 12,
     "metadata": {},
     "output_type": "execute_result"
    },
    {
     "data": {
      "text/plain": [
       "current loss = 1.942047085258\t\n",
       "current loss = 1.9418615746165\t\n",
       "current loss = 1.9416761883154\t\n",
       "current loss = 1.9414909262325\t\n",
       "current loss = 1.9413057882458\t\n",
       "current loss = 1.9411207742335\t\n",
       "current loss = 1.9409358840739\t\n"
      ]
     },
     "execution_count": 12,
     "metadata": {},
     "output_type": "execute_result"
    },
    {
     "data": {
      "text/plain": [
       "current loss = 1.9407511176454\t\n",
       "current loss = 1.9405664748269\t\n",
       "current loss = 1.9403819554968\t\n",
       "current loss = 1.9401975595344\t\n",
       "current loss = 1.9400132868185\t\n",
       "current loss = 1.9398291372285\t\n"
      ]
     },
     "execution_count": 12,
     "metadata": {},
     "output_type": "execute_result"
    },
    {
     "data": {
      "text/plain": [
       "current loss = 1.9396451106438\t\n",
       "current loss = 1.9394612069439\t\n",
       "current loss = 1.9392774260084\t\n",
       "current loss = 1.9390937677173\t\n",
       "current loss = 1.9389102319505\t\n",
       "current loss = 1.9387268185882\t\n"
      ]
     },
     "execution_count": 12,
     "metadata": {},
     "output_type": "execute_result"
    },
    {
     "data": {
      "text/plain": [
       "current loss = 1.9385435275107\t\n",
       "current loss = 1.9383603585984\t\n",
       "current loss = 1.9381773117319\t\n",
       "current loss = 1.9379943867919\t\n",
       "current loss = 1.9378115836595\t\n",
       "current loss = 1.9376289022155\t\n"
      ]
     },
     "execution_count": 12,
     "metadata": {},
     "output_type": "execute_result"
    },
    {
     "data": {
      "text/plain": [
       "current loss = 1.9374463423412\t\n",
       "current loss = 1.9372639039179\t\n",
       "current loss = 1.9370815868272\t\n",
       "current loss = 1.9368993909506\t\n",
       "current loss = 1.93671731617\t\n"
      ]
     },
     "execution_count": 12,
     "metadata": {},
     "output_type": "execute_result"
    },
    {
     "data": {
      "text/plain": [
       "current loss = 1.9365353623673\t\n",
       "current loss = 1.9363535294246\t\n",
       "current loss = 1.936171817224\t\n"
      ]
     },
     "execution_count": 12,
     "metadata": {},
     "output_type": "execute_result"
    },
    {
     "data": {
      "text/plain": [
       "current loss = 1.9359902256481\t\n",
       "current loss = 1.9358087545792\t\n",
       "current loss = 1.9356274039001\t\n",
       "current loss = 1.9354461734937\t\n",
       "current loss = 1.9352650632427\t\n",
       "current loss = 1.9350840730305\t\n"
      ]
     },
     "execution_count": 12,
     "metadata": {},
     "output_type": "execute_result"
    },
    {
     "data": {
      "text/plain": [
       "current loss = 1.9349032027402\t\n",
       "current loss = 1.9347224522552\t\n",
       "current loss = 1.9345418214591\t\n",
       "current loss = 1.9343613102355\t\n",
       "current loss = 1.9341809184684\t\n",
       "current loss = 1.9340006460416\t\n"
      ]
     },
     "execution_count": 12,
     "metadata": {},
     "output_type": "execute_result"
    },
    {
     "data": {
      "text/plain": [
       "current loss = 1.9338204928394\t\n",
       "current loss = 1.933640458746\t\n",
       "current loss = 1.9334605436457\t\n",
       "current loss = 1.9332807474232\t\n",
       "current loss = 1.9331010699632\t\n",
       "current loss = 1.9329215111505\t\n",
       "current loss = 1.9327420708701\t\n"
      ]
     },
     "execution_count": 12,
     "metadata": {},
     "output_type": "execute_result"
    },
    {
     "data": {
      "text/plain": [
       "current loss = 1.9325627490072\t\n",
       "current loss = 1.9323835454469\t\n",
       "current loss = 1.9322044600748\t\n",
       "current loss = 1.9320254927764\t\n",
       "current loss = 1.9318466434374\t\n",
       "current loss = 1.9316679119436\t\n"
      ]
     },
     "execution_count": 12,
     "metadata": {},
     "output_type": "execute_result"
    },
    {
     "data": {
      "text/plain": [
       "current loss = 1.931489298181\t\n",
       "current loss = 1.9313108020358\t\n",
       "current loss = 1.9311324233942\t\n",
       "current loss = 1.9309541621427\t\n",
       "current loss = 1.9307760181678\t\n",
       "current loss = 1.9305979913561\t\n"
      ]
     },
     "execution_count": 12,
     "metadata": {},
     "output_type": "execute_result"
    },
    {
     "data": {
      "text/plain": [
       "current loss = 1.9304200815946\t\n",
       "current loss = 1.9302422887701\t\n",
       "current loss = 1.9300646127699\t\n",
       "current loss = 1.9298870534811\t\n",
       "current loss = 1.9297096107911\t\n",
       "current loss = 1.9295322845876\t\n"
      ]
     },
     "execution_count": 12,
     "metadata": {},
     "output_type": "execute_result"
    },
    {
     "data": {
      "text/plain": [
       "current loss = 1.9293550747581\t\n",
       "current loss = 1.9291779811905\t\n",
       "current loss = 1.9290010037727\t\n",
       "current loss = 1.9288241423927\t\n",
       "current loss = 1.928647396939\t\n",
       "current loss = 1.9284707672997\t\n"
      ]
     },
     "execution_count": 12,
     "metadata": {},
     "output_type": "execute_result"
    },
    {
     "data": {
      "text/plain": [
       "current loss = 1.9282942533634\t\n",
       "current loss = 1.9281178550188\t\n",
       "current loss = 1.9279415721546\t\n",
       "current loss = 1.9277654046598\t\n",
       "current loss = 1.9275893524233\t\n",
       "current loss = 1.9274134153344\t\n",
       "current loss = 1.9272375932825\t\n"
      ]
     },
     "execution_count": 12,
     "metadata": {},
     "output_type": "execute_result"
    },
    {
     "data": {
      "text/plain": [
       "current loss = 1.9270618861569\t\n",
       "current loss = 1.9268862938473\t\n",
       "current loss = 1.9267108162434\t\n",
       "current loss = 1.9265354532351\t\n",
       "current loss = 1.9263602047124\t\n",
       "current loss = 1.9261850705654\t\n"
      ]
     },
     "execution_count": 12,
     "metadata": {},
     "output_type": "execute_result"
    },
    {
     "data": {
      "text/plain": [
       "current loss = 1.9260100506844\t\n",
       "current loss = 1.9258351449599\t\n",
       "current loss = 1.9256603532824\t\n",
       "current loss = 1.9254856755425\t\n",
       "current loss = 1.9253111116311\t\n",
       "current loss = 1.9251366614392\t\n"
      ]
     },
     "execution_count": 12,
     "metadata": {},
     "output_type": "execute_result"
    },
    {
     "data": {
      "text/plain": [
       "current loss = 1.9249623248578\t\n",
       "current loss = 1.9247881017781\t\n",
       "current loss = 1.9246139920915\t\n",
       "current loss = 1.9244399956896\t\n",
       "current loss = 1.9242661124638\t\n",
       "current loss = 1.924092342306\t\n"
      ]
     },
     "execution_count": 12,
     "metadata": {},
     "output_type": "execute_result"
    },
    {
     "data": {
      "text/plain": [
       "current loss = 1.9239186851081\t\n",
       "current loss = 1.9237451407621\t\n",
       "current loss = 1.9235717091601\t\n",
       "current loss = 1.9233983901944\t\n",
       "current loss = 1.9232251837574\t\n",
       "current loss = 1.9230520897418\t\n"
      ]
     },
     "execution_count": 12,
     "metadata": {},
     "output_type": "execute_result"
    },
    {
     "data": {
      "text/plain": [
       "current loss = 1.9228791080401\t\n",
       "current loss = 1.9227062385452\t\n",
       "current loss = 1.9225334811501\t\n",
       "current loss = 1.9223608357478\t\n",
       "current loss = 1.9221883022314\t\n",
       "current loss = 1.9220158804945\t\n"
      ]
     },
     "execution_count": 12,
     "metadata": {},
     "output_type": "execute_result"
    },
    {
     "data": {
      "text/plain": [
       "current loss = 1.9218435704304\t\n",
       "current loss = 1.9216713719327\t\n",
       "current loss = 1.9214992848951\t\n",
       "current loss = 1.9213273092116\t\n",
       "current loss = 1.9211554447761\t\n",
       "current loss = 1.9209836914827\t\n"
      ]
     },
     "execution_count": 12,
     "metadata": {},
     "output_type": "execute_result"
    },
    {
     "data": {
      "text/plain": [
       "current loss = 1.9208120492257\t\n",
       "current loss = 1.9206405178994\t\n",
       "current loss = 1.9204690973984\t\n",
       "current loss = 1.9202977876173\t\n",
       "current loss = 1.9201265884509\t\n",
       "current loss = 1.9199554997941\t\n"
      ]
     },
     "execution_count": 12,
     "metadata": {},
     "output_type": "execute_result"
    },
    {
     "data": {
      "text/plain": [
       "current loss = 1.9197845215418\t\n",
       "current loss = 1.9196136535892\t\n",
       "current loss = 1.9194428958317\t\n",
       "current loss = 1.9192722481646\t\n",
       "current loss = 1.9191017104835\t\n",
       "current loss = 1.9189312826839\t\n",
       "current loss = 1.9187609646618\t\n"
      ]
     },
     "execution_count": 12,
     "metadata": {},
     "output_type": "execute_result"
    },
    {
     "data": {
      "text/plain": [
       "current loss = 1.918590756313\t\n",
       "current loss = 1.9184206575335\t\n",
       "current loss = 1.9182506682196\t\n",
       "current loss = 1.9180807882675\t\n",
       "current loss = 1.9179110175737\t\n",
       "current loss = 1.9177413560347\t\n"
      ]
     },
     "execution_count": 12,
     "metadata": {},
     "output_type": "execute_result"
    },
    {
     "data": {
      "text/plain": [
       "current loss = 1.9175718035471\t\n",
       "current loss = 1.9174023600078\t\n",
       "current loss = 1.9172330253138\t\n",
       "current loss = 1.9170637993619\t\n",
       "current loss = 1.9168946820495\t\n",
       "current loss = 1.9167256732739\t\n"
      ]
     },
     "execution_count": 12,
     "metadata": {},
     "output_type": "execute_result"
    },
    {
     "data": {
      "text/plain": [
       "current loss = 1.9165567729323\t\n",
       "current loss = 1.9163879809225\t\n",
       "current loss = 1.9162192971421\t\n",
       "current loss = 1.9160507214889\t\n",
       "current loss = 1.9158822538607\t\n",
       "current loss = 1.9157138941557\t\n"
      ]
     },
     "execution_count": 12,
     "metadata": {},
     "output_type": "execute_result"
    },
    {
     "data": {
      "text/plain": [
       "current loss = 1.9155456422721\t\n",
       "current loss = 1.9153774981081\t\n",
       "current loss = 1.9152094615621\t\n",
       "current loss = 1.9150415325326\t\n",
       "current loss = 1.9148737109185\t\n",
       "current loss = 1.9147059966183\t\n",
       "current loss = 1.9145383895311\t\n"
      ]
     },
     "execution_count": 12,
     "metadata": {},
     "output_type": "execute_result"
    },
    {
     "data": {
      "text/plain": [
       "current loss = 1.9143708895559\t\n",
       "current loss = 1.9142034965918\t\n",
       "current loss = 1.9140362105381\t\n",
       "current loss = 1.9138690312942\t\n",
       "current loss = 1.9137019587597\t\n",
       "current loss = 1.9135349928341\t\n"
      ]
     },
     "execution_count": 12,
     "metadata": {},
     "output_type": "execute_result"
    },
    {
     "data": {
      "text/plain": [
       "current loss = 1.9133681334172\t\n",
       "current loss = 1.913201380409\t\n",
       "current loss = 1.9130347337094\t\n",
       "current loss = 1.9128681932185\t\n",
       "current loss = 1.9127017588367\t\n",
       "current loss = 1.9125354304642\t\n"
      ]
     },
     "execution_count": 12,
     "metadata": {},
     "output_type": "execute_result"
    },
    {
     "data": {
      "text/plain": [
       "current loss = 1.9123692080015\t\n",
       "current loss = 1.9122030913494\t\n",
       "current loss = 1.9120370804084\t\n",
       "current loss = 1.9118711750795\t\n",
       "current loss = 1.9117053752636\t\n",
       "current loss = 1.9115396808618\t\n"
      ]
     },
     "execution_count": 12,
     "metadata": {},
     "output_type": "execute_result"
    },
    {
     "data": {
      "text/plain": [
       "current loss = 1.9113740917753\t\n",
       "current loss = 1.9112086079054\t\n",
       "current loss = 1.9110432291536\t\n",
       "current loss = 1.9108779554215\t\n",
       "current loss = 1.9107127866107\t\n",
       "current loss = 1.910547722623\t\n"
      ]
     },
     "execution_count": 12,
     "metadata": {},
     "output_type": "execute_result"
    },
    {
     "data": {
      "text/plain": [
       "current loss = 1.9103827633603\t\n",
       "current loss = 1.9102179087248\t\n",
       "current loss = 1.9100531586185\t\n",
       "current loss = 1.9098885129437\t\n",
       "current loss = 1.9097239716028\t\n",
       "current loss = 1.9095595344983\t\n"
      ]
     },
     "execution_count": 12,
     "metadata": {},
     "output_type": "execute_result"
    },
    {
     "data": {
      "text/plain": [
       "current loss = 1.9093952015328\t\n",
       "current loss = 1.9092309726092\t\n",
       "current loss = 1.9090668476302\t\n",
       "current loss = 1.9089028264988\t\n",
       "current loss = 1.9087389091181\t\n",
       "current loss = 1.9085750953913\t\n"
      ]
     },
     "execution_count": 12,
     "metadata": {},
     "output_type": "execute_result"
    },
    {
     "data": {
      "text/plain": [
       "current loss = 1.9084113852218\t\n",
       "current loss = 1.908247778513\t\n",
       "current loss = 1.9080842751684\t\n",
       "current loss = 1.9079208750917\t\n",
       "current loss = 1.9077575781867\t\n",
       "current loss = 1.9075943843574\t\n"
      ]
     },
     "execution_count": 12,
     "metadata": {},
     "output_type": "execute_result"
    },
    {
     "data": {
      "text/plain": [
       "current loss = 1.9074312935077\t\n",
       "current loss = 1.9072683055417\t\n",
       "current loss = 1.9071054203638\t\n",
       "current loss = 1.9069426378783\t\n",
       "current loss = 1.9067799579896\t\n",
       "current loss = 1.9066173806023\t\n"
      ]
     },
     "execution_count": 12,
     "metadata": {},
     "output_type": "execute_result"
    },
    {
     "data": {
      "text/plain": [
       "current loss = 1.9064549056213\t\n",
       "current loss = 1.9062925329511\t\n",
       "current loss = 1.906130262497\t\n",
       "current loss = 1.9059680941638\t\n",
       "current loss = 1.9058060278567\t\n",
       "current loss = 1.905644063481\t\n"
      ]
     },
     "execution_count": 12,
     "metadata": {},
     "output_type": "execute_result"
    },
    {
     "data": {
      "text/plain": [
       "current loss = 1.9054822009421\t\n",
       "current loss = 1.9053204401456\t\n",
       "current loss = 1.9051587809969\t\n",
       "current loss = 1.9049972234019\t\n",
       "current loss = 1.9048357672663\t\n",
       "current loss = 1.9046744124962\t\n"
      ]
     },
     "execution_count": 12,
     "metadata": {},
     "output_type": "execute_result"
    },
    {
     "data": {
      "text/plain": [
       "current loss = 1.9045131589976\t\n",
       "current loss = 1.9043520066767\t\n",
       "current loss = 1.9041909554397\t\n",
       "current loss = 1.9040300051932\t\n",
       "current loss = 1.9038691558435\t\n"
      ]
     },
     "execution_count": 12,
     "metadata": {},
     "output_type": "execute_result"
    },
    {
     "data": {
      "text/plain": [
       "current loss = 1.9037084072973\t\n",
       "current loss = 1.9035477594613\t\n"
      ]
     },
     "execution_count": 12,
     "metadata": {},
     "output_type": "execute_result"
    },
    {
     "data": {
      "text/plain": [
       "current loss = 1.9033872122425\t\n",
       "current loss = 1.9032267655477\t\n"
      ]
     },
     "execution_count": 12,
     "metadata": {},
     "output_type": "execute_result"
    },
    {
     "data": {
      "text/plain": [
       "current loss = 1.903066419284\t\n"
      ]
     },
     "execution_count": 12,
     "metadata": {},
     "output_type": "execute_result"
    },
    {
     "data": {
      "text/plain": [
       "current loss = 1.9029061733586\t\n"
      ]
     },
     "execution_count": 12,
     "metadata": {},
     "output_type": "execute_result"
    },
    {
     "data": {
      "text/plain": [
       "current loss = 1.9027460276788\t\n",
       "current loss = 1.902585982152\t\n"
      ]
     },
     "execution_count": 12,
     "metadata": {},
     "output_type": "execute_result"
    },
    {
     "data": {
      "text/plain": [
       "current loss = 1.9024260366857\t\n"
      ]
     },
     "execution_count": 12,
     "metadata": {},
     "output_type": "execute_result"
    },
    {
     "data": {
      "text/plain": [
       "current loss = 1.9022661911875\t\n"
      ]
     },
     "execution_count": 12,
     "metadata": {},
     "output_type": "execute_result"
    },
    {
     "data": {
      "text/plain": [
       "current loss = 1.9021064455652\t\n",
       "current loss = 1.9019467997266\t\n",
       "current loss = 1.9017872535796\t\n",
       "current loss = 1.9016278070323\t\n"
      ]
     },
     "execution_count": 12,
     "metadata": {},
     "output_type": "execute_result"
    },
    {
     "data": {
      "text/plain": [
       "current loss = 1.9014684599928\t\n",
       "current loss = 1.9013092123695\t\n"
      ]
     },
     "execution_count": 12,
     "metadata": {},
     "output_type": "execute_result"
    },
    {
     "data": {
      "text/plain": [
       "current loss = 1.9011500640708\t\n",
       "current loss = 1.9009910150051\t\n"
      ]
     },
     "execution_count": 12,
     "metadata": {},
     "output_type": "execute_result"
    },
    {
     "data": {
      "text/plain": [
       "current loss = 1.900832065081\t\n",
       "current loss = 1.9006732142073\t\n",
       "current loss = 1.9005144622927\t\n",
       "current loss = 1.9003558092462\t\n",
       "current loss = 1.9001972549769\t\n"
      ]
     },
     "execution_count": 12,
     "metadata": {},
     "output_type": "execute_result"
    },
    {
     "data": {
      "text/plain": [
       "current loss = 1.9000387993938\t\n",
       "current loss = 1.8998804424063\t\n",
       "current loss = 1.8997221839237\t\n",
       "current loss = 1.8995640238554\t\n",
       "current loss = 1.899405962111\t\n",
       "current loss = 1.8992479986003\t\n",
       "current loss = 1.899090133233\t\n",
       "current loss = 1.8989323659189\t\n"
      ]
     },
     "execution_count": 12,
     "metadata": {},
     "output_type": "execute_result"
    },
    {
     "data": {
      "text/plain": [
       "current loss = 1.8987746965682\t\n",
       "current loss = 1.8986171250909\t\n",
       "current loss = 1.8984596513972\t\n",
       "current loss = 1.8983022753975\t\n",
       "current loss = 1.8981449970021\t\n",
       "current loss = 1.8979878161216\t\n",
       "current loss = 1.8978307326667\t\n",
       "current loss = 1.8976737465481\t\n"
      ]
     },
     "execution_count": 12,
     "metadata": {},
     "output_type": "execute_result"
    },
    {
     "data": {
      "text/plain": [
       "current loss = 1.8975168576766\t\n",
       "current loss = 1.8973600659632\t\n",
       "current loss = 1.8972033713189\t\n",
       "current loss = 1.897046773655\t\n",
       "current loss = 1.8968902728827\t\n",
       "current loss = 1.8967338689133\t\n",
       "current loss = 1.8965775616584\t\n",
       "current loss = 1.8964213510295\t\n"
      ]
     },
     "execution_count": 12,
     "metadata": {},
     "output_type": "execute_result"
    },
    {
     "data": {
      "text/plain": [
       "current loss = 1.8962652369383\t\n",
       "current loss = 1.8961092192966\t\n",
       "current loss = 1.8959532980164\t\n",
       "current loss = 1.8957974730095\t\n",
       "current loss = 1.8956417441881\t\n",
       "current loss = 1.8954861114645\t\n",
       "current loss = 1.8953305747509\t\n",
       "current loss = 1.8951751339597\t\n",
       "current loss = 1.8950197890034\t\n"
      ]
     },
     "execution_count": 12,
     "metadata": {},
     "output_type": "execute_result"
    },
    {
     "data": {
      "text/plain": [
       "current loss = 1.8948645397948\t\n",
       "current loss = 1.8947093862464\t\n",
       "current loss = 1.8945543282711\t\n",
       "current loss = 1.8943993657819\t\n",
       "current loss = 1.8942444986918\t\n",
       "current loss = 1.8940897269138\t\n",
       "current loss = 1.8939350503613\t\n",
       "current loss = 1.8937804689476\t\n"
      ]
     },
     "execution_count": 12,
     "metadata": {},
     "output_type": "execute_result"
    },
    {
     "data": {
      "text/plain": [
       "current loss = 1.8936259825861\t\n",
       "current loss = 1.8934715911903\t\n",
       "current loss = 1.893317294674\t\n",
       "current loss = 1.8931630929507\t\n",
       "current loss = 1.8930089859345\t\n",
       "current loss = 1.8928549735391\t\n",
       "current loss = 1.8927010556787\t\n",
       "current loss = 1.8925472322674\t\n"
      ]
     },
     "execution_count": 12,
     "metadata": {},
     "output_type": "execute_result"
    },
    {
     "data": {
      "text/plain": [
       "current loss = 1.8923935032195\t\n",
       "current loss = 1.8922398684493\t\n",
       "current loss = 1.8920863278712\t\n",
       "current loss = 1.8919328813998\t\n",
       "current loss = 1.8917795289497\t\n",
       "current loss = 1.8916262704358\t\n",
       "current loss = 1.8914731057727\t\n",
       "current loss = 1.8913200348756\t\n"
      ]
     },
     "execution_count": 12,
     "metadata": {},
     "output_type": "execute_result"
    },
    {
     "data": {
      "text/plain": [
       "current loss = 1.8911670576593\t\n",
       "current loss = 1.8910141740392\t\n",
       "current loss = 1.8908613839303\t\n",
       "current loss = 1.8907086872481\t\n",
       "current loss = 1.890556083908\t\n",
       "current loss = 1.8904035738256\t\n",
       "current loss = 1.8902511569164\t\n",
       "current loss = 1.8900988330962\t\n"
      ]
     },
     "execution_count": 12,
     "metadata": {},
     "output_type": "execute_result"
    },
    {
     "data": {
      "text/plain": [
       "current loss = 1.8899466022809\t\n",
       "current loss = 1.8897944643864\t\n",
       "current loss = 1.8896424193287\t\n",
       "current loss = 1.8894904670239\t\n",
       "current loss = 1.8893386073883\t\n",
       "current loss = 1.8891868403383\t\n",
       "current loss = 1.8890351657901\t\n",
       "current loss = 1.8888835836604\t\n"
      ]
     },
     "execution_count": 12,
     "metadata": {},
     "output_type": "execute_result"
    },
    {
     "data": {
      "text/plain": [
       "current loss = 1.8887320938657\t\n",
       "current loss = 1.8885806963229\t\n",
       "current loss = 1.8884293909486\t\n",
       "current loss = 1.8882781776598\t\n",
       "current loss = 1.8881270563735\t\n",
       "current loss = 1.8879760270069\t\n",
       "current loss = 1.887825089477\t\n",
       "current loss = 1.8876742437013\t\n"
      ]
     },
     "execution_count": 12,
     "metadata": {},
     "output_type": "execute_result"
    },
    {
     "data": {
      "text/plain": [
       "current loss = 1.887523489597\t\n",
       "current loss = 1.8873728270817\t\n",
       "current loss = 1.887222256073\t\n",
       "current loss = 1.8870717764885\t\n",
       "current loss = 1.886921388246\t\n",
       "current loss = 1.8867710912634\t\n",
       "current loss = 1.8866208854587\t\n",
       "current loss = 1.8864707707499\t\n",
       "current loss = 1.8863207470551\t\n"
      ]
     },
     "execution_count": 12,
     "metadata": {},
     "output_type": "execute_result"
    },
    {
     "data": {
      "text/plain": [
       "current loss = 1.8861708142926\t\n",
       "current loss = 1.8860209723808\t\n",
       "current loss = 1.8858712212381\t\n",
       "current loss = 1.8857215607831\t\n",
       "current loss = 1.8855719909343\t\n",
       "current loss = 1.8854225116105\t\n",
       "current loss = 1.8852731227305\t\n",
       "current loss = 1.8851238242132\t\n"
      ]
     },
     "execution_count": 12,
     "metadata": {},
     "output_type": "execute_result"
    },
    {
     "data": {
      "text/plain": [
       "current loss = 1.8849746159776\t\n",
       "current loss = 1.8848254979428\t\n",
       "current loss = 1.8846764700281\t\n",
       "current loss = 1.8845275321526\t\n",
       "current loss = 1.8843786842358\t\n",
       "current loss = 1.8842299261972\t\n",
       "current loss = 1.8840812579563\t\n",
       "current loss = 1.8839326794327\t\n"
      ]
     },
     "execution_count": 12,
     "metadata": {},
     "output_type": "execute_result"
    },
    {
     "data": {
      "text/plain": [
       "current loss = 1.8837841905463\t\n",
       "current loss = 1.8836357912168\t\n",
       "current loss = 1.8834874813643\t\n",
       "current loss = 1.8833392609087\t\n",
       "current loss = 1.8831911297701\t\n",
       "current loss = 1.8830430878688\t\n",
       "current loss = 1.8828951351251\t\n",
       "current loss = 1.8827472714594\t\n"
      ]
     },
     "execution_count": 12,
     "metadata": {},
     "output_type": "execute_result"
    },
    {
     "data": {
      "text/plain": [
       "current loss = 1.8825994967921\t\n",
       "current loss = 1.8824518110438\t\n",
       "current loss = 1.8823042141353\t\n",
       "current loss = 1.8821567059872\t\n",
       "current loss = 1.8820092865205\t\n",
       "current loss = 1.8818619556561\t\n",
       "current loss = 1.881714713315\t\n",
       "current loss = 1.8815675594183\t\n"
      ]
     },
     "execution_count": 12,
     "metadata": {},
     "output_type": "execute_result"
    },
    {
     "data": {
      "text/plain": [
       "current loss = 1.8814204938873\t\n",
       "current loss = 1.8812735166433\t\n",
       "current loss = 1.8811266276077\t\n",
       "current loss = 1.8809798267019\t\n",
       "current loss = 1.8808331138476\t\n",
       "current loss = 1.8806864889664\t\n",
       "current loss = 1.8805399519801\t\n",
       "current loss = 1.8803935028105\t\n"
      ]
     },
     "execution_count": 12,
     "metadata": {},
     "output_type": "execute_result"
    },
    {
     "data": {
      "text/plain": [
       "current loss = 1.8802471413797\t\n",
       "current loss = 1.8801008676095\t\n",
       "current loss = 1.8799546814221\t\n",
       "current loss = 1.8798085827398\t\n",
       "current loss = 1.8796625714848\t\n",
       "current loss = 1.8795166475796\t\n",
       "current loss = 1.8793708109465\t\n"
      ]
     },
     "execution_count": 12,
     "metadata": {},
     "output_type": "execute_result"
    },
    {
     "data": {
      "text/plain": [
       "current loss = 1.8792250615083\t\n",
       "current loss = 1.8790793991874\t\n",
       "current loss = 1.8789338239068\t\n",
       "current loss = 1.8787883355891\t\n",
       "current loss = 1.8786429341573\t\n",
       "current loss = 1.8784976195345\t\n",
       "current loss = 1.8783523916437\t\n"
      ]
     },
     "execution_count": 12,
     "metadata": {},
     "output_type": "execute_result"
    },
    {
     "data": {
      "text/plain": [
       "current loss = 1.8782072504082\t\n",
       "current loss = 1.8780621957511\t\n",
       "current loss = 1.8779172275958\t\n",
       "current loss = 1.8777723458659\t\n",
       "current loss = 1.8776275504848\t\n",
       "current loss = 1.8774828413761\t\n",
       "current loss = 1.8773382184637\t\n",
       "current loss = 1.8771936816712\t\n"
      ]
     },
     "execution_count": 12,
     "metadata": {},
     "output_type": "execute_result"
    },
    {
     "data": {
      "text/plain": [
       "current loss = 1.8770492309225\t\n",
       "current loss = 1.8769048661417\t\n",
       "current loss = 1.8767605872528\t\n",
       "current loss = 1.8766163941798\t\n",
       "current loss = 1.8764722868472\t\n",
       "current loss = 1.8763282651792\t\n",
       "current loss = 1.8761843291001\t\n",
       "current loss = 1.8760404785345\t\n"
      ]
     },
     "execution_count": 12,
     "metadata": {},
     "output_type": "execute_result"
    },
    {
     "data": {
      "text/plain": [
       "current loss = 1.875896713407\t\n",
       "current loss = 1.8757530336422\t\n",
       "current loss = 1.8756094391649\t\n",
       "current loss = 1.8754659298998\t\n",
       "current loss = 1.8753225057721\t\n",
       "current loss = 1.8751791667065\t\n",
       "current loss = 1.8750359126283\t\n",
       "current loss = 1.8748927434626\t\n"
      ]
     },
     "execution_count": 12,
     "metadata": {},
     "output_type": "execute_result"
    },
    {
     "data": {
      "text/plain": [
       "current loss = 1.8747496591346\t\n",
       "current loss = 1.8746066595698\t\n",
       "current loss = 1.8744637446935\t\n",
       "current loss = 1.8743209144313\t\n",
       "current loss = 1.8741781687088\t\n",
       "current loss = 1.8740355074516\t\n",
       "current loss = 1.8738929305856\t\n",
       "current loss = 1.8737504380366\t\n",
       "current loss = 1.8736080297304\t\n"
      ]
     },
     "execution_count": 12,
     "metadata": {},
     "output_type": "execute_result"
    },
    {
     "data": {
      "text/plain": [
       "current loss = 1.8734657055932\t\n",
       "current loss = 1.8733234655511\t\n",
       "current loss = 1.8731813095303\t\n",
       "current loss = 1.8730392374569\t\n",
       "current loss = 1.8728972492575\t\n",
       "current loss = 1.8727553448583\t\n",
       "current loss = 1.8726135241861\t\n"
      ]
     },
     "execution_count": 12,
     "metadata": {},
     "output_type": "execute_result"
    },
    {
     "data": {
      "text/plain": [
       "current loss = 1.8724717871673\t\n",
       "current loss = 1.8723301337287\t\n",
       "current loss = 1.8721885637969\t\n",
       "current loss = 1.8720470772991\t\n",
       "current loss = 1.8719056741619\t\n",
       "current loss = 1.8717643543125\t\n",
       "current loss = 1.871623117678\t\n",
       "current loss = 1.8714819641855\t\n"
      ]
     },
     "execution_count": 12,
     "metadata": {},
     "output_type": "execute_result"
    },
    {
     "data": {
      "text/plain": [
       "current loss = 1.8713408937624\t\n",
       "current loss = 1.871199906336\t\n",
       "current loss = 1.8710590018336\t\n",
       "current loss = 1.870918180183\t\n",
       "current loss = 1.8707774413116\t\n",
       "current loss = 1.8706367851471\t\n",
       "current loss = 1.8704962116173\t\n",
       "current loss = 1.8703557206501\t\n"
      ]
     },
     "execution_count": 12,
     "metadata": {},
     "output_type": "execute_result"
    },
    {
     "data": {
      "text/plain": [
       "current loss = 1.8702153121733\t\n",
       "current loss = 1.870074986115\t\n",
       "current loss = 1.8699347424033\t\n",
       "current loss = 1.8697945809663\t\n",
       "current loss = 1.8696545017323\t\n",
       "current loss = 1.8695145046297\t\n",
       "current loss = 1.8693745895868\t\n",
       "current loss = 1.8692347565321\t\n"
      ]
     },
     "execution_count": 12,
     "metadata": {},
     "output_type": "execute_result"
    },
    {
     "data": {
      "text/plain": [
       "current loss = 1.8690950053943\t\n",
       "current loss = 1.8689553361019\t\n",
       "current loss = 1.8688157485838\t\n",
       "current loss = 1.8686762427687\t\n",
       "current loss = 1.8685368185855\t\n",
       "current loss = 1.8683974759632\t\n",
       "current loss = 1.8682582148309\t\n",
       "current loss = 1.8681190351177\t\n"
      ]
     },
     "execution_count": 12,
     "metadata": {},
     "output_type": "execute_result"
    },
    {
     "data": {
      "text/plain": [
       "current loss = 1.8679799367528\t\n",
       "current loss = 1.8678409196655\t\n",
       "current loss = 1.8677019837852\t\n",
       "current loss = 1.8675631290414\t\n",
       "current loss = 1.8674243553635\t\n",
       "current loss = 1.8672856626813\t\n",
       "current loss = 1.8671470509243\t\n",
       "current loss = 1.8670085200225\t\n"
      ]
     },
     "execution_count": 12,
     "metadata": {},
     "output_type": "execute_result"
    },
    {
     "data": {
      "text/plain": [
       "current loss = 1.8668700699055\t\n",
       "current loss = 1.8667317005034\t\n",
       "current loss = 1.8665934117461\t\n",
       "current loss = 1.8664552035638\t\n",
       "current loss = 1.8663170758866\t\n",
       "current loss = 1.8661790286448\t\n",
       "current loss = 1.8660410617687\t\n",
       "current loss = 1.8659031751886\t\n"
      ]
     },
     "execution_count": 12,
     "metadata": {},
     "output_type": "execute_result"
    },
    {
     "data": {
      "text/plain": [
       "current loss = 1.8657653688351\t\n",
       "current loss = 1.8656276426387\t\n",
       "current loss = 1.8654899965301\t\n",
       "current loss = 1.86535243044\t\n",
       "current loss = 1.8652149442991\t\n",
       "current loss = 1.8650775380383\t\n",
       "current loss = 1.8649402115886\t\n"
      ]
     },
     "execution_count": 12,
     "metadata": {},
     "output_type": "execute_result"
    },
    {
     "data": {
      "text/plain": [
       "current loss = 1.864802964881\t\n",
       "current loss = 1.8646657978466\t\n",
       "current loss = 1.8645287104166\t\n",
       "current loss = 1.8643917025222\t\n",
       "current loss = 1.8642547740947\t\n",
       "current loss = 1.8641179250657\t\n",
       "current loss = 1.8639811553664\t\n",
       "current loss = 1.8638444649286\t\n"
      ]
     },
     "execution_count": 12,
     "metadata": {},
     "output_type": "execute_result"
    },
    {
     "data": {
      "text/plain": [
       "current loss = 1.8637078536839\t\n",
       "current loss = 1.8635713215638\t\n",
       "current loss = 1.8634348685004\t\n",
       "current loss = 1.8632984944254\t\n",
       "current loss = 1.8631621992707\t\n",
       "current loss = 1.8630259829684\t\n",
       "current loss = 1.8628898454506\t\n",
       "current loss = 1.8627537866494\t\n"
      ]
     },
     "execution_count": 12,
     "metadata": {},
     "output_type": "execute_result"
    },
    {
     "data": {
      "text/plain": [
       "current loss = 1.8626178064971\t\n",
       "current loss = 1.8624819049261\t\n",
       "current loss = 1.8623460818686\t\n",
       "current loss = 1.8622103372572\t\n",
       "current loss = 1.8620746710245\t\n",
       "current loss = 1.861939083103\t\n",
       "current loss = 1.8618035734254\t\n",
       "current loss = 1.8616681419246\t\n"
      ]
     },
     "execution_count": 12,
     "metadata": {},
     "output_type": "execute_result"
    },
    {
     "data": {
      "text/plain": [
       "current loss = 1.8615327885333\t\n",
       "current loss = 1.8613975131845\t\n",
       "current loss = 1.8612623158112\t\n",
       "current loss = 1.8611271963465\t\n",
       "current loss = 1.8609921547235\t\n",
       "current loss = 1.8608571908753\t\n",
       "current loss = 1.8607223047354\t\n",
       "current loss = 1.8605874962371\t\n"
      ]
     },
     "execution_count": 12,
     "metadata": {},
     "output_type": "execute_result"
    },
    {
     "data": {
      "text/plain": [
       "current loss = 1.8604527653139\t\n",
       "current loss = 1.8603181118991\t\n",
       "current loss = 1.8601835359265\t\n",
       "current loss = 1.8600490373297\t\n",
       "current loss = 1.8599146160425\t\n",
       "current loss = 1.8597802719985\t\n",
       "current loss = 1.8596460051319\t\n"
      ]
     },
     "execution_count": 12,
     "metadata": {},
     "output_type": "execute_result"
    },
    {
     "data": {
      "text/plain": [
       "current loss = 1.8595118153764\t\n",
       "current loss = 1.8593777026661\t\n",
       "current loss = 1.8592436669352\t\n",
       "current loss = 1.8591097081177\t\n",
       "current loss = 1.858975826148\t\n",
       "current loss = 1.8588420209604\t\n",
       "current loss = 1.8587082924893\t\n"
      ]
     },
     "execution_count": 12,
     "metadata": {},
     "output_type": "execute_result"
    },
    {
     "data": {
      "text/plain": [
       "current loss = 1.8585746406691\t\n",
       "current loss = 1.8584410654344\t\n",
       "current loss = 1.8583075667198\t\n",
       "current loss = 1.85817414446\t\n",
       "current loss = 1.8580407985897\t\n",
       "current loss = 1.8579075290438\t\n",
       "current loss = 1.8577743357572\t\n",
       "current loss = 1.8576412186648\t\n"
      ]
     },
     "execution_count": 12,
     "metadata": {},
     "output_type": "execute_result"
    },
    {
     "data": {
      "text/plain": [
       "current loss = 1.8575081777017\t\n",
       "current loss = 1.857375212803\t\n",
       "current loss = 1.8572423239039\t\n",
       "current loss = 1.8571095109398\t\n",
       "current loss = 1.8569767738458\t\n",
       "current loss = 1.8568441125574\t\n",
       "current loss = 1.85671152701\t\n",
       "current loss = 1.8565790171394\t\n"
      ]
     },
     "execution_count": 12,
     "metadata": {},
     "output_type": "execute_result"
    },
    {
     "data": {
      "text/plain": [
       "current loss = 1.8564465828809\t\n",
       "current loss = 1.8563142241704\t\n",
       "current loss = 1.8561819409436\t\n",
       "current loss = 1.8560497331363\t\n",
       "current loss = 1.8559176006845\t\n",
       "current loss = 1.855785543524\t\n",
       "current loss = 1.855653561591\t\n",
       "current loss = 1.8555216548215\t\n"
      ]
     },
     "execution_count": 12,
     "metadata": {},
     "output_type": "execute_result"
    },
    {
     "data": {
      "text/plain": [
       "current loss = 1.8553898231518\t\n",
       "current loss = 1.8552580665181\t\n",
       "current loss = 1.8551263848567\t\n"
      ]
     },
     "execution_count": 12,
     "metadata": {},
     "output_type": "execute_result"
    },
    {
     "data": {
      "text/plain": [
       "current loss = 1.854994778104\t\n",
       "current loss = 1.8548632461965\t\n",
       "current loss = 1.8547317890707\t\n",
       "current loss = 1.8546004066632\t\n",
       "current loss = 1.8544690989108\t\n",
       "current loss = 1.85433786575\t\n"
      ]
     },
     "execution_count": 12,
     "metadata": {},
     "output_type": "execute_result"
    },
    {
     "data": {
      "text/plain": [
       "current loss = 1.8542067071178\t\n",
       "current loss = 1.854075622951\t\n",
       "current loss = 1.8539446131866\t\n",
       "current loss = 1.8538136777616\t\n",
       "current loss = 1.8536828166131\t\n",
       "current loss = 1.8535520296783\t\n",
       "current loss = 1.8534213168943\t\n"
      ]
     },
     "execution_count": 12,
     "metadata": {},
     "output_type": "execute_result"
    },
    {
     "data": {
      "text/plain": [
       "current loss = 1.8532906781985\t\n",
       "current loss = 1.8531601135282\t\n",
       "current loss = 1.853029622821\t\n",
       "current loss = 1.8528992060141\t\n",
       "current loss = 1.8527688630454\t\n",
       "current loss = 1.8526385938524\t\n",
       "current loss = 1.8525083983727\t\n"
      ]
     },
     "execution_count": 12,
     "metadata": {},
     "output_type": "execute_result"
    },
    {
     "data": {
      "text/plain": [
       "current loss = 1.8523782765442\t\n",
       "current loss = 1.8522482283048\t\n",
       "current loss = 1.8521182535922\t\n",
       "current loss = 1.8519883523446\t\n",
       "current loss = 1.8518585245\t\n",
       "current loss = 1.8517287699964\t\n",
       "current loss = 1.8515990887721\t\n",
       "current loss = 1.8514694807653\t\n"
      ]
     },
     "execution_count": 12,
     "metadata": {},
     "output_type": "execute_result"
    },
    {
     "data": {
      "text/plain": [
       "current loss = 1.8513399459144\t\n",
       "current loss = 1.8512104841576\t\n",
       "current loss = 1.8510810954336\t\n",
       "current loss = 1.8509517796807\t\n",
       "current loss = 1.8508225368377\t\n",
       "current loss = 1.8506933668431\t\n",
       "current loss = 1.8505642696356\t\n",
       "current loss = 1.8504352451541\t\n"
      ]
     },
     "execution_count": 12,
     "metadata": {},
     "output_type": "execute_result"
    },
    {
     "data": {
      "text/plain": [
       "current loss = 1.8503062933374\t\n",
       "current loss = 1.8501774141245\t\n",
       "current loss = 1.8500486074542\t\n",
       "current loss = 1.8499198732658\t\n",
       "current loss = 1.8497912114982\t\n",
       "current loss = 1.8496626220908\t\n",
       "current loss = 1.8495341049827\t\n"
      ]
     },
     "execution_count": 12,
     "metadata": {},
     "output_type": "execute_result"
    },
    {
     "data": {
      "text/plain": [
       "current loss = 1.8494056601133\t\n",
       "current loss = 1.8492772874219\t\n",
       "current loss = 1.849148986848\t\n",
       "current loss = 1.8490207583312\t\n"
      ]
     },
     "execution_count": 12,
     "metadata": {},
     "output_type": "execute_result"
    },
    {
     "data": {
      "text/plain": [
       "current loss = 1.848892601811\t\n",
       "current loss = 1.848764517227\t\n",
       "current loss = 1.8486365045191\t\n",
       "current loss = 1.8485085636268\t\n",
       "current loss = 1.8483806944903\t\n",
       "current loss = 1.8482528970492\t\n",
       "current loss = 1.8481251712437\t\n"
      ]
     },
     "execution_count": 12,
     "metadata": {},
     "output_type": "execute_result"
    },
    {
     "data": {
      "text/plain": [
       "current loss = 1.8479975170137\t\n",
       "current loss = 1.8478699342993\t\n",
       "current loss = 1.8477424230408\t\n",
       "current loss = 1.8476149831784\t\n",
       "current loss = 1.8474876146524\t\n",
       "current loss = 1.8473603174031\t\n",
       "current loss = 1.847233091371\t\n"
      ]
     },
     "execution_count": 12,
     "metadata": {},
     "output_type": "execute_result"
    },
    {
     "data": {
      "text/plain": [
       "current loss = 1.8471059364965\t\n",
       "current loss = 1.8469788527203\t\n",
       "current loss = 1.846851839983\t\n",
       "current loss = 1.8467248982253\t\n",
       "current loss = 1.8465980273878\t\n",
       "current loss = 1.8464712274115\t\n",
       "current loss = 1.8463444982372\t\n",
       "current loss = 1.8462178398059\t\n"
      ]
     },
     "execution_count": 12,
     "metadata": {},
     "output_type": "execute_result"
    },
    {
     "data": {
      "text/plain": [
       "current loss = 1.8460912520586\t\n",
       "current loss = 1.8459647349363\t\n",
       "current loss = 1.8458382883803\t\n",
       "current loss = 1.8457119123316\t\n",
       "current loss = 1.8455856067316\t\n",
       "current loss = 1.8454593715216\t\n",
       "current loss = 1.845333206643\t\n"
      ]
     },
     "execution_count": 12,
     "metadata": {},
     "output_type": "execute_result"
    },
    {
     "data": {
      "text/plain": [
       "current loss = 1.8452071120373\t\n",
       "current loss = 1.845081087646\t\n",
       "current loss = 1.8449551334106\t\n",
       "current loss = 1.8448292492728\t\n",
       "current loss = 1.8447034351743\t\n",
       "current loss = 1.8445776910569\t\n",
       "current loss = 1.8444520168625\t\n"
      ]
     },
     "execution_count": 12,
     "metadata": {},
     "output_type": "execute_result"
    },
    {
     "data": {
      "text/plain": [
       "current loss = 1.8443264125329\t\n",
       "current loss = 1.8442008780101\t\n",
       "current loss = 1.8440754132361\t\n",
       "current loss = 1.8439500181529\t\n"
      ]
     },
     "execution_count": 12,
     "metadata": {},
     "output_type": "execute_result"
    },
    {
     "data": {
      "text/plain": [
       "current loss = 1.8438246927029\t\n",
       "current loss = 1.8436994368281\t\n",
       "current loss = 1.8435742504708\t\n",
       "current loss = 1.8434491335735\t\n",
       "current loss = 1.8433240860784\t\n",
       "current loss = 1.843199107928\t\n",
       "current loss = 1.8430741990649\t\n"
      ]
     },
     "execution_count": 12,
     "metadata": {},
     "output_type": "execute_result"
    },
    {
     "data": {
      "text/plain": [
       "current loss = 1.8429493594316\t\n",
       "current loss = 1.8428245889708\t\n",
       "current loss = 1.8426998876253\t\n",
       "current loss = 1.8425752553377\t\n",
       "current loss = 1.8424506920508\t\n",
       "current loss = 1.8423261977077\t\n",
       "current loss = 1.8422017722512\t\n",
       "current loss = 1.8420774156244\t\n"
      ]
     },
     "execution_count": 12,
     "metadata": {},
     "output_type": "execute_result"
    },
    {
     "data": {
      "text/plain": [
       "current loss = 1.8419531277703\t\n",
       "current loss = 1.8418289086321\t\n",
       "current loss = 1.841704758153\t\n",
       "current loss = 1.8415806762762\t\n",
       "current loss = 1.8414566629451\t\n"
      ]
     },
     "execution_count": 12,
     "metadata": {},
     "output_type": "execute_result"
    },
    {
     "data": {
      "text/plain": [
       "current loss = 1.841332718103\t\n",
       "current loss = 1.8412088416934\t\n"
      ]
     },
     "execution_count": 12,
     "metadata": {},
     "output_type": "execute_result"
    },
    {
     "data": {
      "text/plain": [
       "current loss = 1.8410850336598\t\n",
       "current loss = 1.8409612939457\t\n",
       "current loss = 1.8408376224949\t\n",
       "current loss = 1.8407140192508\t\n",
       "current loss = 1.8405904841574\t\n",
       "current loss = 1.8404670171584\t\n",
       "current loss = 1.8403436181977\t\n"
      ]
     },
     "execution_count": 12,
     "metadata": {},
     "output_type": "execute_result"
    },
    {
     "data": {
      "text/plain": [
       "current loss = 1.8402202872192\t\n",
       "current loss = 1.8400970241668\t\n",
       "current loss = 1.8399738289848\t\n"
      ]
     },
     "execution_count": 12,
     "metadata": {},
     "output_type": "execute_result"
    },
    {
     "data": {
      "text/plain": [
       "current loss = 1.839850701617\t\n",
       "current loss = 1.8397276420078\t\n",
       "current loss = 1.8396046501013\t\n",
       "current loss = 1.8394817258419\t\n"
      ]
     },
     "execution_count": 12,
     "metadata": {},
     "output_type": "execute_result"
    },
    {
     "data": {
      "text/plain": [
       "current loss = 1.8393588691738\t\n",
       "current loss = 1.8392360800414\t\n",
       "current loss = 1.8391133583894\t\n"
      ]
     },
     "execution_count": 12,
     "metadata": {},
     "output_type": "execute_result"
    },
    {
     "data": {
      "text/plain": [
       "current loss = 1.838990704162\t\n",
       "current loss = 1.8388681173041\t\n",
       "current loss = 1.8387455977601\t\n"
      ]
     },
     "execution_count": 12,
     "metadata": {},
     "output_type": "execute_result"
    },
    {
     "data": {
      "text/plain": [
       "current loss = 1.8386231454748\t\n",
       "current loss = 1.8385007603929\t\n",
       "current loss = 1.8383784424594\t\n",
       "current loss = 1.8382561916189\t\n",
       "current loss = 1.8381340078166\t\n"
      ]
     },
     "execution_count": 12,
     "metadata": {},
     "output_type": "execute_result"
    },
    {
     "data": {
      "text/plain": [
       "current loss = 1.8380118909973\t\n",
       "current loss = 1.8378898411062\t\n",
       "current loss = 1.8377678580883\t\n",
       "current loss = 1.8376459418889\t\n"
      ]
     },
     "execution_count": 12,
     "metadata": {},
     "output_type": "execute_result"
    },
    {
     "data": {
      "text/plain": [
       "current loss = 1.837524092453\t\n",
       "current loss = 1.8374023097262\t\n",
       "current loss = 1.8372805936536\t\n",
       "current loss = 1.8371589441807\t\n",
       "current loss = 1.837037361253\t\n"
      ]
     },
     "execution_count": 12,
     "metadata": {},
     "output_type": "execute_result"
    },
    {
     "data": {
      "text/plain": [
       "current loss = 1.8369158448159\t\n",
       "current loss = 1.8367943948151\t\n",
       "current loss = 1.8366730111962\t\n",
       "current loss = 1.8365516939049\t\n"
      ]
     },
     "execution_count": 12,
     "metadata": {},
     "output_type": "execute_result"
    },
    {
     "data": {
      "text/plain": [
       "current loss = 1.8364304428869\t\n",
       "current loss = 1.8363092580881\t\n",
       "current loss = 1.8361881394543\t\n",
       "current loss = 1.8360670869314\t\n"
      ]
     },
     "execution_count": 12,
     "metadata": {},
     "output_type": "execute_result"
    },
    {
     "data": {
      "text/plain": [
       "current loss = 1.8359461004655\t\n",
       "current loss = 1.8358251800025\t\n",
       "current loss = 1.8357043254886\t\n",
       "current loss = 1.83558353687\t\n",
       "current loss = 1.8354628140927\t\n"
      ]
     },
     "execution_count": 12,
     "metadata": {},
     "output_type": "execute_result"
    },
    {
     "data": {
      "text/plain": [
       "current loss = 1.8353421571032\t\n",
       "current loss = 1.8352215658478\t\n",
       "current loss = 1.8351010402727\t\n",
       "current loss = 1.8349805803245\t\n",
       "current loss = 1.8348601859496\t\n",
       "current loss = 1.8347398570947\t\n"
      ]
     },
     "execution_count": 12,
     "metadata": {},
     "output_type": "execute_result"
    },
    {
     "data": {
      "text/plain": [
       "current loss = 1.8346195937063\t\n",
       "current loss = 1.8344993957311\t\n",
       "current loss = 1.8343792631158\t\n",
       "current loss = 1.8342591958072\t\n"
      ]
     },
     "execution_count": 12,
     "metadata": {},
     "output_type": "execute_result"
    },
    {
     "data": {
      "text/plain": [
       "current loss = 1.8341391937521\t\n",
       "current loss = 1.8340192568974\t\n",
       "current loss = 1.8338993851902\t\n",
       "current loss = 1.8337795785773\t\n",
       "current loss = 1.8336598370058\t\n"
      ]
     },
     "execution_count": 12,
     "metadata": {},
     "output_type": "execute_result"
    },
    {
     "data": {
      "text/plain": [
       "current loss = 1.8335401604229\t\n",
       "current loss = 1.8334205487757\t\n",
       "current loss = 1.8333010020115\t\n",
       "current loss = 1.8331815200776\t\n"
      ]
     },
     "execution_count": 12,
     "metadata": {},
     "output_type": "execute_result"
    },
    {
     "data": {
      "text/plain": [
       "current loss = 1.8330621029212\t\n",
       "current loss = 1.8329427504898\t\n",
       "current loss = 1.8328234627309\t\n",
       "current loss = 1.8327042395919\t\n",
       "current loss = 1.8325850810204\t\n",
       "current loss = 1.8324659869641\t\n",
       "current loss = 1.8323469573706\t\n"
      ]
     },
     "execution_count": 12,
     "metadata": {},
     "output_type": "execute_result"
    },
    {
     "data": {
      "text/plain": [
       "current loss = 1.8322279921876\t\n",
       "current loss = 1.8321090913629\t\n",
       "current loss = 1.8319902548443\t\n",
       "current loss = 1.8318714825798\t\n",
       "current loss = 1.8317527745174\t\n",
       "current loss = 1.8316341306049\t\n"
      ]
     },
     "execution_count": 12,
     "metadata": {},
     "output_type": "execute_result"
    },
    {
     "data": {
      "text/plain": [
       "current loss = 1.8315155507905\t\n",
       "current loss = 1.8313970350223\t\n",
       "current loss = 1.8312785832484\t\n"
      ]
     },
     "execution_count": 12,
     "metadata": {},
     "output_type": "execute_result"
    },
    {
     "data": {
      "text/plain": [
       "current loss = 1.8311601954171\t\n",
       "current loss = 1.8310418714766\t\n",
       "current loss = 1.8309236113754\t\n",
       "current loss = 1.8308054150616\t\n"
      ]
     },
     "execution_count": 12,
     "metadata": {},
     "output_type": "execute_result"
    },
    {
     "data": {
      "text/plain": [
       "current loss = 1.830687282484\t\n",
       "current loss = 1.8305692135908\t\n",
       "current loss = 1.8304512083306\t\n",
       "current loss = 1.8303332666522\t\n"
      ]
     },
     "execution_count": 12,
     "metadata": {},
     "output_type": "execute_result"
    },
    {
     "data": {
      "text/plain": [
       "current loss = 1.830215388504\t\n",
       "current loss = 1.8300975738349\t\n",
       "current loss = 1.8299798225936\t\n"
      ]
     },
     "execution_count": 12,
     "metadata": {},
     "output_type": "execute_result"
    },
    {
     "data": {
      "text/plain": [
       "current loss = 1.8298621347289\t\n",
       "current loss = 1.8297445101896\t\n",
       "current loss = 1.8296269489248\t\n",
       "current loss = 1.8295094508834\t\n",
       "current loss = 1.8293920160144\t\n",
       "current loss = 1.829274644267\t\n"
      ]
     },
     "execution_count": 12,
     "metadata": {},
     "output_type": "execute_result"
    },
    {
     "data": {
      "text/plain": [
       "current loss = 1.8291573355901\t\n",
       "current loss = 1.8290400899332\t\n",
       "current loss = 1.8289229072453\t\n",
       "current loss = 1.8288057874759\t\n"
      ]
     },
     "execution_count": 12,
     "metadata": {},
     "output_type": "execute_result"
    },
    {
     "data": {
      "text/plain": [
       "current loss = 1.8286887305742\t\n",
       "current loss = 1.8285717364896\t\n",
       "current loss = 1.8284548051717\t\n",
       "current loss = 1.8283379365699\t\n",
       "current loss = 1.8282211306339\t\n",
       "current loss = 1.8281043873131\t\n"
      ]
     },
     "execution_count": 12,
     "metadata": {},
     "output_type": "execute_result"
    },
    {
     "data": {
      "text/plain": [
       "current loss = 1.8279877065574\t\n",
       "current loss = 1.8278710883163\t\n",
       "current loss = 1.8277545325398\t\n",
       "current loss = 1.8276380391776\t\n",
       "current loss = 1.8275216081795\t\n",
       "current loss = 1.8274052394957\t\n"
      ]
     },
     "execution_count": 12,
     "metadata": {},
     "output_type": "execute_result"
    },
    {
     "data": {
      "text/plain": [
       "current loss = 1.8272889330759\t\n",
       "current loss = 1.8271726888704\t\n",
       "current loss = 1.8270565068291\t\n",
       "current loss = 1.8269403869021\t\n",
       "current loss = 1.8268243290398\t\n",
       "current loss = 1.8267083331924\t\n"
      ]
     },
     "execution_count": 12,
     "metadata": {},
     "output_type": "execute_result"
    },
    {
     "data": {
      "text/plain": [
       "current loss = 1.82659239931\t\n",
       "current loss = 1.8264765273432\t\n",
       "current loss = 1.8263607172423\t\n",
       "current loss = 1.8262449689577\t\n",
       "current loss = 1.82612928244\t\n"
      ]
     },
     "execution_count": 12,
     "metadata": {},
     "output_type": "execute_result"
    },
    {
     "data": {
      "text/plain": [
       "current loss = 1.8260136576397\t\n",
       "current loss = 1.8258980945075\t\n",
       "current loss = 1.8257825929939\t\n",
       "current loss = 1.8256671530498\t\n",
       "current loss = 1.8255517746258\t\n",
       "current loss = 1.8254364576728\t\n"
      ]
     },
     "execution_count": 12,
     "metadata": {},
     "output_type": "execute_result"
    },
    {
     "data": {
      "text/plain": [
       "current loss = 1.8253212021417\t\n",
       "current loss = 1.8252060079833\t\n",
       "current loss = 1.8250908751487\t\n"
      ]
     },
     "execution_count": 12,
     "metadata": {},
     "output_type": "execute_result"
    },
    {
     "data": {
      "text/plain": [
       "current loss = 1.8249758035888\t\n",
       "current loss = 1.8248607932547\t\n",
       "current loss = 1.8247458440977\t\n"
      ]
     },
     "execution_count": 12,
     "metadata": {},
     "output_type": "execute_result"
    },
    {
     "data": {
      "text/plain": [
       "current loss = 1.8246309560687\t\n",
       "current loss = 1.8245161291191\t\n",
       "current loss = 1.8244013632001\t\n",
       "current loss = 1.8242866582631\t\n",
       "current loss = 1.8241720142594\t\n"
      ]
     },
     "execution_count": 12,
     "metadata": {},
     "output_type": "execute_result"
    },
    {
     "data": {
      "text/plain": [
       "current loss = 1.8240574311404\t\n",
       "current loss = 1.8239429088577\t\n",
       "current loss = 1.8238284473627\t\n",
       "current loss = 1.8237140466071\t\n",
       "current loss = 1.8235997065424\t\n"
      ]
     },
     "execution_count": 12,
     "metadata": {},
     "output_type": "execute_result"
    },
    {
     "data": {
      "text/plain": [
       "current loss = 1.8234854271203\t\n",
       "current loss = 1.8233712082927\t\n",
       "current loss = 1.8232570500111\t\n"
      ]
     },
     "execution_count": 12,
     "metadata": {},
     "output_type": "execute_result"
    },
    {
     "data": {
      "text/plain": [
       "current loss = 1.8231429522276\t\n",
       "current loss = 1.8230289148939\t\n",
       "current loss = 1.822914937962\t\n",
       "current loss = 1.8228010213838\t\n"
      ]
     },
     "execution_count": 12,
     "metadata": {},
     "output_type": "execute_result"
    },
    {
     "data": {
      "text/plain": [
       "current loss = 1.8226871651114\t\n",
       "current loss = 1.8225733690969\t\n",
       "current loss = 1.8224596332924\t\n",
       "current loss = 1.8223459576501\t\n",
       "current loss = 1.8222323421221\t\n"
      ]
     },
     "execution_count": 12,
     "metadata": {},
     "output_type": "execute_result"
    },
    {
     "data": {
      "text/plain": [
       "current loss = 1.8221187866608\t\n",
       "current loss = 1.8220052912185\t\n",
       "current loss = 1.8218918557476\t\n",
       "current loss = 1.8217784802004\t\n",
       "current loss = 1.8216651645296\t\n",
       "current loss = 1.8215519086874\t\n"
      ]
     },
     "execution_count": 12,
     "metadata": {},
     "output_type": "execute_result"
    },
    {
     "data": {
      "text/plain": [
       "current loss = 1.8214387126267\t\n",
       "current loss = 1.8213255763\t\n",
       "current loss = 1.8212124996599\t\n",
       "current loss = 1.8210994826591\t\n",
       "current loss = 1.8209865252505\t\n",
       "current loss = 1.8208736273869\t\n"
      ]
     },
     "execution_count": 12,
     "metadata": {},
     "output_type": "execute_result"
    },
    {
     "data": {
      "text/plain": [
       "current loss = 1.820760789021\t\n",
       "current loss = 1.8206480101059\t\n",
       "current loss = 1.8205352905944\t\n",
       "current loss = 1.8204226304397\t\n",
       "current loss = 1.8203100295947\t\n",
       "current loss = 1.8201974880126\t\n"
      ]
     },
     "execution_count": 12,
     "metadata": {},
     "output_type": "execute_result"
    },
    {
     "data": {
      "text/plain": [
       "current loss = 1.8200850056465\t\n",
       "current loss = 1.8199725824496\t\n",
       "current loss = 1.8198602183752\t\n",
       "current loss = 1.8197479133765\t\n",
       "current loss = 1.819635667407\t\n",
       "current loss = 1.81952348042\t\n"
      ]
     },
     "execution_count": 12,
     "metadata": {},
     "output_type": "execute_result"
    },
    {
     "data": {
      "text/plain": [
       "current loss = 1.819411352369\t\n",
       "current loss = 1.8192992832074\t\n",
       "current loss = 1.8191872728888\t\n",
       "current loss = 1.8190753213668\t\n",
       "current loss = 1.818963428595\t\n",
       "current loss = 1.8188515945271\t\n"
      ]
     },
     "execution_count": 12,
     "metadata": {},
     "output_type": "execute_result"
    },
    {
     "data": {
      "text/plain": [
       "current loss = 1.8187398191168\t\n",
       "current loss = 1.818628102318\t\n",
       "current loss = 1.8185164440844\t\n",
       "current loss = 1.8184048443699\t\n"
      ]
     },
     "execution_count": 12,
     "metadata": {},
     "output_type": "execute_result"
    },
    {
     "data": {
      "text/plain": [
       "current loss = 1.8182933031284\t\n",
       "current loss = 1.818181820314\t\n",
       "current loss = 1.8180703958805\t\n",
       "current loss = 1.8179590297821\t\n",
       "current loss = 1.8178477219729\t\n"
      ]
     },
     "execution_count": 12,
     "metadata": {},
     "output_type": "execute_result"
    },
    {
     "data": {
      "text/plain": [
       "current loss = 1.8177364724071\t\n",
       "current loss = 1.8176252810388\t\n",
       "current loss = 1.8175141478223\t\n",
       "current loss = 1.8174030727119\t\n",
       "current loss = 1.8172920556619\t\n",
       "current loss = 1.8171810966268\t\n"
      ]
     },
     "execution_count": 12,
     "metadata": {},
     "output_type": "execute_result"
    },
    {
     "data": {
      "text/plain": [
       "current loss = 1.8170701955609\t\n",
       "current loss = 1.8169593524188\t\n",
       "current loss = 1.816848567155\t\n",
       "current loss = 1.816737839724\t\n",
       "current loss = 1.8166271700806\t\n"
      ]
     },
     "execution_count": 12,
     "metadata": {},
     "output_type": "execute_result"
    },
    {
     "data": {
      "text/plain": [
       "current loss = 1.8165165581793\t\n",
       "current loss = 1.8164060039748\t\n",
       "current loss = 1.8162955074221\t\n",
       "current loss = 1.8161850684757\t\n"
      ]
     },
     "execution_count": 12,
     "metadata": {},
     "output_type": "execute_result"
    },
    {
     "data": {
      "text/plain": [
       "current loss = 1.8160746870907\t\n",
       "current loss = 1.8159643632219\t\n",
       "current loss = 1.8158540968243\t\n",
       "current loss = 1.8157438878528\t\n"
      ]
     },
     "execution_count": 12,
     "metadata": {},
     "output_type": "execute_result"
    },
    {
     "data": {
      "text/plain": [
       "current loss = 1.8156337362625\t\n",
       "current loss = 1.8155236420085\t\n",
       "current loss = 1.8154136050459\t\n",
       "current loss = 1.81530362533\t\n"
      ]
     },
     "execution_count": 12,
     "metadata": {},
     "output_type": "execute_result"
    },
    {
     "data": {
      "text/plain": [
       "current loss = 1.8151937028158\t\n",
       "current loss = 1.8150838374587\t\n",
       "current loss = 1.8149740292141\t\n",
       "current loss = 1.8148642780371\t\n"
      ]
     },
     "execution_count": 12,
     "metadata": {},
     "output_type": "execute_result"
    },
    {
     "data": {
      "text/plain": [
       "current loss = 1.8147545838834\t\n",
       "current loss = 1.8146449467083\t\n",
       "current loss = 1.8145353664673\t\n",
       "current loss = 1.814425843116\t\n",
       "current loss = 1.8143163766099\t\n",
       "current loss = 1.8142069669048\t\n"
      ]
     },
     "execution_count": 12,
     "metadata": {},
     "output_type": "execute_result"
    },
    {
     "data": {
      "text/plain": [
       "current loss = 1.8140976139561\t\n",
       "current loss = 1.8139883177198\t\n",
       "current loss = 1.8138790781515\t\n",
       "current loss = 1.8137698952072\t\n",
       "current loss = 1.8136607688425\t\n",
       "current loss = 1.8135516990135\t\n"
      ]
     },
     "execution_count": 12,
     "metadata": {},
     "output_type": "execute_result"
    },
    {
     "data": {
      "text/plain": [
       "current loss = 1.813442685676\t\n",
       "current loss = 1.8133337287862\t\n",
       "current loss = 1.8132248282999\t\n",
       "current loss = 1.8131159841734\t\n",
       "current loss = 1.8130071963627\t\n"
      ]
     },
     "execution_count": 12,
     "metadata": {},
     "output_type": "execute_result"
    },
    {
     "data": {
      "text/plain": [
       "current loss = 1.812898464824\t\n",
       "current loss = 1.8127897895135\t\n",
       "current loss = 1.8126811703875\t\n",
       "current loss = 1.8125726074022\t\n",
       "current loss = 1.8124641005141\t\n"
      ]
     },
     "execution_count": 12,
     "metadata": {},
     "output_type": "execute_result"
    },
    {
     "data": {
      "text/plain": [
       "current loss = 1.8123556496796\t\n",
       "current loss = 1.812247254855\t\n",
       "current loss = 1.8121389159968\t\n"
      ]
     },
     "execution_count": 12,
     "metadata": {},
     "output_type": "execute_result"
    },
    {
     "data": {
      "text/plain": [
       "current loss = 1.8120306330617\t\n",
       "current loss = 1.811922406006\t\n"
      ]
     },
     "execution_count": 12,
     "metadata": {},
     "output_type": "execute_result"
    },
    {
     "data": {
      "text/plain": [
       "current loss = 1.8118142347866\t\n"
      ]
     },
     "execution_count": 12,
     "metadata": {},
     "output_type": "execute_result"
    },
    {
     "data": {
      "text/plain": [
       "current loss = 1.81170611936\t\n"
      ]
     },
     "execution_count": 12,
     "metadata": {},
     "output_type": "execute_result"
    },
    {
     "data": {
      "text/plain": [
       "current loss = 1.8115980596829\t\n"
      ]
     },
     "execution_count": 12,
     "metadata": {},
     "output_type": "execute_result"
    },
    {
     "data": {
      "text/plain": [
       "current loss = 1.811490055712\t\n"
      ]
     },
     "execution_count": 12,
     "metadata": {},
     "output_type": "execute_result"
    },
    {
     "data": {
      "text/plain": [
       "current loss = 1.8113821074043\t\n"
      ]
     },
     "execution_count": 12,
     "metadata": {},
     "output_type": "execute_result"
    },
    {
     "data": {
      "text/plain": [
       "current loss = 1.8112742147164\t\n"
      ]
     },
     "execution_count": 12,
     "metadata": {},
     "output_type": "execute_result"
    },
    {
     "data": {
      "text/plain": [
       "current loss = 1.8111663776053\t\n"
      ]
     },
     "execution_count": 12,
     "metadata": {},
     "output_type": "execute_result"
    },
    {
     "data": {
      "text/plain": [
       "current loss = 1.8110585960279\t\n"
      ]
     },
     "execution_count": 12,
     "metadata": {},
     "output_type": "execute_result"
    },
    {
     "data": {
      "text/plain": [
       "current loss = 1.8109508699412\t\n"
      ]
     },
     "execution_count": 12,
     "metadata": {},
     "output_type": "execute_result"
    },
    {
     "data": {
      "text/plain": [
       "current loss = 1.8108431993022\t\n"
      ]
     },
     "execution_count": 12,
     "metadata": {},
     "output_type": "execute_result"
    },
    {
     "data": {
      "text/plain": [
       "current loss = 1.8107355840679\t\n",
       "current loss = 1.8106280241954\t\n",
       "current loss = 1.8105205196418\t\n"
      ]
     },
     "execution_count": 12,
     "metadata": {},
     "output_type": "execute_result"
    },
    {
     "data": {
      "text/plain": [
       "current loss = 1.8104130703645\t\n",
       "current loss = 1.8103056763205\t\n",
       "current loss = 1.8101983374671\t\n"
      ]
     },
     "execution_count": 12,
     "metadata": {},
     "output_type": "execute_result"
    },
    {
     "data": {
      "text/plain": [
       "current loss = 1.8100910537617\t\n"
      ]
     },
     "execution_count": 12,
     "metadata": {},
     "output_type": "execute_result"
    },
    {
     "data": {
      "text/plain": [
       "current loss = 1.8099838251616\t\n",
       "current loss = 1.8098766516242\t\n",
       "current loss = 1.809769533107\t\n"
      ]
     },
     "execution_count": 12,
     "metadata": {},
     "output_type": "execute_result"
    },
    {
     "data": {
      "text/plain": [
       "current loss = 1.8096624695674\t\n",
       "current loss = 1.809555460963\t\n",
       "current loss = 1.8094485072513\t\n",
       "current loss = 1.8093416083899\t\n",
       "current loss = 1.8092347643366\t\n"
      ]
     },
     "execution_count": 12,
     "metadata": {},
     "output_type": "execute_result"
    },
    {
     "data": {
      "text/plain": [
       "current loss = 1.809127975049\t\n",
       "current loss = 1.8090212404848\t\n",
       "current loss = 1.8089145606018\t\n",
       "current loss = 1.8088079353579\t\n",
       "current loss = 1.808701364711\t\n",
       "current loss = 1.8085948486188\t"
      ]
     },
     "execution_count": 12,
     "metadata": {},
     "output_type": "execute_result"
    },
    {
     "data": {
      "text/plain": [
       "\n",
       "current loss = 1.8084883870395\t\n",
       "current loss = 1.8083819799309\t\n",
       "current loss = 1.8082756272512\t\n",
       "current loss = 1.8081693289584\t\n",
       "current loss = 1.8080630850106\t\n"
      ]
     },
     "execution_count": 12,
     "metadata": {},
     "output_type": "execute_result"
    },
    {
     "data": {
      "text/plain": [
       "current loss = 1.807956895366\t\n",
       "current loss = 1.8078507599828\t\n",
       "current loss = 1.8077446788193\t\n",
       "current loss = 1.8076386518337\t\n",
       "current loss = 1.8075326789844\t\n",
       "current loss = 1.8074267602297\t"
      ]
     },
     "execution_count": 12,
     "metadata": {},
     "output_type": "execute_result"
    },
    {
     "data": {
      "text/plain": [
       "\n",
       "current loss = 1.8073208955281\t\n",
       "current loss = 1.8072150848381\t\n",
       "current loss = 1.8071093281181\t\n",
       "current loss = 1.8070036253266\t\n",
       "current loss = 1.8068979764223\t\n",
       "current loss = 1.8067923813638\t\n",
       "current loss = 1.8066868401098\t\n"
      ]
     },
     "execution_count": 12,
     "metadata": {},
     "output_type": "execute_result"
    },
    {
     "data": {
      "text/plain": [
       "current loss = 1.8065813526189\t\n",
       "current loss = 1.8064759188499\t\n",
       "current loss = 1.8063705387616\t\n",
       "current loss = 1.8062652123128\t\n",
       "current loss = 1.8061599394625\t\n",
       "current loss = 1.8060547201694\t\n",
       "current loss = 1.8059495543927\t\n",
       "current loss = 1.8058444420912\t\n"
      ]
     },
     "execution_count": 12,
     "metadata": {},
     "output_type": "execute_result"
    },
    {
     "data": {
      "text/plain": [
       "current loss = 1.805739383224\t\n",
       "current loss = 1.8056343777502\t\n",
       "current loss = 1.8055294256289\t\n",
       "current loss = 1.8054245268193\t\n",
       "current loss = 1.8053196812806\t\n",
       "current loss = 1.805214888972\t\n",
       "current loss = 1.8051101498528\t\n"
      ]
     },
     "execution_count": 12,
     "metadata": {},
     "output_type": "execute_result"
    },
    {
     "data": {
      "text/plain": [
       "current loss = 1.8050054638824\t\n",
       "current loss = 1.80490083102\t\n",
       "current loss = 1.8047962512251\t\n"
      ]
     },
     "execution_count": 12,
     "metadata": {},
     "output_type": "execute_result"
    },
    {
     "data": {
      "text/plain": [
       "current loss = 1.8046917244572\t\n",
       "current loss = 1.8045872506757\t\n",
       "current loss = 1.8044828298401\t\n",
       "current loss = 1.8043784619101\t\n",
       "current loss = 1.8042741468452\t\n"
      ]
     },
     "execution_count": 12,
     "metadata": {},
     "output_type": "execute_result"
    },
    {
     "data": {
      "text/plain": [
       "current loss = 1.8041698846051\t\n",
       "current loss = 1.8040656751495\t\n",
       "current loss = 1.8039615184381\t\n",
       "current loss = 1.8038574144306\t\n",
       "current loss = 1.8037533630869\t\n",
       "current loss = 1.8036493643669\t\n"
      ]
     },
     "execution_count": 12,
     "metadata": {},
     "output_type": "execute_result"
    },
    {
     "data": {
      "text/plain": [
       "current loss = 1.8035454182304\t\n",
       "current loss = 1.8034415246373\t\n",
       "current loss = 1.8033376835476\t\n",
       "current loss = 1.8032338949214\t\n",
       "current loss = 1.8031301587186\t\n",
       "current loss = 1.8030264748994\t\n",
       "current loss = 1.8029228434239\t\n",
       "current loss = 1.8028192642523\t\n"
      ]
     },
     "execution_count": 12,
     "metadata": {},
     "output_type": "execute_result"
    },
    {
     "data": {
      "text/plain": [
       "current loss = 1.8027157373447\t\n",
       "current loss = 1.8026122626615\t\n",
       "current loss = 1.8025088401628\t\n",
       "current loss = 1.8024054698091\t\n",
       "current loss = 1.8023021515607\t\n",
       "current loss = 1.802198885378\t\n",
       "current loss = 1.8020956712214\t\n",
       "current loss = 1.8019925090514\t\n"
      ]
     },
     "execution_count": 12,
     "metadata": {},
     "output_type": "execute_result"
    },
    {
     "data": {
      "text/plain": [
       "current loss = 1.8018893988287\t\n",
       "current loss = 1.8017863405136\t\n",
       "current loss = 1.8016833340669\t\n",
       "current loss = 1.8015803794491\t\n",
       "current loss = 1.8014774766209\t\n",
       "current loss = 1.8013746255431\t\n",
       "current loss = 1.8012718261765\t\n"
      ]
     },
     "execution_count": 12,
     "metadata": {},
     "output_type": "execute_result"
    },
    {
     "data": {
      "text/plain": [
       "current loss = 1.8011690784817\t\n",
       "current loss = 1.8010663824197\t\n",
       "current loss = 1.8009637379513\t\n",
       "current loss = 1.8008611450375\t\n"
      ]
     },
     "execution_count": 12,
     "metadata": {},
     "output_type": "execute_result"
    },
    {
     "data": {
      "text/plain": [
       "current loss = 1.8007586036391\t\n",
       "current loss = 1.8006561137172\t\n",
       "current loss = 1.8005536752329\t\n",
       "current loss = 1.8004512881471\t\n",
       "current loss = 1.800348952421\t\n",
       "current loss = 1.8002466680157\t\n"
      ]
     },
     "execution_count": 12,
     "metadata": {},
     "output_type": "execute_result"
    },
    {
     "data": {
      "text/plain": [
       "current loss = 1.8001444348924\t\n",
       "current loss = 1.8000422530124\t\n",
       "current loss = 1.7999401223369\t\n",
       "current loss = 1.7998380428272\t\n",
       "current loss = 1.7997360144446\t\n",
       "current loss = 1.7996340371505\t\n",
       "current loss = 1.7995321109063\t\n",
       "current loss = 1.7994302356735\t\n"
      ]
     },
     "execution_count": 12,
     "metadata": {},
     "output_type": "execute_result"
    },
    {
     "data": {
      "text/plain": [
       "current loss = 1.7993284114136\t\n",
       "current loss = 1.7992266380881\t\n",
       "current loss = 1.7991249156585\t\n",
       "current loss = 1.7990232440865\t\n",
       "current loss = 1.7989216233336\t\n",
       "current loss = 1.7988200533617\t\n",
       "current loss = 1.7987185341324\t\n",
       "current loss = 1.7986170656074\t\n"
      ]
     },
     "execution_count": 12,
     "metadata": {},
     "output_type": "execute_result"
    },
    {
     "data": {
      "text/plain": [
       "current loss = 1.7985156477485\t\n",
       "current loss = 1.7984142805177\t\n",
       "current loss = 1.7983129638767\t\n",
       "current loss = 1.7982116977874\t\n",
       "current loss = 1.7981104822118\t\n",
       "current loss = 1.7980093171119\t\n",
       "current loss = 1.7979082024497\t\n",
       "current loss = 1.7978071381873\t\n"
      ]
     },
     "execution_count": 12,
     "metadata": {},
     "output_type": "execute_result"
    },
    {
     "data": {
      "text/plain": [
       "current loss = 1.7977061242866\t\n",
       "current loss = 1.79760516071\t\n",
       "current loss = 1.7975042474195\t\n",
       "current loss = 1.7974033843773\t\n",
       "current loss = 1.7973025715458\t\n",
       "current loss = 1.7972018088871\t\n",
       "current loss = 1.7971010963635\t\n"
      ]
     },
     "execution_count": 12,
     "metadata": {},
     "output_type": "execute_result"
    },
    {
     "data": {
      "text/plain": [
       "current loss = 1.7970004339376\t\n",
       "current loss = 1.7968998215715\t\n",
       "current loss = 1.7967992592278\t\n",
       "current loss = 1.7966987468689\t\n"
      ]
     },
     "execution_count": 12,
     "metadata": {},
     "output_type": "execute_result"
    },
    {
     "data": {
      "text/plain": [
       "current loss = 1.7965982844573\t\n",
       "current loss = 1.7964978719556\t\n",
       "current loss = 1.7963975093264\t\n",
       "current loss = 1.7962971965321\t\n",
       "current loss = 1.7961969335356\t\n",
       "current loss = 1.7960967202994\t\n"
      ]
     },
     "execution_count": 12,
     "metadata": {},
     "output_type": "execute_result"
    },
    {
     "data": {
      "text/plain": [
       "current loss = 1.7959965567864\t\n",
       "current loss = 1.7958964429591\t\n",
       "current loss = 1.7957963787806\t\n",
       "current loss = 1.7956963642135\t\n",
       "current loss = 1.7955963992208\t\n",
       "current loss = 1.7954964837653\t\n"
      ]
     },
     "execution_count": 12,
     "metadata": {},
     "output_type": "execute_result"
    },
    {
     "data": {
      "text/plain": [
       "current loss = 1.79539661781\t\n",
       "current loss = 1.7952968013179\t\n",
       "current loss = 1.795197034252\t\n",
       "current loss = 1.7950973165753\t\n",
       "current loss = 1.7949976482509\t\n",
       "current loss = 1.794898029242\t\n",
       "current loss = 1.7947984595117\t\n",
       "current loss = 1.7946989390231\t\n"
      ]
     },
     "execution_count": 12,
     "metadata": {},
     "output_type": "execute_result"
    },
    {
     "data": {
      "text/plain": [
       "current loss = 1.7945994677396\t\n",
       "current loss = 1.7945000456244\t\n",
       "current loss = 1.7944006726407\t\n",
       "current loss = 1.794301348752\t\n",
       "current loss = 1.7942020739215\t\n",
       "current loss = 1.7941028481128\t\n",
       "current loss = 1.7940036712892\t\n",
       "current loss = 1.7939045434143\t\n"
      ]
     },
     "execution_count": 12,
     "metadata": {},
     "output_type": "execute_result"
    },
    {
     "data": {
      "text/plain": [
       "current loss = 1.7938054644515\t\n",
       "current loss = 1.7937064343644\t\n",
       "current loss = 1.7936074531166\t\n",
       "current loss = 1.7935085206717\t\n",
       "current loss = 1.7934096369934\t\n",
       "current loss = 1.7933108020453\t\n",
       "current loss = 1.7932120157912\t\n"
      ]
     },
     "execution_count": 12,
     "metadata": {},
     "output_type": "execute_result"
    },
    {
     "data": {
      "text/plain": [
       "current loss = 1.7931132781949\t\n",
       "current loss = 1.7930145892201\t\n",
       "current loss = 1.7929159488308\t\n",
       "current loss = 1.7928173569907\t\n",
       "current loss = 1.7927188136637\t\n",
       "current loss = 1.7926203188139\t\n"
      ]
     },
     "execution_count": 12,
     "metadata": {},
     "output_type": "execute_result"
    },
    {
     "data": {
      "text/plain": [
       "current loss = 1.7925218724051\t\n",
       "current loss = 1.7924234744015\t\n",
       "current loss = 1.792325124767\t\n",
       "current loss = 1.7922268234657\t\n",
       "current loss = 1.7921285704617\t\n",
       "current loss = 1.7920303657192\t\n",
       "current loss = 1.7919322092024\t\n"
      ]
     },
     "execution_count": 12,
     "metadata": {},
     "output_type": "execute_result"
    },
    {
     "data": {
      "text/plain": [
       "current loss = 1.7918341008755\t\n",
       "current loss = 1.7917360407028\t\n",
       "current loss = 1.7916380286485\t\n",
       "current loss = 1.7915400646769\t\n",
       "current loss = 1.7914421487525\t\n",
       "current loss = 1.7913442808396\t\n",
       "current loss = 1.7912464609027\t\n"
      ]
     },
     "execution_count": 12,
     "metadata": {},
     "output_type": "execute_result"
    },
    {
     "data": {
      "text/plain": [
       "current loss = 1.7911486889061\t\n",
       "current loss = 1.7910509648145\t\n",
       "current loss = 1.7909532885923\t\n",
       "current loss = 1.7908556602041\t\n",
       "current loss = 1.7907580796145\t\n",
       "current loss = 1.7906605467882\t\n",
       "current loss = 1.7905630616898\t\n",
       "current loss = 1.790465624284\t\n"
      ]
     },
     "execution_count": 12,
     "metadata": {},
     "output_type": "execute_result"
    },
    {
     "data": {
      "text/plain": [
       "current loss = 1.7903682345355\t\n",
       "current loss = 1.7902708924092\t\n",
       "current loss = 1.7901735978698\t\n",
       "current loss = 1.7900763508822\t\n",
       "current loss = 1.7899791514113\t\n",
       "current loss = 1.7898819994219\t\n",
       "current loss = 1.7897848948789\t\n",
       "current loss = 1.7896878377475\t\n"
      ]
     },
     "execution_count": 12,
     "metadata": {},
     "output_type": "execute_result"
    },
    {
     "data": {
      "text/plain": [
       "current loss = 1.7895908279926\t\n",
       "current loss = 1.7894938655792\t\n",
       "current loss = 1.7893969504724\t\n",
       "current loss = 1.7893000826373\t\n",
       "current loss = 1.7892032620391\t\n",
       "current loss = 1.7891064886429\t\n",
       "current loss = 1.789009762414\t\n"
      ]
     },
     "execution_count": 12,
     "metadata": {},
     "output_type": "execute_result"
    },
    {
     "data": {
      "text/plain": [
       "current loss = 1.7889130833176\t\n",
       "current loss = 1.788816451319\t\n",
       "current loss = 1.7887198663835\t\n",
       "current loss = 1.7886233284764\t\n",
       "current loss = 1.7885268375632\t\n",
       "current loss = 1.7884303936092\t\n",
       "current loss = 1.7883339965799\t\n",
       "current loss = 1.7882376464407\t\n"
      ]
     },
     "execution_count": 12,
     "metadata": {},
     "output_type": "execute_result"
    },
    {
     "data": {
      "text/plain": [
       "current loss = 1.7881413431573\t\n",
       "current loss = 1.788045086695\t\n",
       "current loss = 1.7879488770196\t\n",
       "current loss = 1.7878527140966\t\n",
       "current loss = 1.7877565978917\t\n"
      ]
     },
     "execution_count": 12,
     "metadata": {},
     "output_type": "execute_result"
    },
    {
     "data": {
      "text/plain": [
       "current loss = 1.7876605283705\t\n",
       "current loss = 1.7875645054988\t\n",
       "current loss = 1.7874685292423\t\n",
       "current loss = 1.7873725995668\t\n"
      ]
     },
     "execution_count": 12,
     "metadata": {},
     "output_type": "execute_result"
    },
    {
     "data": {
      "text/plain": [
       "current loss = 1.7872767164381\t\n",
       "current loss = 1.787180879822\t\n",
       "current loss = 1.7870850896845\t\n",
       "current loss = 1.7869893459913\t\n",
       "current loss = 1.7868936487086\t\n",
       "current loss = 1.7867979978022\t\n",
       "current loss = 1.7867023932382\t\n"
      ]
     },
     "execution_count": 12,
     "metadata": {},
     "output_type": "execute_result"
    },
    {
     "data": {
      "text/plain": [
       "current loss = 1.7866068349826\t\n",
       "current loss = 1.7865113230014\t\n",
       "current loss = 1.7864158572609\t\n",
       "current loss = 1.786320437727\t\n",
       "current loss = 1.7862250643661\t\n",
       "current loss = 1.7861297371443\t\n",
       "current loss = 1.7860344560278\t\n",
       "current loss = 1.7859392209829\t\n"
      ]
     },
     "execution_count": 12,
     "metadata": {},
     "output_type": "execute_result"
    },
    {
     "data": {
      "text/plain": [
       "current loss = 1.7858440319759\t\n",
       "current loss = 1.7857488889731\t\n",
       "current loss = 1.785653791941\t\n",
       "current loss = 1.7855587408458\t\n",
       "current loss = 1.7854637356541\t\n",
       "current loss = 1.7853687763323\t\n"
      ]
     },
     "execution_count": 12,
     "metadata": {},
     "output_type": "execute_result"
    },
    {
     "data": {
      "text/plain": [
       "current loss = 1.7852738628469\t\n",
       "current loss = 1.7851789951644\t\n",
       "current loss = 1.7850841732514\t\n",
       "current loss = 1.7849893970745\t\n",
       "current loss = 1.7848946666002\t\n"
      ]
     },
     "execution_count": 12,
     "metadata": {},
     "output_type": "execute_result"
    },
    {
     "data": {
      "text/plain": [
       "current loss = 1.7847999817953\t\n",
       "current loss = 1.7847053426265\t\n",
       "current loss = 1.7846107490604\t\n",
       "current loss = 1.7845162010638\t\n"
      ]
     },
     "execution_count": 12,
     "metadata": {},
     "output_type": "execute_result"
    },
    {
     "data": {
      "text/plain": [
       "current loss = 1.7844216986035\t\n",
       "current loss = 1.7843272416463\t\n",
       "current loss = 1.784232830159\t\n",
       "current loss = 1.7841384641086\t\n",
       "current loss = 1.7840441434619\t\n",
       "current loss = 1.7839498681859\t\n",
       "current loss = 1.7838556382475\t\n"
      ]
     },
     "execution_count": 12,
     "metadata": {},
     "output_type": "execute_result"
    },
    {
     "data": {
      "text/plain": [
       "current loss = 1.7837614536138\t\n",
       "current loss = 1.7836673142518\t\n",
       "current loss = 1.7835732201285\t\n",
       "current loss = 1.7834791712111\t\n",
       "current loss = 1.7833851674667\t\n",
       "current loss = 1.7832912088624\t\n",
       "current loss = 1.7831972953655\t\n"
      ]
     },
     "execution_count": 12,
     "metadata": {},
     "output_type": "execute_result"
    },
    {
     "data": {
      "text/plain": [
       "current loss = 1.7831034269431\t\n",
       "current loss = 1.7830096035626\t\n",
       "current loss = 1.7829158251911\t\n",
       "current loss = 1.7828220917961\t\n",
       "current loss = 1.7827284033449\t\n",
       "current loss = 1.7826347598048\t\n",
       "current loss = 1.7825411611433\t\n",
       "current loss = 1.7824476073277\t\n"
      ]
     },
     "execution_count": 12,
     "metadata": {},
     "output_type": "execute_result"
    },
    {
     "data": {
      "text/plain": [
       "current loss = 1.7823540983257\t\n",
       "current loss = 1.7822606341046\t\n",
       "current loss = 1.7821672146321\t\n",
       "current loss = 1.7820738398756\t\n",
       "current loss = 1.7819805098028\t\n",
       "current loss = 1.7818872243814\t\n"
      ]
     },
     "execution_count": 12,
     "metadata": {},
     "output_type": "execute_result"
    },
    {
     "data": {
      "text/plain": [
       "current loss = 1.7817939835789\t\n",
       "current loss = 1.781700787363\t\n",
       "current loss = 1.7816076357016\t\n",
       "current loss = 1.7815145285622\t\n",
       "current loss = 1.7814214659128\t\n",
       "current loss = 1.7813284477211\t\n",
       "current loss = 1.7812354739549\t\n",
       "current loss = 1.7811425445822\t\n"
      ]
     },
     "execution_count": 12,
     "metadata": {},
     "output_type": "execute_result"
    },
    {
     "data": {
      "text/plain": [
       "current loss = 1.7810496595708\t\n",
       "current loss = 1.7809568188887\t\n",
       "current loss = 1.7808640225038\t\n",
       "current loss = 1.7807712703842\t\n",
       "current loss = 1.7806785624978\t\n",
       "current loss = 1.7805858988127\t\n"
      ]
     },
     "execution_count": 12,
     "metadata": {},
     "output_type": "execute_result"
    },
    {
     "data": {
      "text/plain": [
       "current loss = 1.780493279297\t\n",
       "current loss = 1.7804007039188\t\n",
       "current loss = 1.7803081726463\t\n",
       "current loss = 1.7802156854476\t\n"
      ]
     },
     "execution_count": 12,
     "metadata": {},
     "output_type": "execute_result"
    },
    {
     "data": {
      "text/plain": [
       "current loss = 1.780123242291\t\n",
       "current loss = 1.7800308431447\t\n",
       "current loss = 1.7799384879768\t\n",
       "current loss = 1.7798461767559\t\n",
       "current loss = 1.7797539094501\t\n"
      ]
     },
     "execution_count": 12,
     "metadata": {},
     "output_type": "execute_result"
    },
    {
     "data": {
      "text/plain": [
       "current loss = 1.7796616860278\t\n",
       "current loss = 1.7795695064574\t\n",
       "current loss = 1.7794773707074\t\n",
       "current loss = 1.7793852787461\t\n",
       "current loss = 1.7792932305421\t\n",
       "current loss = 1.7792012260639\t\n"
      ]
     },
     "execution_count": 12,
     "metadata": {},
     "output_type": "execute_result"
    },
    {
     "data": {
      "text/plain": [
       "current loss = 1.7791092652799\t\n",
       "current loss = 1.7790173481588\t\n",
       "current loss = 1.7789254746692\t\n",
       "current loss = 1.7788336447796\t\n",
       "current loss = 1.7787418584588\t\n",
       "current loss = 1.7786501156754\t\n"
      ]
     },
     "execution_count": 12,
     "metadata": {},
     "output_type": "execute_result"
    },
    {
     "data": {
      "text/plain": [
       "current loss = 1.7785584163981\t\n",
       "current loss = 1.7784667605957\t\n",
       "current loss = 1.7783751482369\t\n",
       "current loss = 1.7782835792906\t\n"
      ]
     },
     "execution_count": 12,
     "metadata": {},
     "output_type": "execute_result"
    },
    {
     "data": {
      "text/plain": [
       "current loss = 1.7781920537256\t\n",
       "current loss = 1.7781005715107\t\n",
       "current loss = 1.7780091326149\t\n",
       "current loss = 1.777917737007\t\n",
       "current loss = 1.777826384656\t\n",
       "current loss = 1.7777350755309\t\n"
      ]
     },
     "execution_count": 12,
     "metadata": {},
     "output_type": "execute_result"
    },
    {
     "data": {
      "text/plain": [
       "current loss = 1.7776438096006\t\n",
       "current loss = 1.7775525868343\t\n",
       "current loss = 1.777461407201\t\n",
       "current loss = 1.7773702706698\t\n",
       "current loss = 1.7772791772098\t\n",
       "current loss = 1.7771881267902\t\n"
      ]
     },
     "execution_count": 12,
     "metadata": {},
     "output_type": "execute_result"
    },
    {
     "data": {
      "text/plain": [
       "current loss = 1.7770971193801\t\n",
       "current loss = 1.7770061549487\t\n",
       "current loss = 1.7769152334654\t\n",
       "current loss = 1.7768243548993\t\n",
       "current loss = 1.7767335192198\t\n",
       "current loss = 1.7766427263962\t\n",
       "current loss = 1.7765519763978\t\n"
      ]
     },
     "execution_count": 12,
     "metadata": {},
     "output_type": "execute_result"
    },
    {
     "data": {
      "text/plain": [
       "current loss = 1.7764612691941\t\n",
       "current loss = 1.7763706047544\t\n",
       "current loss = 1.7762799830482\t\n",
       "current loss = 1.7761894040449\t\n",
       "current loss = 1.7760988677141\t\n",
       "current loss = 1.7760083740253\t\n",
       "current loss = 1.7759179229481\t\n"
      ]
     },
     "execution_count": 12,
     "metadata": {},
     "output_type": "execute_result"
    },
    {
     "data": {
      "text/plain": [
       "current loss = 1.7758275144519\t\n",
       "current loss = 1.7757371485065\t\n",
       "current loss = 1.7756468250815\t\n",
       "current loss = 1.7755565441465\t\n",
       "current loss = 1.7754663056713\t\n",
       "current loss = 1.7753761096256\t\n"
      ]
     },
     "execution_count": 12,
     "metadata": {},
     "output_type": "execute_result"
    },
    {
     "data": {
      "text/plain": [
       "current loss = 1.7752859559791\t\n",
       "current loss = 1.7751958447016\t\n",
       "current loss = 1.775105775763\t\n",
       "current loss = 1.775015749133\t\n",
       "current loss = 1.7749257647815\t\n",
       "current loss = 1.7748358226786\t\n",
       "current loss = 1.7747459227939\t\n"
      ]
     },
     "execution_count": 12,
     "metadata": {},
     "output_type": "execute_result"
    },
    {
     "data": {
      "text/plain": [
       "current loss = 1.7746560650976\t\n",
       "current loss = 1.7745662495596\t\n",
       "current loss = 1.7744764761499\t\n",
       "current loss = 1.7743867448385\t\n",
       "current loss = 1.7742970555956\t\n",
       "current loss = 1.7742074083912\t\n",
       "current loss = 1.7741178031953\t\n"
      ]
     },
     "execution_count": 12,
     "metadata": {},
     "output_type": "execute_result"
    },
    {
     "data": {
      "text/plain": [
       "current loss = 1.7740282399783\t\n",
       "current loss = 1.7739387187102\t\n",
       "current loss = 1.7738492393613\t\n",
       "current loss = 1.7737598019018\t\n",
       "current loss = 1.7736704063019\t\n",
       "current loss = 1.773581052532\t\n"
      ]
     },
     "execution_count": 12,
     "metadata": {},
     "output_type": "execute_result"
    },
    {
     "data": {
      "text/plain": [
       "current loss = 1.7734917405623\t\n",
       "current loss = 1.7734024703633\t\n",
       "current loss = 1.7733132419052\t\n",
       "current loss = 1.7732240551585\t\n",
       "current loss = 1.7731349100936\t\n",
       "current loss = 1.7730458066809\t\n"
      ]
     },
     "execution_count": 12,
     "metadata": {},
     "output_type": "execute_result"
    },
    {
     "data": {
      "text/plain": [
       "current loss = 1.772956744891\t\n",
       "current loss = 1.7728677246943\t\n",
       "current loss = 1.7727787460614\t\n",
       "current loss = 1.7726898089629\t\n",
       "current loss = 1.7726009133693\t\n",
       "current loss = 1.7725120592513\t\n",
       "current loss = 1.7724232465794\t\n"
      ]
     },
     "execution_count": 12,
     "metadata": {},
     "output_type": "execute_result"
    },
    {
     "data": {
      "text/plain": [
       "current loss = 1.7723344753245\t\n",
       "current loss = 1.7722457454571\t\n",
       "current loss = 1.7721570569481\t\n",
       "current loss = 1.7720684097681\t\n",
       "current loss = 1.771979803888\t\n",
       "current loss = 1.7718912392785\t\n",
       "current loss = 1.7718027159105\t\n"
      ]
     },
     "execution_count": 12,
     "metadata": {},
     "output_type": "execute_result"
    },
    {
     "data": {
      "text/plain": [
       "current loss = 1.7717142337549\t\n",
       "current loss = 1.7716257927825\t\n",
       "current loss = 1.7715373929643\t\n",
       "current loss = 1.7714490342713\t\n",
       "current loss = 1.7713607166743\t\n"
      ]
     },
     "execution_count": 12,
     "metadata": {},
     "output_type": "execute_result"
    },
    {
     "data": {
      "text/plain": [
       "current loss = 1.7712724401444\t\n",
       "current loss = 1.7711842046526\t\n",
       "current loss = 1.77109601017\t\n",
       "current loss = 1.7710078566676\t\n",
       "current loss = 1.7709197441166\t\n"
      ]
     },
     "execution_count": 12,
     "metadata": {},
     "output_type": "execute_result"
    },
    {
     "data": {
      "text/plain": [
       "current loss = 1.7708316724881\t\n",
       "current loss = 1.7707436417532\t\n",
       "current loss = 1.7706556518832\t\n",
       "current loss = 1.7705677028492\t\n"
      ]
     },
     "execution_count": 12,
     "metadata": {},
     "output_type": "execute_result"
    },
    {
     "data": {
      "text/plain": [
       "current loss = 1.7704797946225\t\n",
       "current loss = 1.7703919271743\t\n",
       "current loss = 1.7703041004761\t\n",
       "current loss = 1.770216314499\t\n",
       "current loss = 1.7701285692144\t\n"
      ]
     },
     "execution_count": 12,
     "metadata": {},
     "output_type": "execute_result"
    },
    {
     "data": {
      "text/plain": [
       "current loss = 1.7700408645937\t\n",
       "current loss = 1.7699532006082\t\n",
       "current loss = 1.7698655772296\t\n",
       "current loss = 1.769777994429\t\n"
      ]
     },
     "execution_count": 12,
     "metadata": {},
     "output_type": "execute_result"
    },
    {
     "data": {
      "text/plain": [
       "current loss = 1.7696904521782\t\n",
       "current loss = 1.7696029504485\t\n",
       "current loss = 1.7695154892114\t\n",
       "current loss = 1.7694280684386\t\n",
       "current loss = 1.7693406881017\t\n",
       "current loss = 1.7692533481722\t\n",
       "current loss = 1.7691660486218\t\n",
       "current loss = 1.7690787894221\t\n"
      ]
     },
     "execution_count": 12,
     "metadata": {},
     "output_type": "execute_result"
    },
    {
     "data": {
      "text/plain": [
       "current loss = 1.7689915705449\t\n"
      ]
     },
     "execution_count": 12,
     "metadata": {},
     "output_type": "execute_result"
    },
    {
     "data": {
      "text/plain": [
       "current loss = 1.7689043919617\t\n",
       "current loss = 1.7688172536445\t\n",
       "current loss = 1.768730155565\t\n",
       "current loss = 1.7686430976949\t\n",
       "current loss = 1.768556080006\t\n"
      ]
     },
     "execution_count": 12,
     "metadata": {},
     "output_type": "execute_result"
    },
    {
     "data": {
      "text/plain": [
       "current loss = 1.7684691024703\t\n",
       "current loss = 1.7683821650596\t\n",
       "current loss = 1.7682952677457\t\n",
       "current loss = 1.7682084105007\t\n",
       "current loss = 1.7681215932964\t\n"
      ]
     },
     "execution_count": 12,
     "metadata": {},
     "output_type": "execute_result"
    },
    {
     "data": {
      "text/plain": [
       "current loss = 1.7680348161049\t\n",
       "current loss = 1.7679480788981\t\n",
       "current loss = 1.7678613816481\t\n",
       "current loss = 1.7677747243268\t\n",
       "current loss = 1.7676881069065\t\n",
       "current loss = 1.7676015293592\t\n"
      ]
     },
     "execution_count": 12,
     "metadata": {},
     "output_type": "execute_result"
    },
    {
     "data": {
      "text/plain": [
       "current loss = 1.7675149916569\t\n",
       "current loss = 1.767428493772\t\n",
       "current loss = 1.7673420356765\t\n",
       "current loss = 1.7672556173427\t\n",
       "current loss = 1.7671692387428\t\n"
      ]
     },
     "execution_count": 12,
     "metadata": {},
     "output_type": "execute_result"
    },
    {
     "data": {
      "text/plain": [
       "current loss = 1.7670828998491\t\n",
       "current loss = 1.7669966006338\t\n",
       "current loss = 1.7669103410693\t\n",
       "current loss = 1.7668241211278\t\n",
       "current loss = 1.7667379407818\t\n",
       "current loss = 1.7666518000036\t\n"
      ]
     },
     "execution_count": 12,
     "metadata": {},
     "output_type": "execute_result"
    },
    {
     "data": {
      "text/plain": [
       "current loss = 1.7665656987657\t\n",
       "current loss = 1.7664796370404\t\n",
       "current loss = 1.7663936148003\t\n",
       "current loss = 1.7663076320178\t\n",
       "current loss = 1.7662216886654\t\n",
       "current loss = 1.7661357847157\t\n"
      ]
     },
     "execution_count": 12,
     "metadata": {},
     "output_type": "execute_result"
    },
    {
     "data": {
      "text/plain": [
       "current loss = 1.7660499201413\t\n",
       "current loss = 1.7659640949146\t\n",
       "current loss = 1.7658783090084\t\n"
      ]
     },
     "execution_count": 12,
     "metadata": {},
     "output_type": "execute_result"
    },
    {
     "data": {
      "text/plain": [
       "current loss = 1.7657925623953\t\n",
       "current loss = 1.7657068550478\t\n",
       "current loss = 1.7656211869389\t\n",
       "current loss = 1.765535558041\t\n"
      ]
     },
     "execution_count": 12,
     "metadata": {},
     "output_type": "execute_result"
    },
    {
     "data": {
      "text/plain": [
       "current loss = 1.765449968327\t\n",
       "current loss = 1.7653644177696\t\n",
       "current loss = 1.7652789063416\t\n"
      ]
     },
     "execution_count": 12,
     "metadata": {},
     "output_type": "execute_result"
    },
    {
     "data": {
      "text/plain": [
       "current loss = 1.7651934340159\t\n",
       "current loss = 1.7651080007652\t\n",
       "current loss = 1.7650226065625\t\n",
       "current loss = 1.7649372513806\t\n",
       "current loss = 1.7648519351924\t\n"
      ]
     },
     "execution_count": 12,
     "metadata": {},
     "output_type": "execute_result"
    },
    {
     "data": {
      "text/plain": [
       "current loss = 1.7647666579708\t\n",
       "current loss = 1.7646814196889\t\n",
       "current loss = 1.7645962203196\t\n",
       "current loss = 1.7645110598359\t\n",
       "current loss = 1.7644259382109\t\n",
       "current loss = 1.7643408554176\t\n"
      ]
     },
     "execution_count": 12,
     "metadata": {},
     "output_type": "execute_result"
    },
    {
     "data": {
      "text/plain": [
       "current loss = 1.764255811429\t\n",
       "current loss = 1.7641708062184\t\n",
       "current loss = 1.7640858397588\t\n",
       "current loss = 1.7640009120234\t\n",
       "current loss = 1.7639160229854\t\n"
      ]
     },
     "execution_count": 12,
     "metadata": {},
     "output_type": "execute_result"
    },
    {
     "data": {
      "text/plain": [
       "current loss = 1.763831172618\t\n",
       "current loss = 1.7637463608944\t\n",
       "current loss = 1.7636615877879\t\n",
       "current loss = 1.7635768532717\t\n",
       "current loss = 1.7634921573191\t\n"
      ]
     },
     "execution_count": 12,
     "metadata": {},
     "output_type": "execute_result"
    },
    {
     "data": {
      "text/plain": [
       "current loss = 1.7634074999036\t\n",
       "current loss = 1.7633228809984\t\n",
       "current loss = 1.7632383005769\t\n",
       "current loss = 1.7631537586125\t\n",
       "current loss = 1.7630692550787\t\n"
      ]
     },
     "execution_count": 12,
     "metadata": {},
     "output_type": "execute_result"
    },
    {
     "data": {
      "text/plain": [
       "current loss = 1.7629847899488\t\n",
       "current loss = 1.7629003631964\t\n",
       "current loss = 1.762815974795\t\n",
       "current loss = 1.762731624718\t\n",
       "current loss = 1.7626473129391\t\n",
       "current loss = 1.7625630394318\t\n"
      ]
     },
     "execution_count": 12,
     "metadata": {},
     "output_type": "execute_result"
    },
    {
     "data": {
      "text/plain": [
       "current loss = 1.7624788041697\t\n",
       "current loss = 1.7623946071264\t\n",
       "current loss = 1.7623104482756\t\n",
       "current loss = 1.7622263275909\t\n"
      ]
     },
     "execution_count": 12,
     "metadata": {},
     "output_type": "execute_result"
    },
    {
     "data": {
      "text/plain": [
       "current loss = 1.762142245046\t\n",
       "current loss = 1.7620582006146\t\n",
       "current loss = 1.7619741942705\t\n"
      ]
     },
     "execution_count": 12,
     "metadata": {},
     "output_type": "execute_result"
    },
    {
     "data": {
      "text/plain": [
       "current loss = 1.7618902259874\t\n",
       "current loss = 1.7618062957392\t\n",
       "current loss = 1.7617224034995\t\n",
       "current loss = 1.7616385492423\t\n",
       "current loss = 1.7615547329415\t\n",
       "current loss = 1.7614709545708\t\n",
       "current loss = 1.7613872141042\t\n"
      ]
     },
     "execution_count": 12,
     "metadata": {},
     "output_type": "execute_result"
    },
    {
     "data": {
      "text/plain": [
       "current loss = 1.7613035115156\t\n",
       "current loss = 1.761219846779\t\n",
       "current loss = 1.7611362198684\t\n"
      ]
     },
     "execution_count": 12,
     "metadata": {},
     "output_type": "execute_result"
    },
    {
     "data": {
      "text/plain": [
       "current loss = 1.7610526307577\t\n",
       "current loss = 1.760969079421\t\n",
       "current loss = 1.7608855658323\t\n",
       "current loss = 1.7608020899657\t\n"
      ]
     },
     "execution_count": 12,
     "metadata": {},
     "output_type": "execute_result"
    },
    {
     "data": {
      "text/plain": [
       "current loss = 1.7607186517953\t\n",
       "current loss = 1.7606352512952\t\n",
       "current loss = 1.7605518884395\t\n",
       "current loss = 1.7604685632024\t\n",
       "current loss = 1.7603852755581\t\n"
      ]
     },
     "execution_count": 12,
     "metadata": {},
     "output_type": "execute_result"
    },
    {
     "data": {
      "text/plain": [
       "current loss = 1.7603020254808\t\n",
       "current loss = 1.7602188129447\t\n",
       "current loss = 1.7601356379242\t\n",
       "current loss = 1.7600525003933\t\n",
       "current loss = 1.7599694003266\t\n"
      ]
     },
     "execution_count": 12,
     "metadata": {},
     "output_type": "execute_result"
    },
    {
     "data": {
      "text/plain": [
       "current loss = 1.7598863376982\t\n",
       "current loss = 1.7598033124826\t\n",
       "current loss = 1.7597203246541\t\n",
       "current loss = 1.7596373741871\t\n",
       "current loss = 1.7595544610561\t\n",
       "current loss = 1.7594715852354\t\n"
      ]
     },
     "execution_count": 12,
     "metadata": {},
     "output_type": "execute_result"
    },
    {
     "data": {
      "text/plain": [
       "current loss = 1.7593887466996\t\n",
       "current loss = 1.7593059454231\t\n",
       "current loss = 1.7592231813804\t\n",
       "current loss = 1.7591404545461\t\n",
       "current loss = 1.7590577648947\t\n",
       "current loss = 1.7589751124008\t\n",
       "current loss = 1.7588924970391\t\n"
      ]
     },
     "execution_count": 12,
     "metadata": {},
     "output_type": "execute_result"
    },
    {
     "data": {
      "text/plain": [
       "current loss = 1.758809918784\t\n",
       "current loss = 1.7587273776104\t\n",
       "current loss = 1.7586448734928\t\n",
       "current loss = 1.758562406406\t\n",
       "current loss = 1.7584799763246\t\n"
      ]
     },
     "execution_count": 12,
     "metadata": {},
     "output_type": "execute_result"
    },
    {
     "data": {
      "text/plain": [
       "current loss = 1.7583975832234\t\n",
       "current loss = 1.7583152270772\t\n",
       "current loss = 1.7582329078608\t\n"
      ]
     },
     "execution_count": 12,
     "metadata": {},
     "output_type": "execute_result"
    },
    {
     "data": {
      "text/plain": [
       "current loss = 1.7581506255489\t\n",
       "current loss = 1.7580683801164\t\n",
       "current loss = 1.7579861715382\t\n"
      ]
     },
     "execution_count": 12,
     "metadata": {},
     "output_type": "execute_result"
    },
    {
     "data": {
      "text/plain": [
       "current loss = 1.7579039997891\t\n",
       "current loss = 1.757821864844\t\n",
       "current loss = 1.7577397666778\t\n",
       "current loss = 1.7576577052655\t\n",
       "current loss = 1.7575756805821\t\n"
      ]
     },
     "execution_count": 12,
     "metadata": {},
     "output_type": "execute_result"
    },
    {
     "data": {
      "text/plain": [
       "current loss = 1.7574936926025\t\n",
       "current loss = 1.7574117413018\t\n",
       "current loss = 1.7573298266549\t\n",
       "current loss = 1.757247948637\t\n",
       "current loss = 1.7571661072231\t\n",
       "current loss = 1.7570843023883\t\n",
       "current loss = 1.7570025341077\t\n"
      ]
     },
     "execution_count": 12,
     "metadata": {},
     "output_type": "execute_result"
    },
    {
     "data": {
      "text/plain": [
       "current loss = 1.7569208023565\t\n",
       "current loss = 1.7568391071099\t\n",
       "current loss = 1.756757448343\t\n",
       "current loss = 1.7566758260311\t\n",
       "current loss = 1.7565942401493\t\n"
      ]
     },
     "execution_count": 12,
     "metadata": {},
     "output_type": "execute_result"
    },
    {
     "data": {
      "text/plain": [
       "current loss = 1.7565126906731\t\n",
       "current loss = 1.7564311775775\t\n",
       "current loss = 1.7563497008379\t\n",
       "current loss = 1.7562682604297\t\n",
       "current loss = 1.7561868563282\t\n",
       "current loss = 1.7561054885087\t\n"
      ]
     },
     "execution_count": 12,
     "metadata": {},
     "output_type": "execute_result"
    },
    {
     "data": {
      "text/plain": [
       "current loss = 1.7560241569467\t\n",
       "current loss = 1.7559428616175\t\n",
       "current loss = 1.7558616024966\t\n",
       "current loss = 1.7557803795595\t\n"
      ]
     },
     "execution_count": 12,
     "metadata": {},
     "output_type": "execute_result"
    },
    {
     "data": {
      "text/plain": [
       "current loss = 1.7556991927815\t\n",
       "current loss = 1.7556180421383\t\n"
      ]
     },
     "execution_count": 12,
     "metadata": {},
     "output_type": "execute_result"
    },
    {
     "data": {
      "text/plain": [
       "current loss = 1.7555369276054\t\n",
       "current loss = 1.7554558491582\t\n",
       "current loss = 1.7553748067724\t\n",
       "current loss = 1.7552938004235\t\n"
      ]
     },
     "execution_count": 12,
     "metadata": {},
     "output_type": "execute_result"
    },
    {
     "data": {
      "text/plain": [
       "current loss = 1.7552128300871\t\n",
       "current loss = 1.7551318957389\t\n",
       "current loss = 1.7550509973545\t\n",
       "current loss = 1.7549701349096\t\n",
       "current loss = 1.75488930838\t\n"
      ]
     },
     "execution_count": 12,
     "metadata": {},
     "output_type": "execute_result"
    },
    {
     "data": {
      "text/plain": [
       "current loss = 1.7548085177412\t\n",
       "current loss = 1.754727762969\t\n",
       "current loss = 1.7546470440393\t\n",
       "current loss = 1.7545663609278\t\n",
       "current loss = 1.7544857136102\t\n",
       "current loss = 1.7544051020625\t"
      ]
     },
     "execution_count": 12,
     "metadata": {},
     "output_type": "execute_result"
    },
    {
     "data": {
      "text/plain": [
       "\n",
       "current loss = 1.7543245262604\t\n",
       "current loss = 1.7542439861798\t\n",
       "current loss = 1.7541634817967\t\n",
       "current loss = 1.7540830130869\t\n",
       "current loss = 1.7540025800263\t\n"
      ]
     },
     "execution_count": 12,
     "metadata": {},
     "output_type": "execute_result"
    },
    {
     "data": {
      "text/plain": [
       "current loss = 1.753922182591\t\n",
       "current loss = 1.7538418207569\t\n",
       "current loss = 1.7537614944999\t\n",
       "current loss = 1.7536812037961\t\n",
       "current loss = 1.7536009486216\t\n",
       "current loss = 1.7535207289524\t\n"
      ]
     },
     "execution_count": 12,
     "metadata": {},
     "output_type": "execute_result"
    },
    {
     "data": {
      "text/plain": [
       "current loss = 1.7534405447646\t\n",
       "current loss = 1.7533603960342\t\n",
       "current loss = 1.7532802827375\t\n",
       "current loss = 1.7532002048505\t\n",
       "current loss = 1.7531201623495\t\n",
       "current loss = 1.7530401552105\t\n"
      ]
     },
     "execution_count": 12,
     "metadata": {},
     "output_type": "execute_result"
    },
    {
     "data": {
      "text/plain": [
       "current loss = 1.7529601834099\t\n",
       "current loss = 1.7528802469239\t\n",
       "current loss = 1.7528003457286\t\n",
       "current loss = 1.7527204798004\t\n",
       "current loss = 1.7526406491156\t\n",
       "current loss = 1.7525608536504\t\n"
      ]
     },
     "execution_count": 12,
     "metadata": {},
     "output_type": "execute_result"
    },
    {
     "data": {
      "text/plain": [
       "current loss = 1.7524810933813\t\n",
       "current loss = 1.7524013682845\t\n",
       "current loss = 1.7523216783365\t\n",
       "current loss = 1.7522420235136\t\n",
       "current loss = 1.7521624037923\t\n",
       "current loss = 1.7520828191491\t\n"
      ]
     },
     "execution_count": 12,
     "metadata": {},
     "output_type": "execute_result"
    },
    {
     "data": {
      "text/plain": [
       "current loss = 1.7520032695602\t\n",
       "current loss = 1.7519237550024\t\n",
       "current loss = 1.7518442754519\t\n",
       "current loss = 1.7517648308855\t\n",
       "current loss = 1.7516854212796\t\n",
       "current loss = 1.7516060466107\t\n"
      ]
     },
     "execution_count": 12,
     "metadata": {},
     "output_type": "execute_result"
    },
    {
     "data": {
      "text/plain": [
       "current loss = 1.7515267068556\t\n",
       "current loss = 1.7514474019907\t\n",
       "current loss = 1.7513681319927\t\n",
       "current loss = 1.7512888968383\t\n",
       "current loss = 1.751209696504\t\n",
       "current loss = 1.7511305309667\t\n"
      ]
     },
     "execution_count": 12,
     "metadata": {},
     "output_type": "execute_result"
    },
    {
     "data": {
      "text/plain": [
       "current loss = 1.751051400203\t\n",
       "current loss = 1.7509723041897\t\n",
       "current loss = 1.7508932429035\t\n",
       "current loss = 1.7508142163211\t\n",
       "current loss = 1.7507352244194\t\n",
       "current loss = 1.7506562671751\t\n"
      ]
     },
     "execution_count": 12,
     "metadata": {},
     "output_type": "execute_result"
    },
    {
     "data": {
      "text/plain": [
       "current loss = 1.7505773445652\t\n",
       "current loss = 1.7504984565664\t\n",
       "current loss = 1.7504196031557\t\n",
       "current loss = 1.7503407843099\t\n"
      ]
     },
     "execution_count": 12,
     "metadata": {},
     "output_type": "execute_result"
    },
    {
     "data": {
      "text/plain": [
       "current loss = 1.7502620000059\t\n",
       "current loss = 1.7501832502208\t\n",
       "current loss = 1.7501045349313\t\n",
       "current loss = 1.7500258541146\t\n",
       "current loss = 1.7499472077475\t\n",
       "current loss = 1.7498685958072\t\n"
      ]
     },
     "execution_count": 12,
     "metadata": {},
     "output_type": "execute_result"
    },
    {
     "data": {
      "text/plain": [
       "current loss = 1.7497900182706\t\n",
       "current loss = 1.7497114751149\t\n",
       "current loss = 1.749632966317\t\n",
       "current loss = 1.7495544918541\t\n",
       "current loss = 1.7494760517034\t\n",
       "current loss = 1.7493976458418\t\n"
      ]
     },
     "execution_count": 12,
     "metadata": {},
     "output_type": "execute_result"
    },
    {
     "data": {
      "text/plain": [
       "current loss = 1.7493192742467\t\n",
       "current loss = 1.7492409368951\t\n",
       "current loss = 1.7491626337643\t\n",
       "current loss = 1.7490843648315\t\n",
       "current loss = 1.7490061300739\t\n",
       "current loss = 1.7489279294688\t\n"
      ]
     },
     "execution_count": 12,
     "metadata": {},
     "output_type": "execute_result"
    },
    {
     "data": {
      "text/plain": [
       "current loss = 1.7488497629935\t\n"
      ]
     },
     "execution_count": 12,
     "metadata": {},
     "output_type": "execute_result"
    },
    {
     "data": {
      "text/plain": [
       "current loss = 1.7487716306252\t\n",
       "current loss = 1.7486935323413\t\n",
       "current loss = 1.7486154681192\t\n",
       "current loss = 1.7485374379361\t\n",
       "current loss = 1.7484594417694\t\n"
      ]
     },
     "execution_count": 12,
     "metadata": {},
     "output_type": "execute_result"
    },
    {
     "data": {
      "text/plain": [
       "current loss = 1.7483814795966\t\n",
       "current loss = 1.748303551395\t\n",
       "current loss = 1.7482256571422\t\n",
       "current loss = 1.7481477968155\t\n"
      ]
     },
     "execution_count": 12,
     "metadata": {},
     "output_type": "execute_result"
    },
    {
     "data": {
      "text/plain": [
       "current loss = 1.7480699703924\t\n",
       "current loss = 1.7479921778505\t\n",
       "current loss = 1.7479144191672\t\n"
      ]
     },
     "execution_count": 12,
     "metadata": {},
     "output_type": "execute_result"
    },
    {
     "data": {
      "text/plain": [
       "current loss = 1.74783669432\t\n"
      ]
     },
     "execution_count": 12,
     "metadata": {},
     "output_type": "execute_result"
    },
    {
     "data": {
      "text/plain": [
       "current loss = 1.7477590032867\t\n"
      ]
     },
     "execution_count": 12,
     "metadata": {},
     "output_type": "execute_result"
    },
    {
     "data": {
      "text/plain": [
       "current loss = 1.7476813460446\t\n",
       "current loss = 1.7476037225714\t\n"
      ]
     },
     "execution_count": 12,
     "metadata": {},
     "output_type": "execute_result"
    },
    {
     "data": {
      "text/plain": [
       "current loss = 1.7475261328448\t\n"
      ]
     },
     "execution_count": 12,
     "metadata": {},
     "output_type": "execute_result"
    },
    {
     "data": {
      "text/plain": [
       "current loss = 1.7474485768423\t\n"
      ]
     },
     "execution_count": 12,
     "metadata": {},
     "output_type": "execute_result"
    },
    {
     "data": {
      "text/plain": [
       "current loss = 1.7473710545416\t\n"
      ]
     },
     "execution_count": 12,
     "metadata": {},
     "output_type": "execute_result"
    },
    {
     "data": {
      "text/plain": [
       "current loss = 1.7472935659203\t\n"
      ]
     },
     "execution_count": 12,
     "metadata": {},
     "output_type": "execute_result"
    },
    {
     "data": {
      "text/plain": [
       "current loss = 1.7472161109563\t\n",
       "current loss = 1.7471386896271\t\n",
       "current loss = 1.7470613019105\t\n",
       "current loss = 1.7469839477844\t\n",
       "current loss = 1.7469066272263\t\n"
      ]
     },
     "execution_count": 12,
     "metadata": {},
     "output_type": "execute_result"
    },
    {
     "data": {
      "text/plain": [
       "current loss = 1.7468293402141\t\n",
       "current loss = 1.7467520867257\t\n"
      ]
     },
     "execution_count": 12,
     "metadata": {},
     "output_type": "execute_result"
    },
    {
     "data": {
      "text/plain": [
       "current loss = 1.7466748667389\t\n"
      ]
     },
     "execution_count": 12,
     "metadata": {},
     "output_type": "execute_result"
    },
    {
     "data": {
      "text/plain": [
       "current loss = 1.7465976802314\t\n",
       "current loss = 1.7465205271813\t\n",
       "current loss = 1.7464434075663\t\n",
       "current loss = 1.7463663213644\t\n",
       "current loss = 1.7462892685534\t\n"
      ]
     },
     "execution_count": 12,
     "metadata": {},
     "output_type": "execute_result"
    },
    {
     "data": {
      "text/plain": [
       "current loss = 1.7462122491114\t\n",
       "current loss = 1.7461352630163\t\n",
       "current loss = 1.7460583102461\t\n",
       "current loss = 1.7459813907788\t\n",
       "current loss = 1.7459045045924\t\n",
       "current loss = 1.7458276516649\t\n",
       "current loss = 1.7457508319744\t\n",
       "current loss = 1.7456740454991\t\n"
      ]
     },
     "execution_count": 12,
     "metadata": {},
     "output_type": "execute_result"
    },
    {
     "data": {
      "text/plain": [
       "current loss = 1.7455972922169\t\n",
       "current loss = 1.745520572106\t\n",
       "current loss = 1.7454438851446\t\n",
       "current loss = 1.7453672313107\t\n",
       "current loss = 1.7452906105826\t\n",
       "current loss = 1.7452140229385\t\n",
       "current loss = 1.7451374683566\t\n"
      ]
     },
     "execution_count": 12,
     "metadata": {},
     "output_type": "execute_result"
    },
    {
     "data": {
      "text/plain": [
       "current loss = 1.745060946815\t\n",
       "current loss = 1.7449844582921\t\n",
       "current loss = 1.7449080027662\t\n",
       "current loss = 1.7448315802154\t\n",
       "current loss = 1.7447551906182\t\n",
       "current loss = 1.7446788339528\t\n",
       "current loss = 1.7446025101976\t\n",
       "current loss = 1.7445262193309\t\n"
      ]
     },
     "execution_count": 12,
     "metadata": {},
     "output_type": "execute_result"
    },
    {
     "data": {
      "text/plain": [
       "current loss = 1.7444499613312\t\n",
       "current loss = 1.7443737361768\t\n",
       "current loss = 1.7442975438461\t\n",
       "current loss = 1.7442213843177\t\n",
       "current loss = 1.7441452575699\t\n",
       "current loss = 1.7440691635812\t\n",
       "current loss = 1.7439931023302\t\n",
       "current loss = 1.7439170737953\t\n"
      ]
     },
     "execution_count": 12,
     "metadata": {},
     "output_type": "execute_result"
    },
    {
     "data": {
      "text/plain": [
       "current loss = 1.743841077955\t\n",
       "current loss = 1.743765114788\t\n",
       "current loss = 1.7436891842727\t\n",
       "current loss = 1.7436132863878\t\n",
       "current loss = 1.7435374211119\t\n",
       "current loss = 1.7434615884236\t\n",
       "current loss = 1.7433857883016\t\n"
      ]
     },
     "execution_count": 12,
     "metadata": {},
     "output_type": "execute_result"
    },
    {
     "data": {
      "text/plain": [
       "current loss = 1.7433100207244\t\n",
       "current loss = 1.7432342856709\t\n",
       "current loss = 1.7431585831196\t\n",
       "current loss = 1.7430829130493\t\n"
      ]
     },
     "execution_count": 12,
     "metadata": {},
     "output_type": "execute_result"
    },
    {
     "data": {
      "text/plain": [
       "current loss = 1.7430072754388\t\n",
       "current loss = 1.7429316702667\t\n",
       "current loss = 1.7428560975119\t\n",
       "current loss = 1.7427805571532\t\n",
       "current loss = 1.7427050491694\t\n",
       "current loss = 1.7426295735392\t\n",
       "current loss = 1.7425541302416\t\n"
      ]
     },
     "execution_count": 12,
     "metadata": {},
     "output_type": "execute_result"
    },
    {
     "data": {
      "text/plain": [
       "current loss = 1.7424787192553\t\n",
       "current loss = 1.7424033405594\t\n",
       "current loss = 1.7423279941326\t\n",
       "current loss = 1.742252679954\t\n",
       "current loss = 1.7421773980023\t\n",
       "current loss = 1.7421021482567\t\n",
       "current loss = 1.7420269306961\t\n",
       "current loss = 1.7419517452994\t\n"
      ]
     },
     "execution_count": 12,
     "metadata": {},
     "output_type": "execute_result"
    },
    {
     "data": {
      "text/plain": [
       "current loss = 1.7418765920457\t\n",
       "current loss = 1.7418014709139\t\n",
       "current loss = 1.7417263818833\t\n",
       "current loss = 1.7416513249327\t\n",
       "current loss = 1.7415763000413\t\n",
       "current loss = 1.7415013071882\t\n",
       "current loss = 1.7414263463525\t\n",
       "current loss = 1.7413514175134\t\n"
      ]
     },
     "execution_count": 12,
     "metadata": {},
     "output_type": "execute_result"
    },
    {
     "data": {
      "text/plain": [
       "current loss = 1.7412765206499\t\n",
       "current loss = 1.7412016557413\t\n",
       "current loss = 1.7411268227668\t\n",
       "current loss = 1.7410520217056\t\n",
       "current loss = 1.7409772525368\t\n"
      ]
     },
     "execution_count": 12,
     "metadata": {},
     "output_type": "execute_result"
    },
    {
     "data": {
      "text/plain": [
       "current loss = 1.7409025152398\t\n",
       "current loss = 1.7408278097938\t\n",
       "current loss = 1.740753136178\t\n",
       "current loss = 1.7406784943718\t\n",
       "current loss = 1.7406038843546\t\n",
       "current loss = 1.7405293061055\t\n",
       "current loss = 1.740454759604\t\n"
      ]
     },
     "execution_count": 12,
     "metadata": {},
     "output_type": "execute_result"
    },
    {
     "data": {
      "text/plain": [
       "current loss = 1.7403802448295\t\n",
       "current loss = 1.7403057617612\t\n",
       "current loss = 1.7402313103788\t\n",
       "current loss = 1.7401568906614\t\n",
       "current loss = 1.7400825025887\t\n",
       "current loss = 1.74000814614\t\n",
       "current loss = 1.7399338212948\t\n",
       "current loss = 1.7398595280326\t\n"
      ]
     },
     "execution_count": 12,
     "metadata": {},
     "output_type": "execute_result"
    },
    {
     "data": {
      "text/plain": [
       "current loss = 1.739785266333\t\n",
       "current loss = 1.7397110361754\t\n",
       "current loss = 1.7396368375395\t\n",
       "current loss = 1.7395626704046\t\n",
       "current loss = 1.7394885347505\t\n",
       "current loss = 1.7394144305568\t\n",
       "current loss = 1.739340357803\t\n",
       "current loss = 1.7392663164688\t\n"
      ]
     },
     "execution_count": 12,
     "metadata": {},
     "output_type": "execute_result"
    },
    {
     "data": {
      "text/plain": [
       "current loss = 1.7391923065338\t\n",
       "current loss = 1.7391183279777\t\n",
       "current loss = 1.7390443807802\t\n",
       "current loss = 1.738970464921\t\n",
       "current loss = 1.7388965803798\t\n",
       "current loss = 1.7388227271363\t\n",
       "current loss = 1.7387489051704\t\n",
       "current loss = 1.7386751144617\t\n"
      ]
     },
     "execution_count": 12,
     "metadata": {},
     "output_type": "execute_result"
    },
    {
     "data": {
      "text/plain": [
       "current loss = 1.7386013549901\t\n",
       "current loss = 1.7385276267353\t\n",
       "current loss = 1.7384539296772\t\n",
       "current loss = 1.7383802637957\t\n",
       "current loss = 1.7383066290705\t\n",
       "current loss = 1.7382330254816\t\n",
       "current loss = 1.7381594530089\t\n",
       "current loss = 1.7380859116322\t\n"
      ]
     },
     "execution_count": 12,
     "metadata": {},
     "output_type": "execute_result"
    },
    {
     "data": {
      "text/plain": [
       "current loss = 1.7380124013315\t\n",
       "current loss = 1.7379389220868\t\n",
       "current loss = 1.7378654738779\t\n",
       "current loss = 1.737792056685\t\n",
       "current loss = 1.7377186704879\t\n",
       "current loss = 1.7376453152666\t\n",
       "current loss = 1.7375719910013\t\n",
       "current loss = 1.737498697672\t\n"
      ]
     },
     "execution_count": 12,
     "metadata": {},
     "output_type": "execute_result"
    },
    {
     "data": {
      "text/plain": [
       "current loss = 1.7374254352586\t\n",
       "current loss = 1.7373522037414\t\n",
       "current loss = 1.7372790031003\t\n",
       "current loss = 1.7372058333156\t\n",
       "current loss = 1.7371326943673\t\n",
       "current loss = 1.7370595862356\t\n"
      ]
     },
     "execution_count": 12,
     "metadata": {},
     "output_type": "execute_result"
    },
    {
     "data": {
      "text/plain": [
       "current loss = 1.7369865089007\t\n",
       "current loss = 1.7369134623427\t\n",
       "current loss = 1.7368404465419\t\n",
       "current loss = 1.7367674614784\t\n"
      ]
     },
     "execution_count": 12,
     "metadata": {},
     "output_type": "execute_result"
    },
    {
     "data": {
      "text/plain": [
       "current loss = 1.7366945071325\t\n",
       "current loss = 1.7366215834844\t\n",
       "current loss = 1.7365486905144\t\n",
       "current loss = 1.7364758282028\t\n",
       "current loss = 1.7364029965299\t\n",
       "current loss = 1.736330195476\t\n",
       "current loss = 1.7362574250215\t\n"
      ]
     },
     "execution_count": 12,
     "metadata": {},
     "output_type": "execute_result"
    },
    {
     "data": {
      "text/plain": [
       "current loss = 1.7361846851466\t\n",
       "current loss = 1.7361119758318\t\n",
       "current loss = 1.7360392970574\t\n",
       "current loss = 1.7359666488039\t\n",
       "current loss = 1.7358940310516\t\n",
       "current loss = 1.735821443781\t\n",
       "current loss = 1.7357488869725\t\n"
      ]
     },
     "execution_count": 12,
     "metadata": {},
     "output_type": "execute_result"
    },
    {
     "data": {
      "text/plain": [
       "current loss = 1.7356763606066\t\n",
       "current loss = 1.7356038646639\t\n",
       "current loss = 1.7355313991247\t\n",
       "current loss = 1.7354589639696\t\n",
       "current loss = 1.7353865591791\t\n",
       "current loss = 1.7353141847339\t\n",
       "current loss = 1.7352418406144\t\n",
       "current loss = 1.7351695268012\t\n"
      ]
     },
     "execution_count": 12,
     "metadata": {},
     "output_type": "execute_result"
    },
    {
     "data": {
      "text/plain": [
       "current loss = 1.7350972432749\t\n",
       "current loss = 1.7350249900163\t\n",
       "current loss = 1.7349527670057\t\n",
       "current loss = 1.7348805742241\t\n",
       "current loss = 1.7348084116519\t\n",
       "current loss = 1.7347362792698\t\n",
       "current loss = 1.7346641770587\t\n",
       "current loss = 1.7345921049991\t\n"
      ]
     },
     "execution_count": 12,
     "metadata": {},
     "output_type": "execute_result"
    },
    {
     "data": {
      "text/plain": [
       "current loss = 1.7345200630719\t\n",
       "current loss = 1.7344480512577\t\n",
       "current loss = 1.7343760695373\t\n",
       "current loss = 1.7343041178916\t\n",
       "current loss = 1.7342321963012\t\n",
       "current loss = 1.734160304747\t\n"
      ]
     },
     "execution_count": 12,
     "metadata": {},
     "output_type": "execute_result"
    },
    {
     "data": {
      "text/plain": [
       "current loss = 1.7340884432099\t\n",
       "current loss = 1.7340166116707\t\n",
       "current loss = 1.7339448101102\t\n",
       "current loss = 1.7338730385093\t\n",
       "current loss = 1.7338012968489\t\n",
       "current loss = 1.73372958511\t\n",
       "current loss = 1.7336579032734\t\n",
       "current loss = 1.73358625132\t\n"
      ]
     },
     "execution_count": 12,
     "metadata": {},
     "output_type": "execute_result"
    },
    {
     "data": {
      "text/plain": [
       "current loss = 1.7335146292309\t\n",
       "current loss = 1.733443036987\t\n",
       "current loss = 1.7333714745694\t\n",
       "current loss = 1.7332999419589\t\n",
       "current loss = 1.7332284391366\t\n",
       "current loss = 1.7331569660837\t\n",
       "current loss = 1.733085522781\t\n",
       "current loss = 1.7330141092097\t\n"
      ]
     },
     "execution_count": 12,
     "metadata": {},
     "output_type": "execute_result"
    },
    {
     "data": {
      "text/plain": [
       "current loss = 1.7329427253509\t\n",
       "current loss = 1.7328713711857\t\n",
       "current loss = 1.7328000466951\t\n",
       "current loss = 1.7327287518604\t\n",
       "current loss = 1.7326574866626\t\n",
       "current loss = 1.732586251083\t\n",
       "current loss = 1.7325150451027\t\n",
       "current loss = 1.7324438687029\t\n"
      ]
     },
     "execution_count": 12,
     "metadata": {},
     "output_type": "execute_result"
    },
    {
     "data": {
      "text/plain": [
       "current loss = 1.7323727218648\t\n",
       "current loss = 1.7323016045697\t\n",
       "current loss = 1.7322305167987\t\n",
       "current loss = 1.7321594585332\t\n",
       "current loss = 1.7320884297545\t\n",
       "current loss = 1.7320174304438\t\n",
       "current loss = 1.7319464605824\t\n",
       "current loss = 1.7318755201516\t\n"
      ]
     },
     "execution_count": 12,
     "metadata": {},
     "output_type": "execute_result"
    },
    {
     "data": {
      "text/plain": [
       "current loss = 1.7318046091328\t\n",
       "current loss = 1.7317337275074\t\n",
       "current loss = 1.7316628752567\t\n",
       "current loss = 1.731592052362\t\n",
       "current loss = 1.7315212588049\t\n",
       "current loss = 1.7314504945667\t\n",
       "current loss = 1.7313797596288\t\n"
      ]
     },
     "execution_count": 12,
     "metadata": {},
     "output_type": "execute_result"
    },
    {
     "data": {
      "text/plain": [
       "current loss = 1.7313090539727\t\n",
       "current loss = 1.7312383775799\t\n",
       "current loss = 1.7311677304317\t\n",
       "current loss = 1.7310971125099\t\n",
       "current loss = 1.7310265237957\t\n",
       "current loss = 1.7309559642708\t\n",
       "current loss = 1.7308854339168\t\n"
      ]
     },
     "execution_count": 12,
     "metadata": {},
     "output_type": "execute_result"
    },
    {
     "data": {
      "text/plain": [
       "current loss = 1.730814932715\t\n",
       "current loss = 1.7307444606472\t\n",
       "current loss = 1.730674017695\t\n",
       "current loss = 1.7306036038398\t\n",
       "current loss = 1.7305332190634\t\n",
       "current loss = 1.7304628633473\t\n",
       "current loss = 1.7303925366733\t\n",
       "current loss = 1.7303222390229\t\n"
      ]
     },
     "execution_count": 12,
     "metadata": {},
     "output_type": "execute_result"
    },
    {
     "data": {
      "text/plain": [
       "current loss = 1.7302519703779\t\n",
       "current loss = 1.73018173072\t\n",
       "current loss = 1.7301115200308\t\n",
       "current loss = 1.7300413382921\t\n",
       "current loss = 1.7299711854857\t\n",
       "current loss = 1.7299010615932\t\n",
       "current loss = 1.7298309665965\t\n"
      ]
     },
     "execution_count": 12,
     "metadata": {},
     "output_type": "execute_result"
    },
    {
     "data": {
      "text/plain": [
       "current loss = 1.7297609004773\t\n",
       "current loss = 1.7296908632175\t\n",
       "current loss = 1.7296208547989\t\n",
       "current loss = 1.7295508752032\t\n",
       "current loss = 1.7294809244124\t\n",
       "current loss = 1.7294110024082\t\n",
       "current loss = 1.7293411091727\t\n",
       "current loss = 1.7292712446876\t\n"
      ]
     },
     "execution_count": 12,
     "metadata": {},
     "output_type": "execute_result"
    },
    {
     "data": {
      "text/plain": [
       "current loss = 1.729201408935\t\n",
       "current loss = 1.7291316018966\t\n",
       "current loss = 1.7290618235544\t\n",
       "current loss = 1.7289920738905\t\n",
       "current loss = 1.7289223528867\t\n",
       "current loss = 1.7288526605251\t\n",
       "current loss = 1.7287829967876\t\n",
       "current loss = 1.7287133616562\t\n"
      ]
     },
     "execution_count": 12,
     "metadata": {},
     "output_type": "execute_result"
    },
    {
     "data": {
      "text/plain": [
       "current loss = 1.7286437551131\t\n",
       "current loss = 1.7285741771401\t\n",
       "current loss = 1.7285046277195\t\n",
       "current loss = 1.7284351068332\t\n",
       "current loss = 1.7283656144633\t\n",
       "current loss = 1.728296150592\t\n",
       "current loss = 1.7282267152013\t\n"
      ]
     },
     "execution_count": 12,
     "metadata": {},
     "output_type": "execute_result"
    },
    {
     "data": {
      "text/plain": [
       "current loss = 1.7281573082735\t\n",
       "current loss = 1.7280879297906\t\n",
       "current loss = 1.7280185797348\t\n",
       "current loss = 1.7279492580883\t\n",
       "current loss = 1.7278799648332\t\n",
       "current loss = 1.7278106999519\t\n",
       "current loss = 1.7277414634264\t\n"
      ]
     },
     "execution_count": 12,
     "metadata": {},
     "output_type": "execute_result"
    },
    {
     "data": {
      "text/plain": [
       "current loss = 1.7276722552391\t\n",
       "current loss = 1.7276030753721\t\n",
       "current loss = 1.7275339238079\t\n",
       "current loss = 1.7274648005285\t\n",
       "current loss = 1.7273957055164\t\n",
       "current loss = 1.7273266387538\t\n",
       "current loss = 1.7272576002231\t\n",
       "current loss = 1.7271885899066\t\n",
       "current loss = 1.7271196077866\t\n"
      ]
     },
     "execution_count": 12,
     "metadata": {},
     "output_type": "execute_result"
    },
    {
     "data": {
      "text/plain": [
       "current loss = 1.7270506538456\t\n",
       "current loss = 1.7269817280659\t\n",
       "current loss = 1.7269128304299\t\n",
       "current loss = 1.72684396092\t\n",
       "current loss = 1.7267751195186\t\n",
       "current loss = 1.7267063062082\t\n",
       "current loss = 1.7266375209713\t\n"
      ]
     },
     "execution_count": 12,
     "metadata": {},
     "output_type": "execute_result"
    },
    {
     "data": {
      "text/plain": [
       "current loss = 1.7265687637903\t\n",
       "current loss = 1.7265000346476\t\n",
       "current loss = 1.7264313335259\t\n",
       "current loss = 1.7263626604076\t\n",
       "current loss = 1.7262940152752\t\n",
       "current loss = 1.7262253981113\t\n",
       "current loss = 1.7261568088984\t\n",
       "current loss = 1.7260882476192\t\n"
      ]
     },
     "execution_count": 12,
     "metadata": {},
     "output_type": "execute_result"
    },
    {
     "data": {
      "text/plain": [
       "current loss = 1.7260197142561\t\n",
       "current loss = 1.7259512087919\t\n",
       "current loss = 1.725882731209\t\n",
       "current loss = 1.7258142814902\t\n",
       "current loss = 1.7257458596181\t\n",
       "current loss = 1.7256774655753\t\n",
       "current loss = 1.7256090993445\t\n",
       "current loss = 1.7255407609084\t\n"
      ]
     },
     "execution_count": 12,
     "metadata": {},
     "output_type": "execute_result"
    },
    {
     "data": {
      "text/plain": [
       "current loss = 1.7254724502498\t\n",
       "current loss = 1.7254041673512\t\n",
       "current loss = 1.7253359121955\t\n",
       "current loss = 1.7252676847654\t\n",
       "current loss = 1.7251994850436\t\n",
       "current loss = 1.725131313013\t\n",
       "current loss = 1.7250631686562\t\n"
      ]
     },
     "execution_count": 12,
     "metadata": {},
     "output_type": "execute_result"
    },
    {
     "data": {
      "text/plain": [
       "current loss = 1.7249950519562\t\n",
       "current loss = 1.7249269628957\t\n",
       "current loss = 1.7248589014575\t\n",
       "current loss = 1.7247908676246\t\n",
       "current loss = 1.7247228613796\t\n",
       "current loss = 1.7246548827056\t\n",
       "current loss = 1.7245869315855\t\n",
       "current loss = 1.724519008002\t\n"
      ]
     },
     "execution_count": 12,
     "metadata": {},
     "output_type": "execute_result"
    },
    {
     "data": {
      "text/plain": [
       "current loss = 1.7244511119381\t\n",
       "current loss = 1.7243832433768\t\n",
       "current loss = 1.724315402301\t\n",
       "current loss = 1.7242475886936\t\n",
       "current loss = 1.7241798025377\t\n",
       "current loss = 1.7241120438161\t\n",
       "current loss = 1.724044312512\t\n"
      ]
     },
     "execution_count": 12,
     "metadata": {},
     "output_type": "execute_result"
    },
    {
     "data": {
      "text/plain": [
       "current loss = 1.7239766086082\t\n",
       "current loss = 1.7239089320879\t\n",
       "current loss = 1.7238412829341\t\n",
       "current loss = 1.7237736611298\t\n",
       "current loss = 1.723706066658\t\n",
       "current loss = 1.723638499502\t\n"
      ]
     },
     "execution_count": 12,
     "metadata": {},
     "output_type": "execute_result"
    },
    {
     "data": {
      "text/plain": [
       "current loss = 1.7235709596448\t\n",
       "current loss = 1.7235034470694\t\n",
       "current loss = 1.723435961759\t\n",
       "current loss = 1.7233685036968\t\n",
       "current loss = 1.7233010728658\t\n",
       "current loss = 1.7232336692494\t\n",
       "current loss = 1.7231662928305\t\n"
      ]
     },
     "execution_count": 12,
     "metadata": {},
     "output_type": "execute_result"
    },
    {
     "data": {
      "text/plain": [
       "current loss = 1.7230989435925\t\n",
       "current loss = 1.7230316215185\t\n",
       "current loss = 1.7229643265918\t\n",
       "current loss = 1.7228970587956\t\n",
       "current loss = 1.7228298181131\t\n",
       "current loss = 1.7227626045276\t\n",
       "current loss = 1.7226954180224\t\n",
       "current loss = 1.7226282585807\t\n"
      ]
     },
     "execution_count": 12,
     "metadata": {},
     "output_type": "execute_result"
    },
    {
     "data": {
      "text/plain": [
       "current loss = 1.7225611261859\t\n",
       "current loss = 1.7224940208213\t\n",
       "current loss = 1.7224269424702\t\n",
       "current loss = 1.7223598911159\t\n",
       "current loss = 1.7222928667419\t\n",
       "current loss = 1.7222258693314\t\n",
       "current loss = 1.7221588988679\t\n"
      ]
     },
     "execution_count": 12,
     "metadata": {},
     "output_type": "execute_result"
    },
    {
     "data": {
      "text/plain": [
       "current loss = 1.7220919553347\t\n",
       "current loss = 1.7220250387154\t\n",
       "current loss = 1.7219581489932\t\n",
       "current loss = 1.7218912861516\t\n",
       "current loss = 1.7218244501742\t\n",
       "current loss = 1.7217576410443\t\n"
      ]
     },
     "execution_count": 12,
     "metadata": {},
     "output_type": "execute_result"
    },
    {
     "data": {
      "text/plain": [
       "current loss = 1.7216908587454\t\n",
       "current loss = 1.7216241032611\t\n",
       "current loss = 1.7215573745747\t\n",
       "current loss = 1.72149067267\t\n",
       "current loss = 1.7214239975303\t\n",
       "current loss = 1.7213573491392\t\n",
       "current loss = 1.7212907274803\t\n"
      ]
     },
     "execution_count": 12,
     "metadata": {},
     "output_type": "execute_result"
    },
    {
     "data": {
      "text/plain": [
       "current loss = 1.7212241325372\t\n",
       "current loss = 1.7211575642935\t\n",
       "current loss = 1.7210910227326\t\n",
       "current loss = 1.7210245078384\t\n",
       "current loss = 1.7209580195943\t\n",
       "current loss = 1.7208915579841\t\n",
       "current loss = 1.7208251229913\t\n",
       "current loss = 1.7207587145997\t\n"
      ]
     },
     "execution_count": 12,
     "metadata": {},
     "output_type": "execute_result"
    },
    {
     "data": {
      "text/plain": [
       "current loss = 1.7206923327929\t\n",
       "current loss = 1.7206259775546\t\n",
       "current loss = 1.7205596488686\t\n",
       "current loss = 1.7204933467185\t\n",
       "current loss = 1.7204270710881\t\n",
       "current loss = 1.7203608219611\t\n",
       "current loss = 1.7202945993213\t\n"
      ]
     },
     "execution_count": 12,
     "metadata": {},
     "output_type": "execute_result"
    },
    {
     "data": {
      "text/plain": [
       "current loss = 1.7202284031525\t\n",
       "current loss = 1.7201622334384\t\n",
       "current loss = 1.7200960901628\t\n",
       "current loss = 1.7200299733096\t\n",
       "current loss = 1.7199638828626\t\n",
       "current loss = 1.7198978188056\t\n",
       "current loss = 1.7198317811225\t\n"
      ]
     },
     "execution_count": 12,
     "metadata": {},
     "output_type": "execute_result"
    },
    {
     "data": {
      "text/plain": [
       "current loss = 1.7197657697971\t\n",
       "current loss = 1.7196997848133\t\n",
       "current loss = 1.719633826155\t\n",
       "current loss = 1.7195678938062\t\n",
       "current loss = 1.7195019877506\t\n",
       "current loss = 1.7194361079724\t\n",
       "current loss = 1.7193702544553\t\n",
       "current loss = 1.7193044271834\t\n"
      ]
     },
     "execution_count": 12,
     "metadata": {},
     "output_type": "execute_result"
    },
    {
     "data": {
      "text/plain": [
       "current loss = 1.7192386261406\t\n",
       "current loss = 1.7191728513109\t\n",
       "current loss = 1.7191071026783\t\n",
       "current loss = 1.7190413802269\t\n",
       "current loss = 1.7189756839406\t\n",
       "current loss = 1.7189100138034\t\n"
      ]
     },
     "execution_count": 12,
     "metadata": {},
     "output_type": "execute_result"
    },
    {
     "data": {
      "text/plain": [
       "current loss = 1.7188443697995\t\n",
       "current loss = 1.7187787519128\t\n",
       "current loss = 1.7187131601275\t\n",
       "current loss = 1.7186475944276\t\n",
       "current loss = 1.7185820547973\t\n",
       "current loss = 1.7185165412205\t\n",
       "current loss = 1.7184510536816\t\n",
       "current loss = 1.7183855921646\t\n"
      ]
     },
     "execution_count": 12,
     "metadata": {},
     "output_type": "execute_result"
    },
    {
     "data": {
      "text/plain": [
       "current loss = 1.7183201566536\t\n",
       "current loss = 1.7182547471329\t\n",
       "current loss = 1.7181893635865\t\n",
       "current loss = 1.7181240059988\t\n",
       "current loss = 1.7180586743538\t\n"
      ]
     },
     "execution_count": 12,
     "metadata": {},
     "output_type": "execute_result"
    },
    {
     "data": {
      "text/plain": [
       "current loss = 1.7179933686358\t\n",
       "current loss = 1.7179280888291\t\n",
       "current loss = 1.7178628349178\t\n",
       "current loss = 1.7177976068863\t\n",
       "current loss = 1.7177324047187\t\n",
       "current loss = 1.7176672283994\t\n",
       "current loss = 1.7176020779127\t\n"
      ]
     },
     "execution_count": 12,
     "metadata": {},
     "output_type": "execute_result"
    },
    {
     "data": {
      "text/plain": [
       "current loss = 1.7175369532428\t\n",
       "current loss = 1.7174718543741\t\n",
       "current loss = 1.7174067812909\t\n",
       "current loss = 1.7173417339775\t\n",
       "current loss = 1.7172767124183\t\n",
       "current loss = 1.7172117165977\t\n"
      ]
     },
     "execution_count": 12,
     "metadata": {},
     "output_type": "execute_result"
    },
    {
     "data": {
      "text/plain": [
       "current loss = 1.7171467465001\t\n",
       "current loss = 1.7170818021098\t\n",
       "current loss = 1.7170168834112\t\n",
       "current loss = 1.7169519903888\t\n",
       "current loss = 1.7168871230269\t\n",
       "current loss = 1.7168222813101\t\n"
      ]
     },
     "execution_count": 12,
     "metadata": {},
     "output_type": "execute_result"
    },
    {
     "data": {
      "text/plain": [
       "current loss = 1.7167574652228\t\n",
       "current loss = 1.7166926747494\t\n"
      ]
     },
     "execution_count": 12,
     "metadata": {},
     "output_type": "execute_result"
    },
    {
     "data": {
      "text/plain": [
       "current loss = 1.7166279098745\t\n",
       "current loss = 1.7165631705825\t\n",
       "current loss = 1.7164984568579\t\n",
       "current loss = 1.7164337686853\t\n",
       "current loss = 1.7163691060491\t\n"
      ]
     },
     "execution_count": 12,
     "metadata": {},
     "output_type": "execute_result"
    },
    {
     "data": {
      "text/plain": [
       "current loss = 1.7163044689339\t\n",
       "current loss = 1.7162398573244\t\n",
       "current loss = 1.7161752712049\t\n",
       "current loss = 1.7161107105602\t\n",
       "current loss = 1.7160461753748\t\n",
       "current loss = 1.7159816656333\t\n",
       "current loss = 1.7159171813203\t\n"
      ]
     },
     "execution_count": 12,
     "metadata": {},
     "output_type": "execute_result"
    },
    {
     "data": {
      "text/plain": [
       "current loss = 1.7158527224205\t\n",
       "current loss = 1.7157882889185\t\n",
       "current loss = 1.7157238807989\t\n",
       "current loss = 1.7156594980464\t\n",
       "current loss = 1.7155951406458\t\n",
       "current loss = 1.7155308085816\t\n",
       "current loss = 1.7154665018387\t\n"
      ]
     },
     "execution_count": 12,
     "metadata": {},
     "output_type": "execute_result"
    },
    {
     "data": {
      "text/plain": [
       "current loss = 1.7154022204016\t\n",
       "current loss = 1.7153379642552\t\n",
       "current loss = 1.7152737333841\t\n",
       "current loss = 1.7152095277732\t\n",
       "current loss = 1.7151453474071\t\n",
       "current loss = 1.7150811922707\t\n",
       "current loss = 1.7150170623488\t\n"
      ]
     },
     "execution_count": 12,
     "metadata": {},
     "output_type": "execute_result"
    },
    {
     "data": {
      "text/plain": [
       "current loss = 1.7149529576261\t\n",
       "current loss = 1.7148888780875\t\n",
       "current loss = 1.7148248237177\t\n",
       "current loss = 1.7147607945017\t\n",
       "current loss = 1.7146967904243\t\n"
      ]
     },
     "execution_count": 12,
     "metadata": {},
     "output_type": "execute_result"
    },
    {
     "data": {
      "text/plain": [
       "current loss = 1.7146328114703\t\n",
       "current loss = 1.7145688576247\t\n",
       "current loss = 1.7145049288722\t\n",
       "current loss = 1.7144410251978\t\n",
       "current loss = 1.7143771465864\t\n"
      ]
     },
     "execution_count": 12,
     "metadata": {},
     "output_type": "execute_result"
    },
    {
     "data": {
      "text/plain": [
       "current loss = 1.714313293023\t\n",
       "current loss = 1.7142494644924\t\n",
       "current loss = 1.7141856609796\t\n",
       "current loss = 1.7141218824695\t\n",
       "current loss = 1.7140581289473\t\n",
       "current loss = 1.7139944003977\t\n"
      ]
     },
     "execution_count": 12,
     "metadata": {},
     "output_type": "execute_result"
    },
    {
     "data": {
      "text/plain": [
       "current loss = 1.7139306968058\t\n",
       "current loss = 1.7138670181567\t\n",
       "current loss = 1.7138033644353\t\n",
       "current loss = 1.7137397356266\t\n",
       "current loss = 1.7136761317158\t\n"
      ]
     },
     "execution_count": 12,
     "metadata": {},
     "output_type": "execute_result"
    },
    {
     "data": {
      "text/plain": [
       "current loss = 1.7136125526878\t\n",
       "current loss = 1.7135489985278\t\n",
       "current loss = 1.7134854692207\t\n",
       "current loss = 1.7134219647518\t\n",
       "current loss = 1.713358485106\t\n"
      ]
     },
     "execution_count": 12,
     "metadata": {},
     "output_type": "execute_result"
    },
    {
     "data": {
      "text/plain": [
       "current loss = 1.7132950302686\t\n",
       "current loss = 1.7132316002245\t\n",
       "current loss = 1.7131681949591\t\n",
       "current loss = 1.7131048144574\t\n",
       "current loss = 1.7130414587045\t\n",
       "current loss = 1.7129781276857\t\n"
      ]
     },
     "execution_count": 12,
     "metadata": {},
     "output_type": "execute_result"
    },
    {
     "data": {
      "text/plain": [
       "current loss = 1.7129148213862\t\n",
       "current loss = 1.712851539791\t\n",
       "current loss = 1.7127882828856\t\n",
       "current loss = 1.712725050655\t\n",
       "current loss = 1.7126618430844\t\n",
       "current loss = 1.7125986601592\t\n",
       "current loss = 1.7125355018646\t\n"
      ]
     },
     "execution_count": 12,
     "metadata": {},
     "output_type": "execute_result"
    },
    {
     "data": {
      "text/plain": [
       "current loss = 1.7124723681859\t\n",
       "current loss = 1.7124092591083\t\n",
       "current loss = 1.7123461746171\t\n",
       "current loss = 1.7122831146977\t\n"
      ]
     },
     "execution_count": 12,
     "metadata": {},
     "output_type": "execute_result"
    },
    {
     "data": {
      "text/plain": [
       "current loss = 1.7122200793353\t\n",
       "current loss = 1.7121570685153\t\n",
       "current loss = 1.712094082223\t\n",
       "current loss = 1.7120311204437\t\n",
       "current loss = 1.7119681831628\t\n",
       "current loss = 1.7119052703658\t\n"
      ]
     },
     "execution_count": 12,
     "metadata": {},
     "output_type": "execute_result"
    },
    {
     "data": {
      "text/plain": [
       "current loss = 1.7118423820379\t\n",
       "current loss = 1.7117795181645\t\n",
       "current loss = 1.7117166787312\t\n",
       "current loss = 1.7116538637232\t\n",
       "current loss = 1.7115910731261\t\n",
       "current loss = 1.7115283069252\t\n",
       "current loss = 1.711465565106\t\n"
      ]
     },
     "execution_count": 12,
     "metadata": {},
     "output_type": "execute_result"
    },
    {
     "data": {
      "text/plain": [
       "current loss = 1.711402847654\t\n",
       "current loss = 1.7113401545547\t\n",
       "current loss = 1.7112774857935\t\n",
       "current loss = 1.7112148413559\t\n",
       "current loss = 1.7111522212275\t\n",
       "current loss = 1.7110896253938\t\n"
      ]
     },
     "execution_count": 12,
     "metadata": {},
     "output_type": "execute_result"
    },
    {
     "data": {
      "text/plain": [
       "current loss = 1.7110270538403\t\n",
       "current loss = 1.7109645065525\t\n",
       "current loss = 1.710901983516\t\n",
       "current loss = 1.7108394847165\t\n",
       "current loss = 1.7107770101393\t\n",
       "current loss = 1.7107145597703\t\n"
      ]
     },
     "execution_count": 12,
     "metadata": {},
     "output_type": "execute_result"
    },
    {
     "data": {
      "text/plain": [
       "current loss = 1.7106521335948\t\n",
       "current loss = 1.7105897315987\t\n",
       "current loss = 1.7105273537674\t\n",
       "current loss = 1.7104650000867\t\n",
       "current loss = 1.7104026705421\t\n",
       "current loss = 1.7103403651193\t\n"
      ]
     },
     "execution_count": 12,
     "metadata": {},
     "output_type": "execute_result"
    },
    {
     "data": {
      "text/plain": [
       "current loss = 1.7102780838041\t\n",
       "current loss = 1.710215826582\t\n",
       "current loss = 1.7101535934388\t\n",
       "current loss = 1.7100913843602\t\n",
       "current loss = 1.7100291993319\t\n",
       "current loss = 1.7099670383396\t\n"
      ]
     },
     "execution_count": 12,
     "metadata": {},
     "output_type": "execute_result"
    },
    {
     "data": {
      "text/plain": [
       "current loss = 1.7099049013691\t\n",
       "current loss = 1.7098427884061\t\n",
       "current loss = 1.7097806994363\t\n",
       "current loss = 1.7097186344456\t\n",
       "current loss = 1.7096565934198\t\n",
       "current loss = 1.7095945763445\t\n"
      ]
     },
     "execution_count": 12,
     "metadata": {},
     "output_type": "execute_result"
    },
    {
     "data": {
      "text/plain": [
       "current loss = 1.7095325832057\t\n",
       "current loss = 1.7094706139891\t\n",
       "current loss = 1.7094086686806\t\n",
       "current loss = 1.709346747266\t\n",
       "current loss = 1.7092848497311\t\n"
      ]
     },
     "execution_count": 12,
     "metadata": {},
     "output_type": "execute_result"
    },
    {
     "data": {
      "text/plain": [
       "current loss = 1.7092229760619\t\n",
       "current loss = 1.7091611262441\t\n",
       "current loss = 1.7090993002638\t\n",
       "current loss = 1.7090374981067\t\n",
       "current loss = 1.7089757197588\t\n"
      ]
     },
     "execution_count": 12,
     "metadata": {},
     "output_type": "execute_result"
    },
    {
     "data": {
      "text/plain": [
       "current loss = 1.708913965206\t\n",
       "current loss = 1.7088522344342\t\n",
       "current loss = 1.7087905274293\t\n",
       "current loss = 1.7087288441774\t\n",
       "current loss = 1.7086671846644\t\n"
      ]
     },
     "execution_count": 12,
     "metadata": {},
     "output_type": "execute_result"
    },
    {
     "data": {
      "text/plain": [
       "current loss = 1.7086055488762\t\n",
       "current loss = 1.7085439367988\t\n",
       "current loss = 1.7084823484183\t\n",
       "current loss = 1.7084207837205\t\n",
       "current loss = 1.7083592426917\t\n",
       "current loss = 1.7082977253177\t\n"
      ]
     },
     "execution_count": 12,
     "metadata": {},
     "output_type": "execute_result"
    },
    {
     "data": {
      "text/plain": [
       "current loss = 1.7082362315846\t\n",
       "current loss = 1.7081747614784\t\n",
       "current loss = 1.7081133149853\t\n",
       "current loss = 1.7080518920913\t\n",
       "current loss = 1.7079904927825\t\n",
       "current loss = 1.7079291170449\t\n"
      ]
     },
     "execution_count": 12,
     "metadata": {},
     "output_type": "execute_result"
    },
    {
     "data": {
      "text/plain": [
       "current loss = 1.7078677648647\t\n",
       "current loss = 1.707806436228\t\n",
       "current loss = 1.7077451311209\t\n",
       "current loss = 1.7076838495295\t\n",
       "current loss = 1.7076225914401\t\n",
       "current loss = 1.7075613568387\t\n",
       "current loss = 1.7075001457115\t\n"
      ]
     },
     "execution_count": 12,
     "metadata": {},
     "output_type": "execute_result"
    },
    {
     "data": {
      "text/plain": [
       "current loss = 1.7074389580447\t\n",
       "current loss = 1.7073777938245\t\n",
       "current loss = 1.7073166530371\t\n",
       "current loss = 1.7072555356687\t\n",
       "current loss = 1.7071944417056\t\n",
       "current loss = 1.7071333711339\t\n"
      ]
     },
     "execution_count": 12,
     "metadata": {},
     "output_type": "execute_result"
    },
    {
     "data": {
      "text/plain": [
       "current loss = 1.7070723239399\t\n",
       "current loss = 1.7070113001099\t\n",
       "current loss = 1.7069502996302\t\n",
       "current loss = 1.7068893224869\t\n",
       "current loss = 1.7068283686664\t\n",
       "current loss = 1.7067674381551\t\n"
      ]
     },
     "execution_count": 12,
     "metadata": {},
     "output_type": "execute_result"
    },
    {
     "data": {
      "text/plain": [
       "current loss = 1.7067065309391\t\n",
       "current loss = 1.7066456470049\t\n",
       "current loss = 1.7065847863387\t\n",
       "current loss = 1.706523948927\t\n",
       "current loss = 1.7064631347559\t\n"
      ]
     },
     "execution_count": 12,
     "metadata": {},
     "output_type": "execute_result"
    },
    {
     "data": {
      "text/plain": [
       "current loss = 1.706402343812\t\n",
       "current loss = 1.7063415760816\t\n",
       "current loss = 1.7062808315511\t\n",
       "current loss = 1.7062201102068\t\n",
       "current loss = 1.7061594120352\t\n",
       "current loss = 1.7060987370227\t\n",
       "current loss = 1.7060380851557\t\n"
      ]
     },
     "execution_count": 12,
     "metadata": {},
     "output_type": "execute_result"
    },
    {
     "data": {
      "text/plain": [
       "current loss = 1.7059774564206\t\n",
       "current loss = 1.705916850804\t\n",
       "current loss = 1.7058562682922\t\n",
       "current loss = 1.7057957088717\t\n",
       "current loss = 1.7057351725291\t\n",
       "current loss = 1.7056746592507\t\n"
      ]
     },
     "execution_count": 12,
     "metadata": {},
     "output_type": "execute_result"
    },
    {
     "data": {
      "text/plain": [
       "current loss = 1.7056141690232\t\n",
       "current loss = 1.7055537018329\t\n",
       "current loss = 1.7054932576665\t\n",
       "current loss = 1.7054328365104\t\n",
       "current loss = 1.7053724383513\t\n",
       "current loss = 1.7053120631756\t\n"
      ]
     },
     "execution_count": 12,
     "metadata": {},
     "output_type": "execute_result"
    },
    {
     "data": {
      "text/plain": [
       "current loss = 1.7052517109699\t\n",
       "current loss = 1.7051913817208\t\n",
       "current loss = 1.7051310754149\t\n",
       "current loss = 1.7050707920388\t\n",
       "current loss = 1.705010531579\t\n",
       "current loss = 1.7049502940223\t\n"
      ]
     },
     "execution_count": 12,
     "metadata": {},
     "output_type": "execute_result"
    },
    {
     "data": {
      "text/plain": [
       "current loss = 1.7048900793552\t\n",
       "current loss = 1.7048298875643\t\n",
       "current loss = 1.7047697186363\t\n",
       "current loss = 1.7047095725579\t\n"
      ]
     },
     "execution_count": 12,
     "metadata": {},
     "output_type": "execute_result"
    },
    {
     "data": {
      "text/plain": [
       "current loss = 1.7046494493158\t\n",
       "current loss = 1.7045893488965\t\n",
       "current loss = 1.7045292712868\t\n",
       "current loss = 1.7044692164735\t\n",
       "current loss = 1.7044091844431\t\n",
       "current loss = 1.7043491751825\t\n"
      ]
     },
     "execution_count": 12,
     "metadata": {},
     "output_type": "execute_result"
    },
    {
     "data": {
      "text/plain": [
       "current loss = 1.7042891886783\t\n",
       "current loss = 1.7042292249173\t\n",
       "current loss = 1.7041692838863\t\n",
       "current loss = 1.7041093655719\t\n",
       "current loss = 1.7040494699611\t\n",
       "current loss = 1.7039895970405\t\n",
       "current loss = 1.7039297467969\t\n"
      ]
     },
     "execution_count": 12,
     "metadata": {},
     "output_type": "execute_result"
    },
    {
     "data": {
      "text/plain": [
       "current loss = 1.7038699192172\t\n",
       "current loss = 1.7038101142881\t\n",
       "current loss = 1.7037503319966\t\n",
       "current loss = 1.7036905723293\t\n",
       "current loss = 1.7036308352733\t\n",
       "current loss = 1.7035711208152\t\n"
      ]
     },
     "execution_count": 12,
     "metadata": {},
     "output_type": "execute_result"
    },
    {
     "data": {
      "text/plain": [
       "current loss = 1.703511428942\t\n",
       "current loss = 1.7034517596405\t\n",
       "current loss = 1.7033921128977\t\n",
       "current loss = 1.7033324887004\t\n",
       "current loss = 1.7032728870356\t\n"
      ]
     },
     "execution_count": 12,
     "metadata": {},
     "output_type": "execute_result"
    },
    {
     "data": {
      "text/plain": [
       "current loss = 1.70321330789\t\n",
       "current loss = 1.7031537512508\t\n",
       "current loss = 1.7030942171047\t\n",
       "current loss = 1.7030347054388\t\n",
       "current loss = 1.70297521624\t\n",
       "current loss = 1.7029157494952\t\n",
       "current loss = 1.7028563051915\t\n"
      ]
     },
     "execution_count": 12,
     "metadata": {},
     "output_type": "execute_result"
    },
    {
     "data": {
      "text/plain": [
       "current loss = 1.7027968833158\t\n",
       "current loss = 1.7027374838551\t\n",
       "current loss = 1.7026781067965\t\n",
       "current loss = 1.7026187521268\t\n",
       "current loss = 1.7025594198333\t\n",
       "current loss = 1.7025001099028\t\n"
      ]
     },
     "execution_count": 12,
     "metadata": {},
     "output_type": "execute_result"
    },
    {
     "data": {
      "text/plain": [
       "current loss = 1.7024408223224\t\n",
       "current loss = 1.7023815570793\t\n",
       "current loss = 1.7023223141604\t\n",
       "current loss = 1.7022630935529\t\n",
       "current loss = 1.7022038952437\t\n",
       "current loss = 1.7021447192201\t\n"
      ]
     },
     "execution_count": 12,
     "metadata": {},
     "output_type": "execute_result"
    },
    {
     "data": {
      "text/plain": [
       "current loss = 1.7020855654691\t\n",
       "current loss = 1.7020264339778\t\n",
       "current loss = 1.7019673247333\t\n",
       "current loss = 1.7019082377229\t\n",
       "current loss = 1.7018491729336\t\n",
       "current loss = 1.7017901303525\t\n"
      ]
     },
     "execution_count": 12,
     "metadata": {},
     "output_type": "execute_result"
    },
    {
     "data": {
      "text/plain": [
       "current loss = 1.701731109967\t\n",
       "current loss = 1.701672111764\t\n",
       "current loss = 1.7016131357309\t\n",
       "current loss = 1.7015541818547\t\n",
       "current loss = 1.7014952501228\t\n",
       "current loss = 1.7014363405223\t\n"
      ]
     },
     "execution_count": 12,
     "metadata": {},
     "output_type": "execute_result"
    },
    {
     "data": {
      "text/plain": [
       "current loss = 1.7013774530404\t\n",
       "current loss = 1.7013185876644\t\n",
       "current loss = 1.7012597443815\t\n",
       "current loss = 1.701200923179\t\n",
       "current loss = 1.7011421240441\t\n",
       "current loss = 1.7010833469641\t\n"
      ]
     },
     "execution_count": 12,
     "metadata": {},
     "output_type": "execute_result"
    },
    {
     "data": {
      "text/plain": [
       "current loss = 1.7010245919263\t\n",
       "current loss = 1.700965858918\t\n",
       "current loss = 1.7009071479265\t\n"
      ]
     },
     "execution_count": 12,
     "metadata": {},
     "output_type": "execute_result"
    },
    {
     "data": {
      "text/plain": [
       "current loss = 1.700848458939\t\n"
      ]
     },
     "execution_count": 12,
     "metadata": {},
     "output_type": "execute_result"
    },
    {
     "data": {
      "text/plain": [
       "current loss = 1.700789791943\t\n",
       "current loss = 1.7007311469257\t\n"
      ]
     },
     "execution_count": 12,
     "metadata": {},
     "output_type": "execute_result"
    },
    {
     "data": {
      "text/plain": [
       "current loss = 1.7006725238745\t\n"
      ]
     },
     "execution_count": 12,
     "metadata": {},
     "output_type": "execute_result"
    },
    {
     "data": {
      "text/plain": [
       "current loss = 1.7006139227767\t\n",
       "current loss = 1.7005553436198\t\n"
      ]
     },
     "execution_count": 12,
     "metadata": {},
     "output_type": "execute_result"
    },
    {
     "data": {
      "text/plain": [
       "current loss = 1.7004967863909\t\n"
      ]
     },
     "execution_count": 12,
     "metadata": {},
     "output_type": "execute_result"
    },
    {
     "data": {
      "text/plain": [
       "current loss = 1.7004382510777\t\n"
      ]
     },
     "execution_count": 12,
     "metadata": {},
     "output_type": "execute_result"
    },
    {
     "data": {
      "text/plain": [
       "current loss = 1.7003797376673\t\n",
       "current loss = 1.7003212461473\t\n"
      ]
     },
     "execution_count": 12,
     "metadata": {},
     "output_type": "execute_result"
    },
    {
     "data": {
      "text/plain": [
       "current loss = 1.7002627765051\t\n",
       "current loss = 1.7002043287279\t\n",
       "current loss = 1.7001459028034\t\n",
       "current loss = 1.7000874987189\t\n",
       "current loss = 1.7000291164619\t"
      ]
     },
     "execution_count": 12,
     "metadata": {},
     "output_type": "execute_result"
    },
    {
     "data": {
      "text/plain": [
       "\n",
       "current loss = 1.6999707560198\t\n"
      ]
     },
     "execution_count": 12,
     "metadata": {},
     "output_type": "execute_result"
    },
    {
     "data": {
      "text/plain": [
       "current loss = 1.69991241738\t\n",
       "current loss = 1.6998541005302\t\n"
      ]
     },
     "execution_count": 12,
     "metadata": {},
     "output_type": "execute_result"
    },
    {
     "data": {
      "text/plain": [
       "current loss = 1.6997958054577\t\n",
       "current loss = 1.6997375321501\t\n",
       "current loss = 1.6996792805948\t\n",
       "current loss = 1.6996210507793\t\n",
       "current loss = 1.6995628426913\t\n",
       "current loss = 1.6995046563182\t\n",
       "current loss = 1.6994464916475\t\n",
       "current loss = 1.6993883486669\t"
      ]
     },
     "execution_count": 12,
     "metadata": {},
     "output_type": "execute_result"
    },
    {
     "data": {
      "text/plain": [
       "\n",
       "current loss = 1.6993302273638\t\n",
       "current loss = 1.6992721277259\t\n",
       "current loss = 1.6992140497408\t\n",
       "current loss = 1.6991559933959\t\n",
       "current loss = 1.699097958679\t\n"
      ]
     },
     "execution_count": 12,
     "metadata": {},
     "output_type": "execute_result"
    },
    {
     "data": {
      "text/plain": [
       "current loss = 1.6990399455776\t\n",
       "current loss = 1.6989819540794\t\n",
       "current loss = 1.6989239841719\t\n",
       "current loss = 1.6988660358428\t\n",
       "current loss = 1.6988081090799\t\n",
       "current loss = 1.6987502038706\t\n",
       "current loss = 1.6986923202027\t\n",
       "current loss = 1.6986344580639\t\n"
      ]
     },
     "execution_count": 12,
     "metadata": {},
     "output_type": "execute_result"
    },
    {
     "data": {
      "text/plain": [
       "current loss = 1.6985766174418\t\n",
       "current loss = 1.6985187983242\t\n",
       "current loss = 1.6984610006987\t\n",
       "current loss = 1.6984032245531\t\n",
       "current loss = 1.698345469875\t\n",
       "current loss = 1.6982877366523\t\n"
      ]
     },
     "execution_count": 12,
     "metadata": {},
     "output_type": "execute_result"
    },
    {
     "data": {
      "text/plain": [
       "current loss = 1.6982300248726\t\n",
       "current loss = 1.6981723345237\t\n",
       "current loss = 1.6981146655934\t\n",
       "current loss = 1.6980570180693\t\n",
       "current loss = 1.6979993919394\t\n",
       "current loss = 1.6979417871915\t\n",
       "current loss = 1.6978842038132\t\n",
       "current loss = 1.6978266417923\t\n"
      ]
     },
     "execution_count": 12,
     "metadata": {},
     "output_type": "execute_result"
    },
    {
     "data": {
      "text/plain": [
       "current loss = 1.6977691011168\t\n",
       "current loss = 1.6977115817745\t\n",
       "current loss = 1.6976540837531\t\n",
       "current loss = 1.6975966070406\t\n",
       "current loss = 1.6975391516247\t\n",
       "current loss = 1.6974817174933\t\n",
       "current loss = 1.6974243046343\t\n"
      ]
     },
     "execution_count": 12,
     "metadata": {},
     "output_type": "execute_result"
    },
    {
     "data": {
      "text/plain": [
       "current loss = 1.6973669130357\t\n",
       "current loss = 1.6973095426852\t\n",
       "current loss = 1.6972521935707\t\n",
       "current loss = 1.6971948656802\t\n",
       "current loss = 1.6971375590017\t\n",
       "current loss = 1.6970802735229\t\n",
       "current loss = 1.6970230092319\t\n",
       "current loss = 1.6969657661166\t\n",
       "current loss = 1.696908544165\t\n"
      ]
     },
     "execution_count": 12,
     "metadata": {},
     "output_type": "execute_result"
    },
    {
     "data": {
      "text/plain": [
       "current loss = 1.696851343365\t\n",
       "current loss = 1.6967941637046\t\n",
       "current loss = 1.6967370051717\t\n",
       "current loss = 1.6966798677544\t\n",
       "current loss = 1.6966227514407\t\n",
       "current loss = 1.6965656562185\t\n",
       "current loss = 1.6965085820759\t\n"
      ]
     },
     "execution_count": 12,
     "metadata": {},
     "output_type": "execute_result"
    },
    {
     "data": {
      "text/plain": [
       "current loss = 1.6964515290009\t\n",
       "current loss = 1.6963944969816\t\n",
       "current loss = 1.6963374860059\t\n",
       "current loss = 1.696280496062\t\n",
       "current loss = 1.696223527138\t\n",
       "current loss = 1.6961665792217\t\n",
       "current loss = 1.6961096523015\t\n",
       "current loss = 1.6960527463653\t\n"
      ]
     },
     "execution_count": 12,
     "metadata": {},
     "output_type": "execute_result"
    },
    {
     "data": {
      "text/plain": [
       "current loss = 1.6959958614013\t\n",
       "current loss = 1.6959389973975\t\n",
       "current loss = 1.6958821543421\t\n",
       "current loss = 1.6958253322231\t\n",
       "current loss = 1.6957685310289\t\n",
       "current loss = 1.6957117507474\t\n",
       "current loss = 1.6956549913668\t\n",
       "current loss = 1.6955982528753\t\n"
      ]
     },
     "execution_count": 12,
     "metadata": {},
     "output_type": "execute_result"
    },
    {
     "data": {
      "text/plain": [
       "current loss = 1.6955415352611\t\n",
       "current loss = 1.6954848385123\t\n",
       "current loss = 1.6954281626172\t\n",
       "current loss = 1.6953715075639\t\n",
       "current loss = 1.6953148733406\t\n",
       "current loss = 1.6952582599356\t\n",
       "current loss = 1.6952016673371\t\n",
       "current loss = 1.6951450955332\t\n"
      ]
     },
     "execution_count": 12,
     "metadata": {},
     "output_type": "execute_result"
    },
    {
     "data": {
      "text/plain": [
       "current loss = 1.6950885445124\t\n",
       "current loss = 1.6950320142627\t\n",
       "current loss = 1.6949755047725\t\n",
       "current loss = 1.69491901603\t\n",
       "current loss = 1.6948625480235\t\n",
       "current loss = 1.6948061007413\t\n",
       "current loss = 1.6947496741717\t\n",
       "current loss = 1.694693268303\t\n"
      ]
     },
     "execution_count": 12,
     "metadata": {},
     "output_type": "execute_result"
    },
    {
     "data": {
      "text/plain": [
       "current loss = 1.6946368831235\t\n",
       "current loss = 1.6945805186215\t\n",
       "current loss = 1.6945241747854\t\n",
       "current loss = 1.6944678516035\t\n",
       "current loss = 1.6944115490641\t\n",
       "current loss = 1.6943552671556\t\n",
       "current loss = 1.6942990058664\t\n"
      ]
     },
     "execution_count": 12,
     "metadata": {},
     "output_type": "execute_result"
    },
    {
     "data": {
      "text/plain": [
       "current loss = 1.6942427651848\t\n",
       "current loss = 1.6941865450993\t\n",
       "current loss = 1.6941303455981\t\n",
       "current loss = 1.6940741666698\t\n",
       "current loss = 1.6940180083027\t\n"
      ]
     },
     "execution_count": 12,
     "metadata": {},
     "output_type": "execute_result"
    },
    {
     "data": {
      "text/plain": [
       "current loss = 1.6939618704853\t\n",
       "current loss = 1.6939057532059\t\n",
       "current loss = 1.693849656453\t\n",
       "current loss = 1.6937935802151\t\n",
       "current loss = 1.6937375244805\t\n",
       "current loss = 1.6936814892379\t\n",
       "current loss = 1.6936254744755\t\n"
      ]
     },
     "execution_count": 12,
     "metadata": {},
     "output_type": "execute_result"
    },
    {
     "data": {
      "text/plain": [
       "current loss = 1.693569480182\t\n",
       "current loss = 1.6935135063458\t\n",
       "current loss = 1.6934575529554\t\n",
       "current loss = 1.6934016199992\t\n",
       "current loss = 1.6933457074659\t\n",
       "current loss = 1.6932898153439\t\n",
       "current loss = 1.6932339436218\t\n",
       "current loss = 1.6931780922881\t\n"
      ]
     },
     "execution_count": 12,
     "metadata": {},
     "output_type": "execute_result"
    },
    {
     "data": {
      "text/plain": [
       "current loss = 1.6931222613313\t\n",
       "current loss = 1.69306645074\t\n",
       "current loss = 1.6930106605028\t\n",
       "current loss = 1.6929548906083\t\n",
       "current loss = 1.692899141045\t\n",
       "current loss = 1.6928434118015\t\n",
       "current loss = 1.6927877028664\t\n"
      ]
     },
     "execution_count": 12,
     "metadata": {},
     "output_type": "execute_result"
    },
    {
     "data": {
      "text/plain": [
       "current loss = 1.6927320142283\t\n",
       "current loss = 1.6926763458759\t\n",
       "current loss = 1.6926206977977\t\n",
       "current loss = 1.6925650699825\t\n",
       "current loss = 1.6925094624188\t\n",
       "current loss = 1.6924538750952\t\n",
       "current loss = 1.6923983080005\t\n",
       "current loss = 1.6923427611234\t\n"
      ]
     },
     "execution_count": 12,
     "metadata": {},
     "output_type": "execute_result"
    },
    {
     "data": {
      "text/plain": [
       "current loss = 1.6922872344524\t\n",
       "current loss = 1.6922317279763\t\n",
       "current loss = 1.6921762416838\t\n",
       "current loss = 1.6921207755635\t\n",
       "current loss = 1.6920653296042\t\n",
       "current loss = 1.6920099037946\t\n",
       "current loss = 1.6919544981235\t\n",
       "current loss = 1.6918991125795\t\n"
      ]
     },
     "execution_count": 12,
     "metadata": {},
     "output_type": "execute_result"
    },
    {
     "data": {
      "text/plain": [
       "current loss = 1.6918437471514\t\n",
       "current loss = 1.6917884018279\t\n",
       "current loss = 1.6917330765979\t\n",
       "current loss = 1.69167777145\t\n",
       "current loss = 1.6916224863731\t\n",
       "current loss = 1.6915672213559\t\n",
       "current loss = 1.6915119763873\t\n",
       "current loss = 1.691456751456\t\n",
       "current loss = 1.6914015465509\t\n"
      ]
     },
     "execution_count": 12,
     "metadata": {},
     "output_type": "execute_result"
    },
    {
     "data": {
      "text/plain": [
       "current loss = 1.6913463616607\t\n",
       "current loss = 1.6912911967744\t\n",
       "current loss = 1.6912360518806\t\n",
       "current loss = 1.6911809269683\t\n",
       "current loss = 1.6911258220264\t\n",
       "current loss = 1.6910707370436\t\n",
       "current loss = 1.6910156720089\t\n",
       "current loss = 1.6909606269111\t\n"
      ]
     },
     "execution_count": 12,
     "metadata": {},
     "output_type": "execute_result"
    },
    {
     "data": {
      "text/plain": [
       "current loss = 1.6909056017391\t\n",
       "current loss = 1.6908505964819\t\n",
       "current loss = 1.6907956111282\t\n",
       "current loss = 1.6907406456671\t\n",
       "current loss = 1.6906857000874\t\n",
       "current loss = 1.690630774378\t\n",
       "current loss = 1.690575868528\t\n",
       "current loss = 1.6905209825262\t\n"
      ]
     },
     "execution_count": 12,
     "metadata": {},
     "output_type": "execute_result"
    },
    {
     "data": {
      "text/plain": [
       "current loss = 1.6904661163616\t\n",
       "current loss = 1.6904112700231\t\n",
       "current loss = 1.6903564434998\t\n",
       "current loss = 1.6903016367806\t\n",
       "current loss = 1.6902468498544\t\n",
       "current loss = 1.6901920827103\t\n",
       "current loss = 1.6901373353373\t\n",
       "current loss = 1.6900826077244\t\n"
      ]
     },
     "execution_count": 12,
     "metadata": {},
     "output_type": "execute_result"
    },
    {
     "data": {
      "text/plain": [
       "current loss = 1.6900278998605\t\n",
       "current loss = 1.6899732117348\t\n",
       "current loss = 1.6899185433362\t\n",
       "current loss = 1.6898638946539\t\n",
       "current loss = 1.6898092656767\t\n",
       "current loss = 1.6897546563939\t\n",
       "current loss = 1.6897000667944\t\n",
       "current loss = 1.6896454968674\t\n"
      ]
     },
     "execution_count": 12,
     "metadata": {},
     "output_type": "execute_result"
    },
    {
     "data": {
      "text/plain": [
       "current loss = 1.6895909466019\t\n",
       "current loss = 1.689536415987\t\n",
       "current loss = 1.6894819050118\t\n",
       "current loss = 1.6894274136654\t\n",
       "current loss = 1.689372941937\t\n",
       "current loss = 1.6893184898156\t\n",
       "current loss = 1.6892640572904\t\n",
       "current loss = 1.6892096443505\t\n"
      ]
     },
     "execution_count": 12,
     "metadata": {},
     "output_type": "execute_result"
    },
    {
     "data": {
      "text/plain": [
       "current loss = 1.689155250985\t\n",
       "current loss = 1.6891008771832\t\n",
       "current loss = 1.6890465229342\t\n",
       "current loss = 1.6889921882271\t\n",
       "current loss = 1.6889378730512\t\n",
       "current loss = 1.6888835773955\t\n"
      ]
     },
     "execution_count": 12,
     "metadata": {},
     "output_type": "execute_result"
    },
    {
     "data": {
      "text/plain": [
       "current loss = 1.6888293012494\t\n",
       "current loss = 1.688775044602\t\n",
       "current loss = 1.6887208074425\t\n",
       "current loss = 1.6886665897601\t\n",
       "current loss = 1.6886123915441\t\n",
       "current loss = 1.6885582127838\t\n",
       "current loss = 1.6885040534682\t\n"
      ]
     },
     "execution_count": 12,
     "metadata": {},
     "output_type": "execute_result"
    },
    {
     "data": {
      "text/plain": [
       "current loss = 1.6884499135868\t\n",
       "current loss = 1.6883957931287\t\n",
       "current loss = 1.6883416920832\t\n",
       "current loss = 1.6882876104396\t\n",
       "current loss = 1.6882335481872\t\n",
       "current loss = 1.6881795053152\t\n",
       "current loss = 1.688125481813\t\n",
       "current loss = 1.6880714776699\t\n"
      ]
     },
     "execution_count": 12,
     "metadata": {},
     "output_type": "execute_result"
    },
    {
     "data": {
      "text/plain": [
       "current loss = 1.6880174928751\t\n",
       "current loss = 1.6879635274181\t\n",
       "current loss = 1.6879095812881\t\n",
       "current loss = 1.6878556544744\t\n",
       "current loss = 1.6878017469664\t\n",
       "current loss = 1.6877478587536\t\n",
       "current loss = 1.6876939898251\t\n"
      ]
     },
     "execution_count": 12,
     "metadata": {},
     "output_type": "execute_result"
    },
    {
     "data": {
      "text/plain": [
       "current loss = 1.6876401401704\t\n",
       "current loss = 1.6875863097789\t\n",
       "current loss = 1.68753249864\t\n",
       "current loss = 1.687478706743\t\n",
       "current loss = 1.6874249340773\t\n",
       "current loss = 1.6873711806324\t\n"
      ]
     },
     "execution_count": 12,
     "metadata": {},
     "output_type": "execute_result"
    },
    {
     "data": {
      "text/plain": [
       "current loss = 1.6873174463977\t\n",
       "current loss = 1.6872637313625\t\n",
       "current loss = 1.6872100355164\t\n",
       "current loss = 1.6871563588487\t\n",
       "current loss = 1.687102701349\t\n",
       "current loss = 1.6870490630066\t\n",
       "current loss = 1.686995443811\t\n",
       "current loss = 1.6869418437517\t\n",
       "current loss = 1.6868882628182\t\n"
      ]
     },
     "execution_count": 12,
     "metadata": {},
     "output_type": "execute_result"
    },
    {
     "data": {
      "text/plain": [
       "current loss = 1.6868347009999\t\n",
       "current loss = 1.6867811582864\t\n",
       "current loss = 1.6867276346672\t\n",
       "current loss = 1.6866741301316\t\n",
       "current loss = 1.6866206446694\t\n",
       "current loss = 1.68656717827\t\n",
       "current loss = 1.6865137309229\t\n"
      ]
     },
     "execution_count": 12,
     "metadata": {},
     "output_type": "execute_result"
    },
    {
     "data": {
      "text/plain": [
       "current loss = 1.6864603026176\t\n",
       "current loss = 1.6864068933438\t\n",
       "current loss = 1.6863535030909\t\n",
       "current loss = 1.6863001318486\t\n",
       "current loss = 1.6862467796063\t\n",
       "current loss = 1.6861934463538\t\n",
       "current loss = 1.6861401320805\t\n",
       "current loss = 1.686086836776\t\n"
      ]
     },
     "execution_count": 12,
     "metadata": {},
     "output_type": "execute_result"
    },
    {
     "data": {
      "text/plain": [
       "current loss = 1.68603356043\t\n",
       "current loss = 1.6859803030321\t\n",
       "current loss = 1.6859270645719\t\n",
       "current loss = 1.6858738450389\t\n",
       "current loss = 1.6858206444229\t\n",
       "current loss = 1.6857674627135\t\n",
       "current loss = 1.6857142999003\t\n",
       "current loss = 1.6856611559729\t\n"
      ]
     },
     "execution_count": 12,
     "metadata": {},
     "output_type": "execute_result"
    },
    {
     "data": {
      "text/plain": [
       "current loss = 1.6856080309211\t\n",
       "current loss = 1.6855549247345\t\n",
       "current loss = 1.6855018374027\t\n",
       "current loss = 1.6854487689155\t\n",
       "current loss = 1.6853957192626\t\n",
       "current loss = 1.6853426884336\t\n",
       "current loss = 1.6852896764183\t\n",
       "current loss = 1.6852366832064\t\n",
       "current loss = 1.6851837087875\t\n"
      ]
     },
     "execution_count": 12,
     "metadata": {},
     "output_type": "execute_result"
    },
    {
     "data": {
      "text/plain": [
       "current loss = 1.6851307531515\t\n",
       "current loss = 1.685077816288\t\n",
       "current loss = 1.6850248981868\t\n",
       "current loss = 1.6849719988377\t\n",
       "current loss = 1.6849191182304\t\n",
       "current loss = 1.6848662563546\t\n",
       "current loss = 1.6848134132002\t\n",
       "current loss = 1.684760588757\t\n"
      ]
     },
     "execution_count": 12,
     "metadata": {},
     "output_type": "execute_result"
    },
    {
     "data": {
      "text/plain": [
       "current loss = 1.6847077830147\t\n",
       "current loss = 1.6846549959631\t\n",
       "current loss = 1.684602227592\t\n",
       "current loss = 1.6845494778912\t\n",
       "current loss = 1.6844967468506\t\n",
       "current loss = 1.68444403446\t\n",
       "current loss = 1.6843913407092\t\n",
       "current loss = 1.6843386655881\t\n"
      ]
     },
     "execution_count": 12,
     "metadata": {},
     "output_type": "execute_result"
    },
    {
     "data": {
      "text/plain": [
       "current loss = 1.6842860090864\t\n",
       "current loss = 1.6842333711941\t\n",
       "current loss = 1.684180751901\t\n",
       "current loss = 1.6841281511971\t\n",
       "current loss = 1.684075569072\t\n",
       "current loss = 1.6840230055159\t\n"
      ]
     },
     "execution_count": 12,
     "metadata": {},
     "output_type": "execute_result"
    },
    {
     "data": {
      "text/plain": [
       "current loss = 1.6839704605185\t\n",
       "current loss = 1.6839179340697\t\n",
       "current loss = 1.6838654261595\t\n",
       "current loss = 1.6838129367777\t\n",
       "current loss = 1.6837604659144\t\n",
       "current loss = 1.6837080135593\t\n"
      ]
     },
     "execution_count": 12,
     "metadata": {},
     "output_type": "execute_result"
    },
    {
     "data": {
      "text/plain": [
       "current loss = 1.6836555797025\t\n",
       "current loss = 1.683603164334\t\n",
       "current loss = 1.6835507674435\t\n",
       "current loss = 1.6834983890212\t\n",
       "current loss = 1.6834460290569\t\n",
       "current loss = 1.6833936875407\t\n",
       "current loss = 1.6833413644626\t\n",
       "current loss = 1.6832890598124\t\n"
      ]
     },
     "execution_count": 12,
     "metadata": {},
     "output_type": "execute_result"
    },
    {
     "data": {
      "text/plain": [
       "current loss = 1.6832367735802\t\n",
       "current loss = 1.6831845057561\t\n",
       "current loss = 1.68313225633\t\n",
       "current loss = 1.6830800252919\t\n",
       "current loss = 1.6830278126319\t\n",
       "current loss = 1.68297561834\t\n",
       "current loss = 1.6829234424062\t\n",
       "current loss = 1.6828712848206\t\n"
      ]
     },
     "execution_count": 12,
     "metadata": {},
     "output_type": "execute_result"
    },
    {
     "data": {
      "text/plain": [
       "current loss = 1.6828191455732\t\n",
       "current loss = 1.6827670246542\t\n",
       "current loss = 1.6827149220534\t\n",
       "current loss = 1.6826628377611\t\n",
       "current loss = 1.6826107717674\t\n",
       "current loss = 1.6825587240622\t\n",
       "current loss = 1.6825066946357\t\n"
      ]
     },
     "execution_count": 12,
     "metadata": {},
     "output_type": "execute_result"
    },
    {
     "data": {
      "text/plain": [
       "current loss = 1.6824546834781\t\n",
       "current loss = 1.6824026905793\t\n",
       "current loss = 1.6823507159296\t\n",
       "current loss = 1.682298759519\t\n",
       "current loss = 1.6822468213378\t\n",
       "current loss = 1.6821949013759\t\n",
       "current loss = 1.6821429996236\t\n",
       "current loss = 1.6820911160711\t\n"
      ]
     },
     "execution_count": 12,
     "metadata": {},
     "output_type": "execute_result"
    },
    {
     "data": {
      "text/plain": [
       "current loss = 1.6820392507084\t\n",
       "current loss = 1.6819874035258\t\n",
       "current loss = 1.6819355745135\t\n",
       "current loss = 1.6818837636615\t\n",
       "current loss = 1.6818319709601\t\n",
       "current loss = 1.6817801963996\t\n"
      ]
     },
     "execution_count": 12,
     "metadata": {},
     "output_type": "execute_result"
    },
    {
     "data": {
      "text/plain": [
       "current loss = 1.68172843997\t\n",
       "current loss = 1.6816767016616\t\n",
       "current loss = 1.6816249814647\t\n",
       "current loss = 1.6815732793694\t\n",
       "current loss = 1.681521595366\t\n",
       "current loss = 1.6814699294447\t\n",
       "current loss = 1.6814182815958\t\n"
      ]
     },
     "execution_count": 12,
     "metadata": {},
     "output_type": "execute_result"
    },
    {
     "data": {
      "text/plain": [
       "current loss = 1.6813666518095\t\n",
       "current loss = 1.6813150400761\t\n",
       "current loss = 1.6812634463858\t\n",
       "current loss = 1.6812118707289\t\n",
       "current loss = 1.6811603130958\t\n",
       "current loss = 1.6811087734766\t\n",
       "current loss = 1.6810572518617\t\n",
       "current loss = 1.6810057482414\t\n"
      ]
     },
     "execution_count": 12,
     "metadata": {},
     "output_type": "execute_result"
    },
    {
     "data": {
      "text/plain": [
       "current loss = 1.680954262606\t\n",
       "current loss = 1.6809027949458\t\n",
       "current loss = 1.6808513452511\t\n",
       "current loss = 1.6807999135122\t\n",
       "current loss = 1.6807484997196\t\n",
       "current loss = 1.6806971038635\t\n",
       "current loss = 1.6806457259343\t\n",
       "current loss = 1.6805943659223\t\n"
      ]
     },
     "execution_count": 12,
     "metadata": {},
     "output_type": "execute_result"
    },
    {
     "data": {
      "text/plain": [
       "current loss = 1.680543023818\t\n",
       "current loss = 1.6804916996116\t\n",
       "current loss = 1.6804403932936\t\n",
       "current loss = 1.6803891048543\t\n",
       "current loss = 1.6803378342842\t\n",
       "current loss = 1.6802865815736\t\n",
       "current loss = 1.6802353467129\t\n",
       "current loss = 1.6801841296926\t\n"
      ]
     },
     "execution_count": 12,
     "metadata": {},
     "output_type": "execute_result"
    },
    {
     "data": {
      "text/plain": [
       "current loss = 1.6801329305031\t\n",
       "current loss = 1.6800817491348\t\n",
       "current loss = 1.680030585578\t\n",
       "current loss = 1.6799794398234\t\n",
       "current loss = 1.6799283118613\t\n",
       "current loss = 1.6798772016822\t\n",
       "current loss = 1.6798261092765\t\n",
       "current loss = 1.6797750346347\t\n"
      ]
     },
     "execution_count": 12,
     "metadata": {},
     "output_type": "execute_result"
    },
    {
     "data": {
      "text/plain": [
       "current loss = 1.6797239777473\t\n",
       "current loss = 1.6796729386047\t\n",
       "current loss = 1.6796219171975\t\n",
       "current loss = 1.6795709135161\t\n",
       "current loss = 1.6795199275511\t\n",
       "current loss = 1.6794689592929\t\n",
       "current loss = 1.6794180087321\t\n"
      ]
     },
     "execution_count": 12,
     "metadata": {},
     "output_type": "execute_result"
    },
    {
     "data": {
      "text/plain": [
       "current loss = 1.6793670758592\t\n",
       "current loss = 1.6793161606647\t\n",
       "current loss = 1.6792652631391\t\n",
       "current loss = 1.6792143832731\t\n",
       "current loss = 1.6791635210571\t\n",
       "current loss = 1.6791126764817\t\n",
       "current loss = 1.6790618495374\t\n"
      ]
     },
     "execution_count": 12,
     "metadata": {},
     "output_type": "execute_result"
    },
    {
     "data": {
      "text/plain": [
       "current loss = 1.6790110402149\t\n",
       "current loss = 1.6789602485047\t\n",
       "current loss = 1.6789094743975\t\n",
       "current loss = 1.6788587178836\t\n",
       "current loss = 1.6788079789539\t\n",
       "current loss = 1.6787572575989\t\n",
       "current loss = 1.6787065538091\t\n",
       "current loss = 1.6786558675753\t\n"
      ]
     },
     "execution_count": 12,
     "metadata": {},
     "output_type": "execute_result"
    },
    {
     "data": {
      "text/plain": [
       "current loss = 1.678605198888\t\n",
       "current loss = 1.6785545477378\t\n",
       "current loss = 1.6785039141155\t\n",
       "current loss = 1.6784532980116\t\n",
       "current loss = 1.6784026994168\t\n",
       "current loss = 1.6783521183217\t\n",
       "current loss = 1.6783015547171\t\n"
      ]
     },
     "execution_count": 12,
     "metadata": {},
     "output_type": "execute_result"
    },
    {
     "data": {
      "text/plain": [
       "current loss = 1.6782510085936\t\n",
       "current loss = 1.6782004799418\t\n",
       "current loss = 1.6781499687524\t\n",
       "current loss = 1.6780994750162\t\n",
       "current loss = 1.6780489987239\t\n",
       "current loss = 1.6779985398661\t\n",
       "current loss = 1.6779480984335\t\n",
       "current loss = 1.6778976744169\t\n"
      ]
     },
     "execution_count": 12,
     "metadata": {},
     "output_type": "execute_result"
    },
    {
     "data": {
      "text/plain": [
       "current loss = 1.677847267807\t\n",
       "current loss = 1.6777968785944\t\n",
       "current loss = 1.6777465067701\t\n",
       "current loss = 1.6776961523246\t\n",
       "current loss = 1.6776458152488\t\n",
       "current loss = 1.6775954955334\t\n",
       "current loss = 1.6775451931692\t\n",
       "current loss = 1.6774949081469\t\n"
      ]
     },
     "execution_count": 12,
     "metadata": {},
     "output_type": "execute_result"
    },
    {
     "data": {
      "text/plain": [
       "current loss = 1.6774446404573\t\n",
       "current loss = 1.6773943900913\t\n",
       "current loss = 1.6773441570395\t\n",
       "current loss = 1.6772939412927\t\n",
       "current loss = 1.6772437428419\t\n",
       "current loss = 1.6771935616778\t\n"
      ]
     },
     "execution_count": 12,
     "metadata": {},
     "output_type": "execute_result"
    },
    {
     "data": {
      "text/plain": [
       "current loss = 1.6771433977911\t\n",
       "current loss = 1.6770932511728\t\n",
       "current loss = 1.6770431218137\t\n",
       "current loss = 1.6769930097046\t\n"
      ]
     },
     "execution_count": 12,
     "metadata": {},
     "output_type": "execute_result"
    },
    {
     "data": {
      "text/plain": [
       "current loss = 1.6769429148362\t\n",
       "current loss = 1.6768928371996\t\n",
       "current loss = 1.6768427767855\t\n"
      ]
     },
     "execution_count": 12,
     "metadata": {},
     "output_type": "execute_result"
    },
    {
     "data": {
      "text/plain": [
       "current loss = 1.6767927335849\t\n",
       "current loss = 1.6767427075884\t\n",
       "current loss = 1.6766926987872\t\n",
       "current loss = 1.6766427071719\t\n",
       "current loss = 1.6765927327336\t\n",
       "current loss = 1.676542775463\t\n",
       "current loss = 1.6764928353512\t\n"
      ]
     },
     "execution_count": 12,
     "metadata": {},
     "output_type": "execute_result"
    },
    {
     "data": {
      "text/plain": [
       "current loss = 1.676442912389\t\n",
       "current loss = 1.6763930065673\t\n",
       "current loss = 1.676343117877\t\n",
       "current loss = 1.6762932463091\t\n",
       "current loss = 1.6762433918545\t\n",
       "current loss = 1.6761935545041\t\n",
       "current loss = 1.676143734249\t\n"
      ]
     },
     "execution_count": 12,
     "metadata": {},
     "output_type": "execute_result"
    },
    {
     "data": {
      "text/plain": [
       "current loss = 1.6760939310799\t\n",
       "current loss = 1.676044144988\t\n",
       "current loss = 1.6759943759641\t\n",
       "current loss = 1.6759446239993\t\n",
       "current loss = 1.6758948890844\t\n",
       "current loss = 1.6758451712106\t\n"
      ]
     },
     "execution_count": 12,
     "metadata": {},
     "output_type": "execute_result"
    },
    {
     "data": {
      "text/plain": [
       "current loss = 1.6757954703687\t\n",
       "current loss = 1.6757457865498\t\n",
       "current loss = 1.6756961197448\t\n",
       "current loss = 1.6756464699449\t\n",
       "current loss = 1.675596837141\t\n"
      ]
     },
     "execution_count": 12,
     "metadata": {},
     "output_type": "execute_result"
    },
    {
     "data": {
      "text/plain": [
       "current loss = 1.6755472213241\t\n",
       "current loss = 1.6754976224852\t\n",
       "current loss = 1.6754480406154\t\n",
       "current loss = 1.6753984757058\t\n",
       "current loss = 1.6753489277473\t\n"
      ]
     },
     "execution_count": 12,
     "metadata": {},
     "output_type": "execute_result"
    },
    {
     "data": {
      "text/plain": [
       "current loss = 1.6752993967311\t\n",
       "current loss = 1.6752498826482\t\n",
       "current loss = 1.6752003854896\t\n",
       "current loss = 1.6751509052464\t\n",
       "current loss = 1.6751014419098\t\n",
       "current loss = 1.6750519954707\t\n",
       "current loss = 1.6750025659203\t\n"
      ]
     },
     "execution_count": 12,
     "metadata": {},
     "output_type": "execute_result"
    },
    {
     "data": {
      "text/plain": [
       "current loss = 1.6749531532497\t\n",
       "current loss = 1.67490375745\t\n",
       "current loss = 1.6748543785123\t\n",
       "current loss = 1.6748050164277\t\n",
       "current loss = 1.6747556711873\t\n",
       "current loss = 1.6747063427823\t\n",
       "current loss = 1.6746570312038\t\n"
      ]
     },
     "execution_count": 12,
     "metadata": {},
     "output_type": "execute_result"
    },
    {
     "data": {
      "text/plain": [
       "current loss = 1.6746077364429\t\n",
       "current loss = 1.6745584584909\t\n",
       "current loss = 1.6745091973387\t\n",
       "current loss = 1.6744599529777\t\n",
       "current loss = 1.6744107253989\t\n",
       "current loss = 1.6743615145936\t\n"
      ]
     },
     "execution_count": 12,
     "metadata": {},
     "output_type": "execute_result"
    },
    {
     "data": {
      "text/plain": [
       "current loss = 1.6743123205529\t\n",
       "current loss = 1.674263143268\t\n",
       "current loss = 1.6742139827301\t\n",
       "current loss = 1.6741648389304\t\n",
       "current loss = 1.6741157118601\t\n",
       "current loss = 1.6740666015104\t\n"
      ]
     },
     "execution_count": 12,
     "metadata": {},
     "output_type": "execute_result"
    },
    {
     "data": {
      "text/plain": [
       "current loss = 1.6740175078725\t\n",
       "current loss = 1.6739684309377\t\n",
       "current loss = 1.6739193706972\t\n",
       "current loss = 1.6738703271421\t\n",
       "current loss = 1.6738213002639\t\n",
       "current loss = 1.6737722900536\t\n",
       "current loss = 1.6737232965026\t\n"
      ]
     },
     "execution_count": 12,
     "metadata": {},
     "output_type": "execute_result"
    },
    {
     "data": {
      "text/plain": [
       "current loss = 1.673674319602\t\n",
       "current loss = 1.6736253593433\t\n",
       "current loss = 1.6735764157176\t\n",
       "current loss = 1.6735274887162\t\n",
       "current loss = 1.6734785783305\t\n"
      ]
     },
     "execution_count": 12,
     "metadata": {},
     "output_type": "execute_result"
    },
    {
     "data": {
      "text/plain": [
       "current loss = 1.6734296845516\t\n",
       "current loss = 1.673380807371\t\n",
       "current loss = 1.6733319467798\t\n",
       "current loss = 1.6732831027695\t\n",
       "current loss = 1.6732342753312\t\n",
       "current loss = 1.6731854644565\t\n"
      ]
     },
     "execution_count": 12,
     "metadata": {},
     "output_type": "execute_result"
    },
    {
     "data": {
      "text/plain": [
       "current loss = 1.6731366701364\t\n",
       "current loss = 1.6730878923625\t\n",
       "current loss = 1.673039131126\t\n",
       "current loss = 1.6729903864184\t\n",
       "current loss = 1.6729416582308\t\n",
       "current loss = 1.6728929465548\t\n",
       "current loss = 1.6728442513816\t\n"
      ]
     },
     "execution_count": 12,
     "metadata": {},
     "output_type": "execute_result"
    },
    {
     "data": {
      "text/plain": [
       "current loss = 1.6727955727026\t\n",
       "current loss = 1.6727469105092\t\n",
       "current loss = 1.6726982647928\t\n",
       "current loss = 1.6726496355448\t\n",
       "current loss = 1.6726010227565\t\n",
       "current loss = 1.6725524264195\t\n"
      ]
     },
     "execution_count": 12,
     "metadata": {},
     "output_type": "execute_result"
    },
    {
     "data": {
      "text/plain": [
       "current loss = 1.6725038465249\t\n",
       "current loss = 1.6724552830644\t\n",
       "current loss = 1.6724067360292\t\n",
       "current loss = 1.6723582054109\t\n",
       "current loss = 1.6723096912008\t\n",
       "current loss = 1.6722611933904\t\n",
       "current loss = 1.6722127119712\t\n"
      ]
     },
     "execution_count": 12,
     "metadata": {},
     "output_type": "execute_result"
    },
    {
     "data": {
      "text/plain": [
       "current loss = 1.6721642469345\t\n",
       "current loss = 1.6721157982718\t\n",
       "current loss = 1.6720673659746\t\n",
       "current loss = 1.6720189500344\t\n",
       "current loss = 1.6719705504426\t\n"
      ]
     },
     "execution_count": 12,
     "metadata": {},
     "output_type": "execute_result"
    },
    {
     "data": {
      "text/plain": [
       "current loss = 1.6719221671907\t\n",
       "current loss = 1.6718738002702\t\n",
       "current loss = 1.6718254496725\t\n",
       "current loss = 1.6717771153893\t\n",
       "current loss = 1.6717287974119\t\n",
       "current loss = 1.6716804957318\t\n"
      ]
     },
     "execution_count": 12,
     "metadata": {},
     "output_type": "execute_result"
    },
    {
     "data": {
      "text/plain": [
       "current loss = 1.6716322103407\t\n",
       "current loss = 1.67158394123\t\n",
       "current loss = 1.6715356883912\t\n",
       "current loss = 1.6714874518158\t\n",
       "current loss = 1.6714392314955\t\n",
       "current loss = 1.6713910274217\t\n",
       "current loss = 1.671342839586\t\n"
      ]
     },
     "execution_count": 12,
     "metadata": {},
     "output_type": "execute_result"
    },
    {
     "data": {
      "text/plain": [
       "current loss = 1.6712946679799\t\n",
       "current loss = 1.6712465125951\t\n",
       "current loss = 1.671198373423\t\n",
       "current loss = 1.6711502504553\t\n",
       "current loss = 1.6711021436835\t\n",
       "current loss = 1.6710540530992\t\n"
      ]
     },
     "execution_count": 12,
     "metadata": {},
     "output_type": "execute_result"
    },
    {
     "data": {
      "text/plain": [
       "current loss = 1.671005978694\t\n",
       "current loss = 1.6709579204594\t\n",
       "current loss = 1.6709098783872\t\n",
       "current loss = 1.6708618524689\t\n",
       "current loss = 1.670813842696\t\n",
       "current loss = 1.6707658490604\t\n"
      ]
     },
     "execution_count": 12,
     "metadata": {},
     "output_type": "execute_result"
    },
    {
     "data": {
      "text/plain": [
       "current loss = 1.6707178715534\t\n",
       "current loss = 1.6706699101669\t\n",
       "current loss = 1.6706219648923\t\n",
       "current loss = 1.6705740357215\t\n",
       "current loss = 1.6705261226459\t\n",
       "current loss = 1.6704782256573\t\n",
       "current loss = 1.6704303447474\t\n"
      ]
     },
     "execution_count": 12,
     "metadata": {},
     "output_type": "execute_result"
    },
    {
     "data": {
      "text/plain": [
       "current loss = 1.6703824799077\t\n",
       "current loss = 1.67033463113\t\n",
       "current loss = 1.6702867984059\t\n",
       "current loss = 1.6702389817272\t\n",
       "current loss = 1.6701911810854\t\n"
      ]
     },
     "execution_count": 12,
     "metadata": {},
     "output_type": "execute_result"
    },
    {
     "data": {
      "text/plain": [
       "current loss = 1.6701433964724\t\n",
       "current loss = 1.6700956278797\t\n",
       "current loss = 1.6700478752992\t\n",
       "current loss = 1.6700001387225\t\n",
       "current loss = 1.6699524181414\t\n",
       "current loss = 1.6699047135474\t\n"
      ]
     },
     "execution_count": 12,
     "metadata": {},
     "output_type": "execute_result"
    },
    {
     "data": {
      "text/plain": [
       "current loss = 1.6698570249325\t\n",
       "current loss = 1.6698093522883\t\n",
       "current loss = 1.6697616956066\t\n",
       "current loss = 1.6697140548791\t\n",
       "current loss = 1.6696664300976\t\n",
       "current loss = 1.6696188212537\t\n"
      ]
     },
     "execution_count": 12,
     "metadata": {},
     "output_type": "execute_result"
    },
    {
     "data": {
      "text/plain": [
       "current loss = 1.6695712283394\t\n",
       "current loss = 1.6695236513463\t\n",
       "current loss = 1.6694760902662\t\n",
       "current loss = 1.6694285450909\t\n",
       "current loss = 1.6693810158123\t\n",
       "current loss = 1.669333502422\t\n",
       "current loss = 1.6692860049119\t\n"
      ]
     },
     "execution_count": 12,
     "metadata": {},
     "output_type": "execute_result"
    },
    {
     "data": {
      "text/plain": [
       "current loss = 1.6692385232738\t\n",
       "current loss = 1.6691910574994\t\n",
       "current loss = 1.6691436075807\t\n",
       "current loss = 1.6690961735094\t\n",
       "current loss = 1.6690487552774\t\n",
       "current loss = 1.6690013528764\t\n"
      ]
     },
     "execution_count": 12,
     "metadata": {},
     "output_type": "execute_result"
    },
    {
     "data": {
      "text/plain": [
       "current loss = 1.6689539662984\t\n",
       "current loss = 1.6689065955351\t\n",
       "current loss = 1.6688592405785\t\n",
       "current loss = 1.6688119014203\t\n",
       "current loss = 1.6687645780525\t\n"
      ]
     },
     "execution_count": 12,
     "metadata": {},
     "output_type": "execute_result"
    },
    {
     "data": {
      "text/plain": [
       "current loss = 1.6687172704668\t\n",
       "current loss = 1.6686699786552\t\n",
       "current loss = 1.6686227026095\t\n",
       "current loss = 1.6685754423217\t\n",
       "current loss = 1.6685281977835\t\n",
       "current loss = 1.668480968987\t\n"
      ]
     },
     "execution_count": 12,
     "metadata": {},
     "output_type": "execute_result"
    },
    {
     "data": {
      "text/plain": [
       "current loss = 1.6684337559239\t\n",
       "current loss = 1.6683865585863\t\n",
       "current loss = 1.668339376966\t\n",
       "current loss = 1.6682922110549\t\n",
       "current loss = 1.6682450608449\t\n",
       "current loss = 1.6681979263281\t\n"
      ]
     },
     "execution_count": 12,
     "metadata": {},
     "output_type": "execute_result"
    },
    {
     "data": {
      "text/plain": [
       "current loss = 1.6681508074962\t\n",
       "current loss = 1.6681037043413\t\n",
       "current loss = 1.6680566168553\t\n",
       "current loss = 1.6680095450301\t\n",
       "current loss = 1.6679624888577\t\n",
       "current loss = 1.6679154483301\t\n",
       "current loss = 1.6678684234392\t\n"
      ]
     },
     "execution_count": 12,
     "metadata": {},
     "output_type": "execute_result"
    },
    {
     "data": {
      "text/plain": [
       "current loss = 1.667821414177\t\n",
       "current loss = 1.6677744205354\t\n",
       "current loss = 1.6677274425065\t\n",
       "current loss = 1.6676804800823\t\n",
       "current loss = 1.6676335332547\t\n",
       "current loss = 1.6675866020157\t\n"
      ]
     },
     "execution_count": 12,
     "metadata": {},
     "output_type": "execute_result"
    },
    {
     "data": {
      "text/plain": [
       "current loss = 1.6675396863573\t\n",
       "current loss = 1.6674927862716\t\n",
       "current loss = 1.6674459017505\t\n",
       "current loss = 1.6673990327861\t\n",
       "current loss = 1.6673521793705\t\n",
       "current loss = 1.6673053414955\t\n"
      ]
     },
     "execution_count": 12,
     "metadata": {},
     "output_type": "execute_result"
    },
    {
     "data": {
      "text/plain": [
       "current loss = 1.6672585191534\t\n",
       "current loss = 1.667211712336\t\n",
       "current loss = 1.6671649210356\t\n",
       "current loss = 1.667118145244\t\n",
       "current loss = 1.6670713849534\t\n",
       "current loss = 1.6670246401559\t\n",
       "current loss = 1.6669779108435\t\n"
      ]
     },
     "execution_count": 12,
     "metadata": {},
     "output_type": "execute_result"
    },
    {
     "data": {
      "text/plain": [
       "current loss = 1.6669311970082\t\n",
       "current loss = 1.6668844986423\t\n",
       "current loss = 1.6668378157377\t\n",
       "current loss = 1.6667911482865\t\n",
       "current loss = 1.6667444962809\t\n"
      ]
     },
     "execution_count": 12,
     "metadata": {},
     "output_type": "execute_result"
    },
    {
     "data": {
      "text/plain": [
       "current loss = 1.6666978597129\t\n",
       "current loss = 1.6666512385747\t\n",
       "current loss = 1.6666046328583\t\n",
       "current loss = 1.666558042556\t\n",
       "current loss = 1.6665114676597\t\n"
      ]
     },
     "execution_count": 12,
     "metadata": {},
     "output_type": "execute_result"
    },
    {
     "data": {
      "text/plain": [
       "current loss = 1.6664649081617\t\n",
       "current loss = 1.6664183640541\t\n",
       "current loss = 1.666371835329\t\n",
       "current loss = 1.6663253219785\t\n",
       "current loss = 1.6662788239949\t\n"
      ]
     },
     "execution_count": 12,
     "metadata": {},
     "output_type": "execute_result"
    },
    {
     "data": {
      "text/plain": [
       "current loss = 1.6662323413702\t\n",
       "current loss = 1.6661858740967\t\n",
       "current loss = 1.6661394221664\t\n",
       "current loss = 1.6660929855717\t\n",
       "current loss = 1.6660465643046\t\n",
       "current loss = 1.6660001583573\t\n"
      ]
     },
     "execution_count": 12,
     "metadata": {},
     "output_type": "execute_result"
    },
    {
     "data": {
      "text/plain": [
       "current loss = 1.665953767722\t\n",
       "current loss = 1.665907392391\t\n",
       "current loss = 1.6658610323563\t\n",
       "current loss = 1.6658146876103\t\n",
       "current loss = 1.6657683581452\t\n",
       "current loss = 1.665722043953\t\n",
       "current loss = 1.6656757450261\t\n"
      ]
     },
     "execution_count": 12,
     "metadata": {},
     "output_type": "execute_result"
    },
    {
     "data": {
      "text/plain": [
       "current loss = 1.6656294613568\t\n",
       "current loss = 1.6655831929371\t\n",
       "current loss = 1.6655369397594\t\n",
       "current loss = 1.6654907018159\t\n",
       "current loss = 1.6654444790989\t\n",
       "current loss = 1.6653982716005\t\n"
      ]
     },
     "execution_count": 12,
     "metadata": {},
     "output_type": "execute_result"
    },
    {
     "data": {
      "text/plain": [
       "current loss = 1.6653520793132\t\n",
       "current loss = 1.665305902229\t\n",
       "current loss = 1.6652597403404\t\n",
       "current loss = 1.6652135936395\t\n",
       "current loss = 1.6651674621186\t\n"
      ]
     },
     "execution_count": 12,
     "metadata": {},
     "output_type": "execute_result"
    },
    {
     "data": {
      "text/plain": [
       "current loss = 1.6651213457701\t\n",
       "current loss = 1.6650752445862\t\n",
       "current loss = 1.6650291585592\t\n",
       "current loss = 1.6649830876814\t\n",
       "current loss = 1.6649370319451\t\n"
      ]
     },
     "execution_count": 12,
     "metadata": {},
     "output_type": "execute_result"
    },
    {
     "data": {
      "text/plain": [
       "current loss = 1.6648909913427\t\n",
       "current loss = 1.6648449658664\t\n"
      ]
     },
     "execution_count": 12,
     "metadata": {},
     "output_type": "execute_result"
    },
    {
     "data": {
      "text/plain": [
       "current loss = 1.6647989555085\t\n",
       "current loss = 1.6647529602615\t\n",
       "current loss = 1.6647069801176\t\n"
      ]
     },
     "execution_count": 12,
     "metadata": {},
     "output_type": "execute_result"
    },
    {
     "data": {
      "text/plain": [
       "current loss = 1.6646610150691\t\n"
      ]
     },
     "execution_count": 12,
     "metadata": {},
     "output_type": "execute_result"
    },
    {
     "data": {
      "text/plain": [
       "current loss = 1.6646150651085\t\n"
      ]
     },
     "execution_count": 12,
     "metadata": {},
     "output_type": "execute_result"
    },
    {
     "data": {
      "text/plain": [
       "current loss = 1.664569130228\t\n"
      ]
     },
     "execution_count": 12,
     "metadata": {},
     "output_type": "execute_result"
    },
    {
     "data": {
      "text/plain": [
       "current loss = 1.66452321042\t\n"
      ]
     },
     "execution_count": 12,
     "metadata": {},
     "output_type": "execute_result"
    },
    {
     "data": {
      "text/plain": [
       "current loss = 1.6644773056768\t\n"
      ]
     },
     "execution_count": 12,
     "metadata": {},
     "output_type": "execute_result"
    },
    {
     "data": {
      "text/plain": [
       "current loss = 1.6644314159909\t\n"
      ]
     },
     "execution_count": 12,
     "metadata": {},
     "output_type": "execute_result"
    },
    {
     "data": {
      "text/plain": [
       "current loss = 1.6643855413546\t\n",
       "current loss = 1.6643396817602\t\n"
      ]
     },
     "execution_count": 12,
     "metadata": {},
     "output_type": "execute_result"
    },
    {
     "data": {
      "text/plain": [
       "current loss = 1.6642938372001\t\n"
      ]
     },
     "execution_count": 12,
     "metadata": {},
     "output_type": "execute_result"
    },
    {
     "data": {
      "text/plain": [
       "current loss = 1.6642480076668\t\n",
       "current loss = 1.6642021931526\t\n",
       "current loss = 1.6641563936499\t\n",
       "current loss = 1.6641106091511\t\n",
       "current loss = 1.6640648396487\t\n"
      ]
     },
     "execution_count": 12,
     "metadata": {},
     "output_type": "execute_result"
    },
    {
     "data": {
      "text/plain": [
       "current loss = 1.6640190851349\t\n"
      ]
     },
     "execution_count": 12,
     "metadata": {},
     "output_type": "execute_result"
    },
    {
     "data": {
      "text/plain": [
       "current loss = 1.6639733456023\t\n",
       "current loss = 1.6639276210432\t\n"
      ]
     },
     "execution_count": 12,
     "metadata": {},
     "output_type": "execute_result"
    },
    {
     "data": {
      "text/plain": [
       "current loss = 1.6638819114501\t\n",
       "current loss = 1.6638362168154\t\n",
       "current loss = 1.6637905371316\t\n",
       "current loss = 1.663744872391\t\n",
       "current loss = 1.6636992225862\t\n",
       "current loss = 1.6636535877095\t\n",
       "current loss = 1.6636079677535\t\n"
      ]
     },
     "execution_count": 12,
     "metadata": {},
     "output_type": "execute_result"
    },
    {
     "data": {
      "text/plain": [
       "current loss = 1.6635623627105\t\n",
       "current loss = 1.6635167725732\t\n",
       "current loss = 1.6634711973339\t\n",
       "current loss = 1.663425636985\t\n",
       "current loss = 1.6633800915192\t\n",
       "current loss = 1.6633345609288\t\n",
       "current loss = 1.6632890452064\t\n",
       "current loss = 1.6632435443445\t\n"
      ]
     },
     "execution_count": 12,
     "metadata": {},
     "output_type": "execute_result"
    },
    {
     "data": {
      "text/plain": [
       "current loss = 1.6631980583355\t\n",
       "current loss = 1.663152587172\t\n",
       "current loss = 1.6631071308465\t\n",
       "current loss = 1.6630616893515\t\n",
       "current loss = 1.6630162626795\t\n",
       "current loss = 1.6629708508231\t\n",
       "current loss = 1.6629254537747\t\n"
      ]
     },
     "execution_count": 12,
     "metadata": {},
     "output_type": "execute_result"
    },
    {
     "data": {
      "text/plain": [
       "current loss = 1.6628800715269\t\n",
       "current loss = 1.6628347040724\t\n",
       "current loss = 1.6627893514035\t\n",
       "current loss = 1.6627440135129\t\n",
       "current loss = 1.6626986903931\t\n",
       "current loss = 1.6626533820366\t\n",
       "current loss = 1.6626080884361\t\n",
       "current loss = 1.6625628095842\t\n"
      ]
     },
     "execution_count": 12,
     "metadata": {},
     "output_type": "execute_result"
    },
    {
     "data": {
      "text/plain": [
       "current loss = 1.6625175454733\t\n",
       "current loss = 1.6624722960961\t\n",
       "current loss = 1.6624270614452\t\n",
       "current loss = 1.6623818415131\t\n",
       "current loss = 1.6623366362925\t\n",
       "current loss = 1.6622914457759\t\n",
       "current loss = 1.662246269956\t\n"
      ]
     },
     "execution_count": 12,
     "metadata": {},
     "output_type": "execute_result"
    },
    {
     "data": {
      "text/plain": [
       "current loss = 1.6622011088254\t\n",
       "current loss = 1.6621559623767\t\n",
       "current loss = 1.6621108306025\t\n",
       "current loss = 1.6620657134954\t\n",
       "current loss = 1.6620206110481\t\n",
       "current loss = 1.6619755232532\t\n",
       "current loss = 1.6619304501034\t\n"
      ]
     },
     "execution_count": 12,
     "metadata": {},
     "output_type": "execute_result"
    },
    {
     "data": {
      "text/plain": [
       "current loss = 1.6618853915912\t\n",
       "current loss = 1.6618403477095\t\n",
       "current loss = 1.6617953184507\t\n",
       "current loss = 1.6617503038076\t\n",
       "current loss = 1.6617053037728\t\n",
       "current loss = 1.6616603183391\t\n",
       "current loss = 1.6616153474991\t\n",
       "current loss = 1.6615703912454\t\n"
      ]
     },
     "execution_count": 12,
     "metadata": {},
     "output_type": "execute_result"
    },
    {
     "data": {
      "text/plain": [
       "current loss = 1.6615254495707\t\n",
       "current loss = 1.6614805224679\t\n",
       "current loss = 1.6614356099294\t\n",
       "current loss = 1.6613907119482\t\n",
       "current loss = 1.6613458285167\t\n",
       "current loss = 1.6613009596278\t\n",
       "current loss = 1.6612561052743\t\n"
      ]
     },
     "execution_count": 12,
     "metadata": {},
     "output_type": "execute_result"
    },
    {
     "data": {
      "text/plain": [
       "current loss = 1.6612112654487\t\n",
       "current loss = 1.6611664401438\t\n",
       "current loss = 1.6611216293524\t\n",
       "current loss = 1.6610768330672\t\n",
       "current loss = 1.6610320512809\t\n",
       "current loss = 1.6609872839863\t\n",
       "current loss = 1.6609425311761\t\n"
      ]
     },
     "execution_count": 12,
     "metadata": {},
     "output_type": "execute_result"
    },
    {
     "data": {
      "text/plain": [
       "current loss = 1.6608977928432\t\n",
       "current loss = 1.6608530689801\t\n",
       "current loss = 1.6608083595798\t\n",
       "current loss = 1.660763664635\t\n",
       "current loss = 1.6607189841384\t\n",
       "current loss = 1.6606743180828\t\n",
       "current loss = 1.6606296664611\t\n",
       "current loss = 1.6605850292659\t\n"
      ]
     },
     "execution_count": 12,
     "metadata": {},
     "output_type": "execute_result"
    },
    {
     "data": {
      "text/plain": [
       "current loss = 1.6605404064902\t\n",
       "current loss = 1.6604957981267\t\n",
       "current loss = 1.6604512041682\t\n",
       "current loss = 1.6604066246075\t\n",
       "current loss = 1.6603620594374\t\n",
       "current loss = 1.6603175086507\t\n",
       "current loss = 1.6602729722404\t\n",
       "current loss = 1.6602284501991\t\n"
      ]
     },
     "execution_count": 12,
     "metadata": {},
     "output_type": "execute_result"
    },
    {
     "data": {
      "text/plain": [
       "current loss = 1.6601839425198\t\n",
       "current loss = 1.6601394491952\t\n",
       "current loss = 1.6600949702182\t\n",
       "current loss = 1.6600505055817\t\n",
       "current loss = 1.6600060552785\t\n",
       "current loss = 1.6599616193015\t\n",
       "current loss = 1.6599171976435\t\n",
       "current loss = 1.6598727902973\t\n"
      ]
     },
     "execution_count": 12,
     "metadata": {},
     "output_type": "execute_result"
    },
    {
     "data": {
      "text/plain": [
       "current loss = 1.659828397256\t\n"
      ]
     },
     "execution_count": 12,
     "metadata": {},
     "output_type": "execute_result"
    },
    {
     "data": {
      "text/plain": [
       "current loss = 1.6597840185123\t\n",
       "current loss = 1.659739654059\t\n",
       "current loss = 1.6596953038892\t\n",
       "current loss = 1.6596509679957\t\n",
       "current loss = 1.6596066463714\t\n",
       "current loss = 1.6595623390092\t\n",
       "current loss = 1.659518045902\t\n"
      ]
     },
     "execution_count": 12,
     "metadata": {},
     "output_type": "execute_result"
    },
    {
     "data": {
      "text/plain": [
       "current loss = 1.6594737670426\t\n",
       "current loss = 1.6594295024241\t\n",
       "current loss = 1.6593852520393\t\n",
       "current loss = 1.6593410158812\t\n",
       "current loss = 1.6592967939426\t\n",
       "current loss = 1.6592525862166\t\n",
       "current loss = 1.659208392696\t\n"
      ]
     },
     "execution_count": 12,
     "metadata": {},
     "output_type": "execute_result"
    },
    {
     "data": {
      "text/plain": [
       "current loss = 1.6591642133739\t\n",
       "current loss = 1.659120048243\t\n",
       "current loss = 1.6590758972965\t\n",
       "current loss = 1.6590317605272\t\n",
       "current loss = 1.6589876379282\t\n",
       "current loss = 1.6589435294923\t\n",
       "current loss = 1.6588994352125\t\n",
       "current loss = 1.6588553550819\t\n"
      ]
     },
     "execution_count": 12,
     "metadata": {},
     "output_type": "execute_result"
    },
    {
     "data": {
      "text/plain": [
       "current loss = 1.6588112890934\t\n",
       "current loss = 1.65876723724\t\n",
       "current loss = 1.6587231995146\t\n",
       "current loss = 1.6586791759103\t\n",
       "current loss = 1.6586351664201\t\n",
       "current loss = 1.658591171037\t\n",
       "current loss = 1.6585471897539\t\n",
       "current loss = 1.6585032225639\t\n"
      ]
     },
     "execution_count": 12,
     "metadata": {},
     "output_type": "execute_result"
    },
    {
     "data": {
      "text/plain": [
       "current loss = 1.6584592694601\t\n",
       "current loss = 1.6584153304353\t\n",
       "current loss = 1.6583714054828\t\n",
       "current loss = 1.6583274945954\t\n",
       "current loss = 1.6582835977662\t\n",
       "current loss = 1.6582397149883\t\n",
       "current loss = 1.6581958462547\t\n",
       "current loss = 1.6581519915585\t\n"
      ]
     },
     "execution_count": 12,
     "metadata": {},
     "output_type": "execute_result"
    },
    {
     "data": {
      "text/plain": [
       "current loss = 1.6581081508927\t\n",
       "current loss = 1.6580643242503\t\n",
       "current loss = 1.6580205116245\t\n",
       "current loss = 1.6579767130083\t\n",
       "current loss = 1.6579329283948\t\n",
       "current loss = 1.657889157777\t\n",
       "current loss = 1.6578454011481\t\n",
       "current loss = 1.657801658501\t\n"
      ]
     },
     "execution_count": 12,
     "metadata": {},
     "output_type": "execute_result"
    },
    {
     "data": {
      "text/plain": [
       "current loss = 1.657757929829\t\n",
       "current loss = 1.6577142151251\t\n",
       "current loss = 1.6576705143824\t\n",
       "current loss = 1.657626827594\t\n",
       "current loss = 1.657583154753\t\n",
       "current loss = 1.6575394958526\t\n",
       "current loss = 1.6574958508858\t\n",
       "current loss = 1.6574522198458\t\n"
      ]
     },
     "execution_count": 12,
     "metadata": {},
     "output_type": "execute_result"
    },
    {
     "data": {
      "text/plain": [
       "current loss = 1.6574086027257\t\n",
       "current loss = 1.6573649995187\t\n",
       "current loss = 1.6573214102178\t\n",
       "current loss = 1.6572778348162\t\n",
       "current loss = 1.6572342733071\t\n",
       "current loss = 1.6571907256836\t\n",
       "current loss = 1.6571471919388\t\n"
      ]
     },
     "execution_count": 12,
     "metadata": {},
     "output_type": "execute_result"
    },
    {
     "data": {
      "text/plain": [
       "current loss = 1.657103672066\t\n",
       "current loss = 1.6570601660583\t\n",
       "current loss = 1.6570166739088\t\n",
       "current loss = 1.6569731956107\t\n",
       "current loss = 1.6569297311573\t\n",
       "current loss = 1.6568862805417\t\n",
       "current loss = 1.656842843757\t\n",
       "current loss = 1.6567994207965\t\n"
      ]
     },
     "execution_count": 12,
     "metadata": {},
     "output_type": "execute_result"
    },
    {
     "data": {
      "text/plain": [
       "current loss = 1.6567560116533\t\n",
       "current loss = 1.6567126163208\t\n",
       "current loss = 1.656669234792\t\n",
       "current loss = 1.6566258670601\t\n",
       "current loss = 1.6565825131185\t\n",
       "current loss = 1.6565391729602\t\n",
       "current loss = 1.6564958465786\t\n",
       "current loss = 1.6564525339669\t\n"
      ]
     },
     "execution_count": 12,
     "metadata": {},
     "output_type": "execute_result"
    },
    {
     "data": {
      "text/plain": [
       "current loss = 1.6564092351182\t\n",
       "current loss = 1.6563659500259\t\n",
       "current loss = 1.6563226786831\t\n",
       "current loss = 1.6562794210831\t\n",
       "current loss = 1.6562361772192\t\n",
       "current loss = 1.6561929470846\t\n",
       "current loss = 1.6561497306726\t\n",
       "current loss = 1.6561065279764\t\n",
       "current loss = 1.6560633389894\t\n"
      ]
     },
     "execution_count": 12,
     "metadata": {},
     "output_type": "execute_result"
    },
    {
     "data": {
      "text/plain": [
       "current loss = 1.6560201637046\t\n",
       "current loss = 1.6559770021156\t\n",
       "current loss = 1.6559338542154\t\n",
       "current loss = 1.6558907199975\t\n",
       "current loss = 1.6558475994551\t\n",
       "current loss = 1.6558044925815\t\n",
       "current loss = 1.65576139937\t\n",
       "current loss = 1.6557183198139\t\n"
      ]
     },
     "execution_count": 12,
     "metadata": {},
     "output_type": "execute_result"
    },
    {
     "data": {
      "text/plain": [
       "current loss = 1.6556752539064\t\n",
       "current loss = 1.655632201641\t\n",
       "current loss = 1.655589163011\t\n",
       "current loss = 1.6555461380095\t\n",
       "current loss = 1.6555031266301\t\n",
       "current loss = 1.655460128866\t\n",
       "current loss = 1.6554171447105\t\n",
       "current loss = 1.655374174157\t\n"
      ]
     },
     "execution_count": 12,
     "metadata": {},
     "output_type": "execute_result"
    },
    {
     "data": {
      "text/plain": [
       "current loss = 1.6553312171988\t\n",
       "current loss = 1.6552882738292\t\n",
       "current loss = 1.6552453440417\t\n",
       "current loss = 1.6552024278296\t\n",
       "current loss = 1.6551595251862\t\n",
       "current loss = 1.6551166361048\t\n",
       "current loss = 1.655073760579\t\n"
      ]
     },
     "execution_count": 12,
     "metadata": {},
     "output_type": "execute_result"
    },
    {
     "data": {
      "text/plain": [
       "current loss = 1.655030898602\t\n",
       "current loss = 1.6549880501672\t\n",
       "current loss = 1.654945215268\t\n",
       "current loss = 1.6549023938978\t\n",
       "current loss = 1.6548595860499\t\n",
       "current loss = 1.6548167917178\t\n",
       "current loss = 1.6547740108949\t\n",
       "current loss = 1.6547312435746\t\n"
      ]
     },
     "execution_count": 12,
     "metadata": {},
     "output_type": "execute_result"
    },
    {
     "data": {
      "text/plain": [
       "current loss = 1.6546884897502\t\n",
       "current loss = 1.6546457494152\t\n",
       "current loss = 1.6546030225631\t\n",
       "current loss = 1.6545603091871\t\n",
       "current loss = 1.6545176092808\t\n",
       "current loss = 1.6544749228376\t\n",
       "current loss = 1.6544322498509\t\n",
       "current loss = 1.6543895903141\t\n"
      ]
     },
     "execution_count": 12,
     "metadata": {},
     "output_type": "execute_result"
    },
    {
     "data": {
      "text/plain": [
       "current loss = 1.6543469442208\t\n",
       "current loss = 1.6543043115642\t\n",
       "current loss = 1.654261692338\t\n",
       "current loss = 1.6542190865355\t\n",
       "current loss = 1.6541764941502\t\n",
       "current loss = 1.6541339151756\t\n",
       "current loss = 1.6540913496051\t\n",
       "current loss = 1.6540487974322\t\n",
       "current loss = 1.6540062586504\t\n"
      ]
     },
     "execution_count": 12,
     "metadata": {},
     "output_type": "execute_result"
    },
    {
     "data": {
      "text/plain": [
       "current loss = 1.6539637332532\t\n",
       "current loss = 1.653921221234\t\n",
       "current loss = 1.6538787225863\t\n",
       "current loss = 1.6538362373037\t\n",
       "current loss = 1.6537937653796\t\n",
       "current loss = 1.6537513068076\t\n",
       "current loss = 1.6537088615811\t\n"
      ]
     },
     "execution_count": 12,
     "metadata": {},
     "output_type": "execute_result"
    },
    {
     "data": {
      "text/plain": [
       "current loss = 1.6536664296936\t\n",
       "current loss = 1.6536240111387\t\n",
       "current loss = 1.6535816059099\t\n",
       "current loss = 1.6535392140006\t\n",
       "current loss = 1.6534968354046\t\n",
       "current loss = 1.6534544701151\t\n"
      ]
     },
     "execution_count": 12,
     "metadata": {},
     "output_type": "execute_result"
    },
    {
     "data": {
      "text/plain": [
       "current loss = 1.6534121181259\t\n",
       "current loss = 1.6533697794304\t\n",
       "current loss = 1.6533274540222\t\n",
       "current loss = 1.6532851418949\t\n",
       "current loss = 1.6532428430419\t\n",
       "current loss = 1.6532005574568\t\n",
       "current loss = 1.6531582851333\t\n"
      ]
     },
     "execution_count": 12,
     "metadata": {},
     "output_type": "execute_result"
    },
    {
     "data": {
      "text/plain": [
       "current loss = 1.6531160260648\t\n",
       "current loss = 1.653073780245\t\n",
       "current loss = 1.6530315476674\t\n",
       "current loss = 1.6529893283256\t\n",
       "current loss = 1.6529471222131\t\n",
       "current loss = 1.6529049293236\t\n",
       "current loss = 1.6528627496507\t\n",
       "current loss = 1.6528205831879\t\n",
       "current loss = 1.6527784299288\t\n"
      ]
     },
     "execution_count": 12,
     "metadata": {},
     "output_type": "execute_result"
    },
    {
     "data": {
      "text/plain": [
       "current loss = 1.6527362898671\t\n",
       "current loss = 1.6526941629964\t\n",
       "current loss = 1.6526520493102\t\n",
       "current loss = 1.6526099488022\t\n",
       "current loss = 1.652567861466\t\n",
       "current loss = 1.6525257872952\t\n",
       "current loss = 1.6524837262834\t\n",
       "current loss = 1.6524416784244\t\n"
      ]
     },
     "execution_count": 12,
     "metadata": {},
     "output_type": "execute_result"
    },
    {
     "data": {
      "text/plain": [
       "current loss = 1.6523996437116\t\n",
       "current loss = 1.6523576221389\t\n",
       "current loss = 1.6523156136997\t\n",
       "current loss = 1.6522736183878\t\n",
       "current loss = 1.6522316361968\t\n",
       "current loss = 1.6521896671204\t\n",
       "current loss = 1.6521477111521\t\n",
       "current loss = 1.6521057682858\t\n"
      ]
     },
     "execution_count": 12,
     "metadata": {},
     "output_type": "execute_result"
    },
    {
     "data": {
      "text/plain": [
       "current loss = 1.652063838515\t\n",
       "current loss = 1.6520219218335\t\n",
       "current loss = 1.6519800182349\t\n",
       "current loss = 1.6519381277129\t\n",
       "current loss = 1.6518962502611\t\n",
       "current loss = 1.6518543858733\t\n",
       "current loss = 1.6518125345432\t\n",
       "current loss = 1.6517706962644\t\n",
       "current loss = 1.6517288710307\t\n"
      ]
     },
     "execution_count": 12,
     "metadata": {},
     "output_type": "execute_result"
    },
    {
     "data": {
      "text/plain": [
       "current loss = 1.6516870588358\t\n",
       "current loss = 1.6516452596733\t\n",
       "current loss = 1.6516034735371\t\n",
       "current loss = 1.6515617004207\t\n",
       "current loss = 1.651519940318\t\n",
       "current loss = 1.6514781932227\t\n",
       "current loss = 1.6514364591284\t\n"
      ]
     },
     "execution_count": 12,
     "metadata": {},
     "output_type": "execute_result"
    },
    {
     "data": {
      "text/plain": [
       "current loss = 1.651394738029\t\n",
       "current loss = 1.6513530299181\t\n",
       "current loss = 1.6513113347896\t\n",
       "current loss = 1.6512696526371\t\n",
       "current loss = 1.6512279834544\t\n",
       "current loss = 1.6511863272352\t\n",
       "current loss = 1.6511446839734\t\n",
       "current loss = 1.6511030536627\t\n"
      ]
     },
     "execution_count": 12,
     "metadata": {},
     "output_type": "execute_result"
    },
    {
     "data": {
      "text/plain": [
       "current loss = 1.6510614362968\t\n",
       "current loss = 1.6510198318695\t\n",
       "current loss = 1.6509782403747\t\n",
       "current loss = 1.650936661806\t\n",
       "current loss = 1.6508950961573\t\n",
       "current loss = 1.6508535434223\t\n",
       "current loss = 1.6508120035949\t\n",
       "current loss = 1.6507704766688\t\n",
       "current loss = 1.6507289626378\t\n"
      ]
     },
     "execution_count": 12,
     "metadata": {},
     "output_type": "execute_result"
    },
    {
     "data": {
      "text/plain": [
       "current loss = 1.6506874614958\t\n",
       "current loss = 1.6506459732365\t\n",
       "current loss = 1.6506044978537\t\n",
       "current loss = 1.6505630353414\t\n",
       "current loss = 1.6505215856932\t\n",
       "current loss = 1.6504801489031\t\n",
       "current loss = 1.6504387249648\t\n",
       "current loss = 1.6503973138721\t\n"
      ]
     },
     "execution_count": 12,
     "metadata": {},
     "output_type": "execute_result"
    },
    {
     "data": {
      "text/plain": [
       "current loss = 1.650355915619\t\n",
       "current loss = 1.6503145301992\t\n",
       "current loss = 1.6502731576066\t\n",
       "current loss = 1.6502317978351\t\n",
       "current loss = 1.6501904508784\t\n",
       "current loss = 1.6501491167305\t\n",
       "current loss = 1.6501077953852\t\n",
       "current loss = 1.6500664868363\t\n"
      ]
     },
     "execution_count": 12,
     "metadata": {},
     "output_type": "execute_result"
    },
    {
     "data": {
      "text/plain": [
       "current loss = 1.6500251910778\t\n",
       "current loss = 1.6499839081035\t\n",
       "current loss = 1.6499426379073\t\n",
       "current loss = 1.649901380483\t\n",
       "current loss = 1.6498601358246\t\n",
       "current loss = 1.649818903926\t\n",
       "current loss = 1.6497776847809\t\n",
       "current loss = 1.6497364783833\t\n"
      ]
     },
     "execution_count": 12,
     "metadata": {},
     "output_type": "execute_result"
    },
    {
     "data": {
      "text/plain": [
       "current loss = 1.6496952847272\t\n",
       "current loss = 1.6496541038064\t\n",
       "current loss = 1.6496129356148\t\n",
       "current loss = 1.6495717801463\t\n",
       "current loss = 1.6495306373949\t\n"
      ]
     },
     "execution_count": 12,
     "metadata": {},
     "output_type": "execute_result"
    },
    {
     "data": {
      "text/plain": [
       "current loss = 1.6494895073545\t\n",
       "current loss = 1.6494483900189\t\n",
       "current loss = 1.6494072853822\t\n",
       "current loss = 1.6493661934381\t\n",
       "current loss = 1.6493251141808\t\n",
       "current loss = 1.6492840476041\t\n",
       "current loss = 1.649242993702\t\n",
       "current loss = 1.6492019524684\t\n"
      ]
     },
     "execution_count": 12,
     "metadata": {},
     "output_type": "execute_result"
    },
    {
     "data": {
      "text/plain": [
       "current loss = 1.6491609238972\t\n",
       "current loss = 1.6491199079824\t\n",
       "current loss = 1.649078904718\t\n",
       "current loss = 1.6490379140979\t\n",
       "current loss = 1.6489969361161\t\n"
      ]
     },
     "execution_count": 12,
     "metadata": {},
     "output_type": "execute_result"
    },
    {
     "data": {
      "text/plain": [
       "current loss = 1.6489559707666\t\n",
       "current loss = 1.6489150180433\t\n",
       "current loss = 1.6488740779402\t\n",
       "current loss = 1.6488331504513\t\n",
       "current loss = 1.6487922355706\t\n"
      ]
     },
     "execution_count": 12,
     "metadata": {},
     "output_type": "execute_result"
    },
    {
     "data": {
      "text/plain": [
       "current loss = 1.648751333292\t\n",
       "current loss = 1.6487104436096\t\n",
       "current loss = 1.6486695665173\t\n",
       "current loss = 1.6486287020092\t\n",
       "current loss = 1.6485878500793\t\n",
       "current loss = 1.6485470107215\t\n"
      ]
     },
     "execution_count": 12,
     "metadata": {},
     "output_type": "execute_result"
    },
    {
     "data": {
      "text/plain": [
       "current loss = 1.6485061839299\t\n",
       "current loss = 1.6484653696985\t\n",
       "current loss = 1.6484245680212\t\n",
       "current loss = 1.6483837788923\t\n",
       "current loss = 1.6483430023055\t\n",
       "current loss = 1.6483022382551\t\n",
       "current loss = 1.648261486735\t\n"
      ]
     },
     "execution_count": 12,
     "metadata": {},
     "output_type": "execute_result"
    },
    {
     "data": {
      "text/plain": [
       "current loss = 1.6482207477392\t\n",
       "current loss = 1.6481800212619\t\n",
       "current loss = 1.648139307297\t\n",
       "current loss = 1.6480986058386\t\n",
       "current loss = 1.6480579168808\t\n",
       "current loss = 1.6480172404175\t\n"
      ]
     },
     "execution_count": 12,
     "metadata": {},
     "output_type": "execute_result"
    },
    {
     "data": {
      "text/plain": [
       "current loss = 1.647976576443\t\n",
       "current loss = 1.6479359249511\t\n",
       "current loss = 1.6478952859361\t\n",
       "current loss = 1.647854659392\t\n",
       "current loss = 1.6478140453128\t\n",
       "current loss = 1.6477734436926\t\n",
       "current loss = 1.6477328545256\t\n",
       "current loss = 1.6476922778057\t\n"
      ]
     },
     "execution_count": 12,
     "metadata": {},
     "output_type": "execute_result"
    },
    {
     "data": {
      "text/plain": [
       "current loss = 1.6476517135272\t\n",
       "current loss = 1.6476111616841\t\n",
       "current loss = 1.6475706222704\t\n",
       "current loss = 1.6475300952803\t\n",
       "current loss = 1.647489580708\t\n",
       "current loss = 1.6474490785474\t\n",
       "current loss = 1.6474085887928\t\n",
       "current loss = 1.6473681114382\t\n"
      ]
     },
     "execution_count": 12,
     "metadata": {},
     "output_type": "execute_result"
    },
    {
     "data": {
      "text/plain": [
       "current loss = 1.6473276464778\t\n",
       "current loss = 1.6472871939057\t\n",
       "current loss = 1.6472467537159\t\n",
       "current loss = 1.6472063259028\t\n",
       "current loss = 1.6471659104603\t\n",
       "current loss = 1.6471255073827\t\n",
       "current loss = 1.647085116664\t\n"
      ]
     },
     "execution_count": 12,
     "metadata": {},
     "output_type": "execute_result"
    },
    {
     "data": {
      "text/plain": [
       "current loss = 1.6470447382984\t\n",
       "current loss = 1.6470043722802\t\n",
       "current loss = 1.6469640186033\t\n",
       "current loss = 1.646923677262\t\n",
       "current loss = 1.6468833482505\t\n",
       "current loss = 1.6468430315629\t\n",
       "current loss = 1.6468027271934\t\n",
       "current loss = 1.6467624351361\t\n"
      ]
     },
     "execution_count": 12,
     "metadata": {},
     "output_type": "execute_result"
    },
    {
     "data": {
      "text/plain": [
       "current loss = 1.6467221553853\t\n",
       "current loss = 1.6466818879351\t\n",
       "current loss = 1.6466416327797\t\n",
       "current loss = 1.6466013899132\t\n",
       "current loss = 1.64656115933\t\n",
       "current loss = 1.6465209410242\t\n",
       "current loss = 1.6464807349899\t\n",
       "current loss = 1.6464405412214\t\n"
      ]
     },
     "execution_count": 12,
     "metadata": {},
     "output_type": "execute_result"
    },
    {
     "data": {
      "text/plain": [
       "current loss = 1.6464003597129\t\n",
       "current loss = 1.6463601904586\t\n",
       "current loss = 1.6463200334527\t\n",
       "current loss = 1.6462798886895\t\n",
       "current loss = 1.646239756163\t\n",
       "current loss = 1.6461996358677\t\n",
       "current loss = 1.6461595277977\t\n",
       "current loss = 1.6461194319473\t\n"
      ]
     },
     "execution_count": 12,
     "metadata": {},
     "output_type": "execute_result"
    },
    {
     "data": {
      "text/plain": [
       "current loss = 1.6460793483106\t\n",
       "current loss = 1.6460392768819\t\n",
       "current loss = 1.6459992176555\t\n",
       "current loss = 1.6459591706256\t\n",
       "current loss = 1.6459191357865\t\n",
       "current loss = 1.6458791131324\t\n",
       "current loss = 1.6458391026575\t\n"
      ]
     },
     "execution_count": 12,
     "metadata": {},
     "output_type": "execute_result"
    },
    {
     "data": {
      "text/plain": [
       "current loss = 1.6457991043562\t\n",
       "current loss = 1.6457591182227\t\n"
      ]
     },
     "execution_count": 12,
     "metadata": {},
     "output_type": "execute_result"
    },
    {
     "data": {
      "text/plain": [
       "current loss = 1.6457191442513\t\n",
       "current loss = 1.6456791824362\t\n",
       "current loss = 1.6456392327718\t\n",
       "current loss = 1.6455992952522\t\n",
       "current loss = 1.6455593698718\t\n",
       "current loss = 1.6455194566249\t\n",
       "current loss = 1.6454795555058\t\n"
      ]
     },
     "execution_count": 12,
     "metadata": {},
     "output_type": "execute_result"
    },
    {
     "data": {
      "text/plain": [
       "current loss = 1.6454396665087\t\n",
       "current loss = 1.645399789628\t\n",
       "current loss = 1.645359924858\t\n",
       "current loss = 1.6453200721929\t\n",
       "current loss = 1.6452802316271\t\n",
       "current loss = 1.6452404031548\t\n"
      ]
     },
     "execution_count": 12,
     "metadata": {},
     "output_type": "execute_result"
    },
    {
     "data": {
      "text/plain": [
       "current loss = 1.6452005867705\t\n",
       "current loss = 1.6451607824684\t\n",
       "current loss = 1.6451209902429\t\n",
       "current loss = 1.6450812100882\t\n",
       "current loss = 1.6450414419987\t\n",
       "current loss = 1.6450016859688\t\n",
       "current loss = 1.6449619419927\t\n"
      ]
     },
     "execution_count": 12,
     "metadata": {},
     "output_type": "execute_result"
    },
    {
     "data": {
      "text/plain": [
       "current loss = 1.6449222100649\t\n",
       "current loss = 1.6448824901796\t\n",
       "current loss = 1.6448427823313\t\n",
       "current loss = 1.6448030865142\t\n",
       "current loss = 1.6447634027227\t\n",
       "current loss = 1.6447237309512\t\n",
       "current loss = 1.6446840711941\t\n"
      ]
     },
     "execution_count": 12,
     "metadata": {},
     "output_type": "execute_result"
    },
    {
     "data": {
      "text/plain": [
       "current loss = 1.6446444234456\t\n",
       "current loss = 1.6446047877003\t\n",
       "current loss = 1.6445651639524\t\n",
       "current loss = 1.6445255521963\t\n",
       "current loss = 1.6444859524264\t\n",
       "current loss = 1.6444463646372\t\n",
       "current loss = 1.6444067888229\t\n"
      ]
     },
     "execution_count": 12,
     "metadata": {},
     "output_type": "execute_result"
    },
    {
     "data": {
      "text/plain": [
       "current loss = 1.644367224978\t\n",
       "current loss = 1.6443276730969\t\n",
       "current loss = 1.6442881331739\t\n",
       "current loss = 1.6442486052035\t\n",
       "current loss = 1.6442090891801\t\n",
       "current loss = 1.6441695850981\t\n",
       "current loss = 1.6441300929518\t\n"
      ]
     },
     "execution_count": 12,
     "metadata": {},
     "output_type": "execute_result"
    },
    {
     "data": {
      "text/plain": [
       "current loss = 1.6440906127358\t\n",
       "current loss = 1.6440511444444\t\n",
       "current loss = 1.6440116880721\t\n",
       "current loss = 1.6439722436133\t\n",
       "current loss = 1.6439328110623\t\n",
       "current loss = 1.6438933904137\t\n"
      ]
     },
     "execution_count": 12,
     "metadata": {},
     "output_type": "execute_result"
    },
    {
     "data": {
      "text/plain": [
       "current loss = 1.6438539816619\t\n",
       "current loss = 1.6438145848014\t\n",
       "current loss = 1.6437751998265\t\n",
       "current loss = 1.6437358267317\t\n",
       "current loss = 1.6436964655114\t\n",
       "current loss = 1.6436571161603\t\n"
      ]
     },
     "execution_count": 12,
     "metadata": {},
     "output_type": "execute_result"
    },
    {
     "data": {
      "text/plain": [
       "current loss = 1.6436177786725\t\n",
       "current loss = 1.6435784530428\t\n",
       "current loss = 1.6435391392654\t\n",
       "current loss = 1.6434998373349\t\n",
       "current loss = 1.6434605472458\t\n",
       "current loss = 1.6434212689924\t\n",
       "current loss = 1.6433820025694\t\n"
      ]
     },
     "execution_count": 12,
     "metadata": {},
     "output_type": "execute_result"
    },
    {
     "data": {
      "text/plain": [
       "current loss = 1.6433427479712\t\n",
       "current loss = 1.6433035051922\t\n",
       "current loss = 1.643264274227\t\n",
       "current loss = 1.6432250550701\t\n",
       "current loss = 1.6431858477159\t\n",
       "current loss = 1.6431466521589\t\n"
      ]
     },
     "execution_count": 12,
     "metadata": {},
     "output_type": "execute_result"
    },
    {
     "data": {
      "text/plain": [
       "current loss = 1.6431074683938\t\n",
       "current loss = 1.6430682964148\t\n",
       "current loss = 1.6430291362167\t\n",
       "current loss = 1.6429899877938\t\n",
       "current loss = 1.6429508511407\t\n",
       "current loss = 1.6429117262519\t\n"
      ]
     },
     "execution_count": 12,
     "metadata": {},
     "output_type": "execute_result"
    },
    {
     "data": {
      "text/plain": [
       "current loss = 1.642872613122\t\n",
       "current loss = 1.6428335117455\t\n",
       "current loss = 1.6427944221169\t\n",
       "current loss = 1.6427553442307\t\n",
       "current loss = 1.6427162780814\t\n",
       "current loss = 1.6426772236637\t\n",
       "current loss = 1.6426381809721\t\n"
      ]
     },
     "execution_count": 12,
     "metadata": {},
     "output_type": "execute_result"
    },
    {
     "data": {
      "text/plain": [
       "current loss = 1.642599150001\t\n",
       "current loss = 1.6425601307452\t\n",
       "current loss = 1.642521123199\t\n",
       "current loss = 1.6424821273571\t\n",
       "current loss = 1.642443143214\t\n",
       "current loss = 1.6424041707644\t\n"
      ]
     },
     "execution_count": 12,
     "metadata": {},
     "output_type": "execute_result"
    },
    {
     "data": {
      "text/plain": [
       "current loss = 1.6423652100027\t\n",
       "current loss = 1.6423262609235\t\n",
       "current loss = 1.6422873235215\t\n",
       "current loss = 1.6422483977912\t\n",
       "current loss = 1.6422094837271\t\n",
       "current loss = 1.6421705813239\t\n"
      ]
     },
     "execution_count": 12,
     "metadata": {},
     "output_type": "execute_result"
    },
    {
     "data": {
      "text/plain": [
       "current loss = 1.6421316905761\t\n",
       "current loss = 1.6420928114784\t\n",
       "current loss = 1.6420539440253\t\n",
       "current loss = 1.6420150882115\t\n",
       "current loss = 1.6419762440315\t\n",
       "current loss = 1.6419374114799\t\n",
       "current loss = 1.6418985905514\t\n"
      ]
     },
     "execution_count": 12,
     "metadata": {},
     "output_type": "execute_result"
    },
    {
     "data": {
      "text/plain": [
       "current loss = 1.6418597812405\t\n",
       "current loss = 1.641820983542\t\n",
       "current loss = 1.6417821974503\t\n",
       "current loss = 1.6417434229602\t\n",
       "current loss = 1.6417046600662\t\n",
       "current loss = 1.641665908763\t\n"
      ]
     },
     "execution_count": 12,
     "metadata": {},
     "output_type": "execute_result"
    },
    {
     "data": {
      "text/plain": [
       "current loss = 1.6416271690452\t\n",
       "current loss = 1.6415884409074\t\n",
       "current loss = 1.6415497243443\t\n",
       "current loss = 1.6415110193506\t\n",
       "current loss = 1.6414723259208\t\n",
       "current loss = 1.6414336440496\t\n"
      ]
     },
     "execution_count": 12,
     "metadata": {},
     "output_type": "execute_result"
    },
    {
     "data": {
      "text/plain": [
       "current loss = 1.6413949737318\t\n",
       "current loss = 1.6413563149618\t\n",
       "current loss = 1.6413176677345\t\n",
       "current loss = 1.6412790320444\t\n",
       "current loss = 1.6412404078862\t\n",
       "current loss = 1.6412017952546\t\n",
       "current loss = 1.6411631941442\t\n"
      ]
     },
     "execution_count": 12,
     "metadata": {},
     "output_type": "execute_result"
    },
    {
     "data": {
      "text/plain": [
       "current loss = 1.6411246045498\t\n",
       "current loss = 1.6410860264661\t\n",
       "current loss = 1.6410474598876\t\n",
       "current loss = 1.6410089048091\t\n",
       "current loss = 1.6409703612253\t\n",
       "current loss = 1.6409318291308\t\n"
      ]
     },
     "execution_count": 12,
     "metadata": {},
     "output_type": "execute_result"
    },
    {
     "data": {
      "text/plain": [
       "current loss = 1.6408933085204\t\n",
       "current loss = 1.6408547993888\t\n",
       "current loss = 1.6408163017306\t\n",
       "current loss = 1.6407778155406\t\n",
       "current loss = 1.6407393408134\t\n",
       "current loss = 1.6407008775439\t\n",
       "current loss = 1.6406624257267\t\n"
      ]
     },
     "execution_count": 12,
     "metadata": {},
     "output_type": "execute_result"
    },
    {
     "data": {
      "text/plain": [
       "current loss = 1.6406239853565\t\n",
       "current loss = 1.640585556428\t\n",
       "current loss = 1.640547138936\t\n",
       "current loss = 1.6405087328752\t\n",
       "current loss = 1.6404703382403\t\n",
       "current loss = 1.6404319550262\t\n"
      ]
     },
     "execution_count": 12,
     "metadata": {},
     "output_type": "execute_result"
    },
    {
     "data": {
      "text/plain": [
       "current loss = 1.6403935832274\t\n",
       "current loss = 1.6403552228387\t\n",
       "current loss = 1.640316873855\t\n",
       "current loss = 1.6402785362709\t\n",
       "current loss = 1.6402402100812\t\n",
       "current loss = 1.6402018952806\t\n"
      ]
     },
     "execution_count": 12,
     "metadata": {},
     "output_type": "execute_result"
    },
    {
     "data": {
      "text/plain": [
       "current loss = 1.6401635918639\t\n",
       "current loss = 1.6401252998259\t\n",
       "current loss = 1.6400870191614\t\n",
       "current loss = 1.640048749865\t\n",
       "current loss = 1.6400104919316\t\n",
       "current loss = 1.6399722453559\t\n",
       "current loss = 1.6399340101328\t\n"
      ]
     },
     "execution_count": 12,
     "metadata": {},
     "output_type": "execute_result"
    },
    {
     "data": {
      "text/plain": [
       "current loss = 1.639895786257\t\n",
       "current loss = 1.6398575737233\t\n",
       "current loss = 1.6398193725264\t\n",
       "current loss = 1.6397811826612\t\n",
       "current loss = 1.6397430041224\t\n",
       "current loss = 1.6397048369049\t\n"
      ]
     },
     "execution_count": 12,
     "metadata": {},
     "output_type": "execute_result"
    },
    {
     "data": {
      "text/plain": [
       "current loss = 1.6396666810035\t\n",
       "current loss = 1.6396285364129\t\n",
       "current loss = 1.639590403128\t\n",
       "current loss = 1.6395522811435\t\n",
       "current loss = 1.6395141704544\t\n",
       "current loss = 1.6394760710553\t\n"
      ]
     },
     "execution_count": 12,
     "metadata": {},
     "output_type": "execute_result"
    },
    {
     "data": {
      "text/plain": [
       "current loss = 1.6394379829412\t\n",
       "current loss = 1.6393999061068\t\n",
       "current loss = 1.639361840547\t\n",
       "current loss = 1.6393237862566\t\n",
       "current loss = 1.6392857432304\t\n",
       "current loss = 1.6392477114633\t\n",
       "current loss = 1.6392096909501\t\n"
      ]
     },
     "execution_count": 12,
     "metadata": {},
     "output_type": "execute_result"
    },
    {
     "data": {
      "text/plain": [
       "current loss = 1.6391716816856\t\n",
       "current loss = 1.6391336836648\t\n",
       "current loss = 1.6390956968823\t\n",
       "current loss = 1.6390577213332\t\n",
       "current loss = 1.6390197570122\t\n",
       "current loss = 1.6389818039142\t\n"
      ]
     },
     "execution_count": 12,
     "metadata": {},
     "output_type": "execute_result"
    },
    {
     "data": {
      "text/plain": [
       "current loss = 1.6389438620341\t\n",
       "current loss = 1.6389059313667\t\n",
       "current loss = 1.638868011907\t\n",
       "current loss = 1.6388301036496\t\n",
       "current loss = 1.6387922065897\t\n",
       "current loss = 1.6387543207219\t\n",
       "current loss = 1.6387164460412\t"
      ]
     },
     "execution_count": 12,
     "metadata": {},
     "output_type": "execute_result"
    },
    {
     "data": {
      "text/plain": [
       "\n",
       "current loss = 1.6386785825426\t\n",
       "current loss = 1.6386407302207\t\n",
       "current loss = 1.6386028890707\t\n",
       "current loss = 1.6385650590873\t\n",
       "current loss = 1.6385272402654\t\n",
       "current loss = 1.6384894326\t\n"
      ]
     },
     "execution_count": 12,
     "metadata": {},
     "output_type": "execute_result"
    },
    {
     "data": {
      "text/plain": [
       "current loss = 1.6384516360859\t\n",
       "current loss = 1.6384138507181\t\n",
       "current loss = 1.6383760764914\t\n",
       "current loss = 1.6383383134008\t\n",
       "current loss = 1.6383005614412\t\n",
       "current loss = 1.6382628206075\t\n"
      ]
     },
     "execution_count": 12,
     "metadata": {},
     "output_type": "execute_result"
    },
    {
     "data": {
      "text/plain": [
       "current loss = 1.6382250908946\t\n",
       "current loss = 1.6381873722975\t\n",
       "current loss = 1.638149664811\t\n",
       "current loss = 1.6381119684301\t\n",
       "current loss = 1.6380742831498\t\n",
       "current loss = 1.6380366089649\t\n",
       "current loss = 1.6379989458705\t\n"
      ]
     },
     "execution_count": 12,
     "metadata": {},
     "output_type": "execute_result"
    },
    {
     "data": {
      "text/plain": [
       "current loss = 1.6379612938614\t\n",
       "current loss = 1.6379236529326\t\n",
       "current loss = 1.6378860230791\t\n",
       "current loss = 1.6378484042958\t\n",
       "current loss = 1.6378107965776\t\n",
       "current loss = 1.6377731999195\t\n"
      ]
     },
     "execution_count": 12,
     "metadata": {},
     "output_type": "execute_result"
    },
    {
     "data": {
      "text/plain": [
       "current loss = 1.6377356143165\t\n",
       "current loss = 1.6376980397636\t\n",
       "current loss = 1.6376604762557\t\n",
       "current loss = 1.6376229237877\t\n",
       "current loss = 1.6375853823547\t\n",
       "current loss = 1.6375478519516\t\n"
      ]
     },
     "execution_count": 12,
     "metadata": {},
     "output_type": "execute_result"
    },
    {
     "data": {
      "text/plain": [
       "current loss = 1.6375103325735\t\n",
       "current loss = 1.6374728242152\t\n",
       "current loss = 1.6374353268718\t\n",
       "current loss = 1.6373978405383\t\n",
       "current loss = 1.6373603652096\t\n",
       "current loss = 1.6373229008808\t\n",
       "current loss = 1.6372854475468\t\n"
      ]
     },
     "execution_count": 12,
     "metadata": {},
     "output_type": "execute_result"
    },
    {
     "data": {
      "text/plain": [
       "current loss = 1.6372480052027\t\n",
       "current loss = 1.6372105738435\t\n",
       "current loss = 1.6371731534641\t\n",
       "current loss = 1.6371357440596\t\n",
       "current loss = 1.6370983456249\t\n"
      ]
     },
     "execution_count": 12,
     "metadata": {},
     "output_type": "execute_result"
    },
    {
     "data": {
      "text/plain": [
       "current loss = 1.6370609581552\t\n",
       "current loss = 1.6370235816454\t\n",
       "current loss = 1.6369862160906\t\n",
       "current loss = 1.6369488614857\t\n",
       "current loss = 1.6369115178258\t\n",
       "current loss = 1.636874185106\t\n"
      ]
     },
     "execution_count": 12,
     "metadata": {},
     "output_type": "execute_result"
    },
    {
     "data": {
      "text/plain": [
       "current loss = 1.6368368633212\t\n",
       "current loss = 1.6367995524666\t\n",
       "current loss = 1.6367622525371\t\n",
       "current loss = 1.6367249635278\t\n",
       "current loss = 1.6366876854337\t\n",
       "current loss = 1.6366504182499\t\n",
       "current loss = 1.6366131619715\t"
      ]
     },
     "execution_count": 12,
     "metadata": {},
     "output_type": "execute_result"
    },
    {
     "data": {
      "text/plain": [
       "\n",
       "current loss = 1.6365759165934\t\n",
       "current loss = 1.6365386821108\t\n",
       "current loss = 1.6365014585188\t\n",
       "current loss = 1.6364642458123\t\n",
       "current loss = 1.6364270439865\t\n",
       "current loss = 1.6363898530363\t\n"
      ]
     },
     "execution_count": 12,
     "metadata": {},
     "output_type": "execute_result"
    },
    {
     "data": {
      "text/plain": [
       "current loss = 1.636352672957\t\n",
       "current loss = 1.6363155037436\t\n",
       "current loss = 1.6362783453912\t\n",
       "current loss = 1.6362411978947\t\n",
       "current loss = 1.6362040612494\t\n",
       "current loss = 1.6361669354503\t\n"
      ]
     },
     "execution_count": 12,
     "metadata": {},
     "output_type": "execute_result"
    },
    {
     "data": {
      "text/plain": [
       "current loss = 1.6361298204925\t\n",
       "current loss = 1.6360927163711\t\n",
       "current loss = 1.6360556230813\t\n",
       "current loss = 1.636018540618\t\n",
       "current loss = 1.6359814689764\t\n"
      ]
     },
     "execution_count": 12,
     "metadata": {},
     "output_type": "execute_result"
    },
    {
     "data": {
      "text/plain": [
       "current loss = 1.6359444081517\t\n",
       "current loss = 1.6359073581388\t\n"
      ]
     },
     "execution_count": 12,
     "metadata": {},
     "output_type": "execute_result"
    },
    {
     "data": {
      "text/plain": [
       "current loss = 1.635870318933\t\n"
      ]
     },
     "execution_count": 12,
     "metadata": {},
     "output_type": "execute_result"
    },
    {
     "data": {
      "text/plain": [
       "current loss = 1.6358332905294\t\n"
      ]
     },
     "execution_count": 12,
     "metadata": {},
     "output_type": "execute_result"
    },
    {
     "data": {
      "text/plain": [
       "current loss = 1.635796272923\t\n",
       "current loss = 1.635759266109\t\n"
      ]
     },
     "execution_count": 12,
     "metadata": {},
     "output_type": "execute_result"
    },
    {
     "data": {
      "text/plain": [
       "current loss = 1.6357222700826\t\n"
      ]
     },
     "execution_count": 12,
     "metadata": {},
     "output_type": "execute_result"
    },
    {
     "data": {
      "text/plain": [
       "current loss = 1.6356852848388\t\n"
      ]
     },
     "execution_count": 12,
     "metadata": {},
     "output_type": "execute_result"
    },
    {
     "data": {
      "text/plain": [
       "current loss = 1.6356483103727\t\n"
      ]
     },
     "execution_count": 12,
     "metadata": {},
     "output_type": "execute_result"
    },
    {
     "data": {
      "text/plain": [
       "current loss = 1.6356113466796\t\n",
       "current loss = 1.6355743937545\t\n",
       "current loss = 1.6355374515927\t\n",
       "current loss = 1.6355005201891\t\n"
      ]
     },
     "execution_count": 12,
     "metadata": {},
     "output_type": "execute_result"
    },
    {
     "data": {
      "text/plain": [
       "current loss = 1.635463599539\t\n",
       "current loss = 1.6354266896376\t\n"
      ]
     },
     "execution_count": 12,
     "metadata": {},
     "output_type": "execute_result"
    },
    {
     "data": {
      "text/plain": [
       "current loss = 1.6353897904799\t\n"
      ]
     },
     "execution_count": 12,
     "metadata": {},
     "output_type": "execute_result"
    },
    {
     "data": {
      "text/plain": [
       "current loss = 1.6353529020612\t\n",
       "current loss = 1.6353160243765\t\n"
      ]
     },
     "execution_count": 12,
     "metadata": {},
     "output_type": "execute_result"
    },
    {
     "data": {
      "text/plain": [
       "current loss = 1.6352791574212\t\n",
       "current loss = 1.6352423011902\t\n",
       "current loss = 1.6352054556788\t\n",
       "current loss = 1.6351686208821\t\n",
       "current loss = 1.6351317967954\t\n",
       "current loss = 1.6350949834138\t\n",
       "current loss = 1.6350581807324\t\n",
       "current loss = 1.6350213887466\t\n"
      ]
     },
     "execution_count": 12,
     "metadata": {},
     "output_type": "execute_result"
    },
    {
     "data": {
      "text/plain": [
       "current loss = 1.6349846074513\t\n",
       "current loss = 1.6349478368419\t\n",
       "current loss = 1.6349110769135\t\n",
       "current loss = 1.6348743276613\t\n",
       "current loss = 1.6348375890805\t\n",
       "current loss = 1.6348008611664\t\n",
       "current loss = 1.634764143914\t\n",
       "current loss = 1.6347274373187\t\n"
      ]
     },
     "execution_count": 12,
     "metadata": {},
     "output_type": "execute_result"
    },
    {
     "data": {
      "text/plain": [
       "current loss = 1.6346907413755\t\n",
       "current loss = 1.6346540560798\t\n",
       "current loss = 1.6346173814268\t\n",
       "current loss = 1.6345807174116\t\n",
       "current loss = 1.6345440640295\t\n",
       "current loss = 1.6345074212756\t\n",
       "current loss = 1.6344707891454\t\n",
       "current loss = 1.6344341676338\t\n"
      ]
     },
     "execution_count": 12,
     "metadata": {},
     "output_type": "execute_result"
    },
    {
     "data": {
      "text/plain": [
       "current loss = 1.6343975567363\t\n",
       "current loss = 1.6343609564479\t\n",
       "current loss = 1.634324366764\t\n",
       "current loss = 1.6342877876798\t\n",
       "current loss = 1.6342512191906\t\n",
       "current loss = 1.6342146612915\t\n",
       "current loss = 1.6341781139779\t\n",
       "current loss = 1.6341415772449\t\n"
      ]
     },
     "execution_count": 12,
     "metadata": {},
     "output_type": "execute_result"
    },
    {
     "data": {
      "text/plain": [
       "current loss = 1.6341050510879\t\n",
       "current loss = 1.634068535502\t\n",
       "current loss = 1.6340320304826\t\n",
       "current loss = 1.6339955360249\t\n",
       "current loss = 1.6339590521242\t\n",
       "current loss = 1.6339225787757\t\n",
       "current loss = 1.6338861159748\t\n",
       "current loss = 1.6338496637166\t\n",
       "current loss = 1.6338132219965\t\n"
      ]
     },
     "execution_count": 12,
     "metadata": {},
     "output_type": "execute_result"
    },
    {
     "data": {
      "text/plain": [
       "current loss = 1.6337767908098\t\n",
       "current loss = 1.6337403701517\t\n",
       "current loss = 1.6337039600174\t\n",
       "current loss = 1.6336675604024\t\n",
       "current loss = 1.6336311713019\t\n",
       "current loss = 1.6335947927112\t\n",
       "current loss = 1.6335584246255\t\n",
       "current loss = 1.6335220670403\t\n"
      ]
     },
     "execution_count": 12,
     "metadata": {},
     "output_type": "execute_result"
    },
    {
     "data": {
      "text/plain": [
       "current loss = 1.6334857199507\t\n",
       "current loss = 1.6334493833521\t\n",
       "current loss = 1.6334130572398\t\n",
       "current loss = 1.6333767416091\t\n",
       "current loss = 1.6333404364553\t\n",
       "current loss = 1.6333041417738\t\n",
       "current loss = 1.6332678575598\t\n",
       "current loss = 1.6332315838087\t\n"
      ]
     },
     "execution_count": 12,
     "metadata": {},
     "output_type": "execute_result"
    },
    {
     "data": {
      "text/plain": [
       "current loss = 1.6331953205158\t\n",
       "current loss = 1.6331590676764\t\n",
       "current loss = 1.6331228252859\t\n",
       "current loss = 1.6330865933396\t\n",
       "current loss = 1.6330503718328\t\n",
       "current loss = 1.6330141607609\t\n",
       "current loss = 1.6329779601192\t\n",
       "current loss = 1.6329417699031\t\n"
      ]
     },
     "execution_count": 12,
     "metadata": {},
     "output_type": "execute_result"
    },
    {
     "data": {
      "text/plain": [
       "current loss = 1.6329055901078\t\n",
       "current loss = 1.6328694207289\t\n",
       "current loss = 1.6328332617615\t\n",
       "current loss = 1.6327971132011\t\n",
       "current loss = 1.632760975043\t\n",
       "current loss = 1.6327248472826\t\n",
       "current loss = 1.6326887299152\t\n",
       "current loss = 1.6326526229363\t\n"
      ]
     },
     "execution_count": 12,
     "metadata": {},
     "output_type": "execute_result"
    },
    {
     "data": {
      "text/plain": [
       "current loss = 1.6326165263411\t\n",
       "current loss = 1.6325804401251\t\n",
       "current loss = 1.6325443642836\t\n",
       "current loss = 1.6325082988121\t\n",
       "current loss = 1.6324722437058\t\n",
       "current loss = 1.6324361989602\t\n"
      ]
     },
     "execution_count": 12,
     "metadata": {},
     "output_type": "execute_result"
    },
    {
     "data": {
      "text/plain": [
       "current loss = 1.6324001645706\t\n",
       "current loss = 1.6323641405326\t\n",
       "current loss = 1.6323281268413\t\n",
       "current loss = 1.6322921234923\t\n",
       "current loss = 1.6322561304809\t\n",
       "current loss = 1.6322201478026\t\n",
       "current loss = 1.6321841754527\t\n"
      ]
     },
     "execution_count": 12,
     "metadata": {},
     "output_type": "execute_result"
    },
    {
     "data": {
      "text/plain": [
       "current loss = 1.6321482134266\t\n",
       "current loss = 1.6321122617198\t\n",
       "current loss = 1.6320763203277\t\n",
       "current loss = 1.6320403892456\t\n",
       "current loss = 1.632004468469\t\n",
       "current loss = 1.6319685579934\t\n",
       "current loss = 1.631932657814\t\n",
       "current loss = 1.6318967679265\t\n"
      ]
     },
     "execution_count": 12,
     "metadata": {},
     "output_type": "execute_result"
    },
    {
     "data": {
      "text/plain": [
       "current loss = 1.6318608883261\t\n",
       "current loss = 1.6318250190084\t\n",
       "current loss = 1.6317891599686\t\n",
       "current loss = 1.6317533112024\t\n",
       "current loss = 1.6317174727052\t\n",
       "current loss = 1.6316816444722\t\n",
       "current loss = 1.6316458264991\t\n",
       "current loss = 1.6316100187813\t\n"
      ]
     },
     "execution_count": 12,
     "metadata": {},
     "output_type": "execute_result"
    },
    {
     "data": {
      "text/plain": [
       "current loss = 1.6315742213142\t\n",
       "current loss = 1.6315384340932\t\n",
       "current loss = 1.6315026571138\t\n",
       "current loss = 1.6314668903716\t\n",
       "current loss = 1.6314311338618\t\n",
       "current loss = 1.6313953875801\t\n",
       "current loss = 1.6313596515218\t\n",
       "current loss = 1.6313239256825\t\n"
      ]
     },
     "execution_count": 12,
     "metadata": {},
     "output_type": "execute_result"
    },
    {
     "data": {
      "text/plain": [
       "current loss = 1.6312882100575\t\n",
       "current loss = 1.6312525046425\t\n",
       "current loss = 1.6312168094328\t\n",
       "current loss = 1.6311811244239\t\n",
       "current loss = 1.6311454496114\t\n",
       "current loss = 1.6311097849906\t\n",
       "current loss = 1.6310741305572\t\n",
       "current loss = 1.6310384863065\t\n",
       "current loss = 1.6310028522341\t\n"
      ]
     },
     "execution_count": 12,
     "metadata": {},
     "output_type": "execute_result"
    },
    {
     "data": {
      "text/plain": [
       "current loss = 1.6309672283355\t\n",
       "current loss = 1.6309316146061\t\n",
       "current loss = 1.6308960110416\t\n",
       "current loss = 1.6308604176373\t\n",
       "current loss = 1.6308248343887\t\n",
       "current loss = 1.6307892612915\t\n",
       "current loss = 1.630753698341\t\n"
      ]
     },
     "execution_count": 12,
     "metadata": {},
     "output_type": "execute_result"
    },
    {
     "data": {
      "text/plain": [
       "current loss = 1.6307181455329\t\n",
       "current loss = 1.6306826028626\t\n",
       "current loss = 1.6306470703257\t\n",
       "current loss = 1.6306115479176\t\n",
       "current loss = 1.630576035634\t\n",
       "current loss = 1.6305405334703\t\n",
       "current loss = 1.630505041422\t\n",
       "current loss = 1.6304695594847\t\n",
       "current loss = 1.630434087654\t\n"
      ]
     },
     "execution_count": 12,
     "metadata": {},
     "output_type": "execute_result"
    },
    {
     "data": {
      "text/plain": [
       "current loss = 1.6303986259253\t\n",
       "current loss = 1.6303631742942\t\n",
       "current loss = 1.6303277327563\t\n",
       "current loss = 1.6302923013071\t\n",
       "current loss = 1.6302568799421\t\n",
       "current loss = 1.6302214686569\t\n",
       "current loss = 1.6301860674471\t\n",
       "current loss = 1.6301506763082\t\n"
      ]
     },
     "execution_count": 12,
     "metadata": {},
     "output_type": "execute_result"
    },
    {
     "data": {
      "text/plain": [
       "current loss = 1.6301152952358\t\n",
       "current loss = 1.6300799242254\t\n",
       "current loss = 1.6300445632726\t\n",
       "current loss = 1.6300092123729\t\n",
       "current loss = 1.629973871522\t\n",
       "current loss = 1.6299385407154\t\n",
       "current loss = 1.6299032199487\t\n",
       "current loss = 1.6298679092175\t\n"
      ]
     },
     "execution_count": 12,
     "metadata": {},
     "output_type": "execute_result"
    },
    {
     "data": {
      "text/plain": [
       "current loss = 1.6298326085173\t\n",
       "current loss = 1.6297973178438\t\n",
       "current loss = 1.6297620371924\t\n",
       "current loss = 1.6297267665589\t\n",
       "current loss = 1.6296915059387\t\n",
       "current loss = 1.6296562553276\t\n",
       "current loss = 1.629621014721\t\n",
       "current loss = 1.6295857841146\t\n"
      ]
     },
     "execution_count": 12,
     "metadata": {},
     "output_type": "execute_result"
    },
    {
     "data": {
      "text/plain": [
       "current loss = 1.629550563504\t\n",
       "current loss = 1.6295153528848\t\n",
       "current loss = 1.6294801522526\t\n",
       "current loss = 1.629444961603\t\n",
       "current loss = 1.6294097809316\t\n",
       "current loss = 1.6293746102341\t\n",
       "current loss = 1.629339449506\t\n",
       "current loss = 1.629304298743\t\n"
      ]
     },
     "execution_count": 12,
     "metadata": {},
     "output_type": "execute_result"
    },
    {
     "data": {
      "text/plain": [
       "current loss = 1.6292691579406\t\n",
       "current loss = 1.6292340270946\t\n",
       "current loss = 1.6291989062006\t\n",
       "current loss = 1.6291637952541\t\n",
       "current loss = 1.6291286942509\t\n",
       "current loss = 1.6290936031864\t\n"
      ]
     },
     "execution_count": 12,
     "metadata": {},
     "output_type": "execute_result"
    },
    {
     "data": {
      "text/plain": [
       "current loss = 1.6290585220565\t\n",
       "current loss = 1.6290234508567\t\n",
       "current loss = 1.6289883895827\t\n",
       "current loss = 1.6289533382301\t\n",
       "current loss = 1.6289182967946\t\n",
       "current loss = 1.6288832652717\t\n",
       "current loss = 1.6288482436573\t\n",
       "current loss = 1.6288132319468\t\n"
      ]
     },
     "execution_count": 12,
     "metadata": {},
     "output_type": "execute_result"
    },
    {
     "data": {
      "text/plain": [
       "current loss = 1.6287782301361\t\n",
       "current loss = 1.6287432382207\t\n",
       "current loss = 1.6287082561963\t\n",
       "current loss = 1.6286732840586\t\n",
       "current loss = 1.6286383218033\t\n",
       "current loss = 1.6286033694259\t\n",
       "current loss = 1.6285684269223\t\n",
       "current loss = 1.628533494288\t\n",
       "current loss = 1.6284985715188\t\n"
      ]
     },
     "execution_count": 12,
     "metadata": {},
     "output_type": "execute_result"
    },
    {
     "data": {
      "text/plain": [
       "current loss = 1.6284636586103\t\n",
       "current loss = 1.6284287555582\t\n",
       "current loss = 1.6283938623582\t\n",
       "current loss = 1.628358979006\t\n",
       "current loss = 1.6283241054974\t\n",
       "current loss = 1.6282892418278\t\n",
       "current loss = 1.6282543879932\t\n",
       "current loss = 1.6282195439891\t\n"
      ]
     },
     "execution_count": 12,
     "metadata": {},
     "output_type": "execute_result"
    },
    {
     "data": {
      "text/plain": [
       "current loss = 1.6281847098113\t\n",
       "current loss = 1.6281498854555\t\n",
       "current loss = 1.6281150709174\t\n",
       "current loss = 1.6280802661927\t\n",
       "current loss = 1.6280454712771\t\n",
       "current loss = 1.6280106861664\t\n",
       "current loss = 1.6279759108561\t\n",
       "current loss = 1.6279411453422\t\n"
      ]
     },
     "execution_count": 12,
     "metadata": {},
     "output_type": "execute_result"
    },
    {
     "data": {
      "text/plain": [
       "current loss = 1.6279063896202\t\n",
       "current loss = 1.627871643686\t\n",
       "current loss = 1.6278369075352\t\n",
       "current loss = 1.6278021811635\t\n",
       "current loss = 1.6277674645668\t\n",
       "current loss = 1.6277327577407\t\n",
       "current loss = 1.627698060681\t\n",
       "current loss = 1.6276633733834\t\n"
      ]
     },
     "execution_count": 12,
     "metadata": {},
     "output_type": "execute_result"
    },
    {
     "data": {
      "text/plain": [
       "current loss = 1.6276286958437\t\n",
       "current loss = 1.6275940280575\t\n",
       "current loss = 1.6275593700208\t\n",
       "current loss = 1.6275247217291\t\n",
       "current loss = 1.6274900831783\t\n",
       "current loss = 1.6274554543641\t\n",
       "current loss = 1.6274208352823\t\n",
       "current loss = 1.6273862259286\t\n"
      ]
     },
     "execution_count": 12,
     "metadata": {},
     "output_type": "execute_result"
    },
    {
     "data": {
      "text/plain": [
       "current loss = 1.6273516262987\t\n",
       "current loss = 1.6273170363886\t\n",
       "current loss = 1.6272824561939\t\n",
       "current loss = 1.6272478857103\t\n",
       "current loss = 1.6272133249338\t\n",
       "current loss = 1.6271787738599\t\n",
       "current loss = 1.6271442324846\t\n"
      ]
     },
     "execution_count": 12,
     "metadata": {},
     "output_type": "execute_result"
    },
    {
     "data": {
      "text/plain": [
       "current loss = 1.6271097008036\t\n",
       "current loss = 1.6270751788127\t\n",
       "current loss = 1.6270406665077\t\n",
       "current loss = 1.6270061638843\t\n",
       "current loss = 1.6269716709384\t\n",
       "current loss = 1.6269371876657\t\n",
       "current loss = 1.626902714062\t\n",
       "current loss = 1.6268682501232\t\n"
      ]
     },
     "execution_count": 12,
     "metadata": {},
     "output_type": "execute_result"
    },
    {
     "data": {
      "text/plain": [
       "current loss = 1.626833795845\t\n",
       "current loss = 1.6267993512232\t\n",
       "current loss = 1.6267649162537\t\n",
       "current loss = 1.6267304909322\t\n",
       "current loss = 1.6266960752546\t\n",
       "current loss = 1.6266616692166\t\n",
       "current loss = 1.6266272728141\t\n",
       "current loss = 1.626592886043\t\n"
      ]
     },
     "execution_count": 12,
     "metadata": {},
     "output_type": "execute_result"
    },
    {
     "data": {
      "text/plain": [
       "current loss = 1.6265585088989\t\n",
       "current loss = 1.6265241413778\t\n",
       "current loss = 1.6264897834755\t\n",
       "current loss = 1.6264554351877\t\n",
       "current loss = 1.6264210965104\t\n",
       "current loss = 1.6263867674393\t\n",
       "current loss = 1.6263524479703\t\n",
       "current loss = 1.6263181380993\t\n"
      ]
     },
     "execution_count": 12,
     "metadata": {},
     "output_type": "execute_result"
    },
    {
     "data": {
      "text/plain": [
       "current loss = 1.626283837822\t\n",
       "current loss = 1.6262495471343\t\n",
       "current loss = 1.6262152660321\t\n",
       "current loss = 1.6261809945112\t\n",
       "current loss = 1.6261467325674\t\n",
       "current loss = 1.6261124801966\t\n",
       "current loss = 1.6260782373947\t\n",
       "current loss = 1.6260440041574\t\n"
      ]
     },
     "execution_count": 12,
     "metadata": {},
     "output_type": "execute_result"
    },
    {
     "data": {
      "text/plain": [
       "current loss = 1.6260097804808\t\n",
       "current loss = 1.6259755663605\t\n",
       "current loss = 1.6259413617926\t\n",
       "current loss = 1.6259071667728\t\n",
       "current loss = 1.6258729812971\t\n",
       "current loss = 1.6258388053612\t\n",
       "current loss = 1.6258046389611\t\n"
      ]
     },
     "execution_count": 12,
     "metadata": {},
     "output_type": "execute_result"
    },
    {
     "data": {
      "text/plain": [
       "current loss = 1.6257704820927\t\n",
       "current loss = 1.6257363347517\t\n",
       "current loss = 1.6257021969342\t\n",
       "current loss = 1.625668068636\t\n",
       "current loss = 1.6256339498529\t\n",
       "current loss = 1.6255998405809\t\n",
       "current loss = 1.6255657408159\t\n"
      ]
     },
     "execution_count": 12,
     "metadata": {},
     "output_type": "execute_result"
    },
    {
     "data": {
      "text/plain": [
       "current loss = 1.6255316505537\t\n",
       "current loss = 1.6254975697902\t\n",
       "current loss = 1.6254634985213\t\n",
       "current loss = 1.625429436743\t\n",
       "current loss = 1.6253953844511\t\n",
       "current loss = 1.6253613416416\t\n",
       "current loss = 1.6253273083103\t\n",
       "current loss = 1.6252932844532\t\n"
      ]
     },
     "execution_count": 12,
     "metadata": {},
     "output_type": "execute_result"
    },
    {
     "data": {
      "text/plain": [
       "current loss = 1.6252592700661\t\n",
       "current loss = 1.625225265145\t\n",
       "current loss = 1.6251912696859\t\n",
       "current loss = 1.6251572836845\t\n",
       "current loss = 1.6251233071368\t\n",
       "current loss = 1.6250893400389\t\n",
       "current loss = 1.6250553823865\t\n",
       "current loss = 1.6250214341756\t\n"
      ]
     },
     "execution_count": 12,
     "metadata": {},
     "output_type": "execute_result"
    },
    {
     "data": {
      "text/plain": [
       "current loss = 1.6249874954022\t\n",
       "current loss = 1.6249535660621\t\n",
       "current loss = 1.6249196461514\t\n",
       "current loss = 1.6248857356659\t\n",
       "current loss = 1.6248518346016\t\n",
       "current loss = 1.6248179429545\t\n",
       "current loss = 1.6247840607204\t\n",
       "current loss = 1.6247501878953\t\n"
      ]
     },
     "execution_count": 12,
     "metadata": {},
     "output_type": "execute_result"
    },
    {
     "data": {
      "text/plain": [
       "current loss = 1.6247163244752\t\n",
       "current loss = 1.6246824704561\t\n",
       "current loss = 1.6246486258338\t\n",
       "current loss = 1.6246147906044\t\n",
       "current loss = 1.6245809647638\t\n",
       "current loss = 1.6245471483079\t\n",
       "current loss = 1.6245133412327\t\n",
       "current loss = 1.6244795435342\t\n"
      ]
     },
     "execution_count": 12,
     "metadata": {},
     "output_type": "execute_result"
    },
    {
     "data": {
      "text/plain": [
       "current loss = 1.6244457552084\t\n",
       "current loss = 1.6244119762512\t\n",
       "current loss = 1.6243782066587\t\n",
       "current loss = 1.6243444464266\t\n",
       "current loss = 1.6243106955512\t\n"
      ]
     },
     "execution_count": 12,
     "metadata": {},
     "output_type": "execute_result"
    },
    {
     "data": {
      "text/plain": [
       "current loss = 1.6242769540283\t\n",
       "current loss = 1.6242432218538\t\n",
       "current loss = 1.6242094990239\t\n",
       "current loss = 1.6241757855345\t\n",
       "current loss = 1.6241420813816\t\n",
       "current loss = 1.6241083865611\t\n"
      ]
     },
     "execution_count": 12,
     "metadata": {},
     "output_type": "execute_result"
    },
    {
     "data": {
      "text/plain": [
       "current loss = 1.624074701069\t\n",
       "current loss = 1.6240410249015\t\n",
       "current loss = 1.6240073580544\t\n",
       "current loss = 1.6239737005237\t\n",
       "current loss = 1.6239400523055\t\n",
       "current loss = 1.6239064133958\t\n",
       "current loss = 1.6238727837906\t\n",
       "current loss = 1.6238391634858\t\n"
      ]
     },
     "execution_count": 12,
     "metadata": {},
     "output_type": "execute_result"
    },
    {
     "data": {
      "text/plain": [
       "current loss = 1.6238055524775\t\n",
       "current loss = 1.6237719507618\t\n",
       "current loss = 1.6237383583345\t\n",
       "current loss = 1.6237047751919\t\n",
       "current loss = 1.6236712013297\t\n",
       "current loss = 1.6236376367442\t\n",
       "current loss = 1.6236040814313\t\n",
       "current loss = 1.6235705353871\t\n"
      ]
     },
     "execution_count": 12,
     "metadata": {},
     "output_type": "execute_result"
    },
    {
     "data": {
      "text/plain": [
       "current loss = 1.6235369986075\t\n",
       "current loss = 1.6235034710887\t\n",
       "current loss = 1.6234699528266\t\n",
       "current loss = 1.6234364438173\t\n",
       "current loss = 1.6234029440568\t\n",
       "current loss = 1.6233694535412\t\n",
       "current loss = 1.6233359722665\t\n"
      ]
     },
     "execution_count": 12,
     "metadata": {},
     "output_type": "execute_result"
    },
    {
     "data": {
      "text/plain": [
       "current loss = 1.6233025002287\t\n",
       "current loss = 1.623269037424\t\n",
       "current loss = 1.6232355838483\t\n",
       "current loss = 1.6232021394978\t\n",
       "current loss = 1.6231687043684\t\n",
       "current loss = 1.6231352784562\t\n",
       "current loss = 1.6231018617574\t\n",
       "current loss = 1.6230684542679\t\n"
      ]
     },
     "execution_count": 12,
     "metadata": {},
     "output_type": "execute_result"
    },
    {
     "data": {
      "text/plain": [
       "current loss = 1.6230350559838\t\n",
       "current loss = 1.6230016669012\t\n",
       "current loss = 1.6229682870162\t\n",
       "current loss = 1.6229349163247\t\n",
       "current loss = 1.622901554823\t\n",
       "current loss = 1.6228682025071\t\n",
       "current loss = 1.6228348593731\t\n",
       "current loss = 1.6228015254169\t\n"
      ]
     },
     "execution_count": 12,
     "metadata": {},
     "output_type": "execute_result"
    },
    {
     "data": {
      "text/plain": [
       "current loss = 1.6227682006348\t\n",
       "current loss = 1.6227348850228\t\n",
       "current loss = 1.622701578577\t\n",
       "current loss = 1.6226682812935\t\n",
       "current loss = 1.6226349931684\t\n",
       "current loss = 1.6226017141977\t\n"
      ]
     },
     "execution_count": 12,
     "metadata": {},
     "output_type": "execute_result"
    },
    {
     "data": {
      "text/plain": [
       "current loss = 1.6225684443777\t\n",
       "current loss = 1.6225351837042\t\n",
       "current loss = 1.6225019321736\t\n",
       "current loss = 1.6224686897818\t\n",
       "current loss = 1.6224354565251\t\n",
       "current loss = 1.6224022323994\t\n",
       "current loss = 1.6223690174009\t\n",
       "current loss = 1.6223358115257\t\n"
      ]
     },
     "execution_count": 12,
     "metadata": {},
     "output_type": "execute_result"
    },
    {
     "data": {
      "text/plain": [
       "current loss = 1.62230261477\t\n",
       "current loss = 1.6222694271298\t\n",
       "current loss = 1.6222362486012\t\n",
       "current loss = 1.6222030791805\t\n",
       "current loss = 1.6221699188636\t\n",
       "current loss = 1.6221367676468\t\n",
       "current loss = 1.6221036255262\t\n"
      ]
     },
     "execution_count": 12,
     "metadata": {},
     "output_type": "execute_result"
    },
    {
     "data": {
      "text/plain": [
       "current loss = 1.6220704924978\t\n",
       "current loss = 1.6220373685579\t\n",
       "current loss = 1.6220042537025\t\n",
       "current loss = 1.6219711479279\t\n",
       "current loss = 1.6219380512301\t\n",
       "current loss = 1.6219049636052\t\n",
       "current loss = 1.6218718850495\t\n",
       "current loss = 1.6218388155591\t\n"
      ]
     },
     "execution_count": 12,
     "metadata": {},
     "output_type": "execute_result"
    },
    {
     "data": {
      "text/plain": [
       "current loss = 1.62180575513\t\n",
       "current loss = 1.6217727037586\t\n",
       "current loss = 1.6217396614409\t\n",
       "current loss = 1.621706628173\t\n",
       "current loss = 1.6216736039512\t\n",
       "current loss = 1.6216405887716\t\n",
       "current loss = 1.6216075826303\t\n",
       "current loss = 1.6215745855235\t\n"
      ]
     },
     "execution_count": 12,
     "metadata": {},
     "output_type": "execute_result"
    },
    {
     "data": {
      "text/plain": [
       "current loss = 1.6215415974475\t\n",
       "current loss = 1.6215086183983\t\n",
       "current loss = 1.6214756483721\t\n",
       "current loss = 1.6214426873651\t\n",
       "current loss = 1.6214097353734\t\n",
       "current loss = 1.6213767923934\t\n",
       "current loss = 1.621343858421\t\n"
      ]
     },
     "execution_count": 12,
     "metadata": {},
     "output_type": "execute_result"
    },
    {
     "data": {
      "text/plain": [
       "current loss = 1.6213109334526\t\n",
       "current loss = 1.6212780174842\t\n",
       "current loss = 1.6212451105121\t\n",
       "current loss = 1.6212122125325\t\n",
       "current loss = 1.6211793235416\t\n",
       "current loss = 1.6211464435355\t\n",
       "current loss = 1.6211135725104\t\n",
       "current loss = 1.6210807104626\t\n"
      ]
     },
     "execution_count": 12,
     "metadata": {},
     "output_type": "execute_result"
    },
    {
     "data": {
      "text/plain": [
       "current loss = 1.6210478573882\t\n",
       "current loss = 1.6210150132834\t\n",
       "current loss = 1.6209821781445\t\n",
       "current loss = 1.6209493519677\t\n",
       "current loss = 1.6209165347491\t\n",
       "current loss = 1.6208837264849\t\n",
       "current loss = 1.6208509271714\t\n",
       "current loss = 1.6208181368049\t\n"
      ]
     },
     "execution_count": 12,
     "metadata": {},
     "output_type": "execute_result"
    },
    {
     "data": {
      "text/plain": [
       "current loss = 1.6207853553814\t\n",
       "current loss = 1.6207525828972\t\n",
       "current loss = 1.6207198193486\t\n",
       "current loss = 1.6206870647318\t\n",
       "current loss = 1.6206543190429\t\n",
       "current loss = 1.6206215822783\t\n"
      ]
     },
     "execution_count": 12,
     "metadata": {},
     "output_type": "execute_result"
    },
    {
     "data": {
      "text/plain": [
       "current loss = 1.6205888544341\t\n",
       "current loss = 1.6205561355066\t\n"
      ]
     },
     "execution_count": 12,
     "metadata": {},
     "output_type": "execute_result"
    },
    {
     "data": {
      "text/plain": [
       "current loss = 1.620523425492\t\n",
       "current loss = 1.6204907243866\t\n",
       "current loss = 1.6204580321866\t\n",
       "current loss = 1.6204253488881\t\n",
       "current loss = 1.6203926744876\t\n",
       "current loss = 1.6203600089811\t\n"
      ]
     },
     "execution_count": 12,
     "metadata": {},
     "output_type": "execute_result"
    },
    {
     "data": {
      "text/plain": [
       "current loss = 1.620327352365\t\n",
       "current loss = 1.6202947046356\t\n",
       "current loss = 1.6202620657889\t\n",
       "current loss = 1.6202294358214\t\n",
       "current loss = 1.6201968147293\t\n"
      ]
     },
     "execution_count": 12,
     "metadata": {},
     "output_type": "execute_result"
    },
    {
     "data": {
      "text/plain": [
       "current loss = 1.6201642025087\t\n",
       "current loss = 1.6201315991561\t\n",
       "current loss = 1.6200990046676\t\n",
       "current loss = 1.6200664190395\t\n",
       "current loss = 1.6200338422681\t\n",
       "current loss = 1.6200012743496\t\n"
      ]
     },
     "execution_count": 12,
     "metadata": {},
     "output_type": "execute_result"
    },
    {
     "data": {
      "text/plain": [
       "current loss = 1.6199687152803\t\n",
       "current loss = 1.6199361650565\t\n",
       "current loss = 1.6199036236745\t\n",
       "current loss = 1.6198710911305\t\n",
       "current loss = 1.6198385674208\t\n",
       "current loss = 1.6198060525417\t\n",
       "current loss = 1.6197735464894\t\n"
      ]
     },
     "execution_count": 12,
     "metadata": {},
     "output_type": "execute_result"
    },
    {
     "data": {
      "text/plain": [
       "current loss = 1.6197410492603\t\n",
       "current loss = 1.6197085608507\t\n",
       "current loss = 1.6196760812568\t\n",
       "current loss = 1.6196436104749\t\n",
       "current loss = 1.6196111485014\t\n",
       "current loss = 1.6195786953324\t\n"
      ]
     },
     "execution_count": 12,
     "metadata": {},
     "output_type": "execute_result"
    },
    {
     "data": {
      "text/plain": [
       "current loss = 1.6195462509644\t\n",
       "current loss = 1.6195138153935\t\n",
       "current loss = 1.6194813886162\t\n",
       "current loss = 1.6194489706287\t\n",
       "current loss = 1.6194165614273\t\n",
       "current loss = 1.6193841610084\t\n",
       "current loss = 1.6193517693681\t\n"
      ]
     },
     "execution_count": 12,
     "metadata": {},
     "output_type": "execute_result"
    },
    {
     "data": {
      "text/plain": [
       "current loss = 1.619319386503\t\n",
       "current loss = 1.6192870124091\t\n",
       "current loss = 1.619254647083\t\n",
       "current loss = 1.6192222905209\t\n",
       "current loss = 1.6191899427191\t\n",
       "current loss = 1.6191576036739\t\n",
       "current loss = 1.6191252733817\t\n"
      ]
     },
     "execution_count": 12,
     "metadata": {},
     "output_type": "execute_result"
    },
    {
     "data": {
      "text/plain": [
       "current loss = 1.6190929518388\t\n",
       "current loss = 1.6190606390415\t\n"
      ]
     },
     "execution_count": 12,
     "metadata": {},
     "output_type": "execute_result"
    },
    {
     "data": {
      "text/plain": [
       "current loss = 1.6190283349861\t\n",
       "current loss = 1.6189960396691\t\n",
       "current loss = 1.6189637530866\t\n",
       "current loss = 1.6189314752352\t\n",
       "current loss = 1.618899206111\t\n"
      ]
     },
     "execution_count": 12,
     "metadata": {},
     "output_type": "execute_result"
    },
    {
     "data": {
      "text/plain": [
       "current loss = 1.6188669457104\t\n",
       "current loss = 1.6188346940299\t\n",
       "current loss = 1.6188024510656\t\n",
       "current loss = 1.6187702168141\t\n",
       "current loss = 1.6187379912715\t\n",
       "current loss = 1.6187057744344\t\n"
      ]
     },
     "execution_count": 12,
     "metadata": {},
     "output_type": "execute_result"
    },
    {
     "data": {
      "text/plain": [
       "current loss = 1.6186735662989\t\n",
       "current loss = 1.6186413668616\t\n",
       "current loss = 1.6186091761187\t\n",
       "current loss = 1.6185769940665\t\n",
       "current loss = 1.6185448207016\t\n",
       "current loss = 1.6185126560202\t\n"
      ]
     },
     "execution_count": 12,
     "metadata": {},
     "output_type": "execute_result"
    },
    {
     "data": {
      "text/plain": [
       "current loss = 1.6184805000187\t\n",
       "current loss = 1.6184483526934\t\n",
       "current loss = 1.6184162140408\t\n",
       "current loss = 1.6183840840571\t\n",
       "current loss = 1.6183519627389\t\n",
       "current loss = 1.6183198500824\t\n",
       "current loss = 1.618287746084\t\n"
      ]
     },
     "execution_count": 12,
     "metadata": {},
     "output_type": "execute_result"
    },
    {
     "data": {
      "text/plain": [
       "current loss = 1.6182556507402\t\n",
       "current loss = 1.6182235640472\t\n",
       "current loss = 1.6181914860016\t\n",
       "current loss = 1.6181594165995\t\n",
       "current loss = 1.6181273558376\t\n",
       "current loss = 1.6180953037121\t\n"
      ]
     },
     "execution_count": 12,
     "metadata": {},
     "output_type": "execute_result"
    },
    {
     "data": {
      "text/plain": [
       "current loss = 1.6180632602194\t\n",
       "current loss = 1.618031225356\t\n",
       "current loss = 1.6179991991182\t\n",
       "current loss = 1.6179671815024\t\n",
       "current loss = 1.6179351725051\t\n"
      ]
     },
     "execution_count": 12,
     "metadata": {},
     "output_type": "execute_result"
    },
    {
     "data": {
      "text/plain": [
       "current loss = 1.6179031721226\t\n",
       "current loss = 1.6178711803513\t\n",
       "current loss = 1.6178391971877\t\n",
       "current loss = 1.6178072226281\t\n"
      ]
     },
     "execution_count": 12,
     "metadata": {},
     "output_type": "execute_result"
    },
    {
     "data": {
      "text/plain": [
       "current loss = 1.617775256669\t\n",
       "current loss = 1.6177432993068\t\n"
      ]
     },
     "execution_count": 12,
     "metadata": {},
     "output_type": "execute_result"
    },
    {
     "data": {
      "text/plain": [
       "current loss = 1.6177113505379\t\n",
       "current loss = 1.6176794103586\t\n",
       "current loss = 1.6176474787655\t\n"
      ]
     },
     "execution_count": 12,
     "metadata": {},
     "output_type": "execute_result"
    },
    {
     "data": {
      "text/plain": [
       "current loss = 1.617615555755\t\n",
       "current loss = 1.6175836413234\t\n",
       "current loss = 1.6175517354673\t\n",
       "current loss = 1.6175198381829\t\n",
       "current loss = 1.6174879494668\t\n",
       "current loss = 1.6174560693154\t\n"
      ]
     },
     "execution_count": 12,
     "metadata": {},
     "output_type": "execute_result"
    },
    {
     "data": {
      "text/plain": [
       "current loss = 1.6174241977251\t\n",
       "current loss = 1.6173923346924\t\n",
       "current loss = 1.6173604802136\t\n",
       "current loss = 1.6173286342853\t\n",
       "current loss = 1.6172967969039\t\n",
       "current loss = 1.6172649680657\t\n"
      ]
     },
     "execution_count": 12,
     "metadata": {},
     "output_type": "execute_result"
    },
    {
     "data": {
      "text/plain": [
       "current loss = 1.6172331477674\t\n",
       "current loss = 1.6172013360052\t\n",
       "current loss = 1.6171695327757\t\n",
       "current loss = 1.6171377380753\t\n",
       "current loss = 1.6171059519005\t\n",
       "current loss = 1.6170741742477\t"
      ]
     },
     "execution_count": 12,
     "metadata": {},
     "output_type": "execute_result"
    },
    {
     "data": {
      "text/plain": [
       "\n",
       "current loss = 1.6170424051133\t\n",
       "current loss = 1.6170106444939\t\n",
       "current loss = 1.6169788923859\t\n",
       "current loss = 1.6169471487857\t\n",
       "current loss = 1.6169154136899\t\n"
      ]
     },
     "execution_count": 12,
     "metadata": {},
     "output_type": "execute_result"
    },
    {
     "data": {
      "text/plain": [
       "current loss = 1.6168836870948\t\n",
       "current loss = 1.616851968997\t\n",
       "current loss = 1.616820259393\t\n",
       "current loss = 1.6167885582791\t\n",
       "current loss = 1.6167568656519\t\n",
       "current loss = 1.6167251815079\t\n"
      ]
     },
     "execution_count": 12,
     "metadata": {},
     "output_type": "execute_result"
    },
    {
     "data": {
      "text/plain": [
       "current loss = 1.6166935058435\t\n",
       "current loss = 1.6166618386552\t\n",
       "current loss = 1.6166301799396\t\n",
       "current loss = 1.616598529693\t\n",
       "current loss = 1.6165668879119\t\n",
       "current loss = 1.616535254593\t\n",
       "current loss = 1.6165036297325\t\n"
      ]
     },
     "execution_count": 12,
     "metadata": {},
     "output_type": "execute_result"
    },
    {
     "data": {
      "text/plain": [
       "current loss = 1.6164720133272\t\n",
       "current loss = 1.6164404053733\t\n",
       "current loss = 1.6164088058675\t\n",
       "current loss = 1.6163772148063\t\n",
       "current loss = 1.616345632186\t\n",
       "current loss = 1.6163140580033\t\n"
      ]
     },
     "execution_count": 12,
     "metadata": {},
     "output_type": "execute_result"
    },
    {
     "data": {
      "text/plain": [
       "current loss = 1.6162824922546\t\n",
       "current loss = 1.6162509349365\t\n",
       "current loss = 1.6162193860455\t\n",
       "current loss = 1.616187845578\t\n",
       "current loss = 1.6161563135306\t\n",
       "current loss = 1.6161247898998\t\n",
       "current loss = 1.6160932746821\t\n"
      ]
     },
     "execution_count": 12,
     "metadata": {},
     "output_type": "execute_result"
    },
    {
     "data": {
      "text/plain": [
       "current loss = 1.616061767874\t\n",
       "current loss = 1.616030269472\t\n",
       "current loss = 1.6159987794728\t\n",
       "current loss = 1.6159672978727\t\n",
       "current loss = 1.6159358246684\t\n"
      ]
     },
     "execution_count": 12,
     "metadata": {},
     "output_type": "execute_result"
    },
    {
     "data": {
      "text/plain": [
       "current loss = 1.6159043598563\t\n",
       "current loss = 1.615872903433\t\n",
       "current loss = 1.615841455395\t\n",
       "current loss = 1.6158100157388\t\n",
       "current loss = 1.615778584461\t\n"
      ]
     },
     "execution_count": 12,
     "metadata": {},
     "output_type": "execute_result"
    },
    {
     "data": {
      "text/plain": [
       "current loss = 1.6157471615582\t\n",
       "current loss = 1.6157157470268\t\n",
       "current loss = 1.6156843408634\t\n",
       "current loss = 1.6156529430645\t\n",
       "current loss = 1.6156215536268\t\n"
      ]
     },
     "execution_count": 12,
     "metadata": {},
     "output_type": "execute_result"
    },
    {
     "data": {
      "text/plain": [
       "current loss = 1.6155901725466\t\n",
       "current loss = 1.6155587998207\t\n",
       "current loss = 1.6155274354455\t\n",
       "current loss = 1.6154960794176\t\n"
      ]
     },
     "execution_count": 12,
     "metadata": {},
     "output_type": "execute_result"
    },
    {
     "data": {
      "text/plain": [
       "current loss = 1.6154647317335\t\n",
       "current loss = 1.6154333923898\t\n",
       "current loss = 1.6154020613831\t\n",
       "current loss = 1.6153707387099\t\n",
       "current loss = 1.6153394243669\t\n"
      ]
     },
     "execution_count": 12,
     "metadata": {},
     "output_type": "execute_result"
    },
    {
     "data": {
      "text/plain": [
       "current loss = 1.6153081183504\t\n",
       "current loss = 1.6152768206572\t\n",
       "current loss = 1.6152455312838\t\n",
       "current loss = 1.6152142502267\t\n",
       "current loss = 1.6151829774825\t\n",
       "current loss = 1.6151517130479\t\n"
      ]
     },
     "execution_count": 12,
     "metadata": {},
     "output_type": "execute_result"
    },
    {
     "data": {
      "text/plain": [
       "current loss = 1.6151204569193\t\n",
       "current loss = 1.6150892090934\t\n",
       "current loss = 1.6150579695667\t\n",
       "current loss = 1.6150267383358\t\n",
       "current loss = 1.6149955153974\t\n"
      ]
     },
     "execution_count": 12,
     "metadata": {},
     "output_type": "execute_result"
    },
    {
     "data": {
      "text/plain": [
       "current loss = 1.6149643007479\t\n",
       "current loss = 1.614933094384\t\n",
       "current loss = 1.6149018963023\t\n",
       "current loss = 1.6148707064993\t\n",
       "current loss = 1.6148395249717\t\n",
       "current loss = 1.614808351716\t\n"
      ]
     },
     "execution_count": 12,
     "metadata": {},
     "output_type": "execute_result"
    },
    {
     "data": {
      "text/plain": [
       "current loss = 1.6147771867289\t\n",
       "current loss = 1.6147460300069\t\n",
       "current loss = 1.6147148815467\t\n",
       "current loss = 1.6146837413448\t\n",
       "current loss = 1.6146526093979\t\n",
       "current loss = 1.6146214857025\t\n"
      ]
     },
     "execution_count": 12,
     "metadata": {},
     "output_type": "execute_result"
    },
    {
     "data": {
      "text/plain": [
       "current loss = 1.6145903702553\t\n",
       "current loss = 1.6145592630529\t\n",
       "current loss = 1.6145281640918\t\n",
       "current loss = 1.6144970733688\t\n",
       "current loss = 1.6144659908803\t\n",
       "current loss = 1.6144349166231\t\n",
       "current loss = 1.6144038505938\t\n"
      ]
     },
     "execution_count": 12,
     "metadata": {},
     "output_type": "execute_result"
    },
    {
     "data": {
      "text/plain": [
       "current loss = 1.614372792789\t\n",
       "current loss = 1.6143417432052\t\n",
       "current loss = 1.6143107018392\t\n",
       "current loss = 1.6142796686876\t\n",
       "current loss = 1.6142486437469\t\n",
       "current loss = 1.6142176270138\t\n"
      ]
     },
     "execution_count": 12,
     "metadata": {},
     "output_type": "execute_result"
    },
    {
     "data": {
      "text/plain": [
       "current loss = 1.614186618485\t\n",
       "current loss = 1.6141556181571\t\n",
       "current loss = 1.6141246260267\t\n",
       "current loss = 1.6140936420904\t\n",
       "current loss = 1.614062666345\t\n",
       "current loss = 1.614031698787\t\n",
       "current loss = 1.614000739413\t\n"
      ]
     },
     "execution_count": 12,
     "metadata": {},
     "output_type": "execute_result"
    },
    {
     "data": {
      "text/plain": [
       "current loss = 1.6139697882198\t\n",
       "current loss = 1.613938845204\t\n",
       "current loss = 1.6139079103623\t\n",
       "current loss = 1.6138769836912\t\n"
      ]
     },
     "execution_count": 12,
     "metadata": {},
     "output_type": "execute_result"
    },
    {
     "data": {
      "text/plain": [
       "current loss = 1.6138460651874\t\n",
       "current loss = 1.6138151548476\t\n",
       "current loss = 1.6137842526685\t\n",
       "current loss = 1.6137533586467\t\n",
       "current loss = 1.6137224727788\t\n"
      ]
     },
     "execution_count": 12,
     "metadata": {},
     "output_type": "execute_result"
    },
    {
     "data": {
      "text/plain": [
       "current loss = 1.6136915950616\t\n",
       "current loss = 1.6136607254917\t\n",
       "current loss = 1.6136298640657\t\n"
      ]
     },
     "execution_count": 12,
     "metadata": {},
     "output_type": "execute_result"
    },
    {
     "data": {
      "text/plain": [
       "current loss = 1.6135990107803\t\n",
       "current loss = 1.6135681656323\t\n",
       "current loss = 1.6135373286182\t\n",
       "current loss = 1.6135064997348\t\n",
       "current loss = 1.6134756789787\t\n"
      ]
     },
     "execution_count": 12,
     "metadata": {},
     "output_type": "execute_result"
    },
    {
     "data": {
      "text/plain": [
       "current loss = 1.6134448663466\t\n",
       "current loss = 1.6134140618352\t\n",
       "current loss = 1.6133832654411\t\n"
      ]
     },
     "execution_count": 12,
     "metadata": {},
     "output_type": "execute_result"
    },
    {
     "data": {
      "text/plain": [
       "current loss = 1.6133524771611\t\n",
       "current loss = 1.6133216969918\t\n",
       "current loss = 1.6132909249299\t\n",
       "current loss = 1.6132601609721\t\n",
       "current loss = 1.6132294051151\t\n",
       "current loss = 1.6131986573556\t\n"
      ]
     },
     "execution_count": 12,
     "metadata": {},
     "output_type": "execute_result"
    },
    {
     "data": {
      "text/plain": [
       "current loss = 1.6131679176902\t\n",
       "current loss = 1.6131371861158\t\n",
       "current loss = 1.6131064626289\t\n",
       "current loss = 1.6130757472263\t\n",
       "current loss = 1.6130450399046\t\n"
      ]
     },
     "execution_count": 12,
     "metadata": {},
     "output_type": "execute_result"
    },
    {
     "data": {
      "text/plain": [
       "current loss = 1.6130143406606\t\n",
       "current loss = 1.612983649491\t\n",
       "current loss = 1.6129529663925\t\n",
       "current loss = 1.6129222913618\t\n",
       "current loss = 1.6128916243956\t\n",
       "current loss = 1.6128609654906\t\n"
      ]
     },
     "execution_count": 12,
     "metadata": {},
     "output_type": "execute_result"
    },
    {
     "data": {
      "text/plain": [
       "current loss = 1.6128303146436\t\n",
       "current loss = 1.6127996718512\t\n",
       "current loss = 1.6127690371101\t\n",
       "current loss = 1.6127384104172\t\n",
       "current loss = 1.612707791769\t\n",
       "current loss = 1.6126771811624\t\n"
      ]
     },
     "execution_count": 12,
     "metadata": {},
     "output_type": "execute_result"
    },
    {
     "data": {
      "text/plain": [
       "current loss = 1.6126465785941\t\n",
       "current loss = 1.6126159840607\t\n",
       "current loss = 1.612585397559\t\n",
       "current loss = 1.6125548190858\t\n",
       "current loss = 1.6125242486377\t\n"
      ]
     },
     "execution_count": 12,
     "metadata": {},
     "output_type": "execute_result"
    },
    {
     "data": {
      "text/plain": [
       "current loss = 1.6124936862115\t\n"
      ]
     },
     "execution_count": 12,
     "metadata": {},
     "output_type": "execute_result"
    },
    {
     "data": {
      "text/plain": [
       "current loss = 1.612463131804\t\n",
       "current loss = 1.6124325854119\t\n"
      ]
     },
     "execution_count": 12,
     "metadata": {},
     "output_type": "execute_result"
    },
    {
     "data": {
      "text/plain": [
       "current loss = 1.6124020470319\t\n"
      ]
     },
     "execution_count": 12,
     "metadata": {},
     "output_type": "execute_result"
    },
    {
     "data": {
      "text/plain": [
       "current loss = 1.6123715166607\t\n"
      ]
     },
     "execution_count": 12,
     "metadata": {},
     "output_type": "execute_result"
    },
    {
     "data": {
      "text/plain": [
       "current loss = 1.6123409942952\t\n"
      ]
     },
     "execution_count": 12,
     "metadata": {},
     "output_type": "execute_result"
    },
    {
     "data": {
      "text/plain": [
       "current loss = 1.6123104799319\t\n"
      ]
     },
     "execution_count": 12,
     "metadata": {},
     "output_type": "execute_result"
    },
    {
     "data": {
      "text/plain": [
       "current loss = 1.6122799735678\t\n"
      ]
     },
     "execution_count": 12,
     "metadata": {},
     "output_type": "execute_result"
    },
    {
     "data": {
      "text/plain": [
       "current loss = 1.6122494751996\t\n",
       "current loss = 1.6122189848239\t\n",
       "current loss = 1.6121885024375\t\n"
      ]
     },
     "execution_count": 12,
     "metadata": {},
     "output_type": "execute_result"
    },
    {
     "data": {
      "text/plain": [
       "current loss = 1.6121580280373\t\n",
       "current loss = 1.6121275616199\t\n",
       "current loss = 1.6120971031821\t\n"
      ]
     },
     "execution_count": 12,
     "metadata": {},
     "output_type": "execute_result"
    },
    {
     "data": {
      "text/plain": [
       "current loss = 1.6120666527207\t\n",
       "current loss = 1.6120362102324\t\n"
      ]
     },
     "execution_count": 12,
     "metadata": {},
     "output_type": "execute_result"
    },
    {
     "data": {
      "text/plain": [
       "current loss = 1.612005775714\t\n",
       "current loss = 1.6119753491623\t\n",
       "current loss = 1.611944930574\t\n",
       "current loss = 1.6119145199459\t\n"
      ]
     },
     "execution_count": 12,
     "metadata": {},
     "output_type": "execute_result"
    },
    {
     "data": {
      "text/plain": [
       "current loss = 1.6118841172747\t\n",
       "current loss = 1.6118537225573\t\n",
       "current loss = 1.6118233357904\t\n",
       "current loss = 1.6117929569707\t\n",
       "current loss = 1.6117625860952\t\n",
       "current loss = 1.6117322231604\t\n",
       "current loss = 1.6117018681633\t\n",
       "current loss = 1.6116715211005\t\n"
      ]
     },
     "execution_count": 12,
     "metadata": {},
     "output_type": "execute_result"
    },
    {
     "data": {
      "text/plain": [
       "current loss = 1.611641181969\t\n",
       "current loss = 1.6116108507654\t\n",
       "current loss = 1.6115805274865\t\n",
       "current loss = 1.6115502121293\t\n",
       "current loss = 1.6115199046903\t\n",
       "current loss = 1.6114896051665\t\n"
      ]
     },
     "execution_count": 12,
     "metadata": {},
     "output_type": "execute_result"
    },
    {
     "data": {
      "text/plain": [
       "current loss = 1.6114593135546\t\n",
       "current loss = 1.6114290298514\t\n",
       "current loss = 1.6113987540537\t\n",
       "current loss = 1.6113684861583\t\n",
       "current loss = 1.6113382261621\t\n"
      ]
     },
     "execution_count": 12,
     "metadata": {},
     "output_type": "execute_result"
    },
    {
     "data": {
      "text/plain": [
       "current loss = 1.6113079740618\t\n",
       "current loss = 1.6112777298542\t\n",
       "current loss = 1.6112474935361\t\n",
       "current loss = 1.6112172651044\t\n"
      ]
     },
     "execution_count": 12,
     "metadata": {},
     "output_type": "execute_result"
    },
    {
     "data": {
      "text/plain": [
       "current loss = 1.6111870445558\t\n",
       "current loss = 1.6111568318872\t\n",
       "current loss = 1.6111266270953\t\n",
       "current loss = 1.6110964301771\t\n",
       "current loss = 1.6110662411292\t\n",
       "current loss = 1.6110360599486\t\n",
       "current loss = 1.6110058866321\t\n"
      ]
     },
     "execution_count": 12,
     "metadata": {},
     "output_type": "execute_result"
    },
    {
     "data": {
      "text/plain": [
       "current loss = 1.6109757211764\t\n",
       "current loss = 1.6109455635784\t\n",
       "current loss = 1.6109154138349\t\n",
       "current loss = 1.6108852719427\t\n",
       "current loss = 1.6108551378988\t\n",
       "current loss = 1.6108250116998\t\n"
      ]
     },
     "execution_count": 12,
     "metadata": {},
     "output_type": "execute_result"
    },
    {
     "data": {
      "text/plain": [
       "current loss = 1.6107948933427\t\n",
       "current loss = 1.6107647828243\t\n",
       "current loss = 1.6107346801414\t\n",
       "current loss = 1.6107045852908\t\n",
       "current loss = 1.6106744982694\t\n",
       "current loss = 1.6106444190741\t\n",
       "current loss = 1.6106143477016\t\n"
      ]
     },
     "execution_count": 12,
     "metadata": {},
     "output_type": "execute_result"
    },
    {
     "data": {
      "text/plain": [
       "current loss = 1.6105842841488\t\n",
       "current loss = 1.6105542284127\t\n",
       "current loss = 1.6105241804899\t\n",
       "current loss = 1.6104941403774\t\n",
       "current loss = 1.610464108072\t\n",
       "current loss = 1.6104340835705\t\n",
       "current loss = 1.6104040668699\t\n"
      ]
     },
     "execution_count": 12,
     "metadata": {},
     "output_type": "execute_result"
    },
    {
     "data": {
      "text/plain": [
       "current loss = 1.610374057967\t\n",
       "current loss = 1.6103440568586\t\n",
       "current loss = 1.6103140635417\t\n",
       "current loss = 1.6102840780129\t\n",
       "current loss = 1.6102541002694\t\n",
       "current loss = 1.6102241303078\t\n",
       "current loss = 1.610194168125\t\n",
       "current loss = 1.610164213718\t\n"
      ]
     },
     "execution_count": 12,
     "metadata": {},
     "output_type": "execute_result"
    },
    {
     "data": {
      "text/plain": [
       "current loss = 1.6101342670836\t\n",
       "current loss = 1.6101043282186\t\n",
       "current loss = 1.6100743971201\t\n",
       "current loss = 1.6100444737847\t\n",
       "current loss = 1.6100145582094\t\n",
       "current loss = 1.6099846503911\t\n",
       "current loss = 1.6099547503267\t\n",
       "current loss = 1.609924858013\t\n"
      ]
     },
     "execution_count": 12,
     "metadata": {},
     "output_type": "execute_result"
    },
    {
     "data": {
      "text/plain": [
       "current loss = 1.6098949734469\t\n",
       "current loss = 1.6098650966253\t\n",
       "current loss = 1.6098352275452\t\n",
       "current loss = 1.6098053662033\t\n",
       "current loss = 1.6097755125966\t\n",
       "current loss = 1.609745666722\t\n",
       "current loss = 1.6097158285763\t\n",
       "current loss = 1.6096859981565\t\n"
      ]
     },
     "execution_count": 12,
     "metadata": {},
     "output_type": "execute_result"
    },
    {
     "data": {
      "text/plain": [
       "current loss = 1.6096561754595\t\n",
       "current loss = 1.6096263604821\t\n",
       "current loss = 1.6095965532213\t\n",
       "current loss = 1.609566753674\t\n",
       "current loss = 1.609536961837\t\n",
       "current loss = 1.6095071777073\t\n",
       "current loss = 1.6094774012818\t\n",
       "current loss = 1.6094476325573\t\n"
      ]
     },
     "execution_count": 12,
     "metadata": {},
     "output_type": "execute_result"
    },
    {
     "data": {
      "text/plain": [
       "current loss = 1.6094178715309\t\n",
       "current loss = 1.6093881181994\t\n",
       "current loss = 1.6093583725597\t\n",
       "current loss = 1.6093286346088\t\n",
       "current loss = 1.6092989043435\t\n",
       "current loss = 1.6092691817608\t\n",
       "current loss = 1.6092394668577\t\n",
       "current loss = 1.6092097596309\t\n"
      ]
     },
     "execution_count": 12,
     "metadata": {},
     "output_type": "execute_result"
    },
    {
     "data": {
      "text/plain": [
       "current loss = 1.6091800600775\t\n",
       "current loss = 1.6091503681944\t\n",
       "current loss = 1.6091206839785\t\n",
       "current loss = 1.6090910074267\t\n"
      ]
     },
     "execution_count": 12,
     "metadata": {},
     "output_type": "execute_result"
    },
    {
     "data": {
      "text/plain": [
       "current loss = 1.609061338536\t\n",
       "current loss = 1.6090316773033\t\n",
       "current loss = 1.6090020237256\t\n",
       "current loss = 1.6089723777997\t\n"
      ]
     },
     "execution_count": 12,
     "metadata": {},
     "output_type": "execute_result"
    },
    {
     "data": {
      "text/plain": [
       "current loss = 1.6089427395226\t\n",
       "current loss = 1.6089131088913\t\n",
       "current loss = 1.6088834859027\t\n",
       "current loss = 1.6088538705536\t\n",
       "current loss = 1.6088242628412\t\n",
       "current loss = 1.6087946627623\t\n",
       "current loss = 1.6087650703139\t\n",
       "current loss = 1.6087354854929\t\n"
      ]
     },
     "execution_count": 12,
     "metadata": {},
     "output_type": "execute_result"
    },
    {
     "data": {
      "text/plain": [
       "current loss = 1.6087059082963\t\n",
       "current loss = 1.608676338721\t\n",
       "current loss = 1.608646776764\t\n",
       "current loss = 1.6086172224222\t\n",
       "current loss = 1.6085876756926\t\n",
       "current loss = 1.6085581365722\t\n",
       "current loss = 1.6085286050579\t\n",
       "current loss = 1.6084990811467\t\n"
      ]
     },
     "execution_count": 12,
     "metadata": {},
     "output_type": "execute_result"
    },
    {
     "data": {
      "text/plain": [
       "current loss = 1.6084695648355\t\n",
       "current loss = 1.6084400561213\t\n",
       "current loss = 1.6084105550011\t\n",
       "current loss = 1.6083810614719\t\n",
       "current loss = 1.6083515755305\t\n",
       "current loss = 1.6083220971741\t\n",
       "current loss = 1.6082926263995\t\n"
      ]
     },
     "execution_count": 12,
     "metadata": {},
     "output_type": "execute_result"
    },
    {
     "data": {
      "text/plain": [
       "current loss = 1.6082631632038\t\n",
       "current loss = 1.6082337075839\t\n",
       "current loss = 1.6082042595367\t\n",
       "current loss = 1.6081748190594\t\n",
       "current loss = 1.6081453861488\t\n",
       "current loss = 1.608115960802\t\n"
      ]
     },
     "execution_count": 12,
     "metadata": {},
     "output_type": "execute_result"
    },
    {
     "data": {
      "text/plain": [
       "current loss = 1.6080865430158\t\n",
       "current loss = 1.6080571327875\t\n",
       "current loss = 1.6080277301138\t\n",
       "current loss = 1.6079983349918\t\n",
       "current loss = 1.6079689474185\t\n",
       "current loss = 1.6079395673908\t\n",
       "current loss = 1.6079101949059\t\n"
      ]
     },
     "execution_count": 12,
     "metadata": {},
     "output_type": "execute_result"
    },
    {
     "data": {
      "text/plain": [
       "current loss = 1.6078808299606\t\n",
       "current loss = 1.607851472552\t\n",
       "current loss = 1.6078221226771\t\n",
       "current loss = 1.6077927803329\t\n",
       "current loss = 1.6077634455163\t\n",
       "current loss = 1.6077341182244\t\n",
       "current loss = 1.6077047984542\t\n",
       "current loss = 1.6076754862027\t\n"
      ]
     },
     "execution_count": 12,
     "metadata": {},
     "output_type": "execute_result"
    },
    {
     "data": {
      "text/plain": [
       "current loss = 1.607646181467\t\n",
       "current loss = 1.6076168842439\t\n",
       "current loss = 1.6075875945306\t\n",
       "current loss = 1.607558312324\t\n",
       "current loss = 1.6075290376212\t\n",
       "current loss = 1.6074997704192\t\n",
       "current loss = 1.6074705107149\t\n"
      ]
     },
     "execution_count": 12,
     "metadata": {},
     "output_type": "execute_result"
    },
    {
     "data": {
      "text/plain": [
       "current loss = 1.6074412585055\t\n",
       "current loss = 1.607412013788\t\n",
       "current loss = 1.6073827765593\t\n",
       "current loss = 1.6073535468165\t\n",
       "current loss = 1.6073243245567\t\n",
       "current loss = 1.6072951097767\t\n",
       "current loss = 1.6072659024738\t\n",
       "current loss = 1.6072367026449\t\n"
      ]
     },
     "execution_count": 12,
     "metadata": {},
     "output_type": "execute_result"
    },
    {
     "data": {
      "text/plain": [
       "current loss = 1.6072075102871\t\n",
       "current loss = 1.6071783253973\t\n",
       "current loss = 1.6071491479727\t\n",
       "current loss = 1.6071199780102\t\n",
       "current loss = 1.6070908155069\t\n",
       "current loss = 1.6070616604599\t\n",
       "current loss = 1.6070325128661\t\n",
       "current loss = 1.6070033727227\t\n"
      ]
     },
     "execution_count": 12,
     "metadata": {},
     "output_type": "execute_result"
    },
    {
     "data": {
      "text/plain": [
       "current loss = 1.6069742400267\t\n",
       "current loss = 1.6069451147751\t\n",
       "current loss = 1.606915996965\t\n",
       "current loss = 1.6068868865934\t\n",
       "current loss = 1.6068577836574\t\n",
       "current loss = 1.606828688154\t\n",
       "current loss = 1.6067996000804\t\n"
      ]
     },
     "execution_count": 12,
     "metadata": {},
     "output_type": "execute_result"
    },
    {
     "data": {
      "text/plain": [
       "current loss = 1.6067705194335\t\n",
       "current loss = 1.6067414462104\t\n",
       "current loss = 1.6067123804081\t\n",
       "current loss = 1.6066833220238\t\n"
      ]
     },
     "execution_count": 12,
     "metadata": {},
     "output_type": "execute_result"
    },
    {
     "data": {
      "text/plain": [
       "current loss = 1.6066542710545\t\n",
       "current loss = 1.6066252274973\t\n",
       "current loss = 1.6065961913492\t\n",
       "current loss = 1.6065671626073\t\n"
      ]
     },
     "execution_count": 12,
     "metadata": {},
     "output_type": "execute_result"
    },
    {
     "data": {
      "text/plain": [
       "current loss = 1.6065381412687\t\n",
       "current loss = 1.6065091273304\t\n",
       "current loss = 1.6064801207895\t\n",
       "current loss = 1.6064511216431\t\n",
       "current loss = 1.6064221298883\t\n",
       "current loss = 1.6063931455222\t\n",
       "current loss = 1.6063641685418\t\n"
      ]
     },
     "execution_count": 12,
     "metadata": {},
     "output_type": "execute_result"
    },
    {
     "data": {
      "text/plain": [
       "current loss = 1.6063351989441\t\n",
       "current loss = 1.6063062367264\t\n",
       "current loss = 1.6062772818857\t\n",
       "current loss = 1.606248334419\t\n",
       "current loss = 1.6062193943234\t\n",
       "current loss = 1.6061904615961\t\n",
       "current loss = 1.6061615362342\t\n",
       "current loss = 1.6061326182346\t\n"
      ]
     },
     "execution_count": 12,
     "metadata": {},
     "output_type": "execute_result"
    },
    {
     "data": {
      "text/plain": [
       "current loss = 1.6061037075946\t\n",
       "current loss = 1.6060748043112\t\n",
       "current loss = 1.6060459083815\t\n",
       "current loss = 1.6060170198025\t\n",
       "current loss = 1.6059881385716\t\n",
       "current loss = 1.6059592646855\t\n"
      ]
     },
     "execution_count": 12,
     "metadata": {},
     "output_type": "execute_result"
    },
    {
     "data": {
      "text/plain": [
       "current loss = 1.6059303981417\t\n",
       "current loss = 1.605901538937\t\n",
       "current loss = 1.6058726870687\t\n",
       "current loss = 1.6058438425338\t\n"
      ]
     },
     "execution_count": 12,
     "metadata": {},
     "output_type": "execute_result"
    },
    {
     "data": {
      "text/plain": [
       "current loss = 1.6058150053294\t\n",
       "current loss = 1.6057861754527\t\n",
       "current loss = 1.6057573529007\t\n",
       "current loss = 1.6057285376707\t\n",
       "current loss = 1.6056997297596\t\n",
       "current loss = 1.6056709291646\t\n",
       "current loss = 1.6056421358829\t\n"
      ]
     },
     "execution_count": 12,
     "metadata": {},
     "output_type": "execute_result"
    },
    {
     "data": {
      "text/plain": [
       "current loss = 1.6056133499115\t\n",
       "current loss = 1.6055845712475\t\n",
       "current loss = 1.6055557998882\t\n",
       "current loss = 1.6055270358306\t\n",
       "current loss = 1.6054982790718\t\n",
       "current loss = 1.605469529609\t\n",
       "current loss = 1.6054407874393\t\n",
       "current loss = 1.6054120525599\t\n"
      ]
     },
     "execution_count": 12,
     "metadata": {},
     "output_type": "execute_result"
    },
    {
     "data": {
      "text/plain": [
       "current loss = 1.6053833249678\t\n",
       "current loss = 1.6053546046602\t\n",
       "current loss = 1.6053258916342\t\n",
       "current loss = 1.6052971858871\t\n",
       "current loss = 1.6052684874158\t\n",
       "current loss = 1.6052397962176\t\n",
       "current loss = 1.6052111122895\t\n",
       "current loss = 1.6051824356288\t\n"
      ]
     },
     "execution_count": 12,
     "metadata": {},
     "output_type": "execute_result"
    },
    {
     "data": {
      "text/plain": [
       "current loss = 1.6051537662326\t\n",
       "current loss = 1.605125104098\t\n",
       "current loss = 1.6050964492222\t\n",
       "current loss = 1.6050678016023\t\n",
       "current loss = 1.6050391612355\t\n",
       "current loss = 1.6050105281189\t\n",
       "current loss = 1.6049819022496\t\n",
       "current loss = 1.604953283625\t\n"
      ]
     },
     "execution_count": 12,
     "metadata": {},
     "output_type": "execute_result"
    },
    {
     "data": {
      "text/plain": [
       "current loss = 1.604924672242\t\n",
       "current loss = 1.6048960680978\t\n",
       "current loss = 1.6048674711897\t\n",
       "current loss = 1.6048388815147\t\n",
       "current loss = 1.6048102990701\t\n",
       "current loss = 1.604781723853\t\n",
       "current loss = 1.6047531558605\t\n",
       "current loss = 1.6047245950899\t\n"
      ]
     },
     "execution_count": 12,
     "metadata": {},
     "output_type": "execute_result"
    },
    {
     "data": {
      "text/plain": [
       "current loss = 1.6046960415382\t\n",
       "current loss = 1.6046674952028\t\n",
       "current loss = 1.6046389560806\t\n",
       "current loss = 1.604610424169\t\n",
       "current loss = 1.6045818994651\t\n",
       "current loss = 1.6045533819661\t\n",
       "current loss = 1.604524871669\t\n"
      ]
     },
     "execution_count": 12,
     "metadata": {},
     "output_type": "execute_result"
    },
    {
     "data": {
      "text/plain": [
       "current loss = 1.6044963685713\t\n",
       "current loss = 1.6044678726699\t\n",
       "current loss = 1.6044393839621\t\n",
       "current loss = 1.6044109024451\t\n"
      ]
     },
     "execution_count": 12,
     "metadata": {},
     "output_type": "execute_result"
    },
    {
     "data": {
      "text/plain": [
       "current loss = 1.604382428116\t\n",
       "current loss = 1.6043539609721\t\n",
       "current loss = 1.6043255010105\t\n",
       "current loss = 1.6042970482284\t\n",
       "current loss = 1.604268602623\t\n",
       "current loss = 1.6042401641916\t\n"
      ]
     },
     "execution_count": 12,
     "metadata": {},
     "output_type": "execute_result"
    },
    {
     "data": {
      "text/plain": [
       "current loss = 1.6042117329312\t\n",
       "current loss = 1.6041833088392\t\n",
       "current loss = 1.6041548919126\t\n",
       "current loss = 1.6041264821488\t\n",
       "current loss = 1.6040980795448\t\n",
       "current loss = 1.6040696840979\t\n",
       "current loss = 1.6040412958053\t\n"
      ]
     },
     "execution_count": 12,
     "metadata": {},
     "output_type": "execute_result"
    },
    {
     "data": {
      "text/plain": [
       "current loss = 1.6040129146642\t\n",
       "current loss = 1.6039845406718\t\n",
       "current loss = 1.6039561738253\t\n",
       "current loss = 1.603927814122\t\n",
       "current loss = 1.603899461559\t\n",
       "current loss = 1.6038711161335\t\n",
       "current loss = 1.6038427778428\t\n",
       "current loss = 1.6038144466841\t\n"
      ]
     },
     "execution_count": 12,
     "metadata": {},
     "output_type": "execute_result"
    },
    {
     "data": {
      "text/plain": [
       "current loss = 1.6037861226545\t\n",
       "current loss = 1.6037578057514\t\n",
       "current loss = 1.6037294959719\t\n",
       "current loss = 1.6037011933132\t\n",
       "current loss = 1.6036728977727\t\n",
       "current loss = 1.6036446093474\t\n",
       "current loss = 1.6036163280346\t\n",
       "current loss = 1.6035880538316\t\n"
      ]
     },
     "execution_count": 12,
     "metadata": {},
     "output_type": "execute_result"
    },
    {
     "data": {
      "text/plain": [
       "current loss = 1.6035597867356\t\n",
       "current loss = 1.6035315267437\t\n",
       "current loss = 1.6035032738534\t\n",
       "current loss = 1.6034750280616\t\n",
       "current loss = 1.6034467893658\t\n"
      ]
     },
     "execution_count": 12,
     "metadata": {},
     "output_type": "execute_result"
    },
    {
     "data": {
      "text/plain": [
       "current loss = 1.6034185577631\t\n",
       "current loss = 1.6033903332508\t\n",
       "current loss = 1.6033621158261\t\n",
       "current loss = 1.6033339054863\t\n"
      ]
     },
     "execution_count": 12,
     "metadata": {},
     "output_type": "execute_result"
    },
    {
     "data": {
      "text/plain": [
       "current loss = 1.6033057022286\t\n",
       "current loss = 1.6032775060502\t\n",
       "current loss = 1.6032493169483\t\n",
       "current loss = 1.6032211349204\t\n",
       "current loss = 1.6031929599635\t\n",
       "current loss = 1.6031647920749\t\n",
       "current loss = 1.6031366312519\t\n"
      ]
     },
     "execution_count": 12,
     "metadata": {},
     "output_type": "execute_result"
    },
    {
     "data": {
      "text/plain": [
       "current loss = 1.6031084774917\t\n",
       "current loss = 1.6030803307916\t\n",
       "current loss = 1.6030521911488\t\n",
       "current loss = 1.6030240585606\t\n",
       "current loss = 1.6029959330243\t\n",
       "current loss = 1.6029678145371\t\n",
       "current loss = 1.6029397030962\t\n",
       "current loss = 1.602911598699\t\n"
      ]
     },
     "execution_count": 12,
     "metadata": {},
     "output_type": "execute_result"
    },
    {
     "data": {
      "text/plain": [
       "current loss = 1.6028835013426\t\n",
       "current loss = 1.6028554110245\t\n",
       "current loss = 1.6028273277417\t\n",
       "current loss = 1.6027992514916\t\n",
       "current loss = 1.6027711822715\t\n",
       "current loss = 1.6027431200786\t\n",
       "current loss = 1.6027150649102\t\n",
       "current loss = 1.6026870167636\t\n"
      ]
     },
     "execution_count": 12,
     "metadata": {},
     "output_type": "execute_result"
    },
    {
     "data": {
      "text/plain": [
       "current loss = 1.6026589756361\t\n",
       "current loss = 1.6026309415248\t\n",
       "current loss = 1.6026029144272\t\n",
       "current loss = 1.6025748943404\t\n",
       "current loss = 1.6025468812619\t\n",
       "current loss = 1.6025188751887\t\n",
       "current loss = 1.6024908761183\t\n",
       "current loss = 1.6024628840479\t\n"
      ]
     },
     "execution_count": 12,
     "metadata": {},
     "output_type": "execute_result"
    },
    {
     "data": {
      "text/plain": [
       "current loss = 1.6024348989747\t\n",
       "current loss = 1.6024069208962\t\n",
       "current loss = 1.6023789498095\t\n",
       "current loss = 1.602350985712\t\n",
       "current loss = 1.602323028601\t\n",
       "current loss = 1.6022950784737\t\n",
       "current loss = 1.6022671353275\t\n"
      ]
     },
     "execution_count": 12,
     "metadata": {},
     "output_type": "execute_result"
    },
    {
     "data": {
      "text/plain": [
       "current loss = 1.6022391991596\t\n"
      ]
     },
     "execution_count": 12,
     "metadata": {},
     "output_type": "execute_result"
    },
    {
     "data": {
      "text/plain": [
       "current loss = 1.6022112699673\t\n",
       "current loss = 1.6021833477479\t\n",
       "current loss = 1.6021554324988\t\n"
      ]
     },
     "execution_count": 12,
     "metadata": {},
     "output_type": "execute_result"
    },
    {
     "data": {
      "text/plain": [
       "current loss = 1.6021275242173\t\n",
       "current loss = 1.6020996229006\t\n",
       "current loss = 1.602071728546\t\n",
       "current loss = 1.6020438411509\t\n",
       "current loss = 1.6020159607125\t\n",
       "current loss = 1.6019880872282\t\n",
       "current loss = 1.6019602206953\t\n"
      ]
     },
     "execution_count": 12,
     "metadata": {},
     "output_type": "execute_result"
    },
    {
     "data": {
      "text/plain": [
       "current loss = 1.601932361111\t\n",
       "current loss = 1.6019045084728\t\n",
       "current loss = 1.6018766627779\t\n",
       "current loss = 1.6018488240236\t\n",
       "current loss = 1.6018209922073\t\n",
       "current loss = 1.6017931673262\t\n",
       "current loss = 1.6017653493778\t\n",
       "current loss = 1.6017375383592\t\n"
      ]
     },
     "execution_count": 12,
     "metadata": {},
     "output_type": "execute_result"
    },
    {
     "data": {
      "text/plain": [
       "current loss = 1.6017097342679\t\n",
       "current loss = 1.6016819371011\t\n",
       "current loss = 1.6016541468562\t\n",
       "current loss = 1.6016263635305\t\n",
       "current loss = 1.6015985871214\t\n",
       "current loss = 1.6015708176261\t\n",
       "current loss = 1.601543055042\t\n",
       "current loss = 1.6015152993665\t\n"
      ]
     },
     "execution_count": 12,
     "metadata": {},
     "output_type": "execute_result"
    },
    {
     "data": {
      "text/plain": [
       "current loss = 1.6014875505968\t\n",
       "current loss = 1.6014598087304\t\n",
       "current loss = 1.6014320737644\t\n",
       "current loss = 1.6014043456964\t\n",
       "current loss = 1.6013766245235\t\n",
       "current loss = 1.6013489102432\t\n",
       "current loss = 1.6013212028529\t\n",
       "current loss = 1.6012935023497\t\n"
      ]
     },
     "execution_count": 12,
     "metadata": {},
     "output_type": "execute_result"
    },
    {
     "data": {
      "text/plain": [
       "current loss = 1.6012658087312\t\n",
       "current loss = 1.6012381219946\t\n",
       "current loss = 1.6012104421373\t\n",
       "current loss = 1.6011827691566\t\n",
       "current loss = 1.6011551030499\t\n"
      ]
     },
     "execution_count": 12,
     "metadata": {},
     "output_type": "execute_result"
    },
    {
     "data": {
      "text/plain": [
       "current loss = 1.6011274438145\t\n",
       "current loss = 1.6010997914478\t\n",
       "current loss = 1.6010721459471\t\n",
       "current loss = 1.6010445073099\t\n",
       "current loss = 1.6010168755334\t\n",
       "current loss = 1.6009892506151\t\n",
       "current loss = 1.6009616325522\t\n"
      ]
     },
     "execution_count": 12,
     "metadata": {},
     "output_type": "execute_result"
    },
    {
     "data": {
      "text/plain": [
       "current loss = 1.6009340213421\t\n",
       "current loss = 1.6009064169823\t\n",
       "current loss = 1.60087881947\t\n",
       "current loss = 1.6008512288027\t\n",
       "current loss = 1.6008236449776\t\n",
       "current loss = 1.6007960679922\t\n"
      ]
     },
     "execution_count": 12,
     "metadata": {},
     "output_type": "execute_result"
    },
    {
     "data": {
      "text/plain": [
       "current loss = 1.6007684978439\t\n",
       "current loss = 1.60074093453\t\n",
       "current loss = 1.6007133780479\t\n",
       "current loss = 1.6006858283949\t\n",
       "current loss = 1.6006582855684\t\n",
       "current loss = 1.6006307495659\t\n",
       "current loss = 1.6006032203846\t\n",
       "current loss = 1.600575698022\t\n"
      ]
     },
     "execution_count": 12,
     "metadata": {},
     "output_type": "execute_result"
    },
    {
     "data": {
      "text/plain": [
       "current loss = 1.6005481824755\t\n",
       "current loss = 1.6005206737424\t\n",
       "current loss = 1.6004931718201\t\n",
       "current loss = 1.600465676706\t\n",
       "current loss = 1.6004381883975\t\n",
       "current loss = 1.600410706892\t\n",
       "current loss = 1.6003832321868\t\n",
       "current loss = 1.6003557642794\t\n"
      ]
     },
     "execution_count": 12,
     "metadata": {},
     "output_type": "execute_result"
    },
    {
     "data": {
      "text/plain": [
       "current loss = 1.6003283031672\t\n",
       "current loss = 1.6003008488474\t\n",
       "current loss = 1.6002734013176\t\n",
       "current loss = 1.6002459605752\t\n",
       "current loss = 1.6002185266175\t\n",
       "current loss = 1.6001910994418\t\n",
       "current loss = 1.6001636790458\t\n",
       "current loss = 1.6001362654266\t"
      ]
     },
     "execution_count": 12,
     "metadata": {},
     "output_type": "execute_result"
    },
    {
     "data": {
      "text/plain": [
       "\n",
       "current loss = 1.6001088585818\t\n",
       "current loss = 1.6000814585087\t\n",
       "current loss = 1.6000540652047\t\n",
       "current loss = 1.6000266786673\t\n",
       "current loss = 1.5999992988939\t\n"
      ]
     },
     "execution_count": 12,
     "metadata": {},
     "output_type": "execute_result"
    },
    {
     "data": {
      "text/plain": [
       "current loss = 1.5999719258818\t\n",
       "current loss = 1.5999445596284\t\n",
       "current loss = 1.5999172001313\t\n",
       "current loss = 1.5998898473878\t\n"
      ]
     },
     "execution_count": 12,
     "metadata": {},
     "output_type": "execute_result"
    },
    {
     "data": {
      "text/plain": [
       "current loss = 1.5998625013953\t\n",
       "current loss = 1.5998351621512\t\n",
       "current loss = 1.5998078296529\t\n"
      ]
     },
     "execution_count": 12,
     "metadata": {},
     "output_type": "execute_result"
    },
    {
     "data": {
      "text/plain": [
       "current loss = 1.599780503898\t\n",
       "current loss = 1.5997531848837\t\n",
       "current loss = 1.5997258726075\t\n",
       "current loss = 1.5996985670669\t\n"
      ]
     },
     "execution_count": 12,
     "metadata": {},
     "output_type": "execute_result"
    },
    {
     "data": {
      "text/plain": [
       "current loss = 1.5996712682592\t\n",
       "current loss = 1.5996439761819\t\n",
       "current loss = 1.5996166908324\t\n",
       "current loss = 1.5995894122081\t\n",
       "current loss = 1.5995621403065\t\n",
       "current loss = 1.599534875125\t\n"
      ]
     },
     "execution_count": 12,
     "metadata": {},
     "output_type": "execute_result"
    },
    {
     "data": {
      "text/plain": [
       "current loss = 1.5995076166611\t\n",
       "current loss = 1.5994803649121\t\n",
       "current loss = 1.5994531198755\t\n",
       "current loss = 1.5994258815487\t\n",
       "current loss = 1.5993986499292\t\n",
       "current loss = 1.5993714250144\t\n",
       "current loss = 1.5993442068018\t\n"
      ]
     },
     "execution_count": 12,
     "metadata": {},
     "output_type": "execute_result"
    },
    {
     "data": {
      "text/plain": [
       "current loss = 1.5993169952887\t\n",
       "current loss = 1.5992897904727\t\n",
       "current loss = 1.5992625923512\t\n",
       "current loss = 1.5992354009215\t\n"
      ]
     },
     "execution_count": 12,
     "metadata": {},
     "output_type": "execute_result"
    },
    {
     "data": {
      "text/plain": [
       "current loss = 1.5992082161813\t\n",
       "current loss = 1.5991810381279\t\n",
       "current loss = 1.5991538667587\t\n"
      ]
     },
     "execution_count": 12,
     "metadata": {},
     "output_type": "execute_result"
    },
    {
     "data": {
      "text/plain": [
       "current loss = 1.5991267020713\t\n",
       "current loss = 1.599099544063\t\n",
       "current loss = 1.5990723927314\t\n",
       "current loss = 1.5990452480738\t\n",
       "current loss = 1.5990181100878\t\n",
       "current loss = 1.5989909787708\t\n"
      ]
     },
     "execution_count": 12,
     "metadata": {},
     "output_type": "execute_result"
    },
    {
     "data": {
      "text/plain": [
       "current loss = 1.5989638541202\t\n",
       "current loss = 1.5989367361336\t\n",
       "current loss = 1.5989096248083\t\n",
       "current loss = 1.5988825201418\t\n",
       "current loss = 1.5988554221317\t\n",
       "current loss = 1.5988283307753\t\n",
       "current loss = 1.5988012460701\t\n"
      ]
     },
     "execution_count": 12,
     "metadata": {},
     "output_type": "execute_result"
    },
    {
     "data": {
      "text/plain": [
       "current loss = 1.5987741680137\t\n",
       "current loss = 1.5987470966033\t\n",
       "current loss = 1.5987200318367\t\n",
       "current loss = 1.5986929737112\t\n",
       "current loss = 1.5986659222242\t\n",
       "current loss = 1.5986388773733\t\n",
       "current loss = 1.5986118391559\t\n"
      ]
     },
     "execution_count": 12,
     "metadata": {},
     "output_type": "execute_result"
    },
    {
     "data": {
      "text/plain": [
       "current loss = 1.5985848075696\t\n",
       "current loss = 1.5985577826117\t\n",
       "current loss = 1.5985307642798\t\n",
       "current loss = 1.5985037525713\t\n",
       "current loss = 1.5984767474838\t\n",
       "current loss = 1.5984497490147\t\n"
      ]
     },
     "execution_count": 12,
     "metadata": {},
     "output_type": "execute_result"
    },
    {
     "data": {
      "text/plain": [
       "current loss = 1.5984227571615\t\n",
       "current loss = 1.5983957719217\t\n",
       "current loss = 1.5983687932928\t\n",
       "current loss = 1.5983418212722\t\n",
       "current loss = 1.5983148558574\t\n",
       "current loss = 1.598287897046\t\n"
      ]
     },
     "execution_count": 12,
     "metadata": {},
     "output_type": "execute_result"
    },
    {
     "data": {
      "text/plain": [
       "current loss = 1.5982609448355\t\n",
       "current loss = 1.5982339992233\t\n",
       "current loss = 1.5982070602069\t\n",
       "current loss = 1.5981801277838\t\n",
       "current loss = 1.5981532019515\t\n"
      ]
     },
     "execution_count": 12,
     "metadata": {},
     "output_type": "execute_result"
    },
    {
     "data": {
      "text/plain": [
       "current loss = 1.5981262827076\t\n",
       "current loss = 1.5980993700494\t\n",
       "current loss = 1.5980724639746\t\n",
       "current loss = 1.5980455644807\t\n",
       "current loss = 1.598018671565\t\n",
       "current loss = 1.5979917852252\t\n",
       "current loss = 1.5979649054587\t\n"
      ]
     },
     "execution_count": 12,
     "metadata": {},
     "output_type": "execute_result"
    },
    {
     "data": {
      "text/plain": [
       "current loss = 1.597938032263\t\n",
       "current loss = 1.5979111656357\t\n",
       "current loss = 1.5978843055743\t\n",
       "current loss = 1.5978574520763\t\n"
      ]
     },
     "execution_count": 12,
     "metadata": {},
     "output_type": "execute_result"
    },
    {
     "data": {
      "text/plain": [
       "current loss = 1.5978306051391\t\n",
       "current loss = 1.5978037647604\t\n",
       "current loss = 1.5977769309376\t\n",
       "current loss = 1.5977501036682\t\n",
       "current loss = 1.5977232829498\t\n",
       "current loss = 1.5976964687798\t\n",
       "current loss = 1.5976696611559\t\n"
      ]
     },
     "execution_count": 12,
     "metadata": {},
     "output_type": "execute_result"
    },
    {
     "data": {
      "text/plain": [
       "current loss = 1.5976428600754\t\n",
       "current loss = 1.597616065536\t\n",
       "current loss = 1.5975892775352\t\n",
       "current loss = 1.5975624960705\t\n",
       "current loss = 1.5975357211393\t\n",
       "current loss = 1.5975089527394\t\n"
      ]
     },
     "execution_count": 12,
     "metadata": {},
     "output_type": "execute_result"
    },
    {
     "data": {
      "text/plain": [
       "current loss = 1.5974821908681\t\n",
       "current loss = 1.597455435523\t\n",
       "current loss = 1.5974286867016\t\n",
       "current loss = 1.5974019444016\t\n",
       "current loss = 1.5973752086203\t\n",
       "current loss = 1.5973484793554\t\n"
      ]
     },
     "execution_count": 12,
     "metadata": {},
     "output_type": "execute_result"
    },
    {
     "data": {
      "text/plain": [
       "current loss = 1.5973217566044\t\n",
       "current loss = 1.5972950403648\t\n",
       "current loss = 1.5972683306341\t\n"
      ]
     },
     "execution_count": 12,
     "metadata": {},
     "output_type": "execute_result"
    },
    {
     "data": {
      "text/plain": [
       "current loss = 1.59724162741\t\n",
       "current loss = 1.5972149306899\t\n",
       "current loss = 1.5971882404714\t\n",
       "current loss = 1.597161556752\t\n",
       "current loss = 1.5971348795293\t\n",
       "current loss = 1.5971082088008\t\n"
      ]
     },
     "execution_count": 12,
     "metadata": {},
     "output_type": "execute_result"
    },
    {
     "data": {
      "text/plain": [
       "current loss = 1.5970815445641\t\n",
       "current loss = 1.5970548868167\t\n",
       "current loss = 1.5970282355562\t\n",
       "current loss = 1.5970015907801\t\n",
       "current loss = 1.596974952486\t\n",
       "current loss = 1.5969483206714\t\n"
      ]
     },
     "execution_count": 12,
     "metadata": {},
     "output_type": "execute_result"
    },
    {
     "data": {
      "text/plain": [
       "current loss = 1.5969216953339\t\n",
       "current loss = 1.5968950764711\t\n",
       "current loss = 1.5968684640805\t\n",
       "current loss = 1.5968418581597\t\n",
       "current loss = 1.5968152587061\t\n",
       "current loss = 1.5967886657175\t\n",
       "current loss = 1.5967620791914\t\n"
      ]
     },
     "execution_count": 12,
     "metadata": {},
     "output_type": "execute_result"
    },
    {
     "data": {
      "text/plain": [
       "current loss = 1.5967354991252\t\n",
       "current loss = 1.5967089255166\t\n",
       "current loss = 1.5966823583632\t\n",
       "current loss = 1.5966557976625\t\n",
       "current loss = 1.5966292434121\t\n",
       "current loss = 1.5966026956096\t\n"
      ]
     },
     "execution_count": 12,
     "metadata": {},
     "output_type": "execute_result"
    },
    {
     "data": {
      "text/plain": [
       "current loss = 1.5965761542525\t\n",
       "current loss = 1.5965496193384\t\n",
       "current loss = 1.5965230908649\t\n",
       "current loss = 1.5964965688295\t\n",
       "current loss = 1.5964700532299\t\n",
       "current loss = 1.5964435440636\t\n"
      ]
     },
     "execution_count": 12,
     "metadata": {},
     "output_type": "execute_result"
    },
    {
     "data": {
      "text/plain": [
       "current loss = 1.5964170413282\t\n",
       "current loss = 1.5963905450213\t\n",
       "current loss = 1.5963640551404\t\n",
       "current loss = 1.5963375716832\t\n",
       "current loss = 1.5963110946472\t\n"
      ]
     },
     "execution_count": 12,
     "metadata": {},
     "output_type": "execute_result"
    },
    {
     "data": {
      "text/plain": [
       "current loss = 1.59628462403\t\n",
       "current loss = 1.5962581598292\t\n",
       "current loss = 1.5962317020424\t\n"
      ]
     },
     "execution_count": 12,
     "metadata": {},
     "output_type": "execute_result"
    },
    {
     "data": {
      "text/plain": [
       "current loss = 1.5962052506672\t\n",
       "current loss = 1.5961788057011\t\n",
       "current loss = 1.5961523671418\t\n",
       "current loss = 1.5961259349869\t\n",
       "current loss = 1.5960995092339\t\n",
       "current loss = 1.5960730898804\t\n",
       "current loss = 1.5960466769241\t\n"
      ]
     },
     "execution_count": 12,
     "metadata": {},
     "output_type": "execute_result"
    },
    {
     "data": {
      "text/plain": [
       "current loss = 1.5960202703625\t\n",
       "current loss = 1.5959938701933\t\n",
       "current loss = 1.595967476414\t\n",
       "current loss = 1.5959410890222\t\n",
       "current loss = 1.5959147080156\t\n",
       "current loss = 1.5958883333918\t\n"
      ]
     },
     "execution_count": 12,
     "metadata": {},
     "output_type": "execute_result"
    },
    {
     "data": {
      "text/plain": [
       "current loss = 1.5958619651482\t\n",
       "current loss = 1.5958356032827\t\n",
       "current loss = 1.5958092477927\t\n",
       "current loss = 1.5957828986759\t\n",
       "current loss = 1.5957565559299\t\n",
       "current loss = 1.5957302195523\t\n",
       "current loss = 1.5957038895406\t\n"
      ]
     },
     "execution_count": 12,
     "metadata": {},
     "output_type": "execute_result"
    },
    {
     "data": {
      "text/plain": [
       "current loss = 1.5956775658927\t\n",
       "current loss = 1.5956512486059\t\n",
       "current loss = 1.595624937678\t\n",
       "current loss = 1.5955986331066\t\n"
      ]
     },
     "execution_count": 12,
     "metadata": {},
     "output_type": "execute_result"
    },
    {
     "data": {
      "text/plain": [
       "current loss = 1.5955723348893\t\n",
       "current loss = 1.5955460430237\t\n",
       "current loss = 1.5955197575075\t\n"
      ]
     },
     "execution_count": 12,
     "metadata": {},
     "output_type": "execute_result"
    },
    {
     "data": {
      "text/plain": [
       "current loss = 1.5954934783381\t\n",
       "current loss = 1.5954672055134\t\n",
       "current loss = 1.5954409390309\t\n",
       "current loss = 1.5954146788882\t\n",
       "current loss = 1.595388425083\t\n",
       "current loss = 1.5953621776129\t\n"
      ]
     },
     "execution_count": 12,
     "metadata": {},
     "output_type": "execute_result"
    },
    {
     "data": {
      "text/plain": [
       "current loss = 1.5953359364754\t\n",
       "current loss = 1.5953097016684\t\n",
       "current loss = 1.5952834731893\t\n",
       "current loss = 1.5952572510358\t\n",
       "current loss = 1.5952310352056\t\n",
       "current loss = 1.5952048256963\t\n"
      ]
     },
     "execution_count": 12,
     "metadata": {},
     "output_type": "execute_result"
    },
    {
     "data": {
      "text/plain": [
       "current loss = 1.5951786225055\t\n",
       "current loss = 1.5951524256308\t\n",
       "current loss = 1.5951262350699\t\n",
       "current loss = 1.5951000508205\t\n",
       "current loss = 1.5950738728802\t\n",
       "current loss = 1.5950477012466\t\n"
      ]
     },
     "execution_count": 12,
     "metadata": {},
     "output_type": "execute_result"
    },
    {
     "data": {
      "text/plain": [
       "current loss = 1.5950215359174\t\n",
       "current loss = 1.5949953768901\t\n",
       "current loss = 1.5949692241626\t\n",
       "current loss = 1.5949430777323\t\n",
       "current loss = 1.594916937597\t\n",
       "current loss = 1.5948908037543\t"
      ]
     },
     "execution_count": 12,
     "metadata": {},
     "output_type": "execute_result"
    },
    {
     "data": {
      "text/plain": [
       "\n",
       "current loss = 1.5948646762019\t\n",
       "current loss = 1.5948385549374\t\n",
       "current loss = 1.5948124399584\t\n",
       "current loss = 1.5947863312627\t\n"
      ]
     },
     "execution_count": 12,
     "metadata": {},
     "output_type": "execute_result"
    },
    {
     "data": {
      "text/plain": [
       "current loss = 1.5947602288479\t\n",
       "current loss = 1.5947341327115\t\n",
       "current loss = 1.5947080428514\t\n",
       "current loss = 1.5946819592651\t\n",
       "current loss = 1.5946558819504\t\n",
       "current loss = 1.5946298109048\t\n"
      ]
     },
     "execution_count": 12,
     "metadata": {},
     "output_type": "execute_result"
    },
    {
     "data": {
      "text/plain": [
       "current loss = 1.594603746126\t\n",
       "current loss = 1.5945776876118\t\n",
       "current loss = 1.5945516353597\t\n",
       "current loss = 1.5945255893674\t\n",
       "current loss = 1.5944995496327\t\n",
       "current loss = 1.5944735161531\t\n",
       "current loss = 1.5944474889263\t\n"
      ]
     },
     "execution_count": 12,
     "metadata": {},
     "output_type": "execute_result"
    },
    {
     "data": {
      "text/plain": [
       "current loss = 1.5944214679501\t\n",
       "current loss = 1.5943954532221\t\n",
       "current loss = 1.5943694447399\t\n",
       "current loss = 1.5943434425012\t\n",
       "current loss = 1.5943174465038\t\n",
       "current loss = 1.5942914567453\t\n"
      ]
     },
     "execution_count": 12,
     "metadata": {},
     "output_type": "execute_result"
    },
    {
     "data": {
      "text/plain": [
       "current loss = 1.5942654732233\t\n",
       "current loss = 1.5942394959355\t\n",
       "current loss = 1.5942135248797\t\n",
       "current loss = 1.5941875600535\t\n",
       "current loss = 1.5941616014546\t\n",
       "current loss = 1.5941356490806\t\n"
      ]
     },
     "execution_count": 12,
     "metadata": {},
     "output_type": "execute_result"
    },
    {
     "data": {
      "text/plain": [
       "current loss = 1.5941097029293\t\n",
       "current loss = 1.5940837629984\t\n",
       "current loss = 1.5940578292855\t\n",
       "current loss = 1.5940319017883\t\n",
       "current loss = 1.5940059805046\t\n",
       "current loss = 1.5939800654319\t\n",
       "current loss = 1.5939541565681\t\n"
      ]
     },
     "execution_count": 12,
     "metadata": {},
     "output_type": "execute_result"
    },
    {
     "data": {
      "text/plain": [
       "current loss = 1.5939282539107\t\n",
       "current loss = 1.5939023574575\t\n",
       "current loss = 1.5938764672062\t\n",
       "current loss = 1.5938505831545\t\n",
       "current loss = 1.5938247053001\t\n"
      ]
     },
     "execution_count": 12,
     "metadata": {},
     "output_type": "execute_result"
    },
    {
     "data": {
      "text/plain": [
       "current loss = 1.5937988336406\t\n",
       "current loss = 1.5937729681738\t\n",
       "current loss = 1.5937471088974\t\n",
       "current loss = 1.5937212558091\t\n"
      ]
     },
     "execution_count": 12,
     "metadata": {},
     "output_type": "execute_result"
    },
    {
     "data": {
      "text/plain": [
       "current loss = 1.5936954089066\t\n",
       "current loss = 1.5936695681875\t\n",
       "current loss = 1.5936437336497\t\n",
       "current loss = 1.5936179052908\t\n",
       "current loss = 1.5935920831084\t\n",
       "current loss = 1.5935662671004\t\n"
      ]
     },
     "execution_count": 12,
     "metadata": {},
     "output_type": "execute_result"
    },
    {
     "data": {
      "text/plain": [
       "current loss = 1.5935404572645\t\n",
       "current loss = 1.5935146535983\t\n",
       "current loss = 1.5934888560995\t\n",
       "current loss = 1.5934630647659\t\n",
       "current loss = 1.5934372795952\t\n"
      ]
     },
     "execution_count": 12,
     "metadata": {},
     "output_type": "execute_result"
    },
    {
     "data": {
      "text/plain": [
       "current loss = 1.5934115005852\t\n",
       "current loss = 1.5933857277334\t\n",
       "current loss = 1.5933599610377\t\n",
       "current loss = 1.5933342004958\t\n",
       "current loss = 1.5933084461053\t\n",
       "current loss = 1.5932826978641\t\n",
       "current loss = 1.5932569557697\t\n"
      ]
     },
     "execution_count": 12,
     "metadata": {},
     "output_type": "execute_result"
    },
    {
     "data": {
      "text/plain": [
       "current loss = 1.5932312198201\t\n",
       "current loss = 1.5932054900128\t\n",
       "current loss = 1.5931797663457\t\n",
       "current loss = 1.5931540488163\t\n",
       "current loss = 1.5931283374226\t\n"
      ]
     },
     "execution_count": 12,
     "metadata": {},
     "output_type": "execute_result"
    },
    {
     "data": {
      "text/plain": [
       "current loss = 1.5931026321621\t\n",
       "current loss = 1.5930769330327\t\n",
       "current loss = 1.593051240032\t\n",
       "current loss = 1.5930255531579\t\n"
      ]
     },
     "execution_count": 12,
     "metadata": {},
     "output_type": "execute_result"
    },
    {
     "data": {
      "text/plain": [
       "current loss = 1.5929998724079\t\n"
      ]
     },
     "execution_count": 12,
     "metadata": {},
     "output_type": "execute_result"
    },
    {
     "data": {
      "text/plain": [
       "current loss = 1.59297419778\t\n",
       "current loss = 1.5929485292717\t\n"
      ]
     },
     "execution_count": 12,
     "metadata": {},
     "output_type": "execute_result"
    },
    {
     "data": {
      "text/plain": [
       "current loss = 1.5929228668809\t\n"
      ]
     },
     "execution_count": 12,
     "metadata": {},
     "output_type": "execute_result"
    },
    {
     "data": {
      "text/plain": [
       "current loss = 1.5928972106052\t\n"
      ]
     },
     "execution_count": 12,
     "metadata": {},
     "output_type": "execute_result"
    },
    {
     "data": {
      "text/plain": [
       "current loss = 1.5928715604425\t\n"
      ]
     },
     "execution_count": 12,
     "metadata": {},
     "output_type": "execute_result"
    },
    {
     "data": {
      "text/plain": [
       "current loss = 1.5928459163905\t\n"
      ]
     },
     "execution_count": 12,
     "metadata": {},
     "output_type": "execute_result"
    },
    {
     "data": {
      "text/plain": [
       "current loss = 1.5928202784468\t\n"
      ]
     },
     "execution_count": 12,
     "metadata": {},
     "output_type": "execute_result"
    },
    {
     "data": {
      "text/plain": [
       "current loss = 1.5927946466093\t\n"
      ]
     },
     "execution_count": 12,
     "metadata": {},
     "output_type": "execute_result"
    },
    {
     "data": {
      "text/plain": [
       "current loss = 1.5927690208758\t\n",
       "current loss = 1.5927434012438\t\n",
       "current loss = 1.5927177877113\t\n"
      ]
     },
     "execution_count": 12,
     "metadata": {},
     "output_type": "execute_result"
    },
    {
     "data": {
      "text/plain": [
       "current loss = 1.5926921802758\t\n",
       "current loss = 1.5926665789353\t\n",
       "current loss = 1.5926409836875\t\n"
      ]
     },
     "execution_count": 12,
     "metadata": {},
     "output_type": "execute_result"
    },
    {
     "data": {
      "text/plain": [
       "current loss = 1.59261539453\t\n"
      ]
     },
     "execution_count": 12,
     "metadata": {},
     "output_type": "execute_result"
    },
    {
     "data": {
      "text/plain": [
       "current loss = 1.5925898114606\t\n",
       "current loss = 1.5925642344772\t\n",
       "current loss = 1.5925386635774\t\n",
       "current loss = 1.592513098759\t\n"
      ]
     },
     "execution_count": 12,
     "metadata": {},
     "output_type": "execute_result"
    },
    {
     "data": {
      "text/plain": [
       "current loss = 1.5924875400198\t\n",
       "current loss = 1.5924619873576\t\n",
       "current loss = 1.59243644077\t\n",
       "current loss = 1.5924109002549\t\n",
       "current loss = 1.5923853658099\t\n",
       "current loss = 1.592359837433\t\n",
       "current loss = 1.5923343151218\t\n",
       "current loss = 1.5923087988741\t\n"
      ]
     },
     "execution_count": 12,
     "metadata": {},
     "output_type": "execute_result"
    },
    {
     "data": {
      "text/plain": [
       "current loss = 1.5922832886877\t\n",
       "current loss = 1.5922577845603\t\n",
       "current loss = 1.5922322864897\t\n",
       "current loss = 1.5922067944737\t\n",
       "current loss = 1.59218130851\t\n",
       "current loss = 1.5921558285965\t\n",
       "current loss = 1.5921303547309\t\n",
       "current loss = 1.5921048869109\t\n"
      ]
     },
     "execution_count": 12,
     "metadata": {},
     "output_type": "execute_result"
    },
    {
     "data": {
      "text/plain": [
       "current loss = 1.5920794251344\t\n",
       "current loss = 1.5920539693991\t\n",
       "current loss = 1.5920285197028\t\n",
       "current loss = 1.5920030760433\t\n",
       "current loss = 1.5919776384183\t\n",
       "current loss = 1.5919522068257\t\n"
      ]
     },
     "execution_count": 12,
     "metadata": {},
     "output_type": "execute_result"
    },
    {
     "data": {
      "text/plain": [
       "current loss = 1.5919267812632\t\n",
       "current loss = 1.5919013617286\t\n",
       "current loss = 1.5918759482196\t\n",
       "current loss = 1.5918505407342\t\n"
      ]
     },
     "execution_count": 12,
     "metadata": {},
     "output_type": "execute_result"
    },
    {
     "data": {
      "text/plain": [
       "current loss = 1.59182513927\t\n",
       "current loss = 1.5917997438249\t\n",
       "current loss = 1.5917743543966\t\n",
       "current loss = 1.5917489709829\t\n",
       "current loss = 1.5917235935817\t\n"
      ]
     },
     "execution_count": 12,
     "metadata": {},
     "output_type": "execute_result"
    },
    {
     "data": {
      "text/plain": [
       "current loss = 1.5916982221907\t\n",
       "current loss = 1.5916728568076\t\n",
       "current loss = 1.5916474974304\t\n",
       "current loss = 1.5916221440567\t\n",
       "current loss = 1.5915967966845\t\n",
       "current loss = 1.5915714553114\t\n",
       "current loss = 1.5915461199353\t\n",
       "current loss = 1.5915207905541\t\n"
      ]
     },
     "execution_count": 12,
     "metadata": {},
     "output_type": "execute_result"
    },
    {
     "data": {
      "text/plain": [
       "current loss = 1.5914954671653\t\n",
       "current loss = 1.591470149767\t\n",
       "current loss = 1.5914448383569\t\n",
       "current loss = 1.5914195329328\t\n",
       "current loss = 1.5913942334924\t\n",
       "current loss = 1.5913689400337\t\n"
      ]
     },
     "execution_count": 12,
     "metadata": {},
     "output_type": "execute_result"
    },
    {
     "data": {
      "text/plain": [
       "current loss = 1.5913436525544\t\n",
       "current loss = 1.5913183710523\t\n",
       "current loss = 1.5912930955253\t\n",
       "current loss = 1.5912678259711\t\n",
       "current loss = 1.5912425623875\t\n"
      ]
     },
     "execution_count": 12,
     "metadata": {},
     "output_type": "execute_result"
    },
    {
     "data": {
      "text/plain": [
       "current loss = 1.5912173047724\t\n",
       "current loss = 1.5911920531236\t\n",
       "current loss = 1.5911668074389\t\n",
       "current loss = 1.5911415677161\t\n",
       "current loss = 1.5911163339531\t\n",
       "current loss = 1.5910911061476\t\n",
       "current loss = 1.5910658842974\t\n",
       "current loss = 1.5910406684005\t\n"
      ]
     },
     "execution_count": 12,
     "metadata": {},
     "output_type": "execute_result"
    },
    {
     "data": {
      "text/plain": [
       "current loss = 1.5910154584545\t\n",
       "current loss = 1.5909902544574\t\n",
       "current loss = 1.590965056407\t\n",
       "current loss = 1.590939864301\t\n",
       "current loss = 1.5909146781374\t\n",
       "current loss = 1.5908894979138\t\n",
       "current loss = 1.5908643236283\t\n",
       "current loss = 1.5908391552785\t\n"
      ]
     },
     "execution_count": 12,
     "metadata": {},
     "output_type": "execute_result"
    },
    {
     "data": {
      "text/plain": [
       "current loss = 1.5908139928624\t\n",
       "current loss = 1.5907888363777\t\n",
       "current loss = 1.5907636858223\t\n",
       "current loss = 1.590738541194\t\n",
       "current loss = 1.5907134024907\t\n",
       "current loss = 1.5906882697101\t"
      ]
     },
     "execution_count": 12,
     "metadata": {},
     "output_type": "execute_result"
    },
    {
     "data": {
      "text/plain": [
       "\n",
       "current loss = 1.5906631428502\t\n",
       "current loss = 1.5906380219087\t\n",
       "current loss = 1.5906129068836\t\n",
       "current loss = 1.5905877977726\t\n",
       "current loss = 1.5905626945736\t\n",
       "current loss = 1.5905375972844\t\n",
       "current loss = 1.5905125059028\t\n"
      ]
     },
     "execution_count": 12,
     "metadata": {},
     "output_type": "execute_result"
    },
    {
     "data": {
      "text/plain": [
       "current loss = 1.5904874204268\t\n",
       "current loss = 1.5904623408542\t\n",
       "current loss = 1.5904372671827\t\n",
       "current loss = 1.5904121994103\t\n",
       "current loss = 1.5903871375348\t\n",
       "current loss = 1.5903620815541\t\n",
       "current loss = 1.5903370314659\t\n",
       "current loss = 1.5903119872682\t\n"
      ]
     },
     "execution_count": 12,
     "metadata": {},
     "output_type": "execute_result"
    },
    {
     "data": {
      "text/plain": [
       "current loss = 1.5902869489588\t\n",
       "current loss = 1.5902619165356\t\n",
       "current loss = 1.5902368899964\t\n",
       "current loss = 1.590211869339\t\n",
       "current loss = 1.5901868545614\t\n",
       "current loss = 1.5901618456614\t\n",
       "current loss = 1.5901368426368\t\n",
       "current loss = 1.5901118454855\t\n"
      ]
     },
     "execution_count": 12,
     "metadata": {},
     "output_type": "execute_result"
    },
    {
     "data": {
      "text/plain": [
       "current loss = 1.5900868542053\t\n",
       "current loss = 1.5900618687942\t\n",
       "current loss = 1.59003688925\t\n",
       "current loss = 1.5900119155706\t\n",
       "current loss = 1.5899869477537\t\n",
       "current loss = 1.5899619857974\t\n",
       "current loss = 1.5899370296994\t\n"
      ]
     },
     "execution_count": 12,
     "metadata": {},
     "output_type": "execute_result"
    },
    {
     "data": {
      "text/plain": [
       "current loss = 1.5899120794576\t\n",
       "current loss = 1.5898871350699\t\n",
       "current loss = 1.5898621965342\t\n",
       "current loss = 1.5898372638483\t\n",
       "current loss = 1.5898123370101\t\n",
       "current loss = 1.5897874160175\t\n",
       "current loss = 1.5897625008684\t\n",
       "current loss = 1.5897375915606\t\n"
      ]
     },
     "execution_count": 12,
     "metadata": {},
     "output_type": "execute_result"
    },
    {
     "data": {
      "text/plain": [
       "current loss = 1.5897126880919\t\n",
       "current loss = 1.5896877904604\t\n",
       "current loss = 1.5896628986639\t\n",
       "current loss = 1.5896380127002\t\n",
       "current loss = 1.5896131325672\t\n",
       "current loss = 1.5895882582628\t\n"
      ]
     },
     "execution_count": 12,
     "metadata": {},
     "output_type": "execute_result"
    },
    {
     "data": {
      "text/plain": [
       "current loss = 1.5895633897849\t\n",
       "current loss = 1.5895385271315\t\n",
       "current loss = 1.5895136703002\t\n",
       "current loss = 1.5894888192891\t\n",
       "current loss = 1.5894639740961\t\n",
       "current loss = 1.5894391347189\t\n",
       "current loss = 1.5894143011556\t\n"
      ]
     },
     "execution_count": 12,
     "metadata": {},
     "output_type": "execute_result"
    },
    {
     "data": {
      "text/plain": [
       "current loss = 1.589389473404\t\n",
       "current loss = 1.589364651462\t\n",
       "current loss = 1.5893398353275\t\n",
       "current loss = 1.5893150249983\t\n",
       "current loss = 1.5892902204725\t\n",
       "current loss = 1.5892654217478\t\n"
      ]
     },
     "execution_count": 12,
     "metadata": {},
     "output_type": "execute_result"
    },
    {
     "data": {
      "text/plain": [
       "current loss = 1.5892406288222\t\n",
       "current loss = 1.5892158416935\t\n",
       "current loss = 1.5891910603597\t\n",
       "current loss = 1.5891662848187\t\n",
       "current loss = 1.5891415150683\t\n",
       "current loss = 1.5891167511065\t\n"
      ]
     },
     "execution_count": 12,
     "metadata": {},
     "output_type": "execute_result"
    },
    {
     "data": {
      "text/plain": [
       "current loss = 1.5890919929312\t\n",
       "current loss = 1.5890672405403\t\n",
       "current loss = 1.5890424939316\t\n",
       "current loss = 1.5890177531031\t\n",
       "current loss = 1.5889930180528\t\n",
       "current loss = 1.5889682887784\t\n",
       "current loss = 1.5889435652779\t\n",
       "current loss = 1.5889188475493\t\n"
      ]
     },
     "execution_count": 12,
     "metadata": {},
     "output_type": "execute_result"
    },
    {
     "data": {
      "text/plain": [
       "current loss = 1.5888941355904\t\n",
       "current loss = 1.5888694293991\t\n",
       "current loss = 1.5888447289734\t\n",
       "current loss = 1.5888200343111\t\n",
       "current loss = 1.5887953454103\t\n",
       "current loss = 1.5887706622688\t\n",
       "current loss = 1.5887459848844\t\n",
       "current loss = 1.5887213132552\t\n"
      ]
     },
     "execution_count": 12,
     "metadata": {},
     "output_type": "execute_result"
    },
    {
     "data": {
      "text/plain": [
       "current loss = 1.5886966473791\t\n",
       "current loss = 1.588671987254\t\n",
       "current loss = 1.5886473328777\t\n",
       "current loss = 1.5886226842483\t\n",
       "current loss = 1.5885980413636\t\n",
       "current loss = 1.5885734042216\t\n"
      ]
     },
     "execution_count": 12,
     "metadata": {},
     "output_type": "execute_result"
    },
    {
     "data": {
      "text/plain": [
       "current loss = 1.5885487728202\t\n",
       "current loss = 1.5885241471573\t\n",
       "current loss = 1.5884995272309\t\n",
       "current loss = 1.5884749130389\t\n",
       "current loss = 1.5884503045791\t\n",
       "current loss = 1.5884257018496\t\n",
       "current loss = 1.5884011048483\t\n"
      ]
     },
     "execution_count": 12,
     "metadata": {},
     "output_type": "execute_result"
    },
    {
     "data": {
      "text/plain": [
       "current loss = 1.5883765135731\t\n",
       "current loss = 1.5883519280219\t\n",
       "current loss = 1.5883273481926\t\n",
       "current loss = 1.5883027740833\t\n",
       "current loss = 1.5882782056919\t\n",
       "current loss = 1.5882536430162\t\n",
       "current loss = 1.5882290860542\t\n",
       "current loss = 1.5882045348039\t\n"
      ]
     },
     "execution_count": 12,
     "metadata": {},
     "output_type": "execute_result"
    },
    {
     "data": {
      "text/plain": [
       "current loss = 1.5881799892632\t\n",
       "current loss = 1.5881554494301\t\n",
       "current loss = 1.5881309153024\t\n",
       "current loss = 1.5881063868782\t\n",
       "current loss = 1.5880818641553\t\n",
       "current loss = 1.5880573471318\t\n",
       "current loss = 1.5880328358055\t\n",
       "current loss = 1.5880083301744\t\n",
       "current loss = 1.5879838302365\t\n"
      ]
     },
     "execution_count": 12,
     "metadata": {},
     "output_type": "execute_result"
    },
    {
     "data": {
      "text/plain": [
       "current loss = 1.5879593359897\t\n",
       "current loss = 1.587934847432\t\n",
       "current loss = 1.5879103645613\t\n",
       "current loss = 1.5878858873756\t\n",
       "current loss = 1.5878614158727\t\n"
      ]
     },
     "execution_count": 12,
     "metadata": {},
     "output_type": "execute_result"
    },
    {
     "data": {
      "text/plain": [
       "current loss = 1.5878369500508\t\n",
       "current loss = 1.5878124899077\t\n",
       "current loss = 1.5877880354414\t\n",
       "current loss = 1.5877635866498\t\n"
      ]
     },
     "execution_count": 12,
     "metadata": {},
     "output_type": "execute_result"
    },
    {
     "data": {
      "text/plain": [
       "current loss = 1.587739143531\t\n",
       "current loss = 1.5877147060828\t\n",
       "current loss = 1.5876902743032\t\n",
       "current loss = 1.5876658481902\t\n",
       "current loss = 1.5876414277418\t\n",
       "current loss = 1.5876170129559\t\n",
       "current loss = 1.5875926038304\t\n",
       "current loss = 1.5875682003634\t\n"
      ]
     },
     "execution_count": 12,
     "metadata": {},
     "output_type": "execute_result"
    },
    {
     "data": {
      "text/plain": [
       "current loss = 1.5875438025529\t\n",
       "current loss = 1.5875194103967\t\n",
       "current loss = 1.5874950238928\t\n",
       "current loss = 1.5874706430393\t\n",
       "current loss = 1.587446267834\t\n",
       "current loss = 1.5874218982751\t\n",
       "current loss = 1.5873975343603\t\n",
       "current loss = 1.5873731760878\t\n"
      ]
     },
     "execution_count": 12,
     "metadata": {},
     "output_type": "execute_result"
    },
    {
     "data": {
      "text/plain": [
       "current loss = 1.5873488234554\t\n",
       "current loss = 1.5873244764612\t\n",
       "current loss = 1.5873001351031\t\n",
       "current loss = 1.5872757993792\t\n",
       "current loss = 1.5872514692873\t\n",
       "current loss = 1.5872271448255\t\n",
       "current loss = 1.5872028259918\t\n"
      ]
     },
     "execution_count": 12,
     "metadata": {},
     "output_type": "execute_result"
    },
    {
     "data": {
      "text/plain": [
       "current loss = 1.5871785127841\t\n",
       "current loss = 1.5871542052004\t\n",
       "current loss = 1.5871299032387\t\n",
       "current loss = 1.5871056068969\t\n",
       "current loss = 1.5870813161732\t\n"
      ]
     },
     "execution_count": 12,
     "metadata": {},
     "output_type": "execute_result"
    },
    {
     "data": {
      "text/plain": [
       "current loss = 1.5870570310654\t\n",
       "current loss = 1.5870327515715\t\n",
       "current loss = 1.5870084776896\t\n",
       "current loss = 1.5869842094176\t\n",
       "current loss = 1.5869599467535\t\n"
      ]
     },
     "execution_count": 12,
     "metadata": {},
     "output_type": "execute_result"
    },
    {
     "data": {
      "text/plain": [
       "current loss = 1.5869356896953\t\n",
       "current loss = 1.586911438241\t\n",
       "current loss = 1.5868871923886\t\n",
       "current loss = 1.5868629521361\t\n",
       "current loss = 1.5868387174814\t\n",
       "current loss = 1.5868144884226\t\n",
       "current loss = 1.5867902649577\t\n"
      ]
     },
     "execution_count": 12,
     "metadata": {},
     "output_type": "execute_result"
    },
    {
     "data": {
      "text/plain": [
       "current loss = 1.5867660470847\t\n",
       "current loss = 1.5867418348015\t\n",
       "current loss = 1.5867176281062\t\n",
       "current loss = 1.5866934269967\t\n",
       "current loss = 1.5866692314712\t\n",
       "current loss = 1.5866450415275\t\n",
       "current loss = 1.5866208571636\t\n"
      ]
     },
     "execution_count": 12,
     "metadata": {},
     "output_type": "execute_result"
    },
    {
     "data": {
      "text/plain": [
       "current loss = 1.5865966783777\t\n",
       "current loss = 1.5865725051677\t\n",
       "current loss = 1.5865483375315\t\n",
       "current loss = 1.5865241754673\t\n",
       "current loss = 1.5865000189729\t\n",
       "current loss = 1.5864758680465\t\n",
       "current loss = 1.586451722686\t\n"
      ]
     },
     "execution_count": 12,
     "metadata": {},
     "output_type": "execute_result"
    },
    {
     "data": {
      "text/plain": [
       "current loss = 1.5864275828895\t\n",
       "current loss = 1.5864034486549\t\n",
       "current loss = 1.5863793199803\t\n",
       "current loss = 1.5863551968637\t\n",
       "current loss = 1.586331079303\t\n",
       "current loss = 1.5863069672964\t\n",
       "current loss = 1.5862828608419\t\n",
       "current loss = 1.5862587599373\t\n"
      ]
     },
     "execution_count": 12,
     "metadata": {},
     "output_type": "execute_result"
    },
    {
     "data": {
      "text/plain": [
       "current loss = 1.5862346645809\t\n",
       "current loss = 1.5862105747706\t\n",
       "current loss = 1.5861864905043\t\n",
       "current loss = 1.5861624117802\t\n",
       "current loss = 1.5861383385963\t\n",
       "current loss = 1.5861142709505\t\n",
       "current loss = 1.586090208841\t\n",
       "current loss = 1.5860661522657\t\n"
      ]
     },
     "execution_count": 12,
     "metadata": {},
     "output_type": "execute_result"
    },
    {
     "data": {
      "text/plain": [
       "current loss = 1.5860421012227\t\n",
       "current loss = 1.5860180557099\t\n",
       "current loss = 1.5859940157255\t\n",
       "current loss = 1.5859699812674\t\n"
      ]
     },
     "execution_count": 12,
     "metadata": {},
     "output_type": "execute_result"
    },
    {
     "data": {
      "text/plain": [
       "current loss = 1.5859459523337\t\n",
       "current loss = 1.5859219289224\t\n",
       "current loss = 1.5858979110316\t\n",
       "current loss = 1.5858738986592\t\n",
       "current loss = 1.5858498918034\t\n"
      ]
     },
     "execution_count": 12,
     "metadata": {},
     "output_type": "execute_result"
    },
    {
     "data": {
      "text/plain": [
       "current loss = 1.5858258904621\t\n",
       "current loss = 1.5858018946334\t\n",
       "current loss = 1.5857779043153\t\n",
       "current loss = 1.5857539195059\t\n",
       "current loss = 1.5857299402031\t\n",
       "current loss = 1.5857059664052\t\n",
       "current loss = 1.58568199811\t\n"
      ]
     },
     "execution_count": 12,
     "metadata": {},
     "output_type": "execute_result"
    },
    {
     "data": {
      "text/plain": [
       "current loss = 1.5856580353156\t\n",
       "current loss = 1.5856340780201\t\n",
       "current loss = 1.5856101262215\t\n",
       "current loss = 1.5855861799179\t\n",
       "current loss = 1.5855622391073\t\n",
       "current loss = 1.5855383037878\t\n"
      ]
     },
     "execution_count": 12,
     "metadata": {},
     "output_type": "execute_result"
    },
    {
     "data": {
      "text/plain": [
       "current loss = 1.5855143739573\t\n",
       "current loss = 1.585490449614\t\n",
       "current loss = 1.5854665307559\t\n",
       "current loss = 1.585442617381\t\n",
       "current loss = 1.5854187094874\t\n",
       "current loss = 1.5853948070732\t\n",
       "current loss = 1.5853709101365\t\n",
       "current loss = 1.5853470186751\t\n"
      ]
     },
     "execution_count": 12,
     "metadata": {},
     "output_type": "execute_result"
    },
    {
     "data": {
      "text/plain": [
       "current loss = 1.5853231326873\t\n",
       "current loss = 1.585299252171\t\n",
       "current loss = 1.5852753771244\t\n",
       "current loss = 1.5852515075455\t\n",
       "current loss = 1.5852276434324\t\n",
       "current loss = 1.585203784783\t\n",
       "current loss = 1.5851799315955\t\n"
      ]
     },
     "execution_count": 12,
     "metadata": {},
     "output_type": "execute_result"
    },
    {
     "data": {
      "text/plain": [
       "current loss = 1.585156083868\t\n",
       "current loss = 1.5851322415984\t\n",
       "current loss = 1.5851084047849\t\n",
       "current loss = 1.5850845734255\t\n",
       "current loss = 1.5850607475184\t\n"
      ]
     },
     "execution_count": 12,
     "metadata": {},
     "output_type": "execute_result"
    },
    {
     "data": {
      "text/plain": [
       "current loss = 1.5850369270614\t\n",
       "current loss = 1.5850131120528\t\n",
       "current loss = 1.5849893024906\t\n",
       "current loss = 1.5849654983729\t\n",
       "current loss = 1.5849416996977\t\n",
       "current loss = 1.5849179064631\t\n"
      ]
     },
     "execution_count": 12,
     "metadata": {},
     "output_type": "execute_result"
    },
    {
     "data": {
      "text/plain": [
       "current loss = 1.5848941186672\t\n",
       "current loss = 1.584870336308\t\n",
       "current loss = 1.5848465593836\t\n",
       "current loss = 1.5848227878922\t\n",
       "current loss = 1.5847990218317\t\n",
       "current loss = 1.5847752612003\t\n",
       "current loss = 1.584751505996\t\n",
       "current loss = 1.5847277562169\t\n"
      ]
     },
     "execution_count": 12,
     "metadata": {},
     "output_type": "execute_result"
    },
    {
     "data": {
      "text/plain": [
       "current loss = 1.5847040118611\t\n",
       "current loss = 1.5846802729267\t\n",
       "current loss = 1.5846565394117\t\n",
       "current loss = 1.5846328113143\t\n",
       "current loss = 1.5846090886325\t\n",
       "current loss = 1.5845853713644\t\n"
      ]
     },
     "execution_count": 12,
     "metadata": {},
     "output_type": "execute_result"
    },
    {
     "data": {
      "text/plain": [
       "current loss = 1.5845616595081\t\n",
       "current loss = 1.5845379530616\t\n",
       "current loss = 1.5845142520231\t\n",
       "current loss = 1.5844905563907\t\n",
       "current loss = 1.5844668661624\t\n",
       "current loss = 1.5844431813363\t\n",
       "current loss = 1.5844195019105\t\n",
       "current loss = 1.5843958278832\t\n"
      ]
     },
     "execution_count": 12,
     "metadata": {},
     "output_type": "execute_result"
    },
    {
     "data": {
      "text/plain": [
       "current loss = 1.5843721592523\t\n",
       "current loss = 1.5843484960161\t\n",
       "current loss = 1.5843248381725\t\n",
       "current loss = 1.5843011857197\t\n",
       "current loss = 1.5842775386558\t\n",
       "current loss = 1.5842538969789\t\n",
       "current loss = 1.5842302606871\t\n"
      ]
     },
     "execution_count": 12,
     "metadata": {},
     "output_type": "execute_result"
    },
    {
     "data": {
      "text/plain": [
       "current loss = 1.5842066297784\t\n",
       "current loss = 1.584183004251\t\n",
       "current loss = 1.584159384103\t\n",
       "current loss = 1.5841357693325\t\n",
       "current loss = 1.5841121599375\t\n",
       "current loss = 1.5840885559163\t\n",
       "current loss = 1.5840649572668\t\n",
       "current loss = 1.5840413639872\t\n"
      ]
     },
     "execution_count": 12,
     "metadata": {},
     "output_type": "execute_result"
    },
    {
     "data": {
      "text/plain": [
       "current loss = 1.5840177760756\t\n",
       "current loss = 1.5839941935302\t\n",
       "current loss = 1.5839706163489\t\n",
       "current loss = 1.58394704453\t\n",
       "current loss = 1.5839234780715\t\n",
       "current loss = 1.5838999169715\t\n",
       "current loss = 1.5838763612282\t\n"
      ]
     },
     "execution_count": 12,
     "metadata": {},
     "output_type": "execute_result"
    },
    {
     "data": {
      "text/plain": [
       "current loss = 1.5838528108397\t\n",
       "current loss = 1.583829265804\t\n",
       "current loss = 1.5838057261194\t\n",
       "current loss = 1.5837821917839\t\n"
      ]
     },
     "execution_count": 12,
     "metadata": {},
     "output_type": "execute_result"
    },
    {
     "data": {
      "text/plain": [
       "current loss = 1.5837586627956\t\n",
       "current loss = 1.5837351391526\t\n",
       "current loss = 1.5837116208532\t\n",
       "current loss = 1.5836881078952\t\n"
      ]
     },
     "execution_count": 12,
     "metadata": {},
     "output_type": "execute_result"
    },
    {
     "data": {
      "text/plain": [
       "current loss = 1.5836646002771\t\n",
       "current loss = 1.5836410979967\t\n",
       "current loss = 1.5836176010522\t\n",
       "current loss = 1.5835941094419\t\n",
       "current loss = 1.5835706231637\t\n",
       "current loss = 1.5835471422159\t\n",
       "current loss = 1.5835236665965\t\n",
       "current loss = 1.5835001963036\t\n"
      ]
     },
     "execution_count": 12,
     "metadata": {},
     "output_type": "execute_result"
    },
    {
     "data": {
      "text/plain": [
       "current loss = 1.5834767313355\t\n",
       "current loss = 1.5834532716901\t\n",
       "current loss = 1.5834298173658\t\n",
       "current loss = 1.5834063683605\t\n",
       "current loss = 1.5833829246724\t\n",
       "current loss = 1.5833594862996\t\n"
      ]
     },
     "execution_count": 12,
     "metadata": {},
     "output_type": "execute_result"
    },
    {
     "data": {
      "text/plain": [
       "current loss = 1.5833360532404\t\n",
       "current loss = 1.5833126254927\t\n",
       "current loss = 1.5832892030548\t\n",
       "current loss = 1.5832657859248\t\n"
      ]
     },
     "execution_count": 12,
     "metadata": {},
     "output_type": "execute_result"
    },
    {
     "data": {
      "text/plain": [
       "current loss = 1.5832423741007\t\n",
       "current loss = 1.5832189675809\t\n",
       "current loss = 1.5831955663633\t\n",
       "current loss = 1.5831721704461\t\n",
       "current loss = 1.5831487798275\t\n",
       "current loss = 1.5831253945057\t\n"
      ]
     },
     "execution_count": 12,
     "metadata": {},
     "output_type": "execute_result"
    },
    {
     "data": {
      "text/plain": [
       "current loss = 1.5831020144786\t\n",
       "current loss = 1.5830786397446\t\n",
       "current loss = 1.5830552703017\t\n",
       "current loss = 1.583031906148\t\n",
       "current loss = 1.5830085472818\t\n",
       "current loss = 1.5829851937012\t\n"
      ]
     },
     "execution_count": 12,
     "metadata": {},
     "output_type": "execute_result"
    },
    {
     "data": {
      "text/plain": [
       "current loss = 1.5829618454042\t\n",
       "current loss = 1.5829385023892\t\n",
       "current loss = 1.5829151646541\t\n",
       "current loss = 1.5828918321972\t\n",
       "current loss = 1.5828685050166\t\n",
       "current loss = 1.5828451831105\t\n",
       "current loss = 1.582821866477\t\n"
      ]
     },
     "execution_count": 12,
     "metadata": {},
     "output_type": "execute_result"
    },
    {
     "data": {
      "text/plain": [
       "current loss = 1.5827985551142\t\n",
       "current loss = 1.5827752490204\t\n",
       "current loss = 1.5827519481936\t\n",
       "current loss = 1.582728652632\t\n",
       "current loss = 1.5827053623339\t\n",
       "current loss = 1.5826820772973\t\n",
       "current loss = 1.5826587975204\t\n"
      ]
     },
     "execution_count": 12,
     "metadata": {},
     "output_type": "execute_result"
    },
    {
     "data": {
      "text/plain": [
       "current loss = 1.5826355230013\t\n",
       "current loss = 1.5826122537383\t\n",
       "current loss = 1.5825889897294\t\n",
       "current loss = 1.5825657309729\t\n",
       "current loss = 1.5825424774669\t\n",
       "current loss = 1.5825192292096\t\n",
       "current loss = 1.582495986199\t\n"
      ]
     },
     "execution_count": 12,
     "metadata": {},
     "output_type": "execute_result"
    },
    {
     "data": {
      "text/plain": [
       "current loss = 1.5824727484335\t\n",
       "current loss = 1.5824495159112\t\n",
       "current loss = 1.5824262886301\t\n",
       "current loss = 1.5824030665886\t\n",
       "current loss = 1.5823798497847\t\n",
       "current loss = 1.5823566382167\t\n",
       "current loss = 1.5823334318826\t\n",
       "current loss = 1.5823102307808\t\n"
      ]
     },
     "execution_count": 12,
     "metadata": {},
     "output_type": "execute_result"
    },
    {
     "data": {
      "text/plain": [
       "current loss = 1.5822870349093\t\n",
       "current loss = 1.5822638442663\t\n"
      ]
     },
     "execution_count": 12,
     "metadata": {},
     "output_type": "execute_result"
    },
    {
     "data": {
      "text/plain": [
       "current loss = 1.58224065885\t\n",
       "current loss = 1.5822174786585\t\n",
       "current loss = 1.5821943036901\t\n",
       "current loss = 1.5821711339429\t\n"
      ]
     },
     "execution_count": 12,
     "metadata": {},
     "output_type": "execute_result"
    },
    {
     "data": {
      "text/plain": [
       "current loss = 1.5821479694152\t\n",
       "current loss = 1.582124810105\t\n",
       "current loss = 1.5821016560105\t\n"
      ]
     },
     "execution_count": 12,
     "metadata": {},
     "output_type": "execute_result"
    },
    {
     "data": {
      "text/plain": [
       "current loss = 1.58207850713\t\n",
       "current loss = 1.5820553634616\t\n",
       "current loss = 1.5820322250035\t\n"
      ]
     },
     "execution_count": 12,
     "metadata": {},
     "output_type": "execute_result"
    }
   ],
   "source": [
    "-- We're now good to go... all we have left to do is run over the dataset\n",
    "-- for a certain number of iterations, and perform a stochastic update \n",
    "-- at each iteration. The number of iterations is found empirically here,\n",
    "-- but should typically be determinined using cross-validation.\n",
    "\n",
    "-- we cycle 1e4 times over our training data\n",
    "for i=1, 1e4 do\n",
    "    \n",
    "    -- this variable is used to estimate the average loss\n",
    "    current_loss = 0\n",
    "    \n",
    "    -- an epoch is a full loop over our training data\n",
    "    for i=1, data_size do\n",
    "        \n",
    "        -- optim contains several optimization algorithms. \n",
    "        -- All of these algorithms assume the same parameters:\n",
    "        --   + a closure that computes the loss, and its gradient wrt to x, \n",
    "        --     given a point x\n",
    "        --   + a point x\n",
    "        --   + some parameters, which are algorithm-specific\n",
    "        _,fs = optim.sgd(feval, x, sgd_params)\n",
    "        \n",
    "        -- Functions in optim all return two things:\n",
    "        --   + the new x, found by the optimization method (here SGD)\n",
    "        --   + the value of the loss functions at all points that were used by\n",
    "        --     the algorithm. SGD only estimates the function once, so\n",
    "        --     that list just contains one value.\n",
    "        current_loss = current_loss + fs[1]\n",
    "    end\n",
    "    \n",
    "    -- report average error on epoch\n",
    "    current_loss = current_loss / data_size\n",
    "    print('current loss = ' .. current_loss)\n",
    "end"
   ]
  },
  {
   "cell_type": "code",
   "execution_count": 13,
   "metadata": {
    "collapsed": true
   },
   "outputs": [],
   "source": [
    "----------------------------------------------------------------------\n",
    "-- 5. Test the trained model.\n",
    "\n",
    "-- Now that the model is trained, one can test it by evaluating it\n",
    "-- on new samples.\n",
    "\n",
    "-- The text solves the model exactly using matrix techniques and determines\n",
    "-- that \n",
    "--   corn = 31.98 + 0.65 * fertilizer + 1.11 * insecticides\n",
    "\n",
    "-- We compare our approximate results with the text's results.\n",
    "\n",
    "text = {40.32, 42.92, 45.33, 48.85, 52.37, 57, 61.82, 69.78, 72.19, 79.42}"
   ]
  },
  {
   "cell_type": "code",
   "execution_count": 14,
   "metadata": {
    "collapsed": false
   },
   "outputs": [
    {
     "data": {
      "text/plain": [
       "id  approx   text\t\n",
       " 1  40.10  40.32\t\n",
       " 2  42.77  42.92\t\n",
       " 3  45.21  45.33\t\n",
       " 4  48.78  48.85\t\n",
       " 5  52.34  52.37\t\n",
       " 6  57.02  57.00\t\n",
       " 7  61.92  61.82\t\n",
       " 8  69.95  69.78\t\n",
       " 9  72.40  72.19\t\n",
       "10  79.74  79.42\t\n"
      ]
     },
     "execution_count": 14,
     "metadata": {},
     "output_type": "execute_result"
    }
   ],
   "source": [
    "print('id  approx   text')\n",
    "for i=1, data_size do\n",
    "    local myPrediction = model:forward(data[i][{ {2,3} }])\n",
    "    print(string.format(\"%2d %6.2f %6.2f\", i, myPrediction[1], text[i]))\n",
    "end"
   ]
  },
  {
   "cell_type": "code",
   "execution_count": null,
   "metadata": {
    "collapsed": true
   },
   "outputs": [],
   "source": []
  }
 ],
 "metadata": {
  "kernelspec": {
   "display_name": "iTorch",
   "language": "lua",
   "name": "itorch"
  },
  "language_info": {
   "name": "lua",
   "version": "20100"
  }
 },
 "nbformat": 4,
 "nbformat_minor": 0
}
