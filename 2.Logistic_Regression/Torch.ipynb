{
 "cells": [
  {
   "cell_type": "markdown",
   "metadata": {},
   "source": [
    "### Reference.\n",
    "[Torch Logistic Regression Demo](https://github.com/torch/demos/blob/master/logistic-regression/example-logistic-regression.lua)"
   ]
  },
  {
   "cell_type": "code",
   "execution_count": 1,
   "metadata": {
    "collapsed": true
   },
   "outputs": [],
   "source": [
    "require 'nn'\n",
    "require 'optim'\n",
    "require 'csvigo'"
   ]
  },
  {
   "cell_type": "code",
   "execution_count": 2,
   "metadata": {
    "collapsed": false
   },
   "outputs": [
    {
     "data": {
      "text/plain": [
       "<csv>\tparsing file: example-logistic-regression.csv\t\n"
      ]
     },
     "execution_count": 2,
     "metadata": {},
     "output_type": "execute_result"
    },
    {
     "data": {
      "text/plain": [
       "<csv>\ttidying up entries\t\n",
       "<csv>\treturning tidy table\t\n"
      ]
     },
     "execution_count": 2,
     "metadata": {},
     "output_type": "execute_result"
    }
   ],
   "source": [
    "-- 1. Create Training Data\n",
    "\n",
    "-- Load Data\n",
    "data = csvigo.load('example-logistic-regression.csv')\n",
    "\n",
    "brands = torch.Tensor(data.brand)    -- Target\n",
    "females = torch.Tensor(data.female)\n",
    "ages = torch.Tensor(data.age)"
   ]
  },
  {
   "cell_type": "code",
   "execution_count": 3,
   "metadata": {
    "collapsed": true
   },
   "outputs": [],
   "source": [
    "-- Copy all the variable into a single tensor\n",
    "dataSet = torch.Tensor( (#brands)[1],2 )\n",
    "dataSet[{ {}, 1 }] = females\n",
    "dataSet[{ {}, 2 }] = ages\n",
    "\n",
    "targets = brands"
   ]
  },
  {
   "cell_type": "code",
   "execution_count": 4,
   "metadata": {
    "collapsed": false
   },
   "outputs": [
    {
     "data": {
      "text/plain": [
       "Number of brands : 3\t\n",
       "Max brand : 3\t\n",
       "Min brand : 1\t\n",
       "Max female : 1\t\n",
       "Min female : 0\t\n",
       "Max age : 38\t\n",
       "Min age : 24\t\n",
       "dataSet Shape.\t\n",
       " 735\n",
       "   2\n",
       "[torch.LongStorage of size 2]\n",
       "\n"
      ]
     },
     "execution_count": 4,
     "metadata": {},
     "output_type": "execute_result"
    }
   ],
   "source": [
    "numOfBrand = 3  -- 1,2,3\n",
    "\n",
    "-- Summarize the Data\n",
    "print(\"Number of brands : \".. numOfBrand)\n",
    "\n",
    "print(\"Max brand : \".. torch.max(brands))\n",
    "print(\"Min brand : \".. torch.min(brands))\n",
    "\n",
    "print(\"Max female : \".. torch.max(females))\n",
    "print(\"Min female : \".. torch.min(females))\n",
    "\n",
    "print(\"Max age : \".. torch.max(ages))\n",
    "print(\"Min age : \".. torch.min(ages))\n",
    "\n",
    "print(\"dataSet Shape.\")\n",
    "print(#dataSet)"
   ]
  },
  {
   "cell_type": "code",
   "execution_count": 5,
   "metadata": {
    "collapsed": false
   },
   "outputs": [
    {
     "data": {
      "text/plain": [
       " 700\n",
       "   2\n",
       "[torch.LongStorage of size 2]\n",
       "\n",
       " 700\n",
       "[torch.LongStorage of size 1]\n",
       "\n",
       " 35\n",
       "  2\n",
       "[torch.LongStorage of size 2]\n",
       "\n",
       " 35\n",
       "[torch.LongStorage of size 1]\n",
       "\n"
      ]
     },
     "execution_count": 5,
     "metadata": {},
     "output_type": "execute_result"
    }
   ],
   "source": [
    "trainX = dataSet[{ {1,700} }]\n",
    "trainY = targets[{ {1,700} }]\n",
    "testX = dataSet[{ {701,735} }]\n",
    "testY = targets[{ {701,735} }]\n",
    "\n",
    "print(#trainX)\n",
    "print(#trainY)\n",
    "print(#testX)\n",
    "print(#testY)"
   ]
  },
  {
   "cell_type": "code",
   "execution_count": 6,
   "metadata": {
    "collapsed": true
   },
   "outputs": [],
   "source": [
    "-- 2. Define the Model\n",
    "\n",
    "model = nn.Sequential()\n",
    "model:add(nn.Linear(2,3))\n",
    "model:add(nn.LogSoftMax())"
   ]
  },
  {
   "cell_type": "code",
   "execution_count": 7,
   "metadata": {
    "collapsed": true
   },
   "outputs": [],
   "source": [
    "-- 3. Loss and Optimizer\n",
    "\n",
    "criterion = nn.ClassNLLCriterion() -- Log-likelihood(NLL)"
   ]
  },
  {
   "cell_type": "code",
   "execution_count": 8,
   "metadata": {
    "collapsed": true
   },
   "outputs": [],
   "source": [
    "-- 4. Train the model\n",
    "\n",
    "x, dW = model:getParameters()\n",
    "\n",
    "feval = function(x_new)\n",
    "    if x ~= x_new then\n",
    "        x:copy(x_new)\n",
    "    end\n",
    "    \n",
    "    _nidx_ = (_nidx_ or 0) + 1\n",
    "    if _nidx_ > (#trainX)[1] then\n",
    "        _nidx_ = 1\n",
    "    end\n",
    "    \n",
    "    local inputs = trainX[_nidx_]\n",
    "    local target = trainY[_nidx_]\n",
    "    \n",
    "    -- Reset Gradient\n",
    "    dW:zero()\n",
    "    \n",
    "    local loss = criterion:forward(model:forward(inputs), target)\n",
    "    model:backward(inputs, criterion:backward(model.output, target))\n",
    "    \n",
    "    return loss, dW\n",
    "end"
   ]
  },
  {
   "cell_type": "code",
   "execution_count": 9,
   "metadata": {
    "collapsed": true
   },
   "outputs": [],
   "source": [
    "sgd_params = {\n",
    "    learning_rate = 1e-3,\n",
    "    learningRateDecay = 1e-4,\n",
    "    weightDecay = 0,\n",
    "    momentum = 0\n",
    "}\n",
    "\n",
    "numIters = 100"
   ]
  },
  {
   "cell_type": "code",
   "execution_count": 10,
   "metadata": {
    "collapsed": false
   },
   "outputs": [
    {
     "data": {
      "text/plain": [
       "Epoch : 10 Loss=1.0885289198155\t\n"
      ]
     },
     "execution_count": 10,
     "metadata": {},
     "output_type": "execute_result"
    },
    {
     "data": {
      "text/plain": [
       "Epoch : 20 Loss=1.0557149100252\t\n"
      ]
     },
     "execution_count": 10,
     "metadata": {},
     "output_type": "execute_result"
    },
    {
     "data": {
      "text/plain": [
       "Epoch : 30 Loss=1.0393850989384\t\n"
      ]
     },
     "execution_count": 10,
     "metadata": {},
     "output_type": "execute_result"
    },
    {
     "data": {
      "text/plain": [
       "Epoch : 40 Loss=1.0298807257468\t\n"
      ]
     },
     "execution_count": 10,
     "metadata": {},
     "output_type": "execute_result"
    },
    {
     "data": {
      "text/plain": [
       "Epoch : 50 Loss=1.0239110556529\t\n"
      ]
     },
     "execution_count": 10,
     "metadata": {},
     "output_type": "execute_result"
    },
    {
     "data": {
      "text/plain": [
       "Epoch : 60 Loss=1.0200314196615\t\n"
      ]
     },
     "execution_count": 10,
     "metadata": {},
     "output_type": "execute_result"
    },
    {
     "data": {
      "text/plain": [
       "Epoch : 70 Loss=1.0174960449349\t\n"
      ]
     },
     "execution_count": 10,
     "metadata": {},
     "output_type": "execute_result"
    },
    {
     "data": {
      "text/plain": [
       "Epoch : 80 Loss=1.0158748419338\t\n"
      ]
     },
     "execution_count": 10,
     "metadata": {},
     "output_type": "execute_result"
    },
    {
     "data": {
      "text/plain": [
       "Epoch : 90 Loss=1.0148996776959\t\n"
      ]
     },
     "execution_count": 10,
     "metadata": {},
     "output_type": "execute_result"
    },
    {
     "data": {
      "text/plain": [
       "Epoch : 100 Loss=1.0143937714144\t\n"
      ]
     },
     "execution_count": 10,
     "metadata": {},
     "output_type": "execute_result"
    }
   ],
   "source": [
    "-- Training with SGD\n",
    "for i =1, numIters do\n",
    "    current_loss = 0\n",
    "    -- Epoch\n",
    "    for i = 1, (#trainX)[1] do\n",
    "        _, loss = optim.sgd(feval, x, sgd_params)\n",
    "        current_loss = current_loss + loss[1]\n",
    "    end\n",
    "    \n",
    "    -- Report average error on Epoch\n",
    "    if i%10 == 0 then\n",
    "        current_loss = current_loss / (#trainX)[1]\n",
    "        print(\"Epoch : \" .. i .. \" Loss=\" .. current_loss)\n",
    "    end\n",
    "end"
   ]
  },
  {
   "cell_type": "code",
   "execution_count": 11,
   "metadata": {
    "collapsed": false
   },
   "outputs": [],
   "source": [
    "-- 5. Testing the model\n",
    "\n",
    "function predict(testX)\n",
    "    local logProbs = model:forward(testX)  \n",
    "    local probs = torch.exp(logProbs)\n",
    "\n",
    "    percent, target = torch.max(probs, 1)\n",
    "    return target[1]\n",
    "end"
   ]
  },
  {
   "cell_type": "code",
   "execution_count": 12,
   "metadata": {
    "collapsed": false
   },
   "outputs": [
    {
     "data": {
      "text/plain": [
       "0.71428571428571\t\n"
      ]
     },
     "execution_count": 12,
     "metadata": {},
     "output_type": "execute_result"
    }
   ],
   "source": [
    "accuracy = 0\n",
    "for i = 1, (#testX)[1] do\n",
    "    predY = predict(testX[i])\n",
    "    if predY == testY[i] then\n",
    "        accuracy = accuracy + 1\n",
    "    end\n",
    "end\n",
    "\n",
    "print(accuracy / (#testX)[1])"
   ]
  },
  {
   "cell_type": "code",
   "execution_count": null,
   "metadata": {
    "collapsed": true
   },
   "outputs": [],
   "source": []
  }
 ],
 "metadata": {
  "kernelspec": {
   "display_name": "iTorch",
   "language": "lua",
   "name": "itorch"
  },
  "language_info": {
   "name": "lua",
   "version": "20100"
  }
 },
 "nbformat": 4,
 "nbformat_minor": 0
}
