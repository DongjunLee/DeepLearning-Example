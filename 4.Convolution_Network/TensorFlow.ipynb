{
 "cells": [
  {
   "cell_type": "markdown",
   "metadata": {},
   "source": [
    "## Reference\n",
    "- [TensorFlow Example - convolution network](https://github.com/aymericdamien/TensorFlow-Examples/blob/master/notebooks/3%20-%20Neural%20Networks/convolutional_network.ipynb)"
   ]
  },
  {
   "cell_type": "code",
   "execution_count": 1,
   "metadata": {
    "collapsed": false
   },
   "outputs": [
    {
     "name": "stderr",
     "output_type": "stream",
     "text": [
      "/Library/Frameworks/Python.framework/Versions/3.5/lib/python3.5/gzip.py:274: VisibleDeprecationWarning: converting an array with ndim > 0 to an index will result in an error in the future\n",
      "  return self._buffer.read(size)\n",
      "/Users/Dongjun/DLselfProjects/4.Convolution_Network/input_data.py:41: VisibleDeprecationWarning: converting an array with ndim > 0 to an index will result in an error in the future\n",
      "  data = data.reshape(num_images, rows, cols, 1)\n"
     ]
    },
    {
     "name": "stdout",
     "output_type": "stream",
     "text": [
      "Extracting ./../data/MNIST/train-images-idx3-ubyte.gz\n",
      "Extracting ./../data/MNIST/train-labels-idx1-ubyte.gz\n",
      "Extracting ./../data/MNIST/t10k-images-idx3-ubyte.gz\n",
      "Extracting ./../data/MNIST/t10k-labels-idx1-ubyte.gz\n"
     ]
    }
   ],
   "source": [
    "import tensorflow as tf\n",
    "import numpy as np\n",
    "import input_data\n",
    "\n",
    "mnist = input_data.read_data_sets(\"./../data/MNIST/\", one_hot=True)"
   ]
  },
  {
   "cell_type": "code",
   "execution_count": 3,
   "metadata": {
    "collapsed": true
   },
   "outputs": [],
   "source": [
    "# Parameters\n",
    "learning_rate = 0.001\n",
    "num_iters = 1000\n",
    "batch_size = 128\n",
    "\n",
    "geometry = [28, 28]\n",
    "classes = [1, 2, 3, 4, 5, 6, 7, 8, 9, 10]\n",
    "num_classes = len(classes)\n",
    "dropout_prob = 0.5"
   ]
  },
  {
   "cell_type": "code",
   "execution_count": 4,
   "metadata": {
    "collapsed": false
   },
   "outputs": [],
   "source": [
    "# Tensor Flow Graph Input\n",
    "X = tf.placeholder(tf.float32, [None, geometry[0]*geometry[1]])\n",
    "y = tf.placeholder(tf.float32, [None, num_classes])\n",
    "dropout = tf.placeholder(tf.float32)\n",
    "\n",
    "# Weight & bias\n",
    "# 5x5 conv, 1 input, 32 outputs\n",
    "Wc1 = tf.Variable(tf.random_normal([5, 5, 1, 32]))\n",
    "bc1 = tf.Variable(tf.random_normal([32]))\n",
    "\n",
    "# 5x5 conv, 32 input, 64 outputs\n",
    "Wc2 = tf.Variable(tf.random_normal([5, 5, 32, 64]))\n",
    "bc2 = tf.Variable(tf.random_normal([64]))\n",
    "\n",
    "# Fully connected (Standard 2-layer MLP), 7*7*64 input, 1024 \n",
    "Wf1 = tf.Variable(tf.random_normal([7*7*64, 1024]))\n",
    "bf1 = tf.Variable(tf.random_normal([1024]))\n",
    "\n",
    "Wf2 = tf.Variable(tf.random_normal([1024, num_classes]))\n",
    "bf2 = tf.Variable(tf.random_normal([num_classes]))"
   ]
  },
  {
   "cell_type": "code",
   "execution_count": 5,
   "metadata": {
    "collapsed": false
   },
   "outputs": [],
   "source": [
    "# Convolution Network\n",
    "\n",
    "# Reshape input picture\n",
    "input_X = tf.reshape(X, shape=[-1, 28, 28, 1])\n",
    "\n",
    "# Stage 1 : Convolution -> ReLU -> Max Pooling -> Dropout\n",
    "conv1 = tf.nn.conv2d(input_X, Wc1, strides = [1, 1, 1, 1], padding='SAME')\n",
    "conv1 = tf.nn.relu(tf.nn.bias_add(conv1, bc1))\n",
    "conv1 = tf.nn.max_pool(conv1, ksize=[1, 2, 2, 1], strides = [1, 2, 2, 1], padding='SAME')\n",
    "conv1 = tf.nn.dropout(conv1, dropout)\n",
    "\n",
    "# Stage 2 : Convolution -> ReLU -> Max Pooling -> Dropout\n",
    "conv2 = tf.nn.conv2d(conv1, Wc2, strides = [1, 1, 1, 1], padding='SAME')\n",
    "conv2 = tf.nn.relu(tf.nn.bias_add(conv2, bc2))\n",
    "conv2 = tf.nn.max_pool(conv2, ksize=[1, 2, 2, 1], strides = [1, 2, 2, 1], padding='SAME')\n",
    "conv2 = tf.nn.dropout(conv2, dropout)\n",
    "\n",
    "# Stage 3 : Fully connected : Linear -> ReLU -> Dropout\n",
    "fc1 = tf.reshape(conv2, [-1, Wf1.get_shape().as_list()[0]])\n",
    "fc1 = tf.nn.relu(tf.add(tf.matmul(fc1, Wf1), bf1))\n",
    "fc1 = tf.nn.dropout(fc1, dropout)\n",
    "\n",
    "fc2 = tf.add(tf.matmul(fc1, Wf2), bf2)"
   ]
  },
  {
   "cell_type": "code",
   "execution_count": 6,
   "metadata": {
    "collapsed": true
   },
   "outputs": [],
   "source": [
    "# Loss and Optimizer\n",
    "cost = tf.reduce_mean(tf.nn.softmax_cross_entropy_with_logits(fc2, y))\n",
    "optimizer = tf.train.AdamOptimizer(learning_rate=learning_rate).minimize(cost)\n",
    "\n",
    "# Evaluate model\n",
    "correct_pred = tf.equal(tf.argmax(fc2, 1), tf.argmax(y, 1))\n",
    "accuracy = tf.reduce_mean(tf.cast(correct_pred, tf.float32))"
   ]
  },
  {
   "cell_type": "code",
   "execution_count": 7,
   "metadata": {
    "collapsed": false
   },
   "outputs": [
    {
     "name": "stdout",
     "output_type": "stream",
     "text": [
      "Epoch :  1  loss= 104725.0\n",
      "Epoch :  4  loss= 59721.9\n",
      "Epoch :  5  loss= 49071.1\n",
      "Epoch :  8  loss= 32064.8\n",
      "Epoch :  9  loss= 33889.2\n",
      "Epoch :  12  loss= 27574.1\n",
      "Epoch :  13  loss= 26917.3\n",
      "Epoch :  64  loss= 9776.74\n",
      "Epoch :  65  loss= 9796.68\n",
      "Epoch :  68  loss= 9503.35\n",
      "Epoch :  69  loss= 9953.09\n",
      "Epoch :  72  loss= 12185.1\n",
      "Epoch :  73  loss= 8597.04\n",
      "Epoch :  76  loss= 14026.4\n",
      "Epoch :  77  loss= 12563.6\n",
      "Epoch :  128  loss= 5334.76\n",
      "Epoch :  129  loss= 6143.45\n",
      "Epoch :  132  loss= 5221.77\n",
      "Epoch :  133  loss= 4630.61\n",
      "Epoch :  136  loss= 4281.14\n",
      "Epoch :  137  loss= 5493.57\n",
      "Epoch :  140  loss= 5504.78\n",
      "Epoch :  141  loss= 3767.55\n",
      "Epoch :  192  loss= 4144.98\n",
      "Epoch :  193  loss= 3370.35\n",
      "Epoch :  196  loss= 3394.21\n",
      "Epoch :  197  loss= 3557.54\n",
      "Epoch :  200  loss= 3972.59\n",
      "Epoch :  201  loss= 3087.53\n",
      "Epoch :  204  loss= 3358.9\n",
      "Epoch :  205  loss= 2432.73\n",
      "Epoch :  256  loss= 1662.3\n",
      "Epoch :  257  loss= 2930.95\n",
      "Epoch :  260  loss= 2977.37\n",
      "Epoch :  261  loss= 2926.36\n",
      "Epoch :  264  loss= 1522.62\n",
      "Epoch :  265  loss= 1500.27\n",
      "Epoch :  268  loss= 2042.36\n",
      "Epoch :  269  loss= 3589.0\n",
      "Epoch :  320  loss= 1555.28\n",
      "Epoch :  321  loss= 2187.3\n",
      "Epoch :  324  loss= 2148.17\n",
      "Epoch :  325  loss= 1769.33\n",
      "Epoch :  328  loss= 1724.51\n",
      "Epoch :  329  loss= 1454.35\n",
      "Epoch :  332  loss= 2108.8\n",
      "Epoch :  333  loss= 1999.72\n",
      "Epoch :  384  loss= 1701.49\n",
      "Epoch :  385  loss= 985.645\n",
      "Epoch :  388  loss= 1035.58\n",
      "Epoch :  389  loss= 1301.58\n",
      "Epoch :  392  loss= 886.198\n",
      "Epoch :  393  loss= 1041.39\n",
      "Epoch :  396  loss= 896.654\n",
      "Epoch :  397  loss= 1286.46\n",
      "Epoch :  448  loss= 1264.94\n",
      "Epoch :  449  loss= 935.355\n",
      "Epoch :  452  loss= 921.945\n",
      "Epoch :  453  loss= 1183.95\n",
      "Epoch :  456  loss= 1402.85\n",
      "Epoch :  457  loss= 1647.58\n",
      "Epoch :  460  loss= 1465.46\n",
      "Epoch :  461  loss= 1117.87\n",
      "Epoch :  512  loss= 1202.37\n",
      "Epoch :  513  loss= 1044.81\n",
      "Epoch :  516  loss= 1337.45\n",
      "Epoch :  517  loss= 1229.86\n",
      "Epoch :  520  loss= 1431.88\n",
      "Epoch :  521  loss= 1505.39\n",
      "Epoch :  524  loss= 1077.54\n",
      "Epoch :  525  loss= 1315.61\n",
      "Epoch :  576  loss= 1153.19\n",
      "Epoch :  577  loss= 1233.13\n",
      "Epoch :  580  loss= 964.956\n",
      "Epoch :  581  loss= 1176.5\n",
      "Epoch :  584  loss= 924.751\n",
      "Epoch :  585  loss= 1014.82\n",
      "Epoch :  588  loss= 619.95\n",
      "Epoch :  589  loss= 1046.51\n",
      "Epoch :  640  loss= 781.394\n",
      "Epoch :  641  loss= 1096.37\n",
      "Epoch :  644  loss= 663.822\n",
      "Epoch :  645  loss= 896.439\n",
      "Epoch :  648  loss= 825.445\n",
      "Epoch :  649  loss= 615.94\n",
      "Epoch :  652  loss= 959.421\n",
      "Epoch :  653  loss= 969.875\n",
      "Epoch :  704  loss= 532.447\n",
      "Epoch :  705  loss= 853.529\n",
      "Epoch :  708  loss= 766.184\n",
      "Epoch :  709  loss= 572.404\n",
      "Epoch :  712  loss= 779.671\n",
      "Epoch :  713  loss= 303.46\n",
      "Epoch :  716  loss= 663.725\n",
      "Epoch :  717  loss= 886.925\n",
      "Epoch :  768  loss= 568.906\n",
      "Epoch :  769  loss= 661.825\n",
      "Epoch :  772  loss= 819.094\n",
      "Epoch :  773  loss= 510.733\n",
      "Epoch :  776  loss= 427.529\n",
      "Epoch :  777  loss= 677.982\n",
      "Epoch :  780  loss= 1121.26\n",
      "Epoch :  781  loss= 984.379\n",
      "Epoch :  832  loss= 530.317\n",
      "Epoch :  833  loss= 597.045\n",
      "Epoch :  836  loss= 593.299\n",
      "Epoch :  837  loss= 620.769\n",
      "Epoch :  840  loss= 822.078\n",
      "Epoch :  841  loss= 676.673\n",
      "Epoch :  844  loss= 403.775\n",
      "Epoch :  845  loss= 447.651\n",
      "Epoch :  896  loss= 468.855\n",
      "Epoch :  897  loss= 435.263\n",
      "Epoch :  900  loss= 745.47\n",
      "Epoch :  901  loss= 642.253\n",
      "Epoch :  904  loss= 577.665\n",
      "Epoch :  905  loss= 406.286\n",
      "Epoch :  908  loss= 430.861\n",
      "Epoch :  909  loss= 541.161\n",
      "Epoch :  960  loss= 384.099\n",
      "Epoch :  961  loss= 996.865\n",
      "Epoch :  964  loss= 767.117\n",
      "Epoch :  965  loss= 531.441\n",
      "Epoch :  968  loss= 386.587\n",
      "Epoch :  969  loss= 739.317\n",
      "Epoch :  972  loss= 506.462\n",
      "Epoch :  973  loss= 741.423\n",
      "Optimization Finishied\n",
      "Testing Accuracy: 0.8261\n"
     ]
    }
   ],
   "source": [
    "init = tf.initialize_all_variables()\n",
    "\n",
    "# Launch the Graph\n",
    "with tf.Session() as sess:\n",
    "    sess.run(init)\n",
    "    \n",
    "    # Train\n",
    "    for epoch in range(1, num_iters+1):\n",
    "        batch_xs, batch_ys = mnist.train.next_batch(batch_size)\n",
    "        # Fit training data\n",
    "        sess.run(optimizer, feed_dict={X: batch_xs, y: batch_ys, dropout: dropout_prob})\n",
    "        \n",
    "        if epoch & 50 == 0:\n",
    "            loss = sess.run(cost, feed_dict={X: batch_xs, y: batch_ys, dropout: 1.})\n",
    "            print(\"Epoch : \", epoch, \" loss=\" , loss)\n",
    "    \n",
    "    print(\"Optimization Finishied\")\n",
    "    \n",
    "    # Test\n",
    "    print(\"Testing Accuracy:\", sess.run(accuracy, feed_dict={X: mnist.test.images, \n",
    "                                                             y: mnist.test.labels, \n",
    "                                                             dropout: 1.}) )"
   ]
  },
  {
   "cell_type": "code",
   "execution_count": null,
   "metadata": {
    "collapsed": true
   },
   "outputs": [],
   "source": []
  },
  {
   "cell_type": "code",
   "execution_count": null,
   "metadata": {
    "collapsed": true
   },
   "outputs": [],
   "source": []
  }
 ],
 "metadata": {
  "kernelspec": {
   "display_name": "Python 3",
   "language": "python",
   "name": "python3"
  },
  "language_info": {
   "codemirror_mode": {
    "name": "ipython",
    "version": 3
   },
   "file_extension": ".py",
   "mimetype": "text/x-python",
   "name": "python",
   "nbconvert_exporter": "python",
   "pygments_lexer": "ipython3",
   "version": "3.5.1"
  }
 },
 "nbformat": 4,
 "nbformat_minor": 0
}
