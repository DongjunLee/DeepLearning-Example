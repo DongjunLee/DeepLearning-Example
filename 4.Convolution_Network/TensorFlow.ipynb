{
 "cells": [
  {
   "cell_type": "markdown",
   "metadata": {},
   "source": [
    "## Reference\n",
    "- [TensorFlow Example - convolution network](https://github.com/aymericdamien/TensorFlow-Examples/blob/master/notebooks/3%20-%20Neural%20Networks/convolutional_network.ipynb)"
   ]
  },
  {
   "cell_type": "code",
   "execution_count": 1,
   "metadata": {
    "collapsed": false
   },
   "outputs": [
    {
     "name": "stderr",
     "output_type": "stream",
     "text": [
      "/Library/Frameworks/Python.framework/Versions/3.5/lib/python3.5/gzip.py:274: VisibleDeprecationWarning: converting an array with ndim > 0 to an index will result in an error in the future\n",
      "  return self._buffer.read(size)\n",
      "/Users/Dongjun/DLselfProjects/4.Convolution_Network/input_data.py:41: VisibleDeprecationWarning: converting an array with ndim > 0 to an index will result in an error in the future\n",
      "  data = data.reshape(num_images, rows, cols, 1)\n"
     ]
    },
    {
     "name": "stdout",
     "output_type": "stream",
     "text": [
      "Extracting ./../data/MNIST/train-images-idx3-ubyte.gz\n",
      "Extracting ./../data/MNIST/train-labels-idx1-ubyte.gz\n",
      "Extracting ./../data/MNIST/t10k-images-idx3-ubyte.gz\n",
      "Extracting ./../data/MNIST/t10k-labels-idx1-ubyte.gz\n"
     ]
    }
   ],
   "source": [
    "import tensorflow as tf\n",
    "import numpy as np\n",
    "import input_data\n",
    "\n",
    "mnist = input_data.read_data_sets(\"./../data/MNIST/\", one_hot=True)"
   ]
  },
  {
   "cell_type": "code",
   "execution_count": 2,
   "metadata": {
    "collapsed": true
   },
   "outputs": [],
   "source": [
    "# Parameters\n",
    "learning_rate = 0.01\n",
    "num_iters = 1000\n",
    "batch_size = 50\n",
    "\n",
    "geometry = [28, 28]\n",
    "classes = [1, 2, 3, 4, 5, 6, 7, 8, 9, 10]\n",
    "num_classes = len(classes)\n",
    "dropout = 0.5"
   ]
  },
  {
   "cell_type": "code",
   "execution_count": 3,
   "metadata": {
    "collapsed": false
   },
   "outputs": [],
   "source": [
    "# Tensor Flow Graph Input\n",
    "X = tf.placeholder(tf.float32, [None, geometry[0]*geometry[1]])\n",
    "y = tf.placeholder(tf.float32, [None, num_classes])\n",
    "keep_prob = tf.placeholder(tf.float32)\n",
    "\n",
    "# Weight & bias\n",
    "# 5x5 conv, 1 input, 32 outputs\n",
    "Wc1 = tf.Variable(tf.random_normal([5, 5, 1, 32]))\n",
    "bc1 = tf.Variable(tf.random_normal([32]))\n",
    "\n",
    "# 5x5 conv, 32 input, 64 outputs\n",
    "Wc2 = tf.Variable(tf.random_normal([5, 5, 32, 64]))\n",
    "bc2 = tf.Variable(tf.random_normal([64]))\n",
    "\n",
    "# Fully connected (Standard 2-layer MLP), 7*7*64 input, 1024 \n",
    "Wf1 = tf.Variable(tf.random_normal([7*7*64, 1024]))\n",
    "bf1 = tf.Variable(tf.random_normal([1024]))\n",
    "\n",
    "Wf2 = tf.Variable(tf.random_normal([1024, num_classes]))\n",
    "bf2 = tf.Variable(tf.random_normal([num_classes]))"
   ]
  },
  {
   "cell_type": "code",
   "execution_count": 4,
   "metadata": {
    "collapsed": false
   },
   "outputs": [],
   "source": [
    "# Convolution Network\n",
    "\n",
    "# Reshape input picture\n",
    "input_X = tf.reshape(X, shape=[-1, 28, 28, 1])\n",
    "\n",
    "# Stage 1 : Convolution -> ReLU -> Max Pooling -> Dropout\n",
    "conv1 = tf.nn.conv2d(input_X, Wc1, strides = [1, 1, 1, 1], padding='SAME')\n",
    "conv1 = tf.nn.relu(tf.nn.bias_add(conv1, bc1))\n",
    "conv1 = tf.nn.max_pool(conv1, ksize=[1, 2, 2, 1], strides = [1, 2, 2, 1], padding='SAME')\n",
    "conv1 = tf.nn.dropout(conv1, dropout)\n",
    "\n",
    "# Stage 2 : Convolution -> ReLU -> Max Pooling -> Dropout\n",
    "conv2 = tf.nn.conv2d(conv1, Wc2, strides = [1, 1, 1, 1], padding='SAME')\n",
    "conv2 = tf.nn.relu(tf.nn.bias_add(conv2, bc2))\n",
    "conv2 = tf.nn.max_pool(conv2, ksize=[1, 2, 2, 1], strides = [1, 2, 2, 1], padding='SAME')\n",
    "conv2 = tf.nn.dropout(conv2, dropout)\n",
    "\n",
    "# Stage 3 : Fully connected : Linear -> ReLU -> Dropout\n",
    "fc1 = tf.reshape(conv2, [-1, Wf1.get_shape().as_list()[0]])\n",
    "fc1 = tf.nn.relu(tf.add(tf.matmul(fc1, Wf1), bf1))\n",
    "fc1 = tf.nn.dropout(fc1, dropout)\n",
    "\n",
    "fc2 = tf.add(tf.matmul(fc1, Wf2), bf2)"
   ]
  },
  {
   "cell_type": "code",
   "execution_count": 5,
   "metadata": {
    "collapsed": true
   },
   "outputs": [],
   "source": [
    "# Loss and Optimizer\n",
    "cost = tf.reduce_mean(tf.nn.softmax_cross_entropy_with_logits(fc2, y))\n",
    "optimizer = tf.train.AdamOptimizer(learning_rate=learning_rate).minimize(cost)\n",
    "\n",
    "# Evaluate model\n",
    "correct_pred = tf.equal(tf.argmax(fc2, 1), tf.argmax(y, 1))\n",
    "accuracy = tf.reduce_mean(tf.cast(correct_pred, tf.float32))"
   ]
  },
  {
   "cell_type": "code",
   "execution_count": 6,
   "metadata": {
    "collapsed": false
   },
   "outputs": [
    {
     "name": "stdout",
     "output_type": "stream",
     "text": [
      "Epoch :  1  loss= 185346.0\n",
      "Epoch :  4  loss= 164579.0\n",
      "Epoch :  5  loss= 175150.0\n",
      "Epoch :  8  loss= 133817.0\n",
      "Epoch :  9  loss= 84569.4\n",
      "Epoch :  12  loss= 98107.3\n",
      "Epoch :  13  loss= 105425.0\n",
      "Epoch :  64  loss= 10524.8\n",
      "Epoch :  65  loss= 19349.1\n",
      "Epoch :  68  loss= 13508.3\n",
      "Epoch :  69  loss= 15865.4\n",
      "Epoch :  72  loss= 11148.6\n",
      "Epoch :  73  loss= 15532.0\n",
      "Epoch :  76  loss= 11028.9\n",
      "Epoch :  77  loss= 8653.56\n",
      "Epoch :  128  loss= 5556.6\n",
      "Epoch :  129  loss= 4090.4\n",
      "Epoch :  132  loss= 6655.88\n",
      "Epoch :  133  loss= 5203.44\n",
      "Epoch :  136  loss= 5853.5\n",
      "Epoch :  137  loss= 5661.03\n",
      "Epoch :  140  loss= 5765.39\n",
      "Epoch :  141  loss= 4887.99\n",
      "Epoch :  192  loss= 4828.13\n",
      "Epoch :  193  loss= 4551.56\n",
      "Epoch :  196  loss= 3747.08\n",
      "Epoch :  197  loss= 6134.83\n",
      "Epoch :  200  loss= 3721.02\n",
      "Epoch :  201  loss= 2605.82\n",
      "Epoch :  204  loss= 4083.76\n",
      "Epoch :  205  loss= 3143.31\n",
      "Epoch :  256  loss= 3494.73\n",
      "Epoch :  257  loss= 2883.45\n",
      "Epoch :  260  loss= 2413.18\n",
      "Epoch :  261  loss= 2585.55\n",
      "Epoch :  264  loss= 2718.13\n",
      "Epoch :  265  loss= 3463.95\n",
      "Epoch :  268  loss= 2284.61\n",
      "Epoch :  269  loss= 4549.88\n",
      "Epoch :  320  loss= 3021.17\n",
      "Epoch :  321  loss= 2599.3\n",
      "Epoch :  324  loss= 2289.23\n",
      "Epoch :  325  loss= 1496.78\n",
      "Epoch :  328  loss= 2798.55\n",
      "Epoch :  329  loss= 2327.7\n",
      "Epoch :  332  loss= 2110.71\n",
      "Epoch :  333  loss= 1870.16\n",
      "Epoch :  384  loss= 1770.96\n",
      "Epoch :  385  loss= 1591.41\n",
      "Epoch :  388  loss= 2008.03\n",
      "Epoch :  389  loss= 2028.84\n",
      "Epoch :  392  loss= 2256.13\n",
      "Epoch :  393  loss= 2497.57\n",
      "Epoch :  396  loss= 2296.91\n",
      "Epoch :  397  loss= 1508.68\n",
      "Epoch :  448  loss= 1362.07\n",
      "Epoch :  449  loss= 1213.12\n",
      "Epoch :  452  loss= 1083.49\n",
      "Epoch :  453  loss= 1486.08\n",
      "Epoch :  456  loss= 571.956\n",
      "Epoch :  457  loss= 1562.89\n",
      "Epoch :  460  loss= 1485.57\n",
      "Epoch :  461  loss= 1123.95\n",
      "Epoch :  512  loss= 1110.51\n",
      "Epoch :  513  loss= 922.345\n",
      "Epoch :  516  loss= 1334.15\n",
      "Epoch :  517  loss= 1893.05\n",
      "Epoch :  520  loss= 1600.11\n",
      "Epoch :  521  loss= 1067.69\n",
      "Epoch :  524  loss= 1062.02\n",
      "Epoch :  525  loss= 903.474\n",
      "Epoch :  576  loss= 849.914\n",
      "Epoch :  577  loss= 1204.34\n",
      "Epoch :  580  loss= 973.45\n",
      "Epoch :  581  loss= 1409.37\n",
      "Epoch :  584  loss= 465.715\n",
      "Epoch :  585  loss= 733.797\n",
      "Epoch :  588  loss= 1117.06\n",
      "Epoch :  589  loss= 1065.68\n",
      "Epoch :  640  loss= 658.738\n",
      "Epoch :  641  loss= 911.852\n",
      "Epoch :  644  loss= 1430.53\n",
      "Epoch :  645  loss= 381.763\n",
      "Epoch :  648  loss= 1174.45\n",
      "Epoch :  649  loss= 990.921\n",
      "Epoch :  652  loss= 1152.48\n",
      "Epoch :  653  loss= 1105.75\n",
      "Epoch :  704  loss= 544.44\n",
      "Epoch :  705  loss= 440.797\n",
      "Epoch :  708  loss= 947.502\n",
      "Epoch :  709  loss= 264.565\n",
      "Epoch :  712  loss= 1022.65\n",
      "Epoch :  713  loss= 915.847\n",
      "Epoch :  716  loss= 840.885\n",
      "Epoch :  717  loss= 665.383\n",
      "Epoch :  768  loss= 489.061\n",
      "Epoch :  769  loss= 656.702\n",
      "Epoch :  772  loss= 885.52\n",
      "Epoch :  773  loss= 552.145\n",
      "Epoch :  776  loss= 461.506\n",
      "Epoch :  777  loss= 914.782\n",
      "Epoch :  780  loss= 1085.34\n",
      "Epoch :  781  loss= 837.098\n",
      "Epoch :  832  loss= 424.258\n",
      "Epoch :  833  loss= 783.954\n",
      "Epoch :  836  loss= 430.225\n",
      "Epoch :  837  loss= 918.591\n",
      "Epoch :  840  loss= 661.227\n",
      "Epoch :  841  loss= 1023.11\n",
      "Epoch :  844  loss= 796.696\n",
      "Epoch :  845  loss= 1222.59\n",
      "Epoch :  896  loss= 674.699\n",
      "Epoch :  897  loss= 885.364\n",
      "Epoch :  900  loss= 601.393\n",
      "Epoch :  901  loss= 1014.08\n",
      "Epoch :  904  loss= 546.064\n",
      "Epoch :  905  loss= 846.125\n",
      "Epoch :  908  loss= 1079.96\n",
      "Epoch :  909  loss= 1165.52\n",
      "Epoch :  960  loss= 736.681\n",
      "Epoch :  961  loss= 493.621\n",
      "Epoch :  964  loss= 656.594\n",
      "Epoch :  965  loss= 691.769\n",
      "Epoch :  968  loss= 538.594\n",
      "Epoch :  969  loss= 576.113\n",
      "Epoch :  972  loss= 440.301\n",
      "Epoch :  973  loss= 863.72\n",
      "Optimization Finishied\n",
      "Testing Accuracy: 0.7586\n"
     ]
    }
   ],
   "source": [
    "init = tf.initialize_all_variables()\n",
    "\n",
    "# Launch the Graph\n",
    "with tf.Session() as sess:\n",
    "    sess.run(init)\n",
    "    \n",
    "    # Train\n",
    "    for epoch in range(1, num_iters+1):\n",
    "        batch_xs, batch_ys = mnist.train.next_batch(batch_size)\n",
    "        # Fit training data\n",
    "        sess.run(optimizer, feed_dict={X: batch_xs, y: batch_ys, keep_prob: dropout})\n",
    "        \n",
    "        if epoch & 50 == 0:\n",
    "            loss = sess.run(cost, feed_dict={X: batch_xs, y: batch_ys, keep_prob: 1.})\n",
    "            print(\"Epoch : \", epoch, \" loss=\" , loss)\n",
    "    \n",
    "    print(\"Optimization Finishied\")\n",
    "    \n",
    "    # Test\n",
    "    print(\"Testing Accuracy:\", sess.run(accuracy, feed_dict={X: mnist.test.images, \n",
    "                                                             y: mnist.test.labels, \n",
    "                                                             keep_prob: 1.}) )"
   ]
  },
  {
   "cell_type": "code",
   "execution_count": null,
   "metadata": {
    "collapsed": true
   },
   "outputs": [],
   "source": []
  }
 ],
 "metadata": {
  "kernelspec": {
   "display_name": "Python 3",
   "language": "python",
   "name": "python3"
  },
  "language_info": {
   "codemirror_mode": {
    "name": "ipython",
    "version": 3
   },
   "file_extension": ".py",
   "mimetype": "text/x-python",
   "name": "python",
   "nbconvert_exporter": "python",
   "pygments_lexer": "ipython3",
   "version": "3.5.1"
  }
 },
 "nbformat": 4,
 "nbformat_minor": 0
}
